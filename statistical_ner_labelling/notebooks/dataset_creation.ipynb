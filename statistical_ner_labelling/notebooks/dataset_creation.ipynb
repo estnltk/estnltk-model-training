{
 "cells": [
  {
   "cell_type": "markdown",
   "id": "4d58fe0d",
   "metadata": {
    "pycharm": {
     "name": "#%% md\n"
    }
   },
   "source": [
    "## Dataset creation by synthesizing all possible forms"
   ]
  },
  {
   "cell_type": "code",
   "execution_count": 17,
   "id": "91f895ee",
   "metadata": {
    "pycharm": {
     "name": "#%%\n"
    }
   },
   "outputs": [],
   "source": [
    "from estnltk.vabamorf.morf import synthesize\n",
    "from estnltk import Text"
   ]
  },
  {
   "cell_type": "code",
   "execution_count": 7,
   "id": "ae3bbd7b",
   "metadata": {
    "pycharm": {
     "name": "#%%\n"
    }
   },
   "outputs": [],
   "source": [
    "cases = [\n",
    "    ('n', 'nimetav'),\n",
    "    ('g', 'omastav'),\n",
    "    ('p', 'osastav'),\n",
    "    ('ill', 'sisseütlev'),\n",
    "    ('in', 'seesütlev'),\n",
    "    ('el', 'seestütlev'),\n",
    "    ('all', 'alaleütlev'),\n",
    "    ('ad', 'alalütlev'),\n",
    "    ('abl', 'alaltütlev'),\n",
    "    ('tr', 'saav'),\n",
    "    ('ter', 'rajav'),\n",
    "    ('es', 'olev'),\n",
    "    ('ab', 'ilmaütlev'),\n",
    "    ('kom', 'kaasaütlev')]"
   ]
  },
  {
   "cell_type": "code",
   "execution_count": 9,
   "id": "d2ff5831",
   "metadata": {
    "pycharm": {
     "name": "#%%\n"
    }
   },
   "outputs": [],
   "source": [
    "word = 'jõgi'\n",
    "all_forms = []\n",
    "for case, name in cases:\n",
    "    all_forms.append(', '.join(synthesize(word, 'sg ' + case, 'S')))\n",
    "    all_forms.append(', '.join(synthesize(word, 'pl ' + case, 'S')))"
   ]
  },
  {
   "cell_type": "code",
   "execution_count": 10,
   "id": "86293c0c",
   "metadata": {
    "pycharm": {
     "name": "#%%\n"
    }
   },
   "outputs": [
    {
     "data": {
      "text/plain": [
       "['jõgi',\n",
       " 'jõed',\n",
       " 'jõe',\n",
       " 'jõgede',\n",
       " 'jõge',\n",
       " 'jõgesid',\n",
       " 'jõesse',\n",
       " 'jõgedesse',\n",
       " 'jões',\n",
       " 'jõgedes',\n",
       " 'jõest',\n",
       " 'jõgedest',\n",
       " 'jõele',\n",
       " 'jõgedele',\n",
       " 'jõel',\n",
       " 'jõgedel',\n",
       " 'jõelt',\n",
       " 'jõgedelt',\n",
       " 'jõeks',\n",
       " 'jõgedeks',\n",
       " 'jõeni',\n",
       " 'jõgedeni',\n",
       " 'jõena',\n",
       " 'jõgedena',\n",
       " 'jõeta',\n",
       " 'jõgedeta',\n",
       " 'jõega',\n",
       " 'jõgedega']"
      ]
     },
     "execution_count": 10,
     "metadata": {},
     "output_type": "execute_result"
    }
   ],
   "source": [
    "all_forms"
   ]
  },
  {
   "cell_type": "code",
   "execution_count": 12,
   "id": "bd5c96f9",
   "metadata": {
    "pycharm": {
     "name": "#%%\n"
    }
   },
   "outputs": [],
   "source": [
    "from estnltk.taggers.system.rule_taggers import Ruleset, StaticExtractionRule\n",
    "\n",
    "#create a ruleset from list\n",
    "def list_to_ruleset(rule_list, len_check=None):\n",
    "    ruleset = Ruleset()\n",
    "    for word in rule_list:\n",
    "        rule = StaticExtractionRule(pattern=word)\n",
    "        ruleset.add_rules([rule])\n",
    "    return ruleset"
   ]
  },
  {
   "cell_type": "code",
   "execution_count": 13,
   "id": "6aef8106",
   "metadata": {
    "pycharm": {
     "name": "#%%\n"
    }
   },
   "outputs": [],
   "source": [
    "ruleset = list_to_ruleset(all_forms)"
   ]
  },
  {
   "cell_type": "code",
   "execution_count": 21,
   "id": "e62dd2f0",
   "metadata": {
    "pycharm": {
     "name": "#%%\n"
    }
   },
   "outputs": [],
   "source": [
    "joe_wiki = Text('''Jõgi saab alguse ülemjooksul (tihti on neid rohkem kui üks), kulgeb mööda rada või kanalit ning lõpeb suudmes või suudmetes. Kanal moodustub jõesängist kallaste vahel. Suuremate jõgede juures moodustub tihti lammiala, mida kujundavad üleujutused. Võrreldes jõekanaliga võib lammiala olla väga lai. Jõekanali ning lammiala linnades eristamine võib olla keerukas, kuna lammiala mõjutavad oluliselt elamud ning tööstus.\n",
    "\n",
    "Jõed võivad voolata mägedest alla, läbi orgude või piki tasandikke ning moodustada kanjoneid või mäekurusid. Mõiste „ülesvoolu“ viitab jõe ülemjooksu suuna poole ehk voolusuunale vastu. Mõiste „allavoolu“ kirjeldab suunda suudme poole ehk vee liikumise suunda. Kui seista keset jõge või jõe kohal ja vaadata jõevoolu suunas ehk allavoolu, jääb vasak kallas vasakule ja parem kallas paremale. Jõekanalis voolab vesi tavaliselt ühe joana, kuid mõned jõed voolavad mitme omavahel ühenduses oleva joana, moodustades põimitud jõe. Neid esineb erosioonist mõjutatud tasasel maal ja mõningates suurtes jõe deltades.\n",
    "\n",
    "Jõekanali kuju ning vormi muudab voolavast veest tulenev energia. Saksa hüdroloog Albert Brahms täheldas 1757. aastal, et jõge ärakantavate objektide veealune kaal on proportsionaalne jõe voolukiirusega kuuendas astmes.[3] Seda sõnastust nimetatakse mõnikord ka Airy seaduseks.[4] Seega, voolukiiruse kahekordistamisel suudaks vool paigast liigutada objekte, mille veealune kaal on 64 korda suurem. Seda võib näha erosioonikanalitena kõvades kivimites ning suurte kivide lõhkumisel liivaks ja kruusaks mägistel ning kärestikulistel aladel.\n",
    "\n",
    "Keskjooksul voolab jõgi kurviliselt tasasemal alal, kus kurvi väliskaldale mõjub erosioon ning kurvi sisekaldale sadestus, mis võib põhjustada meandrite moodustumist. Meandri eraldumisel tekib soot. Suurel hulgal setteid kandvatel jõgedel võib areneda suudmesse silmapaistev delta. Soolases merevees paikneva suudmega jõgedel võib moodustuda lehtersuue.\n",
    "\n",
    "Allavoolu liikuv veehulk on kombinatsioon vaba vee hulgast ja märkimisväärsest hulgast veest, mis voolab läbi jõe ja selle lammi aluseks oleva aluspinna kivimite ja kruusa. Paljude suurtes orgudes voolavate jõgede puhul võib see silmale nähtamatu komponent ületada nähtava vooluhulga.\n",
    "\n",
    "Maa-alused ojad\n",
    "Maa-alused jõed voolavad maa all paiknevates koobastes või tühimikes. Selliseid jõgesid leidub sageli regioonides, kus esineb lubjakivist geoloogilisi moodustisi. Jääalused ojad on põimunud jõed, mis voolavad liustike ja jääkatte sängides, takistades sulavetel liustike ees välja voolata. Liustike kaalust tuleneva survegradiendi tõttu suudavad sellised ojad isegi mäest üles voolata.\n",
    "\n",
    "Veevoolu kestus\n",
    "Katkendliku vooluga jõgi voolab vaid vahetevahel ning võib aastaid olla kuiv. Neid jõgesid leidub piiratud või väga varieeruvate sademetega regioonides. Sellised jõed võivad esineda ka geoloogilistel põhjustel nagu ülimalt läbilaskev jõesäng. Osa katkendliku vooluga jõgesid voolab vaid suvekuudel. Humiidse kliimaga regioonides, kus vool saab alguse väikestest harudest, liigub voolu alguskoht üldiselt ülesvoolu, kui sademete hulk on suur, ja allavoolu sademete puudumisel või kui aktiivne suvine taimestik kasutab vett evapotranspiratsiooniks. Suurte rahetormide tagajärjel tekkinud sulavesi võib tekitada mudast vett ja pinnast, millest moodustuvad ajutised jõed.[5]\n",
    "\n",
    "Jõgede liigitamine\n",
    "Jõgesid liigitatakse mitme kriteeriumi põhjal:\n",
    "\n",
    "topograafia,\n",
    "biootiline seis,\n",
    "laevatatavus.\n",
    "Topograafia\n",
    "Jõgesid liigitatakse uhtelisteks, aluskivimilisteks ja nende mõlema kombinatsiooniks. Uhtelised jõed on sobivate tegurite olemasolul iseenesliku tekkega. Näiteks pehme ja lõimumata pinnas ja allikate või pinnasevee kogumiskraavide rohkus. Vee vool hakkab sellistes kohtades pinnast erodeerima ja jõe kaldaid kujundama. Vesi otsib teed järjest madalamale ja pehmemale pinnasele. Aluskivimile tekkinud jõed kulgevad mööda looduslikke õõnsusi, näiteks orgusid, kus aluskivimi kiht on maapinnale palju lähemal. Jõgesid, mis voolavad mõlemat liiki pinnasel, nimetatakse uhtelise ja aluskivimilise jõe kombinatsiooniks.\n",
    "\n",
    "20. sajandi alguses klassifitseeris William Morris Davis jõgesid nende vanuse järgi. Alates 1950. aastatest hakati seda teooriat kritiseerima ja selle kasutamine lõpetati. Geomorfoloogid ei pidanud tema hüpoteese reaalseteks ja testitavateks ning nimetasid Davise süsteemi mitteteaduslikuks.[6]\n",
    "\n",
    "Davise süsteem\n",
    "\n",
    "Noor jõgi – suure languga, kitsas, sügav ja kiire vooluga jõgi. Toimub põhjaerosioon. Näiteks Võhandu jõgi.\n",
    "Küps jõgi – laugem, laiem ja aeglasema vooluga kui noor jõgi. Toimub kallaste erosioon. Sinna voolavad sisse ka teised vooluveekogud. Näiteks Pärnu jõgi.\n",
    "Vana jõgi – väga väikse languga, erodeerumisprotsessi ei toimu, voolu kiirus aeglane. Suured üleujutuste alad. Näiteks Tigris või Indus.\n",
    "Noorenenud jõgi – jõgi, mille lang on suurenenud pinnase kerkimise tõttu. Näiteks Colorado jõgi Suures kanjonis.\n",
    "\n",
    "Palgiparvetus Soomes 1938. aastal\n",
    "Biootiline seis\n",
    "Biootilist seisundit hinnatakse mitme süsteemiga, mis jagavad jõed kõige oligotroofsematest või vähem saastunutest kuni kõige eutroofsemate või saastunuteni.[7] Euroopas on veepoliitika direktiivid viinud vajaduseni töötada välja palju klassifitseerimismeetodeid, mis hõlmavad ka kalade paiknemist jões.[8] Prantsuse keelt kõnelevates piirkondades kasutatakse süsteemi, mis jagab jõe kolmeks tsooniks:\n",
    "\n",
    "Crenon – jõe lähtele kõige lähemal asuv ala, madal veetemperatuur, hapnikuvaene ja aeglaselt voolav vesi.\n",
    "Thithron – küllaltki madal veetemperatuur, hapnikurikas ja kiire vooluga vesi.\n",
    "Potamon – soojem temperatuur, hapnikuvaene ja aeglane vool, liivane põhi.\n",
    "Laevatatavus\n",
    "Hindamisel kasutatakse rahvusvahelist jõgede laevatatavuse skaalat. Esimene klass on kõige lihtsamini laevatatav ning kuues klass kõige raskemini. Esimese klassi jõed on aeglase vooluga ning ilma takistusteta. Kuuenda klassi jõed on väga kiire vooluga, kärestikulised, koskedega, suurte takistustega ja raskesti läbitavad.[9]\n",
    "\n",
    "Jõgede kasutusalad\n",
    "\n",
    "Koluvere mõisa turbiinihoone. Algselt vesiveskiks ehitatud hoonet täiendati 20. sajandi algul uusgooti stiilis elektrijaamaga\n",
    "Inimkonna algusest alates on jõed olnud elutähtsad. Inimesed elasid veekogu ääres, sest see pakkus neile sööki, jooki ja pesemisvõimalust. Ürg- ja vanaajal, kui maanteed olid algelised ja kiired transpordivahendid puudusid, olid jõed olulised liikumisteed. See sõltub küll piirkonnast, kuid alles keskajal arenes Euroopas maanteevõrk nii heaks, et jõed kaotasid oma tähtsuse põhilise liikumisteena.\n",
    "\n",
    "Jõe vee jõudu hakati kasutama juba 2000 aastat tagasi inimese töö lihtsustamiseks. Esmalt kasutati seda viljast jahu saamiseks ja puude saagimiseks. Hiljem juba kaevandustes ja tööstuses.[10] Jõgede vooluvett kasutatakse siiani elektri tootmiseks, kuid selle efektiivsus on palju väiksem kui teistel alternatiividel. Hüdroenergia tootmine on väga kallis ja maailmas on väga vähe sobivaid kohti, kus saaks energiat tõhusalt toota.\n",
    "\n",
    "Maailma jõed\n",
    "Maailma veerohkeim ja suurima valglaga jõgi on Amazonas. Kõige pikemaks jõeks on sajandeid peetud Niilust, aga viimaste aastate uurimused on näidanud, et Amazonas on pikem. Siiski pole see seisukoht üheselt tunnustatud.\n",
    "\n",
    "Eesti jõed\n",
    "\n",
    "Võhandu jõgi, mille ääres on Viira veskimüür. Võhandu on pikim täielikult Eesti territooriumil asuv jõgi\n",
    "Next.svg Pikemalt artiklites Eesti jõed ja Eesti jõgede loend\n",
    "Eesti pikim jõgi on Võhandu jõgi. Veerohkeim ja suurima valglaga on Narva jõgi, mis kuulub küpsete jõgede klassi. Peale Narva jõe kuulub samasse klassi veel Suur-Emajõgi, mis on ainsana täies pikkuses laevatatav. Ainukesena voolab nelja maakonna piires Põltsamaa jõgi.''')"
   ]
  },
  {
   "cell_type": "code",
   "execution_count": 22,
   "id": "bb87d3b3",
   "metadata": {
    "pycharm": {
     "name": "#%%\n"
    }
   },
   "outputs": [
    {
     "data": {
      "text/html": [
       "<table border=\"1\" class=\"dataframe\">\n",
       "  <thead>\n",
       "    <tr style=\"text-align: right;\">\n",
       "      <th>text</th>\n",
       "    </tr>\n",
       "  </thead>\n",
       "  <tbody>\n",
       "    <tr>\n",
       "      <td><div align = \"left\">Jõgi saab alguse ülemjooksul (tihti on neid rohkem kui üks), kulgeb mööda rada või kanalit ning lõpeb suudmes või suudmetes. Kanal moodustub jõesängist kallaste vahel. Suuremate jõgede juures moodustub tihti lammiala, mida kujundavad üleujutused. Võrreldes jõekanaliga võib lammiala olla väga lai. Jõekanali ning lammiala linnades eristamine võib olla keerukas, kuna lammiala mõjutavad oluliselt elamud ning tööstus.</br></br>Jõed võivad voolata mägedest alla, läbi orgude või piki tasandikke ning moodustada kanjoneid või mäekurusid. Mõiste „ülesvoolu“ viitab jõe ülemjooksu suuna poole ehk voolusuunale vastu. Mõiste „allavoolu“ kirjeldab suunda suudme poole ehk vee liikumise suunda. Kui seista keset jõge või jõe kohal ja vaadata jõevoolu suunas ehk allavoolu, jääb vasak kallas vasakule ja parem kallas paremale. Jõekanalis voolab vesi tavaliselt ühe joana, kuid mõned jõed voolavad mitme omavahel ühenduses oleva joana, moodustades põimitud jõe. Neid esineb erosioonist mõjutatud tasasel maal ja mõningates suurtes jõe deltades.</br></br>Jõekanali kuju ning vormi muudab voolavast veest tulenev energia. Saksa hüdroloog Albert Brahms täheldas 1757. aastal, et jõge ärakantavate objektide veealune kaal on proportsionaalne jõe voolukiirusega kuuendas astmes.[3] Seda sõnastust nimetatakse mõnikord ka Airy seaduseks.[4] Seega, voolukiiruse kahekordistamisel suudaks vool paigast liigutada objekte, mille veealune kaal on 64 korda suurem. Seda võib näha erosioonikanalitena kõvades kivimites ning suurte kivide lõhkumisel liivaks ja kruusaks mägistel ning kärestikulistel aladel.</br></br>Keskjooksul voolab jõgi kurviliselt tasasemal alal, kus kurvi väliskaldale mõjub erosioon ning kurvi sisekaldale sadestus, mis võib põhjustada meandrite moodustumist. Meandri eraldumisel tekib soot. Suurel hulgal setteid kandvatel jõgedel võib areneda suudmesse silmapaistev delta. Soolases merevees paikneva suudmega jõgedel võib moodustuda lehtersuue.</br></br>Allavoolu liikuv veehulk on kombinatsioon vaba vee hulgast ja märkimisväärsest hulgast veest, mis voolab läbi jõe ja selle lammi aluseks oleva aluspinna kivimite ja kruusa. Paljude suurtes orgudes voolavate jõgede puhul võib see silmale nähtamatu komponent ületada nähtava vooluhulga.</br></br>Maa-alused ojad</br>Maa-alused jõed voolavad maa all paiknevates koobastes või tühimikes. Selliseid jõgesid leidub sageli regioonides, kus esineb lubjakivist geoloogilisi moodustisi. Jääalused ojad on põimunud jõed, mis voolavad liustike ja jääkatte sängides, takistades sulavetel liustike ees välja voolata. Liustike kaalust tuleneva survegradiendi tõttu suudavad sellised ojad isegi mäest üles voolata.</br></br>Veevoolu kestus</br>Katkendliku vooluga jõgi voolab vaid vahetevahel ning võib aastaid olla kuiv. Neid jõgesid leidub piiratud või väga varieeruvate sademetega regioonides. Sellised jõed võivad esineda ka geoloogilistel põhjustel nagu ülimalt läbilaskev jõesäng. Osa katkendliku vooluga jõgesid voolab vaid suvekuudel. Humiidse kliimaga regioonides, kus vool saab alguse väikestest harudest, liigub voolu alguskoht üldiselt ülesvoolu, kui sademete hulk on suur, ja allavoolu sademete puudumisel või kui aktiivne suvine taimestik kasutab vett evapotranspiratsiooniks. Suurte rahetormide tagajärjel tekkinud sulavesi võib tekitada mudast vett ja pinnast, millest moodustuvad ajutised jõed.[5]</br></br>Jõgede liigitamine</br>Jõgesid liigitatakse mitme kriteeriumi põhjal:</br></br>topograafia,</br>biootiline seis,</br>laevatatavus.</br>Topograafia</br>Jõgesid liigitatakse uhtelisteks, aluskivimilisteks ja nende mõlema kombinatsiooniks. Uhtelised jõed on sobivate tegurite olemasolul iseenesliku tekkega. Näiteks pehme ja lõimumata pinnas ja allikate või pinnasevee kogumiskraavide rohkus. Vee vool hakkab sellistes kohtades pinnast erodeerima ja jõe kaldaid kujundama. Vesi otsib teed järjest madalamale ja pehmemale pinnasele. Aluskivimile tekkinud jõed kulgevad mööda looduslikke õõnsusi, näiteks orgusid, kus aluskivimi kiht on maapinnale palju lähemal. Jõgesid, mis voolavad mõlemat liiki pinnasel, nimetatakse uhtelise ja aluskivimilise jõe kombinatsiooniks.</br></br>20. sajandi alguses klassifitseeris William Morris Davis jõgesid nende vanuse järgi. Alates 1950. aastatest hakati seda teooriat kritiseerima ja selle kasutamine lõpetati. Geomorfoloogid ei pidanud tema hüpoteese reaalseteks ja testitavateks ning nimetasid Davise süsteemi mitteteaduslikuks.[6]</br></br>Davise süsteem</br></br>Noor jõgi – suure languga, kitsas, sügav ja kiire vooluga jõgi. Toimub põhjaerosioon. Näiteks Võhandu jõgi.</br>Küps jõgi – laugem, laiem ja aeglasema vooluga kui noor jõgi. Toimub kallaste erosioon. Sinna voolavad sisse ka teised vooluveekogud. Näiteks Pärnu jõgi.</br>Vana jõgi – väga väikse languga, erodeerumisprotsessi ei toimu, voolu kiirus aeglane. Suured üleujutuste alad. Näiteks Tigris või Indus.</br>Noorenenud jõgi – jõgi, mille lang on suurenenud pinnase kerkimise tõttu. Näiteks Colorado jõgi Suures kanjonis.</br></br>Palgiparvetus Soomes 1938. aastal</br>Biootiline seis</br>Biootilist seisundit hinnatakse mitme süsteemiga, mis jagavad jõed kõige oligotroofsematest või vähem saastunutest kuni kõige eutroofsemate või saastunuteni.[7] Euroopas on veepoliitika direktiivid viinud vajaduseni töötada välja palju klassifitseerimismeetodeid, mis hõlmavad ka kalade paiknemist jões.[8] Prantsuse keelt kõnelevates piirkondades kasutatakse süsteemi, mis jagab jõe kolmeks tsooniks:</br></br>Crenon – jõe lähtele kõige lähemal asuv ala, madal veetemperatuur, hapnikuvaene ja aeglaselt voolav vesi.</br>Thithron – küllaltki madal veetemperatuur, hapnikurikas ja kiire vooluga vesi.</br>Potamon – soojem temperatuur, hapnikuvaene ja aeglane vool, liivane põhi.</br>Laevatatavus</br>Hindamisel kasutatakse rahvusvahelist jõgede laevatatavuse skaalat. Esimene klass on kõige lihtsamini laevatatav ning kuues klass kõige raskemini. Esimese klassi jõed on aeglase vooluga ning ilma takistusteta. Kuuenda klassi jõed on väga kiire vooluga, kärestikulised, koskedega, suurte takistustega ja raskesti läbitavad.[9]</br></br>Jõgede kasutusalad</br></br>Koluvere mõisa turbiinihoone. Algselt vesiveskiks ehitatud hoonet täiendati 20. sajandi algul uusgooti stiilis elektrijaamaga</br>Inimkonna algusest alates on jõed olnud elutähtsad. Inimesed elasid veekogu ääres, sest see pakkus neile sööki, jooki ja pesemisvõimalust. Ürg- ja vanaajal, kui maanteed olid algelised ja kiired transpordivahendid puudusid, olid jõed olulised liikumisteed. See sõltub küll piirkonnast, kuid alles keskajal arenes Euroopas maanteevõrk nii heaks, et jõed kaotasid oma tähtsuse põhilise liikumisteena.</br></br>Jõe vee jõudu hakati kasutama juba 2000 aastat tagasi inimese töö lihtsustamiseks. Esmalt kasutati seda viljast jahu saamiseks ja puude saagimiseks. Hiljem juba kaevandustes ja tööstuses.[10] Jõgede vooluvett kasutatakse siiani elektri tootmiseks, kuid selle efektiivsus on palju väiksem kui teistel alternatiividel. Hüdroenergia tootmine on väga kallis ja maailmas on väga vähe sobivaid kohti, kus saaks energiat tõhusalt toota.</br></br>Maailma jõed</br>Maailma veerohkeim ja suurima valglaga jõgi on Amazonas. Kõige pikemaks jõeks on sajandeid peetud Niilust, aga viimaste aastate uurimused on näidanud, et Amazonas on pikem. Siiski pole see seisukoht üheselt tunnustatud.</br></br>Eesti jõed</br></br>Võhandu jõgi, mille ääres on Viira veskimüür. Võhandu on pikim täielikult Eesti territooriumil asuv jõgi</br>Next.svg Pikemalt artiklites Eesti jõed ja Eesti jõgede loend</br>Eesti pikim jõgi on Võhandu jõgi. Veerohkeim ja suurima valglaga on Narva jõgi, mis kuulub küpsete jõgede klassi. Peale Narva jõe kuulub samasse klassi veel Suur-Emajõgi, mis on ainsana täies pikkuses laevatatav. Ainukesena voolab nelja maakonna piires Põltsamaa jõgi.</div></td>\n",
       "    </tr>\n",
       "  </tbody>\n",
       "</table>\n",
       "<table border=\"1\" class=\"dataframe\">\n",
       "  <thead>\n",
       "    <tr style=\"text-align: right;\">\n",
       "      <th>layer name</th>\n",
       "      <th>attributes</th>\n",
       "      <th>parent</th>\n",
       "      <th>enveloping</th>\n",
       "      <th>ambiguous</th>\n",
       "      <th>span count</th>\n",
       "    </tr>\n",
       "  </thead>\n",
       "  <tbody>\n",
       "    <tr>\n",
       "      <td>terms</td>\n",
       "      <td></td>\n",
       "      <td>None</td>\n",
       "      <td>None</td>\n",
       "      <td>True</td>\n",
       "      <td>78</td>\n",
       "    </tr>\n",
       "  </tbody>\n",
       "</table>"
      ],
      "text/plain": [
       "Text(text='Jõgi saab alguse ülemjooksul (tihti on neid rohkem kui üks), kulgeb mööda rada või kanalit ning lõpeb suudmes või suudmetes. Kanal moodustub jõesängist kallaste vahel. Suuremate jõgede juures moodustub tihti lammiala, mida kujundavad üleujutused. Võrreldes jõekanaliga võib lammiala olla väga lai. Jõekanali ning lammiala linnades eristamine võib olla keerukas, kuna lammiala mõjutavad oluliselt elamud ning tööstus.\\n\\nJõed võivad voolata mägedest alla, läbi orgude või piki tasandikke ning moodustada kanjoneid või mäekurusid. Mõiste „ülesvoolu“ viitab jõe ülemjooksu suuna poole ehk voolusuunale vastu. Mõiste „allavoolu“ kirjeldab suunda suudme poole ehk vee liikumise suunda. Kui seista keset jõge või jõe kohal ja vaadata jõevoolu suunas ehk allavoolu, jääb vasak kallas vasakule ja parem kallas paremale. Jõekanalis voolab vesi tavaliselt ühe joana, kuid mõned jõed voolavad mitme omavahel ühenduses oleva joana, moodustades põimitud jõe. Neid esineb erosioonist mõjutatud tasasel maal ja mõningates suurtes jõe deltades.\\n\\nJõekanali kuju ning vormi muudab voolavast veest tulenev energia. Saksa hüdroloog Albert Brahms täheldas 1757. aastal, et jõge ärakantavate objektide veealune kaal on proportsionaalne jõe voolukiirusega kuuendas astmes.[3] Seda sõnastust nimetatakse mõnikord ka Airy seaduseks.[4] Seega, voolukiiruse kahekordistamisel suudaks vool paigast liigutada objekte, mille veealune kaal on 64 korda suurem. Seda võib näha erosioonikanalitena kõvades kivimites ning suurte kivide lõhkumisel liivaks ja kruusaks mägistel ning kärestikulistel aladel.\\n\\nKeskjooksul voolab jõgi kurviliselt tasasemal alal, kus kurvi väliskaldale mõjub erosioon ning kurvi sisekaldale sadestus, mis võib põhjustada meandrite moodustumist. Meandri eraldumisel tekib soot. Suurel hulgal setteid kandvatel jõgedel võib areneda suudmesse silmapaistev delta. Soolases merevees paikneva suudmega jõgedel võib moodustuda lehtersuue.\\n\\nAllavoolu liikuv veehulk on kombinatsioon vaba vee hulgast ja märkimisväärsest hulgast veest, mis voolab läbi jõe ja selle lammi aluseks oleva aluspinna kivimite ja kruusa. Paljude suurtes orgudes voolavate jõgede puhul võib see silmale nähtamatu komponent ületada nähtava vooluhulga.\\n\\nMaa-alused ojad\\nMaa-alused jõed voolavad maa all paiknevates koobastes või tühimikes. Selliseid jõgesid leidub sageli regioonides, kus esineb lubjakivist geoloogilisi moodustisi. Jääalused ojad on põimunud jõed, mis voolavad liustike ja jääkatte sängides, takistades sulavetel liustike ees välja voolata. Liustike kaalust tuleneva survegradiendi tõttu suudavad sellised ojad isegi mäest üles voolata.\\n\\nVeevoolu kestus\\nKatkendliku vooluga jõgi voolab vaid vahetevahel ning võib aastaid olla kuiv. Neid jõgesid leidub piiratud või väga varieeruvate sademetega regioonides. Sellised jõed võivad esineda ka geoloogilistel põhjustel nagu ülimalt läbilaskev jõesäng. Osa katkendliku vooluga jõgesid voolab vaid suvekuudel. Humiidse kliimaga regioonides, kus vool saab alguse väikestest harudest, liigub voolu alguskoht üldiselt ülesvoolu, kui sademete hulk on suur, ja allavoolu sademete puudumisel või kui aktiivne suvine taimestik kasutab vett evapotranspiratsiooniks. Suurte rahetormide tagajärjel tekkinud sulavesi võib tekitada mudast vett ja pinnast, millest moodustuvad ajutised jõed.[5]\\n\\nJõgede liigitamine\\nJõgesid liigitatakse mitme kriteeriumi põhjal:\\n\\ntopograafia,\\nbiootiline seis,\\nlaevatatavus.\\nTopograafia\\nJõgesid liigitatakse uhtelisteks, aluskivimilisteks ja nende mõlema kombinatsiooniks. Uhtelised jõed on sobivate tegurite olemasolul iseenesliku tekkega. Näiteks pehme ja lõimumata pinnas ja allikate või pinnasevee kogumiskraavide rohkus. Vee vool hakkab sellistes kohtades pinnast erodeerima ja jõe kaldaid kujundama. Vesi otsib teed järjest madalamale ja pehmemale pinnasele. Aluskivimile tekkinud jõed kulgevad mööda looduslikke õõnsusi, näiteks orgusid, kus aluskivimi kiht on maapinnale palju lähemal. Jõgesid, mis voolavad mõlemat liiki pinnasel, nimetatakse uhtelise ja aluskivimilise jõe kombinatsiooniks.\\n\\n20. sajandi alguses klassifitseeris William Morris Davis jõgesid nende vanuse järgi. Alates 1950. aastatest hakati seda teooriat kritiseerima ja selle kasutamine lõpetati. Geomorfoloogid ei pidanud tema hüpoteese reaalseteks ja testitavateks ning nimetasid Davise süsteemi mitteteaduslikuks.[6]\\n\\nDavise süsteem\\n\\nNoor jõgi – suure languga, kitsas, sügav ja kiire vooluga jõgi. Toimub põhjaerosioon. Näiteks Võhandu jõgi.\\nKüps jõgi – laugem, laiem ja aeglasema vooluga kui noor jõgi. Toimub kallaste erosioon. Sinna voolavad sisse ka teised vooluveekogud. Näiteks Pärnu jõgi.\\nVana jõgi – väga väikse languga, erodeerumisprotsessi ei toimu, voolu kiirus aeglane. Suured üleujutuste alad. Näiteks Tigris või Indus.\\nNoorenenud jõgi – jõgi, mille lang on suurenenud pinnase kerkimise tõttu. Näiteks Colorado jõgi Suures kanjonis.\\n\\nPalgiparvetus Soomes 1938. aastal\\nBiootiline seis\\nBiootilist seisundit hinnatakse mitme süsteemiga, mis jagavad jõed kõige oligotroofsematest või vähem saastunutest kuni kõige eutroofsemate või saastunuteni.[7] Euroopas on veepoliitika direktiivid viinud vajaduseni töötada välja palju klassifitseerimismeetodeid, mis hõlmavad ka kalade paiknemist jões.[8] Prantsuse keelt kõnelevates piirkondades kasutatakse süsteemi, mis jagab jõe kolmeks tsooniks:\\n\\nCrenon – jõe lähtele kõige lähemal asuv ala, madal veetemperatuur, hapnikuvaene ja aeglaselt voolav vesi.\\nThithron – küllaltki madal veetemperatuur, hapnikurikas ja kiire vooluga vesi.\\nPotamon – soojem temperatuur, hapnikuvaene ja aeglane vool, liivane põhi.\\nLaevatatavus\\nHindamisel kasutatakse rahvusvahelist jõgede laevatatavuse skaalat. Esimene klass on kõige lihtsamini laevatatav ning kuues klass kõige raskemini. Esimese klassi jõed on aeglase vooluga ning ilma takistusteta. Kuuenda klassi jõed on väga kiire vooluga, kärestikulised, koskedega, suurte takistustega ja raskesti läbitavad.[9]\\n\\nJõgede kasutusalad\\n\\nKoluvere mõisa turbiinihoone. Algselt vesiveskiks ehitatud hoonet täiendati 20. sajandi algul uusgooti stiilis elektrijaamaga\\nInimkonna algusest alates on jõed olnud elutähtsad. Inimesed elasid veekogu ääres, sest see pakkus neile sööki, jooki ja pesemisvõimalust. Ürg- ja vanaajal, kui maanteed olid algelised ja kiired transpordivahendid puudusid, olid jõed olulised liikumisteed. See sõltub küll piirkonnast, kuid alles keskajal arenes Euroopas maanteevõrk nii heaks, et jõed kaotasid oma tähtsuse põhilise liikumisteena.\\n\\nJõe vee jõudu hakati kasutama juba 2000 aastat tagasi inimese töö lihtsustamiseks. Esmalt kasutati seda viljast jahu saamiseks ja puude saagimiseks. Hiljem juba kaevandustes ja tööstuses.[10] Jõgede vooluvett kasutatakse siiani elektri tootmiseks, kuid selle efektiivsus on palju väiksem kui teistel alternatiividel. Hüdroenergia tootmine on väga kallis ja maailmas on väga vähe sobivaid kohti, kus saaks energiat tõhusalt toota.\\n\\nMaailma jõed\\nMaailma veerohkeim ja suurima valglaga jõgi on Amazonas. Kõige pikemaks jõeks on sajandeid peetud Niilust, aga viimaste aastate uurimused on näidanud, et Amazonas on pikem. Siiski pole see seisukoht üheselt tunnustatud.\\n\\nEesti jõed\\n\\nVõhandu jõgi, mille ääres on Viira veskimüür. Võhandu on pikim täielikult Eesti territooriumil asuv jõgi\\nNext.svg Pikemalt artiklites Eesti jõed ja Eesti jõgede loend\\nEesti pikim jõgi on Võhandu jõgi. Veerohkeim ja suurima valglaga on Narva jõgi, mis kuulub küpsete jõgede klassi. Peale Narva jõe kuulub samasse klassi veel Suur-Emajõgi, mis on ainsana täies pikkuses laevatatav. Ainukesena voolab nelja maakonna piires Põltsamaa jõgi.')"
      ]
     },
     "execution_count": 22,
     "metadata": {},
     "output_type": "execute_result"
    }
   ],
   "source": [
    "from estnltk.taggers.system.rule_taggers import SubstringTagger\n",
    "\n",
    "subtagger = SubstringTagger(ruleset=ruleset,ignore_case=True)\n",
    "subtagger.tag(joe_wiki)"
   ]
  },
  {
   "cell_type": "code",
   "execution_count": 23,
   "id": "5471428e",
   "metadata": {
    "pycharm": {
     "name": "#%%\n"
    }
   },
   "outputs": [
    {
     "data": {
      "text/html": [
       "<h4>Layer</h4>\n",
       "\n",
       "\n",
       "<table border=\"1\" class=\"dataframe\">\n",
       "  <thead>\n",
       "    <tr style=\"text-align: right;\">\n",
       "      <th>layer name</th>\n",
       "      <th>attributes</th>\n",
       "      <th>parent</th>\n",
       "      <th>enveloping</th>\n",
       "      <th>ambiguous</th>\n",
       "      <th>span count</th>\n",
       "    </tr>\n",
       "  </thead>\n",
       "  <tbody>\n",
       "    <tr>\n",
       "      <td>terms</td>\n",
       "      <td></td>\n",
       "      <td>None</td>\n",
       "      <td>None</td>\n",
       "      <td>True</td>\n",
       "      <td>78</td>\n",
       "    </tr>\n",
       "  </tbody>\n",
       "</table>\n",
       "<table border=\"1\" class=\"dataframe\">\n",
       "  <thead>\n",
       "    <tr style=\"text-align: right;\">\n",
       "      <th>text</th>\n",
       "    </tr>\n",
       "  </thead>\n",
       "  <tbody>\n",
       "    <tr>\n",
       "      <td>Jõgi</td>\n",
       "    </tr>\n",
       "    <tr>\n",
       "      <td>jões</td>\n",
       "    </tr>\n",
       "    <tr>\n",
       "      <td>jõgede</td>\n",
       "    </tr>\n",
       "    <tr>\n",
       "      <td>jõe</td>\n",
       "    </tr>\n",
       "    <tr>\n",
       "      <td>Jõe</td>\n",
       "    </tr>\n",
       "    <tr>\n",
       "      <td>Jõed</td>\n",
       "    </tr>\n",
       "    <tr>\n",
       "      <td>jõe</td>\n",
       "    </tr>\n",
       "    <tr>\n",
       "      <td>jõge</td>\n",
       "    </tr>\n",
       "    <tr>\n",
       "      <td>jõe</td>\n",
       "    </tr>\n",
       "    <tr>\n",
       "      <td>jõe</td>\n",
       "    </tr>\n",
       "    <tr>\n",
       "      <td>Jõe</td>\n",
       "    </tr>\n",
       "    <tr>\n",
       "      <td>jõed</td>\n",
       "    </tr>\n",
       "    <tr>\n",
       "      <td>jõe</td>\n",
       "    </tr>\n",
       "    <tr>\n",
       "      <td>jõe</td>\n",
       "    </tr>\n",
       "    <tr>\n",
       "      <td>Jõe</td>\n",
       "    </tr>\n",
       "    <tr>\n",
       "      <td>jõge</td>\n",
       "    </tr>\n",
       "    <tr>\n",
       "      <td>jõe</td>\n",
       "    </tr>\n",
       "    <tr>\n",
       "      <td>jõgi</td>\n",
       "    </tr>\n",
       "    <tr>\n",
       "      <td>jõgedel</td>\n",
       "    </tr>\n",
       "    <tr>\n",
       "      <td>jõgedel</td>\n",
       "    </tr>\n",
       "    <tr>\n",
       "      <td>jõe</td>\n",
       "    </tr>\n",
       "    <tr>\n",
       "      <td>jõgede</td>\n",
       "    </tr>\n",
       "    <tr>\n",
       "      <td>jõed</td>\n",
       "    </tr>\n",
       "    <tr>\n",
       "      <td>jõgesid</td>\n",
       "    </tr>\n",
       "    <tr>\n",
       "      <td>jõed</td>\n",
       "    </tr>\n",
       "    <tr>\n",
       "      <td>jõgi</td>\n",
       "    </tr>\n",
       "    <tr>\n",
       "      <td>jõgesid</td>\n",
       "    </tr>\n",
       "    <tr>\n",
       "      <td>jõed</td>\n",
       "    </tr>\n",
       "    <tr>\n",
       "      <td>jões</td>\n",
       "    </tr>\n",
       "    <tr>\n",
       "      <td>jõgesid</td>\n",
       "    </tr>\n",
       "    <tr>\n",
       "      <td>jõed</td>\n",
       "    </tr>\n",
       "    <tr>\n",
       "      <td>Jõgede</td>\n",
       "    </tr>\n",
       "    <tr>\n",
       "      <td>Jõgesid</td>\n",
       "    </tr>\n",
       "    <tr>\n",
       "      <td>Jõgesid</td>\n",
       "    </tr>\n",
       "    <tr>\n",
       "      <td>jõed</td>\n",
       "    </tr>\n",
       "    <tr>\n",
       "      <td>jõe</td>\n",
       "    </tr>\n",
       "    <tr>\n",
       "      <td>jõed</td>\n",
       "    </tr>\n",
       "    <tr>\n",
       "      <td>Jõgesid</td>\n",
       "    </tr>\n",
       "    <tr>\n",
       "      <td>jõe</td>\n",
       "    </tr>\n",
       "    <tr>\n",
       "      <td>jõgesid</td>\n",
       "    </tr>\n",
       "    <tr>\n",
       "      <td>jõgi</td>\n",
       "    </tr>\n",
       "    <tr>\n",
       "      <td>jõgi</td>\n",
       "    </tr>\n",
       "    <tr>\n",
       "      <td>jõgi</td>\n",
       "    </tr>\n",
       "    <tr>\n",
       "      <td>jõgi</td>\n",
       "    </tr>\n",
       "    <tr>\n",
       "      <td>jõgi</td>\n",
       "    </tr>\n",
       "    <tr>\n",
       "      <td>jõgi</td>\n",
       "    </tr>\n",
       "    <tr>\n",
       "      <td>jõgi</td>\n",
       "    </tr>\n",
       "    <tr>\n",
       "      <td>jõgi</td>\n",
       "    </tr>\n",
       "    <tr>\n",
       "      <td>jõgi</td>\n",
       "    </tr>\n",
       "    <tr>\n",
       "      <td>jõgi</td>\n",
       "    </tr>\n",
       "    <tr>\n",
       "      <td>jõed</td>\n",
       "    </tr>\n",
       "    <tr>\n",
       "      <td>jões</td>\n",
       "    </tr>\n",
       "    <tr>\n",
       "      <td>jõe</td>\n",
       "    </tr>\n",
       "    <tr>\n",
       "      <td>jõe</td>\n",
       "    </tr>\n",
       "    <tr>\n",
       "      <td>jõgede</td>\n",
       "    </tr>\n",
       "    <tr>\n",
       "      <td>jõed</td>\n",
       "    </tr>\n",
       "    <tr>\n",
       "      <td>jõed</td>\n",
       "    </tr>\n",
       "    <tr>\n",
       "      <td>Jõgede</td>\n",
       "    </tr>\n",
       "    <tr>\n",
       "      <td>jõed</td>\n",
       "    </tr>\n",
       "    <tr>\n",
       "      <td>jõed</td>\n",
       "    </tr>\n",
       "    <tr>\n",
       "      <td>jõed</td>\n",
       "    </tr>\n",
       "    <tr>\n",
       "      <td>Jõe</td>\n",
       "    </tr>\n",
       "    <tr>\n",
       "      <td>Jõgede</td>\n",
       "    </tr>\n",
       "    <tr>\n",
       "      <td>jõed</td>\n",
       "    </tr>\n",
       "    <tr>\n",
       "      <td>jõgi</td>\n",
       "    </tr>\n",
       "    <tr>\n",
       "      <td>jõeks</td>\n",
       "    </tr>\n",
       "    <tr>\n",
       "      <td>jõed</td>\n",
       "    </tr>\n",
       "    <tr>\n",
       "      <td>jõgi</td>\n",
       "    </tr>\n",
       "    <tr>\n",
       "      <td>jõgi</td>\n",
       "    </tr>\n",
       "    <tr>\n",
       "      <td>jõed</td>\n",
       "    </tr>\n",
       "    <tr>\n",
       "      <td>jõgede</td>\n",
       "    </tr>\n",
       "    <tr>\n",
       "      <td>jõgi</td>\n",
       "    </tr>\n",
       "    <tr>\n",
       "      <td>jõgi</td>\n",
       "    </tr>\n",
       "    <tr>\n",
       "      <td>jõgi</td>\n",
       "    </tr>\n",
       "    <tr>\n",
       "      <td>jõgede</td>\n",
       "    </tr>\n",
       "    <tr>\n",
       "      <td>jõe</td>\n",
       "    </tr>\n",
       "    <tr>\n",
       "      <td>jõgi</td>\n",
       "    </tr>\n",
       "    <tr>\n",
       "      <td>jõgi</td>\n",
       "    </tr>\n",
       "  </tbody>\n",
       "</table>"
      ],
      "text/plain": [
       "Layer(name='terms', attributes=(), spans=SL[Span('Jõgi', [{}]),\n",
       "Span('jões', [{}]),\n",
       "Span('jõgede', [{}]),\n",
       "Span('jõe', [{}]),\n",
       "Span('Jõe', [{}]),\n",
       "Span('Jõed', [{}]),\n",
       "Span('jõe', [{}]),\n",
       "Span('jõge', [{}]),\n",
       "Span('jõe', [{}]),\n",
       "Span('jõe', [{}]),\n",
       "Span('Jõe', [{}]),\n",
       "Span('jõed', [{}]),\n",
       "Span('jõe', [{}]),\n",
       "Span('jõe', [{}]),\n",
       "Span('Jõe', [{}]),\n",
       "Span('jõge', [{}]),\n",
       "Span('jõe', [{}]),\n",
       "Span('jõgi', [{}]),\n",
       "Span('jõgedel', [{}]),\n",
       "Span('jõgedel', [{}]),\n",
       "Span('jõe', [{}]),\n",
       "Span('jõgede', [{}]),\n",
       "Span('jõed', [{}]),\n",
       "Span('jõgesid', [{}]),\n",
       "Span('jõed', [{}]),\n",
       "Span('jõgi', [{}]),\n",
       "Span('jõgesid', [{}]),\n",
       "Span('jõed', [{}]),\n",
       "Span('jões', [{}]),\n",
       "Span('jõgesid', [{}]),\n",
       "Span('jõed', [{}]),\n",
       "Span('Jõgede', [{}]),\n",
       "Span('Jõgesid', [{}]),\n",
       "Span('Jõgesid', [{}]),\n",
       "Span('jõed', [{}]),\n",
       "Span('jõe', [{}]),\n",
       "Span('jõed', [{}]),\n",
       "Span('Jõgesid', [{}]),\n",
       "Span('jõe', [{}]),\n",
       "Span('jõgesid', [{}]),\n",
       "Span('jõgi', [{}]),\n",
       "Span('jõgi', [{}]),\n",
       "Span('jõgi', [{}]),\n",
       "Span('jõgi', [{}]),\n",
       "Span('jõgi', [{}]),\n",
       "Span('jõgi', [{}]),\n",
       "Span('jõgi', [{}]),\n",
       "Span('jõgi', [{}]),\n",
       "Span('jõgi', [{}]),\n",
       "Span('jõgi', [{}]),\n",
       "Span('jõed', [{}]),\n",
       "Span('jões', [{}]),\n",
       "Span('jõe', [{}]),\n",
       "Span('jõe', [{}]),\n",
       "Span('jõgede', [{}]),\n",
       "Span('jõed', [{}]),\n",
       "Span('jõed', [{}]),\n",
       "Span('Jõgede', [{}]),\n",
       "Span('jõed', [{}]),\n",
       "Span('jõed', [{}]),\n",
       "Span('jõed', [{}]),\n",
       "Span('Jõe', [{}]),\n",
       "Span('Jõgede', [{}]),\n",
       "Span('jõed', [{}]),\n",
       "Span('jõgi', [{}]),\n",
       "Span('jõeks', [{}]),\n",
       "Span('jõed', [{}]),\n",
       "Span('jõgi', [{}]),\n",
       "Span('jõgi', [{}]),\n",
       "Span('jõed', [{}]),\n",
       "Span('jõgede', [{}]),\n",
       "Span('jõgi', [{}]),\n",
       "Span('jõgi', [{}]),\n",
       "Span('jõgi', [{}]),\n",
       "Span('jõgede', [{}]),\n",
       "Span('jõe', [{}]),\n",
       "Span('jõgi', [{}]),\n",
       "Span('jõgi', [{}])])"
      ]
     },
     "execution_count": 23,
     "metadata": {},
     "output_type": "execute_result"
    }
   ],
   "source": [
    "joe_wiki.terms"
   ]
  },
  {
   "cell_type": "code",
   "execution_count": 25,
   "id": "7d200414",
   "metadata": {
    "pycharm": {
     "name": "#%%\n"
    }
   },
   "outputs": [],
   "source": [
    "from estnltk_core.layer_operations import split_by_sentences"
   ]
  },
  {
   "cell_type": "code",
   "execution_count": 28,
   "id": "60d40722",
   "metadata": {
    "pycharm": {
     "name": "#%%\n"
    }
   },
   "outputs": [
    {
     "data": {
      "text/html": [
       "<table border=\"1\" class=\"dataframe\">\n",
       "  <thead>\n",
       "    <tr style=\"text-align: right;\">\n",
       "      <th>text</th>\n",
       "    </tr>\n",
       "  </thead>\n",
       "  <tbody>\n",
       "    <tr>\n",
       "      <td><div align = \"left\">Jõgi saab alguse ülemjooksul (tihti on neid rohkem kui üks), kulgeb mööda rada või kanalit ning lõpeb suudmes või suudmetes. Kanal moodustub jõesängist kallaste vahel. Suuremate jõgede juures moodustub tihti lammiala, mida kujundavad üleujutused. Võrreldes jõekanaliga võib lammiala olla väga lai. Jõekanali ning lammiala linnades eristamine võib olla keerukas, kuna lammiala mõjutavad oluliselt elamud ning tööstus.</br></br>Jõed võivad voolata mägedest alla, läbi orgude või piki tasandikke ning moodustada kanjoneid või mäekurusid. Mõiste „ülesvoolu“ viitab jõe ülemjooksu suuna poole ehk voolusuunale vastu. Mõiste „allavoolu“ kirjeldab suunda suudme poole ehk vee liikumise suunda. Kui seista keset jõge või jõe kohal ja vaadata jõevoolu suunas ehk allavoolu, jääb vasak kallas vasakule ja parem kallas paremale. Jõekanalis voolab vesi tavaliselt ühe joana, kuid mõned jõed voolavad mitme omavahel ühenduses oleva joana, moodustades põimitud jõe. Neid esineb erosioonist mõjutatud tasasel maal ja mõningates suurtes jõe deltades.</br></br>Jõekanali kuju ning vormi muudab voolavast veest tulenev energia. Saksa hüdroloog Albert Brahms täheldas 1757. aastal, et jõge ärakantavate objektide veealune kaal on proportsionaalne jõe voolukiirusega kuuendas astmes.[3] Seda sõnastust nimetatakse mõnikord ka Airy seaduseks.[4] Seega, voolukiiruse kahekordistamisel suudaks vool paigast liigutada objekte, mille veealune kaal on 64 korda suurem. Seda võib näha erosioonikanalitena kõvades kivimites ning suurte kivide lõhkumisel liivaks ja kruusaks mägistel ning kärestikulistel aladel.</br></br>Keskjooksul voolab jõgi kurviliselt tasasemal alal, kus kurvi väliskaldale mõjub erosioon ning kurvi sisekaldale sadestus, mis võib põhjustada meandrite moodustumist. Meandri eraldumisel tekib soot. Suurel hulgal setteid kandvatel jõgedel võib areneda suudmesse silmapaistev delta. Soolases merevees paikneva suudmega jõgedel võib moodustuda lehtersuue.</br></br>Allavoolu liikuv veehulk on kombinatsioon vaba vee hulgast ja märkimisväärsest hulgast veest, mis voolab läbi jõe ja selle lammi aluseks oleva aluspinna kivimite ja kruusa. Paljude suurtes orgudes voolavate jõgede puhul võib see silmale nähtamatu komponent ületada nähtava vooluhulga.</br></br>Maa-alused ojad</br>Maa-alused jõed voolavad maa all paiknevates koobastes või tühimikes. Selliseid jõgesid leidub sageli regioonides, kus esineb lubjakivist geoloogilisi moodustisi. Jääalused ojad on põimunud jõed, mis voolavad liustike ja jääkatte sängides, takistades sulavetel liustike ees välja voolata. Liustike kaalust tuleneva survegradiendi tõttu suudavad sellised ojad isegi mäest üles voolata.</br></br>Veevoolu kestus</br>Katkendliku vooluga jõgi voolab vaid vahetevahel ning võib aastaid olla kuiv. Neid jõgesid leidub piiratud või väga varieeruvate sademetega regioonides. Sellised jõed võivad esineda ka geoloogilistel põhjustel nagu ülimalt läbilaskev jõesäng. Osa katkendliku vooluga jõgesid voolab vaid suvekuudel. Humiidse kliimaga regioonides, kus vool saab alguse väikestest harudest, liigub voolu alguskoht üldiselt ülesvoolu, kui sademete hulk on suur, ja allavoolu sademete puudumisel või kui aktiivne suvine taimestik kasutab vett evapotranspiratsiooniks. Suurte rahetormide tagajärjel tekkinud sulavesi võib tekitada mudast vett ja pinnast, millest moodustuvad ajutised jõed.[5]</br></br>Jõgede liigitamine</br>Jõgesid liigitatakse mitme kriteeriumi põhjal:</br></br>topograafia,</br>biootiline seis,</br>laevatatavus.</br>Topograafia</br>Jõgesid liigitatakse uhtelisteks, aluskivimilisteks ja nende mõlema kombinatsiooniks. Uhtelised jõed on sobivate tegurite olemasolul iseenesliku tekkega. Näiteks pehme ja lõimumata pinnas ja allikate või pinnasevee kogumiskraavide rohkus. Vee vool hakkab sellistes kohtades pinnast erodeerima ja jõe kaldaid kujundama. Vesi otsib teed järjest madalamale ja pehmemale pinnasele. Aluskivimile tekkinud jõed kulgevad mööda looduslikke õõnsusi, näiteks orgusid, kus aluskivimi kiht on maapinnale palju lähemal. Jõgesid, mis voolavad mõlemat liiki pinnasel, nimetatakse uhtelise ja aluskivimilise jõe kombinatsiooniks.</br></br>20. sajandi alguses klassifitseeris William Morris Davis jõgesid nende vanuse järgi. Alates 1950. aastatest hakati seda teooriat kritiseerima ja selle kasutamine lõpetati. Geomorfoloogid ei pidanud tema hüpoteese reaalseteks ja testitavateks ning nimetasid Davise süsteemi mitteteaduslikuks.[6]</br></br>Davise süsteem</br></br>Noor jõgi – suure languga, kitsas, sügav ja kiire vooluga jõgi. Toimub põhjaerosioon. Näiteks Võhandu jõgi.</br>Küps jõgi – laugem, laiem ja aeglasema vooluga kui noor jõgi. Toimub kallaste erosioon. Sinna voolavad sisse ka teised vooluveekogud. Näiteks Pärnu jõgi.</br>Vana jõgi – väga väikse languga, erodeerumisprotsessi ei toimu, voolu kiirus aeglane. Suured üleujutuste alad. Näiteks Tigris või Indus.</br>Noorenenud jõgi – jõgi, mille lang on suurenenud pinnase kerkimise tõttu. Näiteks Colorado jõgi Suures kanjonis.</br></br>Palgiparvetus Soomes 1938. aastal</br>Biootiline seis</br>Biootilist seisundit hinnatakse mitme süsteemiga, mis jagavad jõed kõige oligotroofsematest või vähem saastunutest kuni kõige eutroofsemate või saastunuteni.[7] Euroopas on veepoliitika direktiivid viinud vajaduseni töötada välja palju klassifitseerimismeetodeid, mis hõlmavad ka kalade paiknemist jões.[8] Prantsuse keelt kõnelevates piirkondades kasutatakse süsteemi, mis jagab jõe kolmeks tsooniks:</br></br>Crenon – jõe lähtele kõige lähemal asuv ala, madal veetemperatuur, hapnikuvaene ja aeglaselt voolav vesi.</br>Thithron – küllaltki madal veetemperatuur, hapnikurikas ja kiire vooluga vesi.</br>Potamon – soojem temperatuur, hapnikuvaene ja aeglane vool, liivane põhi.</br>Laevatatavus</br>Hindamisel kasutatakse rahvusvahelist jõgede laevatatavuse skaalat. Esimene klass on kõige lihtsamini laevatatav ning kuues klass kõige raskemini. Esimese klassi jõed on aeglase vooluga ning ilma takistusteta. Kuuenda klassi jõed on väga kiire vooluga, kärestikulised, koskedega, suurte takistustega ja raskesti läbitavad.[9]</br></br>Jõgede kasutusalad</br></br>Koluvere mõisa turbiinihoone. Algselt vesiveskiks ehitatud hoonet täiendati 20. sajandi algul uusgooti stiilis elektrijaamaga</br>Inimkonna algusest alates on jõed olnud elutähtsad. Inimesed elasid veekogu ääres, sest see pakkus neile sööki, jooki ja pesemisvõimalust. Ürg- ja vanaajal, kui maanteed olid algelised ja kiired transpordivahendid puudusid, olid jõed olulised liikumisteed. See sõltub küll piirkonnast, kuid alles keskajal arenes Euroopas maanteevõrk nii heaks, et jõed kaotasid oma tähtsuse põhilise liikumisteena.</br></br>Jõe vee jõudu hakati kasutama juba 2000 aastat tagasi inimese töö lihtsustamiseks. Esmalt kasutati seda viljast jahu saamiseks ja puude saagimiseks. Hiljem juba kaevandustes ja tööstuses.[10] Jõgede vooluvett kasutatakse siiani elektri tootmiseks, kuid selle efektiivsus on palju väiksem kui teistel alternatiividel. Hüdroenergia tootmine on väga kallis ja maailmas on väga vähe sobivaid kohti, kus saaks energiat tõhusalt toota.</br></br>Maailma jõed</br>Maailma veerohkeim ja suurima valglaga jõgi on Amazonas. Kõige pikemaks jõeks on sajandeid peetud Niilust, aga viimaste aastate uurimused on näidanud, et Amazonas on pikem. Siiski pole see seisukoht üheselt tunnustatud.</br></br>Eesti jõed</br></br>Võhandu jõgi, mille ääres on Viira veskimüür. Võhandu on pikim täielikult Eesti territooriumil asuv jõgi</br>Next.svg Pikemalt artiklites Eesti jõed ja Eesti jõgede loend</br>Eesti pikim jõgi on Võhandu jõgi. Veerohkeim ja suurima valglaga on Narva jõgi, mis kuulub küpsete jõgede klassi. Peale Narva jõe kuulub samasse klassi veel Suur-Emajõgi, mis on ainsana täies pikkuses laevatatav. Ainukesena voolab nelja maakonna piires Põltsamaa jõgi.</div></td>\n",
       "    </tr>\n",
       "  </tbody>\n",
       "</table>\n",
       "<table border=\"1\" class=\"dataframe\">\n",
       "  <thead>\n",
       "    <tr style=\"text-align: right;\">\n",
       "      <th>layer name</th>\n",
       "      <th>attributes</th>\n",
       "      <th>parent</th>\n",
       "      <th>enveloping</th>\n",
       "      <th>ambiguous</th>\n",
       "      <th>span count</th>\n",
       "    </tr>\n",
       "  </thead>\n",
       "  <tbody>\n",
       "    <tr>\n",
       "      <td>sentences</td>\n",
       "      <td></td>\n",
       "      <td>None</td>\n",
       "      <td>words</td>\n",
       "      <td>False</td>\n",
       "      <td>91</td>\n",
       "    </tr>\n",
       "    <tr>\n",
       "      <td>tokens</td>\n",
       "      <td></td>\n",
       "      <td>None</td>\n",
       "      <td>None</td>\n",
       "      <td>False</td>\n",
       "      <td>1160</td>\n",
       "    </tr>\n",
       "    <tr>\n",
       "      <td>compound_tokens</td>\n",
       "      <td>type, normalized</td>\n",
       "      <td>None</td>\n",
       "      <td>tokens</td>\n",
       "      <td>False</td>\n",
       "      <td>9</td>\n",
       "    </tr>\n",
       "    <tr>\n",
       "      <td>words</td>\n",
       "      <td>normalized_form</td>\n",
       "      <td>None</td>\n",
       "      <td>None</td>\n",
       "      <td>True</td>\n",
       "      <td>1148</td>\n",
       "    </tr>\n",
       "    <tr>\n",
       "      <td>morph_analysis</td>\n",
       "      <td>normalized_text, lemma, root, root_tokens, ending, clitic, form, partofspeech</td>\n",
       "      <td>words</td>\n",
       "      <td>None</td>\n",
       "      <td>True</td>\n",
       "      <td>1148</td>\n",
       "    </tr>\n",
       "    <tr>\n",
       "      <td>terms</td>\n",
       "      <td></td>\n",
       "      <td>None</td>\n",
       "      <td>None</td>\n",
       "      <td>True</td>\n",
       "      <td>78</td>\n",
       "    </tr>\n",
       "  </tbody>\n",
       "</table>"
      ],
      "text/plain": [
       "Text(text='Jõgi saab alguse ülemjooksul (tihti on neid rohkem kui üks), kulgeb mööda rada või kanalit ning lõpeb suudmes või suudmetes. Kanal moodustub jõesängist kallaste vahel. Suuremate jõgede juures moodustub tihti lammiala, mida kujundavad üleujutused. Võrreldes jõekanaliga võib lammiala olla väga lai. Jõekanali ning lammiala linnades eristamine võib olla keerukas, kuna lammiala mõjutavad oluliselt elamud ning tööstus.\\n\\nJõed võivad voolata mägedest alla, läbi orgude või piki tasandikke ning moodustada kanjoneid või mäekurusid. Mõiste „ülesvoolu“ viitab jõe ülemjooksu suuna poole ehk voolusuunale vastu. Mõiste „allavoolu“ kirjeldab suunda suudme poole ehk vee liikumise suunda. Kui seista keset jõge või jõe kohal ja vaadata jõevoolu suunas ehk allavoolu, jääb vasak kallas vasakule ja parem kallas paremale. Jõekanalis voolab vesi tavaliselt ühe joana, kuid mõned jõed voolavad mitme omavahel ühenduses oleva joana, moodustades põimitud jõe. Neid esineb erosioonist mõjutatud tasasel maal ja mõningates suurtes jõe deltades.\\n\\nJõekanali kuju ning vormi muudab voolavast veest tulenev energia. Saksa hüdroloog Albert Brahms täheldas 1757. aastal, et jõge ärakantavate objektide veealune kaal on proportsionaalne jõe voolukiirusega kuuendas astmes.[3] Seda sõnastust nimetatakse mõnikord ka Airy seaduseks.[4] Seega, voolukiiruse kahekordistamisel suudaks vool paigast liigutada objekte, mille veealune kaal on 64 korda suurem. Seda võib näha erosioonikanalitena kõvades kivimites ning suurte kivide lõhkumisel liivaks ja kruusaks mägistel ning kärestikulistel aladel.\\n\\nKeskjooksul voolab jõgi kurviliselt tasasemal alal, kus kurvi väliskaldale mõjub erosioon ning kurvi sisekaldale sadestus, mis võib põhjustada meandrite moodustumist. Meandri eraldumisel tekib soot. Suurel hulgal setteid kandvatel jõgedel võib areneda suudmesse silmapaistev delta. Soolases merevees paikneva suudmega jõgedel võib moodustuda lehtersuue.\\n\\nAllavoolu liikuv veehulk on kombinatsioon vaba vee hulgast ja märkimisväärsest hulgast veest, mis voolab läbi jõe ja selle lammi aluseks oleva aluspinna kivimite ja kruusa. Paljude suurtes orgudes voolavate jõgede puhul võib see silmale nähtamatu komponent ületada nähtava vooluhulga.\\n\\nMaa-alused ojad\\nMaa-alused jõed voolavad maa all paiknevates koobastes või tühimikes. Selliseid jõgesid leidub sageli regioonides, kus esineb lubjakivist geoloogilisi moodustisi. Jääalused ojad on põimunud jõed, mis voolavad liustike ja jääkatte sängides, takistades sulavetel liustike ees välja voolata. Liustike kaalust tuleneva survegradiendi tõttu suudavad sellised ojad isegi mäest üles voolata.\\n\\nVeevoolu kestus\\nKatkendliku vooluga jõgi voolab vaid vahetevahel ning võib aastaid olla kuiv. Neid jõgesid leidub piiratud või väga varieeruvate sademetega regioonides. Sellised jõed võivad esineda ka geoloogilistel põhjustel nagu ülimalt läbilaskev jõesäng. Osa katkendliku vooluga jõgesid voolab vaid suvekuudel. Humiidse kliimaga regioonides, kus vool saab alguse väikestest harudest, liigub voolu alguskoht üldiselt ülesvoolu, kui sademete hulk on suur, ja allavoolu sademete puudumisel või kui aktiivne suvine taimestik kasutab vett evapotranspiratsiooniks. Suurte rahetormide tagajärjel tekkinud sulavesi võib tekitada mudast vett ja pinnast, millest moodustuvad ajutised jõed.[5]\\n\\nJõgede liigitamine\\nJõgesid liigitatakse mitme kriteeriumi põhjal:\\n\\ntopograafia,\\nbiootiline seis,\\nlaevatatavus.\\nTopograafia\\nJõgesid liigitatakse uhtelisteks, aluskivimilisteks ja nende mõlema kombinatsiooniks. Uhtelised jõed on sobivate tegurite olemasolul iseenesliku tekkega. Näiteks pehme ja lõimumata pinnas ja allikate või pinnasevee kogumiskraavide rohkus. Vee vool hakkab sellistes kohtades pinnast erodeerima ja jõe kaldaid kujundama. Vesi otsib teed järjest madalamale ja pehmemale pinnasele. Aluskivimile tekkinud jõed kulgevad mööda looduslikke õõnsusi, näiteks orgusid, kus aluskivimi kiht on maapinnale palju lähemal. Jõgesid, mis voolavad mõlemat liiki pinnasel, nimetatakse uhtelise ja aluskivimilise jõe kombinatsiooniks.\\n\\n20. sajandi alguses klassifitseeris William Morris Davis jõgesid nende vanuse järgi. Alates 1950. aastatest hakati seda teooriat kritiseerima ja selle kasutamine lõpetati. Geomorfoloogid ei pidanud tema hüpoteese reaalseteks ja testitavateks ning nimetasid Davise süsteemi mitteteaduslikuks.[6]\\n\\nDavise süsteem\\n\\nNoor jõgi – suure languga, kitsas, sügav ja kiire vooluga jõgi. Toimub põhjaerosioon. Näiteks Võhandu jõgi.\\nKüps jõgi – laugem, laiem ja aeglasema vooluga kui noor jõgi. Toimub kallaste erosioon. Sinna voolavad sisse ka teised vooluveekogud. Näiteks Pärnu jõgi.\\nVana jõgi – väga väikse languga, erodeerumisprotsessi ei toimu, voolu kiirus aeglane. Suured üleujutuste alad. Näiteks Tigris või Indus.\\nNoorenenud jõgi – jõgi, mille lang on suurenenud pinnase kerkimise tõttu. Näiteks Colorado jõgi Suures kanjonis.\\n\\nPalgiparvetus Soomes 1938. aastal\\nBiootiline seis\\nBiootilist seisundit hinnatakse mitme süsteemiga, mis jagavad jõed kõige oligotroofsematest või vähem saastunutest kuni kõige eutroofsemate või saastunuteni.[7] Euroopas on veepoliitika direktiivid viinud vajaduseni töötada välja palju klassifitseerimismeetodeid, mis hõlmavad ka kalade paiknemist jões.[8] Prantsuse keelt kõnelevates piirkondades kasutatakse süsteemi, mis jagab jõe kolmeks tsooniks:\\n\\nCrenon – jõe lähtele kõige lähemal asuv ala, madal veetemperatuur, hapnikuvaene ja aeglaselt voolav vesi.\\nThithron – küllaltki madal veetemperatuur, hapnikurikas ja kiire vooluga vesi.\\nPotamon – soojem temperatuur, hapnikuvaene ja aeglane vool, liivane põhi.\\nLaevatatavus\\nHindamisel kasutatakse rahvusvahelist jõgede laevatatavuse skaalat. Esimene klass on kõige lihtsamini laevatatav ning kuues klass kõige raskemini. Esimese klassi jõed on aeglase vooluga ning ilma takistusteta. Kuuenda klassi jõed on väga kiire vooluga, kärestikulised, koskedega, suurte takistustega ja raskesti läbitavad.[9]\\n\\nJõgede kasutusalad\\n\\nKoluvere mõisa turbiinihoone. Algselt vesiveskiks ehitatud hoonet täiendati 20. sajandi algul uusgooti stiilis elektrijaamaga\\nInimkonna algusest alates on jõed olnud elutähtsad. Inimesed elasid veekogu ääres, sest see pakkus neile sööki, jooki ja pesemisvõimalust. Ürg- ja vanaajal, kui maanteed olid algelised ja kiired transpordivahendid puudusid, olid jõed olulised liikumisteed. See sõltub küll piirkonnast, kuid alles keskajal arenes Euroopas maanteevõrk nii heaks, et jõed kaotasid oma tähtsuse põhilise liikumisteena.\\n\\nJõe vee jõudu hakati kasutama juba 2000 aastat tagasi inimese töö lihtsustamiseks. Esmalt kasutati seda viljast jahu saamiseks ja puude saagimiseks. Hiljem juba kaevandustes ja tööstuses.[10] Jõgede vooluvett kasutatakse siiani elektri tootmiseks, kuid selle efektiivsus on palju väiksem kui teistel alternatiividel. Hüdroenergia tootmine on väga kallis ja maailmas on väga vähe sobivaid kohti, kus saaks energiat tõhusalt toota.\\n\\nMaailma jõed\\nMaailma veerohkeim ja suurima valglaga jõgi on Amazonas. Kõige pikemaks jõeks on sajandeid peetud Niilust, aga viimaste aastate uurimused on näidanud, et Amazonas on pikem. Siiski pole see seisukoht üheselt tunnustatud.\\n\\nEesti jõed\\n\\nVõhandu jõgi, mille ääres on Viira veskimüür. Võhandu on pikim täielikult Eesti territooriumil asuv jõgi\\nNext.svg Pikemalt artiklites Eesti jõed ja Eesti jõgede loend\\nEesti pikim jõgi on Võhandu jõgi. Veerohkeim ja suurima valglaga on Narva jõgi, mis kuulub küpsete jõgede klassi. Peale Narva jõe kuulub samasse klassi veel Suur-Emajõgi, mis on ainsana täies pikkuses laevatatav. Ainukesena voolab nelja maakonna piires Põltsamaa jõgi.')"
      ]
     },
     "execution_count": 28,
     "metadata": {},
     "output_type": "execute_result"
    }
   ],
   "source": [
    "joe_wiki.tag_layer()"
   ]
  },
  {
   "cell_type": "code",
   "execution_count": 33,
   "id": "b330d728",
   "metadata": {
    "pycharm": {
     "name": "#%%\n"
    }
   },
   "outputs": [],
   "source": [
    "sents = split_by_sentences(joe_wiki,layers_to_keep=['terms'])"
   ]
  },
  {
   "cell_type": "code",
   "execution_count": 42,
   "id": "e010c305",
   "metadata": {
    "pycharm": {
     "name": "#%%\n"
    }
   },
   "outputs": [],
   "source": [
    "filtered_sents = []\n",
    "\n",
    "for sent in sents:\n",
    "    if len(sent.terms)>0:\n",
    "        filtered_sents.append(sent)"
   ]
  },
  {
   "cell_type": "code",
   "execution_count": 45,
   "id": "c5248cbb",
   "metadata": {
    "pycharm": {
     "name": "#%%\n"
    }
   },
   "outputs": [
    {
     "data": {
      "text/plain": [
       "[Text(text='Jõgi saab alguse ülemjooksul (tihti on neid rohkem kui üks), kulgeb mööda rada või kanalit ning lõpeb suudmes või suudmetes.'),\n",
       " Text(text='Kanal moodustub jõesängist kallaste vahel.'),\n",
       " Text(text='Suuremate jõgede juures moodustub tihti lammiala, mida kujundavad üleujutused.'),\n",
       " Text(text='Võrreldes jõekanaliga võib lammiala olla väga lai.'),\n",
       " Text(text='Jõekanali ning lammiala linnades eristamine võib olla keerukas, kuna lammiala mõjutavad oluliselt elamud ning tööstus.'),\n",
       " Text(text='Jõed võivad voolata mägedest alla, läbi orgude või piki tasandikke ning moodustada kanjoneid või mäekurusid.'),\n",
       " Text(text='Mõiste „ülesvoolu“ viitab jõe ülemjooksu suuna poole ehk voolusuunale vastu.'),\n",
       " Text(text='Kui seista keset jõge või jõe kohal ja vaadata jõevoolu suunas ehk allavoolu, jääb vasak kallas vasakule ja parem kallas paremale.'),\n",
       " Text(text='Jõekanalis voolab vesi tavaliselt ühe joana, kuid mõned jõed voolavad mitme omavahel ühenduses oleva joana, moodustades põimitud jõe.'),\n",
       " Text(text='Neid esineb erosioonist mõjutatud tasasel maal ja mõningates suurtes jõe deltades.'),\n",
       " Text(text='Jõekanali kuju ning vormi muudab voolavast veest tulenev energia.'),\n",
       " Text(text='Saksa hüdroloog Albert Brahms täheldas 1757. aastal, et jõge ärakantavate objektide veealune kaal on proportsionaalne jõe voolukiirusega kuuendas astmes.'),\n",
       " Text(text='Keskjooksul voolab jõgi kurviliselt tasasemal alal, kus kurvi väliskaldale mõjub erosioon ning kurvi sisekaldale sadestus, mis võib põhjustada meandrite moodustumist.'),\n",
       " Text(text='Suurel hulgal setteid kandvatel jõgedel võib areneda suudmesse silmapaistev delta.'),\n",
       " Text(text='Soolases merevees paikneva suudmega jõgedel võib moodustuda lehtersuue.'),\n",
       " Text(text='Allavoolu liikuv veehulk on kombinatsioon vaba vee hulgast ja märkimisväärsest hulgast veest, mis voolab läbi jõe ja selle lammi aluseks oleva aluspinna kivimite ja kruusa.'),\n",
       " Text(text='Paljude suurtes orgudes voolavate jõgede puhul võib see silmale nähtamatu komponent ületada nähtava vooluhulga.'),\n",
       " Text(text='Maa-alused ojad\\nMaa-alused jõed voolavad maa all paiknevates koobastes või tühimikes.'),\n",
       " Text(text='Selliseid jõgesid leidub sageli regioonides, kus esineb lubjakivist geoloogilisi moodustisi.'),\n",
       " Text(text='Jääalused ojad on põimunud jõed, mis voolavad liustike ja jääkatte sängides, takistades sulavetel liustike ees välja voolata.'),\n",
       " Text(text='Veevoolu kestus\\nKatkendliku vooluga jõgi voolab vaid vahetevahel ning võib aastaid olla kuiv.'),\n",
       " Text(text='Neid jõgesid leidub piiratud või väga varieeruvate sademetega regioonides.'),\n",
       " Text(text='Sellised jõed võivad esineda ka geoloogilistel põhjustel nagu ülimalt läbilaskev jõesäng.'),\n",
       " Text(text='Osa katkendliku vooluga jõgesid voolab vaid suvekuudel.'),\n",
       " Text(text='Suurte rahetormide tagajärjel tekkinud sulavesi võib tekitada mudast vett ja pinnast, millest moodustuvad ajutised jõed.'),\n",
       " Text(text='Jõgede liigitamine\\nJõgesid liigitatakse mitme kriteeriumi põhjal:'),\n",
       " Text(text='Topograafia\\nJõgesid liigitatakse uhtelisteks, aluskivimilisteks ja nende mõlema kombinatsiooniks.'),\n",
       " Text(text='Uhtelised jõed on sobivate tegurite olemasolul iseenesliku tekkega.'),\n",
       " Text(text='Vee vool hakkab sellistes kohtades pinnast erodeerima ja jõe kaldaid kujundama.'),\n",
       " Text(text='Aluskivimile tekkinud jõed kulgevad mööda looduslikke õõnsusi, näiteks orgusid, kus aluskivimi kiht on maapinnale palju lähemal.'),\n",
       " Text(text='Jõgesid, mis voolavad mõlemat liiki pinnasel, nimetatakse uhtelise ja aluskivimilise jõe kombinatsiooniks.'),\n",
       " Text(text='20. sajandi alguses klassifitseeris William Morris Davis jõgesid nende vanuse järgi.'),\n",
       " Text(text='Noor jõgi – suure languga, kitsas, sügav ja kiire vooluga jõgi.'),\n",
       " Text(text='Näiteks Võhandu jõgi.'),\n",
       " Text(text='Küps jõgi – laugem, laiem ja aeglasema vooluga kui noor jõgi.'),\n",
       " Text(text='Näiteks Pärnu jõgi.'),\n",
       " Text(text='Vana jõgi – väga väikse languga, erodeerumisprotsessi ei toimu, voolu kiirus aeglane.'),\n",
       " Text(text='Noorenenud jõgi – jõgi, mille lang on suurenenud pinnase kerkimise tõttu.'),\n",
       " Text(text='Näiteks Colorado jõgi Suures kanjonis.'),\n",
       " Text(text='Palgiparvetus Soomes 1938. aastal\\nBiootiline seis\\nBiootilist seisundit hinnatakse mitme süsteemiga, mis jagavad jõed kõige oligotroofsematest või vähem saastunutest kuni kõige eutroofsemate või saastunuteni.'),\n",
       " Text(text='[7] Euroopas on veepoliitika direktiivid viinud vajaduseni töötada välja palju klassifitseerimismeetodeid, mis hõlmavad ka kalade paiknemist jões.'),\n",
       " Text(text='[8] Prantsuse keelt kõnelevates piirkondades kasutatakse süsteemi, mis jagab jõe kolmeks tsooniks:'),\n",
       " Text(text='Crenon – jõe lähtele kõige lähemal asuv ala, madal veetemperatuur, hapnikuvaene ja aeglaselt voolav vesi.'),\n",
       " Text(text='Laevatatavus\\nHindamisel kasutatakse rahvusvahelist jõgede laevatatavuse skaalat.'),\n",
       " Text(text='Esimese klassi jõed on aeglase vooluga ning ilma takistusteta.'),\n",
       " Text(text='Kuuenda klassi jõed on väga kiire vooluga, kärestikulised, koskedega, suurte takistustega ja raskesti läbitavad.'),\n",
       " Text(text='Jõgede kasutusalad'),\n",
       " Text(text='Algselt vesiveskiks ehitatud hoonet täiendati 20. sajandi algul uusgooti stiilis elektrijaamaga\\nInimkonna algusest alates on jõed olnud elutähtsad.'),\n",
       " Text(text='Ürg- ja vanaajal, kui maanteed olid algelised ja kiired transpordivahendid puudusid, olid jõed olulised liikumisteed.'),\n",
       " Text(text='See sõltub küll piirkonnast, kuid alles keskajal arenes Euroopas maanteevõrk nii heaks, et jõed kaotasid oma tähtsuse põhilise liikumisteena.'),\n",
       " Text(text='Jõe vee jõudu hakati kasutama juba 2000 aastat tagasi inimese töö lihtsustamiseks.'),\n",
       " Text(text='[10] Jõgede vooluvett kasutatakse siiani elektri tootmiseks, kuid selle efektiivsus on palju väiksem kui teistel alternatiividel.'),\n",
       " Text(text='Maailma jõed\\nMaailma veerohkeim ja suurima valglaga jõgi on Amazonas.'),\n",
       " Text(text='Kõige pikemaks jõeks on sajandeid peetud Niilust, aga viimaste aastate uurimused on näidanud, et Amazonas on pikem.'),\n",
       " Text(text='Eesti jõed'),\n",
       " Text(text='Võhandu jõgi, mille ääres on Viira veskimüür.'),\n",
       " Text(text='Võhandu on pikim täielikult Eesti territooriumil asuv jõgi\\nNext.'),\n",
       " Text(text='svg Pikemalt artiklites Eesti jõed ja Eesti jõgede loend\\nEesti pikim jõgi on Võhandu jõgi.'),\n",
       " Text(text='Veerohkeim ja suurima valglaga on Narva jõgi, mis kuulub küpsete jõgede klassi.'),\n",
       " Text(text='Peale Narva jõe kuulub samasse klassi veel Suur-Emajõgi, mis on ainsana täies pikkuses laevatatav.'),\n",
       " Text(text='Ainukesena voolab nelja maakonna piires Põltsamaa jõgi.')]"
      ]
     },
     "execution_count": 45,
     "metadata": {},
     "output_type": "execute_result"
    }
   ],
   "source": [
    "filtered_sents"
   ]
  },
  {
   "cell_type": "markdown",
   "id": "6eafe8cf",
   "metadata": {
    "pycharm": {
     "name": "#%% md\n"
    }
   },
   "source": [
    "## Dataset creation by using SpanTagger with lemmas"
   ]
  },
  {
   "cell_type": "code",
   "execution_count": 46,
   "id": "1f5e8e00",
   "metadata": {
    "pycharm": {
     "name": "#%%\n"
    }
   },
   "outputs": [],
   "source": [
    "from estnltk.taggers.system.rule_taggers import AmbiguousRuleset, SpanTagger, StaticExtractionRule\n",
    "\n",
    "ruleset = AmbiguousRuleset()\n",
    "\n",
    "ruleset.add_rules([StaticExtractionRule(pattern='jõgi')])\n",
    "\n",
    "joe_tagger = SpanTagger(output_layer='tagged_rivers',\n",
    "                    input_layer='morph_analysis',\n",
    "                    input_attribute='lemma',\n",
    "                    ruleset=ruleset\n",
    "                    )"
   ]
  },
  {
   "cell_type": "code",
   "execution_count": 47,
   "id": "b9ba6dcc",
   "metadata": {
    "pycharm": {
     "name": "#%%\n"
    }
   },
   "outputs": [
    {
     "data": {
      "text/html": [
       "<table border=\"1\" class=\"dataframe\">\n",
       "  <thead>\n",
       "    <tr style=\"text-align: right;\">\n",
       "      <th>text</th>\n",
       "    </tr>\n",
       "  </thead>\n",
       "  <tbody>\n",
       "    <tr>\n",
       "      <td><div align = \"left\">Jõgi saab alguse ülemjooksul (tihti on neid rohkem kui üks), kulgeb mööda rada või kanalit ning lõpeb suudmes või suudmetes. Kanal moodustub jõesängist kallaste vahel. Suuremate jõgede juures moodustub tihti lammiala, mida kujundavad üleujutused. Võrreldes jõekanaliga võib lammiala olla väga lai. Jõekanali ning lammiala linnades eristamine võib olla keerukas, kuna lammiala mõjutavad oluliselt elamud ning tööstus.</br></br>Jõed võivad voolata mägedest alla, läbi orgude või piki tasandikke ning moodustada kanjoneid või mäekurusid. Mõiste „ülesvoolu“ viitab jõe ülemjooksu suuna poole ehk voolusuunale vastu. Mõiste „allavoolu“ kirjeldab suunda suudme poole ehk vee liikumise suunda. Kui seista keset jõge või jõe kohal ja vaadata jõevoolu suunas ehk allavoolu, jääb vasak kallas vasakule ja parem kallas paremale. Jõekanalis voolab vesi tavaliselt ühe joana, kuid mõned jõed voolavad mitme omavahel ühenduses oleva joana, moodustades põimitud jõe. Neid esineb erosioonist mõjutatud tasasel maal ja mõningates suurtes jõe deltades.</br></br>Jõekanali kuju ning vormi muudab voolavast veest tulenev energia. Saksa hüdroloog Albert Brahms täheldas 1757. aastal, et jõge ärakantavate objektide veealune kaal on proportsionaalne jõe voolukiirusega kuuendas astmes.[3] Seda sõnastust nimetatakse mõnikord ka Airy seaduseks.[4] Seega, voolukiiruse kahekordistamisel suudaks vool paigast liigutada objekte, mille veealune kaal on 64 korda suurem. Seda võib näha erosioonikanalitena kõvades kivimites ning suurte kivide lõhkumisel liivaks ja kruusaks mägistel ning kärestikulistel aladel.</br></br>Keskjooksul voolab jõgi kurviliselt tasasemal alal, kus kurvi väliskaldale mõjub erosioon ning kurvi sisekaldale sadestus, mis võib põhjustada meandrite moodustumist. Meandri eraldumisel tekib soot. Suurel hulgal setteid kandvatel jõgedel võib areneda suudmesse silmapaistev delta. Soolases merevees paikneva suudmega jõgedel võib moodustuda lehtersuue.</br></br>Allavoolu liikuv veehulk on kombinatsioon vaba vee hulgast ja märkimisväärsest hulgast veest, mis voolab läbi jõe ja selle lammi aluseks oleva aluspinna kivimite ja kruusa. Paljude suurtes orgudes voolavate jõgede puhul võib see silmale nähtamatu komponent ületada nähtava vooluhulga.</br></br>Maa-alused ojad</br>Maa-alused jõed voolavad maa all paiknevates koobastes või tühimikes. Selliseid jõgesid leidub sageli regioonides, kus esineb lubjakivist geoloogilisi moodustisi. Jääalused ojad on põimunud jõed, mis voolavad liustike ja jääkatte sängides, takistades sulavetel liustike ees välja voolata. Liustike kaalust tuleneva survegradiendi tõttu suudavad sellised ojad isegi mäest üles voolata.</br></br>Veevoolu kestus</br>Katkendliku vooluga jõgi voolab vaid vahetevahel ning võib aastaid olla kuiv. Neid jõgesid leidub piiratud või väga varieeruvate sademetega regioonides. Sellised jõed võivad esineda ka geoloogilistel põhjustel nagu ülimalt läbilaskev jõesäng. Osa katkendliku vooluga jõgesid voolab vaid suvekuudel. Humiidse kliimaga regioonides, kus vool saab alguse väikestest harudest, liigub voolu alguskoht üldiselt ülesvoolu, kui sademete hulk on suur, ja allavoolu sademete puudumisel või kui aktiivne suvine taimestik kasutab vett evapotranspiratsiooniks. Suurte rahetormide tagajärjel tekkinud sulavesi võib tekitada mudast vett ja pinnast, millest moodustuvad ajutised jõed.[5]</br></br>Jõgede liigitamine</br>Jõgesid liigitatakse mitme kriteeriumi põhjal:</br></br>topograafia,</br>biootiline seis,</br>laevatatavus.</br>Topograafia</br>Jõgesid liigitatakse uhtelisteks, aluskivimilisteks ja nende mõlema kombinatsiooniks. Uhtelised jõed on sobivate tegurite olemasolul iseenesliku tekkega. Näiteks pehme ja lõimumata pinnas ja allikate või pinnasevee kogumiskraavide rohkus. Vee vool hakkab sellistes kohtades pinnast erodeerima ja jõe kaldaid kujundama. Vesi otsib teed järjest madalamale ja pehmemale pinnasele. Aluskivimile tekkinud jõed kulgevad mööda looduslikke õõnsusi, näiteks orgusid, kus aluskivimi kiht on maapinnale palju lähemal. Jõgesid, mis voolavad mõlemat liiki pinnasel, nimetatakse uhtelise ja aluskivimilise jõe kombinatsiooniks.</br></br>20. sajandi alguses klassifitseeris William Morris Davis jõgesid nende vanuse järgi. Alates 1950. aastatest hakati seda teooriat kritiseerima ja selle kasutamine lõpetati. Geomorfoloogid ei pidanud tema hüpoteese reaalseteks ja testitavateks ning nimetasid Davise süsteemi mitteteaduslikuks.[6]</br></br>Davise süsteem</br></br>Noor jõgi – suure languga, kitsas, sügav ja kiire vooluga jõgi. Toimub põhjaerosioon. Näiteks Võhandu jõgi.</br>Küps jõgi – laugem, laiem ja aeglasema vooluga kui noor jõgi. Toimub kallaste erosioon. Sinna voolavad sisse ka teised vooluveekogud. Näiteks Pärnu jõgi.</br>Vana jõgi – väga väikse languga, erodeerumisprotsessi ei toimu, voolu kiirus aeglane. Suured üleujutuste alad. Näiteks Tigris või Indus.</br>Noorenenud jõgi – jõgi, mille lang on suurenenud pinnase kerkimise tõttu. Näiteks Colorado jõgi Suures kanjonis.</br></br>Palgiparvetus Soomes 1938. aastal</br>Biootiline seis</br>Biootilist seisundit hinnatakse mitme süsteemiga, mis jagavad jõed kõige oligotroofsematest või vähem saastunutest kuni kõige eutroofsemate või saastunuteni.[7] Euroopas on veepoliitika direktiivid viinud vajaduseni töötada välja palju klassifitseerimismeetodeid, mis hõlmavad ka kalade paiknemist jões.[8] Prantsuse keelt kõnelevates piirkondades kasutatakse süsteemi, mis jagab jõe kolmeks tsooniks:</br></br>Crenon – jõe lähtele kõige lähemal asuv ala, madal veetemperatuur, hapnikuvaene ja aeglaselt voolav vesi.</br>Thithron – küllaltki madal veetemperatuur, hapnikurikas ja kiire vooluga vesi.</br>Potamon – soojem temperatuur, hapnikuvaene ja aeglane vool, liivane põhi.</br>Laevatatavus</br>Hindamisel kasutatakse rahvusvahelist jõgede laevatatavuse skaalat. Esimene klass on kõige lihtsamini laevatatav ning kuues klass kõige raskemini. Esimese klassi jõed on aeglase vooluga ning ilma takistusteta. Kuuenda klassi jõed on väga kiire vooluga, kärestikulised, koskedega, suurte takistustega ja raskesti läbitavad.[9]</br></br>Jõgede kasutusalad</br></br>Koluvere mõisa turbiinihoone. Algselt vesiveskiks ehitatud hoonet täiendati 20. sajandi algul uusgooti stiilis elektrijaamaga</br>Inimkonna algusest alates on jõed olnud elutähtsad. Inimesed elasid veekogu ääres, sest see pakkus neile sööki, jooki ja pesemisvõimalust. Ürg- ja vanaajal, kui maanteed olid algelised ja kiired transpordivahendid puudusid, olid jõed olulised liikumisteed. See sõltub küll piirkonnast, kuid alles keskajal arenes Euroopas maanteevõrk nii heaks, et jõed kaotasid oma tähtsuse põhilise liikumisteena.</br></br>Jõe vee jõudu hakati kasutama juba 2000 aastat tagasi inimese töö lihtsustamiseks. Esmalt kasutati seda viljast jahu saamiseks ja puude saagimiseks. Hiljem juba kaevandustes ja tööstuses.[10] Jõgede vooluvett kasutatakse siiani elektri tootmiseks, kuid selle efektiivsus on palju väiksem kui teistel alternatiividel. Hüdroenergia tootmine on väga kallis ja maailmas on väga vähe sobivaid kohti, kus saaks energiat tõhusalt toota.</br></br>Maailma jõed</br>Maailma veerohkeim ja suurima valglaga jõgi on Amazonas. Kõige pikemaks jõeks on sajandeid peetud Niilust, aga viimaste aastate uurimused on näidanud, et Amazonas on pikem. Siiski pole see seisukoht üheselt tunnustatud.</br></br>Eesti jõed</br></br>Võhandu jõgi, mille ääres on Viira veskimüür. Võhandu on pikim täielikult Eesti territooriumil asuv jõgi</br>Next.svg Pikemalt artiklites Eesti jõed ja Eesti jõgede loend</br>Eesti pikim jõgi on Võhandu jõgi. Veerohkeim ja suurima valglaga on Narva jõgi, mis kuulub küpsete jõgede klassi. Peale Narva jõe kuulub samasse klassi veel Suur-Emajõgi, mis on ainsana täies pikkuses laevatatav. Ainukesena voolab nelja maakonna piires Põltsamaa jõgi.</div></td>\n",
       "    </tr>\n",
       "  </tbody>\n",
       "</table>\n",
       "<table border=\"1\" class=\"dataframe\">\n",
       "  <thead>\n",
       "    <tr style=\"text-align: right;\">\n",
       "      <th>layer name</th>\n",
       "      <th>attributes</th>\n",
       "      <th>parent</th>\n",
       "      <th>enveloping</th>\n",
       "      <th>ambiguous</th>\n",
       "      <th>span count</th>\n",
       "    </tr>\n",
       "  </thead>\n",
       "  <tbody>\n",
       "    <tr>\n",
       "      <td>sentences</td>\n",
       "      <td></td>\n",
       "      <td>None</td>\n",
       "      <td>words</td>\n",
       "      <td>False</td>\n",
       "      <td>91</td>\n",
       "    </tr>\n",
       "    <tr>\n",
       "      <td>tokens</td>\n",
       "      <td></td>\n",
       "      <td>None</td>\n",
       "      <td>None</td>\n",
       "      <td>False</td>\n",
       "      <td>1160</td>\n",
       "    </tr>\n",
       "    <tr>\n",
       "      <td>compound_tokens</td>\n",
       "      <td>type, normalized</td>\n",
       "      <td>None</td>\n",
       "      <td>tokens</td>\n",
       "      <td>False</td>\n",
       "      <td>9</td>\n",
       "    </tr>\n",
       "    <tr>\n",
       "      <td>words</td>\n",
       "      <td>normalized_form</td>\n",
       "      <td>None</td>\n",
       "      <td>None</td>\n",
       "      <td>True</td>\n",
       "      <td>1148</td>\n",
       "    </tr>\n",
       "    <tr>\n",
       "      <td>morph_analysis</td>\n",
       "      <td>normalized_text, lemma, root, root_tokens, ending, clitic, form, partofspeech</td>\n",
       "      <td>words</td>\n",
       "      <td>None</td>\n",
       "      <td>True</td>\n",
       "      <td>1148</td>\n",
       "    </tr>\n",
       "    <tr>\n",
       "      <td>terms</td>\n",
       "      <td></td>\n",
       "      <td>None</td>\n",
       "      <td>None</td>\n",
       "      <td>True</td>\n",
       "      <td>78</td>\n",
       "    </tr>\n",
       "    <tr>\n",
       "      <td>tagged_rivers</td>\n",
       "      <td></td>\n",
       "      <td>morph_analysis</td>\n",
       "      <td>None</td>\n",
       "      <td>True</td>\n",
       "      <td>69</td>\n",
       "    </tr>\n",
       "  </tbody>\n",
       "</table>"
      ],
      "text/plain": [
       "Text(text='Jõgi saab alguse ülemjooksul (tihti on neid rohkem kui üks), kulgeb mööda rada või kanalit ning lõpeb suudmes või suudmetes. Kanal moodustub jõesängist kallaste vahel. Suuremate jõgede juures moodustub tihti lammiala, mida kujundavad üleujutused. Võrreldes jõekanaliga võib lammiala olla väga lai. Jõekanali ning lammiala linnades eristamine võib olla keerukas, kuna lammiala mõjutavad oluliselt elamud ning tööstus.\\n\\nJõed võivad voolata mägedest alla, läbi orgude või piki tasandikke ning moodustada kanjoneid või mäekurusid. Mõiste „ülesvoolu“ viitab jõe ülemjooksu suuna poole ehk voolusuunale vastu. Mõiste „allavoolu“ kirjeldab suunda suudme poole ehk vee liikumise suunda. Kui seista keset jõge või jõe kohal ja vaadata jõevoolu suunas ehk allavoolu, jääb vasak kallas vasakule ja parem kallas paremale. Jõekanalis voolab vesi tavaliselt ühe joana, kuid mõned jõed voolavad mitme omavahel ühenduses oleva joana, moodustades põimitud jõe. Neid esineb erosioonist mõjutatud tasasel maal ja mõningates suurtes jõe deltades.\\n\\nJõekanali kuju ning vormi muudab voolavast veest tulenev energia. Saksa hüdroloog Albert Brahms täheldas 1757. aastal, et jõge ärakantavate objektide veealune kaal on proportsionaalne jõe voolukiirusega kuuendas astmes.[3] Seda sõnastust nimetatakse mõnikord ka Airy seaduseks.[4] Seega, voolukiiruse kahekordistamisel suudaks vool paigast liigutada objekte, mille veealune kaal on 64 korda suurem. Seda võib näha erosioonikanalitena kõvades kivimites ning suurte kivide lõhkumisel liivaks ja kruusaks mägistel ning kärestikulistel aladel.\\n\\nKeskjooksul voolab jõgi kurviliselt tasasemal alal, kus kurvi väliskaldale mõjub erosioon ning kurvi sisekaldale sadestus, mis võib põhjustada meandrite moodustumist. Meandri eraldumisel tekib soot. Suurel hulgal setteid kandvatel jõgedel võib areneda suudmesse silmapaistev delta. Soolases merevees paikneva suudmega jõgedel võib moodustuda lehtersuue.\\n\\nAllavoolu liikuv veehulk on kombinatsioon vaba vee hulgast ja märkimisväärsest hulgast veest, mis voolab läbi jõe ja selle lammi aluseks oleva aluspinna kivimite ja kruusa. Paljude suurtes orgudes voolavate jõgede puhul võib see silmale nähtamatu komponent ületada nähtava vooluhulga.\\n\\nMaa-alused ojad\\nMaa-alused jõed voolavad maa all paiknevates koobastes või tühimikes. Selliseid jõgesid leidub sageli regioonides, kus esineb lubjakivist geoloogilisi moodustisi. Jääalused ojad on põimunud jõed, mis voolavad liustike ja jääkatte sängides, takistades sulavetel liustike ees välja voolata. Liustike kaalust tuleneva survegradiendi tõttu suudavad sellised ojad isegi mäest üles voolata.\\n\\nVeevoolu kestus\\nKatkendliku vooluga jõgi voolab vaid vahetevahel ning võib aastaid olla kuiv. Neid jõgesid leidub piiratud või väga varieeruvate sademetega regioonides. Sellised jõed võivad esineda ka geoloogilistel põhjustel nagu ülimalt läbilaskev jõesäng. Osa katkendliku vooluga jõgesid voolab vaid suvekuudel. Humiidse kliimaga regioonides, kus vool saab alguse väikestest harudest, liigub voolu alguskoht üldiselt ülesvoolu, kui sademete hulk on suur, ja allavoolu sademete puudumisel või kui aktiivne suvine taimestik kasutab vett evapotranspiratsiooniks. Suurte rahetormide tagajärjel tekkinud sulavesi võib tekitada mudast vett ja pinnast, millest moodustuvad ajutised jõed.[5]\\n\\nJõgede liigitamine\\nJõgesid liigitatakse mitme kriteeriumi põhjal:\\n\\ntopograafia,\\nbiootiline seis,\\nlaevatatavus.\\nTopograafia\\nJõgesid liigitatakse uhtelisteks, aluskivimilisteks ja nende mõlema kombinatsiooniks. Uhtelised jõed on sobivate tegurite olemasolul iseenesliku tekkega. Näiteks pehme ja lõimumata pinnas ja allikate või pinnasevee kogumiskraavide rohkus. Vee vool hakkab sellistes kohtades pinnast erodeerima ja jõe kaldaid kujundama. Vesi otsib teed järjest madalamale ja pehmemale pinnasele. Aluskivimile tekkinud jõed kulgevad mööda looduslikke õõnsusi, näiteks orgusid, kus aluskivimi kiht on maapinnale palju lähemal. Jõgesid, mis voolavad mõlemat liiki pinnasel, nimetatakse uhtelise ja aluskivimilise jõe kombinatsiooniks.\\n\\n20. sajandi alguses klassifitseeris William Morris Davis jõgesid nende vanuse järgi. Alates 1950. aastatest hakati seda teooriat kritiseerima ja selle kasutamine lõpetati. Geomorfoloogid ei pidanud tema hüpoteese reaalseteks ja testitavateks ning nimetasid Davise süsteemi mitteteaduslikuks.[6]\\n\\nDavise süsteem\\n\\nNoor jõgi – suure languga, kitsas, sügav ja kiire vooluga jõgi. Toimub põhjaerosioon. Näiteks Võhandu jõgi.\\nKüps jõgi – laugem, laiem ja aeglasema vooluga kui noor jõgi. Toimub kallaste erosioon. Sinna voolavad sisse ka teised vooluveekogud. Näiteks Pärnu jõgi.\\nVana jõgi – väga väikse languga, erodeerumisprotsessi ei toimu, voolu kiirus aeglane. Suured üleujutuste alad. Näiteks Tigris või Indus.\\nNoorenenud jõgi – jõgi, mille lang on suurenenud pinnase kerkimise tõttu. Näiteks Colorado jõgi Suures kanjonis.\\n\\nPalgiparvetus Soomes 1938. aastal\\nBiootiline seis\\nBiootilist seisundit hinnatakse mitme süsteemiga, mis jagavad jõed kõige oligotroofsematest või vähem saastunutest kuni kõige eutroofsemate või saastunuteni.[7] Euroopas on veepoliitika direktiivid viinud vajaduseni töötada välja palju klassifitseerimismeetodeid, mis hõlmavad ka kalade paiknemist jões.[8] Prantsuse keelt kõnelevates piirkondades kasutatakse süsteemi, mis jagab jõe kolmeks tsooniks:\\n\\nCrenon – jõe lähtele kõige lähemal asuv ala, madal veetemperatuur, hapnikuvaene ja aeglaselt voolav vesi.\\nThithron – küllaltki madal veetemperatuur, hapnikurikas ja kiire vooluga vesi.\\nPotamon – soojem temperatuur, hapnikuvaene ja aeglane vool, liivane põhi.\\nLaevatatavus\\nHindamisel kasutatakse rahvusvahelist jõgede laevatatavuse skaalat. Esimene klass on kõige lihtsamini laevatatav ning kuues klass kõige raskemini. Esimese klassi jõed on aeglase vooluga ning ilma takistusteta. Kuuenda klassi jõed on väga kiire vooluga, kärestikulised, koskedega, suurte takistustega ja raskesti läbitavad.[9]\\n\\nJõgede kasutusalad\\n\\nKoluvere mõisa turbiinihoone. Algselt vesiveskiks ehitatud hoonet täiendati 20. sajandi algul uusgooti stiilis elektrijaamaga\\nInimkonna algusest alates on jõed olnud elutähtsad. Inimesed elasid veekogu ääres, sest see pakkus neile sööki, jooki ja pesemisvõimalust. Ürg- ja vanaajal, kui maanteed olid algelised ja kiired transpordivahendid puudusid, olid jõed olulised liikumisteed. See sõltub küll piirkonnast, kuid alles keskajal arenes Euroopas maanteevõrk nii heaks, et jõed kaotasid oma tähtsuse põhilise liikumisteena.\\n\\nJõe vee jõudu hakati kasutama juba 2000 aastat tagasi inimese töö lihtsustamiseks. Esmalt kasutati seda viljast jahu saamiseks ja puude saagimiseks. Hiljem juba kaevandustes ja tööstuses.[10] Jõgede vooluvett kasutatakse siiani elektri tootmiseks, kuid selle efektiivsus on palju väiksem kui teistel alternatiividel. Hüdroenergia tootmine on väga kallis ja maailmas on väga vähe sobivaid kohti, kus saaks energiat tõhusalt toota.\\n\\nMaailma jõed\\nMaailma veerohkeim ja suurima valglaga jõgi on Amazonas. Kõige pikemaks jõeks on sajandeid peetud Niilust, aga viimaste aastate uurimused on näidanud, et Amazonas on pikem. Siiski pole see seisukoht üheselt tunnustatud.\\n\\nEesti jõed\\n\\nVõhandu jõgi, mille ääres on Viira veskimüür. Võhandu on pikim täielikult Eesti territooriumil asuv jõgi\\nNext.svg Pikemalt artiklites Eesti jõed ja Eesti jõgede loend\\nEesti pikim jõgi on Võhandu jõgi. Veerohkeim ja suurima valglaga on Narva jõgi, mis kuulub küpsete jõgede klassi. Peale Narva jõe kuulub samasse klassi veel Suur-Emajõgi, mis on ainsana täies pikkuses laevatatav. Ainukesena voolab nelja maakonna piires Põltsamaa jõgi.')"
      ]
     },
     "execution_count": 47,
     "metadata": {},
     "output_type": "execute_result"
    }
   ],
   "source": [
    "joe_tagger.tag(joe_wiki)"
   ]
  },
  {
   "cell_type": "code",
   "execution_count": 50,
   "id": "b6fc9a5b",
   "metadata": {
    "pycharm": {
     "name": "#%%\n"
    }
   },
   "outputs": [],
   "source": [
    "sents = split_by_sentences(joe_wiki,layers_to_keep=['tagged_rivers','morph_analysis','words'])"
   ]
  },
  {
   "cell_type": "code",
   "execution_count": 52,
   "id": "aafd3fd4",
   "metadata": {
    "pycharm": {
     "name": "#%%\n"
    }
   },
   "outputs": [],
   "source": [
    "filtered_sents = []\n",
    "\n",
    "for sent in sents:\n",
    "    if len(sent.tagged_rivers)>0:\n",
    "        filtered_sents.append(sent)"
   ]
  },
  {
   "cell_type": "code",
   "execution_count": 53,
   "id": "e79e7c4b",
   "metadata": {
    "pycharm": {
     "name": "#%%\n"
    }
   },
   "outputs": [
    {
     "data": {
      "text/plain": [
       "[Text(text='Jõgi saab alguse ülemjooksul (tihti on neid rohkem kui üks), kulgeb mööda rada või kanalit ning lõpeb suudmes või suudmetes.'),\n",
       " Text(text='Suuremate jõgede juures moodustub tihti lammiala, mida kujundavad üleujutused.'),\n",
       " Text(text='Jõed võivad voolata mägedest alla, läbi orgude või piki tasandikke ning moodustada kanjoneid või mäekurusid.'),\n",
       " Text(text='Mõiste „ülesvoolu“ viitab jõe ülemjooksu suuna poole ehk voolusuunale vastu.'),\n",
       " Text(text='Kui seista keset jõge või jõe kohal ja vaadata jõevoolu suunas ehk allavoolu, jääb vasak kallas vasakule ja parem kallas paremale.'),\n",
       " Text(text='Jõekanalis voolab vesi tavaliselt ühe joana, kuid mõned jõed voolavad mitme omavahel ühenduses oleva joana, moodustades põimitud jõe.'),\n",
       " Text(text='Neid esineb erosioonist mõjutatud tasasel maal ja mõningates suurtes jõe deltades.'),\n",
       " Text(text='Saksa hüdroloog Albert Brahms täheldas 1757. aastal, et jõge ärakantavate objektide veealune kaal on proportsionaalne jõe voolukiirusega kuuendas astmes.'),\n",
       " Text(text='Keskjooksul voolab jõgi kurviliselt tasasemal alal, kus kurvi väliskaldale mõjub erosioon ning kurvi sisekaldale sadestus, mis võib põhjustada meandrite moodustumist.'),\n",
       " Text(text='Suurel hulgal setteid kandvatel jõgedel võib areneda suudmesse silmapaistev delta.'),\n",
       " Text(text='Soolases merevees paikneva suudmega jõgedel võib moodustuda lehtersuue.'),\n",
       " Text(text='Allavoolu liikuv veehulk on kombinatsioon vaba vee hulgast ja märkimisväärsest hulgast veest, mis voolab läbi jõe ja selle lammi aluseks oleva aluspinna kivimite ja kruusa.'),\n",
       " Text(text='Paljude suurtes orgudes voolavate jõgede puhul võib see silmale nähtamatu komponent ületada nähtava vooluhulga.'),\n",
       " Text(text='Maa-alused ojad\\nMaa-alused jõed voolavad maa all paiknevates koobastes või tühimikes.'),\n",
       " Text(text='Selliseid jõgesid leidub sageli regioonides, kus esineb lubjakivist geoloogilisi moodustisi.'),\n",
       " Text(text='Jääalused ojad on põimunud jõed, mis voolavad liustike ja jääkatte sängides, takistades sulavetel liustike ees välja voolata.'),\n",
       " Text(text='Veevoolu kestus\\nKatkendliku vooluga jõgi voolab vaid vahetevahel ning võib aastaid olla kuiv.'),\n",
       " Text(text='Neid jõgesid leidub piiratud või väga varieeruvate sademetega regioonides.'),\n",
       " Text(text='Sellised jõed võivad esineda ka geoloogilistel põhjustel nagu ülimalt läbilaskev jõesäng.'),\n",
       " Text(text='Osa katkendliku vooluga jõgesid voolab vaid suvekuudel.'),\n",
       " Text(text='Suurte rahetormide tagajärjel tekkinud sulavesi võib tekitada mudast vett ja pinnast, millest moodustuvad ajutised jõed.'),\n",
       " Text(text='Jõgede liigitamine\\nJõgesid liigitatakse mitme kriteeriumi põhjal:'),\n",
       " Text(text='Topograafia\\nJõgesid liigitatakse uhtelisteks, aluskivimilisteks ja nende mõlema kombinatsiooniks.'),\n",
       " Text(text='Uhtelised jõed on sobivate tegurite olemasolul iseenesliku tekkega.'),\n",
       " Text(text='Vee vool hakkab sellistes kohtades pinnast erodeerima ja jõe kaldaid kujundama.'),\n",
       " Text(text='Aluskivimile tekkinud jõed kulgevad mööda looduslikke õõnsusi, näiteks orgusid, kus aluskivimi kiht on maapinnale palju lähemal.'),\n",
       " Text(text='Jõgesid, mis voolavad mõlemat liiki pinnasel, nimetatakse uhtelise ja aluskivimilise jõe kombinatsiooniks.'),\n",
       " Text(text='20. sajandi alguses klassifitseeris William Morris Davis jõgesid nende vanuse järgi.'),\n",
       " Text(text='Noor jõgi – suure languga, kitsas, sügav ja kiire vooluga jõgi.'),\n",
       " Text(text='Näiteks Võhandu jõgi.'),\n",
       " Text(text='Küps jõgi – laugem, laiem ja aeglasema vooluga kui noor jõgi.'),\n",
       " Text(text='Näiteks Pärnu jõgi.'),\n",
       " Text(text='Vana jõgi – väga väikse languga, erodeerumisprotsessi ei toimu, voolu kiirus aeglane.'),\n",
       " Text(text='Noorenenud jõgi – jõgi, mille lang on suurenenud pinnase kerkimise tõttu.'),\n",
       " Text(text='Näiteks Colorado jõgi Suures kanjonis.'),\n",
       " Text(text='Palgiparvetus Soomes 1938. aastal\\nBiootiline seis\\nBiootilist seisundit hinnatakse mitme süsteemiga, mis jagavad jõed kõige oligotroofsematest või vähem saastunutest kuni kõige eutroofsemate või saastunuteni.'),\n",
       " Text(text='[7] Euroopas on veepoliitika direktiivid viinud vajaduseni töötada välja palju klassifitseerimismeetodeid, mis hõlmavad ka kalade paiknemist jões.'),\n",
       " Text(text='[8] Prantsuse keelt kõnelevates piirkondades kasutatakse süsteemi, mis jagab jõe kolmeks tsooniks:'),\n",
       " Text(text='Crenon – jõe lähtele kõige lähemal asuv ala, madal veetemperatuur, hapnikuvaene ja aeglaselt voolav vesi.'),\n",
       " Text(text='Laevatatavus\\nHindamisel kasutatakse rahvusvahelist jõgede laevatatavuse skaalat.'),\n",
       " Text(text='Esimese klassi jõed on aeglase vooluga ning ilma takistusteta.'),\n",
       " Text(text='Kuuenda klassi jõed on väga kiire vooluga, kärestikulised, koskedega, suurte takistustega ja raskesti läbitavad.'),\n",
       " Text(text='Jõgede kasutusalad'),\n",
       " Text(text='Algselt vesiveskiks ehitatud hoonet täiendati 20. sajandi algul uusgooti stiilis elektrijaamaga\\nInimkonna algusest alates on jõed olnud elutähtsad.'),\n",
       " Text(text='Ürg- ja vanaajal, kui maanteed olid algelised ja kiired transpordivahendid puudusid, olid jõed olulised liikumisteed.'),\n",
       " Text(text='See sõltub küll piirkonnast, kuid alles keskajal arenes Euroopas maanteevõrk nii heaks, et jõed kaotasid oma tähtsuse põhilise liikumisteena.'),\n",
       " Text(text='Jõe vee jõudu hakati kasutama juba 2000 aastat tagasi inimese töö lihtsustamiseks.'),\n",
       " Text(text='[10] Jõgede vooluvett kasutatakse siiani elektri tootmiseks, kuid selle efektiivsus on palju väiksem kui teistel alternatiividel.'),\n",
       " Text(text='Maailma jõed\\nMaailma veerohkeim ja suurima valglaga jõgi on Amazonas.'),\n",
       " Text(text='Kõige pikemaks jõeks on sajandeid peetud Niilust, aga viimaste aastate uurimused on näidanud, et Amazonas on pikem.'),\n",
       " Text(text='Eesti jõed'),\n",
       " Text(text='Võhandu jõgi, mille ääres on Viira veskimüür.'),\n",
       " Text(text='Võhandu on pikim täielikult Eesti territooriumil asuv jõgi\\nNext.'),\n",
       " Text(text='svg Pikemalt artiklites Eesti jõed ja Eesti jõgede loend\\nEesti pikim jõgi on Võhandu jõgi.'),\n",
       " Text(text='Veerohkeim ja suurima valglaga on Narva jõgi, mis kuulub küpsete jõgede klassi.'),\n",
       " Text(text='Peale Narva jõe kuulub samasse klassi veel Suur-Emajõgi, mis on ainsana täies pikkuses laevatatav.'),\n",
       " Text(text='Ainukesena voolab nelja maakonna piires Põltsamaa jõgi.')]"
      ]
     },
     "execution_count": 53,
     "metadata": {},
     "output_type": "execute_result"
    }
   ],
   "source": [
    "filtered_sents"
   ]
  }
 ],
 "metadata": {
  "kernelspec": {
   "display_name": "Python 3",
   "language": "python",
   "name": "python3"
  },
  "language_info": {
   "codemirror_mode": {
    "name": "ipython",
    "version": 3
   },
   "file_extension": ".py",
   "mimetype": "text/x-python",
   "name": "python",
   "nbconvert_exporter": "python",
   "pygments_lexer": "ipython3",
   "version": "3.6.12"
  }
 },
 "nbformat": 4,
 "nbformat_minor": 5
}