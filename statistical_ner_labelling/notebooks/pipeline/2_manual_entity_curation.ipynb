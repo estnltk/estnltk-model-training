{
 "cells": [
  {
   "cell_type": "markdown",
   "id": "b0799f65",
   "metadata": {},
   "source": [
    "### Manual entity curation"
   ]
  },
  {
   "cell_type": "markdown",
   "id": "71a83660",
   "metadata": {},
   "source": [
    "This notebook filters the data to provide the user with the files that can be used for manually curating the rules."
   ]
  },
  {
   "cell_type": "markdown",
   "id": "5d0cfc38",
   "metadata": {},
   "source": [
    "File names for use in the following notebook"
   ]
  },
  {
   "cell_type": "code",
   "execution_count": 1,
   "id": "4acb7a8d",
   "metadata": {},
   "outputs": [],
   "source": [
    "entities = 'ner_counts_5000_lemmas.csv'\n",
    "country_list = 'riigid.txt'\n",
    "first_list = 'data/first_counts_lemma_5000.csv'\n",
    "last_list = 'data/last_counts_lemma_5000.csv'\n",
    "single_list = 'data/single_counts_lemma_5000.csv'"
   ]
  },
  {
   "cell_type": "markdown",
   "id": "b3d580c0",
   "metadata": {},
   "source": [
    "This example shows how curating country names could be done. In the previous step, all entities were divided into lists with single word, last word of multiword entities and the first words of multiword entities. For simplicity, since most country names contain one word, this notebook only looks into the single word names."
   ]
  },
  {
   "cell_type": "code",
   "execution_count": 2,
   "id": "ab93e042",
   "metadata": {},
   "outputs": [],
   "source": [
    "import pandas as pd\n",
    "\n",
    "single_table = pd.read_csv(single_list)"
   ]
  },
  {
   "cell_type": "code",
   "execution_count": 3,
   "id": "95f97609",
   "metadata": {},
   "outputs": [
    {
     "data": {
      "text/html": [
       "<div>\n",
       "<style scoped>\n",
       "    .dataframe tbody tr th:only-of-type {\n",
       "        vertical-align: middle;\n",
       "    }\n",
       "\n",
       "    .dataframe tbody tr th {\n",
       "        vertical-align: top;\n",
       "    }\n",
       "\n",
       "    .dataframe thead th {\n",
       "        text-align: right;\n",
       "    }\n",
       "</style>\n",
       "<table border=\"1\" class=\"dataframe\">\n",
       "  <thead>\n",
       "    <tr style=\"text-align: right;\">\n",
       "      <th></th>\n",
       "      <th>Unnamed: 0</th>\n",
       "      <th>PER</th>\n",
       "      <th>ORG</th>\n",
       "      <th>LOC</th>\n",
       "    </tr>\n",
       "  </thead>\n",
       "  <tbody>\n",
       "    <tr>\n",
       "      <th>0</th>\n",
       "      <td>Eminem</td>\n",
       "      <td>19.0</td>\n",
       "      <td>0.0</td>\n",
       "      <td>0.0</td>\n",
       "    </tr>\n",
       "    <tr>\n",
       "      <th>1</th>\n",
       "      <td>People</td>\n",
       "      <td>2.0</td>\n",
       "      <td>1.0</td>\n",
       "      <td>0.0</td>\n",
       "    </tr>\n",
       "    <tr>\n",
       "      <th>2</th>\n",
       "      <td>Hailie</td>\n",
       "      <td>2.0</td>\n",
       "      <td>0.0</td>\n",
       "      <td>0.0</td>\n",
       "    </tr>\n",
       "    <tr>\n",
       "      <th>3</th>\n",
       "      <td>Jimmy</td>\n",
       "      <td>7.0</td>\n",
       "      <td>0.0</td>\n",
       "      <td>0.0</td>\n",
       "    </tr>\n",
       "    <tr>\n",
       "      <th>4</th>\n",
       "      <td>Jimmyl</td>\n",
       "      <td>1.0</td>\n",
       "      <td>0.0</td>\n",
       "      <td>0.0</td>\n",
       "    </tr>\n",
       "    <tr>\n",
       "      <th>...</th>\n",
       "      <td>...</td>\n",
       "      <td>...</td>\n",
       "      <td>...</td>\n",
       "      <td>...</td>\n",
       "    </tr>\n",
       "    <tr>\n",
       "      <th>12652</th>\n",
       "      <td>RSbeta@xxxxx.ee</td>\n",
       "      <td>0.0</td>\n",
       "      <td>0.0</td>\n",
       "      <td>6.0</td>\n",
       "    </tr>\n",
       "    <tr>\n",
       "      <th>12653</th>\n",
       "      <td>MinNike-vs-mimmi-vs-Liisk</td>\n",
       "      <td>0.0</td>\n",
       "      <td>0.0</td>\n",
       "      <td>2.0</td>\n",
       "    </tr>\n",
       "    <tr>\n",
       "      <th>12654</th>\n",
       "      <td>LoLL@xxxxx.ee</td>\n",
       "      <td>0.0</td>\n",
       "      <td>0.0</td>\n",
       "      <td>1.0</td>\n",
       "    </tr>\n",
       "    <tr>\n",
       "      <th>12655</th>\n",
       "      <td>Syru</td>\n",
       "      <td>0.0</td>\n",
       "      <td>0.0</td>\n",
       "      <td>1.0</td>\n",
       "    </tr>\n",
       "    <tr>\n",
       "      <th>12656</th>\n",
       "      <td>XeRoXmas</td>\n",
       "      <td>0.0</td>\n",
       "      <td>0.0</td>\n",
       "      <td>11.0</td>\n",
       "    </tr>\n",
       "  </tbody>\n",
       "</table>\n",
       "<p>12657 rows × 4 columns</p>\n",
       "</div>"
      ],
      "text/plain": [
       "                      Unnamed: 0   PER  ORG   LOC\n",
       "0                         Eminem  19.0  0.0   0.0\n",
       "1                         People   2.0  1.0   0.0\n",
       "2                         Hailie   2.0  0.0   0.0\n",
       "3                          Jimmy   7.0  0.0   0.0\n",
       "4                         Jimmyl   1.0  0.0   0.0\n",
       "...                          ...   ...  ...   ...\n",
       "12652            RSbeta@xxxxx.ee   0.0  0.0   6.0\n",
       "12653  MinNike-vs-mimmi-vs-Liisk   0.0  0.0   2.0\n",
       "12654              LoLL@xxxxx.ee   0.0  0.0   1.0\n",
       "12655                       Syru   0.0  0.0   1.0\n",
       "12656                   XeRoXmas   0.0  0.0  11.0\n",
       "\n",
       "[12657 rows x 4 columns]"
      ]
     },
     "execution_count": 3,
     "metadata": {},
     "output_type": "execute_result"
    }
   ],
   "source": [
    "single_table"
   ]
  },
  {
   "cell_type": "code",
   "execution_count": 4,
   "id": "d357a867",
   "metadata": {},
   "outputs": [],
   "source": [
    "single_table.rename( columns={'Unnamed: 0':'Entity'}, inplace=True )"
   ]
  },
  {
   "cell_type": "markdown",
   "id": "b50b965e",
   "metadata": {},
   "source": [
    "Reading in the country names from a list of countries"
   ]
  },
  {
   "cell_type": "code",
   "execution_count": 5,
   "id": "c983f519",
   "metadata": {},
   "outputs": [],
   "source": [
    "countries = []\n",
    "with open(country_list,encoding='UTF-8') as f:\n",
    "    for line in f:\n",
    "        countries.append(line.rstrip())"
   ]
  },
  {
   "cell_type": "code",
   "execution_count": 6,
   "id": "39fdad22",
   "metadata": {},
   "outputs": [
    {
     "data": {
      "text/plain": [
       "['Ameerika Ühendriigid',\n",
       " 'Argentina',\n",
       " 'Austraalia',\n",
       " 'Belgia',\n",
       " 'Boliivia',\n",
       " 'Brasiilia',\n",
       " 'Colombia',\n",
       " 'Costa Rica',\n",
       " 'Dominikaani Vabariik',\n",
       " 'Egiptus',\n",
       " 'El Salvador',\n",
       " 'Ecuador',\n",
       " 'Etioopia',\n",
       " 'Filipiinid',\n",
       " 'Guatemala',\n",
       " 'Haiti',\n",
       " 'Hiina',\n",
       " 'Holland',\n",
       " 'Honduras',\n",
       " 'India',\n",
       " 'Iraak',\n",
       " 'Iraan',\n",
       " 'Jugoslaavia',\n",
       " 'Kanada',\n",
       " 'Kreeka',\n",
       " 'Kuuba',\n",
       " 'Libeeria',\n",
       " 'Liibanon',\n",
       " 'Luksemburg',\n",
       " 'Lõuna-Aafrika Vabariik',\n",
       " 'Mehhiko',\n",
       " 'Nicaragua',\n",
       " 'Norra',\n",
       " 'Panama',\n",
       " 'Paraguay',\n",
       " 'Peruu',\n",
       " 'Poola',\n",
       " 'Prantsusmaa',\n",
       " 'Saudi Araabia',\n",
       " 'Suurbritannia',\n",
       " 'Süüria',\n",
       " 'Taani',\n",
       " 'Tšehhoslovakkia',\n",
       " 'Tšiili',\n",
       " 'Türgi',\n",
       " 'Ukraina',\n",
       " 'Uruguay',\n",
       " 'Uus-Meremaa',\n",
       " 'Valgevene',\n",
       " 'Venemaa',\n",
       " 'Venezuela',\n",
       " 'Afganistan',\n",
       " 'Island',\n",
       " 'Rootsi',\n",
       " 'Tai',\n",
       " 'Jeemen',\n",
       " 'Pakistan',\n",
       " 'Myanmar',\n",
       " 'Iisrael',\n",
       " 'Indoneesia',\n",
       " 'Albaania',\n",
       " 'Austria',\n",
       " 'Bulgaaria',\n",
       " 'Hispaania',\n",
       " 'Iirimaa',\n",
       " 'Itaalia',\n",
       " 'Jordaania',\n",
       " 'Kambodža',\n",
       " 'Laos',\n",
       " 'Liibüa',\n",
       " 'Nepal',\n",
       " 'Portugal',\n",
       " 'Rumeenia',\n",
       " 'Sri Lanka',\n",
       " 'Soome',\n",
       " 'Ungari',\n",
       " 'Jaapan',\n",
       " 'Maroko',\n",
       " 'Sudaan',\n",
       " 'Tuneesia',\n",
       " 'Ghana',\n",
       " 'Malaisia',\n",
       " 'Guinea',\n",
       " 'Benin',\n",
       " 'Burkina Faso',\n",
       " 'Elevandiluurannik',\n",
       " 'Gabon',\n",
       " 'Kamerun',\n",
       " 'Kesk-Aafrika Vabariik',\n",
       " 'Kongo Vabariik',\n",
       " 'Kongo DV',\n",
       " 'Küpros',\n",
       " 'Madagaskar',\n",
       " 'Mali',\n",
       " 'Niger',\n",
       " 'Nigeeria',\n",
       " 'Senegal',\n",
       " 'Somaalia',\n",
       " 'Togo',\n",
       " 'Tšaad',\n",
       " 'Mauritaania',\n",
       " 'Mongoolia',\n",
       " 'Sierra Leone',\n",
       " 'Tansaania',\n",
       " 'Alžeeria',\n",
       " 'Burundi',\n",
       " 'Jamaica',\n",
       " 'Rwanda',\n",
       " 'Trinidad ja Tobago',\n",
       " 'Uganda',\n",
       " 'Keenia',\n",
       " 'Kuveit',\n",
       " 'Malawi',\n",
       " 'Malta',\n",
       " 'Sambia',\n",
       " 'Gambia',\n",
       " 'Maldiivid',\n",
       " 'Singapur',\n",
       " 'Barbados',\n",
       " 'Botswana',\n",
       " 'Guyana',\n",
       " 'Lesotho',\n",
       " 'Jeemen',\n",
       " 'Ekvatoriaal-Guinea',\n",
       " 'Mauritius',\n",
       " 'Svaasimaa',\n",
       " 'Fidži',\n",
       " 'Araabia Ühendemiraadid',\n",
       " 'Bahrein',\n",
       " 'Bhutan',\n",
       " 'Katar',\n",
       " 'Omaan',\n",
       " 'Bahama',\n",
       " 'Saksamaa',\n",
       " 'Bangladesh',\n",
       " 'Grenada',\n",
       " 'Guinea-Bissau',\n",
       " 'Cabo Verde',\n",
       " 'Komoorid',\n",
       " 'Mosambiik',\n",
       " 'Paapua Uus-Guinea',\n",
       " 'São Tomé ja Príncipe',\n",
       " 'Suriname',\n",
       " 'Angola',\n",
       " 'Samoa',\n",
       " 'Seišellid',\n",
       " 'Djibouti',\n",
       " 'Vietnam',\n",
       " 'Dominica',\n",
       " 'Saalomoni Saared',\n",
       " 'Saint Lucia',\n",
       " 'Saint Vincent ja Grenadiinid',\n",
       " 'Zimbabwe',\n",
       " 'Antigua ja Barbuda',\n",
       " 'Belize',\n",
       " 'Vanuatu',\n",
       " 'Saint Kitts ja Nevis',\n",
       " 'Brunei',\n",
       " 'Liechtenstein',\n",
       " 'Namiibia',\n",
       " 'Eesti',\n",
       " 'Leedu',\n",
       " 'Lõuna-Korea',\n",
       " 'Läti',\n",
       " 'Marshalli Saared',\n",
       " 'Mikroneesia',\n",
       " 'Põhja-Korea',\n",
       " 'Armeenia',\n",
       " 'Aserbaidžaan',\n",
       " 'Bosnia ja Hertsegoviina',\n",
       " 'Gruusia',\n",
       " 'Horvaatia',\n",
       " 'Kasahstan',\n",
       " 'Kõrgõzstan',\n",
       " 'Moldova',\n",
       " 'San Marino',\n",
       " 'Sloveenia',\n",
       " 'Tadžikistan',\n",
       " 'Türkmenistan',\n",
       " 'Usbekistan',\n",
       " 'Andorra',\n",
       " 'Eritrea',\n",
       " 'Monaco',\n",
       " 'Põhja-Makedoonia',\n",
       " 'Slovakkia',\n",
       " 'Tšehhi',\n",
       " 'Palau',\n",
       " 'Kiribati',\n",
       " 'Nauru',\n",
       " 'Tonga',\n",
       " 'Serbia',\n",
       " 'Tuvalu',\n",
       " 'Ida-Timor',\n",
       " 'Šveits',\n",
       " 'Montenegro',\n",
       " 'Lõuna-Sudaan']"
      ]
     },
     "execution_count": 6,
     "metadata": {},
     "output_type": "execute_result"
    }
   ],
   "source": [
    "countries"
   ]
  },
  {
   "cell_type": "markdown",
   "id": "ab445d91",
   "metadata": {},
   "source": [
    "Each entity is looked for in the country table to create a new filtered table of countries and the frequencies with which they appeared. It is also sorted by priority for the curation, here based on the frequency of it having a LOC tag."
   ]
  },
  {
   "cell_type": "code",
   "execution_count": 7,
   "id": "15451be9",
   "metadata": {},
   "outputs": [],
   "source": [
    "country_rows = []\n",
    "for row in single_table.itertuples():\n",
    "    if row.Entity in countries:\n",
    "        country_rows.append(row)"
   ]
  },
  {
   "cell_type": "code",
   "execution_count": 8,
   "id": "12c53803",
   "metadata": {},
   "outputs": [],
   "source": [
    "country_rows = pd.DataFrame(country_rows).sort_values('LOC',ascending=False)"
   ]
  },
  {
   "cell_type": "markdown",
   "id": "42e62930",
   "metadata": {},
   "source": [
    "This subset of the data that we are interested in is saved to a file in the data folder"
   ]
  },
  {
   "cell_type": "code",
   "execution_count": 9,
   "id": "494d4313",
   "metadata": {},
   "outputs": [],
   "source": [
    "country_rows.to_csv('data/countries.csv')"
   ]
  },
  {
   "cell_type": "markdown",
   "id": "5e2d9c2a",
   "metadata": {},
   "source": [
    "Now the files for curation are created. The function takes 3 arguments: the first is the input file with the counts created in the previous cell, the second is the name of the file where the filtered rows are written to for curation and the third argument is the count of rows to be written to the output file.\n",
    "\n",
    "The function compares the input list to the entities saved in the 'entities/' folder. If the input does not appear in at least one of these folders, it will go to the curation file. If it is already curated for all the categories, it will be filtered out and not shown to the user. Note that the 'entities/' folder must have a folder for each category pre-made."
   ]
  },
  {
   "cell_type": "code",
   "execution_count": 10,
   "id": "666fe9de",
   "metadata": {},
   "outputs": [],
   "source": [
    "import os\n",
    "\n",
    "def create_curation_files(counts_file,output_file,n_next):\n",
    "    curr_list = pd.read_csv(counts_file)\n",
    "    curr_list.drop('Unnamed: 0',axis=1,inplace=True)\n",
    "    existing = []\n",
    "    isdircount = 0\n",
    "    for column in curr_list.columns:\n",
    "        if os.path.isdir('entities/'+column):\n",
    "            isdircount += 1\n",
    "            for file in os.listdir('entities/'+column):\n",
    "                df = pd.read_csv('entities/'+column+'/'+file)\n",
    "                existing.extend(df.Entity)\n",
    "    to_ignore = set()\n",
    "    for el in existing:\n",
    "        if existing.count(el) == isdircount:\n",
    "            to_ignore.add(el)\n",
    "    to_curate = curr_list.drop(curr_list[curr_list.Entity.isin(to_ignore)].index)[:n_next]\n",
    "    counter = 2\n",
    "    while os.path.exists(output_file):\n",
    "        parts = output_file.split('.')\n",
    "        name = parts[0].split('_')\n",
    "        output_file = name[0] + '_' + str(counter) + '.' + parts[1]\n",
    "        counter +=1\n",
    "    to_curate.to_csv(output_file)\n",
    "    print('Created file ' + output_file)"
   ]
  },
  {
   "cell_type": "code",
   "execution_count": 11,
   "id": "ee4e1a58",
   "metadata": {},
   "outputs": [
    {
     "name": "stdout",
     "output_type": "stream",
     "text": [
      "Created file inputs/countries_18.csv\n"
     ]
    }
   ],
   "source": [
    "create_curation_files('data/countries.csv','inputs/countries.csv',n_next=20)"
   ]
  },
  {
   "cell_type": "markdown",
   "id": "01ad3ad5",
   "metadata": {},
   "source": [
    "In this step, the user should curate the file created. After that, the following function saves the results to the 'entities/' folder and creates a copy of the curated file to the 'outputs/' folder.\n",
    "\n",
    "This function takes two arguments, the first is the file that you just curated and the second is the file name where to save these in the entities folder. Note that results in the entities folder will be overwritten if that file already exists."
   ]
  },
  {
   "cell_type": "code",
   "execution_count": 97,
   "id": "c9de9e6c",
   "metadata": {},
   "outputs": [],
   "source": [
    "def save_manual_curation(curated_file,target_file):\n",
    "    df = pd.read_csv(curated_file)\n",
    "    parts = curated_file.split('/')\n",
    "    df.to_csv('outputs/'+parts[1])\n",
    "    for column in df.columns:\n",
    "        if column not in ('Unnamed: 0','Index','Entity'):\n",
    "            series = df[['Entity',column]]\n",
    "            series.to_csv('entities/'+column.lower()+'/'+target_file)"
   ]
  },
  {
   "cell_type": "code",
   "execution_count": 98,
   "id": "f3527b2c",
   "metadata": {},
   "outputs": [],
   "source": [
    "save_manual_curation('inputs/countries_17.csv','countries_2.csv')"
   ]
  }
 ],
 "metadata": {
  "kernelspec": {
   "display_name": "Python 3",
   "language": "python",
   "name": "python3"
  },
  "language_info": {
   "codemirror_mode": {
    "name": "ipython",
    "version": 3
   },
   "file_extension": ".py",
   "mimetype": "text/x-python",
   "name": "python",
   "nbconvert_exporter": "python",
   "pygments_lexer": "ipython3",
   "version": "3.6.12"
  }
 },
 "nbformat": 4,
 "nbformat_minor": 5
}
