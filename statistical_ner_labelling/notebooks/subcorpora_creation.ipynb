{
 "cells": [
  {
   "cell_type": "code",
   "execution_count": 12,
   "id": "e0a3d38c",
   "metadata": {},
   "outputs": [
    {
     "name": "stdout",
     "output_type": "stream",
     "text": [
      "INFO:storage.py:42: connecting to host: 'postgres.keeleressursid.ee', port: 5432, dbname: 'estonian-text-corpora', user: 'rasmusm'\n",
      "INFO:storage.py:58: schema: 'estonian_text_corpora', temporary: False, role: 'estonian_text_corpora_read'\n"
     ]
    }
   ],
   "source": [
    "from estnltk import Text\n",
    "from estnltk.storage.postgres import PostgresStorage, create_schema\n",
    "\n",
    "storage = PostgresStorage(host='postgres.keeleressursid.ee',\n",
    "                          port=5432,\n",
    "                          dbname='estonian-text-corpora',\n",
    "                          user='rasmusm',\n",
    "                          password='',\n",
    "                          schema='estonian_text_corpora',\n",
    "                          role='estonian_text_corpora_read',\n",
    "                          temporary=False)"
   ]
  },
  {
   "cell_type": "code",
   "execution_count": 13,
   "id": "d1c8b086",
   "metadata": {},
   "outputs": [],
   "source": [
    "collection = storage['koondkorpus_base_subset_of_5000_v2']"
   ]
  },
  {
   "cell_type": "code",
   "execution_count": 14,
   "id": "f83c8a53",
   "metadata": {},
   "outputs": [],
   "source": [
    "collection.selected_layers = ['v171_geo_terms','v169_named_entities','v166_sentences','v166_morph_analysis']"
   ]
  },
  {
   "cell_type": "code",
   "execution_count": 28,
   "id": "6f998338",
   "metadata": {},
   "outputs": [],
   "source": [
    "from estnltk.vabamorf.morf import synthesize\n",
    "\n",
    "#q = LayerQuery('v166_morph_analysis', lemma='jõgi')\n",
    "cases = [\n",
    "    ('n', 'nimetav'),\n",
    "    ('g', 'omastav'),\n",
    "    ('p', 'osastav'),\n",
    "    ('ill', 'sisseütlev'),\n",
    "    ('in', 'seesütlev'),\n",
    "    ('el', 'seestütlev'),\n",
    "    ('all', 'alaleütlev'),\n",
    "    ('ad', 'alalütlev'),\n",
    "    ('abl', 'alaltütlev'),\n",
    "    ('tr', 'saav'),\n",
    "    ('ter', 'rajav'),\n",
    "    ('es', 'olev'),\n",
    "    ('ab', 'ilmaütlev'),\n",
    "    ('kom', 'kaasaütlev')]\n",
    "\n",
    "all_forms = []\n",
    "for case, name in cases:\n",
    "    all_forms.append(', '.join(synthesize('kanal', 'sg ' + case, 'S')))\n",
    "    all_forms.append(', '.join(synthesize('kanal', 'pl ' + case, 'S')))"
   ]
  },
  {
   "cell_type": "code",
   "execution_count": 30,
   "id": "73199a01",
   "metadata": {},
   "outputs": [],
   "source": [
    "from estnltk.storage.postgres import SubstringQuery, LayerQuery\n",
    "\n",
    "#We are not sampling sentences but instead texts and then taking the first sentence that fits criteria\n",
    "sampled_sentences = []\n",
    "q = SubstringQuery('kanal')\n",
    "for text_id, text_obj in collection.select(query=q, layers=['v171_geo_terms','v166_sentences']).sample(amount=50,amount_type='SIZE'):\n",
    "    for term in text_obj.v171_geo_terms:\n",
    "        if term.text in all_forms:\n",
    "            for sentence in text_obj.v166_sentences:\n",
    "                if sentence.end > term.start:\n",
    "                    sampled_sentences.append(sentence)\n",
    "                    break"
   ]
  },
  {
   "cell_type": "code",
   "execution_count": null,
   "id": "71521c4b",
   "metadata": {},
   "outputs": [],
   "source": [
    "#Getting sentences to labelstudio format"
   ]
  },
  {
   "cell_type": "code",
   "execution_count": 37,
   "id": "3406ed7c",
   "metadata": {},
   "outputs": [],
   "source": [
    "from estnltk.converters.label_studio.label_studio import export_texts"
   ]
  },
  {
   "cell_type": "code",
   "execution_count": 38,
   "id": "a566bfe1",
   "metadata": {},
   "outputs": [],
   "source": [
    "from estnltk import Text\n",
    "\n",
    "sampled_texts = []\n",
    "for snt in sampled_sentences:\n",
    "    sampled_texts.append(Text(' '.join(snt.text)))"
   ]
  },
  {
   "cell_type": "code",
   "execution_count": 46,
   "id": "9d04f18d",
   "metadata": {},
   "outputs": [],
   "source": [
    "from estnltk.taggers.system.rule_taggers import SubstringTagger,Ruleset,StaticExtractionRule\n",
    "\n",
    "ruleset = Ruleset()"
   ]
  },
  {
   "cell_type": "code",
   "execution_count": 47,
   "id": "391d05c0",
   "metadata": {},
   "outputs": [],
   "source": [
    "ruleset.add_rules([StaticExtractionRule('kanal')])"
   ]
  },
  {
   "cell_type": "code",
   "execution_count": 48,
   "id": "c908be71",
   "metadata": {},
   "outputs": [],
   "source": [
    "tagger = SubstringTagger(ruleset=ruleset)"
   ]
  },
  {
   "cell_type": "code",
   "execution_count": 49,
   "id": "b0a9a579",
   "metadata": {},
   "outputs": [],
   "source": [
    "for txt in sampled_texts:\n",
    "    tagger.tag(txt)"
   ]
  },
  {
   "cell_type": "code",
   "execution_count": 53,
   "id": "0b55b2ac",
   "metadata": {},
   "outputs": [],
   "source": [
    "layer_list = []\n",
    "for txt in sampled_texts:\n",
    "    layer_list.append(txt.terms)"
   ]
  },
  {
   "cell_type": "code",
   "execution_count": 55,
   "id": "60c972d8",
   "metadata": {},
   "outputs": [],
   "source": [
    "export_texts('ls_converted.json',sampled_texts,layer_list)"
   ]
  }
 ],
 "metadata": {
  "kernelspec": {
   "display_name": "Python 3",
   "language": "python",
   "name": "python3"
  },
  "language_info": {
   "codemirror_mode": {
    "name": "ipython",
    "version": 3
   },
   "file_extension": ".py",
   "mimetype": "text/x-python",
   "name": "python",
   "nbconvert_exporter": "python",
   "pygments_lexer": "ipython3",
   "version": "3.6.12"
  }
 },
 "nbformat": 4,
 "nbformat_minor": 5
}
