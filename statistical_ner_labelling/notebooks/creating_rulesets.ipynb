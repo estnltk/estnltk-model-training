{
 "cells": [
  {
   "cell_type": "markdown",
   "id": "5897ad66",
   "metadata": {
    "pycharm": {
     "name": "#%% md\n"
    }
   },
   "source": [
    "## Creating rulesets"
   ]
  },
  {
   "cell_type": "markdown",
   "id": "7f23716f",
   "metadata": {
    "pycharm": {
     "name": "#%% md\n"
    }
   },
   "source": [
    "This is the step that filters the lists of entities to pick out those that we want to use for creating the rulesets. Not all found entities are good quality and sometimes we are interested in just some specific types. Here are some examples of how to work with the long entity lists."
   ]
  },
  {
   "cell_type": "markdown",
   "id": "11e59da4",
   "metadata": {
    "pycharm": {
     "name": "#%% md\n"
    }
   },
   "source": [
    "We can work with the full data by reading in the csv."
   ]
  },
  {
   "cell_type": "code",
   "execution_count": 2,
   "id": "bbf1bf3a",
   "metadata": {
    "pycharm": {
     "name": "#%%\n"
    }
   },
   "outputs": [],
   "source": [
    "import pandas as pd\n",
    "\n",
    "data = pd.read_csv('ner_counts.csv')"
   ]
  },
  {
   "cell_type": "code",
   "execution_count": 3,
   "id": "77c9749a",
   "metadata": {
    "pycharm": {
     "name": "#%%\n"
    }
   },
   "outputs": [
    {
     "data": {
      "text/html": [
       "<div>\n",
       "<style scoped>\n",
       "    .dataframe tbody tr th:only-of-type {\n",
       "        vertical-align: middle;\n",
       "    }\n",
       "\n",
       "    .dataframe tbody tr th {\n",
       "        vertical-align: top;\n",
       "    }\n",
       "\n",
       "    .dataframe thead th {\n",
       "        text-align: right;\n",
       "    }\n",
       "</style>\n",
       "<table border=\"1\" class=\"dataframe\">\n",
       "  <thead>\n",
       "    <tr style=\"text-align: right;\">\n",
       "      <th></th>\n",
       "      <th>Unnamed: 0</th>\n",
       "      <th>entity</th>\n",
       "      <th>label</th>\n",
       "      <th>count</th>\n",
       "    </tr>\n",
       "  </thead>\n",
       "  <tbody>\n",
       "    <tr>\n",
       "      <th>0</th>\n",
       "      <td>0</td>\n",
       "      <td>('Ühendriigid',)</td>\n",
       "      <td>LOC</td>\n",
       "      <td>1</td>\n",
       "    </tr>\n",
       "    <tr>\n",
       "      <th>1</th>\n",
       "      <td>1</td>\n",
       "      <td>('Leedusse',)</td>\n",
       "      <td>LOC</td>\n",
       "      <td>1</td>\n",
       "    </tr>\n",
       "    <tr>\n",
       "      <th>2</th>\n",
       "      <td>2</td>\n",
       "      <td>('Leedu', 'välisministeeriumi')</td>\n",
       "      <td>ORG</td>\n",
       "      <td>1</td>\n",
       "    </tr>\n",
       "    <tr>\n",
       "      <th>3</th>\n",
       "      <td>3</td>\n",
       "      <td>('Interfaxile',)</td>\n",
       "      <td>ORG</td>\n",
       "      <td>1</td>\n",
       "    </tr>\n",
       "    <tr>\n",
       "      <th>4</th>\n",
       "      <td>4</td>\n",
       "      <td>('Bill', 'Clinton')</td>\n",
       "      <td>PER</td>\n",
       "      <td>2</td>\n",
       "    </tr>\n",
       "    <tr>\n",
       "      <th>...</th>\n",
       "      <td>...</td>\n",
       "      <td>...</td>\n",
       "      <td>...</td>\n",
       "      <td>...</td>\n",
       "    </tr>\n",
       "    <tr>\n",
       "      <th>4126</th>\n",
       "      <td>4126</td>\n",
       "      <td>('Külli', 'Hansen', 'Sebra')</td>\n",
       "      <td>PER</td>\n",
       "      <td>1</td>\n",
       "    </tr>\n",
       "    <tr>\n",
       "      <th>4127</th>\n",
       "      <td>4127</td>\n",
       "      <td>('Fancy',)</td>\n",
       "      <td>LOC</td>\n",
       "      <td>1</td>\n",
       "    </tr>\n",
       "    <tr>\n",
       "      <th>4128</th>\n",
       "      <td>4128</td>\n",
       "      <td>('Fun', '&amp;', 'Fancy')</td>\n",
       "      <td>ORG</td>\n",
       "      <td>4</td>\n",
       "    </tr>\n",
       "    <tr>\n",
       "      <th>4129</th>\n",
       "      <td>4129</td>\n",
       "      <td>('Hinnad', 'Sebra', 'galeriist')</td>\n",
       "      <td>ORG</td>\n",
       "      <td>1</td>\n",
       "    </tr>\n",
       "    <tr>\n",
       "      <th>4130</th>\n",
       "      <td>4130</td>\n",
       "      <td>('Krista', 'Kivisalu')</td>\n",
       "      <td>PER</td>\n",
       "      <td>1</td>\n",
       "    </tr>\n",
       "  </tbody>\n",
       "</table>\n",
       "<p>4131 rows × 4 columns</p>\n",
       "</div>"
      ],
      "text/plain": [
       "      Unnamed: 0                            entity label  count\n",
       "0              0                  ('Ühendriigid',)   LOC      1\n",
       "1              1                     ('Leedusse',)   LOC      1\n",
       "2              2   ('Leedu', 'välisministeeriumi')   ORG      1\n",
       "3              3                  ('Interfaxile',)   ORG      1\n",
       "4              4               ('Bill', 'Clinton')   PER      2\n",
       "...          ...                               ...   ...    ...\n",
       "4126        4126      ('Külli', 'Hansen', 'Sebra')   PER      1\n",
       "4127        4127                        ('Fancy',)   LOC      1\n",
       "4128        4128             ('Fun', '&', 'Fancy')   ORG      4\n",
       "4129        4129  ('Hinnad', 'Sebra', 'galeriist')   ORG      1\n",
       "4130        4130            ('Krista', 'Kivisalu')   PER      1\n",
       "\n",
       "[4131 rows x 4 columns]"
      ]
     },
     "execution_count": 3,
     "metadata": {},
     "output_type": "execute_result"
    }
   ],
   "source": [
    "data"
   ]
  },
  {
   "cell_type": "markdown",
   "id": "02c6e528",
   "metadata": {
    "pycharm": {
     "name": "#%% md\n"
    }
   },
   "source": [
    "However, it might be more practical to use the lists of first words, last words and singletons created in the previous step."
   ]
  },
  {
   "cell_type": "code",
   "execution_count": 5,
   "id": "c3939beb",
   "metadata": {
    "pycharm": {
     "name": "#%%\n"
    }
   },
   "outputs": [],
   "source": [
    "first_words = pd.read_csv('data/first_counts.csv')"
   ]
  },
  {
   "cell_type": "code",
   "execution_count": 7,
   "id": "49e509b3",
   "metadata": {
    "pycharm": {
     "name": "#%%\n"
    }
   },
   "outputs": [],
   "source": [
    "last_words = pd.read_csv('data/last_counts.csv')"
   ]
  },
  {
   "cell_type": "code",
   "execution_count": 8,
   "id": "f6f70a4f",
   "metadata": {
    "pycharm": {
     "name": "#%%\n"
    }
   },
   "outputs": [],
   "source": [
    "single_words = pd.read_csv('data/single_counts.csv')"
   ]
  },
  {
   "cell_type": "markdown",
   "id": "a68e713f",
   "metadata": {
    "pycharm": {
     "name": "#%% md\n"
    }
   },
   "source": [
    "As an example, let's create a ruleset based on 50 most popular LOC last words"
   ]
  },
  {
   "cell_type": "code",
   "execution_count": 14,
   "id": "ccb25e36",
   "metadata": {
    "pycharm": {
     "name": "#%%\n"
    }
   },
   "outputs": [
    {
     "data": {
      "text/html": [
       "<div>\n",
       "<style scoped>\n",
       "    .dataframe tbody tr th:only-of-type {\n",
       "        vertical-align: middle;\n",
       "    }\n",
       "\n",
       "    .dataframe tbody tr th {\n",
       "        vertical-align: top;\n",
       "    }\n",
       "\n",
       "    .dataframe thead th {\n",
       "        text-align: right;\n",
       "    }\n",
       "</style>\n",
       "<table border=\"1\" class=\"dataframe\">\n",
       "  <thead>\n",
       "    <tr style=\"text-align: right;\">\n",
       "      <th></th>\n",
       "      <th>Unnamed: 0</th>\n",
       "      <th>ORG</th>\n",
       "      <th>PER</th>\n",
       "      <th>LOC</th>\n",
       "    </tr>\n",
       "  </thead>\n",
       "  <tbody>\n",
       "    <tr>\n",
       "      <th>3</th>\n",
       "      <td>Liidu</td>\n",
       "      <td>15.0</td>\n",
       "      <td>0.0</td>\n",
       "      <td>18.0</td>\n",
       "    </tr>\n",
       "    <tr>\n",
       "      <th>1776</th>\n",
       "      <td>linna</td>\n",
       "      <td>0.0</td>\n",
       "      <td>0.0</td>\n",
       "      <td>7.0</td>\n",
       "    </tr>\n",
       "    <tr>\n",
       "      <th>1786</th>\n",
       "      <td>riik</td>\n",
       "      <td>0.0</td>\n",
       "      <td>0.0</td>\n",
       "      <td>6.0</td>\n",
       "    </tr>\n",
       "    <tr>\n",
       "      <th>1773</th>\n",
       "      <td>riikides</td>\n",
       "      <td>0.0</td>\n",
       "      <td>0.0</td>\n",
       "      <td>4.0</td>\n",
       "    </tr>\n",
       "    <tr>\n",
       "      <th>70</th>\n",
       "      <td>Liidus</td>\n",
       "      <td>2.0</td>\n",
       "      <td>0.0</td>\n",
       "      <td>4.0</td>\n",
       "    </tr>\n",
       "    <tr>\n",
       "      <th>...</th>\n",
       "      <td>...</td>\n",
       "      <td>...</td>\n",
       "      <td>...</td>\n",
       "      <td>...</td>\n",
       "    </tr>\n",
       "    <tr>\n",
       "      <th>1668</th>\n",
       "      <td>Annabelile</td>\n",
       "      <td>0.0</td>\n",
       "      <td>1.0</td>\n",
       "      <td>0.0</td>\n",
       "    </tr>\n",
       "    <tr>\n",
       "      <th>1719</th>\n",
       "      <td>Veski</td>\n",
       "      <td>0.0</td>\n",
       "      <td>1.0</td>\n",
       "      <td>0.0</td>\n",
       "    </tr>\n",
       "    <tr>\n",
       "      <th>1721</th>\n",
       "      <td>Aarma</td>\n",
       "      <td>0.0</td>\n",
       "      <td>1.0</td>\n",
       "      <td>0.0</td>\n",
       "    </tr>\n",
       "    <tr>\n",
       "      <th>1749</th>\n",
       "      <td>Kõrtsini</td>\n",
       "      <td>0.0</td>\n",
       "      <td>1.0</td>\n",
       "      <td>0.0</td>\n",
       "    </tr>\n",
       "    <tr>\n",
       "      <th>920</th>\n",
       "      <td>Laraque</td>\n",
       "      <td>0.0</td>\n",
       "      <td>1.0</td>\n",
       "      <td>0.0</td>\n",
       "    </tr>\n",
       "  </tbody>\n",
       "</table>\n",
       "<p>1840 rows × 4 columns</p>\n",
       "</div>"
      ],
      "text/plain": [
       "      Unnamed: 0   ORG  PER   LOC\n",
       "3          Liidu  15.0  0.0  18.0\n",
       "1776       linna   0.0  0.0   7.0\n",
       "1786        riik   0.0  0.0   6.0\n",
       "1773    riikides   0.0  0.0   4.0\n",
       "70        Liidus   2.0  0.0   4.0\n",
       "...          ...   ...  ...   ...\n",
       "1668  Annabelile   0.0  1.0   0.0\n",
       "1719       Veski   0.0  1.0   0.0\n",
       "1721       Aarma   0.0  1.0   0.0\n",
       "1749    Kõrtsini   0.0  1.0   0.0\n",
       "920      Laraque   0.0  1.0   0.0\n",
       "\n",
       "[1840 rows x 4 columns]"
      ]
     },
     "execution_count": 14,
     "metadata": {},
     "output_type": "execute_result"
    }
   ],
   "source": [
    "last_words = last_words.sort_values('LOC',ascending=False)\n",
    "last_words"
   ]
  },
  {
   "cell_type": "code",
   "execution_count": 17,
   "id": "1663644d",
   "metadata": {
    "pycharm": {
     "name": "#%%\n"
    }
   },
   "outputs": [],
   "source": [
    "last_words.rename( columns={'Unnamed: 0':'Entity'}, inplace=True )"
   ]
  },
  {
   "cell_type": "code",
   "execution_count": 45,
   "id": "7967b09a",
   "metadata": {
    "pycharm": {
     "name": "#%%\n"
    }
   },
   "outputs": [
    {
     "data": {
      "text/plain": [
       "3                Liidu\n",
       "1776             linna\n",
       "1786              riik\n",
       "1773          riikides\n",
       "70              Liidus\n",
       "1835              meri\n",
       "1833         osariigis\n",
       "1817              mere\n",
       "69                Liit\n",
       "1834              jõgi\n",
       "1771           Araabia\n",
       "1810               jõe\n",
       "1782         Kesklinna\n",
       "1790      Ühendriikide\n",
       "1781              lahe\n",
       "1783              linn\n",
       "1808             riigi\n",
       "91              Yorgis\n",
       "1804             külas\n",
       "1809            vallas\n",
       "1793            Jersey\n",
       "1774             Leedu\n",
       "1814           Liiduga\n",
       "1797             külla\n",
       "1799             Citys\n",
       "324            Erakond\n",
       "1801         maakonnas\n",
       "1824             Kenya\n",
       "1820           Aafrika\n",
       "1837         Tammsaare\n",
       "1822           riikide\n",
       "1823             Diego\n",
       "1826     Beltsville'is\n",
       "1825         Bethesdas\n",
       "1819        Vabariigis\n",
       "1827          osariigi\n",
       "1828           riigile\n",
       "1829         Tõnismäel\n",
       "1805              NSVs\n",
       "1798           16 0 16\n",
       "1802            riigis\n",
       "1803           Kaunase\n",
       "1807    Lelle-Viljandi\n",
       "1811     Föderatsiooni\n",
       "1812           linnaga\n",
       "1813             Asula\n",
       "1815         poolsaare\n",
       "1816           ookeani\n",
       "1818             merel\n",
       "1800         Lissaboni\n",
       "Name: Entity, dtype: object"
      ]
     },
     "execution_count": 45,
     "metadata": {},
     "output_type": "execute_result"
    }
   ],
   "source": [
    "word_list = last_words['Entity'][:50]\n",
    "word_list"
   ]
  },
  {
   "cell_type": "markdown",
   "id": "3dc79d97",
   "metadata": {
    "pycharm": {
     "name": "#%% md\n"
    }
   },
   "source": [
    "Rulesets can be easily created from CSV files with the load() function. Note that the first row of the CSV file is for column names and the second row is for column types. The following rows contain the values which will be turned into rules. It does not work with an index column so that must be set to false."
   ]
  },
  {
   "cell_type": "code",
   "execution_count": 46,
   "id": "24bd2058",
   "metadata": {
    "pycharm": {
     "name": "#%%\n"
    }
   },
   "outputs": [],
   "source": [
    "word_list = pd.concat([pd.Series(['string']), word_list])\n"
   ]
  },
  {
   "cell_type": "code",
   "execution_count": 47,
   "id": "99616022",
   "metadata": {
    "pycharm": {
     "name": "#%%\n"
    }
   },
   "outputs": [],
   "source": [
    "pd.DataFrame(word_list).to_csv('top_50.csv',index=False)"
   ]
  },
  {
   "cell_type": "code",
   "execution_count": 48,
   "id": "e0ee2e2d",
   "metadata": {
    "scrolled": true,
    "pycharm": {
     "name": "#%%\n"
    }
   },
   "outputs": [],
   "source": [
    "from estnltk.taggers.system.rule_taggers import Ruleset\n",
    "ruleset = Ruleset()\n",
    "ruleset.load('top_50.csv')"
   ]
  },
  {
   "cell_type": "code",
   "execution_count": 49,
   "id": "34086805",
   "metadata": {
    "pycharm": {
     "name": "#%%\n"
    }
   },
   "outputs": [
    {
     "data": {
      "text/plain": [
       "[StaticExtractionRule(pattern='Liidu', attributes={}, group=0, priority=0),\n",
       " StaticExtractionRule(pattern='linna', attributes={}, group=0, priority=0),\n",
       " StaticExtractionRule(pattern='riik', attributes={}, group=0, priority=0),\n",
       " StaticExtractionRule(pattern='riikides', attributes={}, group=0, priority=0),\n",
       " StaticExtractionRule(pattern='Liidus', attributes={}, group=0, priority=0),\n",
       " StaticExtractionRule(pattern='meri', attributes={}, group=0, priority=0),\n",
       " StaticExtractionRule(pattern='osariigis', attributes={}, group=0, priority=0),\n",
       " StaticExtractionRule(pattern='mere', attributes={}, group=0, priority=0),\n",
       " StaticExtractionRule(pattern='Liit', attributes={}, group=0, priority=0),\n",
       " StaticExtractionRule(pattern='jõgi', attributes={}, group=0, priority=0),\n",
       " StaticExtractionRule(pattern='Araabia', attributes={}, group=0, priority=0),\n",
       " StaticExtractionRule(pattern='jõe', attributes={}, group=0, priority=0),\n",
       " StaticExtractionRule(pattern='Kesklinna', attributes={}, group=0, priority=0),\n",
       " StaticExtractionRule(pattern='Ühendriikide', attributes={}, group=0, priority=0),\n",
       " StaticExtractionRule(pattern='lahe', attributes={}, group=0, priority=0),\n",
       " StaticExtractionRule(pattern='linn', attributes={}, group=0, priority=0),\n",
       " StaticExtractionRule(pattern='riigi', attributes={}, group=0, priority=0),\n",
       " StaticExtractionRule(pattern='Yorgis', attributes={}, group=0, priority=0),\n",
       " StaticExtractionRule(pattern='külas', attributes={}, group=0, priority=0),\n",
       " StaticExtractionRule(pattern='vallas', attributes={}, group=0, priority=0),\n",
       " StaticExtractionRule(pattern='Jersey', attributes={}, group=0, priority=0),\n",
       " StaticExtractionRule(pattern='Leedu', attributes={}, group=0, priority=0),\n",
       " StaticExtractionRule(pattern='Liiduga', attributes={}, group=0, priority=0),\n",
       " StaticExtractionRule(pattern='külla', attributes={}, group=0, priority=0),\n",
       " StaticExtractionRule(pattern='Citys', attributes={}, group=0, priority=0),\n",
       " StaticExtractionRule(pattern='Erakond', attributes={}, group=0, priority=0),\n",
       " StaticExtractionRule(pattern='maakonnas', attributes={}, group=0, priority=0),\n",
       " StaticExtractionRule(pattern='Kenya', attributes={}, group=0, priority=0),\n",
       " StaticExtractionRule(pattern='Aafrika', attributes={}, group=0, priority=0),\n",
       " StaticExtractionRule(pattern='Tammsaare', attributes={}, group=0, priority=0),\n",
       " StaticExtractionRule(pattern='riikide', attributes={}, group=0, priority=0),\n",
       " StaticExtractionRule(pattern='Diego', attributes={}, group=0, priority=0),\n",
       " StaticExtractionRule(pattern=\"Beltsville'is\", attributes={}, group=0, priority=0),\n",
       " StaticExtractionRule(pattern='Bethesdas', attributes={}, group=0, priority=0),\n",
       " StaticExtractionRule(pattern='Vabariigis', attributes={}, group=0, priority=0),\n",
       " StaticExtractionRule(pattern='osariigi', attributes={}, group=0, priority=0),\n",
       " StaticExtractionRule(pattern='riigile', attributes={}, group=0, priority=0),\n",
       " StaticExtractionRule(pattern='Tõnismäel', attributes={}, group=0, priority=0),\n",
       " StaticExtractionRule(pattern='NSVs', attributes={}, group=0, priority=0),\n",
       " StaticExtractionRule(pattern='16 0 16', attributes={}, group=0, priority=0),\n",
       " StaticExtractionRule(pattern='riigis', attributes={}, group=0, priority=0),\n",
       " StaticExtractionRule(pattern='Kaunase', attributes={}, group=0, priority=0),\n",
       " StaticExtractionRule(pattern='Lelle-Viljandi', attributes={}, group=0, priority=0),\n",
       " StaticExtractionRule(pattern='Föderatsiooni', attributes={}, group=0, priority=0),\n",
       " StaticExtractionRule(pattern='linnaga', attributes={}, group=0, priority=0),\n",
       " StaticExtractionRule(pattern='Asula', attributes={}, group=0, priority=0),\n",
       " StaticExtractionRule(pattern='poolsaare', attributes={}, group=0, priority=0),\n",
       " StaticExtractionRule(pattern='ookeani', attributes={}, group=0, priority=0),\n",
       " StaticExtractionRule(pattern='merel', attributes={}, group=0, priority=0),\n",
       " StaticExtractionRule(pattern='Lissaboni', attributes={}, group=0, priority=0)]"
      ]
     },
     "execution_count": 49,
     "metadata": {},
     "output_type": "execute_result"
    }
   ],
   "source": [
    "ruleset.static_rules"
   ]
  },
  {
   "cell_type": "markdown",
   "id": "5a3889ee",
   "metadata": {
    "pycharm": {
     "name": "#%% md\n"
    }
   },
   "source": [
    "-------------------"
   ]
  },
  {
   "cell_type": "markdown",
   "id": "31f848e8",
   "metadata": {
    "pycharm": {
     "name": "#%% md\n"
    }
   },
   "source": [
    "Here are a few more examples based on the files created in the previous examples."
   ]
  },
  {
   "cell_type": "markdown",
   "id": "7aa4e640",
   "metadata": {
    "pycharm": {
     "name": "#%% md\n"
    }
   },
   "source": [
    "This is a list of last words that are LOC-s, manually filtered to have geographical entities only."
   ]
  },
  {
   "cell_type": "code",
   "execution_count": 9,
   "id": "a56c9a13",
   "metadata": {
    "pycharm": {
     "name": "#%%\n"
    }
   },
   "outputs": [],
   "source": [
    "import pandas as pd\n",
    "df = pd.read_csv('outputs/geo_loc_100.csv')\n",
    "word_list = pd.concat([pd.Series(['string']), df.Entity])"
   ]
  },
  {
   "cell_type": "code",
   "execution_count": 10,
   "id": "c9528937",
   "metadata": {
    "pycharm": {
     "name": "#%%\n"
    }
   },
   "outputs": [],
   "source": [
    "pd.DataFrame(word_list).to_csv('geo_rules.csv',index=False)"
   ]
  },
  {
   "cell_type": "code",
   "execution_count": 13,
   "id": "25ba3ff1",
   "metadata": {
    "pycharm": {
     "name": "#%%\n"
    }
   },
   "outputs": [],
   "source": [
    "from estnltk.taggers.system.rule_taggers import Ruleset\n",
    "ruleset = Ruleset()\n",
    "ruleset.load('geo_rules.csv')"
   ]
  },
  {
   "cell_type": "code",
   "execution_count": 14,
   "id": "fb397964",
   "metadata": {
    "pycharm": {
     "name": "#%%\n"
    }
   },
   "outputs": [
    {
     "data": {
      "text/plain": [
       "[StaticExtractionRule(pattern='jõe', attributes={}, group=0, priority=0),\n",
       " StaticExtractionRule(pattern='mere', attributes={}, group=0, priority=0),\n",
       " StaticExtractionRule(pattern='lahe', attributes={}, group=0, priority=0),\n",
       " StaticExtractionRule(pattern='järve', attributes={}, group=0, priority=0),\n",
       " StaticExtractionRule(pattern='ookeani', attributes={}, group=0, priority=0),\n",
       " StaticExtractionRule(pattern='saarel', attributes={}, group=0, priority=0),\n",
       " StaticExtractionRule(pattern='saare', attributes={}, group=0, priority=0),\n",
       " StaticExtractionRule(pattern='lahel', attributes={}, group=0, priority=0),\n",
       " StaticExtractionRule(pattern='lahes', attributes={}, group=0, priority=0),\n",
       " StaticExtractionRule(pattern='poolsaare', attributes={}, group=0, priority=0),\n",
       " StaticExtractionRule(pattern='poolsaarel', attributes={}, group=0, priority=0),\n",
       " StaticExtractionRule(pattern='saarte', attributes={}, group=0, priority=0),\n",
       " StaticExtractionRule(pattern='saarele', attributes={}, group=0, priority=0),\n",
       " StaticExtractionRule(pattern='jõel', attributes={}, group=0, priority=0),\n",
       " StaticExtractionRule(pattern='saartel', attributes={}, group=0, priority=0),\n",
       " StaticExtractionRule(pattern='järvel', attributes={}, group=0, priority=0),\n",
       " StaticExtractionRule(pattern='lahte', attributes={}, group=0, priority=0),\n",
       " StaticExtractionRule(pattern='järves', attributes={}, group=0, priority=0),\n",
       " StaticExtractionRule(pattern='meres', attributes={}, group=0, priority=0),\n",
       " StaticExtractionRule(pattern='saar', attributes={}, group=0, priority=0),\n",
       " StaticExtractionRule(pattern='jõgi', attributes={}, group=0, priority=0),\n",
       " StaticExtractionRule(pattern='saartele', attributes={}, group=0, priority=0),\n",
       " StaticExtractionRule(pattern='merel', attributes={}, group=0, priority=0)]"
      ]
     },
     "execution_count": 14,
     "metadata": {},
     "output_type": "execute_result"
    }
   ],
   "source": [
    "ruleset.static_rules"
   ]
  },
  {
   "cell_type": "code",
   "execution_count": 15,
   "id": "cd0d3af4",
   "metadata": {
    "pycharm": {
     "name": "#%%\n"
    }
   },
   "outputs": [],
   "source": [
    "import pickle\n",
    "\n",
    "with open('geo_ruleset.pkl','wb') as f:\n",
    "    pickle.dump(ruleset,f)"
   ]
  },
  {
   "cell_type": "markdown",
   "id": "3bf7fdd5",
   "metadata": {
    "pycharm": {
     "name": "#%% md\n"
    }
   },
   "source": [
    "----------"
   ]
  },
  {
   "cell_type": "markdown",
   "id": "e1930cb3",
   "metadata": {
    "pycharm": {
     "name": "#%% md\n"
    }
   },
   "source": [
    "This example uses the 'entities/' folder created earlier and puts together a LOC tagger from all the LOC-s that have been manually curated."
   ]
  },
  {
   "cell_type": "code",
   "execution_count": 11,
   "id": "42306b63",
   "metadata": {
    "pycharm": {
     "name": "#%%\n"
    }
   },
   "outputs": [],
   "source": [
    "import pandas as pd\n",
    "import os\n",
    "df = pd.concat((pd.read_csv('entities/loc/'+f) for f in os.listdir('entities/loc')))\n"
   ]
  },
  {
   "cell_type": "markdown",
   "id": "29e61833",
   "metadata": {
    "pycharm": {
     "name": "#%% md\n"
    }
   },
   "source": [
    "Here is the last chance to filter the data before making rules out of them"
   ]
  },
  {
   "cell_type": "code",
   "execution_count": 14,
   "id": "0396e842",
   "metadata": {
    "pycharm": {
     "name": "#%%\n"
    }
   },
   "outputs": [
    {
     "data": {
      "text/html": [
       "<div>\n",
       "<style scoped>\n",
       "    .dataframe tbody tr th:only-of-type {\n",
       "        vertical-align: middle;\n",
       "    }\n",
       "\n",
       "    .dataframe tbody tr th {\n",
       "        vertical-align: top;\n",
       "    }\n",
       "\n",
       "    .dataframe thead th {\n",
       "        text-align: right;\n",
       "    }\n",
       "</style>\n",
       "<table border=\"1\" class=\"dataframe\">\n",
       "  <thead>\n",
       "    <tr style=\"text-align: right;\">\n",
       "      <th></th>\n",
       "      <th>Unnamed: 0</th>\n",
       "      <th>Entity</th>\n",
       "      <th>LOC</th>\n",
       "    </tr>\n",
       "  </thead>\n",
       "  <tbody>\n",
       "    <tr>\n",
       "      <th>0</th>\n",
       "      <td>0</td>\n",
       "      <td>Eesti</td>\n",
       "      <td>6355.0</td>\n",
       "    </tr>\n",
       "    <tr>\n",
       "      <th>1</th>\n",
       "      <td>1</td>\n",
       "      <td>Venemaa</td>\n",
       "      <td>1110.0</td>\n",
       "    </tr>\n",
       "    <tr>\n",
       "      <th>2</th>\n",
       "      <td>2</td>\n",
       "      <td>Soome</td>\n",
       "      <td>730.0</td>\n",
       "    </tr>\n",
       "    <tr>\n",
       "      <th>3</th>\n",
       "      <td>3</td>\n",
       "      <td>Saksamaa</td>\n",
       "      <td>463.0</td>\n",
       "    </tr>\n",
       "    <tr>\n",
       "      <th>4</th>\n",
       "      <td>4</td>\n",
       "      <td>Läti</td>\n",
       "      <td>453.0</td>\n",
       "    </tr>\n",
       "    <tr>\n",
       "      <th>5</th>\n",
       "      <td>5</td>\n",
       "      <td>Rootsi</td>\n",
       "      <td>448.0</td>\n",
       "    </tr>\n",
       "    <tr>\n",
       "      <th>6</th>\n",
       "      <td>6</td>\n",
       "      <td>Leedu</td>\n",
       "      <td>329.0</td>\n",
       "    </tr>\n",
       "    <tr>\n",
       "      <th>7</th>\n",
       "      <td>7</td>\n",
       "      <td>Prantsusmaa</td>\n",
       "      <td>329.0</td>\n",
       "    </tr>\n",
       "    <tr>\n",
       "      <th>8</th>\n",
       "      <td>8</td>\n",
       "      <td>Itaalia</td>\n",
       "      <td>289.0</td>\n",
       "    </tr>\n",
       "    <tr>\n",
       "      <th>9</th>\n",
       "      <td>9</td>\n",
       "      <td>Poola</td>\n",
       "      <td>274.0</td>\n",
       "    </tr>\n",
       "    <tr>\n",
       "      <th>10</th>\n",
       "      <td>10</td>\n",
       "      <td>Iraak</td>\n",
       "      <td>262.0</td>\n",
       "    </tr>\n",
       "    <tr>\n",
       "      <th>11</th>\n",
       "      <td>11</td>\n",
       "      <td>Hiina</td>\n",
       "      <td>208.0</td>\n",
       "    </tr>\n",
       "    <tr>\n",
       "      <th>12</th>\n",
       "      <td>12</td>\n",
       "      <td>Hispaania</td>\n",
       "      <td>206.0</td>\n",
       "    </tr>\n",
       "    <tr>\n",
       "      <th>13</th>\n",
       "      <td>13</td>\n",
       "      <td>Tonga</td>\n",
       "      <td>203.0</td>\n",
       "    </tr>\n",
       "    <tr>\n",
       "      <th>14</th>\n",
       "      <td>14</td>\n",
       "      <td>Iisrael</td>\n",
       "      <td>176.0</td>\n",
       "    </tr>\n",
       "    <tr>\n",
       "      <th>15</th>\n",
       "      <td>15</td>\n",
       "      <td>Taani</td>\n",
       "      <td>171.0</td>\n",
       "    </tr>\n",
       "    <tr>\n",
       "      <th>16</th>\n",
       "      <td>16</td>\n",
       "      <td>Ukraina</td>\n",
       "      <td>160.0</td>\n",
       "    </tr>\n",
       "    <tr>\n",
       "      <th>17</th>\n",
       "      <td>17</td>\n",
       "      <td>Jaapan</td>\n",
       "      <td>159.0</td>\n",
       "    </tr>\n",
       "    <tr>\n",
       "      <th>18</th>\n",
       "      <td>18</td>\n",
       "      <td>Suurbritannia</td>\n",
       "      <td>155.0</td>\n",
       "    </tr>\n",
       "    <tr>\n",
       "      <th>19</th>\n",
       "      <td>19</td>\n",
       "      <td>Austraalia</td>\n",
       "      <td>145.0</td>\n",
       "    </tr>\n",
       "    <tr>\n",
       "      <th>0</th>\n",
       "      <td>0</td>\n",
       "      <td>Norra</td>\n",
       "      <td>139.0</td>\n",
       "    </tr>\n",
       "    <tr>\n",
       "      <th>1</th>\n",
       "      <td>1</td>\n",
       "      <td>Belgia</td>\n",
       "      <td>108.0</td>\n",
       "    </tr>\n",
       "  </tbody>\n",
       "</table>\n",
       "</div>"
      ],
      "text/plain": [
       "    Unnamed: 0         Entity     LOC\n",
       "0            0          Eesti  6355.0\n",
       "1            1        Venemaa  1110.0\n",
       "2            2          Soome   730.0\n",
       "3            3       Saksamaa   463.0\n",
       "4            4           Läti   453.0\n",
       "5            5         Rootsi   448.0\n",
       "6            6          Leedu   329.0\n",
       "7            7    Prantsusmaa   329.0\n",
       "8            8        Itaalia   289.0\n",
       "9            9          Poola   274.0\n",
       "10          10          Iraak   262.0\n",
       "11          11          Hiina   208.0\n",
       "12          12      Hispaania   206.0\n",
       "13          13          Tonga   203.0\n",
       "14          14        Iisrael   176.0\n",
       "15          15          Taani   171.0\n",
       "16          16        Ukraina   160.0\n",
       "17          17         Jaapan   159.0\n",
       "18          18  Suurbritannia   155.0\n",
       "19          19     Austraalia   145.0\n",
       "0            0          Norra   139.0\n",
       "1            1         Belgia   108.0"
      ]
     },
     "execution_count": 14,
     "metadata": {},
     "output_type": "execute_result"
    }
   ],
   "source": [
    "df = df[df['LOC']>100]\n",
    "df"
   ]
  },
  {
   "cell_type": "code",
   "execution_count": 15,
   "id": "6b7334ba",
   "metadata": {
    "pycharm": {
     "name": "#%%\n"
    }
   },
   "outputs": [],
   "source": [
    "word_list = pd.concat([pd.Series(['string']), df.Entity])"
   ]
  },
  {
   "cell_type": "code",
   "execution_count": 16,
   "id": "b5284c4b",
   "metadata": {
    "pycharm": {
     "name": "#%%\n"
    }
   },
   "outputs": [
    {
     "data": {
      "text/plain": [
       "0            string\n",
       "0             Eesti\n",
       "1           Venemaa\n",
       "2             Soome\n",
       "3          Saksamaa\n",
       "4              Läti\n",
       "5            Rootsi\n",
       "6             Leedu\n",
       "7       Prantsusmaa\n",
       "8           Itaalia\n",
       "9             Poola\n",
       "10            Iraak\n",
       "11            Hiina\n",
       "12        Hispaania\n",
       "13            Tonga\n",
       "14          Iisrael\n",
       "15            Taani\n",
       "16          Ukraina\n",
       "17           Jaapan\n",
       "18    Suurbritannia\n",
       "19       Austraalia\n",
       "0             Norra\n",
       "1            Belgia\n",
       "dtype: object"
      ]
     },
     "execution_count": 16,
     "metadata": {},
     "output_type": "execute_result"
    }
   ],
   "source": [
    "word_list"
   ]
  },
  {
   "cell_type": "code",
   "execution_count": 17,
   "id": "3f92eea5",
   "metadata": {
    "pycharm": {
     "name": "#%%\n"
    }
   },
   "outputs": [],
   "source": [
    "pd.DataFrame(word_list).to_csv('all_loc_rules.csv',index=False)"
   ]
  },
  {
   "cell_type": "code",
   "execution_count": 18,
   "id": "b0144f6d",
   "metadata": {
    "pycharm": {
     "name": "#%%\n"
    }
   },
   "outputs": [],
   "source": [
    "from estnltk.taggers.system.rule_taggers import Ruleset\n",
    "ruleset = Ruleset()\n",
    "ruleset.load('all_loc_rules.csv')"
   ]
  },
  {
   "cell_type": "code",
   "execution_count": 19,
   "id": "bcededc8",
   "metadata": {
    "pycharm": {
     "name": "#%%\n"
    }
   },
   "outputs": [
    {
     "data": {
      "text/plain": [
       "[StaticExtractionRule(pattern='Eesti', attributes={}, group=0, priority=0),\n",
       " StaticExtractionRule(pattern='Venemaa', attributes={}, group=0, priority=0),\n",
       " StaticExtractionRule(pattern='Soome', attributes={}, group=0, priority=0),\n",
       " StaticExtractionRule(pattern='Saksamaa', attributes={}, group=0, priority=0),\n",
       " StaticExtractionRule(pattern='Läti', attributes={}, group=0, priority=0),\n",
       " StaticExtractionRule(pattern='Rootsi', attributes={}, group=0, priority=0),\n",
       " StaticExtractionRule(pattern='Leedu', attributes={}, group=0, priority=0),\n",
       " StaticExtractionRule(pattern='Prantsusmaa', attributes={}, group=0, priority=0),\n",
       " StaticExtractionRule(pattern='Itaalia', attributes={}, group=0, priority=0),\n",
       " StaticExtractionRule(pattern='Poola', attributes={}, group=0, priority=0),\n",
       " StaticExtractionRule(pattern='Iraak', attributes={}, group=0, priority=0),\n",
       " StaticExtractionRule(pattern='Hiina', attributes={}, group=0, priority=0),\n",
       " StaticExtractionRule(pattern='Hispaania', attributes={}, group=0, priority=0),\n",
       " StaticExtractionRule(pattern='Tonga', attributes={}, group=0, priority=0),\n",
       " StaticExtractionRule(pattern='Iisrael', attributes={}, group=0, priority=0),\n",
       " StaticExtractionRule(pattern='Taani', attributes={}, group=0, priority=0),\n",
       " StaticExtractionRule(pattern='Ukraina', attributes={}, group=0, priority=0),\n",
       " StaticExtractionRule(pattern='Jaapan', attributes={}, group=0, priority=0),\n",
       " StaticExtractionRule(pattern='Suurbritannia', attributes={}, group=0, priority=0),\n",
       " StaticExtractionRule(pattern='Austraalia', attributes={}, group=0, priority=0),\n",
       " StaticExtractionRule(pattern='Norra', attributes={}, group=0, priority=0),\n",
       " StaticExtractionRule(pattern='Belgia', attributes={}, group=0, priority=0)]"
      ]
     },
     "execution_count": 19,
     "metadata": {},
     "output_type": "execute_result"
    }
   ],
   "source": [
    "ruleset.static_rules"
   ]
  }
 ],
 "metadata": {
  "kernelspec": {
   "display_name": "Python 3",
   "language": "python",
   "name": "python3"
  },
  "language_info": {
   "codemirror_mode": {
    "name": "ipython",
    "version": 3
   },
   "file_extension": ".py",
   "mimetype": "text/x-python",
   "name": "python",
   "nbconvert_exporter": "python",
   "pygments_lexer": "ipython3",
   "version": "3.6.12"
  }
 },
 "nbformat": 4,
 "nbformat_minor": 5
}