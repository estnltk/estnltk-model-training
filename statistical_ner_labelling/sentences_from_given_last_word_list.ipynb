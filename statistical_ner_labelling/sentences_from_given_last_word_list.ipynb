{
 "cells": [
  {
   "cell_type": "code",
   "execution_count": 12,
   "id": "a6547183",
   "metadata": {},
   "outputs": [],
   "source": [
    "from estnltk import Text"
   ]
  },
  {
   "cell_type": "code",
   "execution_count": 6,
   "id": "dc576e8a",
   "metadata": {},
   "outputs": [],
   "source": [
    "last_word_list = ['jõgede','linnade']"
   ]
  },
  {
   "cell_type": "code",
   "execution_count": 7,
   "id": "2597c050",
   "metadata": {},
   "outputs": [],
   "source": [
    "from estnltk.taggers.system.rule_taggers import Ruleset, StaticExtractionRule\n",
    "\n",
    "#create a ruleset from list\n",
    "def list_to_ruleset(rule_list, len_check=None):\n",
    "    ruleset = Ruleset()\n",
    "    for word in rule_list:\n",
    "        rule = StaticExtractionRule(pattern=word)\n",
    "        ruleset.add_rules([rule])\n",
    "    return ruleset"
   ]
  },
  {
   "cell_type": "code",
   "execution_count": 8,
   "id": "3e018398",
   "metadata": {},
   "outputs": [],
   "source": [
    "ruleset = list_to_ruleset(last_word_list)"
   ]
  },
  {
   "cell_type": "code",
   "execution_count": 13,
   "id": "332d32af",
   "metadata": {},
   "outputs": [],
   "source": [
    "text = Text('''On üsna kindel, et Eufrati ja Tigrise jõe ümbruses eksisteerisid linnad 2500 kuni 3000 eKr. Urukis elas sel ajal 50 000 inimest. Esimeste linnade rajamise aeg ja elanike arv pole selge.\n",
    "\n",
    "Pole selge, kuhu paigutub linnade rajamine teiste innovatsioonide (loomade kodustamine, taimede kasvatamine ja kaubandus) kõrval. Traditsioonilise ettekujutuse järgi oli linnade tekke eelduseks toidu ülejääk põlluharimisest linna lähedal. Et aga osutub, et linnade ja kaugkaubanduse algus võivad olla palju varasemad, kui seni arvatud, on mõned uurijad selles eelduses kahtlema hakanud. On ka teooria, mille kohaselt linnad on tekkinud kaubanduse tõttu ja põlluharimine linnade toiduvajaduse tõttu. Mõned uurijad kahtlevad esimeste linnade tekke majanduslikes seletustes üldse ning peavad esimesi linnu eelkõige kuningliku või vaimuliku võimu keskusteks.\n",
    "\n",
    "Tundub olevat selge, et esimesed linnad tekkisid jõgede lähedal, kus sai põlde niisutada. Niisutus vajas organiseeritust ja koostööd, mis nõudis tööjaotust. Esimesed suuremad linnad tekkisid tõenäoliselt Mesopotaamias ja Niiluse orus. Ka mujal tekkisid esimesed linnad jõgede (Indus, Huang He) ääres.\n",
    "\n",
    "Pole selge, kas linnaelu levis esimestest linnadest või tekkis eri kohtades sõltumatult. Vähemalt Ameerikas tekkisid linnad nähtavasti Vana Maailma linnadest sõltumatult ja arenesid sarnaselt.''')"
   ]
  },
  {
   "cell_type": "code",
   "execution_count": 14,
   "id": "a0a29b19",
   "metadata": {},
   "outputs": [
    {
     "data": {
      "text/html": [
       "<table border=\"1\" class=\"dataframe\">\n",
       "  <thead>\n",
       "    <tr style=\"text-align: right;\">\n",
       "      <th>text</th>\n",
       "    </tr>\n",
       "  </thead>\n",
       "  <tbody>\n",
       "    <tr>\n",
       "      <td><div align = \"left\">On üsna kindel, et Eufrati ja Tigrise jõe ümbruses eksisteerisid linnad 2500 kuni 3000 eKr. Urukis elas sel ajal 50 000 inimest. Esimeste linnade rajamise aeg ja elanike arv pole selge.</br></br>Pole selge, kuhu paigutub linnade rajamine teiste innovatsioonide (loomade kodustamine, taimede kasvatamine ja kaubandus) kõrval. Traditsioonilise ettekujutuse järgi oli linnade tekke eelduseks toidu ülejääk põlluharimisest linna lähedal. Et aga osutub, et linnade ja kaugkaubanduse algus võivad olla palju varasemad, kui seni arvatud, on mõned uurijad selles eelduses kahtlema hakanud. On ka teooria, mille kohaselt linnad on tekkinud kaubanduse tõttu ja põlluharimine linnade toiduvajaduse tõttu. Mõned uurijad kahtlevad esimeste linnade tekke majanduslikes seletustes üldse ning peavad esimesi linnu eelkõige kuningliku või vaimuliku võimu keskusteks.</br></br>Tundub olevat selge, et esimesed linnad tekkisid jõgede lähedal, kus sai põlde niisutada. Niisutus vajas organiseeritust ja koostööd, mis nõudis tööjaotust. Esimesed suuremad linnad tekkisid tõenäoliselt Mesopotaamias ja Niiluse orus. Ka mujal tekkisid esimesed linnad jõgede (Indus, Huang He) ääres.</br></br>Pole selge, kas linnaelu levis esimestest linnadest või tekkis eri kohtades sõltumatult. Vähemalt Ameerikas tekkisid linnad nähtavasti Vana Maailma linnadest sõltumatult ja arenesid sarnaselt.</div></td>\n",
       "    </tr>\n",
       "  </tbody>\n",
       "</table>\n",
       "<table border=\"1\" class=\"dataframe\">\n",
       "  <thead>\n",
       "    <tr style=\"text-align: right;\">\n",
       "      <th>layer name</th>\n",
       "      <th>attributes</th>\n",
       "      <th>parent</th>\n",
       "      <th>enveloping</th>\n",
       "      <th>ambiguous</th>\n",
       "      <th>span count</th>\n",
       "    </tr>\n",
       "  </thead>\n",
       "  <tbody>\n",
       "    <tr>\n",
       "      <td>terms</td>\n",
       "      <td></td>\n",
       "      <td>None</td>\n",
       "      <td>None</td>\n",
       "      <td>True</td>\n",
       "      <td>10</td>\n",
       "    </tr>\n",
       "  </tbody>\n",
       "</table>"
      ],
      "text/plain": [
       "Text(text='On üsna kindel, et Eufrati ja Tigrise jõe ümbruses eksisteerisid linnad 2500 kuni 3000 eKr. Urukis elas sel ajal 50 000 inimest. Esimeste linnade rajamise aeg ja elanike arv pole selge.\\n\\nPole selge, kuhu paigutub linnade rajamine teiste innovatsioonide (loomade kodustamine, taimede kasvatamine ja kaubandus) kõrval. Traditsioonilise ettekujutuse järgi oli linnade tekke eelduseks toidu ülejääk põlluharimisest linna lähedal. Et aga osutub, et linnade ja kaugkaubanduse algus võivad olla palju varasemad, kui seni arvatud, on mõned uurijad selles eelduses kahtlema hakanud. On ka teooria, mille kohaselt linnad on tekkinud kaubanduse tõttu ja põlluharimine linnade toiduvajaduse tõttu. Mõned uurijad kahtlevad esimeste linnade tekke majanduslikes seletustes üldse ning peavad esimesi linnu eelkõige kuningliku või vaimuliku võimu keskusteks.\\n\\nTundub olevat selge, et esimesed linnad tekkisid jõgede lähedal, kus sai põlde niisutada. Niisutus vajas organiseeritust ja koostööd, mis nõudis tööjaotust. Esimesed suuremad linnad tekkisid tõenäoliselt Mesopotaamias ja Niiluse orus. Ka mujal tekkisid esimesed linnad jõgede (Indus, Huang He) ääres.\\n\\nPole selge, kas linnaelu levis esimestest linnadest või tekkis eri kohtades sõltumatult. Vähemalt Ameerikas tekkisid linnad nähtavasti Vana Maailma linnadest sõltumatult ja arenesid sarnaselt.')"
      ]
     },
     "execution_count": 14,
     "metadata": {},
     "output_type": "execute_result"
    }
   ],
   "source": [
    "from estnltk.taggers.system.rule_taggers import SubstringTagger\n",
    "\n",
    "subtagger = SubstringTagger(ruleset=ruleset,ignore_case=True)\n",
    "subtagger.tag(text)"
   ]
  },
  {
   "cell_type": "code",
   "execution_count": 15,
   "id": "aec3a3ac",
   "metadata": {},
   "outputs": [],
   "source": [
    "from estnltk_core.layer_operations import split_by_sentences"
   ]
  },
  {
   "cell_type": "code",
   "execution_count": 16,
   "id": "ccb4bef6",
   "metadata": {},
   "outputs": [
    {
     "data": {
      "text/html": [
       "<table border=\"1\" class=\"dataframe\">\n",
       "  <thead>\n",
       "    <tr style=\"text-align: right;\">\n",
       "      <th>text</th>\n",
       "    </tr>\n",
       "  </thead>\n",
       "  <tbody>\n",
       "    <tr>\n",
       "      <td><div align = \"left\">On üsna kindel, et Eufrati ja Tigrise jõe ümbruses eksisteerisid linnad 2500 kuni 3000 eKr. Urukis elas sel ajal 50 000 inimest. Esimeste linnade rajamise aeg ja elanike arv pole selge.</br></br>Pole selge, kuhu paigutub linnade rajamine teiste innovatsioonide (loomade kodustamine, taimede kasvatamine ja kaubandus) kõrval. Traditsioonilise ettekujutuse järgi oli linnade tekke eelduseks toidu ülejääk põlluharimisest linna lähedal. Et aga osutub, et linnade ja kaugkaubanduse algus võivad olla palju varasemad, kui seni arvatud, on mõned uurijad selles eelduses kahtlema hakanud. On ka teooria, mille kohaselt linnad on tekkinud kaubanduse tõttu ja põlluharimine linnade toiduvajaduse tõttu. Mõned uurijad kahtlevad esimeste linnade tekke majanduslikes seletustes üldse ning peavad esimesi linnu eelkõige kuningliku või vaimuliku võimu keskusteks.</br></br>Tundub olevat selge, et esimesed linnad tekkisid jõgede lähedal, kus sai põlde niisutada. Niisutus vajas organiseeritust ja koostööd, mis nõudis tööjaotust. Esimesed suuremad linnad tekkisid tõenäoliselt Mesopotaamias ja Niiluse orus. Ka mujal tekkisid esimesed linnad jõgede (Indus, Huang He) ääres.</br></br>Pole selge, kas linnaelu levis esimestest linnadest või tekkis eri kohtades sõltumatult. Vähemalt Ameerikas tekkisid linnad nähtavasti Vana Maailma linnadest sõltumatult ja arenesid sarnaselt.</div></td>\n",
       "    </tr>\n",
       "  </tbody>\n",
       "</table>\n",
       "<table border=\"1\" class=\"dataframe\">\n",
       "  <thead>\n",
       "    <tr style=\"text-align: right;\">\n",
       "      <th>layer name</th>\n",
       "      <th>attributes</th>\n",
       "      <th>parent</th>\n",
       "      <th>enveloping</th>\n",
       "      <th>ambiguous</th>\n",
       "      <th>span count</th>\n",
       "    </tr>\n",
       "  </thead>\n",
       "  <tbody>\n",
       "    <tr>\n",
       "      <td>sentences</td>\n",
       "      <td></td>\n",
       "      <td>None</td>\n",
       "      <td>words</td>\n",
       "      <td>False</td>\n",
       "      <td>14</td>\n",
       "    </tr>\n",
       "    <tr>\n",
       "      <td>tokens</td>\n",
       "      <td></td>\n",
       "      <td>None</td>\n",
       "      <td>None</td>\n",
       "      <td>False</td>\n",
       "      <td>208</td>\n",
       "    </tr>\n",
       "    <tr>\n",
       "      <td>compound_tokens</td>\n",
       "      <td>type, normalized</td>\n",
       "      <td>None</td>\n",
       "      <td>tokens</td>\n",
       "      <td>False</td>\n",
       "      <td>1</td>\n",
       "    </tr>\n",
       "    <tr>\n",
       "      <td>words</td>\n",
       "      <td>normalized_form</td>\n",
       "      <td>None</td>\n",
       "      <td>None</td>\n",
       "      <td>True</td>\n",
       "      <td>207</td>\n",
       "    </tr>\n",
       "    <tr>\n",
       "      <td>morph_analysis</td>\n",
       "      <td>normalized_text, lemma, root, root_tokens, ending, clitic, form, partofspeech</td>\n",
       "      <td>words</td>\n",
       "      <td>None</td>\n",
       "      <td>True</td>\n",
       "      <td>207</td>\n",
       "    </tr>\n",
       "    <tr>\n",
       "      <td>terms</td>\n",
       "      <td></td>\n",
       "      <td>None</td>\n",
       "      <td>None</td>\n",
       "      <td>True</td>\n",
       "      <td>10</td>\n",
       "    </tr>\n",
       "  </tbody>\n",
       "</table>"
      ],
      "text/plain": [
       "Text(text='On üsna kindel, et Eufrati ja Tigrise jõe ümbruses eksisteerisid linnad 2500 kuni 3000 eKr. Urukis elas sel ajal 50 000 inimest. Esimeste linnade rajamise aeg ja elanike arv pole selge.\\n\\nPole selge, kuhu paigutub linnade rajamine teiste innovatsioonide (loomade kodustamine, taimede kasvatamine ja kaubandus) kõrval. Traditsioonilise ettekujutuse järgi oli linnade tekke eelduseks toidu ülejääk põlluharimisest linna lähedal. Et aga osutub, et linnade ja kaugkaubanduse algus võivad olla palju varasemad, kui seni arvatud, on mõned uurijad selles eelduses kahtlema hakanud. On ka teooria, mille kohaselt linnad on tekkinud kaubanduse tõttu ja põlluharimine linnade toiduvajaduse tõttu. Mõned uurijad kahtlevad esimeste linnade tekke majanduslikes seletustes üldse ning peavad esimesi linnu eelkõige kuningliku või vaimuliku võimu keskusteks.\\n\\nTundub olevat selge, et esimesed linnad tekkisid jõgede lähedal, kus sai põlde niisutada. Niisutus vajas organiseeritust ja koostööd, mis nõudis tööjaotust. Esimesed suuremad linnad tekkisid tõenäoliselt Mesopotaamias ja Niiluse orus. Ka mujal tekkisid esimesed linnad jõgede (Indus, Huang He) ääres.\\n\\nPole selge, kas linnaelu levis esimestest linnadest või tekkis eri kohtades sõltumatult. Vähemalt Ameerikas tekkisid linnad nähtavasti Vana Maailma linnadest sõltumatult ja arenesid sarnaselt.')"
      ]
     },
     "execution_count": 16,
     "metadata": {},
     "output_type": "execute_result"
    }
   ],
   "source": [
    "text.tag_layer()"
   ]
  },
  {
   "cell_type": "code",
   "execution_count": 17,
   "id": "7b7eea49",
   "metadata": {},
   "outputs": [],
   "source": [
    "sents = split_by_sentences(text,layers_to_keep=['terms'])"
   ]
  },
  {
   "cell_type": "code",
   "execution_count": 18,
   "id": "9ce12061",
   "metadata": {},
   "outputs": [],
   "source": [
    "filtered_sents = []\n",
    "\n",
    "for sent in sents:\n",
    "    if len(sent.terms)>0:\n",
    "        filtered_sents.append(sent)"
   ]
  },
  {
   "cell_type": "code",
   "execution_count": 19,
   "id": "a2e7244b",
   "metadata": {},
   "outputs": [
    {
     "data": {
      "text/plain": [
       "[Text(text='Esimeste linnade rajamise aeg ja elanike arv pole selge.'),\n",
       " Text(text='Pole selge, kuhu paigutub linnade rajamine teiste innovatsioonide (loomade kodustamine, taimede kasvatamine ja kaubandus) kõrval.'),\n",
       " Text(text='Traditsioonilise ettekujutuse järgi oli linnade tekke eelduseks toidu ülejääk põlluharimisest linna lähedal.'),\n",
       " Text(text='Et aga osutub, et linnade ja kaugkaubanduse algus võivad olla palju varasemad, kui seni arvatud, on mõned uurijad selles eelduses kahtlema hakanud.'),\n",
       " Text(text='On ka teooria, mille kohaselt linnad on tekkinud kaubanduse tõttu ja põlluharimine linnade toiduvajaduse tõttu.'),\n",
       " Text(text='Mõned uurijad kahtlevad esimeste linnade tekke majanduslikes seletustes üldse ning peavad esimesi linnu eelkõige kuningliku või vaimuliku võimu keskusteks.'),\n",
       " Text(text='Tundub olevat selge, et esimesed linnad tekkisid jõgede lähedal, kus sai põlde niisutada.'),\n",
       " Text(text='Ka mujal tekkisid esimesed linnad jõgede (Indus, Huang He) ääres.'),\n",
       " Text(text='Pole selge, kas linnaelu levis esimestest linnadest või tekkis eri kohtades sõltumatult.'),\n",
       " Text(text='Vähemalt Ameerikas tekkisid linnad nähtavasti Vana Maailma linnadest sõltumatult ja arenesid sarnaselt.')]"
      ]
     },
     "execution_count": 19,
     "metadata": {},
     "output_type": "execute_result"
    }
   ],
   "source": [
    "filtered_sents"
   ]
  },
  {
   "cell_type": "code",
   "execution_count": 23,
   "id": "e90897f7",
   "metadata": {},
   "outputs": [],
   "source": [
    "import pickle\n",
    "with open('last_word_dataset.pkl', 'wb') as f:\n",
    "    pickle.dump(filtered_sents,f)"
   ]
  }
 ],
 "metadata": {
  "kernelspec": {
   "display_name": "Python 3",
   "language": "python",
   "name": "python3"
  },
  "language_info": {
   "codemirror_mode": {
    "name": "ipython",
    "version": 3
   },
   "file_extension": ".py",
   "mimetype": "text/x-python",
   "name": "python",
   "nbconvert_exporter": "python",
   "pygments_lexer": "ipython3",
   "version": "3.6.12"
  }
 },
 "nbformat": 4,
 "nbformat_minor": 5
}
