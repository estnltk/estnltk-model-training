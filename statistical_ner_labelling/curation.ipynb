{
 "cells": [
  {
   "cell_type": "markdown",
   "id": "47874913",
   "metadata": {},
   "source": [
    "Option 1 of creating a ruleset: create it from a dictionary"
   ]
  },
  {
   "cell_type": "code",
   "execution_count": 35,
   "id": "c4243e41",
   "metadata": {},
   "outputs": [],
   "source": [
    "entity_map = {'Ühendriigid': ['LOC'],\n",
    " 'Leedusse': ['LOC'],\n",
    " 'välisministeeriumi': ['ORG'],\n",
    " 'Interfaxile': ['ORG'],\n",
    " 'Clinton': ['PER'],\n",
    " 'Leedu': ['LOC'],\n",
    " 'Leedus': ['LOC'],\n",
    " 'USA': ['LOC']}"
   ]
  },
  {
   "cell_type": "code",
   "execution_count": 36,
   "id": "0d479b28",
   "metadata": {},
   "outputs": [],
   "source": [
    "from estnltk.taggers.system.rule_taggers import Ruleset, StaticExtractionRule\n",
    "\n",
    "#create a ruleset from dict\n",
    "#len_check specifies the minimum length of the string/tuple to be included in the rules\n",
    "#it can be used to filter out unwanted entities\n",
    "def dict_to_ruleset(rule_dict, len_check=None, pos=None):\n",
    "    ruleset = Ruleset()\n",
    "    for k, v in rule_dict.items():\n",
    "        if len_check is not None and len(k) >= len_check:\n",
    "            if pos is not None:\n",
    "                rule = StaticExtractionRule(pattern=k,attributes={'tag':v,'pos':pos})\n",
    "                ruleset.add_rules([rule])\n",
    "            else:\n",
    "                rule = StaticExtractionRule(pattern=k,attributes={'tag':v})\n",
    "                ruleset.add_rules([rule])\n",
    "        elif len_check is None:\n",
    "            if pos is not None:\n",
    "                rule = StaticExtractionRule(pattern=k,attributes={'tag':v,'pos':pos})\n",
    "                ruleset.add_rules([rule])\n",
    "            else:\n",
    "                rule = StaticExtractionRule(pattern=k,attributes={'tag':v})\n",
    "                ruleset.add_rules([rule])\n",
    "    return ruleset"
   ]
  },
  {
   "cell_type": "code",
   "execution_count": 37,
   "id": "1614188d",
   "metadata": {},
   "outputs": [],
   "source": [
    "last_rules = dict_to_ruleset(entity_map,len_check=3)"
   ]
  },
  {
   "cell_type": "code",
   "execution_count": 38,
   "id": "8f2eadd4",
   "metadata": {},
   "outputs": [
    {
     "data": {
      "text/plain": [
       "<estnltk.taggers.system.rule_taggers.extraction_rules.ruleset.Ruleset at 0x1f8e6671a20>"
      ]
     },
     "execution_count": 38,
     "metadata": {},
     "output_type": "execute_result"
    }
   ],
   "source": [
    "last_rules"
   ]
  },
  {
   "cell_type": "code",
   "execution_count": 39,
   "id": "2d7a06d0",
   "metadata": {},
   "outputs": [
    {
     "data": {
      "text/plain": [
       "[StaticExtractionRule(pattern='Ühendriigid', attributes={'tag': ['LOC']}, group=0, priority=0),\n",
       " StaticExtractionRule(pattern='Leedusse', attributes={'tag': ['LOC']}, group=0, priority=0),\n",
       " StaticExtractionRule(pattern='välisministeeriumi', attributes={'tag': ['ORG']}, group=0, priority=0),\n",
       " StaticExtractionRule(pattern='Interfaxile', attributes={'tag': ['ORG']}, group=0, priority=0),\n",
       " StaticExtractionRule(pattern='Clinton', attributes={'tag': ['PER']}, group=0, priority=0),\n",
       " StaticExtractionRule(pattern='Leedu', attributes={'tag': ['LOC']}, group=0, priority=0),\n",
       " StaticExtractionRule(pattern='Leedus', attributes={'tag': ['LOC']}, group=0, priority=0),\n",
       " StaticExtractionRule(pattern='USA', attributes={'tag': ['LOC']}, group=0, priority=0)]"
      ]
     },
     "execution_count": 39,
     "metadata": {},
     "output_type": "execute_result"
    }
   ],
   "source": [
    "last_rules.static_rules"
   ]
  },
  {
   "cell_type": "markdown",
   "id": "3dc79d97",
   "metadata": {},
   "source": [
    "Option 2: create it from a CSV file"
   ]
  },
  {
   "cell_type": "code",
   "execution_count": 40,
   "id": "b208370a",
   "metadata": {},
   "outputs": [
    {
     "data": {
      "text/html": [
       "<div>\n",
       "<style scoped>\n",
       "    .dataframe tbody tr th:only-of-type {\n",
       "        vertical-align: middle;\n",
       "    }\n",
       "\n",
       "    .dataframe tbody tr th {\n",
       "        vertical-align: top;\n",
       "    }\n",
       "\n",
       "    .dataframe thead th {\n",
       "        text-align: right;\n",
       "    }\n",
       "</style>\n",
       "<table border=\"1\" class=\"dataframe\">\n",
       "  <thead>\n",
       "    <tr style=\"text-align: right;\">\n",
       "      <th></th>\n",
       "      <th>entity</th>\n",
       "      <th>type</th>\n",
       "    </tr>\n",
       "  </thead>\n",
       "  <tbody>\n",
       "    <tr>\n",
       "      <th>0</th>\n",
       "      <td>string</td>\n",
       "      <td>string</td>\n",
       "    </tr>\n",
       "    <tr>\n",
       "      <th>1</th>\n",
       "      <td>Leedu</td>\n",
       "      <td>LOC</td>\n",
       "    </tr>\n",
       "    <tr>\n",
       "      <th>2</th>\n",
       "      <td>Tiit Terik</td>\n",
       "      <td>PER</td>\n",
       "    </tr>\n",
       "    <tr>\n",
       "      <th>3</th>\n",
       "      <td>NATO</td>\n",
       "      <td>ORG</td>\n",
       "    </tr>\n",
       "  </tbody>\n",
       "</table>\n",
       "</div>"
      ],
      "text/plain": [
       "       entity    type\n",
       "0      string  string\n",
       "1       Leedu     LOC\n",
       "2  Tiit Terik     PER\n",
       "3        NATO     ORG"
      ]
     },
     "execution_count": 40,
     "metadata": {},
     "output_type": "execute_result"
    }
   ],
   "source": [
    "from pandas import read_csv\n",
    "\n",
    "read_csv('example.csv')"
   ]
  },
  {
   "cell_type": "markdown",
   "id": "49b31f10",
   "metadata": {},
   "source": [
    "The first row of the CSV file is for column names and the second row is for column types. The following rows contain the values which will be turned into rules."
   ]
  },
  {
   "cell_type": "code",
   "execution_count": 41,
   "id": "e0ee2e2d",
   "metadata": {},
   "outputs": [],
   "source": [
    "ruleset = Ruleset()\n",
    "ruleset.load('example.csv')"
   ]
  },
  {
   "cell_type": "code",
   "execution_count": 42,
   "id": "34086805",
   "metadata": {},
   "outputs": [
    {
     "data": {
      "text/plain": [
       "[StaticExtractionRule(pattern='Leedu', attributes={'type': 'LOC'}, group=0, priority=0),\n",
       " StaticExtractionRule(pattern='Tiit Terik', attributes={'type': 'PER'}, group=0, priority=0),\n",
       " StaticExtractionRule(pattern='NATO', attributes={'type': 'ORG'}, group=0, priority=0)]"
      ]
     },
     "execution_count": 42,
     "metadata": {},
     "output_type": "execute_result"
    }
   ],
   "source": [
    "ruleset.static_rules"
   ]
  }
 ],
 "metadata": {
  "kernelspec": {
   "display_name": "Python 3",
   "language": "python",
   "name": "python3"
  },
  "language_info": {
   "codemirror_mode": {
    "name": "ipython",
    "version": 3
   },
   "file_extension": ".py",
   "mimetype": "text/x-python",
   "name": "python",
   "nbconvert_exporter": "python",
   "pygments_lexer": "ipython3",
   "version": "3.6.12"
  }
 },
 "nbformat": 4,
 "nbformat_minor": 5
}
