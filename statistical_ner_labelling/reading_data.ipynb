{
 "cells": [
  {
   "cell_type": "code",
   "execution_count": 60,
   "id": "3981cae9",
   "metadata": {},
   "outputs": [],
   "source": [
    "from estnltk import Text\n",
    "from estnltk.storage.postgres import PostgresStorage, create_schema"
   ]
  },
  {
   "cell_type": "markdown",
   "id": "1c0e9c2b",
   "metadata": {},
   "source": [
    "Connect to postgres"
   ]
  },
  {
   "cell_type": "code",
   "execution_count": 61,
   "id": "08155c95",
   "metadata": {},
   "outputs": [
    {
     "name": "stdout",
     "output_type": "stream",
     "text": [
      "INFO:storage.py:42: connecting to host: 'localhost', port: 5433, dbname: 'ner_test', user: 'postgres'\n",
      "INFO:storage.py:58: schema: 'my_schema', temporary: False, role: 'postgres'\n"
     ]
    }
   ],
   "source": [
    "storage = PostgresStorage(host='localhost',\n",
    "                          port=5433,\n",
    "                          dbname='ner_test',\n",
    "                          user='postgres',\n",
    "                          password='dbpass',\n",
    "                          pgpass_file='~/.pgpass',\n",
    "                          schema='my_schema',\n",
    "                          role=None,\n",
    "                          temporary=False)"
   ]
  },
  {
   "cell_type": "code",
   "execution_count": 62,
   "id": "f609dfd8",
   "metadata": {},
   "outputs": [
    {
     "data": {
      "text/html": [
       "<b>PostgresStorage</b><br/>\n",
       "user=postgres password=xxx dbname=ner_test host=localhost port=5433 schema=my_schema<br/>temporary=False<br/>\n",
       "collection count: 2\n",
       "<table border=\"1\" class=\"dataframe\">\n",
       "  <thead>\n",
       "    <tr style=\"text-align: right;\">\n",
       "      <th></th>\n",
       "      <th></th>\n",
       "      <th></th>\n",
       "      <th>rows</th>\n",
       "      <th>total_size</th>\n",
       "      <th>comment</th>\n",
       "    </tr>\n",
       "    <tr>\n",
       "      <th>collection</th>\n",
       "      <th>version</th>\n",
       "      <th>relations</th>\n",
       "      <th></th>\n",
       "      <th></th>\n",
       "      <th></th>\n",
       "    </tr>\n",
       "  </thead>\n",
       "  <tbody>\n",
       "    <tr>\n",
       "      <th rowspan=\"3\" valign=\"top\">ner_texts</th>\n",
       "      <th rowspan=\"3\" valign=\"top\">2.0</th>\n",
       "      <th></th>\n",
       "      <td>344</td>\n",
       "      <td>16 MB</td>\n",
       "      <td>created by postgres on Thu Apr 14 13:18:53 2022</td>\n",
       "    </tr>\n",
       "    <tr>\n",
       "      <th>ner__layer</th>\n",
       "      <td>344</td>\n",
       "      <td>440 kB</td>\n",
       "      <td>created by postgres on Thu Apr 14 13:20:23 2022</td>\n",
       "    </tr>\n",
       "    <tr>\n",
       "      <th>structure</th>\n",
       "      <td>5</td>\n",
       "      <td>32 kB</td>\n",
       "      <td>None</td>\n",
       "    </tr>\n",
       "    <tr>\n",
       "      <th rowspan=\"5\" valign=\"top\">rivers</th>\n",
       "      <th rowspan=\"5\" valign=\"top\">2.0</th>\n",
       "      <th></th>\n",
       "      <td>0</td>\n",
       "      <td>16 MB</td>\n",
       "      <td>created by postgres on Thu Mar 31 03:59:02 2022</td>\n",
       "    </tr>\n",
       "    <tr>\n",
       "      <th>rivers__layer</th>\n",
       "      <td>0</td>\n",
       "      <td>40 kB</td>\n",
       "      <td>created by postgres on Thu Mar 31 03:30:13 2022</td>\n",
       "    </tr>\n",
       "    <tr>\n",
       "      <th>structure</th>\n",
       "      <td>0</td>\n",
       "      <td>32 kB</td>\n",
       "      <td>None</td>\n",
       "    </tr>\n",
       "    <tr>\n",
       "      <th>tagged_countries__layer</th>\n",
       "      <td>0</td>\n",
       "      <td>168 kB</td>\n",
       "      <td>created by postgres on Thu Mar 31 04:20:15 2022</td>\n",
       "    </tr>\n",
       "    <tr>\n",
       "      <th>tagged_rivers__layer</th>\n",
       "      <td>0</td>\n",
       "      <td>152 kB</td>\n",
       "      <td>created by postgres on Thu Mar 31 04:16:02 2022</td>\n",
       "    </tr>\n",
       "  </tbody>\n",
       "</table>\n",
       " There are collections listed in the __collections table without tables in the database: ['collection', 'ner']"
      ],
      "text/plain": [
       "<estnltk.storage.postgres.storage.PostgresStorage at 0x1bb30107860>"
      ]
     },
     "execution_count": 62,
     "metadata": {},
     "output_type": "execute_result"
    }
   ],
   "source": [
    "storage"
   ]
  },
  {
   "cell_type": "code",
   "execution_count": 63,
   "id": "3ae91b7a",
   "metadata": {},
   "outputs": [],
   "source": [
    "del storage['ner_texts']"
   ]
  },
  {
   "cell_type": "code",
   "execution_count": 64,
   "id": "f7389bc8",
   "metadata": {},
   "outputs": [
    {
     "name": "stdout",
     "output_type": "stream",
     "text": [
      "INFO:collection.py:92: new empty collection 'ner_texts' created\n"
     ]
    },
    {
     "data": {
      "text/html": [
       "<b>PgCollection</b><br/><b>name:</b> ner_texts<br/><b>storage:</b> PostgresStorage(user=postgres password=xxx dbname=ner_test host=localhost port=5433 schema=my_schema temporary=False)<br/><b>count objects:</b> 0<br/><b>Metadata</b><br/>This collection has no metadata.<br/><b>Layers</b><br/>unknown"
      ],
      "text/plain": [
       "<estnltk.storage.postgres.collection.PgCollection at 0x1bb30107160>"
      ]
     },
     "execution_count": 64,
     "metadata": {},
     "output_type": "execute_result"
    }
   ],
   "source": [
    "storage['ner_texts'].create()"
   ]
  },
  {
   "cell_type": "code",
   "execution_count": 65,
   "id": "722b065f",
   "metadata": {},
   "outputs": [],
   "source": [
    "collection = storage['ner_texts']"
   ]
  },
  {
   "cell_type": "code",
   "execution_count": 66,
   "id": "050a14df",
   "metadata": {},
   "outputs": [],
   "source": [
    "storage.conn.commit()"
   ]
  },
  {
   "cell_type": "code",
   "execution_count": 67,
   "id": "8fca7976",
   "metadata": {},
   "outputs": [],
   "source": [
    "storage.conn.autocommit = False"
   ]
  },
  {
   "cell_type": "markdown",
   "id": "fa5f6d4b",
   "metadata": {},
   "source": [
    "Read in texts"
   ]
  },
  {
   "cell_type": "code",
   "execution_count": 68,
   "id": "2213b663",
   "metadata": {},
   "outputs": [],
   "source": [
    "from estnltk.corpus_processing.parse_koondkorpus import parse_tei_corpus\n",
    "\n",
    "epltexts = parse_tei_corpus(r'C:\\Users\\rasmu\\Downloads\\2001_tei\\2001_tei\\EPL_2001_01_11.tei', target=['artikkel'], encoding=\"UTF-8\")"
   ]
  },
  {
   "cell_type": "code",
   "execution_count": 69,
   "id": "374de4d2",
   "metadata": {},
   "outputs": [
    {
     "name": "stdout",
     "output_type": "stream",
     "text": [
      "INFO:collection_text_object_inserter.py:107: inserted 344 texts into the collection 'ner_texts'\n"
     ]
    }
   ],
   "source": [
    "#add texts to collection if haven't done it yet\n",
    "with collection.insert() as collection_insert:\n",
    "    for text in epltexts:\n",
    "        text.tag_layer()\n",
    "        collection_insert(text)\n",
    "storage.conn.commit()"
   ]
  },
  {
   "cell_type": "code",
   "execution_count": 70,
   "id": "dd8a1b0d",
   "metadata": {},
   "outputs": [],
   "source": [
    "from estnltk.taggers.standard.ner.ner_tagger import NerTagger\n",
    "ner_tagger = NerTagger()"
   ]
  },
  {
   "cell_type": "code",
   "execution_count": 71,
   "id": "660839bf",
   "metadata": {},
   "outputs": [
    {
     "name": "stdout",
     "output_type": "stream",
     "text": [
      "INFO:collection.py:819: detached layer 'ner' created from template\n"
     ]
    }
   ],
   "source": [
    "with storage.conn.cursor() as c:\n",
    "    storage['ner_texts'].add_layer(ner_tagger.get_layer_template())"
   ]
  },
  {
   "cell_type": "code",
   "execution_count": 72,
   "id": "12f19ee5",
   "metadata": {},
   "outputs": [],
   "source": [
    "collection.selected_layers = ['ner']"
   ]
  },
  {
   "cell_type": "code",
   "execution_count": 73,
   "id": "9f64dab5",
   "metadata": {},
   "outputs": [],
   "source": [
    "import multiprocessing\n",
    "\n",
    "from estnltk.storage import PostgresStorage\n",
    "\n",
    "def ner_thread(block):\n",
    "    print(\"Thread start \" + str(block))\n",
    "    storage = PostgresStorage(host='localhost',\n",
    "                          port=5433,\n",
    "                          dbname='ner_test',\n",
    "                          user='postgres',\n",
    "                          password='dbpass',\n",
    "                          pgpass_file='~/.pgpass',\n",
    "                          schema='my_schema',\n",
    "                          role=None,\n",
    "                          temporary=False)\n",
    "    collection = storage['ner_texts']\n",
    "    ner_tagger = NerTagger()\n",
    "    collection.create_layer_block(tagger=ner_tagger, block=(6,block))\n",
    "\n",
    "\n",
    "def driver_func():\n",
    "    processes = 6\n",
    "    procs = []\n",
    "    for i in range(processes):\n",
    "        proc = multiprocessing.Process(target=ner_thread, args=(i,))\n",
    "        procs.append(proc)\n",
    "        proc.start()\n",
    "\n",
    "    for proc in procs:\n",
    "        proc.join()"
   ]
  },
  {
   "cell_type": "code",
   "execution_count": 75,
   "id": "8c5746a3",
   "metadata": {},
   "outputs": [],
   "source": [
    "if __name__ == '__main__':\n",
    "    a = driver_func()"
   ]
  },
  {
   "cell_type": "code",
   "execution_count": null,
   "id": "2e4bb99d",
   "metadata": {},
   "outputs": [],
   "source": [
    "'''n=4\n",
    "for i in range(n):\n",
    "    collection = storage['ner_texts']\n",
    "    collection.create_layer_block(tagger=ner_tagger, meta=None, block=(n, i))'''"
   ]
  },
  {
   "cell_type": "code",
   "execution_count": null,
   "id": "477b049e",
   "metadata": {},
   "outputs": [],
   "source": [
    "'''collection = storage['ner_texts']\n",
    "collection.create_layer_block(tagger=ner_tagger, meta=None, block=(2, 0))'''"
   ]
  },
  {
   "cell_type": "code",
   "execution_count": null,
   "id": "f363ad08",
   "metadata": {},
   "outputs": [],
   "source": [
    "'''storage_b = PostgresStorage(host='localhost',\n",
    "                          port=5433,\n",
    "                          dbname='ner_test',\n",
    "                          user='postgres',\n",
    "                          password='dbpass',\n",
    "                          pgpass_file='~/.pgpass',\n",
    "                          schema='my_schema',\n",
    "                          role=None,\n",
    "                          temporary=False)'''"
   ]
  },
  {
   "cell_type": "code",
   "execution_count": null,
   "id": "3ecd779d",
   "metadata": {},
   "outputs": [],
   "source": [
    "'''collection_b = storage_b['ner_texts']\n",
    "collection_b.create_layer_block(tagger=ner_tagger, meta=None, block=(2, 1))'''"
   ]
  },
  {
   "cell_type": "code",
   "execution_count": null,
   "id": "6a245669",
   "metadata": {},
   "outputs": [],
   "source": [
    "'''\n",
    "entity_map = {}\n",
    "#create a dictionary where keys are tuples of words and values are the nertags assigned to that span\n",
    "\n",
    "for text in collection:\n",
    "    for match in text.ner:\n",
    "        current = entity_map.get(tuple(match.text),[])\n",
    "        if match.nertag not in current:\n",
    "            current.append(match.nertag)\n",
    "            entity_map[tuple(match.text)] = current\n",
    "'''"
   ]
  },
  {
   "cell_type": "code",
   "execution_count": null,
   "id": "f200a7d6",
   "metadata": {},
   "outputs": [],
   "source": [
    "'''import pickle \n",
    "\n",
    "#since the first part is unlikely to change later but takes a lot of time, here is a checkpoint where the entity map\n",
    "#is saved to a separate file so that editing the notebook later can start from here\n",
    "with open('entity_map.pkl', 'wb') as f:\n",
    "    pickle.dump(entity_map, f)'''"
   ]
  },
  {
   "cell_type": "code",
   "execution_count": 27,
   "id": "2c654d33",
   "metadata": {},
   "outputs": [],
   "source": [
    "'''import threading\n",
    "from multiprocessing import Process\n",
    "\n",
    "def thread_0():\n",
    "    print(threading.current_thread().getName(), 'Starting')\n",
    "    storage = PostgresStorage(host='localhost',\n",
    "                          port=5433,\n",
    "                          dbname='ner_test',\n",
    "                          user='postgres',\n",
    "                          password='dbpass',\n",
    "                          pgpass_file='~/.pgpass',\n",
    "                          schema='my_schema',\n",
    "                          role=None,\n",
    "                          temporary=False)\n",
    "    collection = storage['ner_texts']\n",
    "    collection.create_layer_block(tagger=ner_tagger, block=(6, 0))\n",
    "    print(threading.current_thread().getName(), 'Exiting')\n",
    "\n",
    "\n",
    "def thread_1():\n",
    "    print(threading.current_thread().getName(), 'Starting')\n",
    "    storage = PostgresStorage(host='localhost',\n",
    "                          port=5433,\n",
    "                          dbname='ner_test',\n",
    "                          user='postgres',\n",
    "                          password='dbpass',\n",
    "                          pgpass_file='~/.pgpass',\n",
    "                          schema='my_schema',\n",
    "                          role=None,\n",
    "                          temporary=False)\n",
    "    collection = storage['ner_texts']\n",
    "    collection.create_layer_block(tagger=ner_tagger, block=(6, 1))\n",
    "    print(threading.current_thread().getName(), 'Exiting')\n",
    "    \n",
    "def thread_2():\n",
    "    print(threading.current_thread().getName(), 'Starting')\n",
    "    storage = PostgresStorage(host='localhost',\n",
    "                          port=5433,\n",
    "                          dbname='ner_test',\n",
    "                          user='postgres',\n",
    "                          password='dbpass',\n",
    "                          pgpass_file='~/.pgpass',\n",
    "                          schema='my_schema',\n",
    "                          role=None,\n",
    "                          temporary=False)\n",
    "    collection = storage['ner_texts']\n",
    "    collection.create_layer_block(tagger=ner_tagger, block=(6, 2))\n",
    "    print(threading.current_thread().getName(), 'Exiting')\n",
    "    \n",
    "def thread_3():\n",
    "    print(threading.current_thread().getName(), 'Starting')\n",
    "    storage = PostgresStorage(host='localhost',\n",
    "                          port=5433,\n",
    "                          dbname='ner_test',\n",
    "                          user='postgres',\n",
    "                          password='dbpass',\n",
    "                          pgpass_file='~/.pgpass',\n",
    "                          schema='my_schema',\n",
    "                          role=None,\n",
    "                          temporary=False)\n",
    "    collection = storage['ner_texts']\n",
    "    collection.create_layer_block(tagger=ner_tagger, block=(6, 3))\n",
    "    print(threading.current_thread().getName(), 'Exiting')\n",
    "    \n",
    "def thread_4():\n",
    "    print(threading.current_thread().getName(), 'Starting')\n",
    "    storage = PostgresStorage(host='localhost',\n",
    "                          port=5433,\n",
    "                          dbname='ner_test',\n",
    "                          user='postgres',\n",
    "                          password='dbpass',\n",
    "                          pgpass_file='~/.pgpass',\n",
    "                          schema='my_schema',\n",
    "                          role=None,\n",
    "                          temporary=False)\n",
    "    collection = storage['ner_texts']\n",
    "    collection.create_layer_block(tagger=ner_tagger, block=(6, 4))\n",
    "    print(threading.current_thread().getName(), 'Exiting')\n",
    "    \n",
    "def thread_5():\n",
    "    print(threading.current_thread().getName(), 'Starting')\n",
    "    storage = PostgresStorage(host='localhost',\n",
    "                          port=5433,\n",
    "                          dbname='ner_test',\n",
    "                          user='postgres',\n",
    "                          password='dbpass',\n",
    "                          pgpass_file='~/.pgpass',\n",
    "                          schema='my_schema',\n",
    "                          role=None,\n",
    "                          temporary=False)\n",
    "    collection = storage['ner_texts']\n",
    "    collection.create_layer_block(tagger=ner_tagger, block=(6, 5))\n",
    "    print(threading.current_thread().getName(), 'Exiting')\n",
    "\n",
    "if __name__ == \"__main__\":\n",
    "t0 = threading.Thread(name='thread_0', target=thread_0)\n",
    "t1 = threading.Thread(name='thread_1', target=thread_1)\n",
    "t2 = threading.Thread(name='thread_2', target=thread_2)\n",
    "t3 = threading.Thread(name='thread_3', target=thread_3)\n",
    "t4 = threading.Thread(name='thread_4', target=thread_4)\n",
    "t5 = threading.Thread(name='thread_5', target=thread_5)\n",
    "\n",
    "t0.start()\n",
    "t1.start()\n",
    "t2.start()\n",
    "t3.start()\n",
    "t4.start()\n",
    "t5.start()'''"
   ]
  },
  {
   "cell_type": "code",
   "execution_count": 76,
   "id": "e989164f",
   "metadata": {},
   "outputs": [],
   "source": [
    "collection.selected_layers = ['words','ner']"
   ]
  },
  {
   "cell_type": "code",
   "execution_count": 78,
   "id": "55693da5",
   "metadata": {},
   "outputs": [
    {
     "ename": "KeyError",
     "evalue": "'Index 0 is outside of the collection'",
     "output_type": "error",
     "traceback": [
      "\u001b[1;31m---------------------------------------------------------------------------\u001b[0m",
      "\u001b[1;31mKeyError\u001b[0m                                  Traceback (most recent call last)",
      "\u001b[1;32m<ipython-input-78-9b7cc34cb2af>\u001b[0m in \u001b[0;36m<module>\u001b[1;34m\u001b[0m\n\u001b[1;32m----> 1\u001b[1;33m \u001b[0mcollection\u001b[0m\u001b[1;33m[\u001b[0m\u001b[1;36m0\u001b[0m\u001b[1;33m]\u001b[0m\u001b[1;33m\u001b[0m\u001b[1;33m\u001b[0m\u001b[0m\n\u001b[0m",
      "\u001b[1;32mc:\\users\\rasmu\\onedrive\\dokumendid\\estnltk\\estnltk\\estnltk\\storage\\postgres\\collection.py\u001b[0m in \u001b[0;36m__getitem__\u001b[1;34m(self, item)\u001b[0m\n\u001b[0;32m    424\u001b[0m                     selected_layers=self.selected_layers, structure=self.structure)\n\u001b[0;32m    425\u001b[0m             \u001b[1;32melse\u001b[0m\u001b[1;33m:\u001b[0m\u001b[1;33m\u001b[0m\u001b[1;33m\u001b[0m\u001b[0m\n\u001b[1;32m--> 426\u001b[1;33m                 \u001b[1;32mraise\u001b[0m \u001b[0mKeyError\u001b[0m\u001b[1;33m(\u001b[0m\u001b[1;34m\"Index {!r} is outside of the collection\"\u001b[0m\u001b[1;33m.\u001b[0m\u001b[0mformat\u001b[0m\u001b[1;33m(\u001b[0m\u001b[0mitem\u001b[0m\u001b[1;33m)\u001b[0m\u001b[1;33m)\u001b[0m\u001b[1;33m\u001b[0m\u001b[1;33m\u001b[0m\u001b[0m\n\u001b[0m\u001b[0;32m    427\u001b[0m \u001b[1;33m\u001b[0m\u001b[0m\n\u001b[0;32m    428\u001b[0m         \u001b[1;32mif\u001b[0m \u001b[0misinstance\u001b[0m\u001b[1;33m(\u001b[0m\u001b[0mitem\u001b[0m\u001b[1;33m,\u001b[0m \u001b[0mslice\u001b[0m\u001b[1;33m)\u001b[0m\u001b[1;33m:\u001b[0m  \u001b[1;31m# TODO\u001b[0m\u001b[1;33m\u001b[0m\u001b[1;33m\u001b[0m\u001b[0m\n",
      "\u001b[1;31mKeyError\u001b[0m: 'Index 0 is outside of the collection'"
     ]
    }
   ],
   "source": [
    "collection[0]"
   ]
  }
 ],
 "metadata": {
  "kernelspec": {
   "display_name": "Python 3",
   "language": "python",
   "name": "python3"
  },
  "language_info": {
   "codemirror_mode": {
    "name": "ipython",
    "version": 3
   },
   "file_extension": ".py",
   "mimetype": "text/x-python",
   "name": "python",
   "nbconvert_exporter": "python",
   "pygments_lexer": "ipython3",
   "version": "3.6.12"
  }
 },
 "nbformat": 4,
 "nbformat_minor": 5
}
