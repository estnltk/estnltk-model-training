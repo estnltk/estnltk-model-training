{
 "cells": [
  {
   "cell_type": "code",
   "execution_count": 1,
   "id": "0d2b0b9a",
   "metadata": {},
   "outputs": [],
   "source": [
    "from estnltk import Text"
   ]
  },
  {
   "cell_type": "code",
   "execution_count": 3,
   "id": "808ed40e",
   "metadata": {},
   "outputs": [],
   "source": [
    "first_words_list = [('Eesti',),('Tartu',)]"
   ]
  },
  {
   "cell_type": "code",
   "execution_count": 4,
   "id": "6a425432",
   "metadata": {},
   "outputs": [],
   "source": [
    "from estnltk.taggers.system.rule_taggers import Ruleset, StaticExtractionRule\n",
    "\n",
    "#create a ruleset from list\n",
    "def list_to_ruleset(rule_list, len_check=None):\n",
    "    ruleset = Ruleset()\n",
    "    for word in rule_list:\n",
    "        rule = StaticExtractionRule(pattern=word)\n",
    "        ruleset.add_rules([rule])\n",
    "    return ruleset"
   ]
  },
  {
   "cell_type": "code",
   "execution_count": 5,
   "id": "176647a6",
   "metadata": {},
   "outputs": [],
   "source": [
    "ruleset = list_to_ruleset(last_word_list)"
   ]
  },
  {
   "cell_type": "code",
   "execution_count": 10,
   "id": "548c4563",
   "metadata": {},
   "outputs": [],
   "source": [
    "text = Text('''Tartu (lõunaeesti keeles Tarto) on rahvaarvult Eesti teine linn, linnasisese linnana haldusliku Tartu linna keskasula, Lõuna-Eesti suurim keskus ja Tartu maakonna halduskeskus. Linn asub Emajõe kallastel.\n",
    "\n",
    "Vanimaid inimasustuse jälgi Tartu aladel on leitud Uus-Ihaste asulakohas ja nende vanuseks loetakse umbes 8000 eKr. Umbes 700. aasta paiku rajati hilisema Tartu tähetorni kohale muinaslinnus. Tartu esmamainimise aastaks loetakse aastat 1030, kui Kiievi suurvürst Jaroslav Tark võitis tšuude ja rajas vana linnuse kohale uue.\n",
    "\n",
    "Keskajal oli Tartu hansalinn ja kuulus Vana-Liivimaa rikkamate linnade sekka. Õitseaeg lõppes Liivi sõjaga. Samuti kannatas linn suuresti järgnevates relvakonfliktides.''')"
   ]
  },
  {
   "cell_type": "code",
   "execution_count": 11,
   "id": "4d47658b",
   "metadata": {},
   "outputs": [
    {
     "data": {
      "text/html": [
       "<table border=\"1\" class=\"dataframe\">\n",
       "  <thead>\n",
       "    <tr style=\"text-align: right;\">\n",
       "      <th>text</th>\n",
       "    </tr>\n",
       "  </thead>\n",
       "  <tbody>\n",
       "    <tr>\n",
       "      <td><div align = \"left\">Tartu (lõunaeesti keeles Tarto) on rahvaarvult Eesti teine linn, linnasisese linnana haldusliku Tartu linna keskasula, Lõuna-Eesti suurim keskus ja Tartu maakonna halduskeskus. Linn asub Emajõe kallastel.</br></br>Vanimaid inimasustuse jälgi Tartu aladel on leitud Uus-Ihaste asulakohas ja nende vanuseks loetakse umbes 8000 eKr. Umbes 700. aasta paiku rajati hilisema Tartu tähetorni kohale muinaslinnus. Tartu esmamainimise aastaks loetakse aastat 1030, kui Kiievi suurvürst Jaroslav Tark võitis tšuude ja rajas vana linnuse kohale uue.</br></br>Keskajal oli Tartu hansalinn ja kuulus Vana-Liivimaa rikkamate linnade sekka. Õitseaeg lõppes Liivi sõjaga. Samuti kannatas linn suuresti järgnevates relvakonfliktides.</div></td>\n",
       "    </tr>\n",
       "  </tbody>\n",
       "</table>\n",
       "<table border=\"1\" class=\"dataframe\">\n",
       "  <thead>\n",
       "    <tr style=\"text-align: right;\">\n",
       "      <th>layer name</th>\n",
       "      <th>attributes</th>\n",
       "      <th>parent</th>\n",
       "      <th>enveloping</th>\n",
       "      <th>ambiguous</th>\n",
       "      <th>span count</th>\n",
       "    </tr>\n",
       "  </thead>\n",
       "  <tbody>\n",
       "    <tr>\n",
       "      <td>sentences</td>\n",
       "      <td></td>\n",
       "      <td>None</td>\n",
       "      <td>words</td>\n",
       "      <td>False</td>\n",
       "      <td>8</td>\n",
       "    </tr>\n",
       "    <tr>\n",
       "      <td>tokens</td>\n",
       "      <td></td>\n",
       "      <td>None</td>\n",
       "      <td>None</td>\n",
       "      <td>False</td>\n",
       "      <td>111</td>\n",
       "    </tr>\n",
       "    <tr>\n",
       "      <td>compound_tokens</td>\n",
       "      <td>type, normalized</td>\n",
       "      <td>None</td>\n",
       "      <td>tokens</td>\n",
       "      <td>False</td>\n",
       "      <td>4</td>\n",
       "    </tr>\n",
       "    <tr>\n",
       "      <td>words</td>\n",
       "      <td>normalized_form</td>\n",
       "      <td>None</td>\n",
       "      <td>None</td>\n",
       "      <td>True</td>\n",
       "      <td>104</td>\n",
       "    </tr>\n",
       "    <tr>\n",
       "      <td>morph_analysis</td>\n",
       "      <td>normalized_text, lemma, root, root_tokens, ending, clitic, form, partofspeech</td>\n",
       "      <td>words</td>\n",
       "      <td>None</td>\n",
       "      <td>True</td>\n",
       "      <td>104</td>\n",
       "    </tr>\n",
       "  </tbody>\n",
       "</table>"
      ],
      "text/plain": [
       "Text(text='Tartu (lõunaeesti keeles Tarto) on rahvaarvult Eesti teine linn, linnasisese linnana haldusliku Tartu linna keskasula, Lõuna-Eesti suurim keskus ja Tartu maakonna halduskeskus. Linn asub Emajõe kallastel.\\n\\nVanimaid inimasustuse jälgi Tartu aladel on leitud Uus-Ihaste asulakohas ja nende vanuseks loetakse umbes 8000 eKr. Umbes 700. aasta paiku rajati hilisema Tartu tähetorni kohale muinaslinnus. Tartu esmamainimise aastaks loetakse aastat 1030, kui Kiievi suurvürst Jaroslav Tark võitis tšuude ja rajas vana linnuse kohale uue.\\n\\nKeskajal oli Tartu hansalinn ja kuulus Vana-Liivimaa rikkamate linnade sekka. Õitseaeg lõppes Liivi sõjaga. Samuti kannatas linn suuresti järgnevates relvakonfliktides.')"
      ]
     },
     "execution_count": 11,
     "metadata": {},
     "output_type": "execute_result"
    }
   ],
   "source": [
    "text.tag_layer()"
   ]
  },
  {
   "cell_type": "code",
   "execution_count": 13,
   "id": "38a5bb7b",
   "metadata": {},
   "outputs": [
    {
     "data": {
      "text/html": [
       "<table border=\"1\" class=\"dataframe\">\n",
       "  <thead>\n",
       "    <tr style=\"text-align: right;\">\n",
       "      <th>text</th>\n",
       "    </tr>\n",
       "  </thead>\n",
       "  <tbody>\n",
       "    <tr>\n",
       "      <td><div align = \"left\">Tartu (lõunaeesti keeles Tarto) on rahvaarvult Eesti teine linn, linnasisese linnana haldusliku Tartu linna keskasula, Lõuna-Eesti suurim keskus ja Tartu maakonna halduskeskus. Linn asub Emajõe kallastel.</br></br>Vanimaid inimasustuse jälgi Tartu aladel on leitud Uus-Ihaste asulakohas ja nende vanuseks loetakse umbes 8000 eKr. Umbes 700. aasta paiku rajati hilisema Tartu tähetorni kohale muinaslinnus. Tartu esmamainimise aastaks loetakse aastat 1030, kui Kiievi suurvürst Jaroslav Tark võitis tšuude ja rajas vana linnuse kohale uue.</br></br>Keskajal oli Tartu hansalinn ja kuulus Vana-Liivimaa rikkamate linnade sekka. Õitseaeg lõppes Liivi sõjaga. Samuti kannatas linn suuresti järgnevates relvakonfliktides.</div></td>\n",
       "    </tr>\n",
       "  </tbody>\n",
       "</table>\n",
       "<table border=\"1\" class=\"dataframe\">\n",
       "  <thead>\n",
       "    <tr style=\"text-align: right;\">\n",
       "      <th>layer name</th>\n",
       "      <th>attributes</th>\n",
       "      <th>parent</th>\n",
       "      <th>enveloping</th>\n",
       "      <th>ambiguous</th>\n",
       "      <th>span count</th>\n",
       "    </tr>\n",
       "  </thead>\n",
       "  <tbody>\n",
       "    <tr>\n",
       "      <td>sentences</td>\n",
       "      <td></td>\n",
       "      <td>None</td>\n",
       "      <td>words</td>\n",
       "      <td>False</td>\n",
       "      <td>8</td>\n",
       "    </tr>\n",
       "    <tr>\n",
       "      <td>tokens</td>\n",
       "      <td></td>\n",
       "      <td>None</td>\n",
       "      <td>None</td>\n",
       "      <td>False</td>\n",
       "      <td>111</td>\n",
       "    </tr>\n",
       "    <tr>\n",
       "      <td>compound_tokens</td>\n",
       "      <td>type, normalized</td>\n",
       "      <td>None</td>\n",
       "      <td>tokens</td>\n",
       "      <td>False</td>\n",
       "      <td>4</td>\n",
       "    </tr>\n",
       "    <tr>\n",
       "      <td>words</td>\n",
       "      <td>normalized_form</td>\n",
       "      <td>None</td>\n",
       "      <td>None</td>\n",
       "      <td>True</td>\n",
       "      <td>104</td>\n",
       "    </tr>\n",
       "    <tr>\n",
       "      <td>morph_analysis</td>\n",
       "      <td>normalized_text, lemma, root, root_tokens, ending, clitic, form, partofspeech</td>\n",
       "      <td>words</td>\n",
       "      <td>None</td>\n",
       "      <td>True</td>\n",
       "      <td>104</td>\n",
       "    </tr>\n",
       "    <tr>\n",
       "      <td>front_ner</td>\n",
       "      <td>tag, pos</td>\n",
       "      <td>None</td>\n",
       "      <td>words</td>\n",
       "      <td>False</td>\n",
       "      <td>8</td>\n",
       "    </tr>\n",
       "  </tbody>\n",
       "</table>"
      ],
      "text/plain": [
       "Text(text='Tartu (lõunaeesti keeles Tarto) on rahvaarvult Eesti teine linn, linnasisese linnana haldusliku Tartu linna keskasula, Lõuna-Eesti suurim keskus ja Tartu maakonna halduskeskus. Linn asub Emajõe kallastel.\\n\\nVanimaid inimasustuse jälgi Tartu aladel on leitud Uus-Ihaste asulakohas ja nende vanuseks loetakse umbes 8000 eKr. Umbes 700. aasta paiku rajati hilisema Tartu tähetorni kohale muinaslinnus. Tartu esmamainimise aastaks loetakse aastat 1030, kui Kiievi suurvürst Jaroslav Tark võitis tšuude ja rajas vana linnuse kohale uue.\\n\\nKeskajal oli Tartu hansalinn ja kuulus Vana-Liivimaa rikkamate linnade sekka. Õitseaeg lõppes Liivi sõjaga. Samuti kannatas linn suuresti järgnevates relvakonfliktides.')"
      ]
     },
     "execution_count": 13,
     "metadata": {},
     "output_type": "execute_result"
    }
   ],
   "source": [
    "from estnltk.taggers.system.rule_taggers import PhraseTagger\n",
    "\n",
    "front_tagger = PhraseTagger(ruleset=ruleset,output_attributes=['tag','pos'], input_layer='words', input_attribute='text',output_layer='front_ner')\n",
    "front_tagger.tag(text)"
   ]
  },
  {
   "cell_type": "code",
   "execution_count": 14,
   "id": "5d20f4a2",
   "metadata": {},
   "outputs": [],
   "source": [
    "from estnltk_core.layer_operations import split_by_sentences"
   ]
  },
  {
   "cell_type": "code",
   "execution_count": 26,
   "id": "3befc372",
   "metadata": {},
   "outputs": [],
   "source": [
    "sents = split_by_sentences(text,layers_to_keep=['front_ner','words','morph_analysis','sentences'])"
   ]
  },
  {
   "cell_type": "code",
   "execution_count": 27,
   "id": "8f161346",
   "metadata": {},
   "outputs": [],
   "source": [
    "filtered_sents = []\n",
    "\n",
    "for sent in sents:\n",
    "    if len(sent.front_ner)>0:\n",
    "        filtered_sents.append(sent)"
   ]
  },
  {
   "cell_type": "code",
   "execution_count": 28,
   "id": "e5953a1f",
   "metadata": {},
   "outputs": [
    {
     "data": {
      "text/plain": [
       "[Text(text='Tartu (lõunaeesti keeles Tarto) on rahvaarvult Eesti teine linn, linnasisese linnana haldusliku Tartu linna keskasula, Lõuna-Eesti suurim keskus ja Tartu maakonna halduskeskus.'),\n",
       " Text(text='Vanimaid inimasustuse jälgi Tartu aladel on leitud Uus-Ihaste asulakohas ja nende vanuseks loetakse umbes 8000 eKr.'),\n",
       " Text(text='Umbes 700. aasta paiku rajati hilisema Tartu tähetorni kohale muinaslinnus.'),\n",
       " Text(text='Tartu esmamainimise aastaks loetakse aastat 1030, kui Kiievi suurvürst Jaroslav Tark võitis tšuude ja rajas vana linnuse kohale uue.'),\n",
       " Text(text='Keskajal oli Tartu hansalinn ja kuulus Vana-Liivimaa rikkamate linnade sekka.')]"
      ]
     },
     "execution_count": 28,
     "metadata": {},
     "output_type": "execute_result"
    }
   ],
   "source": [
    "filtered_sents"
   ]
  },
  {
   "cell_type": "code",
   "execution_count": 29,
   "id": "7ef93100",
   "metadata": {},
   "outputs": [],
   "source": [
    "import pickle\n",
    "with open('first_word_dataset.pkl', 'wb') as f:\n",
    "    pickle.dump(filtered_sents,f)"
   ]
  }
 ],
 "metadata": {
  "kernelspec": {
   "display_name": "Python 3",
   "language": "python",
   "name": "python3"
  },
  "language_info": {
   "codemirror_mode": {
    "name": "ipython",
    "version": 3
   },
   "file_extension": ".py",
   "mimetype": "text/x-python",
   "name": "python",
   "nbconvert_exporter": "python",
   "pygments_lexer": "ipython3",
   "version": "3.6.12"
  }
 },
 "nbformat": 4,
 "nbformat_minor": 5
}
