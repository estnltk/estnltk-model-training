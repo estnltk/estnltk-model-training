{
 "cells": [
  {
   "cell_type": "code",
   "execution_count": 11,
   "id": "6b12824f",
   "metadata": {},
   "outputs": [],
   "source": [
    "import pickle\n",
    "with open('first_word_dataset.pkl', 'rb') as f:\n",
    "    first_words = pickle.load(f)"
   ]
  },
  {
   "cell_type": "code",
   "execution_count": 12,
   "id": "447bb37b",
   "metadata": {},
   "outputs": [
    {
     "data": {
      "text/plain": [
       "[Text(text='Tartu (lõunaeesti keeles Tarto) on rahvaarvult Eesti teine linn, linnasisese linnana haldusliku Tartu linna keskasula, Lõuna-Eesti suurim keskus ja Tartu maakonna halduskeskus.'),\n",
       " Text(text='Vanimaid inimasustuse jälgi Tartu aladel on leitud Uus-Ihaste asulakohas ja nende vanuseks loetakse umbes 8000 eKr.'),\n",
       " Text(text='Umbes 700. aasta paiku rajati hilisema Tartu tähetorni kohale muinaslinnus.'),\n",
       " Text(text='Tartu esmamainimise aastaks loetakse aastat 1030, kui Kiievi suurvürst Jaroslav Tark võitis tšuude ja rajas vana linnuse kohale uue.'),\n",
       " Text(text='Keskajal oli Tartu hansalinn ja kuulus Vana-Liivimaa rikkamate linnade sekka.')]"
      ]
     },
     "execution_count": 12,
     "metadata": {},
     "output_type": "execute_result"
    }
   ],
   "source": [
    "first_words"
   ]
  },
  {
   "cell_type": "code",
   "execution_count": 13,
   "id": "54879da0",
   "metadata": {},
   "outputs": [],
   "source": [
    "from estnltk.taggers import NerTagger\n",
    "\n",
    "ner = NerTagger()"
   ]
  },
  {
   "cell_type": "code",
   "execution_count": 14,
   "id": "f65eeeff",
   "metadata": {},
   "outputs": [],
   "source": [
    "for text in first_words:\n",
    "    ner.tag(text)"
   ]
  },
  {
   "cell_type": "code",
   "execution_count": 15,
   "id": "c43462e8",
   "metadata": {},
   "outputs": [
    {
     "data": {
      "text/html": [
       "<h4>Layer</h4>\n",
       "\n",
       "\n",
       "<table border=\"1\" class=\"dataframe\">\n",
       "  <thead>\n",
       "    <tr style=\"text-align: right;\">\n",
       "      <th>layer name</th>\n",
       "      <th>attributes</th>\n",
       "      <th>parent</th>\n",
       "      <th>enveloping</th>\n",
       "      <th>ambiguous</th>\n",
       "      <th>span count</th>\n",
       "    </tr>\n",
       "  </thead>\n",
       "  <tbody>\n",
       "    <tr>\n",
       "      <td>ner</td>\n",
       "      <td>nertag</td>\n",
       "      <td>None</td>\n",
       "      <td>words</td>\n",
       "      <td>False</td>\n",
       "      <td>6</td>\n",
       "    </tr>\n",
       "  </tbody>\n",
       "</table>\n",
       "<table border=\"1\" class=\"dataframe\">\n",
       "  <thead>\n",
       "    <tr style=\"text-align: right;\">\n",
       "      <th>text</th>\n",
       "      <th>nertag</th>\n",
       "    </tr>\n",
       "  </thead>\n",
       "  <tbody>\n",
       "    <tr>\n",
       "      <td>['Tartu']</td>\n",
       "      <td>LOC</td>\n",
       "    </tr>\n",
       "    <tr>\n",
       "      <td>['Tarto']</td>\n",
       "      <td>LOC</td>\n",
       "    </tr>\n",
       "    <tr>\n",
       "      <td>['Eesti']</td>\n",
       "      <td>LOC</td>\n",
       "    </tr>\n",
       "    <tr>\n",
       "      <td>['Tartu', 'linna']</td>\n",
       "      <td>LOC</td>\n",
       "    </tr>\n",
       "    <tr>\n",
       "      <td>['Lõuna-Eesti']</td>\n",
       "      <td>LOC</td>\n",
       "    </tr>\n",
       "    <tr>\n",
       "      <td>['Tartu', 'maakonna']</td>\n",
       "      <td>LOC</td>\n",
       "    </tr>\n",
       "  </tbody>\n",
       "</table>"
      ],
      "text/plain": [
       "Layer(name='ner', attributes=('nertag',), spans=SL[EnvelopingSpan(['Tartu'], [{'nertag': 'LOC'}]),\n",
       "EnvelopingSpan(['Tarto'], [{'nertag': 'LOC'}]),\n",
       "EnvelopingSpan(['Eesti'], [{'nertag': 'LOC'}]),\n",
       "EnvelopingSpan(['Tartu', 'linna'], [{'nertag': 'LOC'}]),\n",
       "EnvelopingSpan(['Lõuna-Eesti'], [{'nertag': 'LOC'}]),\n",
       "EnvelopingSpan(['Tartu', 'maakonna'], [{'nertag': 'LOC'}])])"
      ]
     },
     "execution_count": 15,
     "metadata": {},
     "output_type": "execute_result"
    }
   ],
   "source": [
    "first_words[0].ner"
   ]
  },
  {
   "cell_type": "code",
   "execution_count": null,
   "id": "9e47bb3a",
   "metadata": {},
   "outputs": [],
   "source": []
  }
 ],
 "metadata": {
  "kernelspec": {
   "display_name": "Python 3",
   "language": "python",
   "name": "python3"
  },
  "language_info": {
   "codemirror_mode": {
    "name": "ipython",
    "version": 3
   },
   "file_extension": ".py",
   "mimetype": "text/x-python",
   "name": "python",
   "nbconvert_exporter": "python",
   "pygments_lexer": "ipython3",
   "version": "3.6.12"
  }
 },
 "nbformat": 4,
 "nbformat_minor": 5
}
