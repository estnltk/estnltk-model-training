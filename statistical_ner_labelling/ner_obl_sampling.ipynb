{
 "cells": [
  {
   "cell_type": "markdown",
   "id": "afc136b2",
   "metadata": {},
   "source": [
    "### Sampling"
   ]
  },
  {
   "cell_type": "code",
   "execution_count": 22,
   "id": "926e5aa0",
   "metadata": {},
   "outputs": [
    {
     "name": "stdout",
     "output_type": "stream",
     "text": [
      "INFO:storage.py:58: connecting to host: 'postgres.keeleressursid.ee', port: 5432, dbname: 'estonian-text-corpora', user: 'rasmusm'\n",
      "INFO:storage.py:108: schema: 'estonian_text_corpora', temporary: False, role: 'estonian_text_corpora_read'\n"
     ]
    }
   ],
   "source": [
    "from estnltk import Text\n",
    "from estnltk.storage.postgres import PostgresStorage\n",
    "\n",
    "\n",
    "storage = PostgresStorage(host='postgres.keeleressursid.ee',\n",
    "                          port=5432,\n",
    "                          dbname='estonian-text-corpora',\n",
    "                          user='',\n",
    "                          password='',\n",
    "                          schema='estonian_text_corpora',\n",
    "                          role='estonian_text_corpora_read',\n",
    "                          temporary=False)"
   ]
  },
  {
   "cell_type": "code",
   "execution_count": 23,
   "id": "b3787953",
   "metadata": {},
   "outputs": [],
   "source": [
    "collection = storage['koondkorpus_sentences']\n",
    "collection.selected_layers = ['v171_named_entities','v172_stanza_syntax','v172_obl_phrases']"
   ]
  },
  {
   "cell_type": "code",
   "execution_count": null,
   "id": "631756da",
   "metadata": {},
   "outputs": [],
   "source": [
    "from estnltk.storage.postgres import LayerQuery\n",
    "from tqdm import tqdm\n",
    "texts = []\n",
    "q = LayerQuery('v171_named_entities',nertag='LOC')\n",
    "i = 0\n",
    "matching_texts = []\n",
    "equal_ner_obl = []\n",
    "ner_without_obl = []\n",
    "ner_inside_obl = []\n",
    "obl_inside_ner = []\n",
    "ner_obl_loikuvad = []\n",
    "partly_equal_ner_obl = []\n",
    "\n",
    "for key, txt in tqdm(collection.select(query=q,layers=['v172_obl_phrases','v171_named_entities'])):\n",
    "    i = i+1\n",
    "    for ner in txt['v171_named_entities']:\n",
    "        if ner.nertag != \"LOC\":\n",
    "            continue\n",
    "        n_match = False\n",
    "        for ent in txt['v172_obl_phrases']:\n",
    "            if ent.text == ner.text:\n",
    "                equal_ner_obl.append((key, ner.start, ner.end, ent.start, ent.end))\n",
    "                n_match = True\n",
    "            if ent.start <= ner.end and ent.end >= ner.start:\n",
    "                partly_equal_ner_obl.append((key, ner.start, ner.end, ent.start, ent.end))\n",
    "                n_match = True\n",
    "            if ner.start >= ent.start and ner.end <= ent.end:\n",
    "                if ner.text == ent.text:\n",
    "                    continue\n",
    "                ner_inside_obl.append((key, ner.start, ner.end, ent.start, ent.end))\n",
    "            if ent.start >= ner.start and ent.end <= ner.end:\n",
    "                if ner.text == ent.text:\n",
    "                    continue\n",
    "                obl_inside_ner.append((key, ner.start, ner.end, ent.start, ent.end))\n",
    "            if ner.start > ent.start and ner.end > ent.end and ner.start <= ent.end:\n",
    "                ner_obl_loikuvad.append((key, ner.start, ner.end, ent.start, ent.end))\n",
    "            if ner.start < ent.start and ner.end < ent.end and ner.end >= ent.start:\n",
    "                ner_obl_loikuvad.append((key, ner.start, ner.end, ent.start, ent.end))\n",
    "        if n_match == False:\n",
    "            ner_without_obl.append((key, ner.start, ner.end, ent.start, ent.end))\n",
    "    if i%3000==0:\n",
    "        \n",
    "        with open('matching_texts.txt','a',encoding='UTF-8') as f:\n",
    "            f.write(str(matching_texts))\n",
    "\n",
    "        with open('equal_ner_obl.txt','a',encoding='UTF-8') as f:\n",
    "            f.write(str(equal_ner_obl))\n",
    "\n",
    "        with open('partly_equal_ner_obl.txt','a',encoding='UTF-8') as f:\n",
    "            f.write(str(partly_equal_ner_obl))\n",
    "\n",
    "        with open('ner_without_obl.txt','a',encoding='UTF-8') as f:\n",
    "            f.write(str(ner_without_obl))\n",
    "\n",
    "        with open('ner_inside_obl.txt','a',encoding='UTF-8') as f:\n",
    "            f.write(str(ner_inside_obl))\n",
    "\n",
    "        with open('obl_inside_ner.txt','a',encoding='UTF-8') as f:\n",
    "            f.write(str(obl_inside_ner))\n",
    "\n",
    "        with open('ner_obl_loikuvad.txt','a',encoding='UTF-8') as f:\n",
    "            f.write(str(ner_obl_loikuvad))\n",
    "            \n",
    "        matching_texts = []\n",
    "        equal_ner_obl = []\n",
    "        ner_without_obl = []\n",
    "        ner_inside_obl = []\n",
    "        obl_inside_ner = []\n",
    "        ner_obl_loikuvad = []\n",
    "        partly_equal_ner_obl = []"
   ]
  },
  {
   "cell_type": "markdown",
   "id": "49c3b05a",
   "metadata": {},
   "source": [
    "### Analysis"
   ]
  },
  {
   "cell_type": "code",
   "execution_count": 1,
   "id": "fa6b46d3",
   "metadata": {},
   "outputs": [],
   "source": [
    "with open('ner_obl_loikuvad.txt','r',encoding='UTF-8') as f:\n",
    "    ner_obl_loikuvad = f.readline()"
   ]
  },
  {
   "cell_type": "code",
   "execution_count": 2,
   "id": "a639609c",
   "metadata": {},
   "outputs": [],
   "source": [
    "splitted = ner_obl_loikuvad.split(']')"
   ]
  },
  {
   "cell_type": "code",
   "execution_count": 3,
   "id": "99dd20de",
   "metadata": {},
   "outputs": [
    {
     "data": {
      "text/plain": [
       "9642"
      ]
     },
     "execution_count": 3,
     "metadata": {},
     "output_type": "execute_result"
    }
   ],
   "source": [
    "altogether = []\n",
    "for part in splitted:\n",
    "    aslist = part[1:].split('), (')\n",
    "    altogether.extend(aslist)\n",
    "\n",
    "len(altogether)"
   ]
  },
  {
   "cell_type": "markdown",
   "id": "6c0beaa8",
   "metadata": {},
   "source": [
    "### Labelstudio"
   ]
  },
  {
   "cell_type": "code",
   "execution_count": 8,
   "id": "3c0a8235",
   "metadata": {},
   "outputs": [],
   "source": [
    "for i in range(len(altogether)):\n",
    "    altogether[i] = altogether[i].replace('(','')\n",
    "    altogether[i] = altogether[i].replace(')','')"
   ]
  },
  {
   "cell_type": "code",
   "execution_count": 49,
   "id": "ddd56923",
   "metadata": {},
   "outputs": [],
   "source": [
    "altogether = [row.split(',') for row in altogether]"
   ]
  },
  {
   "cell_type": "code",
   "execution_count": 70,
   "id": "8f42d4ce",
   "metadata": {},
   "outputs": [],
   "source": [
    "text_indices = [int(row[0]) for row in altogether if len(row)==5]"
   ]
  },
  {
   "cell_type": "code",
   "execution_count": 71,
   "id": "5d655ef0",
   "metadata": {},
   "outputs": [],
   "source": [
    "from estnltk.storage.postgres import IndexQuery\n",
    "\n",
    "query = IndexQuery(text_indices)\n",
    "a = collection.select(query=query,layers=['v171_named_entities','v172_stanza_syntax','v172_obl_phrases'])"
   ]
  },
  {
   "cell_type": "code",
   "execution_count": 94,
   "id": "018cd2df",
   "metadata": {},
   "outputs": [
    {
     "data": {
      "text/plain": [
       "[EnvelopingSpan(['Peeter'], [{'nertag': 'PER'}]),\n",
       " EnvelopingSpan(['Priit'], [{'nertag': 'PER'}]),\n",
       " EnvelopingSpan(['Baltikumis', 'Disneyt'], [{'nertag': 'LOC'}])]"
      ]
     },
     "execution_count": 94,
     "metadata": {},
     "output_type": "execute_result"
    }
   ],
   "source": [
    "collection[8460].v171_named_entities.spans"
   ]
  },
  {
   "cell_type": "code",
   "execution_count": 96,
   "id": "eeba87cc",
   "metadata": {},
   "outputs": [
    {
     "name": "stderr",
     "output_type": "stream",
     "text": [
      "8828it [03:01, 48.71it/s]\n"
     ]
    }
   ],
   "source": [
    "from tqdm import tqdm\n",
    "from copy import copy\n",
    "\n",
    "ls_texts = []\n",
    "\n",
    "for i, (key, text) in tqdm(enumerate(a)):\n",
    "    for row in altogether:\n",
    "        if len(row) == 5 and int(row[0]) == key:\n",
    "            this_row = row\n",
    "    for span in copy(text.v171_named_entities.spans):\n",
    "        if int(this_row[1])!=span.start or int(this_row[2])!=span.end:\n",
    "            text.v171_named_entities.remove_span(span)\n",
    "    for span in copy(text.v172_obl_phrases.spans):\n",
    "        if int(this_row[3])!=span.start or int(this_row[4])!=span.end:\n",
    "            text.v172_obl_phrases.remove_span(span)\n",
    "    ls_texts.append(text)"
   ]
  },
  {
   "cell_type": "code",
   "execution_count": 97,
   "id": "abfee2a5",
   "metadata": {},
   "outputs": [
    {
     "name": "stdout",
     "output_type": "stream",
     "text": [
      "\n",
      "        <View>\n",
      "            <Labels name=\"label\" toName=\"text\">\n",
      "\t<Label value=\"v171_named_entities\" background=\"#987D6C\"/> \n",
      "\t<Label value=\"v172_obl_phrases\" background=\"#1114B3\"/> \n",
      "\n",
      "            </Labels>\n",
      "        <Text name=\"text\" value=\"$text\"/>\n",
      "            <Header value=\"Are the annotations correct?\"/>\n",
      "                <Choices name=\"review\" toName=\"text\">\n",
      "                    <Choice value=\"yes\"/>\n",
      "                    <Choice value=\"no\"/>\n",
      "                </Choices>\n",
      "            </View>\n"
     ]
    }
   ],
   "source": [
    "from estnltk.converters.label_studio.label_studio import LabelStudioExporter\n",
    "\n",
    "exporter = LabelStudioExporter(\"ner_obl_loikuvad.json\",layers=['v171_named_entities','v172_obl_phrases'],checkbox=True)\n",
    "\n",
    "print(exporter.labeling_interface)\n",
    "\n",
    "exporter.convert(ls_texts,append=False)"
   ]
  }
 ],
 "metadata": {
  "kernelspec": {
   "display_name": "Python 3",
   "language": "python",
   "name": "python3"
  },
  "language_info": {
   "codemirror_mode": {
    "name": "ipython",
    "version": 3
   },
   "file_extension": ".py",
   "mimetype": "text/x-python",
   "name": "python",
   "nbconvert_exporter": "python",
   "pygments_lexer": "ipython3",
   "version": "3.6.12"
  }
 },
 "nbformat": 4,
 "nbformat_minor": 5
}
