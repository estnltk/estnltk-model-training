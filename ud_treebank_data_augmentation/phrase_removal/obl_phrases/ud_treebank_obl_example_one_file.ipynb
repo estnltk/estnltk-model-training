{
 "cells": [
  {
   "cell_type": "code",
   "execution_count": 1,
   "id": "2549937d",
   "metadata": {},
   "outputs": [],
   "source": [
    "%load_ext autoreload\n",
    "%autoreload 2"
   ]
  },
  {
   "cell_type": "markdown",
   "id": "79278749",
   "metadata": {},
   "source": [
    "## Read in file"
   ]
  },
  {
   "cell_type": "code",
   "execution_count": 2,
   "id": "e67ac393",
   "metadata": {},
   "outputs": [],
   "source": [
    "input_file = \"./UD2_11_udreposse/Train/aja_ee199920_osa_1_ud211.conllu\""
   ]
  },
  {
   "cell_type": "code",
   "execution_count": 3,
   "id": "dd695634",
   "metadata": {},
   "outputs": [],
   "source": [
    "from estnltk.converters.conll.conll_importer import conll_to_text"
   ]
  },
  {
   "cell_type": "code",
   "execution_count": 4,
   "id": "bc69684f",
   "metadata": {},
   "outputs": [],
   "source": [
    "text_obj = conll_to_text( input_file, syntax_layer='conll_syntax' )"
   ]
  },
  {
   "cell_type": "markdown",
   "id": "c8b5237b",
   "metadata": {},
   "source": [
    "## Split to sentences"
   ]
  },
  {
   "cell_type": "code",
   "execution_count": 5,
   "id": "8309a767",
   "metadata": {},
   "outputs": [],
   "source": [
    "from estnltk_core.layer_operations import split_by_sentences"
   ]
  },
  {
   "cell_type": "code",
   "execution_count": 6,
   "id": "bcac525e",
   "metadata": {},
   "outputs": [],
   "source": [
    "texts2 = split_by_sentences(text=text_obj,\n",
    "                               layers_to_keep=list(text_obj.layers),\n",
    "                               trim_overlapping=True\n",
    "                               )"
   ]
  },
  {
   "cell_type": "markdown",
   "id": "e578ad79",
   "metadata": {},
   "source": [
    "## Add obl_phrases layer"
   ]
  },
  {
   "cell_type": "code",
   "execution_count": 7,
   "id": "e8fc43d8",
   "metadata": {},
   "outputs": [],
   "source": [
    "from estnltk.taggers.standard.syntax.phrase_extraction.phrase_extractor import PhraseExtractor"
   ]
  },
  {
   "cell_type": "code",
   "execution_count": 8,
   "id": "bf9069c9",
   "metadata": {},
   "outputs": [],
   "source": [
    "phrase_tagger = PhraseExtractor(deprel=\"obl\", input_type=\"conll_syntax\", \n",
    "                                syntax_layer=\"conll_syntax\", output_layer=\"obl_phrases\", morph_layer=\"words\")\n"
   ]
  },
  {
   "cell_type": "markdown",
   "id": "7eac3ddf",
   "metadata": {},
   "source": [
    "### Test tagging sentences individually"
   ]
  },
  {
   "cell_type": "code",
   "execution_count": 9,
   "id": "edb57354",
   "metadata": {
    "scrolled": true
   },
   "outputs": [],
   "source": [
    "for txt in texts2:\n",
    "    phrase_tagger.tag(txt)"
   ]
  },
  {
   "cell_type": "code",
   "execution_count": 10,
   "id": "1f8f7823",
   "metadata": {},
   "outputs": [
    {
     "data": {
      "text/html": [
       "<h4>Layer</h4>\n",
       "\n",
       "\n",
       "<table border=\"1\" class=\"dataframe\">\n",
       "  <thead>\n",
       "    <tr style=\"text-align: right;\">\n",
       "      <th>layer name</th>\n",
       "      <th>attributes</th>\n",
       "      <th>parent</th>\n",
       "      <th>enveloping</th>\n",
       "      <th>ambiguous</th>\n",
       "      <th>span count</th>\n",
       "    </tr>\n",
       "  </thead>\n",
       "  <tbody>\n",
       "    <tr>\n",
       "      <td>obl_phrases</td>\n",
       "      <td>entity_type, free_entity, is_valid, root</td>\n",
       "      <td>None</td>\n",
       "      <td>words</td>\n",
       "      <td>False</td>\n",
       "      <td>2</td>\n",
       "    </tr>\n",
       "  </tbody>\n",
       "</table>\n",
       "<table border=\"1\" class=\"dataframe\">\n",
       "  <thead>\n",
       "    <tr style=\"text-align: right;\">\n",
       "      <th>text</th>\n",
       "      <th>entity_type</th>\n",
       "      <th>free_entity</th>\n",
       "      <th>is_valid</th>\n",
       "      <th>root</th>\n",
       "    </tr>\n",
       "  </thead>\n",
       "  <tbody>\n",
       "    <tr>\n",
       "      <td>['uurijatel']</td>\n",
       "      <td>None</td>\n",
       "      <td>None</td>\n",
       "      <td>None</td>\n",
       "      <td>Span('uurijatel', [{'id': 4, 'lemma': 'uurija', 'upostag': 'NOUN', 'xpostag': 'S ..., type: &lt;class 'estnltk_core.layer.span.Span'&gt;</td>\n",
       "    </tr>\n",
       "    <tr>\n",
       "      <td>['rahapesu', 'vastu']</td>\n",
       "      <td>None</td>\n",
       "      <td>None</td>\n",
       "      <td>None</td>\n",
       "      <td>Span('rahapesu', [{'id': 7, 'lemma': 'raha_pesu', 'upostag': 'NOUN', 'xpostag':  ..., type: &lt;class 'estnltk_core.layer.span.Span'&gt;</td>\n",
       "    </tr>\n",
       "  </tbody>\n",
       "</table>"
      ],
      "text/plain": [
       "Layer(name='obl_phrases', attributes=('entity_type', 'free_entity', 'is_valid', 'root'), spans=SL[EnvelopingSpan(['uurijatel'], [{'entity_type': None, 'free_entity': None, 'is_valid': None, 'root': <class 'estnltk_core.layer.span.Span'>}]),\n",
       "EnvelopingSpan(['rahapesu', 'vastu'], [{'entity_type': None, 'free_entity': None, 'is_valid': None, 'root': <class 'estnltk_core.layer.span.Span'>}])])"
      ]
     },
     "execution_count": 10,
     "metadata": {},
     "output_type": "execute_result"
    }
   ],
   "source": [
    "sentence = texts2[5]\n",
    "sentence.obl_phrases"
   ]
  },
  {
   "cell_type": "code",
   "execution_count": 11,
   "id": "06e53275",
   "metadata": {},
   "outputs": [
    {
     "data": {
      "text/plain": [
       "493"
      ]
     },
     "execution_count": 11,
     "metadata": {},
     "output_type": "execute_result"
    }
   ],
   "source": [
    "len(texts2)"
   ]
  },
  {
   "cell_type": "markdown",
   "id": "8f22f951",
   "metadata": {},
   "source": [
    "## Only keep texts that have something in the obl layer"
   ]
  },
  {
   "cell_type": "code",
   "execution_count": 12,
   "id": "cea51084",
   "metadata": {},
   "outputs": [],
   "source": [
    "texts3 = [text for text in texts2 if len(text.obl_phrases)!=0]"
   ]
  },
  {
   "cell_type": "code",
   "execution_count": 13,
   "id": "38ea2218",
   "metadata": {},
   "outputs": [
    {
     "data": {
      "text/plain": [
       "347"
      ]
     },
     "execution_count": 13,
     "metadata": {},
     "output_type": "execute_result"
    }
   ],
   "source": [
    "len(texts3)"
   ]
  },
  {
   "cell_type": "markdown",
   "id": "bb3e6409",
   "metadata": {},
   "source": [
    "## Files for label studio"
   ]
  },
  {
   "cell_type": "code",
   "execution_count": 17,
   "id": "4d5df837",
   "metadata": {},
   "outputs": [],
   "source": [
    "from collection_to_ls import collection_to_labelstudio, conf_gen"
   ]
  },
  {
   "cell_type": "code",
   "execution_count": 18,
   "id": "80b58922",
   "metadata": {},
   "outputs": [],
   "source": [
    "res_path = \"ls_puupank_obl_export_v6.json\""
   ]
  },
  {
   "cell_type": "code",
   "execution_count": 19,
   "id": "c947f65e",
   "metadata": {},
   "outputs": [],
   "source": [
    "collection_to_labelstudio(texts3, regular_layers=[\"obl_phrases\"],filename=res_path)"
   ]
  },
  {
   "cell_type": "code",
   "execution_count": 20,
   "id": "18b50fc4",
   "metadata": {},
   "outputs": [],
   "source": [
    "with open(\"ls_puupank_obl_export_v6_conf.txt\", \"w\", encoding=\"utf-8\") as f:\n",
    "    f.write(conf_gen(classes=[\"obl_phrases\"]))"
   ]
  },
  {
   "cell_type": "code",
   "execution_count": null,
   "id": "6005eccd",
   "metadata": {},
   "outputs": [],
   "source": []
  },
  {
   "cell_type": "markdown",
   "id": "8d2a7ab9",
   "metadata": {},
   "source": [
    "### Test tagging one text without splitting"
   ]
  },
  {
   "cell_type": "code",
   "execution_count": 9,
   "id": "114eecc4",
   "metadata": {
    "scrolled": true
   },
   "outputs": [
    {
     "data": {
      "text/html": [
       "<table border=\"1\" class=\"dataframe\">\n",
       "  <thead>\n",
       "    <tr style=\"text-align: right;\">\n",
       "      <th>text</th>\n",
       "    </tr>\n",
       "  </thead>\n",
       "  <tbody>\n",
       "    <tr>\n",
       "      <td><div align = \"left\">Iga üheksas kroon tuli salapärastelt isikutelt . Eesti Ekspressi teada on Eesti Pank uurinud Hansapanga tehinguid , mis toimusid kaks aastat tagasi suvel ja mille käigus voolas panka ligi miljardi krooni ulatuses kahtlast raha . See oli rohkem kui 10 protsenti kogu Hansapanka paigutatud rahast . Suurem osa rahast tuli välismaalt ja anonüümselt . Eesti seaduste järgi peavad pangad suurte summade puhul aga kindlasti selgitama , kes raha tegelikult teele lähetas . Selleks , et uurijatel oleks lihtsam rahapesu vastu võidelda . Kuid isegi pangainspektsioon ei jõudnud kohe raha algallikateni . Eesti Pank tunnistab : meie käed on liiga lühikesed ! Keskpanga avalike suhete osakonna juht Andrus Kuusmann ütleb , et &quot; kui tegu olnuks tõestatud rahapesuga , siis oleks ka vastavalt reageeritud &quot; . Samas tunnistab ta , et pangainspektsioonil pole õigust uurimist läbi viia , see on politsei asi . &quot; Tegutsesime nende võimaluste piirides , mis meile on antud , &quot; ütleb ta . Kas Eesti Pank pöördus politsei poole ? &quot; Ei , &quot; vastab Kuusmann ning lisab : &quot; Peamine vastutus lasub pangal endal . Nemad peavad olema veendunud ja tuvastama raha allika . Kas nad seda teevad või ei , selles osas jätab praegune seadus meie käed lühikeseks . Selgeid sanktsioone rikkumiste eest pole . &quot; Hansapanka juhtis kõnealusel ajal siseminister Jüri Mõis , kes on korduvalt rõhutanud heade äritavade ja eetilise käitumise tähtsust . Eesti Ekspressi otsesele küsimusele vastates välistab Mõis täielikult võimaluse , et Eesti pankade , sealhulgas Hansapanga kaudu toimus või toimub rahapesu . &quot; Ei , ei , ei , &quot; ütleb ta . Zürichist tuleb üle 700 miljoni Hansapanga suurim kahtlusalune tehing seondub Zürichis asuva Cantrade Private Bankiga . See on Šveitsi suurima panga UBSi haru , mis on tuntud numbrikontode poolest . Need on kontod , mille kasutaja ei pea raha liigutamiseks enda passi või mõnda muud dokumenti esitama , vaid ta saab seda teha spetsiaalse arvukoodi abil . Juuli lõpus 1997 läks Cantradest mitmes osas teele kokku ligi 50 miljonit dollarit ehk üle 700 miljoni krooni . Esmalt liikus see raha New Yorgis asuvasse Bankers Trusti ja sealt liikus edasi Hansapanka . Raha jõudis Eestisse anonüümselt , vaid šveitslaste märkega , et saatja on &quot; üks meie klientidest &quot; . Tavaliselt liiguvad sellisel varjatud moel narkoärist , altkäemaksudest , finantspettustest jt kriminaalsetest tehingutest pärinevad summad ehk tegemist on rahapesuga . Raha liikus samamoodi nagu narkodollarid liikusid Ameerikas Ühe allika sõnul suunas Hansapank Šveitsist tulnud raha numbrikontole , mida Eestis avada ei tohi ( kuid mida praktiseeris sellegipoolest Forekspank ) . Seejärel peideti raha üleöölaenudesse , mida audiitorid ja revidendid tavaliselt ei kontrolli . Nimelt võtavad pangad üleöölaene teistelt pankadelt , mitte tavalistelt hoiustajatelt . Teise võimaluse kohaselt ei liikunud raha mitte numbriarvele , vaid mingile anonüümsele &quot; kogumiskontole &quot; , kust seda on raske üles leida . Just sel viisil liigutas musta raha Ameerika suuruselt teine pank Citibank , kui tema kaudu pesi narkodollareid Mehhiko endise presidendi vend Raul Salinas de Gortrari . Ka Salinase raha liikus lõpuks Zürichisse , Citibanki filiaali nimega Confidas . Samuti on võimalik , et osa rahast jõudis Hansapanga kaudu lõpuks Tallinna börsile . Juuli lõpus 1997 kasvas börsiindeks talse märkimisväärse kiirusega ehk raha pööritamine börsil oli eriti tulus . Vähetuntud Tallinna firma hoiustab pea 190 miljonit &quot; Zürichi kliendiga &quot; samal ajal soosis Hansapank veel mitut vähetuntud , kuid väga rikast firmat . Pank pani ka nende hoiuseid ajutiselt üleöölaenudesse . See võimaldas neil klientidel tavalisest tunduvalt suuremaid intresse saada . Soositud klientideks olid maksuvabad kompaniid Ruby Investment Corp ning East Construction and Engineering , samuti Tallinna firma Baltreil , mis tegeleb raudteevedudega . Ainuüksi Baltreil pani panka 190 miljonit krooni , kuigi veel mõned kuud varem olnuks see võimatu . Nimelt oli Baltreilil aasta alguses vara kokku vaid veidi üle 30 miljoni krooni . Kuid nüüd oli talle miskil moel 190 miljonit krooni &quot; vaba raha &quot; tekkinud . Selline hiigelhoius pidanuks Hansapanga valvsaks tegema . Nimelt ütleb Eesti Panga presidendi Vahur Krafti rahapesu tõkestamise kohta väljaantud määrus , et &quot; kahtlaseks võib lugeda tehinguid , mis ei ole oma mahult või iseloomult kooskõlas kliendi äritegevusega või mille majanduslik põhjendatus on kaheldav &quot; . Baltreili tegevdirektor Vladimir Vinogradov keeldub suurhoiust kommenteerimast : &quot; See on firma asi . Me ei anna mingeid kommentaare . &quot; Kohe pärast Eesti Ekspressi kõnet võttis aga Baltreil Hansapangaga ühendust ja küsis , et mis toimub , et Eesti Ekspress tunneb asja vastu huvi . Hansapank : me ei ole seadust rikkunud ! Hansapank jääb selle loo kommenteerimisel napisõnaliseks , viidates pangasaladusele . Pangas avalike suhete eest vastutav Kristi Liiva ütleb korduvalt , et Hansapank ei ole kahtlast raha kasutanud ega rahapesule kaasa aidanud . &quot; Seadusest on alati kinni peetud . Saan seda kinnitada , &quot; ütles ta . Liiva sõnul välistab juba rahvusvaheline rahaülekandesüsteem SWIFT anonüümsete rahaülekannete tegemise võimaluse . Samas on Eesti Ekspress näinud Maapanga ülekandeid , kus on kirjas without name , without address ehk &quot; ilma nime ja aadressita &quot; . Nagu ikka , läks see raha lemmikmaale Šveitsi . EVEA pangaga tihedalt seotud firma Kolle BG kasutab ühe allika sõnul aga juba tükk aega süsteemi , kus tähtsamate rahaülekannete puhul asendab selgitavaid märkusi arusaamatu numbrite rida . P. S. Vahetult enne loo trükkiminekut sai Eesti Ekspress teada &quot; Zürichi miljonite &quot; tegeliku omaniku . Samuti on see info Eesti Pangal . 48,4 miljonit dollarit paigutas Hansapanka seesama eelpool mainitud East Construction and Engineering , kes on ehitusfirma Estconde partner Venemaal . See aga ei muuda olematuks tõsiasja , et Hansapanga vahendusel on tehtud kahtlasi tehinguid . Endiselt on ju teadmata , kustkohast Hansapanga salapärased kliendid nii palju raha said . Hansapank seda ei uuri . Eesti Pank ka ei uuri . Ja samuti politsei , kuna talle pole teatatud . Kes uurib ? Seaduse kohaselt on rahapesu &quot; kriminaalkorras karistatava teo otsese tulemusena saadud vara muundumine , üleandmine või varaga õigustoimingute sooritamine , mille eesmärgiks või tagajärjeks on selle vara tegeliku omaniku ning ebaseadusliku päritolu varjamine &quot; . Tänavu juulis jõustub Eestis spetsiaalne rahapesu tõkestamise seadus . Sellega seoses peab politseiametis tööd alustama rahapesu andmebüroo . Siseminister Jüri Mõis ei osanud öelda , kui kaugele ministeerium selle loomisega on jõudnud . &quot; Ma ei tea , ei ole ennast veel kõigi asjadega jõudnud kurssi viia , &quot; ütles ta . SOKI SAABUMINE : Neil päevil olid Frankfurdi lennukile vastu tulnud tallinlased tunnistajaks ajaloolisele sündmusele ! Eestimaa pinnale saabus räpane villane sokk , mis ilmus pealtvaatajate silmade ette pagasilindil vedeledes . Nagu meie pealiskaudsele ajastule kahjuks tüüpiline , polnud haruldast külalist vastu võtmas ühtki prominenti ega ajakirjanikku . Juuresolev fotogi on juhuslikult sündmuskohale sattunud amatööri tehtud . Aga siis , kui vaene Šmigun talvel lennuki pealt tuli , olid küll kõik nagu hagijad koos ! 27. aprilli hommikul läks AS Liviko müügijuht Arno Voika tööle . Mõni tund hiljem nähti teda Tartus veel asju ajamas . Sama päeva pärastlõunast teda aga nähtud pole , mistõttu otsib meest taga Tartu politsei . Voikal oli seljas sinine jope kirjaga &quot; Viru Valge &quot; ja särk kirjaga &quot; Liivi Vodka &quot; . Ringi liikus ta riiklikku numbrimärki 32 MBU kandva Toyota Corollaga , mille külgedel samuti kiri &quot; Viru Valge &quot; . Millised võivad olla Voika kadumise põhjused , Tartu politsei kommenteerida ei soovi . Eesti Ekspress läheb Islandile uurima Evald Miksonist mahajäänud pabereid , mis on arvatavasti tema mälestused . Pakk pabereid asub Reykjaviki panga salajases seifis , mida Miksoni lapsed pole veel avanud . &quot; Isa oli hästi innukas mälestuste kirjutaja , &quot; </br></br>&lt;skipping 33546 characters&gt;</br></br> oma elukutse juurest suurte lubadustega maale . Nüüd on nad kümme aastat puhkuseta rabanud ja nende tervis ei pea enam vastu . Need , kes hakkasid rajama tühjale kohale , investeerisid hoonetesse , on täiesti &quot; puusse pannud &quot; . &quot; Rein Riga ei kuulu otseselt maale meelitatute hulka . Ta oli endise Ääsmäe sovhoosi abitootmise juht . &quot; Nägin , et keegi ei tahtnud üle võtta kodukülas olevaid lehmalautu , ja nii ma nad siis ise üle võtsin . Vastasel juhul oleks elu muutunud siin võimatuks . Kui inimestel pole kuskil töötada ja endale elatist teenida , siis hakkavad nad varastama . &quot; Riga talu põhikäibe annab piimatootmine -- sada tonni kuus . &quot; Oli paremaid ja halvemaid päevi , aga üldiselt läks kõik hästi . Piima hind tõusis kuue aastaga 90 sendilt 3.30ni . &quot; Kuid siis tuli Vene kriis ja kombinaadid ei suutnud enam piima eest maksta . Tänavu 1. märtsil said põllumehed lehmatoetuse kätte . Pärast seda langetasid kombinaadid piima hinda . Lacto maksab talle nüüd 1.60 krooni piimaliitrist .</div></td>\n",
       "    </tr>\n",
       "  </tbody>\n",
       "</table>\n",
       "<table border=\"1\" class=\"dataframe\">\n",
       "  <thead>\n",
       "    <tr style=\"text-align: right;\">\n",
       "      <th>layer name</th>\n",
       "      <th>attributes</th>\n",
       "      <th>parent</th>\n",
       "      <th>enveloping</th>\n",
       "      <th>ambiguous</th>\n",
       "      <th>span count</th>\n",
       "    </tr>\n",
       "  </thead>\n",
       "  <tbody>\n",
       "    <tr>\n",
       "      <td>sentences</td>\n",
       "      <td></td>\n",
       "      <td>None</td>\n",
       "      <td>words</td>\n",
       "      <td>False</td>\n",
       "      <td>493</td>\n",
       "    </tr>\n",
       "    <tr>\n",
       "      <td>words</td>\n",
       "      <td></td>\n",
       "      <td>None</td>\n",
       "      <td>None</td>\n",
       "      <td>True</td>\n",
       "      <td>6670</td>\n",
       "    </tr>\n",
       "    <tr>\n",
       "      <td>conll_syntax</td>\n",
       "      <td>id, lemma, upostag, xpostag, feats, head, deprel, deps, misc, parent_span, children</td>\n",
       "      <td>None</td>\n",
       "      <td>None</td>\n",
       "      <td>False</td>\n",
       "      <td>6670</td>\n",
       "    </tr>\n",
       "    <tr>\n",
       "      <td>obl_phrases</td>\n",
       "      <td>entity_type, free_entity, is_valid, root</td>\n",
       "      <td>None</td>\n",
       "      <td>words</td>\n",
       "      <td>False</td>\n",
       "      <td>610</td>\n",
       "    </tr>\n",
       "  </tbody>\n",
       "</table>"
      ],
      "text/plain": [
       "Text(text='Iga üheksas kroon tuli salapärastelt isikutelt . Eesti Ekspressi teada on Eesti Pank uurinud Hansapanga tehinguid , mis toimusid kaks aastat tagasi suvel ja mille käigus voolas panka ligi miljardi krooni ulatuses kahtlast raha . See oli rohkem kui 10 protsenti kogu Hansapanka paigutatud rahast . Suurem osa rahast tuli välismaalt ja anonüümselt . Eesti seaduste järgi peavad pangad suurte summade puhul aga kindlasti selgitama , kes raha tegelikult teele lähetas . Selleks , et uurijatel oleks lihtsam rahapesu vastu võidelda . Kuid isegi pangainspektsioon ei jõudnud kohe raha algallikateni . Eesti Pank tunnistab : meie käed on liiga lühikesed ! Keskpanga avalike suhete osakonna juht Andrus Kuusmann ütleb , et \" kui tegu olnuks tõestatud rahapesuga , siis oleks ka vastavalt reageeritud \" . Samas tunnistab ta , et pangainspektsioonil pole õigust uurimist läbi viia , see on politsei asi . \" Tegutsesime nende võimaluste piirides , mis meile on antud , \" ütleb ta . Kas Eesti Pank pöördus politsei poole ? \" Ei , \" vastab Kuusmann ning lisab : \" Peamine vastutus lasub pangal endal . Nemad peavad olema veendunud ja tuvastama raha allika . Kas nad seda teevad või ei , selles osas jätab praegune seadus meie käed lühikeseks . Selgeid sanktsioone rikkumiste eest pole . \" Hansapanka juhtis kõnealusel ajal siseminister Jüri Mõis , kes on korduvalt rõhutanud heade äritavade ja eetilise käitumise tähtsust . Eesti Ekspressi otsesele küsimusele vastates välistab Mõis täielikult võimaluse , et Eesti pankade , sealhulgas Hansapanga kaudu toimus või toimub rahapesu . \" Ei , ei , ei , \" ütleb ta . Zürichist tuleb üle 700 miljoni Hansapanga suurim kahtlusalune tehing seondub Zürichis asuva Cantrade Private Bankiga . See on Šveitsi suurima panga UBSi haru , mis on tuntud numbrikontode poolest . Need on kontod , mille kasutaja ei pea raha liigutamiseks enda passi või mõnda muud dokumenti esitama , vaid ta saab seda teha spetsiaalse arvukoodi abil . Juuli lõpus 1997 läks Cantradest mitmes osas teele kokku ligi 50 miljonit dollarit ehk üle 700 miljoni krooni . Esmalt liikus see raha New Yorgis asuvasse Bankers Trusti ja sealt liikus edasi Hansapanka . Raha jõudis Eestisse anonüümselt , vaid šveitslaste märkega , et saatja on \" üks meie klientidest \" . Tavaliselt liiguvad sellisel varjatud moel narkoärist , altkäemaksudest , finantspettustest jt kriminaalsetest tehingutest pärinevad summad ehk tegemist on rahapesuga . Raha liikus samamoodi nagu narkodollarid liikusid Ameerikas Ühe allika sõnul suunas Hansapank Šveitsist tulnud raha numbrikontole , mida Eestis avada ei tohi ( kuid mida praktiseeris sellegipoolest Forekspank ) . Seejärel peideti raha üleöölaenudesse , mida audiitorid ja revidendid tavaliselt ei kontrolli . Nimelt võtavad pangad üleöölaene teistelt pankadelt , mitte tavalistelt hoiustajatelt . Teise võimaluse kohaselt ei liikunud raha mitte numbriarvele , vaid mingile anonüümsele \" kogumiskontole \" , kust seda on raske üles leida . Just sel viisil liigutas musta raha Ameerika suuruselt teine pank Citibank , kui tema kaudu pesi narkodollareid Mehhiko endise presidendi vend Raul Salinas de Gortrari . Ka Salinase raha liikus lõpuks Zürichisse , Citibanki filiaali nimega Confidas . Samuti on võimalik , et osa rahast jõudis Hansapanga kaudu lõpuks Tallinna börsile . Juuli lõpus 1997 kasvas börsiindeks talse märkimisväärse kiirusega ehk raha pööritamine börsil oli eriti tulus . Vähetuntud Tallinna firma hoiustab pea 190 miljonit \" Zürichi kliendiga \" samal ajal soosis Hansapank veel mitut vähetuntud , kuid väga rikast firmat . Pank pani ka nende hoiuseid ajutiselt üleöölaenudesse . See võimaldas neil klientidel tavalisest tunduvalt suuremaid intresse saada . Soositud klientideks olid maksuvabad kompaniid Ruby Investment Corp ning East Construction and Engineering , samuti Tallinna firma Baltreil , mis tegeleb raudteevedudega . Ainuüksi Baltreil pani panka 190 miljonit krooni , kuigi veel mõned kuud varem olnuks see võimatu . Nimelt oli Baltreilil aasta alguses vara kokku vaid veidi üle 30 miljoni krooni . Kuid nüüd oli talle miskil moel 190 miljonit krooni \" vaba raha \" tekkinud . Selline hiigelhoius pidanuks Hansapanga valvsaks tegema . Nimelt ütleb Eesti Panga presidendi Vahur Krafti rahapesu tõkestamise kohta väljaantud määrus , et \" kahtlaseks võib lugeda tehinguid , mis ei ole oma mahult või iseloomult kooskõlas kliendi äritegevusega või mille majanduslik põhjendatus on kaheldav \" . Baltreili tegevdirektor Vladimir Vinogradov keeldub suurhoiust kommenteerimast : \" See on firma asi . Me ei anna mingeid kommentaare . \" Kohe pärast Eesti Ekspressi kõnet võttis aga Baltreil Hansapangaga ühendust ja küsis , et mis toimub , et Eesti Ekspress tunneb asja vastu huvi . Hansapank : me ei ole seadust rikkunud ! Hansapank jääb selle loo kommenteerimisel napisõnaliseks , viidates pangasaladusele . Pangas avalike suhete eest vastutav Kristi Liiva ütleb korduvalt , et Hansapank ei ole kahtlast raha kasutanud ega rahapesule kaasa aidanud . \" Seadusest on alati kinni peetud . Saan seda kinnitada , \" ütles ta . Liiva sõnul välistab juba rahvusvaheline rahaülekandesüsteem SWIFT anonüümsete rahaülekannete tegemise võimaluse . Samas on Eesti Ekspress näinud Maapanga ülekandeid , kus on kirjas without name , without address ehk \" ilma nime ja aadressita \" . Nagu ikka , läks see raha lemmikmaale Šveitsi . EVEA pangaga tihedalt seotud firma Kolle BG kasutab ühe allika sõnul aga juba tükk aega süsteemi , kus tähtsamate rahaülekannete puhul asendab selgitavaid märkusi arusaamatu numbrite rida . P. S. Vahetult enne loo trükkiminekut sai Eesti Ekspress teada \" Zürichi miljonite \" tegeliku omaniku . Samuti on see info Eesti Pangal . 48,4 miljonit dollarit paigutas Hansapanka seesama eelpool mainitud East Construction and Engineering , kes on ehitusfirma Estconde partner Venemaal . See aga ei muuda olematuks tõsiasja , et Hansapanga vahendusel on tehtud kahtlasi tehinguid . Endiselt on ju teadmata , kustkohast Hansapanga salapärased kliendid nii palju raha said . Hansapank seda ei uuri . Eesti Pank ka ei uuri . Ja samuti politsei , kuna talle pole teatatud . Kes uurib ? Seaduse kohaselt on rahapesu \" kriminaalkorras karistatava teo otsese tulemusena saadud vara muundumine , üleandmine või varaga õigustoimingute sooritamine , mille eesmärgiks või tagajärjeks on selle vara tegeliku omaniku ning ebaseadusliku päritolu varjamine \" . Tänavu juulis jõustub Eestis spetsiaalne rahapesu tõkestamise seadus . Sellega seoses peab politseiametis tööd alustama rahapesu andmebüroo . Siseminister Jüri Mõis ei osanud öelda , kui kaugele ministeerium selle loomisega on jõudnud . \" Ma ei tea , ei ole ennast veel kõigi asjadega jõudnud kurssi viia , \" ütles ta . SOKI SAABUMINE : Neil päevil olid Frankfurdi lennukile vastu tulnud tallinlased tunnistajaks ajaloolisele sündmusele ! Eestimaa pinnale saabus räpane villane sokk , mis ilmus pealtvaatajate silmade ette pagasilindil vedeledes . Nagu meie pealiskaudsele ajastule kahjuks tüüpiline , polnud haruldast külalist vastu võtmas ühtki prominenti ega ajakirjanikku . Juuresolev fotogi on juhuslikult sündmuskohale sattunud amatööri tehtud . Aga siis , kui vaene Šmigun talvel lennuki pealt tuli , olid küll kõik nagu hagijad koos ! 27. aprilli hommikul läks AS Liviko müügijuht Arno Voika tööle . Mõni tund hiljem nähti teda Tartus veel asju ajamas . Sama päeva pärastlõunast teda aga nähtud pole , mistõttu otsib meest taga Tartu politsei . Voikal oli seljas sinine jope kirjaga \" Viru Valge \" ja särk kirjaga \" Liivi Vodka \" . Ringi liikus ta riiklikku numbrimärki 32 MBU kandva Toyota Corollaga , mille külgedel samuti kiri \" Viru Valge \" . Millised võivad olla Voika kadumise põhjused , Tartu politsei kommenteerida ei soovi . Eesti Ekspress läheb Islandile uurima Evald Miksonist mahajäänud pabereid , mis on arvatavasti tema mälestused . Pakk pabereid asub Reykjaviki panga salajases seifis , mida Miksoni lapsed pole veel avanud . \" Isa oli hästi innukas mälestuste kirjutaja , \" \\n\\n<skipping 33546 characters>\\n\\n oma elukutse juurest suurte lubadustega maale . Nüüd on nad kümme aastat puhkuseta rabanud ja nende tervis ei pea enam vastu . Need , kes hakkasid rajama tühjale kohale , investeerisid hoonetesse , on täiesti \" puusse pannud \" . \" Rein Riga ei kuulu otseselt maale meelitatute hulka . Ta oli endise Ääsmäe sovhoosi abitootmise juht . \" Nägin , et keegi ei tahtnud üle võtta kodukülas olevaid lehmalautu , ja nii ma nad siis ise üle võtsin . Vastasel juhul oleks elu muutunud siin võimatuks . Kui inimestel pole kuskil töötada ja endale elatist teenida , siis hakkavad nad varastama . \" Riga talu põhikäibe annab piimatootmine -- sada tonni kuus . \" Oli paremaid ja halvemaid päevi , aga üldiselt läks kõik hästi . Piima hind tõusis kuue aastaga 90 sendilt 3.30ni . \" Kuid siis tuli Vene kriis ja kombinaadid ei suutnud enam piima eest maksta . Tänavu 1. märtsil said põllumehed lehmatoetuse kätte . Pärast seda langetasid kombinaadid piima hinda . Lacto maksab talle nüüd 1.60 krooni piimaliitrist .')"
      ]
     },
     "execution_count": 9,
     "metadata": {},
     "output_type": "execute_result"
    }
   ],
   "source": [
    "phrase_tagger.tag(text_obj)"
   ]
  },
  {
   "cell_type": "code",
   "execution_count": 21,
   "id": "7bef1627",
   "metadata": {},
   "outputs": [
    {
     "data": {
      "text/html": [
       "<h4>Layer</h4>\n",
       "\n",
       "\n",
       "<table border=\"1\" class=\"dataframe\">\n",
       "  <thead>\n",
       "    <tr style=\"text-align: right;\">\n",
       "      <th>layer name</th>\n",
       "      <th>attributes</th>\n",
       "      <th>parent</th>\n",
       "      <th>enveloping</th>\n",
       "      <th>ambiguous</th>\n",
       "      <th>span count</th>\n",
       "    </tr>\n",
       "  </thead>\n",
       "  <tbody>\n",
       "    <tr>\n",
       "      <td>obl_phrases</td>\n",
       "      <td>entity_type, free_entity, is_valid, root</td>\n",
       "      <td>None</td>\n",
       "      <td>words</td>\n",
       "      <td>False</td>\n",
       "      <td>5</td>\n",
       "    </tr>\n",
       "  </tbody>\n",
       "</table>\n",
       "<table border=\"1\" class=\"dataframe\">\n",
       "  <thead>\n",
       "    <tr style=\"text-align: right;\">\n",
       "      <th>text</th>\n",
       "      <th>entity_type</th>\n",
       "      <th>free_entity</th>\n",
       "      <th>is_valid</th>\n",
       "      <th>root</th>\n",
       "    </tr>\n",
       "  </thead>\n",
       "  <tbody>\n",
       "    <tr>\n",
       "      <td>['salapärastelt', 'isikutelt']</td>\n",
       "      <td>None</td>\n",
       "      <td>None</td>\n",
       "      <td>None</td>\n",
       "      <td>Span('isikutelt', [{'id': 6, 'lemma': 'isik', 'upostag': 'NOUN', 'xpostag': 'S', ..., type: &lt;class 'estnltk_core.layer.span.Span'&gt;</td>\n",
       "    </tr>\n",
       "    <tr>\n",
       "      <td>['Eesti', 'Ekspressi']</td>\n",
       "      <td>None</td>\n",
       "      <td>None</td>\n",
       "      <td>None</td>\n",
       "      <td>Span('Ekspressi', [{'id': 2, 'lemma': 'Ekspress', 'upostag': 'PROPN', 'xpostag': ..., type: &lt;class 'estnltk_core.layer.span.Span'&gt;</td>\n",
       "    </tr>\n",
       "    <tr>\n",
       "      <td>['kaks', 'aastat', 'tagasi']</td>\n",
       "      <td>None</td>\n",
       "      <td>None</td>\n",
       "      <td>None</td>\n",
       "      <td>Span('aastat', [{'id': 14, 'lemma': 'aasta', 'upostag': 'NOUN', 'xpostag': 'S',  ..., type: &lt;class 'estnltk_core.layer.span.Span'&gt;</td>\n",
       "    </tr>\n",
       "    <tr>\n",
       "      <td>['suvel']</td>\n",
       "      <td>None</td>\n",
       "      <td>None</td>\n",
       "      <td>None</td>\n",
       "      <td>Span('suvel', [{'id': 16, 'lemma': 'suvi', 'upostag': 'NOUN', 'xpostag': 'S', 'f ..., type: &lt;class 'estnltk_core.layer.span.Span'&gt;</td>\n",
       "    </tr>\n",
       "    <tr>\n",
       "      <td>['mille', 'käigus']</td>\n",
       "      <td>None</td>\n",
       "      <td>None</td>\n",
       "      <td>None</td>\n",
       "      <td>Span('mille', [{'id': 18, 'lemma': 'mis', 'upostag': 'PRON', 'xpostag': 'P', 'fe ..., type: &lt;class 'estnltk_core.layer.span.Span'&gt;</td>\n",
       "    </tr>\n",
       "  </tbody>\n",
       "</table>"
      ],
      "text/plain": [
       "Layer(name='obl_phrases', attributes=('entity_type', 'free_entity', 'is_valid', 'root'), spans=SL[EnvelopingSpan(['salapärastelt', 'isikutelt'], [{'entity_type': None, 'free_entity': None, 'is_valid': None, 'root': <class 'estnltk_core.layer.span.Span'>}]),\n",
       "EnvelopingSpan(['Eesti', 'Ekspressi'], [{'entity_type': None, 'free_entity': None, 'is_valid': None, 'root': <class 'estnltk_core.layer.span.Span'>}]),\n",
       "EnvelopingSpan(['kaks', 'aastat', 'tagasi'], [{'entity_type': None, 'free_entity': None, 'is_valid': None, 'root': <class 'estnltk_core.layer.span.Span'>}]),\n",
       "EnvelopingSpan(['suvel'], [{'entity_type': None, 'free_entity': None, 'is_valid': None, 'root': <class 'estnltk_core.layer.span.Span'>}]),\n",
       "EnvelopingSpan(['mille', 'käigus'], [{'entity_type': None, 'free_entity': None, 'is_valid': None, 'root': <class 'estnltk_core.layer.span.Span'>}])])"
      ]
     },
     "execution_count": 21,
     "metadata": {},
     "output_type": "execute_result"
    }
   ],
   "source": [
    "text_obj.obl_phrases[:5]"
   ]
  },
  {
   "cell_type": "code",
   "execution_count": null,
   "id": "400756e5",
   "metadata": {},
   "outputs": [],
   "source": []
  }
 ],
 "metadata": {
  "kernelspec": {
   "display_name": "Python 3 (ipykernel)",
   "language": "python",
   "name": "python3"
  },
  "language_info": {
   "codemirror_mode": {
    "name": "ipython",
    "version": 3
   },
   "file_extension": ".py",
   "mimetype": "text/x-python",
   "name": "python",
   "nbconvert_exporter": "python",
   "pygments_lexer": "ipython3",
   "version": "3.9.13"
  }
 },
 "nbformat": 4,
 "nbformat_minor": 5
}
