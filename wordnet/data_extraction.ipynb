{
 "cells": [
  {
   "cell_type": "markdown",
   "metadata": {},
   "source": [
    "# Functions"
   ]
  },
  {
   "cell_type": "markdown",
   "metadata": {},
   "source": [
    "The original information is in XML format and DB files are needed for the Wordnet module. This sections contains all functions created for extracting relevant information from the XML file and converting it into a suitable format for database creation. Data extraction from XML format uses BeautifulSoup and database files are created using SQLite."
   ]
  },
  {
   "cell_type": "code",
   "execution_count": 1,
   "metadata": {},
   "outputs": [],
   "source": [
    "import re\n",
    "import os, os.path\n",
    "import sqlite3\n",
    "from bs4 import BeautifulSoup"
   ]
  },
  {
   "cell_type": "markdown",
   "metadata": {},
   "source": [
    "Setting the paths for the original XML file and DB files directory."
   ]
  },
  {
   "cell_type": "code",
   "execution_count": 2,
   "metadata": {},
   "outputs": [],
   "source": [
    "source_path = os.path.join('source_data', 'estwn-et-2.5.0.xml')\n",
    "assert os.path.exists(source_path), f'(!) Missing wn source file {source_path}'\n",
    "\n",
    "db_dir = os.path.join('data', 'estwn-et-2.5.0')\n",
    "\n",
    "if not os.path.exists(db_dir):\n",
    "    os.makedirs(db_dir)"
   ]
  },
  {
   "cell_type": "markdown",
   "metadata": {},
   "source": [
    "Getting relevant information from all Wordnet entries from the XML-file."
   ]
  },
  {
   "cell_type": "code",
   "execution_count": 3,
   "metadata": {},
   "outputs": [],
   "source": [
    "def wordnet_entries(lexical_entries):\n",
    "    wn_entries = []\n",
    "\n",
    "    for entry in lexical_entries:\n",
    "        lemma_info = entry.find('lemma')\n",
    "        pos = lemma_info.get('partofspeech')\n",
    "        lemma = lemma_info.get('writtenform')\n",
    "        for sense in entry.find_all('sense'):\n",
    "            sense_id = sense.get('id')\n",
    "            estwn_id = sense.get('synset')\n",
    "            sense = re.sub('[^0-9]', '', sense_id.split('-')[-1])\n",
    "            wn_entries.append((lemma, pos, sense, sense_id, estwn_id))\n",
    "            \n",
    "    return wn_entries"
   ]
  },
  {
   "cell_type": "markdown",
   "metadata": {},
   "source": [
    "Finding the name (main phrase of the synset) for synsets, most of them can be found from the definition of the synset."
   ]
  },
  {
   "cell_type": "code",
   "execution_count": 4,
   "metadata": {},
   "outputs": [],
   "source": [
    "def synset_names(xml_synsets):\n",
    "    sourcesenses = {}\n",
    "\n",
    "    for s in xml_synsets:\n",
    "        d = s.find('definition')\n",
    "        if d is not None and d.get('sourcesense') not in sourcesenses:\n",
    "            if d.get('sourcesense') is not None:\n",
    "                sourcesenses[s.get('id')] = d.get('sourcesense')\n",
    "                \n",
    "    return sourcesenses"
   ]
  },
  {
   "cell_type": "markdown",
   "metadata": {},
   "source": [
    "Creating a list of tuples where each tuple contains relevant information about one lexical entry."
   ]
  },
  {
   "cell_type": "code",
   "execution_count": 5,
   "metadata": {},
   "outputs": [],
   "source": [
    "def database_entries(wn_entries, names):\n",
    "    sourcesenses = names\n",
    "    db_entries = []\n",
    "\n",
    "    for entry in wn_entries:\n",
    "        #Most of the names were found previously, but for some synsets, they couldn't be obtained.\n",
    "        #In those cases, the name of the first lexical entry of said synset is used as the name\n",
    "        if entry[-1] not in sourcesenses:\n",
    "            sourcesenses[entry[-1]] = entry[-2]\n",
    "        sourcesense = sourcesenses[entry[-1]]\n",
    "        if sourcesense == entry[3]:\n",
    "            #id is obtained from the estwn_id from the XML-file by removing all non-numeric characters from the string\n",
    "            db_entries.append((re.sub(\"[^0-9]\", \"\", entry[-1]), entry[0], entry[1], entry[2], sourcesense, entry[4], 1))\n",
    "        else:\n",
    "            db_entries.append((re.sub(\"[^0-9]\", \"\", entry[-1]), entry[0], entry[1], entry[2], sourcesense, entry[4], 0))\n",
    "            \n",
    "    return db_entries"
   ]
  },
  {
   "cell_type": "markdown",
   "metadata": {},
   "source": [
    "Creating a list of tuples (of synset relations) where each tuple contains the start vertex, end vertex and specified relation.\n",
    "Start and end vertex of each relation are numeric id's of said synsets."
   ]
  },
  {
   "cell_type": "code",
   "execution_count": 6,
   "metadata": {},
   "outputs": [],
   "source": [
    "def database_relations(xml_synsets):\n",
    "    db_relations = []\n",
    "\n",
    "    for synset in xml_synsets:\n",
    "        synset_id = re.sub(\"[^0-9]\", \"\", synset.get(\"id\"))\n",
    "        relations = synset.find_all(\"synsetrelation\")\n",
    "        for relation in relations:\n",
    "            db_relations.append((re.sub(\"[^0-9]\", \"\", relation.get(\"target\")), synset_id, relation.get(\"reltype\")))\n",
    "            \n",
    "    return db_relations"
   ]
  },
  {
   "cell_type": "markdown",
   "metadata": {},
   "source": [
    "Creating a list of tuples where each tuple consists of synset name and its definition."
   ]
  },
  {
   "cell_type": "code",
   "execution_count": 7,
   "metadata": {},
   "outputs": [],
   "source": [
    "def database_definitions(xml_synsets):\n",
    "    db_definitions = []\n",
    "    synset_not_found = []\n",
    "\n",
    "    for synset in xml_synsets:\n",
    "        definitions = synset.find_all('definition')\n",
    "        if definitions is not None:\n",
    "            for definition in definitions:\n",
    "                sourcesense = definition.get('sourcesense')\n",
    "                if sourcesense is None:\n",
    "                    synset_id = synset.get('id')\n",
    "                    if synset_id not in sourcesenses:\n",
    "                        synset_not_found.append(synset_id)\n",
    "                    else:\n",
    "                        db_definitions.append((sourcesenses[synset_id], definition.find(text=True)))\n",
    "                else:\n",
    "                    db_definitions.append((sourcesense, definition.find(text=True)))\n",
    "                    \n",
    "    return db_definitions, synset_not_found"
   ]
  },
  {
   "cell_type": "markdown",
   "metadata": {},
   "source": [
    "Creating a list of tuples where each tuple consists of synset sense (literal) and an example for it"
   ]
  },
  {
   "cell_type": "code",
   "execution_count": 8,
   "metadata": {},
   "outputs": [],
   "source": [
    "def database_examples(xml_senses):\n",
    "    db_examples = []\n",
    "\n",
    "    for sense in xml_senses:\n",
    "        examples = sense.find_all(\"example\")\n",
    "        if examples is not None:\n",
    "            for example in examples:\n",
    "                db_examples.append((sense.get(\"id\"), example.find(text=True)))\n",
    "                \n",
    "    return db_examples"
   ]
  },
  {
   "cell_type": "code",
   "execution_count": 9,
   "metadata": {},
   "outputs": [],
   "source": [
    "def create_database(file_path, db_name, create_table, insert, values):\n",
    "    conn = sqlite3.connect(file_path)\n",
    "    cur = conn.cursor()\n",
    "    cur.execute(create_table)\n",
    "    with conn:\n",
    "        cur.execute(\"DELETE FROM {};\".format(db_name)) #if database exists, deletes all values so there wouldn't be duplicates\n",
    "        cur.executemany(insert, values)"
   ]
  },
  {
   "cell_type": "markdown",
   "metadata": {},
   "source": [
    "# Test"
   ]
  },
  {
   "cell_type": "code",
   "execution_count": 10,
   "metadata": {},
   "outputs": [],
   "source": [
    "import doctest"
   ]
  },
  {
   "cell_type": "code",
   "execution_count": 11,
   "metadata": {},
   "outputs": [
    {
     "name": "stderr",
     "output_type": "stream",
     "text": [
      "C:\\Programmid\\Miniconda3\\envs\\py39_devel\\lib\\site-packages\\bs4\\builder\\__init__.py:545: XMLParsedAsHTMLWarning: It looks like you're parsing an XML document using an HTML parser. If this really is an HTML document (maybe it's XHTML?), you can ignore or filter this warning. If it's XML, you should know that using an XML parser will be more reliable. To parse this document as XML, make sure you have the lxml package installed, and pass the keyword argument `features=\"xml\"` into the BeautifulSoup constructor.\n",
      "  warnings.warn(\n"
     ]
    }
   ],
   "source": [
    "with open(source_path, encoding=\"UTF-8\") as f:\n",
    "    data = f.read()\n",
    "\n",
    "soup = BeautifulSoup(data, 'lxml')"
   ]
  },
  {
   "cell_type": "code",
   "execution_count": 12,
   "metadata": {},
   "outputs": [],
   "source": [
    "entry = soup.find('lexicalentry')\n",
    "synset = soup.find('synset')\n",
    "sense = soup.find('sense')"
   ]
  },
  {
   "cell_type": "code",
   "execution_count": 13,
   "metadata": {},
   "outputs": [],
   "source": [
    "wn_entry = wordnet_entries([entry])\n",
    "sourcesenses = synset_names([synset])\n",
    "db_entry = database_entries(wn_entry, sourcesenses)\n",
    "db_relation = database_relations([synset])\n",
    "db_definition, not_found = database_definitions([synset])\n",
    "db_example = database_examples([sense])"
   ]
  },
  {
   "cell_type": "code",
   "execution_count": 14,
   "metadata": {},
   "outputs": [],
   "source": [
    "def wn_entry_len():\n",
    "    '''\n",
    "    >>> wn_entry_len()\n",
    "    5\n",
    "    '''\n",
    "    return len(wordnet_entries([entry])[0])"
   ]
  },
  {
   "cell_type": "code",
   "execution_count": 15,
   "metadata": {},
   "outputs": [],
   "source": [
    "def sourcesense_test():\n",
    "    '''\n",
    "    >>> sourcesense_test()\n",
    "    True\n",
    "    '''\n",
    "    ss = synset_names([synset])\n",
    "    keys = list(sourcesenses.keys())\n",
    "    values = list(sourcesenses.values())\n",
    "    correct_key = False\n",
    "    correct_value = False\n",
    "    if re.match(r's-.+-', values[0]):\n",
    "        correct_value = True\n",
    "    if re.match(r'estwn-et-', keys[0]):\n",
    "        correct_key = True\n",
    "    return correct_key and correct_value"
   ]
  },
  {
   "cell_type": "code",
   "execution_count": 16,
   "metadata": {},
   "outputs": [],
   "source": [
    "def db_entry_len():\n",
    "    '''\n",
    "    >>> db_entry_len()\n",
    "    7\n",
    "    '''\n",
    "    wn_entry = wordnet_entries([entry])\n",
    "    sourcesense = synset_names([synset])\n",
    "    return len(database_entries(wn_entry, sourcesense)[0])"
   ]
  },
  {
   "cell_type": "code",
   "execution_count": 17,
   "metadata": {},
   "outputs": [],
   "source": [
    "def db_entry_id():\n",
    "    '''\n",
    "    >>> db_entry_id()\n",
    "    True\n",
    "    '''\n",
    "    try:\n",
    "        wn_entry = wordnet_entries([entry])\n",
    "        sourcesense = synset_names([synset])\n",
    "        db_entry = database_entries(wn_entry, sourcesense)[0]\n",
    "        entry_id = int(db_entry[0])\n",
    "        return int == type(entry_id)\n",
    "    except:\n",
    "        return False"
   ]
  },
  {
   "cell_type": "code",
   "execution_count": 18,
   "metadata": {},
   "outputs": [],
   "source": [
    "def db_relation_ids():\n",
    "    '''\n",
    "    >>> db_entry_id()\n",
    "    True\n",
    "    '''\n",
    "    try:\n",
    "        db_relation = database_relations([synset])\n",
    "        synset_1_id = int(db_relation[0])\n",
    "        synset_2_id = int(db_relation[1])\n",
    "        return type(synset_1_id) == int and type(synset_2_id) == int\n",
    "    except:\n",
    "        return False"
   ]
  },
  {
   "cell_type": "code",
   "execution_count": 19,
   "metadata": {},
   "outputs": [
    {
     "name": "stdout",
     "output_type": "stream",
     "text": [
      "Trying:\n",
      "    db_entry_id()\n",
      "Expecting:\n",
      "    True\n",
      "ok\n",
      "Trying:\n",
      "    db_entry_len()\n",
      "Expecting:\n",
      "    7\n",
      "ok\n",
      "Trying:\n",
      "    db_entry_id()\n",
      "Expecting:\n",
      "    True\n",
      "ok\n",
      "Trying:\n",
      "    sourcesense_test()\n",
      "Expecting:\n",
      "    True\n",
      "ok\n",
      "Trying:\n",
      "    wn_entry_len()\n",
      "Expecting:\n",
      "    5\n",
      "ok\n",
      "8 items had no tests:\n",
      "    __main__\n",
      "    __main__.create_database\n",
      "    __main__.database_definitions\n",
      "    __main__.database_entries\n",
      "    __main__.database_examples\n",
      "    __main__.database_relations\n",
      "    __main__.synset_names\n",
      "    __main__.wordnet_entries\n",
      "5 items passed all tests:\n",
      "   1 tests in __main__.db_entry_id\n",
      "   1 tests in __main__.db_entry_len\n",
      "   1 tests in __main__.db_relation_ids\n",
      "   1 tests in __main__.sourcesense_test\n",
      "   1 tests in __main__.wn_entry_len\n",
      "5 tests in 13 items.\n",
      "5 passed and 0 failed.\n",
      "Test passed.\n"
     ]
    },
    {
     "data": {
      "text/plain": [
       "TestResults(failed=0, attempted=5)"
      ]
     },
     "execution_count": 19,
     "metadata": {},
     "output_type": "execute_result"
    }
   ],
   "source": [
    "doctest.testmod(verbose=True)"
   ]
  },
  {
   "cell_type": "markdown",
   "metadata": {},
   "source": [
    "# Data extraction and import"
   ]
  },
  {
   "cell_type": "markdown",
   "metadata": {},
   "source": [
    "Using previously created functions to extract relevant data from the XML file and create necessary database files."
   ]
  },
  {
   "cell_type": "code",
   "execution_count": 20,
   "metadata": {},
   "outputs": [],
   "source": [
    "with open(source_path, encoding=\"UTF-8\") as f:\n",
    "    data = f.read()"
   ]
  },
  {
   "cell_type": "code",
   "execution_count": 21,
   "metadata": {},
   "outputs": [],
   "source": [
    "soup = BeautifulSoup(data, 'lxml')"
   ]
  },
  {
   "cell_type": "markdown",
   "metadata": {},
   "source": [
    "Finding all lexical entries, synset objects and senses by their tags"
   ]
  },
  {
   "cell_type": "code",
   "execution_count": 22,
   "metadata": {},
   "outputs": [],
   "source": [
    "entries = soup.find_all('lexicalentry')\n",
    "synsets = soup.find_all('synset')\n",
    "senses = soup.find_all('sense')"
   ]
  },
  {
   "cell_type": "markdown",
   "metadata": {},
   "source": [
    "Extracting necessary information to create database files"
   ]
  },
  {
   "cell_type": "code",
   "execution_count": 23,
   "metadata": {},
   "outputs": [],
   "source": [
    "wn_entries = wordnet_entries(entries)\n",
    "sourcesenses = synset_names(synsets)\n",
    "db_entries = database_entries(wn_entries, sourcesenses)\n",
    "db_relations = database_relations(synsets)\n",
    "db_definitions, not_found = database_definitions(synsets)\n",
    "db_examples = database_examples(senses)"
   ]
  },
  {
   "cell_type": "code",
   "execution_count": 24,
   "metadata": {},
   "outputs": [
    {
     "data": {
      "text/plain": [
       "6"
      ]
     },
     "execution_count": 24,
     "metadata": {},
     "output_type": "execute_result"
    }
   ],
   "source": [
    "len(not_found)"
   ]
  },
  {
   "cell_type": "code",
   "execution_count": 25,
   "metadata": {},
   "outputs": [
    {
     "data": {
      "text/plain": [
       "['estwn-et-10477-n',\n",
       " 'estwn-et-23865-a',\n",
       " 'estwn-et-3123-n',\n",
       " 'estwn-et-56240-n',\n",
       " 'estwn-et-71252-b',\n",
       " 'estwn-et-9227-n']"
      ]
     },
     "execution_count": 25,
     "metadata": {},
     "output_type": "execute_result"
    }
   ],
   "source": [
    "not_found"
   ]
  },
  {
   "cell_type": "markdown",
   "metadata": {},
   "source": [
    "There are some discrepancies when it comes to hyponyms and hypernyms in the original XML file. Here these are found and printed out."
   ]
  },
  {
   "cell_type": "code",
   "execution_count": 26,
   "metadata": {},
   "outputs": [],
   "source": [
    "dict_hypernyms = {}\n",
    "dict_hyponyms = {}\n",
    "\n",
    "for relation in db_relations:\n",
    "    if relation[2] == 'hypernym':\n",
    "        start = relation[0]\n",
    "        end = relation[1]\n",
    "        if start in dict_hypernyms:\n",
    "            dict_hypernyms[start].append(end)\n",
    "        else:\n",
    "            dict_hypernyms[start] = [end]\n",
    "    if relation[2] == 'hyponym':\n",
    "        start = relation[0]\n",
    "        end = relation[1]\n",
    "        if start in dict_hyponyms:\n",
    "            dict_hyponyms[start].append(end)\n",
    "        else:\n",
    "            dict_hyponyms[start] = [end]"
   ]
  },
  {
   "cell_type": "code",
   "execution_count": 27,
   "metadata": {},
   "outputs": [
    {
     "name": "stdout",
     "output_type": "stream",
     "text": [
      "s-jaotis-n2 is hyponym for s-osa-n1 but s-osa-n1 is not hypernym for s-jaotis-n2\n",
      "s-kasvatamine-n3 is hyponym for s-inimtegevus-n1 but s-inimtegevus-n1 is not hypernym for s-kasvatamine-n3\n",
      "s-poodlema-v1 is hyponym for s-tegema-v3 but s-tegema-v3 is not hypernym for s-poodlema-v1\n",
      "s-rahujõud-n1 is hyponym for s-armee-n1 but s-armee-n1 is not hypernym for s-rahujõud-n1\n",
      "s-tulevikupiirkond-n1 is hyponym for s-piirkond-n3 but s-piirkond-n3 is not hypernym for s-tulevikupiirkond-n1\n",
      "s-ülikool-n2 is hyponym for s-asutus-n1 but s-asutus-n1 is not hypernym for s-ülikool-n2\n",
      "s-ennustamine-n2 is hyponym for s-ajutegevus-n1 but s-ajutegevus-n1 is not hypernym for s-ennustamine-n2\n",
      "s-kõksumine-n1 is hyponym for s-füsioloogiline_protsess-n1 but s-füsioloogiline_protsess-n1 is not hypernym for s-kõksumine-n1\n",
      "s-NATO-n1 is hyponym for s-liit-n1 but s-liit-n1 is not hypernym for s-NATO-n1\n",
      "s-Araabia_Liiga-n1 is hyponym for s-organisatsioon-n1 but s-organisatsioon-n1 is not hypernym for s-Araabia_Liiga-n1\n",
      "s-rahvusvaheline_organisatsioon-n1 is hyponym for s-organisatsioon-n1 but s-organisatsioon-n1 is not hypernym for s-rahvusvaheline_organisatsioon-n1\n",
      "s-diapasoon-n2 is hyponym for s-jada-n1 but s-jada-n1 is not hypernym for s-diapasoon-n2\n",
      "s-huvitamine-n1 is hyponym for s-olemine-n3 but s-olemine-n3 is not hypernym for s-huvitamine-n1\n",
      "s-helistamine-n2 is hyponym for s-kõlamine-n1 but s-kõlamine-n1 is not hypernym for s-helistamine-n2\n",
      "s-kragisemine-n1 is hyponym for s-heli-n1 but s-heli-n1 is not hypernym for s-kragisemine-n1\n",
      "s-kandmine-n3 is hyponym for s-eksisteerimine-n1 but s-eksisteerimine-n1 is not hypernym for s-kandmine-n3\n",
      "s-väljendamine-n4 is hyponym for s-informeerimine-n2 but s-informeerimine-n2 is not hypernym for s-väljendamine-n4\n",
      "s-heksadetsimaalarv-n1 is hyponym for s-arv-n2 but s-arv-n2 is not hypernym for s-heksadetsimaalarv-n1\n",
      "s-vähendatav-n1 is hyponym for s-arv-n2 but s-arv-n2 is not hypernym for s-vähendatav-n1\n",
      "s-veterinaariakool-n1 is hyponym for s-kool-n1 but s-kool-n1 is not hypernym for s-veterinaariakool-n1\n",
      "s-hingamishaigus-n1 is hyponym for s-haigus-n2 but s-haigus-n2 is not hypernym for s-hingamishaigus-n1\n",
      "s-ogasaba-n1 is hyponym for s-sisalik-n1 but s-sisalik-n1 is not hypernym for s-ogasaba-n1\n",
      "s-denoteerimine-n1 is hyponym for s-fiksatsioon-n1 but s-fiksatsioon-n1 is not hypernym for s-denoteerimine-n1\n",
      "s-irredentism-n1 is hyponym for s-doktriin-n1 but s-doktriin-n1 is not hypernym for s-irredentism-n1\n",
      "s-immuunreaktsioon-n1 is hyponym for s-reageering-n1 but s-reageering-n1 is not hypernym for s-immuunreaktsioon-n1\n",
      "s-kaarnaluu-n1 is hyponym for s-kont-n1 but s-kont-n1 is not hypernym for s-kaarnaluu-n1\n",
      "s-idanemisaeg-n1 is hyponym for s-aeg-n4 but s-aeg-n4 is not hypernym for s-idanemisaeg-n1\n",
      "s-loomapilastus-n1 is hyponym for s-parafiilia-n1 but s-parafiilia-n1 is not hypernym for s-loomapilastus-n1\n",
      "s-harvik-n2 is hyponym for s-liist-n1 but s-liist-n1 is not hypernym for s-harvik-n2\n",
      "s-hoolduslõikus-n1 is hyponym for s-lõikamine-n2 but s-lõikamine-n2 is not hypernym for s-hoolduslõikus-n1\n",
      "s-korrastamine-n1 is hyponym for s-parandamine-n3 but s-parandamine-n3 is not hypernym for s-korrastamine-n1\n",
      "s-demultipleksimine-n1 is hyponym for s-muutmine-n4 but s-muutmine-n4 is not hypernym for s-demultipleksimine-n1\n",
      "s-ülemaksustamine-n1 is hyponym for s-maksustamine-n1 but s-maksustamine-n1 is not hypernym for s-ülemaksustamine-n1\n",
      "s-õpirežiim-n1 is hyponym for s-kord-n1 but s-kord-n1 is not hypernym for s-õpirežiim-n1\n",
      "s-redigeerimisolek-n1 is hyponym for s-olek-n5 but s-olek-n5 is not hypernym for s-redigeerimisolek-n1\n",
      "s-lisamisolek-n1 is hyponym for s-olek-n5 but s-olek-n5 is not hypernym for s-lisamisolek-n1\n",
      "s-reamurdeta_režiim-n1 is hyponym for s-olek-n5 but s-olek-n5 is not hypernym for s-reamurdeta_režiim-n1\n",
      "s-sammrežiim-n1 is hyponym for s-olek-n5 but s-olek-n5 is not hypernym for s-sammrežiim-n1\n",
      "s-hõimuühiskond-n1 is hyponym for s-ühiskond-n1 but s-ühiskond-n1 is not hypernym for s-hõimuühiskond-n1\n",
      "s-võrguandministraator-n1 is hyponym for s-administraator-n3 but s-administraator-n3 is not hypernym for s-võrguandministraator-n1\n",
      "s-telefonifirma-n1 is hyponym for s-firma-n1 but s-firma-n1 is not hypernym for s-telefonifirma-n1\n",
      "s-punktreostus-n1 is hyponym for s-reostamine-n1 but s-reostamine-n1 is not hypernym for s-punktreostus-n1\n",
      "s-gürohorisont-n1 is hyponym for s-mõõteaparaat-n1 but s-mõõteaparaat-n1 is not hypernym for s-gürohorisont-n1\n",
      "s-islamoloogia-n1 is hyponym for s-orientalistika-n1 but s-orientalistika-n1 is not hypernym for s-islamoloogia-n1\n",
      "s-sahhariin-n1 is hyponym for s-magusaine-n2 but s-magusaine-n2 is not hypernym for s-sahhariin-n1\n",
      "s-flegma-n2 is hyponym for s-inimtüüp-n1 but s-inimtüüp-n1 is not hypernym for s-flegma-n2\n",
      "s-kraavitamine-n1 is hyponym for s-kuivendamine-n1 but s-kuivendamine-n1 is not hypernym for s-kraavitamine-n1\n",
      "s-hulluja-n2 is hyponym for s-jääja-n3 but s-jääja-n3 is not hypernym for s-hulluja-n2\n",
      "s-hüsteeritseja-n1 is hyponym for s-meeleolutseja-n1 but s-meeleolutseja-n1 is not hypernym for s-hüsteeritseja-n1\n",
      "s-Ethernetiport-n1 is hyponym for s-liides-n2 but s-liides-n2 is not hypernym for s-Ethernetiport-n1\n",
      "s-hommikupunane-a1 is hyponym for s-punane-a2 but s-punane-a2 is not hypernym for s-hommikupunane-a1\n",
      "s-kahjasinine-a1 is hyponym for s-sinine-a1 but s-sinine-a1 is not hypernym for s-kahjasinine-a1\n",
      "s-kollektor-n2 is hyponym for s-elektrood-n1 but s-elektrood-n1 is not hypernym for s-kollektor-n2\n",
      "s-allavaatamine-n1 is hyponym for s-vaatamine-n6 but s-vaatamine-n6 is not hypernym for s-allavaatamine-n1\n",
      "s-juurima-v2 is hyponym for s-jagama-v4 but s-jagama-v4 is not hypernym for s-juurima-v2\n",
      "s-skriining-n1 is hyponym for s-kliiniline_uuring-n1 but s-kliiniline_uuring-n1 is not hypernym for s-skriining-n1\n",
      "s-flotill-n1 is hyponym for s-formeering-n1 but s-formeering-n1 is not hypernym for s-flotill-n1\n",
      "s-noortekultuur-n1 is hyponym for s-allkultuur-n1 but s-allkultuur-n1 is not hypernym for s-noortekultuur-n1\n",
      "s-hiidsarvkest-n1 is hyponym for s-sarvkest-n1 but s-sarvkest-n1 is not hypernym for s-hiidsarvkest-n1\n",
      "s-külastatavus-n1 is hyponym for s-kogunemine-n3 but s-kogunemine-n3 is not hypernym for s-külastatavus-n1\n",
      "s-fileeheegeldus-n1 is hyponym for s-heegeltehnika-n1 but s-heegeltehnika-n1 is not hypernym for s-fileeheegeldus-n1\n",
      "s-ääristamine-n1 is hyponym for s-külgnemine-n1 but s-külgnemine-n1 is not hypernym for s-ääristamine-n1\n",
      "s-katustermin-n1 is hyponym for s-mõiste-n1 but s-mõiste-n1 is not hypernym for s-katustermin-n1\n",
      "s-antant-n1 is hyponym for s-liitlasväed-n1 but s-liitlasväed-n1 is not hypernym for s-antant-n1\n",
      "s-hord-n2 is hyponym for s-inimhulk-n1 but s-inimhulk-n1 is not hypernym for s-hord-n2\n"
     ]
    }
   ],
   "source": [
    "for key, values in dict_hypernyms.items():\n",
    "    for hyp in values:\n",
    "        if hyp not in dict_hyponyms or key not in dict_hyponyms[hyp]:\n",
    "            hyp_tuple = None\n",
    "            key_tuple = None\n",
    "            for entry in db_entries:\n",
    "                if hyp == entry[0]:\n",
    "                    hyp_tuple = entry[4]\n",
    "                if key == entry[0]:\n",
    "                    key_tuple = entry[4]\n",
    "            print(hyp_tuple, \"is hyponym for\", key_tuple, \"but\", key_tuple, \"is not hypernym for\", hyp_tuple)"
   ]
  },
  {
   "cell_type": "code",
   "execution_count": 28,
   "metadata": {},
   "outputs": [
    {
     "name": "stdout",
     "output_type": "stream",
     "text": [
      "s-käimine-n2 is hypernym for s-töölkäimine-n1 but s-töölkäimine-n1 is not hyponym for s-käimine-n2\n",
      "s-käimine-n2 is hypernym for s-hilberdamine-n1 but s-hilberdamine-n1 is not hyponym for s-käimine-n2\n",
      "s-käimine-n2 is hypernym for s-külastamine-n2 but s-külastamine-n2 is not hyponym for s-käimine-n2\n",
      "s-kütmine-n2 is hypernym for s-vitsutamine-n2 but s-vitsutamine-n2 is not hyponym for s-kütmine-n2\n",
      "s-kütmine-n2 is hypernym for s-vemmeldamine-n1 but s-vemmeldamine-n1 is not hyponym for s-kütmine-n2\n",
      "s-kütmine-n2 is hypernym for s-piitsutamine-n2 but s-piitsutamine-n2 is not hyponym for s-kütmine-n2\n",
      "s-kütmine-n2 is hypernym for s-vihtlemine-n1 but s-vihtlemine-n1 is not hyponym for s-kütmine-n2\n",
      "s-kütmine-n2 is hypernym for s-nahutamine-n3 but s-nahutamine-n3 is not hyponym for s-kütmine-n2\n",
      "s-kütmine-n2 is hypernym for s-nähvamine-n1 but s-nähvamine-n1 is not hyponym for s-kütmine-n2\n",
      "s-kütmine-n2 is hypernym for s-andmine-n11 but s-andmine-n11 is not hyponym for s-kütmine-n2\n",
      "s-kütmine-n2 is hypernym for s-lahmimine-n1 but s-lahmimine-n1 is not hyponym for s-kütmine-n2\n",
      "s-juhatamine-n2 is hypernym for s-presideerimine-n1 but s-presideerimine-n1 is not hyponym for s-juhatamine-n2\n",
      "s-juhatamine-n2 is hypernym for s-lootsimine-n1 but s-lootsimine-n1 is not hyponym for s-juhatamine-n2\n",
      "s-põllumajandusmasin-n1 is hypernym for s-dibelmasin-n1 but s-dibelmasin-n1 is not hyponym for s-põllumajandusmasin-n1\n",
      "s-masin-n1 is hypernym for s-dibelmasin-n1 but s-dibelmasin-n1 is not hyponym for s-masin-n1\n",
      "s-kaduvik-n1 is hypernym for s-disinvesteerimine-n1 but s-disinvesteerimine-n1 is not hyponym for s-kaduvik-n1\n",
      "s-jäämine-n3 is hypernym for s-denudatsioon-n1 but s-denudatsioon-n1 is not hyponym for s-jäämine-n3\n",
      "s-kinnitamine-n3 is hypernym for s-immobilisatsioon-n1 but s-immobilisatsioon-n1 is not hyponym for s-kinnitamine-n3\n",
      "s-kinnitamine-n3 is hypernym for s-rakendamine-n2 but s-rakendamine-n2 is not hyponym for s-kinnitamine-n3\n",
      "s-kahandamine-n2 is hypernym for s-lühendamine-n2 but s-lühendamine-n2 is not hyponym for s-kahandamine-n2\n",
      "s-kahandamine-n2 is hypernym for s-kõhnutamine-n1 but s-kõhnutamine-n1 is not hyponym for s-kahandamine-n2\n",
      "s-kahandamine-n2 is hypernym for s-mahavõtmine-n3 but s-mahavõtmine-n3 is not hyponym for s-kahandamine-n2\n",
      "s-kahandamine-n2 is hypernym for s-jahutamine-n3 but s-jahutamine-n3 is not hyponym for s-kahandamine-n2\n",
      "s-kahandamine-n2 is hypernym for s-ikoonimine-n1 but s-ikoonimine-n1 is not hyponym for s-kahandamine-n2\n",
      "s-kahandamine-n2 is hypernym for s-tolmutustamine-n1 but s-tolmutustamine-n1 is not hyponym for s-kahandamine-n2\n",
      "s-lao-n1 is hypernym for s-elanik-n2 but s-elanik-n2 is not hyponym for s-lao-n1\n",
      "s-mõjustatavus-n1 is hypernym for s-dispersioon-n2 but s-dispersioon-n2 is not hyponym for s-mõjustatavus-n1\n",
      "s-antiloop-n1 is hypernym for s-redunka-n1 but s-redunka-n1 is not hyponym for s-antiloop-n1\n",
      "s-demoleerimine-n1 is hypernym for s-lõhkamine-n1 but s-lõhkamine-n1 is not hyponym for s-demoleerimine-n1\n",
      "s-demoleerimine-n1 is hypernym for s-lömastamine-n1 but s-lömastamine-n1 is not hyponym for s-demoleerimine-n1\n",
      "s-demoleerimine-n1 is hypernym for s-hävitamine-n1 but s-hävitamine-n1 is not hyponym for s-demoleerimine-n1\n",
      "s-demoleerimine-n1 is hypernym for s-lammutamine-n1 but s-lammutamine-n1 is not hyponym for s-demoleerimine-n1\n",
      "s-piirkond-n3 is hypernym for s-hobulaius-n1 but s-hobulaius-n1 is not hyponym for s-piirkond-n3\n",
      "s-sooritama-v2 is hypernym for s-disagregeerima-v1 but s-disagregeerima-v1 is not hyponym for s-sooritama-v2\n",
      "s-antant-n1 is hypernym for s-liitlasriik-n1 but s-liitlasriik-n1 is not hyponym for s-antant-n1\n",
      "s-nugilisus-n1 is hypernym for s-ektoparasitism-n1 but s-ektoparasitism-n1 is not hyponym for s-nugilisus-n1\n",
      "s-nugilisus-n1 is hypernym for s-kleptoparasitism-n1 but s-kleptoparasitism-n1 is not hyponym for s-nugilisus-n1\n",
      "s-nugilisus-n1 is hypernym for s-pesaparasitism-n1 but s-pesaparasitism-n1 is not hyponym for s-nugilisus-n1\n",
      "s-aine-n1 is hypernym for s-desinfektsiooniaine-n1 but s-desinfektsiooniaine-n1 is not hyponym for s-aine-n1\n",
      "s-juhtimine-n2 is hypernym for s-desorienteerimine-n1 but s-desorienteerimine-n1 is not hyponym for s-juhtimine-n2\n",
      "s-juhtimine-n2 is hypernym for s-sihitamine-n1 but s-sihitamine-n1 is not hyponym for s-juhtimine-n2\n",
      "s-juhtimine-n2 is hypernym for s-talutamine-n1 but s-talutamine-n1 is not hyponym for s-juhtimine-n2\n",
      "s-juhtimine-n2 is hypernym for s-adresseerimine-n1 but s-adresseerimine-n1 is not hyponym for s-juhtimine-n2\n",
      "s-juhtimine-n2 is hypernym for s-komandeerimine-n1 but s-komandeerimine-n1 is not hyponym for s-juhtimine-n2\n",
      "s-juhtimine-n2 is hypernym for s-paigutamine-n3 but s-paigutamine-n3 is not hyponym for s-juhtimine-n2\n",
      "s-juhtimine-n2 is hypernym for s-enesejuhtimine-n1 but s-enesejuhtimine-n1 is not hyponym for s-juhtimine-n2\n",
      "s-hingeelu-n1 is hypernym for s-hingepõhi-n1 but s-hingepõhi-n1 is not hyponym for s-hingeelu-n1\n",
      "s-hingeelu-n1 is hypernym for s-parapsühholoogia-n1 but s-parapsühholoogia-n1 is not hyponym for s-hingeelu-n1\n"
     ]
    }
   ],
   "source": [
    "for key, values in dict_hyponyms.items():\n",
    "    for hyp in values:\n",
    "        if hyp not in dict_hypernyms or key not in dict_hypernyms[hyp]:\n",
    "            hyp_tuple = None\n",
    "            key_tuple = None\n",
    "            for entry in db_entries:\n",
    "                if hyp == entry[0]:\n",
    "                    hyp_tuple = entry[4]\n",
    "                if key == entry[0]:\n",
    "                    key_tuple = entry[4]\n",
    "            print(hyp_tuple, \"is hypernym for\", key_tuple, \"but\", key_tuple, \"is not hyponym for\", hyp_tuple)"
   ]
  },
  {
   "cell_type": "markdown",
   "metadata": {},
   "source": [
    "Creating the 'Wordnet entries' database"
   ]
  },
  {
   "cell_type": "code",
   "execution_count": 29,
   "metadata": {},
   "outputs": [],
   "source": [
    "wn_entry_db = os.path.join(db_dir, \"wordnet_entry.db\")\n",
    "wn_entry_name = \"wordnet_entry\"\n",
    "wn_entry_create = \"CREATE TABLE IF NOT EXISTS wordnet_entry(id INT, literal TEXT, pos TEXT, sense INT, synset_name TEXT, estwn_id TEXT, is_name INT)\"\n",
    "wn_entry_insert = \"insert into wordnet_entry(id, literal, pos, sense, synset_name, estwn_id, is_name) values (?,?,?,?,?,?,?)\"\n",
    "create_database(wn_entry_db, wn_entry_name, wn_entry_create, wn_entry_insert, db_entries)"
   ]
  },
  {
   "cell_type": "markdown",
   "metadata": {},
   "source": [
    "Creating the 'Wordnet relations' database"
   ]
  },
  {
   "cell_type": "code",
   "execution_count": 30,
   "metadata": {},
   "outputs": [],
   "source": [
    "wn_relation_db = os.path.join(db_dir, \"wordnet_relation.db\")\n",
    "wn_relation_name = \"wordnet_relation\"\n",
    "wn_relation_create = \"CREATE TABLE IF NOT EXISTS wordnet_relation(start_vertex INT, end_vertex INT, relation TEXT)\"\n",
    "wn_relation_insert = \"insert into wordnet_relation(start_vertex, end_vertex, relation) values (?,?,?)\"\n",
    "create_database(wn_relation_db, wn_relation_name, wn_relation_create, wn_relation_insert, db_relations)"
   ]
  },
  {
   "cell_type": "markdown",
   "metadata": {
    "scrolled": true
   },
   "source": [
    "Creating the 'Wordnet definitions' database"
   ]
  },
  {
   "cell_type": "code",
   "execution_count": 31,
   "metadata": {
    "scrolled": true
   },
   "outputs": [],
   "source": [
    "wn_definitions_db = os.path.join(db_dir, \"wordnet_definition.db\")\n",
    "wn_definitions_name = \"wordnet_definition\"\n",
    "wn_definitions_create = \"CREATE TABLE IF NOT EXISTS wordnet_definition(synset_name TEXT, definition TEXT)\"\n",
    "wn_definitions_insert = \"insert into wordnet_definition(synset_name, definition) values (?,?)\"\n",
    "create_database(wn_definitions_db, wn_definitions_name, wn_definitions_create, wn_definitions_insert, db_definitions)"
   ]
  },
  {
   "cell_type": "markdown",
   "metadata": {},
   "source": [
    "Creating the 'Wordnet examples' database"
   ]
  },
  {
   "cell_type": "code",
   "execution_count": 32,
   "metadata": {},
   "outputs": [],
   "source": [
    "wn_examples_db = os.path.join(db_dir, \"wordnet_example.db\")\n",
    "wn_examples_name = \"wordnet_example\"\n",
    "wn_examples_create = \"CREATE TABLE IF NOT EXISTS wordnet_example(synset_name TEXT, example TEXT)\"\n",
    "wn_examples_insert = \"insert into wordnet_example(synset_name, example) values (?,?)\"\n",
    "create_database(wn_examples_db, wn_examples_name, wn_examples_create, wn_examples_insert, db_examples)"
   ]
  }
 ],
 "metadata": {
  "kernelspec": {
   "display_name": "Python 3 (ipykernel)",
   "language": "python",
   "name": "python3"
  },
  "language_info": {
   "codemirror_mode": {
    "name": "ipython",
    "version": 3
   },
   "file_extension": ".py",
   "mimetype": "text/x-python",
   "name": "python",
   "nbconvert_exporter": "python",
   "pygments_lexer": "ipython3",
   "version": "3.9.16"
  }
 },
 "nbformat": 4,
 "nbformat_minor": 2
}
