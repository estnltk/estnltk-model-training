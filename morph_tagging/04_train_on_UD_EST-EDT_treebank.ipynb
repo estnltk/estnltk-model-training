{
 "cells": [
  {
   "cell_type": "markdown",
   "metadata": {},
   "source": [
    "# Bert-based morphological tagger's comparison with Vabamorf\n",
    "## Training tagger on UD EST-EDT treebank"
   ]
  },
  {
   "cell_type": "markdown",
   "metadata": {},
   "source": [
    "## Table of contents\n",
    "   1. [**Gathering Data**](#andmete_kogumine)\n",
    "   2. [**Model Training**](#mudeli_treenimine)\n",
    "   3. [**Vabamorf evaluation on UD corpus**](#vabamorfi_hindamine)\n",
    "\n",
    "\n",
    "[end](#end)"
   ]
  },
  {
   "cell_type": "code",
   "execution_count": 1,
   "metadata": {},
   "outputs": [
    {
     "name": "stderr",
     "output_type": "stream",
     "text": [
      "e:\\Anaconda3\\envs\\gpulocal\\Lib\\site-packages\\tqdm\\auto.py:21: TqdmWarning: IProgress not found. Please update jupyter and ipywidgets. See https://ipywidgets.readthedocs.io/en/stable/user_install.html\n",
      "  from .autonotebook import tqdm as notebook_tqdm\n"
     ]
    }
   ],
   "source": [
    "import os\n",
    "import evaluate\n",
    "import pkg_resources\n",
    "import types\n",
    "import pandas as pd\n",
    "import numpy as np\n",
    "import estnltk, estnltk.converters, estnltk.taggers\n",
    "\n",
    "from bert_morph_tagger_notebook_functions import NotebookFunctions\n",
    "from simpletransformers.ner import NERModel, NERArgs\n",
    "from tqdm import tqdm\n",
    "from bert_morph_tagger import BertMorphTagger"
   ]
  },
  {
   "cell_type": "code",
   "execution_count": 2,
   "metadata": {},
   "outputs": [
    {
     "name": "stdout",
     "output_type": "stream",
     "text": [
      "estnltk==1.7.3\n",
      "evaluate==0.4.2\n",
      "numpy==1.26.4\n",
      "pandas==2.2.2\n",
      "simpletransformers==0.70.1\n",
      "torch==2.5.1\n",
      "tqdm==4.66.5\n"
     ]
    }
   ],
   "source": [
    "# Get locally imported modules from current notebook - https://stackoverflow.com/questions/40428931/package-for-listing-version-of-packages-used-in-a-jupyter-notebook - Alex P. Miller\n",
    "def get_imports():\n",
    "    \n",
    "    for name, val in globals().items():\n",
    "        if isinstance(val, types.ModuleType):\n",
    "            # Split ensures you get root package, \n",
    "            # not just imported function\n",
    "            name = val.__name__.split(\".\")[0]\n",
    "\n",
    "        elif isinstance(val, type):\n",
    "            name = val.__module__.split(\".\")[0]\n",
    "            \n",
    "        # Some packages are weird and have different\n",
    "        # imported names vs. system/pip names. Unfortunately,\n",
    "        # there is no systematic way to get pip names from\n",
    "        # a package's imported name. You'll have to add\n",
    "        # exceptions to this list manually!\n",
    "        poorly_named_packages = {\n",
    "            \"PIL\": \"Pillow\",\n",
    "            \"sklearn\": \"scikit-learn\"\n",
    "        }\n",
    "        if name in poorly_named_packages.keys():\n",
    "            name = poorly_named_packages[name]\n",
    "            \n",
    "        yield name\n",
    "imports = list(set(get_imports()))\n",
    "\n",
    "# The only way I found to get the version of the root package\n",
    "# from only the name of the package is to cross-check the names \n",
    "# of installed packages vs. imported packages\n",
    "requirements = []\n",
    "for m in pkg_resources.working_set:\n",
    "    if m.project_name in imports and m.project_name!=\"pip\":\n",
    "        requirements.append((m.project_name, m.version))\n",
    "\n",
    "for r in requirements:\n",
    "    print(\"{}=={}\".format(*r))"
   ]
  },
  {
   "cell_type": "markdown",
   "metadata": {},
   "source": [
    "<a id='andmete_kogumine'></a>"
   ]
  },
  {
   "cell_type": "markdown",
   "metadata": {},
   "source": [
    "### Gathering data"
   ]
  },
  {
   "cell_type": "markdown",
   "metadata": {},
   "source": [
    "Initializing the model<!-- Mudeli ülesehitamine -->"
   ]
  },
  {
   "cell_type": "code",
   "execution_count": null,
   "metadata": {},
   "outputs": [],
   "source": [
    "unique_labels = NotebookFunctions.get_unique_labels(\"./unique_labels.json\")\n",
    "model = NotebookFunctions.initialize_model(\"NER_mudel\", unique_labels=unique_labels)"
   ]
  },
  {
   "cell_type": "markdown",
   "metadata": {},
   "source": [
    "Reading in the UD corpus. The .csv file is created in the [second notebook](./02_eval_UD_Est-EDT_treebank.ipynb) in the \"Creating and preparing the dataset from converted UD corpus\" section."
   ]
  },
  {
   "cell_type": "code",
   "execution_count": 17,
   "metadata": {},
   "outputs": [],
   "source": [
    "csv_ud_file = \"ud_andmestik.csv\"\n",
    "df_ud = pd.read_csv(csv_ud_file, keep_default_na=False)"
   ]
  },
  {
   "cell_type": "markdown",
   "metadata": {},
   "source": [
    "Extracting test set"
   ]
  },
  {
   "cell_type": "code",
   "execution_count": 18,
   "metadata": {},
   "outputs": [
    {
     "name": "stdout",
     "output_type": "stream",
     "text": [
      "(344589, 7)\n",
      "(48489, 7)\n",
      "(44748, 7)\n"
     ]
    }
   ],
   "source": [
    "train_df_ud = df_ud[df_ud['source'].str.contains('ud-train')].copy()\n",
    "test_df_ud = df_ud[df_ud['source'].str.contains('ud-test')].copy()\n",
    "dev_df_ud = df_ud[df_ud['source'].str.contains('ud-dev')].copy()\n",
    "print(train_df_ud.shape)\n",
    "print(test_df_ud.shape)\n",
    "print(dev_df_ud.shape)"
   ]
  },
  {
   "cell_type": "markdown",
   "metadata": {},
   "source": [
    "Labels unknown to Vabamorf and replacing them with appropriate known unique labels"
   ]
  },
  {
   "cell_type": "code",
   "execution_count": 19,
   "metadata": {},
   "outputs": [
    {
     "name": "stdout",
     "output_type": "stream",
     "text": [
      "Labels in data that are not in unique labels list:\n",
      "94053     T\n",
      "94054     T\n",
      "94056     T\n",
      "94057     T\n",
      "99199     T\n",
      "         ..\n",
      "432622    T\n",
      "432623    T\n",
      "432671    T\n",
      "432672    T\n",
      "432673    T\n",
      "Name: labels, Length: 721, dtype: object\n",
      "Unique:\n",
      "['T' 'sg n_D' 'sg ad_D' 'sg p_D' 'sg g_DET' 'sg n_T' 'sg g_2']\n",
      "Labels in data that are not in unique labels list:\n",
      "46373    T\n",
      "46374    T\n",
      "46375    T\n",
      "48036    T\n",
      "48037    T\n",
      "        ..\n",
      "85108    T\n",
      "85682    T\n",
      "85683    T\n",
      "85941    T\n",
      "85942    T\n",
      "Name: labels, Length: 85, dtype: object\n",
      "Unique:\n",
      "['T' 'sg g_place']\n",
      "Labels in data that are not in unique labels list:\n",
      "59            T\n",
      "60            T\n",
      "2101          T\n",
      "2699          T\n",
      "4837          T\n",
      "4838          T\n",
      "4840          T\n",
      "4841          T\n",
      "7022     sg n_p\n",
      "7111          T\n",
      "7112          T\n",
      "7905          T\n",
      "10014         T\n",
      "19029         T\n",
      "19030         T\n",
      "19031         T\n",
      "19155         T\n",
      "19156         T\n",
      "19157         T\n",
      "19208         T\n",
      "19250         T\n",
      "19251         T\n",
      "26068         T\n",
      "27281         T\n",
      "27282         T\n",
      "27283         T\n",
      "27328         T\n",
      "27329         T\n",
      "28354         T\n",
      "28355         T\n",
      "28356         T\n",
      "28357         T\n",
      "28358         T\n",
      "28512         T\n",
      "28513         T\n",
      "28514         T\n",
      "37625         T\n",
      "37669         T\n",
      "37671         T\n",
      "37747         T\n",
      "37764         T\n",
      "37766         T\n",
      "38014         T\n",
      "38194         T\n",
      "38234         T\n",
      "38236         T\n",
      "38283         T\n",
      "38602         T\n",
      "40919         T\n",
      "40920         T\n",
      "42149         T\n",
      "42165         T\n",
      "42395         T\n",
      "42396         T\n",
      "42398         T\n",
      "42399         T\n",
      "43341         T\n",
      "43342         T\n",
      "Name: labels, dtype: object\n",
      "Unique:\n",
      "['T' 'sg n_p']\n"
     ]
    }
   ],
   "source": [
    "NotebookFunctions.unknown_labels(unique_labels, train_df_ud);\n",
    "NotebookFunctions.unknown_labels(unique_labels, test_df_ud);\n",
    "NotebookFunctions.unknown_labels(unique_labels, dev_df_ud);"
   ]
  },
  {
   "cell_type": "code",
   "execution_count": 20,
   "metadata": {},
   "outputs": [],
   "source": [
    "# Replace unknown pos 'T' with '?'\n",
    "train_df_ud['labels'] = train_df_ud['labels'].apply(lambda x: '?' if x == 'T' else x)\n",
    "train_df_ud['labels'] = train_df_ud['labels'].apply(lambda x: 'sg n_H' if x == 'sg n_T' else x)\n",
    "# Change DET to P\n",
    "train_df_ud['labels'] = train_df_ud['labels'].apply(lambda x: 'sg g_P' if x == 'sg g_DET' else x)\n",
    "# Remove form from adverbs\n",
    "train_df_ud['labels'] = train_df_ud['labels'].apply(lambda x: 'D' if x == 'sg ad_D' else x)\n",
    "train_df_ud['labels'] = train_df_ud['labels'].apply(lambda x: 'D' if x == 'sg n_D' else x)\n",
    "train_df_ud['labels'] = train_df_ud['labels'].apply(lambda x: 'D' if x == 'sg p_D' else x)\n",
    "# Change 2 to S\n",
    "train_df_ud['labels'] = train_df_ud['labels'].apply(lambda x: 'D' if x == 'sg g_2' else x)\n",
    "# Test corpus\n",
    "# Replace unknown pos 'T' with '?'\n",
    "test_df_ud['labels'] = test_df_ud['labels'].apply(lambda x: '?' if x == 'T' else x)\n",
    "# Replace unknown pos 'place' with 'S'\n",
    "test_df_ud['labels'] = test_df_ud['labels'].apply(lambda x: 'sg g_S' if x == 'sg g_place' else x)\n",
    "# Dev corpus\n",
    "dev_df_ud['labels'] = dev_df_ud['labels'].apply(lambda x: '?' if x == 'T' else x)\n",
    "dev_df_ud['labels'] = dev_df_ud['labels'].apply(lambda x: 'sg n_P' if x == 'sg n_p' else x)"
   ]
  },
  {
   "cell_type": "code",
   "execution_count": 21,
   "metadata": {},
   "outputs": [
    {
     "name": "stdout",
     "output_type": "stream",
     "text": [
      "Labels in data that are not in unique labels list:\n",
      "Series([], Name: labels, dtype: object)\n",
      "Unique:\n",
      "[]\n",
      "Labels in data that are not in unique labels list:\n",
      "Series([], Name: labels, dtype: object)\n",
      "Unique:\n",
      "[]\n",
      "Labels in data that are not in unique labels list:\n",
      "Series([], Name: labels, dtype: object)\n",
      "Unique:\n",
      "[]\n"
     ]
    }
   ],
   "source": [
    "NotebookFunctions.unknown_labels(unique_labels, train_df_ud);\n",
    "NotebookFunctions.unknown_labels(unique_labels, test_df_ud);\n",
    "NotebookFunctions.unknown_labels(unique_labels, dev_df_ud);"
   ]
  },
  {
   "cell_type": "markdown",
   "metadata": {},
   "source": [
    "Save sets to .csv files"
   ]
  },
  {
   "cell_type": "code",
   "execution_count": 22,
   "metadata": {},
   "outputs": [],
   "source": [
    "train_df_ud.to_csv('UD_train.csv', index=False)\n",
    "test_df_ud.to_csv('UD_test.csv', index=False)\n",
    "dev_df_ud.to_csv('UD_dev.csv', index=False)"
   ]
  },
  {
   "cell_type": "markdown",
   "metadata": {},
   "source": [
    "Removing unnecessary columns for the model<!-- Mudelile ebavajalike veergude eemaldamine -->"
   ]
  },
  {
   "cell_type": "code",
   "execution_count": 5,
   "metadata": {},
   "outputs": [],
   "source": [
    "train_df_ud = train_df_ud.drop(labels=['file_prefix', 'source'], axis=1)\n",
    "test_df_ud = test_df_ud.drop(labels=['file_prefix', 'source'], axis=1)\n",
    "dev_df_ud = dev_df_ud.drop(labels=['file_prefix', 'source'], axis=1)"
   ]
  },
  {
   "cell_type": "code",
   "execution_count": 6,
   "metadata": {},
   "outputs": [
    {
     "data": {
      "text/html": [
       "<div>\n",
       "<style scoped>\n",
       "    .dataframe tbody tr th:only-of-type {\n",
       "        vertical-align: middle;\n",
       "    }\n",
       "\n",
       "    .dataframe tbody tr th {\n",
       "        vertical-align: top;\n",
       "    }\n",
       "\n",
       "    .dataframe thead th {\n",
       "        text-align: right;\n",
       "    }\n",
       "</style>\n",
       "<table border=\"1\" class=\"dataframe\">\n",
       "  <thead>\n",
       "    <tr style=\"text-align: right;\">\n",
       "      <th></th>\n",
       "      <th>sentence_id</th>\n",
       "      <th>words</th>\n",
       "      <th>form</th>\n",
       "      <th>pos</th>\n",
       "      <th>labels</th>\n",
       "    </tr>\n",
       "  </thead>\n",
       "  <tbody>\n",
       "    <tr>\n",
       "      <th>0</th>\n",
       "      <td>0</td>\n",
       "      <td>Iga</td>\n",
       "      <td>sg n</td>\n",
       "      <td>P</td>\n",
       "      <td>sg n_P</td>\n",
       "    </tr>\n",
       "    <tr>\n",
       "      <th>1</th>\n",
       "      <td>0</td>\n",
       "      <td>üheksas</td>\n",
       "      <td>sg n</td>\n",
       "      <td>O</td>\n",
       "      <td>sg n_O</td>\n",
       "    </tr>\n",
       "    <tr>\n",
       "      <th>2</th>\n",
       "      <td>0</td>\n",
       "      <td>kroon</td>\n",
       "      <td>sg n</td>\n",
       "      <td>S</td>\n",
       "      <td>sg n_S</td>\n",
       "    </tr>\n",
       "    <tr>\n",
       "      <th>3</th>\n",
       "      <td>0</td>\n",
       "      <td>tuli</td>\n",
       "      <td>s</td>\n",
       "      <td>V</td>\n",
       "      <td>s_V</td>\n",
       "    </tr>\n",
       "    <tr>\n",
       "      <th>4</th>\n",
       "      <td>0</td>\n",
       "      <td>salapärastelt</td>\n",
       "      <td>pl abl</td>\n",
       "      <td>A</td>\n",
       "      <td>pl abl_A</td>\n",
       "    </tr>\n",
       "    <tr>\n",
       "      <th>...</th>\n",
       "      <td>...</td>\n",
       "      <td>...</td>\n",
       "      <td>...</td>\n",
       "      <td>...</td>\n",
       "      <td>...</td>\n",
       "    </tr>\n",
       "    <tr>\n",
       "      <th>344584</th>\n",
       "      <td>1123</td>\n",
       "      <td>järgi</td>\n",
       "      <td></td>\n",
       "      <td>K</td>\n",
       "      <td>K</td>\n",
       "    </tr>\n",
       "    <tr>\n",
       "      <th>344585</th>\n",
       "      <td>1123</td>\n",
       "      <td>,</td>\n",
       "      <td></td>\n",
       "      <td>Z</td>\n",
       "      <td>Z</td>\n",
       "    </tr>\n",
       "    <tr>\n",
       "      <th>344586</th>\n",
       "      <td>1123</td>\n",
       "      <td>%</td>\n",
       "      <td></td>\n",
       "      <td>N</td>\n",
       "      <td>N</td>\n",
       "    </tr>\n",
       "    <tr>\n",
       "      <th>344587</th>\n",
       "      <td>1123</td>\n",
       "      <td>,</td>\n",
       "      <td></td>\n",
       "      <td>Z</td>\n",
       "      <td>Z</td>\n",
       "    </tr>\n",
       "    <tr>\n",
       "      <th>344588</th>\n",
       "      <td>1123</td>\n",
       "      <td>1995-2000</td>\n",
       "      <td></td>\n",
       "      <td>N</td>\n",
       "      <td>N</td>\n",
       "    </tr>\n",
       "  </tbody>\n",
       "</table>\n",
       "<p>344589 rows × 5 columns</p>\n",
       "</div>"
      ],
      "text/plain": [
       "        sentence_id          words    form pos    labels\n",
       "0                 0            Iga    sg n   P    sg n_P\n",
       "1                 0        üheksas    sg n   O    sg n_O\n",
       "2                 0          kroon    sg n   S    sg n_S\n",
       "3                 0           tuli       s   V       s_V\n",
       "4                 0  salapärastelt  pl abl   A  pl abl_A\n",
       "...             ...            ...     ...  ..       ...\n",
       "344584         1123          järgi           K         K\n",
       "344585         1123              ,           Z         Z\n",
       "344586         1123              %           N         N\n",
       "344587         1123              ,           Z         Z\n",
       "344588         1123      1995-2000           N         N\n",
       "\n",
       "[344589 rows x 5 columns]"
      ]
     },
     "metadata": {},
     "output_type": "display_data"
    },
    {
     "data": {
      "text/html": [
       "<div>\n",
       "<style scoped>\n",
       "    .dataframe tbody tr th:only-of-type {\n",
       "        vertical-align: middle;\n",
       "    }\n",
       "\n",
       "    .dataframe tbody tr th {\n",
       "        vertical-align: top;\n",
       "    }\n",
       "\n",
       "    .dataframe thead th {\n",
       "        text-align: right;\n",
       "    }\n",
       "</style>\n",
       "<table border=\"1\" class=\"dataframe\">\n",
       "  <thead>\n",
       "    <tr style=\"text-align: right;\">\n",
       "      <th></th>\n",
       "      <th>sentence_id</th>\n",
       "      <th>words</th>\n",
       "      <th>form</th>\n",
       "      <th>pos</th>\n",
       "      <th>labels</th>\n",
       "    </tr>\n",
       "  </thead>\n",
       "  <tbody>\n",
       "    <tr>\n",
       "      <th>0</th>\n",
       "      <td>0</td>\n",
       "      <td>Palju</td>\n",
       "      <td></td>\n",
       "      <td>D</td>\n",
       "      <td>D</td>\n",
       "    </tr>\n",
       "    <tr>\n",
       "      <th>1</th>\n",
       "      <td>0</td>\n",
       "      <td>olulisi</td>\n",
       "      <td>pl p</td>\n",
       "      <td>A</td>\n",
       "      <td>pl p_A</td>\n",
       "    </tr>\n",
       "    <tr>\n",
       "      <th>2</th>\n",
       "      <td>0</td>\n",
       "      <td>komponente</td>\n",
       "      <td>pl p</td>\n",
       "      <td>S</td>\n",
       "      <td>pl p_S</td>\n",
       "    </tr>\n",
       "    <tr>\n",
       "      <th>3</th>\n",
       "      <td>0</td>\n",
       "      <td>,</td>\n",
       "      <td></td>\n",
       "      <td>Z</td>\n",
       "      <td>Z</td>\n",
       "    </tr>\n",
       "    <tr>\n",
       "      <th>4</th>\n",
       "      <td>0</td>\n",
       "      <td>nagu</td>\n",
       "      <td></td>\n",
       "      <td>J</td>\n",
       "      <td>J</td>\n",
       "    </tr>\n",
       "    <tr>\n",
       "      <th>...</th>\n",
       "      <td>...</td>\n",
       "      <td>...</td>\n",
       "      <td>...</td>\n",
       "      <td>...</td>\n",
       "      <td>...</td>\n",
       "    </tr>\n",
       "    <tr>\n",
       "      <th>48484</th>\n",
       "      <td>442</td>\n",
       "      <td>osutus</td>\n",
       "      <td>s</td>\n",
       "      <td>V</td>\n",
       "      <td>s_V</td>\n",
       "    </tr>\n",
       "    <tr>\n",
       "      <th>48485</th>\n",
       "      <td>442</td>\n",
       "      <td>sissetulekute</td>\n",
       "      <td>pl g</td>\n",
       "      <td>S</td>\n",
       "      <td>pl g_S</td>\n",
       "    </tr>\n",
       "    <tr>\n",
       "      <th>48486</th>\n",
       "      <td>442</td>\n",
       "      <td>ebavõrdsust</td>\n",
       "      <td>sg p</td>\n",
       "      <td>S</td>\n",
       "      <td>sg p_S</td>\n",
       "    </tr>\n",
       "    <tr>\n",
       "      <th>48487</th>\n",
       "      <td>442</td>\n",
       "      <td>suurendavaks</td>\n",
       "      <td>sg tr</td>\n",
       "      <td>A</td>\n",
       "      <td>sg tr_A</td>\n",
       "    </tr>\n",
       "    <tr>\n",
       "      <th>48488</th>\n",
       "      <td>442</td>\n",
       "      <td>.</td>\n",
       "      <td></td>\n",
       "      <td>Z</td>\n",
       "      <td>Z</td>\n",
       "    </tr>\n",
       "  </tbody>\n",
       "</table>\n",
       "<p>48489 rows × 5 columns</p>\n",
       "</div>"
      ],
      "text/plain": [
       "       sentence_id          words   form pos   labels\n",
       "0                0          Palju          D        D\n",
       "1                0        olulisi   pl p   A   pl p_A\n",
       "2                0     komponente   pl p   S   pl p_S\n",
       "3                0              ,          Z        Z\n",
       "4                0           nagu          J        J\n",
       "...            ...            ...    ...  ..      ...\n",
       "48484          442         osutus      s   V      s_V\n",
       "48485          442  sissetulekute   pl g   S   pl g_S\n",
       "48486          442    ebavõrdsust   sg p   S   sg p_S\n",
       "48487          442   suurendavaks  sg tr   A  sg tr_A\n",
       "48488          442              .          Z        Z\n",
       "\n",
       "[48489 rows x 5 columns]"
      ]
     },
     "metadata": {},
     "output_type": "display_data"
    },
    {
     "data": {
      "text/html": [
       "<div>\n",
       "<style scoped>\n",
       "    .dataframe tbody tr th:only-of-type {\n",
       "        vertical-align: middle;\n",
       "    }\n",
       "\n",
       "    .dataframe tbody tr th {\n",
       "        vertical-align: top;\n",
       "    }\n",
       "\n",
       "    .dataframe thead th {\n",
       "        text-align: right;\n",
       "    }\n",
       "</style>\n",
       "<table border=\"1\" class=\"dataframe\">\n",
       "  <thead>\n",
       "    <tr style=\"text-align: right;\">\n",
       "      <th></th>\n",
       "      <th>sentence_id</th>\n",
       "      <th>words</th>\n",
       "      <th>form</th>\n",
       "      <th>pos</th>\n",
       "      <th>labels</th>\n",
       "    </tr>\n",
       "  </thead>\n",
       "  <tbody>\n",
       "    <tr>\n",
       "      <th>0</th>\n",
       "      <td>0</td>\n",
       "      <td>Aga</td>\n",
       "      <td></td>\n",
       "      <td>J</td>\n",
       "      <td>J</td>\n",
       "    </tr>\n",
       "    <tr>\n",
       "      <th>1</th>\n",
       "      <td>0</td>\n",
       "      <td>mulle</td>\n",
       "      <td>sg all</td>\n",
       "      <td>P</td>\n",
       "      <td>sg all_P</td>\n",
       "    </tr>\n",
       "    <tr>\n",
       "      <th>2</th>\n",
       "      <td>0</td>\n",
       "      <td>tundub</td>\n",
       "      <td>b</td>\n",
       "      <td>V</td>\n",
       "      <td>b_V</td>\n",
       "    </tr>\n",
       "    <tr>\n",
       "      <th>3</th>\n",
       "      <td>0</td>\n",
       "      <td>,</td>\n",
       "      <td></td>\n",
       "      <td>Z</td>\n",
       "      <td>Z</td>\n",
       "    </tr>\n",
       "    <tr>\n",
       "      <th>4</th>\n",
       "      <td>0</td>\n",
       "      <td>et</td>\n",
       "      <td></td>\n",
       "      <td>J</td>\n",
       "      <td>J</td>\n",
       "    </tr>\n",
       "    <tr>\n",
       "      <th>...</th>\n",
       "      <td>...</td>\n",
       "      <td>...</td>\n",
       "      <td>...</td>\n",
       "      <td>...</td>\n",
       "      <td>...</td>\n",
       "    </tr>\n",
       "    <tr>\n",
       "      <th>44743</th>\n",
       "      <td>468</td>\n",
       "      <td>ei</td>\n",
       "      <td>neg</td>\n",
       "      <td>V</td>\n",
       "      <td>neg_V</td>\n",
       "    </tr>\n",
       "    <tr>\n",
       "      <th>44744</th>\n",
       "      <td>468</td>\n",
       "      <td>peitu</td>\n",
       "      <td>neg o</td>\n",
       "      <td>V</td>\n",
       "      <td>neg o_V</td>\n",
       "    </tr>\n",
       "    <tr>\n",
       "      <th>44745</th>\n",
       "      <td>468</td>\n",
       "      <td>neurodegeneratiivne</td>\n",
       "      <td>sg n</td>\n",
       "      <td>A</td>\n",
       "      <td>sg n_A</td>\n",
       "    </tr>\n",
       "    <tr>\n",
       "      <th>44746</th>\n",
       "      <td>468</td>\n",
       "      <td>protsess</td>\n",
       "      <td>sg n</td>\n",
       "      <td>S</td>\n",
       "      <td>sg n_S</td>\n",
       "    </tr>\n",
       "    <tr>\n",
       "      <th>44747</th>\n",
       "      <td>468</td>\n",
       "      <td>?</td>\n",
       "      <td></td>\n",
       "      <td>Z</td>\n",
       "      <td>Z</td>\n",
       "    </tr>\n",
       "  </tbody>\n",
       "</table>\n",
       "<p>44748 rows × 5 columns</p>\n",
       "</div>"
      ],
      "text/plain": [
       "       sentence_id                words    form pos    labels\n",
       "0                0                  Aga           J         J\n",
       "1                0                mulle  sg all   P  sg all_P\n",
       "2                0               tundub       b   V       b_V\n",
       "3                0                    ,           Z         Z\n",
       "4                0                   et           J         J\n",
       "...            ...                  ...     ...  ..       ...\n",
       "44743          468                   ei     neg   V     neg_V\n",
       "44744          468                peitu   neg o   V   neg o_V\n",
       "44745          468  neurodegeneratiivne    sg n   A    sg n_A\n",
       "44746          468             protsess    sg n   S    sg n_S\n",
       "44747          468                    ?           Z         Z\n",
       "\n",
       "[44748 rows x 5 columns]"
      ]
     },
     "metadata": {},
     "output_type": "display_data"
    }
   ],
   "source": [
    "display(train_df_ud)\n",
    "display(test_df_ud)\n",
    "display(dev_df_ud)"
   ]
  },
  {
   "cell_type": "markdown",
   "metadata": {},
   "source": [
    "<a id='mudeli_treenimine'></a>"
   ]
  },
  {
   "cell_type": "markdown",
   "metadata": {},
   "source": [
    "### Model training"
   ]
  },
  {
   "cell_type": "markdown",
   "metadata": {},
   "source": [
    "Training model"
   ]
  },
  {
   "cell_type": "code",
   "execution_count": 12,
   "metadata": {},
   "outputs": [],
   "source": [
    "model.args.output_dir = 'NER_mudel_v2'\n",
    "model.args.cache_dir = 'NER_mudel_v2' + '/cache'\n",
    "model.args.best_model_dir = 'NER_mudel_v2' + '/best_model'"
   ]
  },
  {
   "cell_type": "code",
   "execution_count": 13,
   "metadata": {},
   "outputs": [],
   "source": [
    "if not os.path.exists(\".\\\\NER_mudel_v2\\\\config.json\"):\n",
    "    # Train model\n",
    "    print(\"Training model\")\n",
    "    model.train_model(train_df_ud, output_dir='NER_mudel_v2')\n",
    "else:\n",
    "    model = NotebookFunctions.initialize_model('NER_mudel_v2', unique_labels)"
   ]
  },
  {
   "cell_type": "markdown",
   "metadata": {},
   "source": [
    "Initializing custom metrics to be used for evaluation"
   ]
  },
  {
   "cell_type": "code",
   "execution_count": 7,
   "metadata": {},
   "outputs": [],
   "source": [
    "poseval = evaluate.load(\"evaluate-metric/poseval\", module_type=\"metric\")\n",
    "\n",
    "def custom_metrics(preds, labels):\n",
    "\n",
    "    # Evaluate using poseval\n",
    "    result = poseval.compute(predictions=preds, references=labels)\n",
    "\n",
    "    return result"
   ]
  },
  {
   "cell_type": "markdown",
   "metadata": {},
   "source": [
    "Evaluating the model<!-- Mudeli hindamine -->"
   ]
  },
  {
   "cell_type": "code",
   "execution_count": 15,
   "metadata": {},
   "outputs": [
    {
     "name": "stderr",
     "output_type": "stream",
     "text": [
      "100%|██████████| 3/3 [00:09<00:00,  3.06s/it]\n",
      "Running Evaluation:   0%|          | 0/12 [00:00<?, ?it/s]e:\\Anaconda3\\envs\\gpulocal\\Lib\\site-packages\\simpletransformers\\ner\\ner_model.py:1303: FutureWarning: `torch.cuda.amp.autocast(args...)` is deprecated. Please use `torch.amp.autocast('cuda', args...)` instead.\n",
      "  with amp.autocast():\n",
      "Running Evaluation: 100%|██████████| 12/12 [00:04<00:00,  2.96it/s]\n"
     ]
    }
   ],
   "source": [
    "# Evaluate the model\n",
    "result, model_outputs, preds_list = model.eval_model(test_df_ud, extra_metrics=custom_metrics)"
   ]
  },
  {
   "cell_type": "code",
   "execution_count": 16,
   "metadata": {},
   "outputs": [
    {
     "name": "stdout",
     "output_type": "stream",
     "text": [
      "Evaluation Loss:0.1823\n",
      "Precision: \t0.9778\n",
      "Recall: \t0.9765\n",
      "F1 Score: \t0.9769\n"
     ]
    }
   ],
   "source": [
    "print(f\"Evaluation Loss:{result['eval_loss']:.4f}\")\n",
    "print(f\"Precision: \\t{result['extra_metrics']['weighted avg']['precision']:.4f}\")\n",
    "print(f\"Recall: \\t{result['extra_metrics']['weighted avg']['recall']:.4f}\")\n",
    "print(f\"F1 Score: \\t{result['extra_metrics']['weighted avg']['f1-score']:.4f}\")"
   ]
  },
  {
   "cell_type": "markdown",
   "metadata": {},
   "source": [
    "<a id='vabamorf_ud_korpusel'></a>"
   ]
  },
  {
   "cell_type": "markdown",
   "metadata": {},
   "source": [
    "<a id='vabamorfi_hindamine'></a>"
   ]
  },
  {
   "cell_type": "markdown",
   "metadata": {},
   "source": [
    "### Vabamorf evaluation on UD corpus"
   ]
  },
  {
   "cell_type": "code",
   "execution_count": null,
   "metadata": {},
   "outputs": [],
   "source": [
    "df_ud_vabamorf = pd.read_csv('ud_vabamorf.csv', keep_default_na=False)"
   ]
  },
  {
   "cell_type": "code",
   "execution_count": null,
   "metadata": {},
   "outputs": [
    {
     "name": "stdout",
     "output_type": "stream",
     "text": [
      "Assigning NaN values in columns form and pos with an empty string\n",
      "Removing NaN words\n",
      "Modified dataframe saved to ud_vabamorf.csv\n"
     ]
    }
   ],
   "source": [
    "NotebookFunctions.clean_df(df_ud_vabamorf, 'ud_vabamorf.csv')"
   ]
  },
  {
   "cell_type": "code",
   "execution_count": null,
   "metadata": {},
   "outputs": [
    {
     "name": "stdout",
     "output_type": "stream",
     "text": [
      "Creating column 'labels'\n",
      "Column 'labels' created\n",
      "Modified dataframe saved to ud_vabamorf.csv\n"
     ]
    }
   ],
   "source": [
    "NotebookFunctions.create_labels_column(df_ud_vabamorf, 'ud_vabamorf.csv')"
   ]
  },
  {
   "cell_type": "code",
   "execution_count": null,
   "metadata": {},
   "outputs": [],
   "source": [
    "test_df_ud_vabamorf = df_ud_vabamorf[df_ud_vabamorf['source'].str.contains('ud-test')].copy()"
   ]
  },
  {
   "cell_type": "code",
   "execution_count": null,
   "metadata": {},
   "outputs": [],
   "source": [
    "test_df_ud = df_ud[df_ud['source'].str.contains('ud-test')].copy()"
   ]
  },
  {
   "cell_type": "code",
   "execution_count": null,
   "metadata": {},
   "outputs": [
    {
     "name": "stderr",
     "output_type": "stream",
     "text": [
      "e:\\Anaconda3\\envs\\gpulocal\\Lib\\site-packages\\sklearn\\metrics\\_classification.py:1531: UndefinedMetricWarning: Precision is ill-defined and being set to 0.0 in labels with no predicted samples. Use `zero_division` parameter to control this behavior.\n",
      "  _warn_prf(average, modifier, f\"{metric.capitalize()} is\", len(result))\n",
      "e:\\Anaconda3\\envs\\gpulocal\\Lib\\site-packages\\sklearn\\metrics\\_classification.py:1531: UndefinedMetricWarning: Recall is ill-defined and being set to 0.0 in labels with no true samples. Use `zero_division` parameter to control this behavior.\n",
      "  _warn_prf(average, modifier, f\"{metric.capitalize()} is\", len(result))\n",
      "e:\\Anaconda3\\envs\\gpulocal\\Lib\\site-packages\\sklearn\\metrics\\_classification.py:1531: UndefinedMetricWarning: Precision is ill-defined and being set to 0.0 in labels with no predicted samples. Use `zero_division` parameter to control this behavior.\n",
      "  _warn_prf(average, modifier, f\"{metric.capitalize()} is\", len(result))\n",
      "e:\\Anaconda3\\envs\\gpulocal\\Lib\\site-packages\\sklearn\\metrics\\_classification.py:1531: UndefinedMetricWarning: Recall is ill-defined and being set to 0.0 in labels with no true samples. Use `zero_division` parameter to control this behavior.\n",
      "  _warn_prf(average, modifier, f\"{metric.capitalize()} is\", len(result))\n",
      "e:\\Anaconda3\\envs\\gpulocal\\Lib\\site-packages\\sklearn\\metrics\\_classification.py:1531: UndefinedMetricWarning: Precision is ill-defined and being set to 0.0 in labels with no predicted samples. Use `zero_division` parameter to control this behavior.\n",
      "  _warn_prf(average, modifier, f\"{metric.capitalize()} is\", len(result))\n",
      "e:\\Anaconda3\\envs\\gpulocal\\Lib\\site-packages\\sklearn\\metrics\\_classification.py:1531: UndefinedMetricWarning: Recall is ill-defined and being set to 0.0 in labels with no true samples. Use `zero_division` parameter to control this behavior.\n",
      "  _warn_prf(average, modifier, f\"{metric.capitalize()} is\", len(result))\n"
     ]
    }
   ],
   "source": [
    "def group_labels_by_sentence(df):\n",
    "    # Preparing data for seqeval metrics (needs nested lists)\n",
    "    grouped = df.groupby(['source', 'sentence_id'])['labels'].apply(list)\n",
    "    return grouped.reset_index(drop=True).tolist()\n",
    "\n",
    "labels_true = group_labels_by_sentence(test_df_ud)\n",
    "labels_pred = group_labels_by_sentence(test_df_ud_vabamorf)\n",
    "\n",
    "# precision = sk.metrics.precision_score(test_df_ud['labels'], test_df_ud_vabamorf['labels'], average='weighted')\n",
    "# recall = sk.metrics.recall_score(test_df_ud['labels'], test_df_ud_vabamorf['labels'], average='weighted')\n",
    "# f1 = sk.metrics.f1_score(test_df_ud['labels'], test_df_ud_vabamorf['labels'], average='weighted')\n",
    "# print(f\"Precision: \\t{precision:.4f}\")\n",
    "# print(f\"Recall: \\t{recall:.4f}\")\n",
    "# print(f\"F1 Score: \\t{f1:.4f}\")\n",
    "\n",
    "results = poseval.compute(predictions=labels_true, references=labels_pred)"
   ]
  },
  {
   "cell_type": "code",
   "execution_count": null,
   "metadata": {},
   "outputs": [
    {
     "name": "stdout",
     "output_type": "stream",
     "text": [
      "Precision: \t0.9194\n",
      "Recall: \t0.9067\n",
      "F1 Score: \t0.9082\n"
     ]
    }
   ],
   "source": [
    "print(f\"Precision: \\t{results[\"weighted avg\"][\"precision\"]:.4f}\")\n",
    "print(f\"Recall: \\t{results[\"weighted avg\"][\"recall\"]:.4f}\")\n",
    "print(f\"F1 Score: \\t{results[\"weighted avg\"][\"f1-score\"]:.4f}\")"
   ]
  },
  {
   "cell_type": "markdown",
   "metadata": {},
   "source": [
    "| Model         | Precision | Recall | F1 score |\n",
    "|---------------|-----------|--------|----------|\n",
    "| Bert_morph_v2 | 0.9778    | 0.9765 | 0.9769   |\n",
    "| Vabamorf      | 0.9194    | 0.9067 | 0.9082   |\n",
    "\n",
    "\\* Metrics are from weighted average"
   ]
  },
  {
   "cell_type": "markdown",
   "metadata": {},
   "source": [
    "## END"
   ]
  },
  {
   "cell_type": "markdown",
   "metadata": {},
   "source": [
    "<a id='end'></a>"
   ]
  }
 ],
 "metadata": {
  "kernelspec": {
   "display_name": "gpulocal",
   "language": "python",
   "name": "python3"
  },
  "language_info": {
   "codemirror_mode": {
    "name": "ipython",
    "version": 3
   },
   "file_extension": ".py",
   "mimetype": "text/x-python",
   "name": "python",
   "nbconvert_exporter": "python",
   "pygments_lexer": "ipython3",
   "version": "3.12.5"
  }
 },
 "nbformat": 4,
 "nbformat_minor": 2
}
