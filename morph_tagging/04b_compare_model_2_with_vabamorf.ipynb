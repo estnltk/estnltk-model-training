{
 "cells": [
  {
   "cell_type": "markdown",
   "metadata": {},
   "source": [
    "### Newer BertMorphTagger (*NER_mudel_v2*) comparsion with vabamorf\n",
    "#### Creating the differences file"
   ]
  },
  {
   "cell_type": "code",
   "execution_count": null,
   "metadata": {},
   "outputs": [
    {
     "name": "stderr",
     "output_type": "stream",
     "text": [
      "e:\\Anaconda3\\envs\\gpulocal\\Lib\\site-packages\\tqdm\\auto.py:21: TqdmWarning: IProgress not found. Please update jupyter and ipywidgets. See https://ipywidgets.readthedocs.io/en/stable/user_install.html\n",
      "  from .autonotebook import tqdm as notebook_tqdm\n"
     ]
    }
   ],
   "source": [
    "import os\n",
    "import pkg_resources\n",
    "import types\n",
    "import pandas as pd\n",
    "import estnltk, estnltk.converters, estnltk.taggers\n",
    "\n",
    "from morph_eval_utils import MorphDiffSummarizer, MorphDiffFinder, write_formatted_diff_str_to_file\n",
    "from bert_morph_tagger_notebook_functions import NotebookFunctions\n",
    "from tqdm import tqdm\n",
    "from bert_morph_tagger import BertMorphTagger"
   ]
  },
  {
   "cell_type": "code",
   "execution_count": null,
   "metadata": {},
   "outputs": [
    {
     "name": "stdout",
     "output_type": "stream",
     "text": [
      "estnltk==1.7.3\n",
      "evaluate==0.4.2\n",
      "numpy==1.26.4\n",
      "pandas==2.2.2\n",
      "simpletransformers==0.70.1\n",
      "torch==2.5.1\n",
      "tqdm==4.66.5\n"
     ]
    }
   ],
   "source": [
    "# Get locally imported modules from current notebook - https://stackoverflow.com/questions/40428931/package-for-listing-version-of-packages-used-in-a-jupyter-notebook - Alex P. Miller\n",
    "def get_imports():\n",
    "    \n",
    "    for name, val in globals().items():\n",
    "        if isinstance(val, types.ModuleType):\n",
    "            # Split ensures you get root package, \n",
    "            # not just imported function\n",
    "            name = val.__name__.split(\".\")[0]\n",
    "\n",
    "        elif isinstance(val, type):\n",
    "            name = val.__module__.split(\".\")[0]\n",
    "            \n",
    "        # Some packages are weird and have different\n",
    "        # imported names vs. system/pip names. Unfortunately,\n",
    "        # there is no systematic way to get pip names from\n",
    "        # a package's imported name. You'll have to add\n",
    "        # exceptions to this list manually!\n",
    "        poorly_named_packages = {\n",
    "            \"PIL\": \"Pillow\",\n",
    "            \"sklearn\": \"scikit-learn\"\n",
    "        }\n",
    "        if name in poorly_named_packages.keys():\n",
    "            name = poorly_named_packages[name]\n",
    "            \n",
    "        yield name\n",
    "imports = list(set(get_imports()))\n",
    "\n",
    "# The only way I found to get the version of the root package\n",
    "# from only the name of the package is to cross-check the names \n",
    "# of installed packages vs. imported packages\n",
    "requirements = []\n",
    "for m in pkg_resources.working_set:\n",
    "    if m.project_name in imports and m.project_name!=\"pip\":\n",
    "        requirements.append((m.project_name, m.version))\n",
    "\n",
    "for r in requirements:\n",
    "    print(\"{}=={}\".format(*r))"
   ]
  },
  {
   "cell_type": "code",
   "execution_count": null,
   "metadata": {},
   "outputs": [],
   "source": [
    "comparison_data = pd.read_csv(\"comparison_data.csv\", keep_default_na=False)\n",
    "in_dir = '_plain_texts_json'\n",
    "unused_jsons = comparison_data['source'].unique().tolist()\n",
    "morph_tagger_v2 = BertMorphTagger('./NER_mudel_v2/')"
   ]
  },
  {
   "cell_type": "markdown",
   "metadata": {},
   "source": [
    "JSON file creation"
   ]
  },
  {
   "cell_type": "code",
   "execution_count": null,
   "metadata": {},
   "outputs": [
    {
     "name": "stdout",
     "output_type": "stream",
     "text": [
      "Beginning to morphologically tag file by file\n"
     ]
    },
    {
     "name": "stderr",
     "output_type": "stream",
     "text": [
      "100%|██████████| 5778/5778 [3:00:21<00:00,  1.87s/it]     "
     ]
    },
    {
     "name": "stdout",
     "output_type": "stream",
     "text": [
      "Morphological tagging completed successfully\n"
     ]
    },
    {
     "name": "stderr",
     "output_type": "stream",
     "text": [
      "\n"
     ]
    }
   ],
   "source": [
    "NotebookFunctions.create_json_file_by_file_enc2017(unused_jsons, in_dir, '_diff_morph_texts_json_v2', 'enc2017', True, bert_morph_tagger=morph_tagger_v2)"
   ]
  },
  {
   "cell_type": "markdown",
   "metadata": {},
   "source": [
    "Finding and summarizing differences using `MorphDiffFinder` and `MorphDiffSummarizer`"
   ]
  },
  {
   "cell_type": "code",
   "execution_count": null,
   "metadata": {},
   "outputs": [],
   "source": [
    "morph_diff_finder = MorphDiffFinder('morph_analysis', \n",
    "                                    'bert_morph_tagging', \n",
    "                                    diff_attribs  = ['partofspeech', 'form'], \n",
    "                                    focus_attribs = ['partofspeech', 'form'] )\n",
    "morph_diff_summarizer = MorphDiffSummarizer('morph_analysis', 'bert_morph_tagging' )\n",
    "in_dir = './_diff_morph_texts_json_v2_complete/'\n",
    "output_dir = './differences_v2_complete/'"
   ]
  },
  {
   "cell_type": "code",
   "execution_count": null,
   "metadata": {},
   "outputs": [
    {
     "name": "stderr",
     "output_type": "stream",
     "text": [
      "100%|██████████| 17368/17368 [30:34<00:00,  9.47it/s]  \n"
     ]
    }
   ],
   "source": [
    "NotebookFunctions.find_and_summarize_differences(unused_jsons, in_dir, output_dir, morph_diff_finder, morph_diff_summarizer)"
   ]
  },
  {
   "cell_type": "markdown",
   "metadata": {},
   "source": [
    "Merging differences into one single file"
   ]
  },
  {
   "cell_type": "code",
   "execution_count": null,
   "metadata": {},
   "outputs": [],
   "source": [
    "diff_files = os.listdir(output_dir)\n",
    "lines = list()"
   ]
  },
  {
   "cell_type": "code",
   "execution_count": null,
   "metadata": {},
   "outputs": [
    {
     "name": "stderr",
     "output_type": "stream",
     "text": [
      "17347it [00:10, 1730.38it/s]\n"
     ]
    }
   ],
   "source": [
    "for i, diff_file in tqdm(enumerate(diff_files)):\n",
    "    with open(file=os.path.join(output_dir, diff_file), mode='r', encoding='UTF-8') as f:\n",
    "        file_lines = f.readlines()\n",
    "        lines.append(file_lines)"
   ]
  },
  {
   "cell_type": "code",
   "execution_count": null,
   "metadata": {},
   "outputs": [],
   "source": [
    "with open(file='differences__ann_diffs_v2_complete.txt', mode='w', encoding='UTF-8') as f:\n",
    "    for file_lines in lines:\n",
    "        f.writelines(file_lines)"
   ]
  },
  {
   "cell_type": "markdown",
   "metadata": {},
   "source": [
    "Pick randomly 100 differences evenly distributed to each text type"
   ]
  },
  {
   "cell_type": "code",
   "execution_count": null,
   "metadata": {},
   "outputs": [
    {
     "name": "stdout",
     "output_type": "stream",
     "text": [
      "INFO:pick_randomly_from_diffs.py:66: Collecting difference indexes ...\n",
      "INFO:pick_randomly_from_diffs.py:85: \n",
      "INFO:pick_randomly_from_diffs.py:86: Differences by text category / subcorpus:\n",
      "INFO:pick_randomly_from_diffs.py:91:  78888  (21.49%)  wikipedia\n",
      "INFO:pick_randomly_from_diffs.py:91:  77124  (21.01%)  science\n",
      "INFO:pick_randomly_from_diffs.py:91:  74853  (20.39%)  blogs_and_forums\n",
      "INFO:pick_randomly_from_diffs.py:91:  69715  (18.99%)  periodicals\n",
      "INFO:pick_randomly_from_diffs.py:91:  66459  (18.11%)  fiction\n",
      "INFO:pick_randomly_from_diffs.py:94: \n",
      "INFO:pick_randomly_from_diffs.py:95:  367039  (100.0%)  TOTAL\n",
      "INFO:pick_randomly_from_diffs.py:96: \n",
      "INFO:pick_randomly_from_diffs.py:112: Picking randomly 20 differences from each text category ...\n",
      "INFO:pick_randomly_from_diffs.py:157: Collecting randomly picked differences ...\n",
      "INFO:pick_randomly_from_diffs.py:187: Saving into  differences__ann_diffs__x100_even.txt ...\n",
      "INFO:pick_randomly_from_diffs.py:193: Done.\n"
     ]
    }
   ],
   "source": [
    "!python pick_randomly_from_diffs.py differences__ann_diffs_v2.txt 100 -e"
   ]
  },
  {
   "cell_type": "markdown",
   "metadata": {},
   "source": [
    "Pick randomly 1000 differences evenly distributed to each text type"
   ]
  },
  {
   "cell_type": "code",
   "execution_count": null,
   "metadata": {},
   "outputs": [
    {
     "name": "stdout",
     "output_type": "stream",
     "text": [
      "INFO:pick_randomly_from_diffs.py:66: Collecting difference indexes ...\n",
      "INFO:pick_randomly_from_diffs.py:85: \n",
      "INFO:pick_randomly_from_diffs.py:86: Differences by text category / subcorpus:\n",
      "INFO:pick_randomly_from_diffs.py:91:  131014  (24.51%)  wikipedia\n",
      "INFO:pick_randomly_from_diffs.py:91:  125992  (23.57%)  science\n",
      "INFO:pick_randomly_from_diffs.py:91:  104636  (19.58%)  blogs_and_forums\n",
      "INFO:pick_randomly_from_diffs.py:91:  93402  (17.47%)  periodicals\n",
      "INFO:pick_randomly_from_diffs.py:91:  79476  (14.87%)  fiction\n",
      "INFO:pick_randomly_from_diffs.py:94: \n",
      "INFO:pick_randomly_from_diffs.py:95:  534520  (100.0%)  TOTAL\n",
      "INFO:pick_randomly_from_diffs.py:96: \n",
      "INFO:pick_randomly_from_diffs.py:112: Picking randomly 200 differences from each text category ...\n",
      "INFO:pick_randomly_from_diffs.py:157: Collecting randomly picked differences ...\n",
      "INFO:pick_randomly_from_diffs.py:187: Saving into  differences__ann_diffs_v2_x1000_even.txt ...\n",
      "INFO:pick_randomly_from_diffs.py:193: Done.\n"
     ]
    }
   ],
   "source": [
    "!python pick_randomly_from_diffs.py differences__ann_diffs_v2.txt 1000 -e"
   ]
  },
  {
   "cell_type": "markdown",
   "metadata": {},
   "source": [
    "Summarized results"
   ]
  },
  {
   "cell_type": "code",
   "execution_count": null,
   "metadata": {},
   "outputs": [
    {
     "name": "stdout",
     "output_type": "stream",
     "text": [
      "TOTAL DIFF STATISTICS:\n",
      "\n",
      "morph_analysis\n",
      " blogs_and_forums | #docs: 924 | modified spans: 104636 / 600595 (0.1742) | annotations ratio: 1077830 / 1267462 (0.8504) | only in morph_analysis: 127951 (10.0951%) | only in bert_morph_tagging: 61681 (4.8665%)\n",
      " fiction          | #docs: 9 | modified spans: 79476 / 638806 (0.1244) | annotations ratio: 1201448 / 1353435 (0.8877) | only in morph_analysis: 113905 (8.4160%) | only in bert_morph_tagging: 38082 (2.8137%)\n",
      " periodicals      | #docs: 1799 | modified spans: 93402 / 600172 (0.1556) | annotations ratio: 1092528 / 1266743 (0.8625) | only in morph_analysis: 120307 (9.4973%) | only in bert_morph_tagging: 53908 (4.2556%)\n",
      " science          | #docs: 36 | modified spans: 125992 / 616552 (0.2043) | annotations ratio: 1062406 / 1301408 (0.8164) | only in morph_analysis: 153652 (11.8066%) | only in bert_morph_tagging: 85350 (6.5583%)\n",
      " wikipedia        | #docs: 3010 | modified spans: 131014 / 600255 (0.2183) | annotations ratio: 1011914 / 1257569 (0.8047) | only in morph_analysis: 151353 (12.0354%) | only in bert_morph_tagging: 94302 (7.4988%)\n",
      " TOTAL            | #docs: 5778 | modified spans: 534520 / 3056380 (0.1749) | annotations ratio: 5446126 / 6446617 (0.8448) | only in morph_analysis: 667168 (10.3491%) | only in bert_morph_tagging: 333323 (5.1705%)\n",
      "\n"
     ]
    }
   ],
   "source": [
    "with open(\"./differences__ann_diffs_v2.txt\", mode=\"r\") as f:\n",
    "    for i in range(10):\n",
    "        line = next(f).rstrip()\n",
    "        print(line)"
   ]
  }
 ],
 "metadata": {
  "kernelspec": {
   "display_name": "gpulocal",
   "language": "python",
   "name": "python3"
  },
  "language_info": {
   "name": "python",
   "version": "3.12.5"
  }
 },
 "nbformat": 4,
 "nbformat_minor": 2
}
