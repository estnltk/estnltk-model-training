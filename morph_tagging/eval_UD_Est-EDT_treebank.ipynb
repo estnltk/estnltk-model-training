{
 "cells": [
  {
   "cell_type": "markdown",
   "metadata": {},
   "source": [
    "## Table of contents\n",
    "   1. [**Estonian Universal Dependencies' EDT corpus**](#eesti_ud_edt_korpus)\n",
    "      1. [**Converting UD corpus to Vabamorf format**](#eesti_ud_edt_konverteerimine)\n",
    "      2. [**Creating and preparing the dataset from converted UD corpus**](#teisendatud_ud_andmestiku_loomine_ja_tootlemine)\n",
    "      3. [**Model testing**](#mudeli_testimine)"
   ]
  },
  {
   "cell_type": "code",
   "execution_count": 1,
   "metadata": {},
   "outputs": [
    {
     "name": "stderr",
     "output_type": "stream",
     "text": [
      "e:\\Anaconda3\\envs\\gpulocal\\Lib\\site-packages\\tqdm\\auto.py:21: TqdmWarning: IProgress not found. Please update jupyter and ipywidgets. See https://ipywidgets.readthedocs.io/en/stable/user_install.html\n",
      "  from .autonotebook import tqdm as notebook_tqdm\n"
     ]
    }
   ],
   "source": [
    "import os\n",
    "import csv\n",
    "import re\n",
    "import gc\n",
    "import itertools\n",
    "import time\n",
    "import json\n",
    "import logging\n",
    "import pkg_resources\n",
    "import types\n",
    "import evaluate\n",
    "import pandas as pd\n",
    "import sklearn as sk\n",
    "import numpy as np\n",
    "import estnltk\n",
    "import torch\n",
    "import simpletransformers\n",
    "from simpletransformers.ner import NERModel, NERArgs\n",
    "from est_ud_utils import load_ud_file_texts_with_corrections, load_ud_file_with_corrections\n",
    "from est_ud_morph_conv import convert_ud_layer_to_reduced_morph_layer"
   ]
  },
  {
   "cell_type": "code",
   "execution_count": 2,
   "metadata": {},
   "outputs": [
    {
     "name": "stdout",
     "output_type": "stream",
     "text": [
      "estnltk==1.7.3\n",
      "evaluate==0.4.2\n",
      "numpy==1.26.4\n",
      "pandas==2.2.2\n",
      "scikit-learn==1.5.1\n",
      "simpletransformers==0.70.1\n",
      "torch==2.4.0\n"
     ]
    }
   ],
   "source": [
    "# Get locally imported modules from current notebook - https://stackoverflow.com/questions/40428931/package-for-listing-version-of-packages-used-in-a-jupyter-notebook - Alex P. Miller\n",
    "def get_imports():\n",
    "    \n",
    "    for name, val in globals().items():\n",
    "        if isinstance(val, types.ModuleType):\n",
    "            # Split ensures you get root package, \n",
    "            # not just imported function\n",
    "            name = val.__name__.split(\".\")[0]\n",
    "\n",
    "        elif isinstance(val, type):\n",
    "            name = val.__module__.split(\".\")[0]\n",
    "            \n",
    "        # Some packages are weird and have different\n",
    "        # imported names vs. system/pip names. Unfortunately,\n",
    "        # there is no systematic way to get pip names from\n",
    "        # a package's imported name. You'll have to add\n",
    "        # exceptions to this list manually!\n",
    "        poorly_named_packages = {\n",
    "            \"PIL\": \"Pillow\",\n",
    "            \"sklearn\": \"scikit-learn\"\n",
    "        }\n",
    "        if name in poorly_named_packages.keys():\n",
    "            name = poorly_named_packages[name]\n",
    "            \n",
    "        yield name\n",
    "imports = list(set(get_imports()))\n",
    "\n",
    "# The only way I found to get the version of the root package\n",
    "# from only the name of the package is to cross-check the names \n",
    "# of installed packages vs. imported packages\n",
    "requirements = []\n",
    "for m in pkg_resources.working_set:\n",
    "    if m.project_name in imports and m.project_name!=\"pip\":\n",
    "        requirements.append((m.project_name, m.version))\n",
    "\n",
    "for r in requirements:\n",
    "    print(\"{}=={}\".format(*r))"
   ]
  },
  {
   "cell_type": "markdown",
   "metadata": {},
   "source": [
    "<a id='eesti_ud_edt_korpus'></a>"
   ]
  },
  {
   "cell_type": "markdown",
   "metadata": {},
   "source": [
    "### Estonian Universal Dependencies' EDT [corpus](https://github.com/UniversalDependencies/UD_Estonian-EDT)"
   ]
  },
  {
   "cell_type": "markdown",
   "metadata": {},
   "source": [
    "<a id='eesti_ud_edt_konverteerimine'></a>"
   ]
  },
  {
   "cell_type": "markdown",
   "metadata": {},
   "source": [
    "#### Converting UD corpus to Vabamorf format"
   ]
  },
  {
   "cell_type": "markdown",
   "metadata": {},
   "source": [
    "[\"Convert Universal Dependencies' corpus to Vabamorf format\" notebook](https://github.com/estnltk/estnltk-model-training/blob/main/ud_morph_tools/amb_morph_reordering/01_convert_ud_corpus_to_vm.ipynb) was used to convert Estonian UD EDT treebank into Vabamorf format."
   ]
  },
  {
   "cell_type": "code",
   "execution_count": null,
   "metadata": {},
   "outputs": [],
   "source": [
    "def find_no_xpostag_rows():\n",
    "    \"\"\"\n",
    "    Finds rows in the Estonian UD EDT treebank that contain rows where\n",
    "    <code>xpostag == '_'</code>\n",
    "\n",
    "    <i>In file <code>est_ud_utils.py</code> class <code>EstUDCorrectionsRewriter</code> has function <code>rewrite</code>, which has comment: \\n\n",
    "    #72: If <code>xpostag == '_'</code>, then add it based on upostag \\n\n",
    "    But not all xpostag conditions exist in the code as convertion throws an <code>AssertionError</code>.</i>\n",
    "    \"\"\"\n",
    "    no_xpostag_regex = r\"^\\d+\\t\\S+\\t\\S+\\t\\S+\\t_\"\n",
    "    conllu_dir = \"UD_Estonian-EDT-r2.14\"\n",
    "    conllu_files = [\"et_edt-ud-dev.conllu\", \"et_edt-ud-test.conllu\", \"et_edt-ud-train.conllu\"]\n",
    "    for c_file in conllu_files:\n",
    "        print(\"\\n\", c_file, \"\\n\")\n",
    "        with open(file=os.path.join(conllu_dir, c_file), mode=\"r\") as f:\n",
    "            text = f.read()\n",
    "            # Find all matches\n",
    "            matches = re.findall(no_xpostag_regex, text, re.MULTILINE)\n",
    "\n",
    "            # Print the matching rows\n",
    "            for match in matches:\n",
    "                print(match)"
   ]
  },
  {
   "cell_type": "code",
   "execution_count": null,
   "metadata": {},
   "outputs": [],
   "source": [
    "ud_corpus_dir = \"UD_Estonian-EDT-r2.14\" # UD Corpus location\n",
    "output_dir = 'UD_converted' # Output directory"
   ]
  },
  {
   "cell_type": "code",
   "execution_count": null,
   "metadata": {},
   "outputs": [],
   "source": [
    "def convert_ud_to_vabamorf(ud_corpus_dir, output_dir):\n",
    "    \"\"\"Converts Universal Dependencies' (UD) corpus to Vabamorf format\n",
    "\n",
    "    Args:\n",
    "        ud_corpus_dir (str): path to directory containing UD corpus .conllu files\n",
    "        output_dir (str): path to directory, where Vabamorf jsons files will be written\n",
    "    \"\"\"\n",
    "    # Create directory if it doesn't exist\n",
    "    if not os.path.isdir( output_dir ):\n",
    "        os.makedirs(output_dir)\n",
    "    assert os.path.isdir( output_dir )\n",
    "\n",
    "    # Load UD corpus' files as EstNLTK Text objects\n",
    "    loaded_texts  = []\n",
    "    ud_layer_name = 'ud_syntax'\n",
    "    for fname in os.listdir( ud_corpus_dir ):\n",
    "        #if 'train' in fname:\n",
    "        #    continue\n",
    "        #if 'dev' in fname:\n",
    "        #    continue\n",
    "        #if 'test' in fname:\n",
    "        #    continue\n",
    "        if fname.endswith('.conllu'):\n",
    "            fpath = os.path.join( ud_corpus_dir, fname )\n",
    "            texts = load_ud_file_texts_with_corrections( fpath, ud_layer_name )\n",
    "            for text in texts:\n",
    "                text.meta['file'] = fname\n",
    "                loaded_texts.append( text )\n",
    "\n",
    "    # Convert UD's morphosyntactic annotations to Vabamorf-like annotations\n",
    "    for tid, text in enumerate(loaded_texts):\n",
    "        convert_ud_layer_to_reduced_morph_layer( text, 'ud_syntax', 'ud_morph_reduced', add_layer=True )\n",
    "        fname = text.meta['file'].replace('.conllu', '_'+('{:03d}'.format(tid))+'.json')\n",
    "        fpath = os.path.join(output_dir, fname)\n",
    "        estnltk.converters.text_to_json(text, file=fpath)"
   ]
  },
  {
   "cell_type": "markdown",
   "metadata": {},
   "source": [
    "<a id='teisendatud_ud_andmestiku_loomine_ja_tootlemine'></a>"
   ]
  },
  {
   "cell_type": "markdown",
   "metadata": {},
   "source": [
    "#### Creating and preparing the dataset from converted UD corpus"
   ]
  },
  {
   "cell_type": "code",
   "execution_count": 3,
   "metadata": {},
   "outputs": [],
   "source": [
    "def create_df_ud_corpus(jsons, in_dir, tokenizer, csv_filename):\n",
    "    \"\"\"\n",
    "    Creates a new dataset from converted the Estonian UD EDT <a href=\"https://github.com/UniversalDependencies/UD_Estonian-EDT\">corpus</a>. \\n\n",
    "    For each <code>.json</code> file, the following info is gathered:\n",
    "    <ul>\n",
    "        <li><code>sentence_id</code> -- given for each sentence</li>\n",
    "        <li><code>words</code> -- words gathered from text</li>\n",
    "        <li><code>form</code> -- word form notation</li>\n",
    "        <li><code>pos</code> -- part of speech</li>\n",
    "        <li><code>file_prefix</code> -- metadata</li>\n",
    "        <li><code>source</code> -- file name where the text is taken from</li>\n",
    "    </ul>\n",
    "    <a href=\"https://github.com/Filosoft/vabamorf/blob/e6d42371006710175f7ec328c98f90b122930555/doc/tagset.md\">Tables of morphological categories</a> for more information about <code>form</code> and <code>pos</code>.\n",
    "\n",
    "    Args:\n",
    "        jsons (list[str]): List of json files from which to read in the text\n",
    "        in_dir (str): Directory containing list of files (<code>jsons</code>)\n",
    "        tokenizer (str): Use goldstandard (<code>ud_morph_reduced</code>) or Vabamorf tokenization ((<code>morph_analysis</code>))\n",
    "        csv_filename (str): CSV filename where to save the gathered text\n",
    "    \"\"\"\n",
    "    if tokenizer not in {'ud_morph_reduced', 'morph_analysis'}:\n",
    "        raise ValueError(\"create_df_ud_corpus: tokenizer must be one of %r.\" % {'ud_morph_reduced', 'morph_analysis'})\n",
    "\n",
    "    tokens = list()\n",
    "    sentence_id = 0\n",
    "    fieldnames = ['sentence_id', 'words', 'form', 'pos', 'file_prefix', 'source']\n",
    "\n",
    "    print(\"Beginning tokenization file by file. This can take a while.\")\n",
    "    for file_name in jsons:\n",
    "        # print(f\"Beginning to tokenize {file_name}\")\n",
    "        sentence_id = 0\n",
    "\n",
    "        # Tokenization\n",
    "        text = estnltk.converters.json_to_text(file=os.path.join(in_dir, file_name))\n",
    "        if tokenizer == 'morph_analysis':\n",
    "            text.tag_layer('morph_analysis')\n",
    "        file_prefix = text.meta.get('file_prefix')\n",
    "        for sentence in text.sentences:\n",
    "            if tokenizer == 'ud_morph_reduced':\n",
    "                sentence_analysis = sentence.ud_morph_reduced\n",
    "                for text, form, pos in zip(sentence_analysis.text, sentence_analysis.form, sentence_analysis.pos):\n",
    "                    if text:\n",
    "                        tokens.append((sentence_id, text, form[0], pos[0], file_prefix, file_name)) # In case of multiplicity, select the first or index 0\n",
    "            else:\n",
    "                sentence_analysis = sentence.morph_analysis\n",
    "                for text, form, pos in zip(sentence_analysis.text, sentence_analysis.form, sentence_analysis.partofspeech):\n",
    "                    if text:\n",
    "                        tokens.append((sentence_id, text, form[0], pos[0], file_prefix, file_name)) # In case of multiplicity, select the first or index 0\n",
    "            sentence_id += 1\n",
    "        # print(f\"{file_name} tokenized\")\n",
    "\n",
    "    print(\"Tokenization completed successfully\")\n",
    "    print(\"Creating Pandas dataframe\")\n",
    "    df = pd.DataFrame(data=tokens, columns=fieldnames)\n",
    "    df.to_csv(path_or_buf=csv_filename, index=False)\n",
    "    print(f\"Tokenized texts saved to {csv_filename}\\n\")"
   ]
  },
  {
   "cell_type": "code",
   "execution_count": 4,
   "metadata": {},
   "outputs": [],
   "source": [
    "def clean_df(df, df_file_name):\n",
    "    \"\"\"Finishes dataframe by:\n",
    "    <ul>\n",
    "        <li>filling NaN values in columns <code>form</code> and <code>pos</code>with empty strings;</li>\n",
    "        <li>removing NaN words.</li>\n",
    "    </ul>\n",
    "\n",
    "    Args:\n",
    "        df (pandas.core.frame.DataFrame): Pandas dataframe to clean\n",
    "        df_file_name (str): CSV file name from which dataframe was created\n",
    "    \"\"\"\n",
    "    print(\"Assigning NaN values in columns form and pos with an empty string\")\n",
    "    # NaN values are assigned with an empty string\n",
    "    df['form'] = df['form'].fillna('')\n",
    "    df['pos'] = df['pos'].fillna('')\n",
    "    print(\"Removing NaN words\")\n",
    "    # Removing NaN words\n",
    "    df.dropna(subset=['words'], inplace=True)\n",
    "    if df_file_name:\n",
    "        df.to_csv(path_or_buf=df_file_name, index=False)\n",
    "        print(f\"Modified dataframe saved to {df_file_name}\")\n",
    "    else:\n",
    "        print(\"Dataframe cleaned\")"
   ]
  },
  {
   "cell_type": "code",
   "execution_count": 5,
   "metadata": {},
   "outputs": [],
   "source": [
    "# New 'labels' column\n",
    "def create_labels_column(df):\n",
    "    \"\"\"\n",
    "    Creates a new column <code>labels</code> concatenating the values of columns <code>pos</code> (part of speech) and <code>form</code> (word form notation)\n",
    "\n",
    "    Args:\n",
    "        df (pandas.core.frame.DataFrame): Pandas dataframe to create a new column\n",
    "    \"\"\"\n",
    "    df['labels'] = df.apply(lambda row: str(row['form']) + '_' + str(row['pos']) if row['form'] and row['pos'] else str(row['form']) or str(row['pos']), axis=1)\n",
    "    print(\"Column 'labels' created\")"
   ]
  },
  {
   "cell_type": "code",
   "execution_count": 6,
   "metadata": {},
   "outputs": [
    {
     "name": "stdout",
     "output_type": "stream",
     "text": [
      "['et_edt-ud-dev_000.json', 'et_edt-ud-dev_001.json', 'et_edt-ud-dev_002.json', 'et_edt-ud-dev_003.json', 'et_edt-ud-dev_004.json', 'et_edt-ud-dev_005.json', 'et_edt-ud-dev_006.json', 'et_edt-ud-dev_007.json', 'et_edt-ud-dev_008.json', 'et_edt-ud-test_009.json', 'et_edt-ud-test_010.json', 'et_edt-ud-test_011.json', 'et_edt-ud-test_012.json', 'et_edt-ud-test_013.json', 'et_edt-ud-test_014.json', 'et_edt-ud-train_015.json', 'et_edt-ud-train_016.json', 'et_edt-ud-train_017.json', 'et_edt-ud-train_018.json', 'et_edt-ud-train_019.json', 'et_edt-ud-train_020.json', 'et_edt-ud-train_021.json', 'et_edt-ud-train_022.json', 'et_edt-ud-train_023.json', 'et_edt-ud-train_024.json', 'et_edt-ud-train_025.json', 'et_edt-ud-train_026.json', 'et_edt-ud-train_027.json', 'et_edt-ud-train_028.json', 'et_edt-ud-train_029.json', 'et_edt-ud-train_030.json', 'et_edt-ud-train_031.json', 'et_edt-ud-train_032.json', 'et_edt-ud-train_033.json', 'et_edt-ud-train_034.json', 'et_edt-ud-train_035.json', 'et_edt-ud-train_036.json', 'et_edt-ud-train_037.json', 'et_edt-ud-train_038.json', 'et_edt-ud-train_039.json', 'et_edt-ud-train_040.json', 'et_edt-ud-train_041.json', 'et_edt-ud-train_042.json']\n"
     ]
    }
   ],
   "source": [
    "ud_dir = \"UD_converted\"\n",
    "jsons = os.listdir(ud_dir)\n",
    "# print(jsons)"
   ]
  },
  {
   "cell_type": "code",
   "execution_count": 7,
   "metadata": {},
   "outputs": [],
   "source": [
    "if not os.path.exists('.\\\\ud_andmestik.csv'):\n",
    "    create_df_ud_corpus(jsons, ud_dir, 'ud_morph_reduced', 'ud_andmestik.csv')"
   ]
  },
  {
   "cell_type": "code",
   "execution_count": 8,
   "metadata": {},
   "outputs": [],
   "source": [
    "csv_ud_file = \"ud_andmestik.csv\"\n",
    "df_ud = pd.read_csv(csv_ud_file, keep_default_na=False)"
   ]
  },
  {
   "cell_type": "code",
   "execution_count": 61,
   "metadata": {},
   "outputs": [
    {
     "name": "stdout",
     "output_type": "stream",
     "text": [
      "Assigning NaN values in columns form and pos with an empty string\n",
      "Removing NaN words\n",
      "Modified dataframe saved to ud_andmestik.csv\n"
     ]
    }
   ],
   "source": [
    "clean_df(df_ud, csv_ud_file)"
   ]
  },
  {
   "cell_type": "code",
   "execution_count": 9,
   "metadata": {},
   "outputs": [
    {
     "name": "stdout",
     "output_type": "stream",
     "text": [
      "Column 'labels' created\n"
     ]
    },
    {
     "data": {
      "text/html": [
       "<div>\n",
       "<style scoped>\n",
       "    .dataframe tbody tr th:only-of-type {\n",
       "        vertical-align: middle;\n",
       "    }\n",
       "\n",
       "    .dataframe tbody tr th {\n",
       "        vertical-align: top;\n",
       "    }\n",
       "\n",
       "    .dataframe thead th {\n",
       "        text-align: right;\n",
       "    }\n",
       "</style>\n",
       "<table border=\"1\" class=\"dataframe\">\n",
       "  <thead>\n",
       "    <tr style=\"text-align: right;\">\n",
       "      <th></th>\n",
       "      <th>sentence_id</th>\n",
       "      <th>words</th>\n",
       "      <th>form</th>\n",
       "      <th>pos</th>\n",
       "      <th>file_prefix</th>\n",
       "      <th>source</th>\n",
       "      <th>labels</th>\n",
       "    </tr>\n",
       "  </thead>\n",
       "  <tbody>\n",
       "    <tr>\n",
       "      <th>0</th>\n",
       "      <td>0</td>\n",
       "      <td>Aga</td>\n",
       "      <td></td>\n",
       "      <td>J</td>\n",
       "      <td>aja_ee199920</td>\n",
       "      <td>et_edt-ud-dev_000.json</td>\n",
       "      <td>J</td>\n",
       "    </tr>\n",
       "    <tr>\n",
       "      <th>1</th>\n",
       "      <td>0</td>\n",
       "      <td>mulle</td>\n",
       "      <td>sg all</td>\n",
       "      <td>P</td>\n",
       "      <td>aja_ee199920</td>\n",
       "      <td>et_edt-ud-dev_000.json</td>\n",
       "      <td>sg all_P</td>\n",
       "    </tr>\n",
       "    <tr>\n",
       "      <th>2</th>\n",
       "      <td>0</td>\n",
       "      <td>tundub</td>\n",
       "      <td>b</td>\n",
       "      <td>V</td>\n",
       "      <td>aja_ee199920</td>\n",
       "      <td>et_edt-ud-dev_000.json</td>\n",
       "      <td>b_V</td>\n",
       "    </tr>\n",
       "    <tr>\n",
       "      <th>3</th>\n",
       "      <td>0</td>\n",
       "      <td>,</td>\n",
       "      <td></td>\n",
       "      <td>Z</td>\n",
       "      <td>aja_ee199920</td>\n",
       "      <td>et_edt-ud-dev_000.json</td>\n",
       "      <td>Z</td>\n",
       "    </tr>\n",
       "    <tr>\n",
       "      <th>4</th>\n",
       "      <td>0</td>\n",
       "      <td>et</td>\n",
       "      <td></td>\n",
       "      <td>J</td>\n",
       "      <td>aja_ee199920</td>\n",
       "      <td>et_edt-ud-dev_000.json</td>\n",
       "      <td>J</td>\n",
       "    </tr>\n",
       "  </tbody>\n",
       "</table>\n",
       "</div>"
      ],
      "text/plain": [
       "   sentence_id   words    form pos   file_prefix                  source  \\\n",
       "0            0     Aga           J  aja_ee199920  et_edt-ud-dev_000.json   \n",
       "1            0   mulle  sg all   P  aja_ee199920  et_edt-ud-dev_000.json   \n",
       "2            0  tundub       b   V  aja_ee199920  et_edt-ud-dev_000.json   \n",
       "3            0       ,           Z  aja_ee199920  et_edt-ud-dev_000.json   \n",
       "4            0      et           J  aja_ee199920  et_edt-ud-dev_000.json   \n",
       "\n",
       "     labels  \n",
       "0         J  \n",
       "1  sg all_P  \n",
       "2       b_V  \n",
       "3         Z  \n",
       "4         J  "
      ]
     },
     "metadata": {},
     "output_type": "display_data"
    },
    {
     "name": "stdout",
     "output_type": "stream",
     "text": [
      "(437826, 7)\n"
     ]
    }
   ],
   "source": [
    "create_labels_column(df_ud)\n",
    "display(df_ud.head(5))\n",
    "print(df_ud.shape)"
   ]
  },
  {
   "cell_type": "markdown",
   "metadata": {},
   "source": [
    "<a id='mudeli_testimine'></a>"
   ]
  },
  {
   "cell_type": "markdown",
   "metadata": {},
   "source": [
    "#### Model testing with UD corpus"
   ]
  },
  {
   "cell_type": "markdown",
   "metadata": {},
   "source": [
    "Extracting test set"
   ]
  },
  {
   "cell_type": "code",
   "execution_count": 10,
   "metadata": {},
   "outputs": [
    {
     "name": "stdout",
     "output_type": "stream",
     "text": [
      "(48489, 7)\n"
     ]
    }
   ],
   "source": [
    "test_df_ud = df_ud[df_ud['source'].str.contains('ud-test')].copy()\n",
    "print(test_df_ud.shape)"
   ]
  },
  {
   "cell_type": "markdown",
   "metadata": {},
   "source": [
    "Reading in unique labels that the model is trained with"
   ]
  },
  {
   "cell_type": "code",
   "execution_count": 11,
   "metadata": {},
   "outputs": [],
   "source": [
    "# Reading in unique labels\n",
    "with open(\"unique_labels.json\", 'r') as f:\n",
    "    unique_labels = json.load(f)"
   ]
  },
  {
   "cell_type": "markdown",
   "metadata": {},
   "source": [
    "Labels unknown to Vabamorf and replacing them with appropriate known unique labels"
   ]
  },
  {
   "cell_type": "code",
   "execution_count": 12,
   "metadata": {},
   "outputs": [],
   "source": [
    "def unknown_labels(unique_labels_list, data):\n",
    "    \"\"\"Finds labels that are not present in the unique labels list.\n",
    "\n",
    "    Args:\n",
    "        unique_labels_list (list): list of unique labels (obtained from reading <code>unique_labels.json</code> file)\n",
    "        data (pandas.core.frame.DataFrame): data to check for labels\n",
    "    \"\"\"\n",
    "    df_unique_labels = pd.DataFrame(unique_labels_list, columns=['labels'])\n",
    "    unique_labels_series = df_unique_labels['labels']\n",
    "    df_labels = data['labels']#.drop_duplicates()\n",
    "    labels_not_in_unique = df_labels[~df_labels.isin(unique_labels_series)]\n",
    "\n",
    "    print(\"Labels in data that are not in unique labels list:\")\n",
    "    print(labels_not_in_unique)\n",
    "    print(\"Unique:\")\n",
    "    print(labels_not_in_unique.unique())\n",
    "    return labels_not_in_unique"
   ]
  },
  {
   "cell_type": "code",
   "execution_count": 13,
   "metadata": {},
   "outputs": [
    {
     "name": "stdout",
     "output_type": "stream",
     "text": [
      "Labels in data that are not in unique labels list:\n",
      "46373    T\n",
      "46374    T\n",
      "46375    T\n",
      "48036    T\n",
      "48037    T\n",
      "        ..\n",
      "85108    T\n",
      "85682    T\n",
      "85683    T\n",
      "85941    T\n",
      "85942    T\n",
      "Name: labels, Length: 85, dtype: object\n",
      "Unique:\n",
      "['T' 'sg g_place']\n"
     ]
    }
   ],
   "source": [
    "labels_not_in_unique = unknown_labels(unique_labels, test_df_ud)"
   ]
  },
  {
   "cell_type": "code",
   "execution_count": 14,
   "metadata": {},
   "outputs": [],
   "source": [
    "# Replace unknown pos 'T' with '?'\n",
    "test_df_ud['labels'] = test_df_ud['labels'].apply(lambda x: '?' if x == 'T' else x)\n",
    "# Replace unknown pos 'place' with 'S'\n",
    "test_df_ud['labels'] = test_df_ud['labels'].apply(lambda x: 'sg g_S' if x == 'sg g_place' else x)"
   ]
  },
  {
   "cell_type": "code",
   "execution_count": 15,
   "metadata": {},
   "outputs": [
    {
     "name": "stdout",
     "output_type": "stream",
     "text": [
      "Labels in data that are not in unique labels list:\n",
      "Series([], Name: labels, dtype: object)\n",
      "Unique:\n",
      "[]\n"
     ]
    }
   ],
   "source": [
    "labels_not_in_unique = unknown_labels(unique_labels, test_df_ud)"
   ]
  },
  {
   "cell_type": "markdown",
   "metadata": {},
   "source": [
    "Removing unnecessary columns for the model<!-- Mudelile ebavajalike veergude eemaldamine -->"
   ]
  },
  {
   "cell_type": "code",
   "execution_count": 16,
   "metadata": {},
   "outputs": [],
   "source": [
    "test_df_ud = test_df_ud.drop(labels=['file_prefix', 'source'], axis=1)"
   ]
  },
  {
   "cell_type": "markdown",
   "metadata": {},
   "source": [
    "Initializing the model<!-- Mudeli ülesehitamine -->"
   ]
  },
  {
   "cell_type": "code",
   "execution_count": 17,
   "metadata": {},
   "outputs": [
    {
     "name": "stderr",
     "output_type": "stream",
     "text": [
      "e:\\Anaconda3\\envs\\gpulocal\\Lib\\site-packages\\simpletransformers\\ner\\ner_model.py:433: UserWarning: use_multiprocessing automatically disabled as CamemBERT fails when using multiprocessing for feature conversion.\n",
      "  warnings.warn(\n"
     ]
    }
   ],
   "source": [
    "logging.basicConfig(level=logging.INFO)\n",
    "transformers_logger = logging.getLogger(\"transformers\")\n",
    "transformers_logger.setLevel(logging.WARNING)\n",
    "\n",
    "# Configurations\n",
    "model_args = NERArgs()\n",
    "model_args.train_batch_size = 8\n",
    "model_args.evaluate_during_training = False\n",
    "model_args.learning_rate = 5e-5\n",
    "model_args.num_train_epochs = 10\n",
    "model_args.use_early_stopping = True\n",
    "model_args.use_cuda = torch.cuda.is_available()  # Use GPU if available\n",
    "model_args.save_eval_checkpoints = False\n",
    "model_args.save_model_every_epoch = False # Takes a lot of storage space\n",
    "model_args.save_steps = -1\n",
    "model_args.overwrite_output_dir = True\n",
    "model_args.cache_dir = 'NER_mudel/cache'\n",
    "model_args.best_model_dir = 'NER_mudel/best_model'\n",
    "model_args.output_dir = 'NER_mudel'\n",
    "model_args.use_multiprocessing = False\n",
    "\n",
    "# Initialization\n",
    "model = NERModel(\"camembert\", \"NER_mudel\", args=model_args, labels=unique_labels)"
   ]
  },
  {
   "cell_type": "markdown",
   "metadata": {},
   "source": [
    "Initializing custom metrics to be used for evaluation"
   ]
  },
  {
   "cell_type": "code",
   "execution_count": 24,
   "metadata": {},
   "outputs": [],
   "source": [
    "poseval = evaluate.load(\"evaluate-metric/poseval\", module_type=\"metric\")\n",
    "\n",
    "def custom_metrics(preds, labels):\n",
    "\n",
    "    # Evaluate using poseval\n",
    "    result = poseval.compute(predictions=preds, references=labels)\n",
    "\n",
    "    return result"
   ]
  },
  {
   "cell_type": "markdown",
   "metadata": {},
   "source": [
    "Evaluating the model<!-- Mudeli hindamine -->"
   ]
  },
  {
   "cell_type": "code",
   "execution_count": 25,
   "metadata": {},
   "outputs": [
    {
     "name": "stdout",
     "output_type": "stream",
     "text": [
      "INFO:ner_model.py:1884:  Converting to features started.\n"
     ]
    },
    {
     "name": "stderr",
     "output_type": "stream",
     "text": [
      "100%|██████████| 3/3 [00:09<00:00,  3.01s/it]\n",
      "Running Evaluation:   0%|          | 0/12 [00:00<?, ?it/s]e:\\Anaconda3\\envs\\gpulocal\\Lib\\site-packages\\simpletransformers\\ner\\ner_model.py:1303: FutureWarning: `torch.cuda.amp.autocast(args...)` is deprecated. Please use `torch.amp.autocast('cuda', args...)` instead.\n",
      "  with amp.autocast():\n",
      "Running Evaluation: 100%|██████████| 12/12 [00:01<00:00,  6.18it/s]\n",
      "e:\\Anaconda3\\envs\\gpulocal\\Lib\\site-packages\\sklearn\\metrics\\_classification.py:1531: UndefinedMetricWarning: Precision is ill-defined and being set to 0.0 in labels with no predicted samples. Use `zero_division` parameter to control this behavior.\n",
      "  _warn_prf(average, modifier, f\"{metric.capitalize()} is\", len(result))\n",
      "e:\\Anaconda3\\envs\\gpulocal\\Lib\\site-packages\\sklearn\\metrics\\_classification.py:1531: UndefinedMetricWarning: Recall is ill-defined and being set to 0.0 in labels with no true samples. Use `zero_division` parameter to control this behavior.\n",
      "  _warn_prf(average, modifier, f\"{metric.capitalize()} is\", len(result))\n",
      "e:\\Anaconda3\\envs\\gpulocal\\Lib\\site-packages\\sklearn\\metrics\\_classification.py:1531: UndefinedMetricWarning: Precision is ill-defined and being set to 0.0 in labels with no predicted samples. Use `zero_division` parameter to control this behavior.\n",
      "  _warn_prf(average, modifier, f\"{metric.capitalize()} is\", len(result))\n",
      "e:\\Anaconda3\\envs\\gpulocal\\Lib\\site-packages\\sklearn\\metrics\\_classification.py:1531: UndefinedMetricWarning: Recall is ill-defined and being set to 0.0 in labels with no true samples. Use `zero_division` parameter to control this behavior.\n",
      "  _warn_prf(average, modifier, f\"{metric.capitalize()} is\", len(result))\n",
      "e:\\Anaconda3\\envs\\gpulocal\\Lib\\site-packages\\sklearn\\metrics\\_classification.py:1531: UndefinedMetricWarning: Precision is ill-defined and being set to 0.0 in labels with no predicted samples. Use `zero_division` parameter to control this behavior.\n",
      "  _warn_prf(average, modifier, f\"{metric.capitalize()} is\", len(result))\n",
      "e:\\Anaconda3\\envs\\gpulocal\\Lib\\site-packages\\sklearn\\metrics\\_classification.py:1531: UndefinedMetricWarning: Recall is ill-defined and being set to 0.0 in labels with no true samples. Use `zero_division` parameter to control this behavior.\n",
      "  _warn_prf(average, modifier, f\"{metric.capitalize()} is\", len(result))\n",
      "e:\\Anaconda3\\envs\\gpulocal\\Lib\\site-packages\\seqeval\\metrics\\sequence_labeling.py:171: UserWarning: D seems not to be NE tag.\n",
      "  warnings.warn('{} seems not to be NE tag.'.format(chunk))\n",
      "e:\\Anaconda3\\envs\\gpulocal\\Lib\\site-packages\\seqeval\\metrics\\sequence_labeling.py:171: UserWarning: pl p_A seems not to be NE tag.\n",
      "  warnings.warn('{} seems not to be NE tag.'.format(chunk))\n",
      "e:\\Anaconda3\\envs\\gpulocal\\Lib\\site-packages\\seqeval\\metrics\\sequence_labeling.py:171: UserWarning: pl p_S seems not to be NE tag.\n",
      "  warnings.warn('{} seems not to be NE tag.'.format(chunk))\n",
      "e:\\Anaconda3\\envs\\gpulocal\\Lib\\site-packages\\seqeval\\metrics\\sequence_labeling.py:171: UserWarning: Z seems not to be NE tag.\n",
      "  warnings.warn('{} seems not to be NE tag.'.format(chunk))\n",
      "e:\\Anaconda3\\envs\\gpulocal\\Lib\\site-packages\\seqeval\\metrics\\sequence_labeling.py:171: UserWarning: J seems not to be NE tag.\n",
      "  warnings.warn('{} seems not to be NE tag.'.format(chunk))\n",
      "e:\\Anaconda3\\envs\\gpulocal\\Lib\\site-packages\\seqeval\\metrics\\sequence_labeling.py:171: UserWarning: sg g_S seems not to be NE tag.\n",
      "  warnings.warn('{} seems not to be NE tag.'.format(chunk))\n",
      "e:\\Anaconda3\\envs\\gpulocal\\Lib\\site-packages\\seqeval\\metrics\\sequence_labeling.py:171: UserWarning: me_V seems not to be NE tag.\n",
      "  warnings.warn('{} seems not to be NE tag.'.format(chunk))\n",
      "e:\\Anaconda3\\envs\\gpulocal\\Lib\\site-packages\\seqeval\\metrics\\sequence_labeling.py:171: UserWarning: sg el_H seems not to be NE tag.\n",
      "  warnings.warn('{} seems not to be NE tag.'.format(chunk))\n",
      "e:\\Anaconda3\\envs\\gpulocal\\Lib\\site-packages\\seqeval\\metrics\\sequence_labeling.py:171: UserWarning: Y seems not to be NE tag.\n",
      "  warnings.warn('{} seems not to be NE tag.'.format(chunk))\n",
      "e:\\Anaconda3\\envs\\gpulocal\\Lib\\site-packages\\seqeval\\metrics\\sequence_labeling.py:171: UserWarning: sg g_H seems not to be NE tag.\n",
      "  warnings.warn('{} seems not to be NE tag.'.format(chunk))\n",
      "e:\\Anaconda3\\envs\\gpulocal\\Lib\\site-packages\\seqeval\\metrics\\sequence_labeling.py:171: UserWarning: sg n_H seems not to be NE tag.\n",
      "  warnings.warn('{} seems not to be NE tag.'.format(chunk))\n",
      "e:\\Anaconda3\\envs\\gpulocal\\Lib\\site-packages\\seqeval\\metrics\\sequence_labeling.py:171: UserWarning: vad_V seems not to be NE tag.\n",
      "  warnings.warn('{} seems not to be NE tag.'.format(chunk))\n",
      "e:\\Anaconda3\\envs\\gpulocal\\Lib\\site-packages\\seqeval\\metrics\\sequence_labeling.py:171: UserWarning: K seems not to be NE tag.\n",
      "  warnings.warn('{} seems not to be NE tag.'.format(chunk))\n",
      "e:\\Anaconda3\\envs\\gpulocal\\Lib\\site-packages\\seqeval\\metrics\\sequence_labeling.py:171: UserWarning: sg el_S seems not to be NE tag.\n",
      "  warnings.warn('{} seems not to be NE tag.'.format(chunk))\n",
      "e:\\Anaconda3\\envs\\gpulocal\\Lib\\site-packages\\seqeval\\metrics\\sequence_labeling.py:171: UserWarning: sg all_S seems not to be NE tag.\n",
      "  warnings.warn('{} seems not to be NE tag.'.format(chunk))\n",
      "e:\\Anaconda3\\envs\\gpulocal\\Lib\\site-packages\\seqeval\\metrics\\sequence_labeling.py:171: UserWarning: sg g_A seems not to be NE tag.\n",
      "  warnings.warn('{} seems not to be NE tag.'.format(chunk))\n",
      "e:\\Anaconda3\\envs\\gpulocal\\Lib\\site-packages\\seqeval\\metrics\\sequence_labeling.py:171: UserWarning: sg ab_S seems not to be NE tag.\n",
      "  warnings.warn('{} seems not to be NE tag.'.format(chunk))\n",
      "e:\\Anaconda3\\envs\\gpulocal\\Lib\\site-packages\\seqeval\\metrics\\sequence_labeling.py:171: UserWarning: sg n_P seems not to be NE tag.\n",
      "  warnings.warn('{} seems not to be NE tag.'.format(chunk))\n",
      "e:\\Anaconda3\\envs\\gpulocal\\Lib\\site-packages\\seqeval\\metrics\\sequence_labeling.py:171: UserWarning: b_V seems not to be NE tag.\n",
      "  warnings.warn('{} seems not to be NE tag.'.format(chunk))\n",
      "e:\\Anaconda3\\envs\\gpulocal\\Lib\\site-packages\\seqeval\\metrics\\sequence_labeling.py:171: UserWarning: A seems not to be NE tag.\n",
      "  warnings.warn('{} seems not to be NE tag.'.format(chunk))\n",
      "e:\\Anaconda3\\envs\\gpulocal\\Lib\\site-packages\\seqeval\\metrics\\sequence_labeling.py:171: UserWarning: da_V seems not to be NE tag.\n",
      "  warnings.warn('{} seems not to be NE tag.'.format(chunk))\n",
      "e:\\Anaconda3\\envs\\gpulocal\\Lib\\site-packages\\seqeval\\metrics\\sequence_labeling.py:171: UserWarning: sg p_H seems not to be NE tag.\n",
      "  warnings.warn('{} seems not to be NE tag.'.format(chunk))\n",
      "e:\\Anaconda3\\envs\\gpulocal\\Lib\\site-packages\\seqeval\\metrics\\sequence_labeling.py:171: UserWarning: sg in_H seems not to be NE tag.\n",
      "  warnings.warn('{} seems not to be NE tag.'.format(chunk))\n",
      "e:\\Anaconda3\\envs\\gpulocal\\Lib\\site-packages\\seqeval\\metrics\\sequence_labeling.py:171: UserWarning: sg n_S seems not to be NE tag.\n",
      "  warnings.warn('{} seems not to be NE tag.'.format(chunk))\n",
      "e:\\Anaconda3\\envs\\gpulocal\\Lib\\site-packages\\seqeval\\metrics\\sequence_labeling.py:171: UserWarning: sg in_S seems not to be NE tag.\n",
      "  warnings.warn('{} seems not to be NE tag.'.format(chunk))\n",
      "e:\\Anaconda3\\envs\\gpulocal\\Lib\\site-packages\\seqeval\\metrics\\sequence_labeling.py:171: UserWarning: pl kom_H seems not to be NE tag.\n",
      "  warnings.warn('{} seems not to be NE tag.'.format(chunk))\n",
      "e:\\Anaconda3\\envs\\gpulocal\\Lib\\site-packages\\seqeval\\metrics\\sequence_labeling.py:171: UserWarning: sg tr_S seems not to be NE tag.\n",
      "  warnings.warn('{} seems not to be NE tag.'.format(chunk))\n",
      "e:\\Anaconda3\\envs\\gpulocal\\Lib\\site-packages\\seqeval\\metrics\\sequence_labeling.py:171: UserWarning: sg g_U seems not to be NE tag.\n",
      "  warnings.warn('{} seems not to be NE tag.'.format(chunk))\n",
      "e:\\Anaconda3\\envs\\gpulocal\\Lib\\site-packages\\seqeval\\metrics\\sequence_labeling.py:171: UserWarning: N seems not to be NE tag.\n",
      "  warnings.warn('{} seems not to be NE tag.'.format(chunk))\n",
      "e:\\Anaconda3\\envs\\gpulocal\\Lib\\site-packages\\seqeval\\metrics\\sequence_labeling.py:171: UserWarning: pl n_S seems not to be NE tag.\n",
      "  warnings.warn('{} seems not to be NE tag.'.format(chunk))\n",
      "e:\\Anaconda3\\envs\\gpulocal\\Lib\\site-packages\\seqeval\\metrics\\sequence_labeling.py:171: UserWarning: pl n_A seems not to be NE tag.\n",
      "  warnings.warn('{} seems not to be NE tag.'.format(chunk))\n",
      "e:\\Anaconda3\\envs\\gpulocal\\Lib\\site-packages\\seqeval\\metrics\\sequence_labeling.py:171: UserWarning: sg p_S seems not to be NE tag.\n",
      "  warnings.warn('{} seems not to be NE tag.'.format(chunk))\n",
      "e:\\Anaconda3\\envs\\gpulocal\\Lib\\site-packages\\seqeval\\metrics\\sequence_labeling.py:171: UserWarning: pl n_P seems not to be NE tag.\n",
      "  warnings.warn('{} seems not to be NE tag.'.format(chunk))\n",
      "e:\\Anaconda3\\envs\\gpulocal\\Lib\\site-packages\\seqeval\\metrics\\sequence_labeling.py:171: UserWarning: pl el_P seems not to be NE tag.\n",
      "  warnings.warn('{} seems not to be NE tag.'.format(chunk))\n",
      "e:\\Anaconda3\\envs\\gpulocal\\Lib\\site-packages\\seqeval\\metrics\\sequence_labeling.py:171: UserWarning: pl all_S seems not to be NE tag.\n",
      "  warnings.warn('{} seems not to be NE tag.'.format(chunk))\n",
      "e:\\Anaconda3\\envs\\gpulocal\\Lib\\site-packages\\seqeval\\metrics\\sequence_labeling.py:171: UserWarning: neg o_V seems not to be NE tag.\n",
      "  warnings.warn('{} seems not to be NE tag.'.format(chunk))\n",
      "e:\\Anaconda3\\envs\\gpulocal\\Lib\\site-packages\\seqeval\\metrics\\sequence_labeling.py:171: UserWarning: pl g_P seems not to be NE tag.\n",
      "  warnings.warn('{} seems not to be NE tag.'.format(chunk))\n",
      "e:\\Anaconda3\\envs\\gpulocal\\Lib\\site-packages\\seqeval\\metrics\\sequence_labeling.py:171: UserWarning: adt_A seems not to be NE tag.\n",
      "  warnings.warn('{} seems not to be NE tag.'.format(chunk))\n",
      "e:\\Anaconda3\\envs\\gpulocal\\Lib\\site-packages\\seqeval\\metrics\\sequence_labeling.py:171: UserWarning: sg ill_S seems not to be NE tag.\n",
      "  warnings.warn('{} seems not to be NE tag.'.format(chunk))\n",
      "e:\\Anaconda3\\envs\\gpulocal\\Lib\\site-packages\\seqeval\\metrics\\sequence_labeling.py:171: UserWarning: pl ad_S seems not to be NE tag.\n",
      "  warnings.warn('{} seems not to be NE tag.'.format(chunk))\n",
      "e:\\Anaconda3\\envs\\gpulocal\\Lib\\site-packages\\seqeval\\metrics\\sequence_labeling.py:171: UserWarning: sg g_Y seems not to be NE tag.\n",
      "  warnings.warn('{} seems not to be NE tag.'.format(chunk))\n",
      "e:\\Anaconda3\\envs\\gpulocal\\Lib\\site-packages\\seqeval\\metrics\\sequence_labeling.py:171: UserWarning: H seems not to be NE tag.\n",
      "  warnings.warn('{} seems not to be NE tag.'.format(chunk))\n",
      "e:\\Anaconda3\\envs\\gpulocal\\Lib\\site-packages\\seqeval\\metrics\\sequence_labeling.py:171: UserWarning: pl in_S seems not to be NE tag.\n",
      "  warnings.warn('{} seems not to be NE tag.'.format(chunk))\n",
      "e:\\Anaconda3\\envs\\gpulocal\\Lib\\site-packages\\seqeval\\metrics\\sequence_labeling.py:171: UserWarning: sg ad_S seems not to be NE tag.\n",
      "  warnings.warn('{} seems not to be NE tag.'.format(chunk))\n",
      "e:\\Anaconda3\\envs\\gpulocal\\Lib\\site-packages\\seqeval\\metrics\\sequence_labeling.py:171: UserWarning: s_V seems not to be NE tag.\n",
      "  warnings.warn('{} seems not to be NE tag.'.format(chunk))\n",
      "e:\\Anaconda3\\envs\\gpulocal\\Lib\\site-packages\\seqeval\\metrics\\sequence_labeling.py:171: UserWarning: des_V seems not to be NE tag.\n",
      "  warnings.warn('{} seems not to be NE tag.'.format(chunk))\n",
      "e:\\Anaconda3\\envs\\gpulocal\\Lib\\site-packages\\seqeval\\metrics\\sequence_labeling.py:171: UserWarning: sg ad_P seems not to be NE tag.\n",
      "  warnings.warn('{} seems not to be NE tag.'.format(chunk))\n",
      "e:\\Anaconda3\\envs\\gpulocal\\Lib\\site-packages\\seqeval\\metrics\\sequence_labeling.py:171: UserWarning: sg g_P seems not to be NE tag.\n",
      "  warnings.warn('{} seems not to be NE tag.'.format(chunk))\n",
      "e:\\Anaconda3\\envs\\gpulocal\\Lib\\site-packages\\seqeval\\metrics\\sequence_labeling.py:171: UserWarning: tud_V seems not to be NE tag.\n",
      "  warnings.warn('{} seems not to be NE tag.'.format(chunk))\n",
      "e:\\Anaconda3\\envs\\gpulocal\\Lib\\site-packages\\seqeval\\metrics\\sequence_labeling.py:171: UserWarning: ks_V seems not to be NE tag.\n",
      "  warnings.warn('{} seems not to be NE tag.'.format(chunk))\n",
      "e:\\Anaconda3\\envs\\gpulocal\\Lib\\site-packages\\seqeval\\metrics\\sequence_labeling.py:171: UserWarning: sg n_A seems not to be NE tag.\n",
      "  warnings.warn('{} seems not to be NE tag.'.format(chunk))\n",
      "e:\\Anaconda3\\envs\\gpulocal\\Lib\\site-packages\\seqeval\\metrics\\sequence_labeling.py:171: UserWarning: sg n_N seems not to be NE tag.\n",
      "  warnings.warn('{} seems not to be NE tag.'.format(chunk))\n",
      "e:\\Anaconda3\\envs\\gpulocal\\Lib\\site-packages\\seqeval\\metrics\\sequence_labeling.py:171: UserWarning: sg p_N seems not to be NE tag.\n",
      "  warnings.warn('{} seems not to be NE tag.'.format(chunk))\n",
      "e:\\Anaconda3\\envs\\gpulocal\\Lib\\site-packages\\seqeval\\metrics\\sequence_labeling.py:171: UserWarning: sg in_A seems not to be NE tag.\n",
      "  warnings.warn('{} seems not to be NE tag.'.format(chunk))\n",
      "e:\\Anaconda3\\envs\\gpulocal\\Lib\\site-packages\\seqeval\\metrics\\sequence_labeling.py:171: UserWarning: adt_S seems not to be NE tag.\n",
      "  warnings.warn('{} seems not to be NE tag.'.format(chunk))\n",
      "e:\\Anaconda3\\envs\\gpulocal\\Lib\\site-packages\\seqeval\\metrics\\sequence_labeling.py:171: UserWarning: ma_V seems not to be NE tag.\n",
      "  warnings.warn('{} seems not to be NE tag.'.format(chunk))\n",
      "e:\\Anaconda3\\envs\\gpulocal\\Lib\\site-packages\\seqeval\\metrics\\sequence_labeling.py:171: UserWarning: sg ad_A seems not to be NE tag.\n",
      "  warnings.warn('{} seems not to be NE tag.'.format(chunk))\n",
      "e:\\Anaconda3\\envs\\gpulocal\\Lib\\site-packages\\seqeval\\metrics\\sequence_labeling.py:171: UserWarning: sg ad_N seems not to be NE tag.\n",
      "  warnings.warn('{} seems not to be NE tag.'.format(chunk))\n",
      "e:\\Anaconda3\\envs\\gpulocal\\Lib\\site-packages\\seqeval\\metrics\\sequence_labeling.py:171: UserWarning: sg kom_S seems not to be NE tag.\n",
      "  warnings.warn('{} seems not to be NE tag.'.format(chunk))\n",
      "e:\\Anaconda3\\envs\\gpulocal\\Lib\\site-packages\\seqeval\\metrics\\sequence_labeling.py:171: UserWarning: nud_V seems not to be NE tag.\n",
      "  warnings.warn('{} seems not to be NE tag.'.format(chunk))\n",
      "e:\\Anaconda3\\envs\\gpulocal\\Lib\\site-packages\\seqeval\\metrics\\sequence_labeling.py:171: UserWarning: neg_V seems not to be NE tag.\n",
      "  warnings.warn('{} seems not to be NE tag.'.format(chunk))\n",
      "e:\\Anaconda3\\envs\\gpulocal\\Lib\\site-packages\\seqeval\\metrics\\sequence_labeling.py:171: UserWarning: sg p_A seems not to be NE tag.\n",
      "  warnings.warn('{} seems not to be NE tag.'.format(chunk))\n",
      "e:\\Anaconda3\\envs\\gpulocal\\Lib\\site-packages\\seqeval\\metrics\\sequence_labeling.py:171: UserWarning: sime_V seems not to be NE tag.\n",
      "  warnings.warn('{} seems not to be NE tag.'.format(chunk))\n",
      "e:\\Anaconda3\\envs\\gpulocal\\Lib\\site-packages\\seqeval\\metrics\\sequence_labeling.py:171: UserWarning: neg ks_V seems not to be NE tag.\n",
      "  warnings.warn('{} seems not to be NE tag.'.format(chunk))\n",
      "e:\\Anaconda3\\envs\\gpulocal\\Lib\\site-packages\\seqeval\\metrics\\sequence_labeling.py:171: UserWarning: sid_V seems not to be NE tag.\n",
      "  warnings.warn('{} seems not to be NE tag.'.format(chunk))\n",
      "e:\\Anaconda3\\envs\\gpulocal\\Lib\\site-packages\\seqeval\\metrics\\sequence_labeling.py:171: UserWarning: neg nud_V seems not to be NE tag.\n",
      "  warnings.warn('{} seems not to be NE tag.'.format(chunk))\n",
      "e:\\Anaconda3\\envs\\gpulocal\\Lib\\site-packages\\seqeval\\metrics\\sequence_labeling.py:171: UserWarning: sg p_P seems not to be NE tag.\n",
      "  warnings.warn('{} seems not to be NE tag.'.format(chunk))\n",
      "e:\\Anaconda3\\envs\\gpulocal\\Lib\\site-packages\\seqeval\\metrics\\sequence_labeling.py:171: UserWarning: pl kom_S seems not to be NE tag.\n",
      "  warnings.warn('{} seems not to be NE tag.'.format(chunk))\n",
      "e:\\Anaconda3\\envs\\gpulocal\\Lib\\site-packages\\seqeval\\metrics\\sequence_labeling.py:171: UserWarning: sg tr_A seems not to be NE tag.\n",
      "  warnings.warn('{} seems not to be NE tag.'.format(chunk))\n",
      "e:\\Anaconda3\\envs\\gpulocal\\Lib\\site-packages\\seqeval\\metrics\\sequence_labeling.py:171: UserWarning: sg n_C seems not to be NE tag.\n",
      "  warnings.warn('{} seems not to be NE tag.'.format(chunk))\n",
      "e:\\Anaconda3\\envs\\gpulocal\\Lib\\site-packages\\seqeval\\metrics\\sequence_labeling.py:171: UserWarning: sg ad_H seems not to be NE tag.\n",
      "  warnings.warn('{} seems not to be NE tag.'.format(chunk))\n",
      "e:\\Anaconda3\\envs\\gpulocal\\Lib\\site-packages\\seqeval\\metrics\\sequence_labeling.py:171: UserWarning: ti_V seems not to be NE tag.\n",
      "  warnings.warn('{} seems not to be NE tag.'.format(chunk))\n",
      "e:\\Anaconda3\\envs\\gpulocal\\Lib\\site-packages\\seqeval\\metrics\\sequence_labeling.py:171: UserWarning: pl el_S seems not to be NE tag.\n",
      "  warnings.warn('{} seems not to be NE tag.'.format(chunk))\n",
      "e:\\Anaconda3\\envs\\gpulocal\\Lib\\site-packages\\seqeval\\metrics\\sequence_labeling.py:171: UserWarning: sg tr_C seems not to be NE tag.\n",
      "  warnings.warn('{} seems not to be NE tag.'.format(chunk))\n",
      "e:\\Anaconda3\\envs\\gpulocal\\Lib\\site-packages\\seqeval\\metrics\\sequence_labeling.py:171: UserWarning: sg g_N seems not to be NE tag.\n",
      "  warnings.warn('{} seems not to be NE tag.'.format(chunk))\n",
      "e:\\Anaconda3\\envs\\gpulocal\\Lib\\site-packages\\seqeval\\metrics\\sequence_labeling.py:171: UserWarning: sg abl_H seems not to be NE tag.\n",
      "  warnings.warn('{} seems not to be NE tag.'.format(chunk))\n",
      "e:\\Anaconda3\\envs\\gpulocal\\Lib\\site-packages\\seqeval\\metrics\\sequence_labeling.py:171: UserWarning: sg abl_Y seems not to be NE tag.\n",
      "  warnings.warn('{} seems not to be NE tag.'.format(chunk))\n",
      "e:\\Anaconda3\\envs\\gpulocal\\Lib\\site-packages\\seqeval\\metrics\\sequence_labeling.py:171: UserWarning: sg es_S seems not to be NE tag.\n",
      "  warnings.warn('{} seems not to be NE tag.'.format(chunk))\n",
      "e:\\Anaconda3\\envs\\gpulocal\\Lib\\site-packages\\seqeval\\metrics\\sequence_labeling.py:171: UserWarning: sg abl_S seems not to be NE tag.\n",
      "  warnings.warn('{} seems not to be NE tag.'.format(chunk))\n",
      "e:\\Anaconda3\\envs\\gpulocal\\Lib\\site-packages\\seqeval\\metrics\\sequence_labeling.py:171: UserWarning: sg all_P seems not to be NE tag.\n",
      "  warnings.warn('{} seems not to be NE tag.'.format(chunk))\n",
      "e:\\Anaconda3\\envs\\gpulocal\\Lib\\site-packages\\seqeval\\metrics\\sequence_labeling.py:171: UserWarning: pl g_S seems not to be NE tag.\n",
      "  warnings.warn('{} seems not to be NE tag.'.format(chunk))\n",
      "e:\\Anaconda3\\envs\\gpulocal\\Lib\\site-packages\\seqeval\\metrics\\sequence_labeling.py:171: UserWarning: sg in_P seems not to be NE tag.\n",
      "  warnings.warn('{} seems not to be NE tag.'.format(chunk))\n",
      "e:\\Anaconda3\\envs\\gpulocal\\Lib\\site-packages\\seqeval\\metrics\\sequence_labeling.py:171: UserWarning: G seems not to be NE tag.\n",
      "  warnings.warn('{} seems not to be NE tag.'.format(chunk))\n",
      "e:\\Anaconda3\\envs\\gpulocal\\Lib\\site-packages\\seqeval\\metrics\\sequence_labeling.py:171: UserWarning: sin_V seems not to be NE tag.\n",
      "  warnings.warn('{} seems not to be NE tag.'.format(chunk))\n",
      "e:\\Anaconda3\\envs\\gpulocal\\Lib\\site-packages\\seqeval\\metrics\\sequence_labeling.py:171: UserWarning: sg n_O seems not to be NE tag.\n",
      "  warnings.warn('{} seems not to be NE tag.'.format(chunk))\n",
      "e:\\Anaconda3\\envs\\gpulocal\\Lib\\site-packages\\seqeval\\metrics\\sequence_labeling.py:171: UserWarning: sg kom_H seems not to be NE tag.\n",
      "  warnings.warn('{} seems not to be NE tag.'.format(chunk))\n",
      "e:\\Anaconda3\\envs\\gpulocal\\Lib\\site-packages\\seqeval\\metrics\\sequence_labeling.py:171: UserWarning: pl p_P seems not to be NE tag.\n",
      "  warnings.warn('{} seems not to be NE tag.'.format(chunk))\n",
      "e:\\Anaconda3\\envs\\gpulocal\\Lib\\site-packages\\seqeval\\metrics\\sequence_labeling.py:171: UserWarning: sg tr_N seems not to be NE tag.\n",
      "  warnings.warn('{} seems not to be NE tag.'.format(chunk))\n",
      "e:\\Anaconda3\\envs\\gpulocal\\Lib\\site-packages\\seqeval\\metrics\\sequence_labeling.py:171: UserWarning: takse_V seems not to be NE tag.\n",
      "  warnings.warn('{} seems not to be NE tag.'.format(chunk))\n",
      "e:\\Anaconda3\\envs\\gpulocal\\Lib\\site-packages\\seqeval\\metrics\\sequence_labeling.py:171: UserWarning: pl all_P seems not to be NE tag.\n",
      "  warnings.warn('{} seems not to be NE tag.'.format(chunk))\n",
      "e:\\Anaconda3\\envs\\gpulocal\\Lib\\site-packages\\seqeval\\metrics\\sequence_labeling.py:171: UserWarning: sg tr_O seems not to be NE tag.\n",
      "  warnings.warn('{} seems not to be NE tag.'.format(chunk))\n",
      "e:\\Anaconda3\\envs\\gpulocal\\Lib\\site-packages\\seqeval\\metrics\\sequence_labeling.py:171: UserWarning: sg ill_A seems not to be NE tag.\n",
      "  warnings.warn('{} seems not to be NE tag.'.format(chunk))\n",
      "e:\\Anaconda3\\envs\\gpulocal\\Lib\\site-packages\\seqeval\\metrics\\sequence_labeling.py:171: UserWarning: pl all_A seems not to be NE tag.\n",
      "  warnings.warn('{} seems not to be NE tag.'.format(chunk))\n",
      "e:\\Anaconda3\\envs\\gpulocal\\Lib\\site-packages\\seqeval\\metrics\\sequence_labeling.py:171: UserWarning: sg ill_H seems not to be NE tag.\n",
      "  warnings.warn('{} seems not to be NE tag.'.format(chunk))\n",
      "e:\\Anaconda3\\envs\\gpulocal\\Lib\\site-packages\\seqeval\\metrics\\sequence_labeling.py:171: UserWarning: pl abl_S seems not to be NE tag.\n",
      "  warnings.warn('{} seems not to be NE tag.'.format(chunk))\n",
      "e:\\Anaconda3\\envs\\gpulocal\\Lib\\site-packages\\seqeval\\metrics\\sequence_labeling.py:171: UserWarning: sg n_U seems not to be NE tag.\n",
      "  warnings.warn('{} seems not to be NE tag.'.format(chunk))\n",
      "e:\\Anaconda3\\envs\\gpulocal\\Lib\\site-packages\\seqeval\\metrics\\sequence_labeling.py:171: UserWarning: pl g_H seems not to be NE tag.\n",
      "  warnings.warn('{} seems not to be NE tag.'.format(chunk))\n",
      "e:\\Anaconda3\\envs\\gpulocal\\Lib\\site-packages\\seqeval\\metrics\\sequence_labeling.py:171: UserWarning: sg ter_S seems not to be NE tag.\n",
      "  warnings.warn('{} seems not to be NE tag.'.format(chunk))\n",
      "e:\\Anaconda3\\envs\\gpulocal\\Lib\\site-packages\\seqeval\\metrics\\sequence_labeling.py:171: UserWarning: V seems not to be NE tag.\n",
      "  warnings.warn('{} seems not to be NE tag.'.format(chunk))\n",
      "e:\\Anaconda3\\envs\\gpulocal\\Lib\\site-packages\\seqeval\\metrics\\sequence_labeling.py:171: UserWarning: sg all_N seems not to be NE tag.\n",
      "  warnings.warn('{} seems not to be NE tag.'.format(chunk))\n",
      "e:\\Anaconda3\\envs\\gpulocal\\Lib\\site-packages\\seqeval\\metrics\\sequence_labeling.py:171: UserWarning: ksid_V seems not to be NE tag.\n",
      "  warnings.warn('{} seems not to be NE tag.'.format(chunk))\n",
      "e:\\Anaconda3\\envs\\gpulocal\\Lib\\site-packages\\seqeval\\metrics\\sequence_labeling.py:171: UserWarning: sg g_O seems not to be NE tag.\n",
      "  warnings.warn('{} seems not to be NE tag.'.format(chunk))\n",
      "e:\\Anaconda3\\envs\\gpulocal\\Lib\\site-packages\\seqeval\\metrics\\sequence_labeling.py:171: UserWarning: pl g_A seems not to be NE tag.\n",
      "  warnings.warn('{} seems not to be NE tag.'.format(chunk))\n",
      "e:\\Anaconda3\\envs\\gpulocal\\Lib\\site-packages\\seqeval\\metrics\\sequence_labeling.py:171: UserWarning: sg ad_U seems not to be NE tag.\n",
      "  warnings.warn('{} seems not to be NE tag.'.format(chunk))\n",
      "e:\\Anaconda3\\envs\\gpulocal\\Lib\\site-packages\\seqeval\\metrics\\sequence_labeling.py:171: UserWarning: te_V seems not to be NE tag.\n",
      "  warnings.warn('{} seems not to be NE tag.'.format(chunk))\n",
      "e:\\Anaconda3\\envs\\gpulocal\\Lib\\site-packages\\seqeval\\metrics\\sequence_labeling.py:171: UserWarning: sg all_A seems not to be NE tag.\n",
      "  warnings.warn('{} seems not to be NE tag.'.format(chunk))\n",
      "e:\\Anaconda3\\envs\\gpulocal\\Lib\\site-packages\\seqeval\\metrics\\sequence_labeling.py:171: UserWarning: pl el_O seems not to be NE tag.\n",
      "  warnings.warn('{} seems not to be NE tag.'.format(chunk))\n",
      "e:\\Anaconda3\\envs\\gpulocal\\Lib\\site-packages\\seqeval\\metrics\\sequence_labeling.py:171: UserWarning: n_V seems not to be NE tag.\n",
      "  warnings.warn('{} seems not to be NE tag.'.format(chunk))\n",
      "e:\\Anaconda3\\envs\\gpulocal\\Lib\\site-packages\\seqeval\\metrics\\sequence_labeling.py:171: UserWarning: sg all_H seems not to be NE tag.\n",
      "  warnings.warn('{} seems not to be NE tag.'.format(chunk))\n",
      "e:\\Anaconda3\\envs\\gpulocal\\Lib\\site-packages\\seqeval\\metrics\\sequence_labeling.py:171: UserWarning: sg el_A seems not to be NE tag.\n",
      "  warnings.warn('{} seems not to be NE tag.'.format(chunk))\n",
      "e:\\Anaconda3\\envs\\gpulocal\\Lib\\site-packages\\seqeval\\metrics\\sequence_labeling.py:171: UserWarning: ksin_V seems not to be NE tag.\n",
      "  warnings.warn('{} seems not to be NE tag.'.format(chunk))\n",
      "e:\\Anaconda3\\envs\\gpulocal\\Lib\\site-packages\\seqeval\\metrics\\sequence_labeling.py:171: UserWarning: pl in_P seems not to be NE tag.\n",
      "  warnings.warn('{} seems not to be NE tag.'.format(chunk))\n",
      "e:\\Anaconda3\\envs\\gpulocal\\Lib\\site-packages\\seqeval\\metrics\\sequence_labeling.py:171: UserWarning: pl in_A seems not to be NE tag.\n",
      "  warnings.warn('{} seems not to be NE tag.'.format(chunk))\n",
      "e:\\Anaconda3\\envs\\gpulocal\\Lib\\site-packages\\seqeval\\metrics\\sequence_labeling.py:171: UserWarning: pl in_C seems not to be NE tag.\n",
      "  warnings.warn('{} seems not to be NE tag.'.format(chunk))\n",
      "e:\\Anaconda3\\envs\\gpulocal\\Lib\\site-packages\\seqeval\\metrics\\sequence_labeling.py:171: UserWarning: ksite_V seems not to be NE tag.\n",
      "  warnings.warn('{} seems not to be NE tag.'.format(chunk))\n",
      "e:\\Anaconda3\\envs\\gpulocal\\Lib\\site-packages\\seqeval\\metrics\\sequence_labeling.py:171: UserWarning: pl el_A seems not to be NE tag.\n",
      "  warnings.warn('{} seems not to be NE tag.'.format(chunk))\n",
      "e:\\Anaconda3\\envs\\gpulocal\\Lib\\site-packages\\seqeval\\metrics\\sequence_labeling.py:171: UserWarning: pl ad_P seems not to be NE tag.\n",
      "  warnings.warn('{} seems not to be NE tag.'.format(chunk))\n",
      "e:\\Anaconda3\\envs\\gpulocal\\Lib\\site-packages\\seqeval\\metrics\\sequence_labeling.py:171: UserWarning: ta_V seems not to be NE tag.\n",
      "  warnings.warn('{} seems not to be NE tag.'.format(chunk))\n",
      "e:\\Anaconda3\\envs\\gpulocal\\Lib\\site-packages\\seqeval\\metrics\\sequence_labeling.py:171: UserWarning: pl n_H seems not to be NE tag.\n",
      "  warnings.warn('{} seems not to be NE tag.'.format(chunk))\n",
      "e:\\Anaconda3\\envs\\gpulocal\\Lib\\site-packages\\seqeval\\metrics\\sequence_labeling.py:171: UserWarning: pl es_A seems not to be NE tag.\n",
      "  warnings.warn('{} seems not to be NE tag.'.format(chunk))\n",
      "e:\\Anaconda3\\envs\\gpulocal\\Lib\\site-packages\\seqeval\\metrics\\sequence_labeling.py:171: UserWarning: pl tr_S seems not to be NE tag.\n",
      "  warnings.warn('{} seems not to be NE tag.'.format(chunk))\n",
      "e:\\Anaconda3\\envs\\gpulocal\\Lib\\site-packages\\seqeval\\metrics\\sequence_labeling.py:171: UserWarning: sg p_C seems not to be NE tag.\n",
      "  warnings.warn('{} seems not to be NE tag.'.format(chunk))\n",
      "e:\\Anaconda3\\envs\\gpulocal\\Lib\\site-packages\\seqeval\\metrics\\sequence_labeling.py:171: UserWarning: pl n_C seems not to be NE tag.\n",
      "  warnings.warn('{} seems not to be NE tag.'.format(chunk))\n",
      "e:\\Anaconda3\\envs\\gpulocal\\Lib\\site-packages\\seqeval\\metrics\\sequence_labeling.py:171: UserWarning: sg el_P seems not to be NE tag.\n",
      "  warnings.warn('{} seems not to be NE tag.'.format(chunk))\n",
      "e:\\Anaconda3\\envs\\gpulocal\\Lib\\site-packages\\seqeval\\metrics\\sequence_labeling.py:171: UserWarning: pl g_C seems not to be NE tag.\n",
      "  warnings.warn('{} seems not to be NE tag.'.format(chunk))\n",
      "e:\\Anaconda3\\envs\\gpulocal\\Lib\\site-packages\\seqeval\\metrics\\sequence_labeling.py:171: UserWarning: pl ad_A seems not to be NE tag.\n",
      "  warnings.warn('{} seems not to be NE tag.'.format(chunk))\n",
      "e:\\Anaconda3\\envs\\gpulocal\\Lib\\site-packages\\seqeval\\metrics\\sequence_labeling.py:171: UserWarning: mas_V seems not to be NE tag.\n",
      "  warnings.warn('{} seems not to be NE tag.'.format(chunk))\n",
      "e:\\Anaconda3\\envs\\gpulocal\\Lib\\site-packages\\seqeval\\metrics\\sequence_labeling.py:171: UserWarning: sg tr_P seems not to be NE tag.\n",
      "  warnings.warn('{} seems not to be NE tag.'.format(chunk))\n",
      "e:\\Anaconda3\\envs\\gpulocal\\Lib\\site-packages\\seqeval\\metrics\\sequence_labeling.py:171: UserWarning: sg ill_P seems not to be NE tag.\n",
      "  warnings.warn('{} seems not to be NE tag.'.format(chunk))\n",
      "e:\\Anaconda3\\envs\\gpulocal\\Lib\\site-packages\\seqeval\\metrics\\sequence_labeling.py:171: UserWarning: sg es_A seems not to be NE tag.\n",
      "  warnings.warn('{} seems not to be NE tag.'.format(chunk))\n",
      "e:\\Anaconda3\\envs\\gpulocal\\Lib\\site-packages\\seqeval\\metrics\\sequence_labeling.py:171: UserWarning: X seems not to be NE tag.\n",
      "  warnings.warn('{} seems not to be NE tag.'.format(chunk))\n",
      "e:\\Anaconda3\\envs\\gpulocal\\Lib\\site-packages\\seqeval\\metrics\\sequence_labeling.py:171: UserWarning: pl g_U seems not to be NE tag.\n",
      "  warnings.warn('{} seems not to be NE tag.'.format(chunk))\n",
      "e:\\Anaconda3\\envs\\gpulocal\\Lib\\site-packages\\seqeval\\metrics\\sequence_labeling.py:171: UserWarning: sg ad_O seems not to be NE tag.\n",
      "  warnings.warn('{} seems not to be NE tag.'.format(chunk))\n",
      "e:\\Anaconda3\\envs\\gpulocal\\Lib\\site-packages\\seqeval\\metrics\\sequence_labeling.py:171: UserWarning: pl abl_P seems not to be NE tag.\n",
      "  warnings.warn('{} seems not to be NE tag.'.format(chunk))\n",
      "e:\\Anaconda3\\envs\\gpulocal\\Lib\\site-packages\\seqeval\\metrics\\sequence_labeling.py:171: UserWarning: sg ad_C seems not to be NE tag.\n",
      "  warnings.warn('{} seems not to be NE tag.'.format(chunk))\n",
      "e:\\Anaconda3\\envs\\gpulocal\\Lib\\site-packages\\seqeval\\metrics\\sequence_labeling.py:171: UserWarning: sg kom_P seems not to be NE tag.\n",
      "  warnings.warn('{} seems not to be NE tag.'.format(chunk))\n",
      "e:\\Anaconda3\\envs\\gpulocal\\Lib\\site-packages\\seqeval\\metrics\\sequence_labeling.py:171: UserWarning: ? seems not to be NE tag.\n",
      "  warnings.warn('{} seems not to be NE tag.'.format(chunk))\n",
      "e:\\Anaconda3\\envs\\gpulocal\\Lib\\site-packages\\seqeval\\metrics\\sequence_labeling.py:171: UserWarning: mast_V seems not to be NE tag.\n",
      "  warnings.warn('{} seems not to be NE tag.'.format(chunk))\n",
      "e:\\Anaconda3\\envs\\gpulocal\\Lib\\site-packages\\seqeval\\metrics\\sequence_labeling.py:171: UserWarning: mata_V seems not to be NE tag.\n",
      "  warnings.warn('{} seems not to be NE tag.'.format(chunk))\n",
      "e:\\Anaconda3\\envs\\gpulocal\\Lib\\site-packages\\seqeval\\metrics\\sequence_labeling.py:171: UserWarning: taks_V seems not to be NE tag.\n",
      "  warnings.warn('{} seems not to be NE tag.'.format(chunk))\n",
      "e:\\Anaconda3\\envs\\gpulocal\\Lib\\site-packages\\seqeval\\metrics\\sequence_labeling.py:171: UserWarning: d_V seems not to be NE tag.\n",
      "  warnings.warn('{} seems not to be NE tag.'.format(chunk))\n",
      "e:\\Anaconda3\\envs\\gpulocal\\Lib\\site-packages\\seqeval\\metrics\\sequence_labeling.py:171: UserWarning: sg in_C seems not to be NE tag.\n",
      "  warnings.warn('{} seems not to be NE tag.'.format(chunk))\n",
      "e:\\Anaconda3\\envs\\gpulocal\\Lib\\site-packages\\seqeval\\metrics\\sequence_labeling.py:171: UserWarning: sg p_O seems not to be NE tag.\n",
      "  warnings.warn('{} seems not to be NE tag.'.format(chunk))\n",
      "e:\\Anaconda3\\envs\\gpulocal\\Lib\\site-packages\\seqeval\\metrics\\sequence_labeling.py:171: UserWarning: sg p_U seems not to be NE tag.\n",
      "  warnings.warn('{} seems not to be NE tag.'.format(chunk))\n",
      "e:\\Anaconda3\\envs\\gpulocal\\Lib\\site-packages\\seqeval\\metrics\\sequence_labeling.py:171: UserWarning: pl es_S seems not to be NE tag.\n",
      "  warnings.warn('{} seems not to be NE tag.'.format(chunk))\n",
      "e:\\Anaconda3\\envs\\gpulocal\\Lib\\site-packages\\seqeval\\metrics\\sequence_labeling.py:171: UserWarning: sg g_C seems not to be NE tag.\n",
      "  warnings.warn('{} seems not to be NE tag.'.format(chunk))\n",
      "e:\\Anaconda3\\envs\\gpulocal\\Lib\\site-packages\\seqeval\\metrics\\sequence_labeling.py:171: UserWarning: pl n_U seems not to be NE tag.\n",
      "  warnings.warn('{} seems not to be NE tag.'.format(chunk))\n",
      "e:\\Anaconda3\\envs\\gpulocal\\Lib\\site-packages\\seqeval\\metrics\\sequence_labeling.py:171: UserWarning: pl ad_C seems not to be NE tag.\n",
      "  warnings.warn('{} seems not to be NE tag.'.format(chunk))\n",
      "e:\\Anaconda3\\envs\\gpulocal\\Lib\\site-packages\\seqeval\\metrics\\sequence_labeling.py:171: UserWarning: maks_V seems not to be NE tag.\n",
      "  warnings.warn('{} seems not to be NE tag.'.format(chunk))\n",
      "e:\\Anaconda3\\envs\\gpulocal\\Lib\\site-packages\\seqeval\\metrics\\sequence_labeling.py:171: UserWarning: sg el_N seems not to be NE tag.\n",
      "  warnings.warn('{} seems not to be NE tag.'.format(chunk))\n",
      "e:\\Anaconda3\\envs\\gpulocal\\Lib\\site-packages\\seqeval\\metrics\\sequence_labeling.py:171: UserWarning: sg abl_A seems not to be NE tag.\n",
      "  warnings.warn('{} seems not to be NE tag.'.format(chunk))\n",
      "e:\\Anaconda3\\envs\\gpulocal\\Lib\\site-packages\\seqeval\\metrics\\sequence_labeling.py:171: UserWarning: adt_N seems not to be NE tag.\n",
      "  warnings.warn('{} seems not to be NE tag.'.format(chunk))\n",
      "e:\\Anaconda3\\envs\\gpulocal\\Lib\\site-packages\\seqeval\\metrics\\sequence_labeling.py:171: UserWarning: pl in_H seems not to be NE tag.\n",
      "  warnings.warn('{} seems not to be NE tag.'.format(chunk))\n",
      "e:\\Anaconda3\\envs\\gpulocal\\Lib\\site-packages\\seqeval\\metrics\\sequence_labeling.py:171: UserWarning: pl ill_S seems not to be NE tag.\n",
      "  warnings.warn('{} seems not to be NE tag.'.format(chunk))\n",
      "e:\\Anaconda3\\envs\\gpulocal\\Lib\\site-packages\\seqeval\\metrics\\sequence_labeling.py:171: UserWarning: pl tr_P seems not to be NE tag.\n",
      "  warnings.warn('{} seems not to be NE tag.'.format(chunk))\n",
      "e:\\Anaconda3\\envs\\gpulocal\\Lib\\site-packages\\seqeval\\metrics\\sequence_labeling.py:171: UserWarning: vat_V seems not to be NE tag.\n",
      "  warnings.warn('{} seems not to be NE tag.'.format(chunk))\n",
      "e:\\Anaconda3\\envs\\gpulocal\\Lib\\site-packages\\seqeval\\metrics\\sequence_labeling.py:171: UserWarning: sg tr_U seems not to be NE tag.\n",
      "  warnings.warn('{} seems not to be NE tag.'.format(chunk))\n",
      "e:\\Anaconda3\\envs\\gpulocal\\Lib\\site-packages\\seqeval\\metrics\\sequence_labeling.py:171: UserWarning: sg tr_H seems not to be NE tag.\n",
      "  warnings.warn('{} seems not to be NE tag.'.format(chunk))\n",
      "e:\\Anaconda3\\envs\\gpulocal\\Lib\\site-packages\\seqeval\\metrics\\sequence_labeling.py:171: UserWarning: pl all_C seems not to be NE tag.\n",
      "  warnings.warn('{} seems not to be NE tag.'.format(chunk))\n",
      "e:\\Anaconda3\\envs\\gpulocal\\Lib\\site-packages\\seqeval\\metrics\\sequence_labeling.py:171: UserWarning: pl g_O seems not to be NE tag.\n",
      "  warnings.warn('{} seems not to be NE tag.'.format(chunk))\n",
      "e:\\Anaconda3\\envs\\gpulocal\\Lib\\site-packages\\seqeval\\metrics\\sequence_labeling.py:171: UserWarning: pl p_H seems not to be NE tag.\n",
      "  warnings.warn('{} seems not to be NE tag.'.format(chunk))\n",
      "e:\\Anaconda3\\envs\\gpulocal\\Lib\\site-packages\\seqeval\\metrics\\sequence_labeling.py:171: UserWarning: adt_H seems not to be NE tag.\n",
      "  warnings.warn('{} seems not to be NE tag.'.format(chunk))\n",
      "e:\\Anaconda3\\envs\\gpulocal\\Lib\\site-packages\\seqeval\\metrics\\sequence_labeling.py:171: UserWarning: ge_V seems not to be NE tag.\n",
      "  warnings.warn('{} seems not to be NE tag.'.format(chunk))\n",
      "e:\\Anaconda3\\envs\\gpulocal\\Lib\\site-packages\\seqeval\\metrics\\sequence_labeling.py:171: UserWarning: pl p_C seems not to be NE tag.\n",
      "  warnings.warn('{} seems not to be NE tag.'.format(chunk))\n",
      "e:\\Anaconda3\\envs\\gpulocal\\Lib\\site-packages\\seqeval\\metrics\\sequence_labeling.py:171: UserWarning: sg in_N seems not to be NE tag.\n",
      "  warnings.warn('{} seems not to be NE tag.'.format(chunk))\n",
      "e:\\Anaconda3\\envs\\gpulocal\\Lib\\site-packages\\seqeval\\metrics\\sequence_labeling.py:171: UserWarning: sg in_Y seems not to be NE tag.\n",
      "  warnings.warn('{} seems not to be NE tag.'.format(chunk))\n",
      "e:\\Anaconda3\\envs\\gpulocal\\Lib\\site-packages\\seqeval\\metrics\\sequence_labeling.py:171: UserWarning: o_V seems not to be NE tag.\n",
      "  warnings.warn('{} seems not to be NE tag.'.format(chunk))\n",
      "e:\\Anaconda3\\envs\\gpulocal\\Lib\\site-packages\\seqeval\\metrics\\sequence_labeling.py:171: UserWarning: pl ill_A seems not to be NE tag.\n",
      "  warnings.warn('{} seems not to be NE tag.'.format(chunk))\n",
      "e:\\Anaconda3\\envs\\gpulocal\\Lib\\site-packages\\seqeval\\metrics\\sequence_labeling.py:171: UserWarning: sg es_P seems not to be NE tag.\n",
      "  warnings.warn('{} seems not to be NE tag.'.format(chunk))\n",
      "e:\\Anaconda3\\envs\\gpulocal\\Lib\\site-packages\\seqeval\\metrics\\sequence_labeling.py:171: UserWarning: pl ad_O seems not to be NE tag.\n",
      "  warnings.warn('{} seems not to be NE tag.'.format(chunk))\n",
      "e:\\Anaconda3\\envs\\gpulocal\\Lib\\site-packages\\seqeval\\metrics\\sequence_labeling.py:171: UserWarning: pl ter_S seems not to be NE tag.\n",
      "  warnings.warn('{} seems not to be NE tag.'.format(chunk))\n",
      "e:\\Anaconda3\\envs\\gpulocal\\Lib\\site-packages\\seqeval\\metrics\\sequence_labeling.py:171: UserWarning: P seems not to be NE tag.\n",
      "  warnings.warn('{} seems not to be NE tag.'.format(chunk))\n",
      "e:\\Anaconda3\\envs\\gpulocal\\Lib\\site-packages\\seqeval\\metrics\\sequence_labeling.py:171: UserWarning: adt_O seems not to be NE tag.\n",
      "  warnings.warn('{} seems not to be NE tag.'.format(chunk))\n",
      "e:\\Anaconda3\\envs\\gpulocal\\Lib\\site-packages\\seqeval\\metrics\\sequence_labeling.py:171: UserWarning: pl tr_A seems not to be NE tag.\n",
      "  warnings.warn('{} seems not to be NE tag.'.format(chunk))\n",
      "e:\\Anaconda3\\envs\\gpulocal\\Lib\\site-packages\\seqeval\\metrics\\sequence_labeling.py:171: UserWarning: sg es_O seems not to be NE tag.\n",
      "  warnings.warn('{} seems not to be NE tag.'.format(chunk))\n",
      "e:\\Anaconda3\\envs\\gpulocal\\Lib\\site-packages\\seqeval\\metrics\\sequence_labeling.py:171: UserWarning: sg abl_O seems not to be NE tag.\n",
      "  warnings.warn('{} seems not to be NE tag.'.format(chunk))\n",
      "e:\\Anaconda3\\envs\\gpulocal\\Lib\\site-packages\\seqeval\\metrics\\sequence_labeling.py:171: UserWarning: sg all_C seems not to be NE tag.\n",
      "  warnings.warn('{} seems not to be NE tag.'.format(chunk))\n",
      "e:\\Anaconda3\\envs\\gpulocal\\Lib\\site-packages\\seqeval\\metrics\\sequence_labeling.py:171: UserWarning: pl ab_S seems not to be NE tag.\n",
      "  warnings.warn('{} seems not to be NE tag.'.format(chunk))\n",
      "e:\\Anaconda3\\envs\\gpulocal\\Lib\\site-packages\\seqeval\\metrics\\sequence_labeling.py:171: UserWarning: pl ter_P seems not to be NE tag.\n",
      "  warnings.warn('{} seems not to be NE tag.'.format(chunk))\n",
      "e:\\Anaconda3\\envs\\gpulocal\\Lib\\site-packages\\seqeval\\metrics\\sequence_labeling.py:171: UserWarning: ksime_V seems not to be NE tag.\n",
      "  warnings.warn('{} seems not to be NE tag.'.format(chunk))\n",
      "e:\\Anaconda3\\envs\\gpulocal\\Lib\\site-packages\\seqeval\\metrics\\sequence_labeling.py:171: UserWarning: gu_V seems not to be NE tag.\n",
      "  warnings.warn('{} seems not to be NE tag.'.format(chunk))\n",
      "e:\\Anaconda3\\envs\\gpulocal\\Lib\\site-packages\\seqeval\\metrics\\sequence_labeling.py:171: UserWarning: pl tr_C seems not to be NE tag.\n",
      "  warnings.warn('{} seems not to be NE tag.'.format(chunk))\n",
      "e:\\Anaconda3\\envs\\gpulocal\\Lib\\site-packages\\seqeval\\metrics\\sequence_labeling.py:171: UserWarning: pl n_O seems not to be NE tag.\n",
      "  warnings.warn('{} seems not to be NE tag.'.format(chunk))\n",
      "e:\\Anaconda3\\envs\\gpulocal\\Lib\\site-packages\\seqeval\\metrics\\sequence_labeling.py:171: UserWarning: sg ter_P seems not to be NE tag.\n",
      "  warnings.warn('{} seems not to be NE tag.'.format(chunk))\n",
      "e:\\Anaconda3\\envs\\gpulocal\\Lib\\site-packages\\seqeval\\metrics\\sequence_labeling.py:171: UserWarning: sg in_O seems not to be NE tag.\n",
      "  warnings.warn('{} seems not to be NE tag.'.format(chunk))\n",
      "e:\\Anaconda3\\envs\\gpulocal\\Lib\\site-packages\\seqeval\\metrics\\sequence_labeling.py:171: UserWarning: sg p_Y seems not to be NE tag.\n",
      "  warnings.warn('{} seems not to be NE tag.'.format(chunk))\n",
      "e:\\Anaconda3\\envs\\gpulocal\\Lib\\site-packages\\seqeval\\metrics\\sequence_labeling.py:171: UserWarning: pl kom_P seems not to be NE tag.\n",
      "  warnings.warn('{} seems not to be NE tag.'.format(chunk))\n",
      "e:\\Anaconda3\\envs\\gpulocal\\Lib\\site-packages\\seqeval\\metrics\\sequence_labeling.py:171: UserWarning: pl abl_A seems not to be NE tag.\n",
      "  warnings.warn('{} seems not to be NE tag.'.format(chunk))\n",
      "e:\\Anaconda3\\envs\\gpulocal\\Lib\\site-packages\\seqeval\\metrics\\sequence_labeling.py:171: UserWarning: sg all_Y seems not to be NE tag.\n",
      "  warnings.warn('{} seems not to be NE tag.'.format(chunk))\n",
      "e:\\Anaconda3\\envs\\gpulocal\\Lib\\site-packages\\seqeval\\metrics\\sequence_labeling.py:171: UserWarning: gem_V seems not to be NE tag.\n",
      "  warnings.warn('{} seems not to be NE tag.'.format(chunk))\n",
      "e:\\Anaconda3\\envs\\gpulocal\\Lib\\site-packages\\seqeval\\metrics\\sequence_labeling.py:171: UserWarning: sg ter_A seems not to be NE tag.\n",
      "  warnings.warn('{} seems not to be NE tag.'.format(chunk))\n",
      "e:\\Anaconda3\\envs\\gpulocal\\Lib\\site-packages\\seqeval\\metrics\\sequence_labeling.py:171: UserWarning: pl el_C seems not to be NE tag.\n",
      "  warnings.warn('{} seems not to be NE tag.'.format(chunk))\n",
      "e:\\Anaconda3\\envs\\gpulocal\\Lib\\site-packages\\seqeval\\metrics\\sequence_labeling.py:171: UserWarning: tama_V seems not to be NE tag.\n",
      "  warnings.warn('{} seems not to be NE tag.'.format(chunk))\n",
      "e:\\Anaconda3\\envs\\gpulocal\\Lib\\site-packages\\seqeval\\metrics\\sequence_labeling.py:171: UserWarning: adt_P seems not to be NE tag.\n",
      "  warnings.warn('{} seems not to be NE tag.'.format(chunk))\n",
      "e:\\Anaconda3\\envs\\gpulocal\\Lib\\site-packages\\seqeval\\metrics\\sequence_labeling.py:171: UserWarning: sg ter_H seems not to be NE tag.\n",
      "  warnings.warn('{} seems not to be NE tag.'.format(chunk))\n",
      "e:\\Anaconda3\\envs\\gpulocal\\Lib\\site-packages\\seqeval\\metrics\\sequence_labeling.py:171: UserWarning: sg ad_Y seems not to be NE tag.\n",
      "  warnings.warn('{} seems not to be NE tag.'.format(chunk))\n",
      "e:\\Anaconda3\\envs\\gpulocal\\Lib\\site-packages\\seqeval\\metrics\\sequence_labeling.py:171: UserWarning: sg in_U seems not to be NE tag.\n",
      "  warnings.warn('{} seems not to be NE tag.'.format(chunk))\n",
      "e:\\Anaconda3\\envs\\gpulocal\\Lib\\site-packages\\seqeval\\metrics\\sequence_labeling.py:171: UserWarning: site_V seems not to be NE tag.\n",
      "  warnings.warn('{} seems not to be NE tag.'.format(chunk))\n",
      "e:\\Anaconda3\\envs\\gpulocal\\Lib\\site-packages\\seqeval\\metrics\\sequence_labeling.py:171: UserWarning: sg abl_P seems not to be NE tag.\n",
      "  warnings.warn('{} seems not to be NE tag.'.format(chunk))\n",
      "e:\\Anaconda3\\envs\\gpulocal\\Lib\\site-packages\\seqeval\\metrics\\sequence_labeling.py:171: UserWarning: adt_Y seems not to be NE tag.\n",
      "  warnings.warn('{} seems not to be NE tag.'.format(chunk))\n",
      "e:\\Anaconda3\\envs\\gpulocal\\Lib\\site-packages\\seqeval\\metrics\\sequence_labeling.py:171: UserWarning: sg el_Y seems not to be NE tag.\n",
      "  warnings.warn('{} seems not to be NE tag.'.format(chunk))\n",
      "e:\\Anaconda3\\envs\\gpulocal\\Lib\\site-packages\\seqeval\\metrics\\sequence_labeling.py:171: UserWarning: sg es_H seems not to be NE tag.\n",
      "  warnings.warn('{} seems not to be NE tag.'.format(chunk))\n",
      "e:\\Anaconda3\\envs\\gpulocal\\Lib\\site-packages\\seqeval\\metrics\\sequence_labeling.py:171: UserWarning: sg abl_N seems not to be NE tag.\n",
      "  warnings.warn('{} seems not to be NE tag.'.format(chunk))\n",
      "e:\\Anaconda3\\envs\\gpulocal\\Lib\\site-packages\\seqeval\\metrics\\sequence_labeling.py:171: UserWarning: sg kom_A seems not to be NE tag.\n",
      "  warnings.warn('{} seems not to be NE tag.'.format(chunk))\n",
      "e:\\Anaconda3\\envs\\gpulocal\\Lib\\site-packages\\seqeval\\metrics\\sequence_labeling.py:171: UserWarning: sg el_C seems not to be NE tag.\n",
      "  warnings.warn('{} seems not to be NE tag.'.format(chunk))\n",
      "e:\\Anaconda3\\envs\\gpulocal\\Lib\\site-packages\\seqeval\\metrics\\sequence_labeling.py:171: UserWarning: sg kom_Y seems not to be NE tag.\n",
      "  warnings.warn('{} seems not to be NE tag.'.format(chunk))\n",
      "e:\\Anaconda3\\envs\\gpulocal\\Lib\\site-packages\\seqeval\\metrics\\sequence_labeling.py:171: UserWarning: sg ab_P seems not to be NE tag.\n",
      "  warnings.warn('{} seems not to be NE tag.'.format(chunk))\n",
      "e:\\Anaconda3\\envs\\gpulocal\\Lib\\site-packages\\seqeval\\metrics\\sequence_labeling.py:171: UserWarning: sg el_O seems not to be NE tag.\n",
      "  warnings.warn('{} seems not to be NE tag.'.format(chunk))\n",
      "e:\\Anaconda3\\envs\\gpulocal\\Lib\\site-packages\\seqeval\\metrics\\sequence_labeling.py:171: UserWarning: pl n_Y seems not to be NE tag.\n",
      "  warnings.warn('{} seems not to be NE tag.'.format(chunk))\n",
      "e:\\Anaconda3\\envs\\gpulocal\\Lib\\site-packages\\seqeval\\metrics\\sequence_labeling.py:171: UserWarning: sg n_Y seems not to be NE tag.\n",
      "  warnings.warn('{} seems not to be NE tag.'.format(chunk))\n",
      "e:\\Anaconda3\\envs\\gpulocal\\Lib\\site-packages\\seqeval\\metrics\\sequence_labeling.py:171: UserWarning: pl p_O seems not to be NE tag.\n",
      "  warnings.warn('{} seems not to be NE tag.'.format(chunk))\n",
      "e:\\Anaconda3\\envs\\gpulocal\\Lib\\site-packages\\seqeval\\metrics\\sequence_labeling.py:171: UserWarning: sg ter_N seems not to be NE tag.\n",
      "  warnings.warn('{} seems not to be NE tag.'.format(chunk))\n",
      "e:\\Anaconda3\\envs\\gpulocal\\Lib\\site-packages\\seqeval\\metrics\\sequence_labeling.py:171: UserWarning: pl p_N seems not to be NE tag.\n",
      "  warnings.warn('{} seems not to be NE tag.'.format(chunk))\n",
      "e:\\Anaconda3\\envs\\gpulocal\\Lib\\site-packages\\seqeval\\metrics\\sequence_labeling.py:171: UserWarning: pl n_N seems not to be NE tag.\n",
      "  warnings.warn('{} seems not to be NE tag.'.format(chunk))\n",
      "e:\\Anaconda3\\envs\\gpulocal\\Lib\\site-packages\\seqeval\\metrics\\sequence_labeling.py:171: UserWarning: ?_Y seems not to be NE tag.\n",
      "  warnings.warn('{} seems not to be NE tag.'.format(chunk))\n",
      "e:\\Anaconda3\\envs\\gpulocal\\Lib\\site-packages\\seqeval\\metrics\\sequence_labeling.py:171: UserWarning: ?_O seems not to be NE tag.\n",
      "  warnings.warn('{} seems not to be NE tag.'.format(chunk))\n",
      "e:\\Anaconda3\\envs\\gpulocal\\Lib\\site-packages\\seqeval\\metrics\\sequence_labeling.py:171: UserWarning: ?_N seems not to be NE tag.\n",
      "  warnings.warn('{} seems not to be NE tag.'.format(chunk))\n",
      "e:\\Anaconda3\\envs\\gpulocal\\Lib\\site-packages\\seqeval\\metrics\\sequence_labeling.py:171: UserWarning: nuks_V seems not to be NE tag.\n",
      "  warnings.warn('{} seems not to be NE tag.'.format(chunk))\n",
      "e:\\Anaconda3\\envs\\gpulocal\\Lib\\site-packages\\seqeval\\metrics\\sequence_labeling.py:171: UserWarning: ?_H seems not to be NE tag.\n",
      "  warnings.warn('{} seems not to be NE tag.'.format(chunk))\n",
      "e:\\Anaconda3\\envs\\gpulocal\\Lib\\site-packages\\seqeval\\metrics\\sequence_labeling.py:171: UserWarning: ?_S seems not to be NE tag.\n",
      "  warnings.warn('{} seems not to be NE tag.'.format(chunk))\n",
      "e:\\Anaconda3\\envs\\gpulocal\\Lib\\site-packages\\seqeval\\metrics\\sequence_labeling.py:171: UserWarning: tagu_V seems not to be NE tag.\n",
      "  warnings.warn('{} seems not to be NE tag.'.format(chunk))\n"
     ]
    },
    {
     "name": "stdout",
     "output_type": "stream",
     "text": [
      "INFO:ner_model.py:1253: {'eval_loss': 0.9056411236524582, 'precision': 0.8831920868852051, 'recall': 0.9080618372301009, 'f1_score': 0.8954543163836114, 'extra_metrics': {'?': {'precision': 0.0, 'recall': 0.0, 'f1-score': 0.0, 'support': 0.0}, '?_H': {'precision': 0.0, 'recall': 0.0, 'f1-score': 0.0, 'support': 8.0}, '?_N': {'precision': 0.0, 'recall': 0.0, 'f1-score': 0.0, 'support': 490.0}, '?_O': {'precision': 0.0, 'recall': 0.0, 'f1-score': 0.0, 'support': 116.0}, '?_S': {'precision': 0.0, 'recall': 0.0, 'f1-score': 0.0, 'support': 1.0}, '?_Y': {'precision': 0.0, 'recall': 0.0, 'f1-score': 0.0, 'support': 276.0}, 'A': {'precision': 0.5136268343815513, 'recall': 0.6749311294765841, 'f1-score': 0.5833333333333334, 'support': 363.0}, 'D': {'precision': 0.9274108461700781, 'recall': 0.9771009337483326, 'f1-score': 0.9516076648262423, 'support': 4498.0}, 'G': {'precision': 0.9134615384615384, 'recall': 0.979381443298969, 'f1-score': 0.945273631840796, 'support': 97.0}, 'H': {'precision': 0.0, 'recall': 0.0, 'f1-score': 0.0, 'support': 0.0}, 'I': {'precision': 0.7254901960784313, 'recall': 0.8043478260869565, 'f1-score': 0.7628865979381443, 'support': 46.0}, 'J': {'precision': 0.9964516129032258, 'recall': 0.944937289691037, 'f1-score': 0.9700109907363793, 'support': 3269.0}, 'K': {'precision': 0.9610678531701891, 'recall': 0.930032292787944, 'f1-score': 0.9452954048140044, 'support': 929.0}, 'N': {'precision': 0.0, 'recall': 0.0, 'f1-score': 0.0, 'support': 0.0}, 'O': {'precision': 0.0, 'recall': 0.0, 'f1-score': 0.0, 'support': 0.0}, 'P': {'precision': 0.0, 'recall': 0.0, 'f1-score': 0.0, 'support': 0.0}, 'S': {'precision': 0.0, 'recall': 0.0, 'f1-score': 0.0, 'support': 0.0}, 'V': {'precision': 0.0, 'recall': 0.0, 'f1-score': 0.0, 'support': 0.0}, 'X': {'precision': 0.35714285714285715, 'recall': 1.0, 'f1-score': 0.5263157894736842, 'support': 5.0}, 'Y': {'precision': 0.0, 'recall': 0.0, 'f1-score': 0.0, 'support': 0.0}, 'Z': {'precision': 0.9998666488865182, 'recall': 0.9978706414692574, 'f1-score': 0.9988676480383667, 'support': 7514.0}, 'adt_A': {'precision': 0.0, 'recall': 0.0, 'f1-score': 0.0, 'support': 0.0}, 'adt_H': {'precision': 0.26666666666666666, 'recall': 0.5, 'f1-score': 0.34782608695652173, 'support': 8.0}, 'adt_N': {'precision': 0.0, 'recall': 0.0, 'f1-score': 0.0, 'support': 0.0}, 'adt_O': {'precision': 0.0, 'recall': 0.0, 'f1-score': 0.0, 'support': 0.0}, 'adt_P': {'precision': 0.5, 'recall': 0.2, 'f1-score': 0.2857142857142857, 'support': 5.0}, 'adt_S': {'precision': 0.6818181818181818, 'recall': 0.8035714285714286, 'f1-score': 0.7377049180327869, 'support': 168.0}, 'adt_Y': {'precision': 0.0, 'recall': 0.0, 'f1-score': 0.0, 'support': 0.0}, 'b_V': {'precision': 1.0, 'recall': 0.9070093457943925, 'f1-score': 0.9512374418034796, 'support': 2140.0}, 'd_V': {'precision': 0.975, 'recall': 0.9512195121951219, 'f1-score': 0.9629629629629629, 'support': 41.0}, 'da_V': {'precision': 1.0, 'recall': 1.0, 'f1-score': 1.0, 'support': 882.0}, 'des_V': {'precision': 0.9772727272727273, 'recall': 0.9847328244274809, 'f1-score': 0.9809885931558935, 'support': 131.0}, 'ge_V': {'precision': 1.0, 'recall': 1.0, 'f1-score': 1.0, 'support': 15.0}, 'gem_V': {'precision': 1.0, 'recall': 1.0, 'f1-score': 1.0, 'support': 1.0}, 'gu_V': {'precision': 1.0, 'recall': 0.8333333333333334, 'f1-score': 0.9090909090909091, 'support': 6.0}, 'ks_V': {'precision': 0.9945652173913043, 'recall': 0.8433179723502304, 'f1-score': 0.912718204488778, 'support': 217.0}, 'ksid_V': {'precision': 1.0, 'recall': 1.0, 'f1-score': 1.0, 'support': 33.0}, 'ksime_V': {'precision': 1.0, 'recall': 1.0, 'f1-score': 1.0, 'support': 6.0}, 'ksin_V': {'precision': 1.0, 'recall': 1.0, 'f1-score': 1.0, 'support': 9.0}, 'ksite_V': {'precision': 1.0, 'recall': 1.0, 'f1-score': 1.0, 'support': 2.0}, 'ma_V': {'precision': 1.0, 'recall': 0.9965397923875432, 'f1-score': 0.9982668977469671, 'support': 289.0}, 'maks_V': {'precision': 1.0, 'recall': 1.0, 'f1-score': 1.0, 'support': 10.0}, 'mas_V': {'precision': 0.9629629629629629, 'recall': 1.0, 'f1-score': 0.9811320754716981, 'support': 26.0}, 'mast_V': {'precision': 1.0, 'recall': 1.0, 'f1-score': 1.0, 'support': 3.0}, 'mata_V': {'precision': 0.8148148148148148, 'recall': 0.8148148148148148, 'f1-score': 0.8148148148148148, 'support': 27.0}, 'me_V': {'precision': 1.0, 'recall': 0.9903846153846154, 'f1-score': 0.9951690821256038, 'support': 104.0}, 'n_V': {'precision': 1.0, 'recall': 0.9949748743718593, 'f1-score': 0.9974811083123426, 'support': 199.0}, 'neg ks_V': {'precision': 0.20930232558139536, 'recall': 1.0, 'f1-score': 0.34615384615384615, 'support': 9.0}, 'neg nud_V': {'precision': 0.1834862385321101, 'recall': 1.0, 'f1-score': 0.31007751937984496, 'support': 20.0}, 'neg o_V': {'precision': 0.26105263157894737, 'recall': 1.0, 'f1-score': 0.41402337228714525, 'support': 124.0}, 'neg_V': {'precision': 0.9978902953586498, 'recall': 0.967280163599182, 'f1-score': 0.9823468328141225, 'support': 489.0}, 'nud_V': {'precision': 0.9508670520231214, 'recall': 0.6375968992248062, 'f1-score': 0.7633410672853829, 'support': 516.0}, 'nuks_V': {'precision': 0.0, 'recall': 0.0, 'f1-score': 0.0, 'support': 8.0}, 'o_V': {'precision': 0.925, 'recall': 0.09226932668329177, 'f1-score': 0.16780045351473924, 'support': 401.0}, 'pl ab_S': {'precision': 1.0, 'recall': 1.0, 'f1-score': 1.0, 'support': 3.0}, 'pl abl_A': {'precision': 1.0, 'recall': 1.0, 'f1-score': 1.0, 'support': 1.0}, 'pl abl_P': {'precision': 1.0, 'recall': 1.0, 'f1-score': 1.0, 'support': 3.0}, 'pl abl_S': {'precision': 1.0, 'recall': 1.0, 'f1-score': 1.0, 'support': 18.0}, 'pl ad_A': {'precision': 1.0, 'recall': 0.8928571428571429, 'f1-score': 0.9433962264150944, 'support': 28.0}, 'pl ad_C': {'precision': 0.7142857142857143, 'recall': 1.0, 'f1-score': 0.8333333333333334, 'support': 5.0}, 'pl ad_O': {'precision': 1.0, 'recall': 1.0, 'f1-score': 1.0, 'support': 7.0}, 'pl ad_P': {'precision': 0.984375, 'recall': 0.875, 'f1-score': 0.9264705882352942, 'support': 72.0}, 'pl ad_S': {'precision': 0.9874213836477987, 'recall': 0.9573170731707317, 'f1-score': 0.9721362229102167, 'support': 164.0}, 'pl all_A': {'precision': 1.0, 'recall': 0.76, 'f1-score': 0.8636363636363636, 'support': 25.0}, 'pl all_C': {'precision': 0.0, 'recall': 0.0, 'f1-score': 0.0, 'support': 0.0}, 'pl all_P': {'precision': 0.8867924528301887, 'recall': 0.9591836734693877, 'f1-score': 0.9215686274509803, 'support': 49.0}, 'pl all_S': {'precision': 0.9727272727272728, 'recall': 1.0, 'f1-score': 0.9861751152073732, 'support': 107.0}, 'pl el_A': {'precision': 1.0, 'recall': 0.9302325581395349, 'f1-score': 0.963855421686747, 'support': 43.0}, 'pl el_C': {'precision': 0.0, 'recall': 0.0, 'f1-score': 0.0, 'support': 0.0}, 'pl el_O': {'precision': 0.0, 'recall': 0.0, 'f1-score': 0.0, 'support': 0.0}, 'pl el_P': {'precision': 0.9024390243902439, 'recall': 0.9487179487179487, 'f1-score': 0.925, 'support': 39.0}, 'pl el_S': {'precision': 1.0, 'recall': 0.9870967741935484, 'f1-score': 0.9935064935064936, 'support': 155.0}, 'pl es_A': {'precision': 0.0, 'recall': 0.0, 'f1-score': 0.0, 'support': 0.0}, 'pl es_S': {'precision': 1.0, 'recall': 0.8571428571428571, 'f1-score': 0.9230769230769231, 'support': 14.0}, 'pl g_A': {'precision': 0.983957219251337, 'recall': 0.9787234042553191, 'f1-score': 0.9813333333333333, 'support': 188.0}, 'pl g_C': {'precision': 1.0, 'recall': 1.0, 'f1-score': 1.0, 'support': 18.0}, 'pl g_H': {'precision': 0.5789473684210527, 'recall': 0.4583333333333333, 'f1-score': 0.5116279069767442, 'support': 24.0}, 'pl g_O': {'precision': 0.3333333333333333, 'recall': 1.0, 'f1-score': 0.5, 'support': 5.0}, 'pl g_P': {'precision': 0.9427083333333334, 'recall': 0.9836956521739131, 'f1-score': 0.9627659574468085, 'support': 184.0}, 'pl g_S': {'precision': 0.9932735426008968, 'recall': 0.9833518312985572, 'f1-score': 0.9882877858337981, 'support': 901.0}, 'pl g_U': {'precision': 1.0, 'recall': 1.0, 'f1-score': 1.0, 'support': 1.0}, 'pl ill_A': {'precision': 1.0, 'recall': 0.8333333333333334, 'f1-score': 0.9090909090909091, 'support': 6.0}, 'pl ill_S': {'precision': 0.9375, 'recall': 0.9375, 'f1-score': 0.9375, 'support': 16.0}, 'pl in_A': {'precision': 1.0, 'recall': 0.9642857142857143, 'f1-score': 0.9818181818181818, 'support': 28.0}, 'pl in_C': {'precision': 0.8888888888888888, 'recall': 1.0, 'f1-score': 0.9411764705882353, 'support': 8.0}, 'pl in_H': {'precision': 0.0, 'recall': 0.0, 'f1-score': 0.0, 'support': 0.0}, 'pl in_P': {'precision': 0.9583333333333334, 'recall': 1.0, 'f1-score': 0.9787234042553191, 'support': 23.0}, 'pl in_S': {'precision': 0.9661016949152542, 'recall': 0.9344262295081968, 'f1-score': 0.95, 'support': 122.0}, 'pl kom_H': {'precision': 0.0, 'recall': 0.0, 'f1-score': 0.0, 'support': 0.0}, 'pl kom_P': {'precision': 0.8333333333333334, 'recall': 0.8333333333333334, 'f1-score': 0.8333333333333334, 'support': 6.0}, 'pl kom_S': {'precision': 0.990909090909091, 'recall': 0.9732142857142857, 'f1-score': 0.9819819819819819, 'support': 112.0}, 'pl n_A': {'precision': 0.9117647058823529, 'recall': 0.9559471365638766, 'f1-score': 0.9333333333333333, 'support': 227.0}, 'pl n_C': {'precision': 0.9696969696969697, 'recall': 1.0, 'f1-score': 0.9846153846153847, 'support': 32.0}, 'pl n_H': {'precision': 0.42857142857142855, 'recall': 0.13636363636363635, 'f1-score': 0.20689655172413793, 'support': 22.0}, 'pl n_N': {'precision': 1.0, 'recall': 1.0, 'f1-score': 1.0, 'support': 1.0}, 'pl n_O': {'precision': 1.0, 'recall': 0.5, 'f1-score': 0.6666666666666666, 'support': 2.0}, 'pl n_P': {'precision': 0.8053097345132744, 'recall': 0.8950819672131147, 'f1-score': 0.8478260869565217, 'support': 305.0}, 'pl n_S': {'precision': 0.9557046979865772, 'recall': 0.9621621621621622, 'f1-score': 0.958922558922559, 'support': 740.0}, 'pl n_U': {'precision': 1.0, 'recall': 1.0, 'f1-score': 1.0, 'support': 2.0}, 'pl n_Y': {'precision': 0.0, 'recall': 0.0, 'f1-score': 0.0, 'support': 0.0}, 'pl p_A': {'precision': 0.993421052631579, 'recall': 1.0, 'f1-score': 0.9966996699669967, 'support': 151.0}, 'pl p_C': {'precision': 1.0, 'recall': 1.0, 'f1-score': 1.0, 'support': 19.0}, 'pl p_H': {'precision': 0.0, 'recall': 0.0, 'f1-score': 0.0, 'support': 0.0}, 'pl p_N': {'precision': 1.0, 'recall': 0.6666666666666666, 'f1-score': 0.8, 'support': 3.0}, 'pl p_O': {'precision': 0.0, 'recall': 0.0, 'f1-score': 0.0, 'support': 0.0}, 'pl p_P': {'precision': 0.8333333333333334, 'recall': 0.9473684210526315, 'f1-score': 0.8866995073891626, 'support': 95.0}, 'pl p_S': {'precision': 0.9878682842287695, 'recall': 0.9810671256454389, 'f1-score': 0.9844559585492227, 'support': 581.0}, 'pl ter_P': {'precision': 0.0, 'recall': 0.0, 'f1-score': 0.0, 'support': 0.0}, 'pl ter_S': {'precision': 1.0, 'recall': 0.8333333333333334, 'f1-score': 0.9090909090909091, 'support': 6.0}, 'pl tr_A': {'precision': 1.0, 'recall': 0.8888888888888888, 'f1-score': 0.9411764705882353, 'support': 9.0}, 'pl tr_C': {'precision': 0.0, 'recall': 0.0, 'f1-score': 0.0, 'support': 0.0}, 'pl tr_P': {'precision': 0.0, 'recall': 0.0, 'f1-score': 0.0, 'support': 1.0}, 'pl tr_S': {'precision': 1.0, 'recall': 0.9, 'f1-score': 0.9473684210526315, 'support': 20.0}, 's_V': {'precision': 0.9988901220865705, 'recall': 0.9900990099009901, 'f1-score': 0.994475138121547, 'support': 909.0}, 'sg ab_P': {'precision': 1.0, 'recall': 1.0, 'f1-score': 1.0, 'support': 1.0}, 'sg ab_S': {'precision': 1.0, 'recall': 0.9230769230769231, 'f1-score': 0.96, 'support': 26.0}, 'sg abl_A': {'precision': 0.6666666666666666, 'recall': 0.6666666666666666, 'f1-score': 0.6666666666666666, 'support': 3.0}, 'sg abl_H': {'precision': 0.75, 'recall': 0.9230769230769231, 'f1-score': 0.8275862068965517, 'support': 13.0}, 'sg abl_N': {'precision': 0.0, 'recall': 0.0, 'f1-score': 0.0, 'support': 0.0}, 'sg abl_O': {'precision': 0.0, 'recall': 0.0, 'f1-score': 0.0, 'support': 0.0}, 'sg abl_P': {'precision': 0.9090909090909091, 'recall': 0.7692307692307693, 'f1-score': 0.8333333333333334, 'support': 13.0}, 'sg abl_S': {'precision': 0.9512195121951219, 'recall': 0.8666666666666667, 'f1-score': 0.9069767441860465, 'support': 45.0}, 'sg abl_Y': {'precision': 0.0, 'recall': 0.0, 'f1-score': 0.0, 'support': 0.0}, 'sg ad_A': {'precision': 1.0, 'recall': 0.9830508474576272, 'f1-score': 0.9914529914529915, 'support': 59.0}, 'sg ad_C': {'precision': 1.0, 'recall': 1.0, 'f1-score': 1.0, 'support': 9.0}, 'sg ad_H': {'precision': 0.7446808510638298, 'recall': 0.9210526315789473, 'f1-score': 0.8235294117647058, 'support': 38.0}, 'sg ad_N': {'precision': 0.8888888888888888, 'recall': 1.0, 'f1-score': 0.9411764705882353, 'support': 8.0}, 'sg ad_O': {'precision': 1.0, 'recall': 0.5454545454545454, 'f1-score': 0.7058823529411765, 'support': 11.0}, 'sg ad_P': {'precision': 0.9393939393939394, 'recall': 0.9935897435897436, 'f1-score': 0.9657320872274143, 'support': 156.0}, 'sg ad_S': {'precision': 0.9605809128630706, 'recall': 0.9788583509513742, 'f1-score': 0.9696335078534032, 'support': 473.0}, 'sg ad_U': {'precision': 1.0, 'recall': 1.0, 'f1-score': 1.0, 'support': 1.0}, 'sg ad_Y': {'precision': 0.0, 'recall': 0.0, 'f1-score': 0.0, 'support': 0.0}, 'sg all_A': {'precision': 0.9387755102040817, 'recall': 1.0, 'f1-score': 0.968421052631579, 'support': 46.0}, 'sg all_C': {'precision': 1.0, 'recall': 1.0, 'f1-score': 1.0, 'support': 3.0}, 'sg all_H': {'precision': 0.55, 'recall': 1.0, 'f1-score': 0.7096774193548387, 'support': 22.0}, 'sg all_N': {'precision': 0.7777777777777778, 'recall': 1.0, 'f1-score': 0.875, 'support': 7.0}, 'sg all_P': {'precision': 1.0, 'recall': 0.9183673469387755, 'f1-score': 0.9574468085106383, 'support': 98.0}, 'sg all_S': {'precision': 0.9840255591054313, 'recall': 0.9685534591194969, 'f1-score': 0.9762282091917591, 'support': 318.0}, 'sg all_Y': {'precision': 0.0, 'recall': 0.0, 'f1-score': 0.0, 'support': 0.0}, 'sg el_A': {'precision': 0.9710144927536232, 'recall': 0.9710144927536232, 'f1-score': 0.9710144927536232, 'support': 69.0}, 'sg el_C': {'precision': 1.0, 'recall': 0.6666666666666666, 'f1-score': 0.8, 'support': 3.0}, 'sg el_H': {'precision': 0.8518518518518519, 'recall': 0.9019607843137255, 'f1-score': 0.8761904761904762, 'support': 51.0}, 'sg el_N': {'precision': 0.8888888888888888, 'recall': 1.0, 'f1-score': 0.9411764705882353, 'support': 8.0}, 'sg el_O': {'precision': 1.0, 'recall': 1.0, 'f1-score': 1.0, 'support': 1.0}, 'sg el_P': {'precision': 0.9473684210526315, 'recall': 0.9230769230769231, 'f1-score': 0.935064935064935, 'support': 78.0}, 'sg el_S': {'precision': 0.9654255319148937, 'recall': 0.9453125, 'f1-score': 0.9552631578947368, 'support': 384.0}, 'sg el_Y': {'precision': 0.3333333333333333, 'recall': 1.0, 'f1-score': 0.5, 'support': 1.0}, 'sg es_A': {'precision': 0.7272727272727273, 'recall': 0.7272727272727273, 'f1-score': 0.7272727272727273, 'support': 11.0}, 'sg es_H': {'precision': 0.0, 'recall': 0.0, 'f1-score': 0.0, 'support': 0.0}, 'sg es_O': {'precision': 1.0, 'recall': 0.6666666666666666, 'f1-score': 0.8, 'support': 3.0}, 'sg es_P': {'precision': 1.0, 'recall': 1.0, 'f1-score': 1.0, 'support': 3.0}, 'sg es_S': {'precision': 0.918918918918919, 'recall': 0.9714285714285714, 'f1-score': 0.9444444444444444, 'support': 70.0}, 'sg g_A': {'precision': 0.9695652173913043, 'recall': 0.9867256637168141, 'f1-score': 0.9780701754385965, 'support': 452.0}, 'sg g_C': {'precision': 1.0, 'recall': 1.0, 'f1-score': 1.0, 'support': 79.0}, 'sg g_H': {'precision': 0.8250825082508251, 'recall': 0.8690614136732329, 'f1-score': 0.8465011286681715, 'support': 863.0}, 'sg g_N': {'precision': 0.75, 'recall': 0.9857142857142858, 'f1-score': 0.8518518518518519, 'support': 70.0}, 'sg g_O': {'precision': 0.5714285714285714, 'recall': 0.6666666666666666, 'f1-score': 0.6153846153846154, 'support': 12.0}, 'sg g_P': {'precision': 0.9633204633204633, 'recall': 0.9139194139194139, 'f1-score': 0.9379699248120301, 'support': 546.0}, 'sg g_S': {'precision': 0.9463993453355155, 'recall': 0.8986013986013986, 'f1-score': 0.9218812275807095, 'support': 2574.0}, 'sg g_U': {'precision': 1.0, 'recall': 1.0, 'f1-score': 1.0, 'support': 11.0}, 'sg g_Y': {'precision': 0.9, 'recall': 0.8181818181818182, 'f1-score': 0.8571428571428571, 'support': 11.0}, 'sg ill_A': {'precision': 1.0, 'recall': 0.625, 'f1-score': 0.7692307692307693, 'support': 16.0}, 'sg ill_H': {'precision': 0.85, 'recall': 0.7727272727272727, 'f1-score': 0.8095238095238095, 'support': 22.0}, 'sg ill_P': {'precision': 1.0, 'recall': 0.75, 'f1-score': 0.8571428571428571, 'support': 4.0}, 'sg ill_S': {'precision': 0.9538461538461539, 'recall': 0.8266666666666667, 'f1-score': 0.8857142857142857, 'support': 75.0}, 'sg in_A': {'precision': 0.9887640449438202, 'recall': 0.967032967032967, 'f1-score': 0.9777777777777777, 'support': 91.0}, 'sg in_C': {'precision': 1.0, 'recall': 0.9, 'f1-score': 0.9473684210526315, 'support': 10.0}, 'sg in_H': {'precision': 0.8933333333333333, 'recall': 0.8874172185430463, 'f1-score': 0.8903654485049833, 'support': 151.0}, 'sg in_N': {'precision': 0.5714285714285714, 'recall': 1.0, 'f1-score': 0.7272727272727273, 'support': 4.0}, 'sg in_O': {'precision': 0.6, 'recall': 1.0, 'f1-score': 0.75, 'support': 3.0}, 'sg in_P': {'precision': 0.9811320754716981, 'recall': 0.9454545454545454, 'f1-score': 0.9629629629629629, 'support': 55.0}, 'sg in_S': {'precision': 0.9654605263157895, 'recall': 0.9513776337115073, 'f1-score': 0.9583673469387755, 'support': 617.0}, 'sg in_U': {'precision': 0.0, 'recall': 0.0, 'f1-score': 0.0, 'support': 0.0}, 'sg in_Y': {'precision': 0.35294117647058826, 'recall': 0.8571428571428571, 'f1-score': 0.5, 'support': 7.0}, 'sg kom_A': {'precision': 1.0, 'recall': 1.0, 'f1-score': 1.0, 'support': 2.0}, 'sg kom_H': {'precision': 0.8695652173913043, 'recall': 0.9090909090909091, 'f1-score': 0.8888888888888888, 'support': 22.0}, 'sg kom_P': {'precision': 1.0, 'recall': 0.9393939393939394, 'f1-score': 0.96875, 'support': 33.0}, 'sg kom_S': {'precision': 0.9908536585365854, 'recall': 0.9878419452887538, 'f1-score': 0.989345509893455, 'support': 329.0}, 'sg kom_Y': {'precision': 0.0, 'recall': 0.0, 'f1-score': 0.0, 'support': 1.0}, 'sg n_A': {'precision': 0.9741100323624595, 'recall': 0.9688841201716738, 'f1-score': 0.9714900484131254, 'support': 932.0}, 'sg n_C': {'precision': 0.9722222222222222, 'recall': 1.0, 'f1-score': 0.9859154929577465, 'support': 140.0}, 'sg n_H': {'precision': 0.9229152067274001, 'recall': 0.887466307277628, 'f1-score': 0.9048436963242872, 'support': 1484.0}, 'sg n_N': {'precision': 0.797752808988764, 'recall': 0.9861111111111112, 'f1-score': 0.8819875776397516, 'support': 144.0}, 'sg n_O': {'precision': 0.6176470588235294, 'recall': 0.8076923076923077, 'f1-score': 0.7, 'support': 26.0}, 'sg n_P': {'precision': 0.954248366013072, 'recall': 0.8848484848484849, 'f1-score': 0.9182389937106918, 'support': 1155.0}, 'sg n_S': {'precision': 0.9411764705882353, 'recall': 0.9294346978557505, 'f1-score': 0.9352687328364064, 'support': 2565.0}, 'sg n_U': {'precision': 1.0, 'recall': 1.0, 'f1-score': 1.0, 'support': 19.0}, 'sg n_Y': {'precision': 0.0, 'recall': 0.0, 'f1-score': 0.0, 'support': 0.0}, 'sg p_A': {'precision': 0.9844961240310077, 'recall': 0.9584905660377359, 'f1-score': 0.97131931166348, 'support': 265.0}, 'sg p_C': {'precision': 1.0, 'recall': 1.0, 'f1-score': 1.0, 'support': 26.0}, 'sg p_H': {'precision': 0.5102040816326531, 'recall': 0.7352941176470589, 'f1-score': 0.6024096385542169, 'support': 34.0}, 'sg p_N': {'precision': 0.7317073170731707, 'recall': 0.9375, 'f1-score': 0.821917808219178, 'support': 32.0}, 'sg p_O': {'precision': 0.7777777777777778, 'recall': 0.875, 'f1-score': 0.8235294117647058, 'support': 8.0}, 'sg p_P': {'precision': 0.9624664879356568, 'recall': 0.9111675126903553, 'f1-score': 0.9361147327249022, 'support': 394.0}, 'sg p_S': {'precision': 0.889795918367347, 'recall': 0.9146853146853147, 'f1-score': 0.9020689655172414, 'support': 1430.0}, 'sg p_U': {'precision': 1.0, 'recall': 1.0, 'f1-score': 1.0, 'support': 4.0}, 'sg p_Y': {'precision': 0.0, 'recall': 0.0, 'f1-score': 0.0, 'support': 0.0}, 'sg ter_A': {'precision': 0.0, 'recall': 0.0, 'f1-score': 0.0, 'support': 0.0}, 'sg ter_H': {'precision': 0.0, 'recall': 0.0, 'f1-score': 0.0, 'support': 0.0}, 'sg ter_N': {'precision': 0.0, 'recall': 0.0, 'f1-score': 0.0, 'support': 0.0}, 'sg ter_P': {'precision': 1.0, 'recall': 0.8, 'f1-score': 0.8888888888888888, 'support': 5.0}, 'sg ter_S': {'precision': 0.9375, 'recall': 0.8333333333333334, 'f1-score': 0.8823529411764706, 'support': 36.0}, 'sg tr_A': {'precision': 0.9770992366412213, 'recall': 0.9922480620155039, 'f1-score': 0.9846153846153847, 'support': 129.0}, 'sg tr_C': {'precision': 1.0, 'recall': 1.0, 'f1-score': 1.0, 'support': 18.0}, 'sg tr_H': {'precision': 0.5, 'recall': 1.0, 'f1-score': 0.6666666666666666, 'support': 1.0}, 'sg tr_N': {'precision': 0.8333333333333334, 'recall': 0.8333333333333334, 'f1-score': 0.8333333333333334, 'support': 6.0}, 'sg tr_O': {'precision': 1.0, 'recall': 0.8, 'f1-score': 0.8888888888888888, 'support': 5.0}, 'sg tr_P': {'precision': 1.0, 'recall': 0.8717948717948718, 'f1-score': 0.9315068493150684, 'support': 39.0}, 'sg tr_S': {'precision': 0.9863481228668942, 'recall': 0.8117977528089888, 'f1-score': 0.8906009244992296, 'support': 356.0}, 'sg tr_U': {'precision': 1.0, 'recall': 1.0, 'f1-score': 1.0, 'support': 5.0}, 'sid_V': {'precision': 1.0, 'recall': 1.0, 'f1-score': 1.0, 'support': 207.0}, 'sime_V': {'precision': 1.0, 'recall': 1.0, 'f1-score': 1.0, 'support': 37.0}, 'sin_V': {'precision': 1.0, 'recall': 1.0, 'f1-score': 1.0, 'support': 135.0}, 'site_V': {'precision': 1.0, 'recall': 1.0, 'f1-score': 1.0, 'support': 1.0}, 'ta_V': {'precision': 1.0, 'recall': 1.0, 'f1-score': 1.0, 'support': 5.0}, 'tagu_V': {'precision': 0.0, 'recall': 0.0, 'f1-score': 0.0, 'support': 2.0}, 'taks_V': {'precision': 1.0, 'recall': 1.0, 'f1-score': 1.0, 'support': 4.0}, 'takse_V': {'precision': 1.0, 'recall': 1.0, 'f1-score': 1.0, 'support': 140.0}, 'tama_V': {'precision': 1.0, 'recall': 1.0, 'f1-score': 1.0, 'support': 2.0}, 'te_V': {'precision': 1.0, 'recall': 1.0, 'f1-score': 1.0, 'support': 18.0}, 'ti_V': {'precision': 1.0, 'recall': 0.9883720930232558, 'f1-score': 0.9941520467836257, 'support': 86.0}, 'tud_V': {'precision': 0.6339285714285714, 'recall': 0.5378787878787878, 'f1-score': 0.5819672131147541, 'support': 264.0}, 'vad_V': {'precision': 0.5664488017429193, 'recall': 0.9558823529411765, 'f1-score': 0.7113543091655267, 'support': 272.0}, 'vat_V': {'precision': 0.9, 'recall': 0.9, 'f1-score': 0.9, 'support': 10.0}, 'accuracy': 0.9161652711743173, 'macro avg': {'precision': 0.7179222246052881, 'recall': 0.7291993120583714, 'f1-score': 0.7108954338373781, 'support': 47534.0}, 'weighted avg': {'precision': 0.9314635252492468, 'recall': 0.9161652711743173, 'f1-score': 0.9186624127009987, 'support': 47534.0}}}\n"
     ]
    }
   ],
   "source": [
    "# Evaluate the model\n",
    "result, model_outputs, preds_list = model.eval_model(test_df_ud, extra_metrics=custom_metrics)"
   ]
  },
  {
   "cell_type": "code",
   "execution_count": 26,
   "metadata": {},
   "outputs": [
    {
     "name": "stdout",
     "output_type": "stream",
     "text": [
      "Evaluation Loss:0.9056\n",
      "Precision: \t0.9315\n",
      "Recall: \t0.9162\n",
      "F1 Score: \t0.9187\n"
     ]
    }
   ],
   "source": [
    "print(f\"Evaluation Loss:{result['eval_loss']:.4f}\")\n",
    "print(f\"Precision: \\t{result['extra_metrics']['weighted avg']['precision']:.4f}\")\n",
    "print(f\"Recall: \\t{result['extra_metrics']['weighted avg']['recall']:.4f}\")\n",
    "print(f\"F1 Score: \\t{result['extra_metrics']['weighted avg']['f1-score']:.4f}\")"
   ]
  },
  {
   "cell_type": "markdown",
   "metadata": {},
   "source": [
    "#### Vabamorf evaluation on UD corpus"
   ]
  },
  {
   "cell_type": "code",
   "execution_count": 46,
   "metadata": {},
   "outputs": [],
   "source": [
    "if not os.path.exists('.\\\\ud_vabamorf.csv'):\n",
    "    create_df_ud_corpus(jsons, ud_dir, 'morph_analysis', 'ud_vabamorf.csv')"
   ]
  },
  {
   "cell_type": "code",
   "execution_count": 47,
   "metadata": {},
   "outputs": [],
   "source": [
    "test_df_ud = df_ud[df_ud['source'].str.contains('ud-test')].copy()"
   ]
  },
  {
   "cell_type": "code",
   "execution_count": 48,
   "metadata": {},
   "outputs": [],
   "source": [
    "df_ud_vabamorf = pd.read_csv('ud_vabamorf.csv', keep_default_na=False)"
   ]
  },
  {
   "cell_type": "code",
   "execution_count": 49,
   "metadata": {},
   "outputs": [
    {
     "name": "stdout",
     "output_type": "stream",
     "text": [
      "Assigning NaN values in columns form and pos with an empty string\n",
      "Removing NaN words\n",
      "Modified dataframe saved to ud_vabamorf.csv\n"
     ]
    }
   ],
   "source": [
    "clean_df(df_ud_vabamorf, 'ud_vabamorf.csv')"
   ]
  },
  {
   "cell_type": "code",
   "execution_count": 50,
   "metadata": {},
   "outputs": [
    {
     "name": "stdout",
     "output_type": "stream",
     "text": [
      "Column 'labels' created\n"
     ]
    }
   ],
   "source": [
    "create_labels_column(df_ud_vabamorf)"
   ]
  },
  {
   "cell_type": "code",
   "execution_count": 51,
   "metadata": {},
   "outputs": [],
   "source": [
    "test_df_ud_vabamorf = df_ud_vabamorf[df_ud_vabamorf['source'].str.contains('ud-test')].copy()"
   ]
  },
  {
   "cell_type": "code",
   "execution_count": 52,
   "metadata": {},
   "outputs": [
    {
     "name": "stderr",
     "output_type": "stream",
     "text": [
      "e:\\Anaconda3\\envs\\gpulocal\\Lib\\site-packages\\sklearn\\metrics\\_classification.py:1531: UndefinedMetricWarning: Precision is ill-defined and being set to 0.0 in labels with no predicted samples. Use `zero_division` parameter to control this behavior.\n",
      "  _warn_prf(average, modifier, f\"{metric.capitalize()} is\", len(result))\n",
      "e:\\Anaconda3\\envs\\gpulocal\\Lib\\site-packages\\sklearn\\metrics\\_classification.py:1531: UndefinedMetricWarning: Recall is ill-defined and being set to 0.0 in labels with no true samples. Use `zero_division` parameter to control this behavior.\n",
      "  _warn_prf(average, modifier, f\"{metric.capitalize()} is\", len(result))\n",
      "e:\\Anaconda3\\envs\\gpulocal\\Lib\\site-packages\\sklearn\\metrics\\_classification.py:1531: UndefinedMetricWarning: Precision is ill-defined and being set to 0.0 in labels with no predicted samples. Use `zero_division` parameter to control this behavior.\n",
      "  _warn_prf(average, modifier, f\"{metric.capitalize()} is\", len(result))\n",
      "e:\\Anaconda3\\envs\\gpulocal\\Lib\\site-packages\\sklearn\\metrics\\_classification.py:1531: UndefinedMetricWarning: Recall is ill-defined and being set to 0.0 in labels with no true samples. Use `zero_division` parameter to control this behavior.\n",
      "  _warn_prf(average, modifier, f\"{metric.capitalize()} is\", len(result))\n",
      "e:\\Anaconda3\\envs\\gpulocal\\Lib\\site-packages\\sklearn\\metrics\\_classification.py:1531: UndefinedMetricWarning: Precision is ill-defined and being set to 0.0 in labels with no predicted samples. Use `zero_division` parameter to control this behavior.\n",
      "  _warn_prf(average, modifier, f\"{metric.capitalize()} is\", len(result))\n",
      "e:\\Anaconda3\\envs\\gpulocal\\Lib\\site-packages\\sklearn\\metrics\\_classification.py:1531: UndefinedMetricWarning: Recall is ill-defined and being set to 0.0 in labels with no true samples. Use `zero_division` parameter to control this behavior.\n",
      "  _warn_prf(average, modifier, f\"{metric.capitalize()} is\", len(result))\n"
     ]
    }
   ],
   "source": [
    "def group_labels_by_sentence(df):\n",
    "    # Preparing data for seqeval metrics (needs nested lists)\n",
    "    grouped = df.groupby(['source', 'sentence_id'])['labels'].apply(list)\n",
    "    return grouped.reset_index(drop=True).tolist()\n",
    "\n",
    "labels_true = group_labels_by_sentence(test_df_ud)\n",
    "labels_pred = group_labels_by_sentence(test_df_ud_vabamorf)\n",
    "\n",
    "# precision = sk.metrics.precision_score(test_df_ud['labels'], test_df_ud_vabamorf['labels'], average='weighted')\n",
    "# recall = sk.metrics.recall_score(test_df_ud['labels'], test_df_ud_vabamorf['labels'], average='weighted')\n",
    "# f1 = sk.metrics.f1_score(test_df_ud['labels'], test_df_ud_vabamorf['labels'], average='weighted')\n",
    "# print(f\"Precision: \\t{precision:.4f}\")\n",
    "# print(f\"Recall: \\t{recall:.4f}\")\n",
    "# print(f\"F1 Score: \\t{f1:.4f}\")\n",
    "\n",
    "results = poseval.compute(predictions=labels_true, references=labels_pred)"
   ]
  },
  {
   "cell_type": "code",
   "execution_count": 53,
   "metadata": {},
   "outputs": [
    {
     "name": "stdout",
     "output_type": "stream",
     "text": [
      "Precision: \t0.9194\n",
      "Recall: \t0.9067\n",
      "F1 Score: \t0.9082\n"
     ]
    }
   ],
   "source": [
    "print(f\"Precision: \\t{results[\"weighted avg\"][\"precision\"]:.4f}\")\n",
    "print(f\"Recall: \\t{results[\"weighted avg\"][\"recall\"]:.4f}\")\n",
    "print(f\"F1 Score: \\t{results[\"weighted avg\"][\"f1-score\"]:.4f}\")"
   ]
  },
  {
   "cell_type": "markdown",
   "metadata": {},
   "source": [
    "| Model    | Precision | Recall | F1 score |\n",
    "|----------|-----------|--------|----------|\n",
    "| Bert     | 0.9315    | 0.9162 | 0.9187   |\n",
    "| Vabamorf | 0.9194    | 0.9067 | 0.9082   |\n",
    "\n",
    "\\* Metrics are from weighted average"
   ]
  }
 ],
 "metadata": {
  "kernelspec": {
   "display_name": "Python 3",
   "language": "python",
   "name": "python3"
  },
  "language_info": {
   "codemirror_mode": {
    "name": "ipython",
    "version": 3
   },
   "file_extension": ".py",
   "mimetype": "text/x-python",
   "name": "python",
   "nbconvert_exporter": "python",
   "pygments_lexer": "ipython3",
   "version": "3.12.4"
  }
 },
 "nbformat": 4,
 "nbformat_minor": 2
}
