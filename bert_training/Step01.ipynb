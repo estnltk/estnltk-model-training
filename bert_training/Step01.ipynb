{
 "cells": [
  {
   "cell_type": "markdown",
   "id": "ec12becd",
   "metadata": {},
   "source": [
    "# STEP01 Create Training Corpus Tutorial\n",
    "\n",
    "This pipeline turns input text or text collections (See Figure 1) into a form that can be used to train BERT models using the next pipelines in this project. The result of this pipeline is a .tsv file with one column called \"text\". Each row in that file contains a document or consecutive sentences. The sentences are separated by \"\\n\".\n",
    "\n",
    "![step01](images/step01.png)\n",
    "**Figure 1.** Pipeline visualized"
   ]
  },
  {
   "cell_type": "code",
   "execution_count": 1,
   "id": "3f9137da",
   "metadata": {},
   "outputs": [],
   "source": [
    "import csv\n",
    "from estnltk.corpus_processing.parse_koondkorpus import parse_tei_corpora\n",
    "from estnltk import Text\n",
    "\n",
    "def showFirstN(n, path):\n",
    "    with open(path, newline='', encoding='utf-8') as file:\n",
    "        tsv_reader = csv.reader(file, delimiter=\"\\t\")\n",
    "        next(tsv_reader)\n",
    "        for i, row in enumerate(tsv_reader):\n",
    "            if (i == n):\n",
    "                break\n",
    "            print(row)"
   ]
  },
  {
   "cell_type": "markdown",
   "id": "05a08ee3",
   "metadata": {},
   "source": [
    "## ESTNLTK Corpus processing"
   ]
  },
  {
   "cell_type": "markdown",
   "id": "c21f5638",
   "metadata": {},
   "source": [
    "These pipelines do not clean/replace tokens in texts unless specified. Here is a basic example:"
   ]
  },
  {
   "cell_type": "code",
   "execution_count": 2,
   "id": "7fdc2f6b",
   "metadata": {
    "scrolled": false
   },
   "outputs": [
    {
     "data": {
      "text/html": [
       "<table border=\"1\" class=\"dataframe\">\n",
       "  <thead>\n",
       "    <tr style=\"text-align: right;\">\n",
       "      <th>text</th>\n",
       "    </tr>\n",
       "  </thead>\n",
       "  <tbody>\n",
       "    <tr>\n",
       "      <td><div align = \"left\">MARIA TEIVERLAUR</br></br>Mina olen veel noor …</br></br>MARIA TEIVERLAUR ( 1955 ) on meditsiinipsühholoog , Jämejala Psühhiaatriahaigla psühholoogia kabineti juhataja .</br>Viljandi Kultuurikolledzi õppejõud .</br>Pedagoogikakandidaat aastast 1992.</br></br>Teie käest küsitakse , kui vana Te olete .</br>Tundub , et sellele pärimisele on lihtne vastata .</br>Aga võta näpust … nüüdisaja teadus eristab hoopis mitut erinevat vanust , sealhulgas näiteks bioloogilist , sotsiaalset ja psühholoogilist .</br></br>Inimese subjektiivne suhtumine oma vanusesse on küllaltki erinev .</br>Mõnigi eakas inimene võib tunda end nooremana , teine vanemana kui elatud aastad näitavad .</br>Elus juhtub sageli , et inimene peab end nooremaks , kui ta tegelikult ( n.-ö. kronoloogiliselt ) o n.</br></br>Mõned aastad tagasi korraldati katse , milles osales 83 kõrgharidusega meest ja naist vanuses 21-44 aastat .</br>Nad pidid ette kujutama , et ei tea oma tõelist vanust , ning andma subjektiivse hinnangu selle kohta .</br>Tulemused näitasid , et ligi veerandil tegel ik ja subjektiivne vanus kattusid kas täiesti või piirdus erinevus aastaga .</br>Üle poole katsealustest pidas end nooremaks ja umbes viiendik tundis end vanemana , kui nad tegelikult olid .</br></br>Nooruse saladused</br></br>Subjektiivne arvamus oma vanuse kohta on üsna oluline , sest enesetunnetusest selle kõige laiemas tähenduses sõltub ju inimese meeleolu ja käitumine .</br>Miks inimesed oma vanust erinevalt tunnetavad , on püütud seletada mitut moodi .</br>Teadlaste seas ühe levi nuima arvamuse järgi on igal isiksusel nn. aastate psühhofüsioloogilise aktiivsuse tsüklite “ loendaja ” , mille “ näitude ” alusel hinnataksegi oma psühholoogilist vanust .</br>Teine seletus opereerib saavutustega , eneseteostusega , mis on teatud eas inimestele ena masti omane .</br>Rõhutatakse , et kui inimese saavutused ületavad sotsiaalsed ootused , hakkab ta end tundma vanemana , kui ta tegelikult on .</br>Juhul , kui saavutused on väiksemad kui teatud vanuses temalt loodetakse , tunnetab isik end nooremana .</br>Katsed näitavad , e t näiteks vallalised tunnetavad end oluliselt nooremana kui abieluinimesed .</br>Inimesed , kes tunnetavad end tegelikust tunduvalt nooremana , on sageli vähem iseseisvad ja emotsionaalselt ebastabiilsemad .</br></br>Seega võib psühholoogilist vanust defineerida ka kui isiksuse psühholoogilise aja realiseerumise astet .</br>Või teisiti - psühholoogilise aja realiseerumist ehk täitumist teadvustab iga inimene oma “ hingelise ” vanusena , mida nimetataksegi isiksuse psühhol oogiliseks vanuseks .</br>Erinevalt kronoloogilisest ja bioloogilisest vanusest on psühholoogiline vanus pöörduv , s.t. et inimene võib muutuda järjest nooremaks .</br>See toimub enamasti n.-ö. psühholoogilise tuleviku suurenemise arvel : kui inimene loodab kaua elad a , siis ta vananeb “ aeglasemalt ” .</br></br>Mõtted , mis teevad vanemaks või nooremaks</br></br>Nagu teada , elavad paljud vanad inimesed oma mõtetega rohkem minevikus .</br>Sellega püüavad nad kompenseerida oma bioloogilist ja sotsiaalset vananemist .</br>Elades mineviku kujutlustes oma ilusate mälestuste keskel tunneb vana inimene end emotsionaalselt tea taval määral nooremana .</br>Täpsustuseks peab veel lisama , et see , kes elab mõtetega rohkem tulevikus , kui olevikus , tunnetab end vanemana , kui inimene , kes “ elab siin ja praegu ” .</br></br>Praktika näitab veel ka , et lootuse kaotanud inimese ja optimistlikult meelestatud inimese psühholoogilise mineviku ja tuleviku suhe ning psühholoogilise aja täitumus erinevad oluliselt .</br>Psühholoogiline vanus on seda suurem , mida vähem inimene loodab veel elada ja mida enam on realiseerunud tema psühholoogiline aeg .</br></br>Märkimist väärib fakt , et erinevates eluvaldkondades ( tööl , kodus , sõprade keskel jne. ) hindab inimene oma psühholoogilise aja täitumust erinevalt , seega on vastavalt tegutsemise sfäärile erinev ka tema psühholoogiline vanus .</br>Igal juhul on lootus ja h uvi oma tuleviku vastu isiksuse harmooniliseks psühholoogiliseks arenguks väga oluline .</br>Inimene , kellele tulevik ei tõota meeldivat tegevust ja eneseteostust , vananeb psühholoogiliselt enneaegselt .</br></br>LISA - Arvutage ise oma psühholoogiline vanus  Kirjutage meile , mis tulemused saite !</div></td>\n",
       "    </tr>\n",
       "  </tbody>\n",
       "</table>\n",
       "<h4>Metadata</h4>\n",
       "<table border=\"1\" class=\"dataframe\">\n",
       "  <tbody>\n",
       "    <tr>\n",
       "      <td>ajakirjanumber</td>\n",
       "      <td>Horisont , 1996</td>\n",
       "    </tr>\n",
       "    <tr>\n",
       "      <td>author</td>\n",
       "      <td>MARIA TEIVERLAUR</td>\n",
       "    </tr>\n",
       "    <tr>\n",
       "      <td>title</td>\n",
       "      <td>OLEN NOOR VÕI OLEN VANA ?</td>\n",
       "    </tr>\n",
       "    <tr>\n",
       "      <td>type</td>\n",
       "      <td>artikkel</td>\n",
       "    </tr>\n",
       "  </tbody>\n",
       "</table>"
      ],
      "text/plain": [
       "Text(text='MARIA TEIVERLAUR\\n\\nMina olen veel noor …\\n\\nMARIA TEIVERLAUR ( 1955 ) on meditsiinipsühholoog , Jämejala Psühhiaatriahaigla psühholoogia kabineti juhataja .\\nViljandi Kultuurikolledzi õppejõud .\\nPedagoogikakandidaat aastast 1992.\\n\\nTeie käest küsitakse , kui vana Te olete .\\nTundub , et sellele pärimisele on lihtne vastata .\\nAga võta näpust … nüüdisaja teadus eristab hoopis mitut erinevat vanust , sealhulgas näiteks bioloogilist , sotsiaalset ja psühholoogilist .\\n\\nInimese subjektiivne suhtumine oma vanusesse on küllaltki erinev .\\nMõnigi eakas inimene võib tunda end nooremana , teine vanemana kui elatud aastad näitavad .\\nElus juhtub sageli , et inimene peab end nooremaks , kui ta tegelikult ( n.-ö. kronoloogiliselt ) o n.\\n\\nMõned aastad tagasi korraldati katse , milles osales 83 kõrgharidusega meest ja naist vanuses 21-44 aastat .\\nNad pidid ette kujutama , et ei tea oma tõelist vanust , ning andma subjektiivse hinnangu selle kohta .\\nTulemused näitasid , et ligi veerandil tegel ik ja subjektiivne vanus kattusid kas täiesti või piirdus erinevus aastaga .\\nÜle poole katsealustest pidas end nooremaks ja umbes viiendik tundis end vanemana , kui nad tegelikult olid .\\n\\nNooruse saladused\\n\\nSubjektiivne arvamus oma vanuse kohta on üsna oluline , sest enesetunnetusest selle kõige laiemas tähenduses sõltub ju inimese meeleolu ja käitumine .\\nMiks inimesed oma vanust erinevalt tunnetavad , on püütud seletada mitut moodi .\\nTeadlaste seas ühe levi nuima arvamuse järgi on igal isiksusel nn. aastate psühhofüsioloogilise aktiivsuse tsüklite “ loendaja ” , mille “ näitude ” alusel hinnataksegi oma psühholoogilist vanust .\\nTeine seletus opereerib saavutustega , eneseteostusega , mis on teatud eas inimestele ena masti omane .\\nRõhutatakse , et kui inimese saavutused ületavad sotsiaalsed ootused , hakkab ta end tundma vanemana , kui ta tegelikult on .\\nJuhul , kui saavutused on väiksemad kui teatud vanuses temalt loodetakse , tunnetab isik end nooremana .\\nKatsed näitavad , e t näiteks vallalised tunnetavad end oluliselt nooremana kui abieluinimesed .\\nInimesed , kes tunnetavad end tegelikust tunduvalt nooremana , on sageli vähem iseseisvad ja emotsionaalselt ebastabiilsemad .\\n\\nSeega võib psühholoogilist vanust defineerida ka kui isiksuse psühholoogilise aja realiseerumise astet .\\nVõi teisiti - psühholoogilise aja realiseerumist ehk täitumist teadvustab iga inimene oma “ hingelise ” vanusena , mida nimetataksegi isiksuse psühhol oogiliseks vanuseks .\\nErinevalt kronoloogilisest ja bioloogilisest vanusest on psühholoogiline vanus pöörduv , s.t. et inimene võib muutuda järjest nooremaks .\\nSee toimub enamasti n.-ö. psühholoogilise tuleviku suurenemise arvel : kui inimene loodab kaua elad a , siis ta vananeb “ aeglasemalt ” .\\n\\nMõtted , mis teevad vanemaks või nooremaks\\n\\nNagu teada , elavad paljud vanad inimesed oma mõtetega rohkem minevikus .\\nSellega püüavad nad kompenseerida oma bioloogilist ja sotsiaalset vananemist .\\nElades mineviku kujutlustes oma ilusate mälestuste keskel tunneb vana inimene end emotsionaalselt tea taval määral nooremana .\\nTäpsustuseks peab veel lisama , et see , kes elab mõtetega rohkem tulevikus , kui olevikus , tunnetab end vanemana , kui inimene , kes “ elab siin ja praegu ” .\\n\\nPraktika näitab veel ka , et lootuse kaotanud inimese ja optimistlikult meelestatud inimese psühholoogilise mineviku ja tuleviku suhe ning psühholoogilise aja täitumus erinevad oluliselt .\\nPsühholoogiline vanus on seda suurem , mida vähem inimene loodab veel elada ja mida enam on realiseerunud tema psühholoogiline aeg .\\n\\nMärkimist väärib fakt , et erinevates eluvaldkondades ( tööl , kodus , sõprade keskel jne. ) hindab inimene oma psühholoogilise aja täitumust erinevalt , seega on vastavalt tegutsemise sfäärile erinev ka tema psühholoogiline vanus .\\nIgal juhul on lootus ja h uvi oma tuleviku vastu isiksuse harmooniliseks psühholoogiliseks arenguks väga oluline .\\nInimene , kellele tulevik ei tõota meeldivat tegevust ja eneseteostust , vananeb psühholoogiliselt enneaegselt .\\n\\nLISA - Arvutage ise oma psühholoogiline vanus  Kirjutage meile , mis tulemused saite !')"
      ]
     },
     "metadata": {},
     "output_type": "display_data"
    },
    {
     "name": "stdout",
     "output_type": "stream",
     "text": [
      "['MARIA TEIVERLAURMina olen veel noor …MARIA TEIVERLAUR ( 1955 ) on meditsiinipsühholoog , Jämejala Psühhiaatriahaigla psühholoogia kabineti juhataja .\\nViljandi Kultuurikolledzi õppejõud .\\nPedagoogikakandidaat aastast 1992.\\nTeie käest küsitakse , kui vana Te olete .\\nTundub , et sellele pärimisele on lihtne vastata .\\nAga võta näpust … nüüdisaja teadus eristab hoopis mitut erinevat vanust , sealhulgas näiteks bioloogilist , sotsiaalset ja psühholoogilist .\\nInimese subjektiivne suhtumine oma vanusesse on küllaltki erinev .\\nMõnigi eakas inimene võib tunda end nooremana , teine vanemana kui elatud aastad näitavad .\\nElus juhtub sageli , et inimene peab end nooremaks , kui ta tegelikult ( n.-ö. kronoloogiliselt ) o n .\\nMõned aastad tagasi korraldati katse , milles osales 83 kõrgharidusega meest ja naist vanuses 21 - 44 aastat .\\nNad pidid ette kujutama , et ei tea oma tõelist vanust , ning andma subjektiivse hinnangu selle kohta .\\nTulemused näitasid , et ligi veerandil tegel ik ja subjektiivne vanus kattusid kas täiesti või piirdus erinevus aastaga .\\nÜle poole katsealustest pidas end nooremaks ja umbes viiendik tundis end vanemana , kui nad tegelikult olid .Nooruse saladusedSubjektiivne arvamus oma vanuse kohta on üsna oluline , sest enesetunnetusest selle kõige laiemas tähenduses sõltub ju inimese meeleolu ja käitumine .\\nMiks inimesed oma vanust erinevalt tunnetavad , on püütud seletada mitut moodi .\\nTeadlaste seas ühe levi nuima arvamuse järgi on igal isiksusel nn. aastate psühhofüsioloogilise aktiivsuse tsüklite “ loendaja ” , mille “ näitude ” alusel hinnataksegi oma psühholoogilist vanust .\\nTeine seletus opereerib saavutustega , eneseteostusega , mis on teatud eas inimestele ena masti omane .\\nRõhutatakse , et kui inimese saavutused ületavad sotsiaalsed ootused , hakkab ta end tundma vanemana , kui ta tegelikult on .\\nJuhul , kui saavutused on väiksemad kui teatud vanuses temalt loodetakse , tunnetab isik end nooremana .\\nKatsed näitavad , e t näiteks vallalised tunnetavad end oluliselt nooremana kui abieluinimesed .\\nInimesed , kes tunnetavad end tegelikust tunduvalt nooremana , on sageli vähem iseseisvad ja emotsionaalselt ebastabiilsemad .\\nSeega võib psühholoogilist vanust defineerida ka kui isiksuse psühholoogilise aja realiseerumise astet .\\nVõi teisiti - psühholoogilise aja realiseerumist ehk täitumist teadvustab iga inimene oma “ hingelise ” vanusena , mida nimetataksegi isiksuse psühhol oogiliseks vanuseks .\\nErinevalt kronoloogilisest ja bioloogilisest vanusest on psühholoogiline vanus pöörduv , s.t. et inimene võib muutuda järjest nooremaks .\\nSee toimub enamasti n.-ö. psühholoogilise tuleviku suurenemise arvel : kui inimene loodab kaua elad a , siis ta vananeb “ aeglasemalt ” .\\nMõtted , mis teevad vanemaks või nooremaksNagu teada , elavad paljud vanad inimesed oma mõtetega rohkem minevikus .\\nSellega püüavad nad kompenseerida oma bioloogilist ja sotsiaalset vananemist .\\nElades mineviku kujutlustes oma ilusate mälestuste keskel tunneb vana inimene end emotsionaalselt tea taval määral nooremana .\\nTäpsustuseks peab veel lisama , et see , kes elab mõtetega rohkem tulevikus , kui olevikus , tunnetab end vanemana , kui inimene , kes “ elab siin ja praegu ” .\\nPraktika näitab veel ka , et lootuse kaotanud inimese ja optimistlikult meelestatud inimese psühholoogilise mineviku ja tuleviku suhe ning psühholoogilise aja täitumus erinevad oluliselt .\\nPsühholoogiline vanus on seda suurem , mida vähem inimene loodab veel elada ja mida enam on realiseerunud tema psühholoogiline aeg .\\nMärkimist väärib fakt , et erinevates eluvaldkondades ( tööl , kodus , sõprade keskel jne . ) hindab inimene oma psühholoogilise aja täitumust erinevalt , seega on vastavalt tegutsemise sfäärile erinev ka tema psühholoogiline vanus .\\nIgal juhul on lootus ja h uvi oma tuleviku vastu isiksuse harmooniliseks psühholoogiliseks arenguks väga oluline .\\nInimene , kellele tulevik ei tõota meeldivat tegevust ja eneseteostust , vananeb psühholoogiliselt enneaegselt .\\nLISA - Arvutage ise oma psühholoogiline vanus Kirjutage meile , mis tulemused saite !']\n"
     ]
    }
   ],
   "source": [
    "from pipelines.step01_create_training_corpus.estNLTK_corpus_processing import clean_and_extract_sentences_corpus\n",
    "\n",
    "\n",
    "corpus_path = \"data/Horisont/Hori/horisont\"\n",
    "result_path = \"data/corp_res_clean.tsv\"\n",
    "\n",
    "# showing the first entry in the corpus\n",
    "for text_obj in parse_tei_corpora(corpus_path, target=['artikkel']):\n",
    "    display(text_obj)\n",
    "    break\n",
    "\n",
    "# processing and showing the first entry\n",
    "clean_and_extract_sentences_corpus(corpus_path, result_path)\n",
    "showFirstN(1, result_path)\n",
    "        "
   ]
  },
  {
   "cell_type": "markdown",
   "id": "a577f54a",
   "metadata": {},
   "source": [
    "### ESTNLTK Corpus processing + clean"
   ]
  },
  {
   "cell_type": "markdown",
   "id": "1bf76ac8",
   "metadata": {},
   "source": [
    "You have to specify the *clean* argument to clean or further process these texts. If specified, this argument must be a function that takes 1 argument (an EstNLTK Text object) and also returns an EstNLTK Text object or a list of EstNLTK Text objects."
   ]
  },
  {
   "cell_type": "code",
   "execution_count": 3,
   "id": "90c5ae8b",
   "metadata": {},
   "outputs": [
    {
     "data": {
      "text/html": [
       "<table border=\"1\" class=\"dataframe\">\n",
       "  <thead>\n",
       "    <tr style=\"text-align: right;\">\n",
       "      <th>text</th>\n",
       "    </tr>\n",
       "  </thead>\n",
       "  <tbody>\n",
       "    <tr>\n",
       "      <td><div align = \"left\">Täna äärmiselt ilm</div></td>\n",
       "    </tr>\n",
       "  </tbody>\n",
       "</table>"
      ],
      "text/plain": [
       "Text(text='Täna äärmiselt ilm')"
      ]
     },
     "execution_count": 3,
     "metadata": {},
     "output_type": "execute_result"
    }
   ],
   "source": [
    "# lets make a simple clean function that removes every other token.\n",
    "def simpleClean(text_obj):\n",
    "    text_obj.tag_layer(['tokens'])\n",
    "    res = []\n",
    "    for i, token in enumerate(text_obj.tokens):\n",
    "        if (i % 2 == 0):\n",
    "            res.append(token.text)\n",
    "    return Text(\" \".join(res))\n",
    "    \n",
    "# testing\n",
    "simpleClean(Text(\"Täna on äärmiselt kena ilm.\"))"
   ]
  },
  {
   "cell_type": "code",
   "execution_count": 4,
   "id": "dd0a7f61",
   "metadata": {},
   "outputs": [
    {
     "name": "stdout",
     "output_type": "stream",
     "text": [
      "['MARIA Mina veel …TEIVERLAUR 1955 on , Psühhiaatriahaigla kabineti .Kultuurikolledzi .aastast .\\nkäest , vana olete Tundub et pärimisele lihtne .\\nvõta … teadus hoopis erinevat , näiteks , ja .\\nsubjektiivne oma on erinev Mõnigi inimene tunda nooremana teine kui aastad .\\njuhtub , inimene end , ta ( .\\nö kronoloogiliselt o .\\naastad korraldati , osales kõrgharidusega ja vanuses - aastat Nad ette , ei oma vanust ning subjektiivse selle .\\nnäitasid et veerandil ik subjektiivne kattusid täiesti piirdus aastaga Üle katsealustest end ja viiendik end , nad olid Nooruse Subjektiivne oma kohta üsna , enesetunnetusest kõige tähenduses ju meeleolu käitumine Miks oma erinevalt , püütud mitut .\\nseas levi arvamuse on isiksusel .\\npsühhofüsioloogilise tsüklite loendaja , “ ” hinnataksegi psühholoogilist .\\nseletus saavutustega eneseteostusega mis teatud inimestele masti .\\n, kui saavutused sotsiaalsed , ta tundma , ta on Juhul kui on kui vanuses loodetakse tunnetab end .\\nnäitavad e näiteks tunnetavad oluliselt kui .\\n, tunnetavad tegelikust nooremana on vähem ja ebastabiilsemad Seega psühholoogilist defineerida kui psühholoogilise realiseerumise .\\nteisiti psühholoogilise realiseerumist täitumist iga oma hingelise vanusena mida isiksuse oogiliseks .\\nkronoloogilisest bioloogilisest on vanus , . .\\ninimene muutuda nooremaks See enamasti .\\nö psühholoogilise suurenemise : inimene kaua a siis vananeb aeglasemalt .\\n, teevad või Nagu , paljud inimesed mõtetega minevikus Sellega nad oma ja vananemist Elades kujutlustes ilusate keskel vana end tea määral .\\npeab lisama et , elab rohkem , olevikus tunnetab vanemana kui , “ siin praegu .\\nnäitab ka et kaotanud ja meelestatud psühholoogilise ja suhe psühholoogilise täitumus oluliselt Psühholoogiline on suurem mida inimene veel ja enam realiseerunud psühholoogiline .\\nväärib , erinevates ( , , keskel .\\nhindab oma aja erinevalt seega vastavalt sfäärile ka psühholoogiline .\\njuhul lootus h oma vastu harmooniliseks arenguks oluline Inimene kellele ei meeldivat ja , psühholoogiliselt .\\n- ise psühholoogiline Kirjutage , tulemused !']\n"
     ]
    }
   ],
   "source": [
    "# processing and showing the first entry\n",
    "clean_and_extract_sentences_corpus(corpus_path, result_path, clean=simpleClean)\n",
    "showFirstN(1, result_path)"
   ]
  },
  {
   "cell_type": "markdown",
   "id": "5d437af3",
   "metadata": {},
   "source": [
    "### ESTNLTK pre-made cleaning functions"
   ]
  },
  {
   "cell_type": "markdown",
   "id": "76c7fe26",
   "metadata": {},
   "source": [
    "There are two cleaning functions already made in this project. Both are meant for cleaning clinical notes. These are called:\n",
    "\n",
    " * **clean_med** - removes tables/lists, replaces anonymised tags with \"ta\"/\"tegema\" (in the correct form) /\"\\<ADJ>\"/\"\\<NAME>\"/\"\\<ADV>\"/\"\\<INJ>\", replaces dates with \"\\<DATE>\", integers with \"\\<INT>\" and floats with \"\\<FLOAT>\"\n",
    " * **clean_med_r_events** - does the same as **clean_med**, but also removes the event headers and splits the clinical note at event header locations into individual tokens."
   ]
  },
  {
   "cell_type": "code",
   "execution_count": 5,
   "id": "af4cf3ba",
   "metadata": {},
   "outputs": [
    {
     "name": "stdout",
     "output_type": "stream",
     "text": [
      "['MARIA TEIVERLAURMina olen veel noor …MARIA TEIVERLAUR ( <DATE> ) on meditsiinipsühholoog , Jämejala Psühhiaatriahaigla psühholoogia kabineti juhataja .\\nViljandi Kultuurikolledzi õppejõud .\\nPedagoogikakandidaat aastast <DATE> .\\nTeie käest küsitakse , kui vana Te olete .\\nTundub , et sellele pärimisele on lihtne vastata .\\nAga võta näpust … nüüdisaja teadus eristab hoopis mitut erinevat vanust , sealhulgas näiteks bioloogilist , sotsiaalset ja psühholoogilist .\\nInimese subjektiivne suhtumine oma vanusesse on küllaltki erinev .\\nMõnigi eakas inimene võib tunda end nooremana , teine vanemana kui elatud aastad näitavad .\\nElus juhtub sageli , et inimene peab end nooremaks , kui ta tegelikult ( n.-ö. kronoloogiliselt ) o n .\\nMõned aastad tagasi korraldati katse , milles osales <INT> kõrgharidusega meest ja naist vanuses <INT> - <INT> aastat .\\nNad pidid ette kujutama , et ei tea oma tõelist vanust , ning andma subjektiivse hinnangu selle kohta .\\nTulemused näitasid , et ligi veerandil tegel ik ja subjektiivne vanus kattusid kas täiesti või piirdus erinevus aastaga .\\nÜle poole katsealustest pidas end nooremaks ja umbes viiendik tundis end vanemana , kui nad tegelikult olid .Nooruse saladusedSubjektiivne arvamus oma vanuse kohta on üsna oluline , sest enesetunnetusest selle kõige laiemas tähenduses sõltub ju inimese meeleolu ja käitumine .\\nMiks inimesed oma vanust erinevalt tunnetavad , on püütud seletada mitut moodi .\\nTeadlaste seas ühe levi nuima arvamuse järgi on igal isiksusel nn. aastate psühhofüsioloogilise aktiivsuse tsüklite “ loendaja ” , mille “ näitude ” alusel hinnataksegi oma psühholoogilist vanust .\\nTeine seletus opereerib saavutustega , eneseteostusega , mis on teatud eas inimestele ena masti omane .\\nRõhutatakse , et kui inimese saavutused ületavad sotsiaalsed ootused , hakkab ta end tundma vanemana , kui ta tegelikult on .\\nJuhul , kui saavutused on väiksemad kui teatud vanuses temalt loodetakse , tunnetab isik end nooremana .\\nKatsed näitavad , e t näiteks vallalised tunnetavad end oluliselt nooremana kui abieluinimesed .\\nInimesed , kes tunnetavad end tegelikust tunduvalt nooremana , on sageli vähem iseseisvad ja emotsionaalselt ebastabiilsemad .\\nSeega võib psühholoogilist vanust defineerida ka kui isiksuse psühholoogilise aja realiseerumise astet .\\nVõi teisiti - psühholoogilise aja realiseerumist ehk täitumist teadvustab iga inimene oma “ hingelise ” vanusena , mida nimetataksegi isiksuse psühhol oogiliseks vanuseks .\\nErinevalt kronoloogilisest ja bioloogilisest vanusest on psühholoogiline vanus pöörduv , s.t. et inimene võib muutuda järjest nooremaks .\\nSee toimub enamasti n.-ö. psühholoogilise tuleviku suurenemise arvel : kui inimene loodab kaua elad a , siis ta vananeb “ aeglasemalt ” .\\nMõtted , mis teevad vanemaks või nooremaksNagu teada , elavad paljud vanad inimesed oma mõtetega rohkem minevikus .\\nSellega püüavad nad kompenseerida oma bioloogilist ja sotsiaalset vananemist .\\nElades mineviku kujutlustes oma ilusate mälestuste keskel tunneb vana inimene end emotsionaalselt tea taval määral nooremana .\\nTäpsustuseks peab veel lisama , et see , kes elab mõtetega rohkem tulevikus , kui olevikus , tunnetab end vanemana , kui inimene , kes “ elab siin ja praegu ” .\\nPraktika näitab veel ka , et lootuse kaotanud inimese ja optimistlikult meelestatud inimese psühholoogilise mineviku ja tuleviku suhe ning psühholoogilise aja täitumus erinevad oluliselt .\\nPsühholoogiline vanus on seda suurem , mida vähem inimene loodab veel elada ja mida enam on realiseerunud tema psühholoogiline aeg .\\nMärkimist väärib fakt , et erinevates eluvaldkondades ( tööl , kodus , sõprade keskel jne . ) hindab inimene oma psühholoogilise aja täitumust erinevalt , seega on vastavalt tegutsemise sfäärile erinev ka tema psühholoogiline vanus .\\nIgal juhul on lootus ja h uvi oma tuleviku vastu isiksuse harmooniliseks psühholoogiliseks arenguks väga oluline .\\nInimene , kellele tulevik ei tõota meeldivat tegevust ja eneseteostust , vananeb psühholoogiliselt enneaegselt .\\nLISA - Arvutage ise oma psühholoogiline vanus Kirjutage meile , mis tulemused saite !']\n"
     ]
    }
   ],
   "source": [
    "from pipelines.step01_create_training_corpus.textprocessing.text_cleaning import clean_med, clean_med_r_events\n",
    "\n",
    "clean_and_extract_sentences_corpus(corpus_path, result_path, clean=clean_med)\n",
    "showFirstN(1, result_path)"
   ]
  },
  {
   "cell_type": "markdown",
   "id": "aa072ee1",
   "metadata": {},
   "source": [
    "## Other pipelines in step01"
   ]
  },
  {
   "cell_type": "markdown",
   "id": "b835ea71",
   "metadata": {},
   "source": [
    "Other pipelines behave similarly, thus wont be shown in this tutorial, but they are brought out here:\n",
    "\n",
    " * **clean_and_extract_sentences_db** - Takes texts ('raw_text' column) from source table.schema, cleans then separates sentences and puts the result into target schema.table (text column)\n",
    "        param: db_config: parameters used to make a connection to the database\n",
    "                for example:\n",
    "                \"postgresql://{username}:{password}@{host}:{port}/{database}\".format(\n",
    "                username=\"username\",\n",
    "                password=\"pass\",\n",
    "                host=\"ip\",\n",
    "                port=5432,\n",
    "                database=\"dbname\")\n",
    "        :param source_schema: The schema, that contains the source_table\n",
    "        :param source_table: The table that contains the texts which will be processed ('raw_text' column)\n",
    "        :param target_schema: The schema, that contains the target_table\n",
    "        :param target_table: The name of the resulting table. Must have column: 'text'\n",
    "        :param clean: Function, that cleans takes an EstNLTK object as an argument and cleans it and returns it\n",
    "            \n",
    " * **clean_and_extract_sentences_tsv** - A pipeline that converts and cleans text from a source tsv file into usable form for training a BERT model.\n",
    "        :param in_tsv_path: path to the source .tsv file\n",
    "        :param out_path: path to the output .txt file\n",
    "        :param text_col_i: index of the column, that contains text to be cleaned and extracted\n",
    "        :param clean: Function, that cleans takes an EstNLTK object as an argument and cleans it\n",
    "        \n",
    " * **clean_and_extract_parallel_tsv** - A parallelized pipeline that converts and cleans text from a source tsv file into usable form for training a BERT model.\n",
    "        :param max_processes: (default = 3) (min = 3), The number of processes you want to create and use. Note that you don't need as many if you use a cheap clean function (if at all) than an expensive one.\n",
    "        For other params see clean_and_extract_sentences_tsv\n",
    " \n",
    " \n",
    " * **clean_and_extract_parallel_corpus** - A parallelized pipeline that converts and cleans text from a source tsv file into usable form for training a BERT model.\n",
    "        :param max_processes: (default = 3) (min = 3), The number of processes you want to create and use. Note that you don't need as many if you use a cheap clean function (if at all) than an expensive one.\n",
    "        For other params see clean_and_extract_parallel_corpus\n",
    " "
   ]
  }
 ],
 "metadata": {
  "kernelspec": {
   "display_name": "Python 3",
   "language": "python",
   "name": "python3"
  },
  "language_info": {
   "codemirror_mode": {
    "name": "ipython",
    "version": 3
   },
   "file_extension": ".py",
   "mimetype": "text/x-python",
   "name": "python",
   "nbconvert_exporter": "python",
   "pygments_lexer": "ipython3",
   "version": "3.8.10"
  }
 },
 "nbformat": 4,
 "nbformat_minor": 5
}
