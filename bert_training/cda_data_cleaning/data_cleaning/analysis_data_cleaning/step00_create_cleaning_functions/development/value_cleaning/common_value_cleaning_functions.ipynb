{
 "cells": [
  {
   "cell_type": "code",
   "execution_count": 10,
   "metadata": {},
   "outputs": [],
   "source": [
    "import re"
   ]
  },
  {
   "cell_type": "code",
   "execution_count": null,
   "metadata": {},
   "outputs": [],
   "source": []
  },
  {
   "cell_type": "code",
   "execution_count": 1,
   "metadata": {},
   "outputs": [],
   "source": [
    "def clean_float(val):\n",
    "    value = val.strip()\n",
    "    parts = value.replace(',', '.').split('.')\n",
    "    clean = ''\n",
    "\n",
    "    if parts[0].startswith('-'):\n",
    "        clean += '-'\n",
    "\n",
    "    parts[0] = parts[0].strip('+-').strip()\n",
    "    parts[1] = parts[1].strip()\n",
    "    \n",
    "    #kui enne komakohta oli ainult - või +, siis 0.xxx\n",
    "    if len(parts[0]) == 0:\n",
    "        parts[0] = '0'\n",
    "    #peale komakohta lisab 0: 4. ->  4.0\n",
    "    if len(parts[1]) == 0:\n",
    "        parts[1] = '0'\n",
    "\n",
    "    #clean on kas - või tühi; \n",
    "    clean += parts[0].strip() + '.' + parts[1].strip()\n",
    "    return clean\n"
   ]
  },
  {
   "cell_type": "code",
   "execution_count": 2,
   "metadata": {},
   "outputs": [],
   "source": [
    "#clean_float('4.')"
   ]
  },
  {
   "cell_type": "code",
   "execution_count": 22,
   "metadata": {},
   "outputs": [],
   "source": [
    "import sys\n",
    "import os\n",
    "import pathlib\n",
    "__file__ = os.path.abspath('')\n",
    "filename = 'possible_units.csv'\n",
    "directory = pathlib.Path(__file__).parent.parent.as_posix()\n",
    "\n",
    "possible_units = open(\"/home/anneott/Repos/cda-data-cleaning/cda_data_cleaning/shared_workflows/loinc_cleaning/development/loinc_unit_assignment/data/\" + filename)\n",
    "possible_units = possible_units.read()\n",
    "possible_units = possible_units.split('\\n')\n",
    "possible_units = sorted(possible_units)"
   ]
  },
  {
   "cell_type": "code",
   "execution_count": 23,
   "metadata": {},
   "outputs": [],
   "source": [
    "def remove_units(raw_text, strict):\n",
    "    text = raw_text.strip()\n",
    "    selected_unit = \"\"\n",
    "    for unit in possible_units:\n",
    "        if text.split()[-1] == unit and len(unit) > len(selected_unit) and strict\\\n",
    "                or text.endswith(unit) and len(unit) > len(selected_unit) and not strict:\n",
    "            selected_unit = unit\n",
    "    if selected_unit != \"\":\n",
    "        selected_unit = selected_unit\n",
    "        return text[:len(text) - len(selected_unit)].strip()\n",
    "    return text"
   ]
  },
  {
   "cell_type": "code",
   "execution_count": 25,
   "metadata": {},
   "outputs": [
    {
     "data": {
      "text/plain": [
       "'9.8 10g/l - 10.8'"
      ]
     },
     "execution_count": 25,
     "metadata": {},
     "output_type": "execute_result"
    }
   ],
   "source": [
    "strict = False\n",
    "raw_text = '9.8 10g/l - 10.8 10g/l'\n",
    "#selected_unit = '10g/l'\n",
    "#raw_text[:len(raw_text) - len(selected_unit)] #see töötab õigesti, alumine mitte\n",
    "#LAHENDUS PANE POSSILBE UNITS TÄHESTIKU JRK\n",
    "#remove_units(raw_text, strict)\n",
    "remove_units(raw_text, strict)"
   ]
  },
  {
   "cell_type": "code",
   "execution_count": 7,
   "metadata": {},
   "outputs": [],
   "source": [
    "import re\n",
    "clean = []\n",
    "type = []\n",
    "\n",
    "def match_float(text):\n",
    "        m1 = re.match(\"^\\s*[+-]?[0-9][\\.,][0-9]*\\s*$\", text)\n",
    "        print('m1', m1)\n",
    "        m2 = re.match(\"^\\s*[+-]?[\\.,][0-9]+\\s*$\", text)\n",
    "        print('m2', m2)\n",
    "        m3 = re.match(\"^\\s*[+-]?[1-9][0-9]*[\\.,][0-9]*\\s*$\", text)\n",
    "        print('m3', m3)\n",
    "        return m1 or m2 or m3\n",
    "\n",
    "def is_float(text):\n",
    "    units_removed = remove_units(text, True)\n",
    "    print('units_removed', units_removed)\n",
    "    if match_float(units_removed):\n",
    "        clean.append(clean_float(units_removed))\n",
    "        type.append(\"float\")\n",
    "        return True\n",
    "    return False"
   ]
  },
  {
   "cell_type": "code",
   "execution_count": 16,
   "metadata": {},
   "outputs": [
    {
     "name": "stdout",
     "output_type": "stream",
     "text": [
      "m1 <_sre.SRE_Match object; span=(0, 3), match='4.5'>\n",
      "m2 None\n",
      "m3 <_sre.SRE_Match object; span=(0, 3), match='4.5'>\n"
     ]
    },
    {
     "data": {
      "text/plain": [
       "<_sre.SRE_Match object; span=(0, 3), match='4.5'>"
      ]
     },
     "execution_count": 16,
     "metadata": {},
     "output_type": "execute_result"
    }
   ],
   "source": [
    "#is_float('3.4 10g/l')\n",
    "#is_float('4.5ab')\n",
    "match_float('4.5')"
   ]
  },
  {
   "cell_type": "code",
   "execution_count": null,
   "metadata": {},
   "outputs": [],
   "source": []
  },
  {
   "cell_type": "code",
   "execution_count": null,
   "metadata": {},
   "outputs": [],
   "source": []
  },
  {
   "cell_type": "markdown",
   "metadata": {},
   "source": [
    "INTEGER"
   ]
  },
  {
   "cell_type": "code",
   "execution_count": 7,
   "metadata": {},
   "outputs": [],
   "source": [
    "def match_integer(text):\n",
    "    m1 = re.match(\"^\\s*[+-]?[1-9][0-9]*\\s*$\", text)\n",
    "    m2 = re.match(\"^\\s*0\\s*$\", text)\n",
    "    return m1 or m2\n",
    "\n",
    "\n",
    "def is_integer(text):\n",
    "    units_removed = remove_units(text, True)\n",
    "    if match_integer(units_removed):\n",
    "        clean.append(self.clean_integer(units_removed))\n",
    "        type.append(\"integer\")\n",
    "        return True\n",
    "    return False\n",
    "\n",
    "def clean_integer(val):\n",
    "    value = val.strip()\n",
    "    clean = ''\n",
    "\n",
    "    if value.startswith('-'):\n",
    "        clean += '-'\n",
    "\n",
    "    clean += value.strip('+-').strip()\n",
    "    return clean\n",
    "\n",
    "\n"
   ]
  },
  {
   "cell_type": "code",
   "execution_count": null,
   "metadata": {},
   "outputs": [],
   "source": []
  },
  {
   "cell_type": "markdown",
   "metadata": {},
   "source": [
    "NUM AND PAR"
   ]
  },
  {
   "cell_type": "code",
   "execution_count": 72,
   "metadata": {},
   "outputs": [],
   "source": [
    "def match_num_and_par(text):\n",
    "    parts = text.strip().split('(')\n",
    "    if len(parts) == 2 and parts[1].strip().endswith(')'):\n",
    "        parts[1] = parts[1].strip().strip(')')\n",
    "        type_p1 = None\n",
    "        type_p2 = None\n",
    "        if match_integer(parts[0]):\n",
    "            type_p1 = \"integer\"\n",
    "            clean_p1 = clean_integer(parts[0])\n",
    "        elif match_float(parts[0]):\n",
    "            type_p1 = \"float\"\n",
    "            clean_p1 = clean_float(parts[0])\n",
    "            \n",
    "        print('parts 1', parts[1])\n",
    "        if match_integer(parts[1]):\n",
    "            type_p2 = \"integer\"\n",
    "            clean_p2 = clean_integer(parts[1])\n",
    "        elif match_float(parts[1]):\n",
    "            type_p2 = \"float\"\n",
    "            clean_p2 = clean_float(parts[1])\n",
    "        print('cleanp1', clean_p1)\n",
    "        print('cleanp2', clean_p2)\n",
    "        \n",
    "        if type_p1 == \"float\" and type_p2 == \"float\":\n",
    "            print('1')\n",
    "            if clean_p1 == clean_p2:\n",
    "                return [\"num_and_par\", clean_p1]\n",
    "        elif type_p1 == \"float\" and type_p2 == \"integer\":\n",
    "            print('2')\n",
    "            if float(clean_p1) == float(clean_p2):\n",
    "                return [\"num_and_par\", clean_p1]\n",
    "        elif type_p1 == \"integer\" and type_p2 == \"float\":\n",
    "            print('3')\n",
    "            if float(clean_p1) == float(clean_p2):\n",
    "                return [\"num_and_par\", clean_p2]\n",
    "        elif type_p1 == \"integer\" and type_p2 == \"integer\":\n",
    "            print('4')\n",
    "            if clean_p1 == clean_p2:\n",
    "                return [\"num_and_par\", clean_p1]\n",
    "    return False\n"
   ]
  },
  {
   "cell_type": "code",
   "execution_count": 80,
   "metadata": {},
   "outputs": [
    {
     "data": {
      "text/plain": [
       "False"
      ]
     },
     "execution_count": 80,
     "metadata": {},
     "output_type": "execute_result"
    }
   ],
   "source": [
    "match_num_and_par('4(4')\n",
    "#print(match_integer('4 10g/l'))"
   ]
  },
  {
   "cell_type": "code",
   "execution_count": null,
   "metadata": {},
   "outputs": [],
   "source": []
  },
  {
   "cell_type": "code",
   "execution_count": null,
   "metadata": {},
   "outputs": [],
   "source": []
  },
  {
   "cell_type": "code",
   "execution_count": 15,
   "metadata": {},
   "outputs": [],
   "source": [
    "def match_between(text):\n",
    "        text = text.strip().split('-')\n",
    "        print('text ', text)\n",
    "        val1 = None\n",
    "        val2 = None\n",
    "        if len(text) == 4 and text[0].strip() == '' and text[2].strip() == '':\n",
    "            print('len4')\n",
    "            val1 = '-' + text[1].strip()\n",
    "            val2 = '-' + text[3].strip()\n",
    "        if len(text) == 3 and text[0].strip() == '':\n",
    "            print('len3')\n",
    "            val1 = '-' + text[1].strip()\n",
    "            val2 = text[2].strip()\n",
    "        if len(text) == 2:\n",
    "            print('len2')\n",
    "            val1 = text[0].strip()\n",
    "            val2 = text[1].strip()\n",
    "\n",
    "        if val1 and val2:\n",
    "            #result = Range()\n",
    "            print('val1 ja val2 ', val1, val2)\n",
    "            #result.min_inc = True\n",
    "            #result.max_inc = True\n",
    "            min_val = None\n",
    "            max_val = None\n",
    "            if match_integer(val1):\n",
    "                min_val = clean_integer(val1)\n",
    "            elif match_float(val1):\n",
    "                min_val = clean_float(val1)\n",
    "            if match_integer(val2):\n",
    "                max_val = clean_integer(val2)\n",
    "            elif match_float(val2):\n",
    "                max_val = clean_float(val2)\n",
    "\n",
    "    \n",
    "            if min_val and max_val:\n",
    "                result1 = min_val\n",
    "                result2 = max_val\n",
    "                if float(max_val) > float(min_val):\n",
    "                    return [result1, result2]\n",
    "        return False\n",
    "\n"
   ]
  },
  {
   "cell_type": "code",
   "execution_count": 16,
   "metadata": {},
   "outputs": [
    {
     "name": "stdout",
     "output_type": "stream",
     "text": [
      "text  ['', '2', '', '4']\n",
      "len4\n",
      "val1 ja val2  -2 -4\n"
     ]
    },
    {
     "data": {
      "text/plain": [
       "False"
      ]
     },
     "execution_count": 16,
     "metadata": {},
     "output_type": "execute_result"
    }
   ],
   "source": [
    "match_between('-2--4')"
   ]
  },
  {
   "cell_type": "code",
   "execution_count": 6,
   "metadata": {},
   "outputs": [
    {
     "data": {
      "text/plain": [
       "False"
      ]
     },
     "execution_count": 6,
     "metadata": {},
     "output_type": "execute_result"
    }
   ],
   "source": [
    "-4 > -2"
   ]
  }
 ],
 "metadata": {
  "kernelspec": {
   "display_name": "Python 3",
   "language": "python",
   "name": "python3"
  },
  "language_info": {
   "codemirror_mode": {
    "name": "ipython",
    "version": 3
   },
   "file_extension": ".py",
   "mimetype": "text/x-python",
   "name": "python",
   "nbconvert_exporter": "python",
   "pygments_lexer": "ipython3",
   "version": "3.6.0"
  }
 },
 "nbformat": 4,
 "nbformat_minor": 2
}
