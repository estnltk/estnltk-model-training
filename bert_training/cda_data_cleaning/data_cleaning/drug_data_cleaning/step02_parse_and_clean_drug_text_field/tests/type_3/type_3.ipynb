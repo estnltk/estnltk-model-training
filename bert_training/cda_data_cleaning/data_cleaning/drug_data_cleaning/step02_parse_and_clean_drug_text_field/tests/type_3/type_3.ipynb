{
 "cells": [
  {
   "cell_type": "markdown",
   "metadata": {},
   "source": [
    "# Generation of test cases json files"
   ]
  },
  {
   "cell_type": "code",
   "execution_count": 2,
   "metadata": {},
   "outputs": [
    {
     "name": "stdout",
     "output_type": "stream",
     "text": [
      "Created input texts file 'input_type3_0.json'.\n",
      "Created target layers file 'target_type3_0.json'.\n",
      "Created input texts file 'input_type3_1.json'.\n",
      "Created target layers file 'target_type3_1.json'.\n",
      "Created input texts file 'input_type3_2.json'.\n",
      "Created target layers file 'target_type3_2.json'.\n"
     ]
    }
   ],
   "source": [
    "import os\n",
    "import sys\n",
    "sys.path.append(os.path.abspath('../../development/'))\n",
    "sys.path.append(os.path.abspath('../../development/dev_taggers'))\n",
    "from estnltk import Text\n",
    "from estnltk.taggers import TaggerTester\n",
    "from estnltk.taggers import Tagger\n",
    "from drug_tagger import DrugTagger\n",
    "from drug_grammar_token_tagger import DrugGrammarTokenTagger\n",
    "\n",
    "# existing texts\n",
    "raw_texts = []\n",
    "\n",
    "raw_texts.append('''Väljastamise kuupäev: 22.04.2010,\n",
    "Retsepti number:  1001015591,\n",
    "Ravimi nimetus: CARDACE 2,5 MG 28TK,\n",
    "Originaalide arv: 2, \n",
    "ATC kood: C09AA05, \n",
    "Toimeaine: Ramiprilum, \n",
    "Ravimvorm: tablett, \n",
    "Soodustus: 75%, \n",
    "Annustamine:  , \n",
    "Annustamine täpsemalt: 1 tbl 2x päevas\n",
    "''')\n",
    "\n",
    "raw_texts.append('''Väljastamise kuupäev: 26.11.2012,\n",
    "Retsepti number:  3015595134, \n",
    "Ravimi nimetus: MONOPRIL 28TK,\n",
    "Originaalide arv: 2, \n",
    "ATC kood: C09AA09, \n",
    "Toimeaine: Fosinoprilum,\n",
    "Ravimvorm: tablett, \n",
    "Soodustus: 90%,\n",
    "Annustamine:  , \n",
    "Annustamine täpsemalt: 1 tablett päevas.''')\n",
    "\n",
    "raw_texts.append('''Väljastamise kuupäev: 28.05.2013,\n",
    "Retsepti number:  1019262996,\n",
    "Ravimi nimetus:  56TK, \n",
    "Originaalide arv: 1, \n",
    "ATC kood: A02BC01,\n",
    "Toimeaine: Omeprazolum, \n",
    "Ravimvorm: gastroresistentne kõvakapsel,\n",
    "Soodustus: 50%,\n",
    "Annustamine: 1 ta 1 x pv,\n",
    "Annustamine täpsemalt: 1 tab hommikul.''')\n",
    "\n",
    "\n",
    "#expected output\n",
    "expected_texts = [['kuupäev', ' 22.04.2010,', '1001015591', 'Ravimi nimetus', 'CARDACE', '2,5', 'MG', '28', '2', 'ATC kood', ' C09AA05,', 'Toimeaine', 'Ramiprilum', 'tablett', '75', '%', '1', 'tbl', '2', 'päevas'],\n",
    "                 ['kuupäev', ' 26.11.2012,', '3015595134', 'Ravimi nimetus', 'MONOPRIL', '28', '2', 'ATC kood', ' C09AA09,', 'Toimeaine', 'Fosinoprilum', 'tablett', '90', '%', '1', 'tablett', 'päevas'],\n",
    "                 ['kuupäev', ' 28.05.2013,', '1019262996', 'Ravimi nimetus', '56', '1', 'ATC kood', ' A02BC01,', 'Toimeaine', 'Omeprazolum', 'gastroresistentne kõvakapsel', '50', '%', '1', 'ta', '1', 'pv']]\n",
    "                 \n",
    "\n",
    "tagged_texts = []\n",
    "for i, (text, expected) in enumerate(zip(raw_texts, expected_texts)):\n",
    "    # create filenames\n",
    "    name = 'type3_' + str(i)\n",
    "    input_file='input_' + name + '.json'\n",
    "    target_file='target_' + name + '.json'\n",
    "  \n",
    "    # create taggers             \n",
    "    drug_tagger = DrugTagger()\n",
    "    part_tagger = DrugGrammarTokenTagger()\n",
    "    test_generator = TaggerTester(tagger=drug_tagger, input_file=input_file, target_file=target_file)\n",
    "    \n",
    "    # tag text\n",
    "    t = Text(text).tag_layer(['words'])\n",
    "    part_tagger.tag(t)\n",
    "    drug_tagger.tag(t)\n",
    "\n",
    "    test_generator.add_test(name, t, expected)\n",
    "    test_generator.save_input(overwrite=False)\n",
    "    test_generator.save_target(overwrite=False)"
   ]
  }
 ],
 "metadata": {
  "kernelspec": {
   "display_name": "Python 3",
   "language": "python",
   "name": "python3"
  },
  "language_info": {
   "codemirror_mode": {
    "name": "ipython",
    "version": 3
   },
   "file_extension": ".py",
   "mimetype": "text/x-python",
   "name": "python",
   "nbconvert_exporter": "python",
   "pygments_lexer": "ipython3",
   "version": "3.6.10"
  }
 },
 "nbformat": 4,
 "nbformat_minor": 4
}
