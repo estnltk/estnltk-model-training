{
 "cells": [
  {
   "cell_type": "markdown",
   "metadata": {},
   "source": [
    "# Generation of test cases json files"
   ]
  },
  {
   "cell_type": "code",
   "execution_count": 5,
   "metadata": {
    "scrolled": true
   },
   "outputs": [
    {
     "name": "stdout",
     "output_type": "stream",
     "text": [
      "Created input texts file 'input_type1_0.json'.\n",
      "Created target layers file 'target_type1_0.json'.\n",
      "Created input texts file 'input_type1_1.json'.\n",
      "Created target layers file 'target_type1_1.json'.\n",
      "Created input texts file 'input_type1_2.json'.\n",
      "Created target layers file 'target_type1_2.json'.\n",
      "Created input texts file 'input_type1_3.json'.\n",
      "Created target layers file 'target_type1_3.json'.\n"
     ]
    }
   ],
   "source": [
    "import os\n",
    "import sys\n",
    "sys.path.append(os.path.abspath('../../development'))\n",
    "sys.path.append(os.path.abspath('../../development/dev_taggers'))\n",
    "from estnltk import Text\n",
    "from estnltk.taggers import TaggerTester\n",
    "from estnltk.taggers import Tagger\n",
    "from drug_tagger import DrugTagger\n",
    "from drug_grammar_token_tagger import DrugGrammarTokenTagger\n",
    "\n",
    "# existing texts\n",
    "raw_texts = []\n",
    "\n",
    "# type 1.1\n",
    "raw_texts.append('''Retsepti nr.\tRavimi väljastamise kuupäev\tToimeaine\tRavimivorm\tÜhekordne annus\tManustamiskordade arv ajaühikus\n",
    "1025393284 20140415 metoprolool toimeainet prolongeeritult vabastav tablett 1 ta 2 x pv''')\n",
    "\n",
    "# recipe_code date drug_ingr_dose rate (unusual dose)\n",
    "raw_texts.append('''Retsepti nr. Ravimi väljastamise kuupäev\tToimeaine\tRavimivorm\tÜhekordne annus\tManustamiskordade arv ajaühikus\n",
    "1018217714 20130405 telmisartaan+hüdroklorotiasiid tablett 80/12,5 mg 1 x pv''')\n",
    "\n",
    "# recipe_code date drug_ingr_dose\n",
    "raw_texts.append('''Retsepti nr.\tRavimi väljastamise kuupäev\tToimeaine\tRavimivorm\tÜhekordne annus\tManustamiskordade arv ajaühikus\n",
    "1002965348 20101116 omeprasool gastroresistentne kõvakapsel''' )\n",
    "\n",
    "# type 1.3\n",
    "# recipe_code atc_code drug_ingr_dose\n",
    "raw_texts.append('''Retsepti nr.\tToimeaine\tRavimvorm\tAnnustamine\n",
    "              1037303554 N06AX16-venlafaksiin toimeainet prolongeeritult vabastav kõvakapsel 1 kapsel h''')\n",
    "\n",
    "#expected output\n",
    "expected_texts = [['1025393284', ' 20140415 ', 'metoprolool', 'toimeainet prolongeeritult vabastav tablett', '1', 'ta', '2', 'pv'],\n",
    "                  ['1018217714', ' 20130405 ', 'telmisartaan+hüdroklorotiasiid', 'tablett', '80/12,5', 'mg',  '1', 'pv'],\n",
    "                  ['1002965348', ' 20101116 ', 'omeprasool',  'gastroresistentne kõvakapsel'],\n",
    "                  ['1037303554', ' N06AX16-', 'venlafaksiin', 'toimeainet prolongeeritult vabastav kõvakapsel', '1']]\n",
    "\n",
    "\n",
    "tagged_texts = []\n",
    "for i, (text, expected) in enumerate(zip(raw_texts, expected_texts)):\n",
    "    # create filenames\n",
    "    name = 'type1_' + str(i)\n",
    "    input_file='input_' + name + '.json'\n",
    "    target_file='target_' + name + '.json'\n",
    "  \n",
    "    # create taggers             \n",
    "    drug_tagger = DrugTagger()\n",
    "    part_tagger = DrugGrammarTokenTagger()\n",
    "    test_generator = TaggerTester(tagger=drug_tagger, input_file=input_file, target_file=target_file)\n",
    "    \n",
    "    # tag text\n",
    "    t = Text(text).tag_layer(['words'])\n",
    "    part_tagger.tag(t)\n",
    "    drug_tagger.tag(t)\n",
    "\n",
    "    test_generator.add_test(name, t, expected)\n",
    "    test_generator.save_input(overwrite=False)\n",
    "    test_generator.save_target(overwrite=False)"
   ]
  }
 ],
 "metadata": {
  "kernelspec": {
   "display_name": "Python 3",
   "language": "python",
   "name": "python3"
  },
  "language_info": {
   "codemirror_mode": {
    "name": "ipython",
    "version": 3
   },
   "file_extension": ".py",
   "mimetype": "text/x-python",
   "name": "python",
   "nbconvert_exporter": "python",
   "pygments_lexer": "ipython3",
   "version": "3.6.10"
  }
 },
 "nbformat": 4,
 "nbformat_minor": 4
}
