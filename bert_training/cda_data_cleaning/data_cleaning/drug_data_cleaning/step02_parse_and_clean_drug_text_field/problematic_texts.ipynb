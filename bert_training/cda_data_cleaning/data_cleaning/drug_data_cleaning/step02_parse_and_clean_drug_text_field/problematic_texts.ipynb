{
 "cells": [
  {
   "cell_type": "markdown",
   "metadata": {},
   "source": [
    "# Examples of texts that are tagged/decorated wrong"
   ]
  },
  {
   "cell_type": "markdown",
   "metadata": {},
   "source": [
    "## Type 3"
   ]
  },
  {
   "cell_type": "code",
   "execution_count": null,
   "metadata": {},
   "outputs": [],
   "source": [
    "\n",
    "# imelik Annustamine täpsemalt:\n",
    "'''Väljastamise kuupäev: 21.05.2013, \n",
    "Retsepti number:  1019123770, \n",
    "Ravimi nimetus: SYMBICORT TURBUHALER 60annust 1TK, \n",
    "Originaalide arv: 1, \n",
    "ATC kood: R03AK83,\n",
    "Toimeaine: Formoterolum+Budesonidum, \n",
    "Ravimvorm: inhalatsioonipulber,\n",
    "Soodustus: 90%, Annustamine:  ,\n",
    "Annustamine täpsemalt: 1--2 doosi 2--4 korda päevas. '''\n",
    "\n",
    "# imelik Annustamine täpsemalt:\n",
    "''' Väljastamise kuupäev: 20.02.2013,\n",
    "Retsepti number:  1017311628,\n",
    "Ravimi nimetus:  14TK, \n",
    "Originaalide arv: 1,\n",
    "ATC kood: J01CR02, \n",
    "Toimeaine: Amoxicillinum+Acidum clavulanicum,\n",
    "Ravimvorm: õhukese polümeerikattega tablett, \n",
    "Soodustus: 50%, Annustamine:  , \n",
    "Annustamine täpsemalt: 1 tab. x 2.'''\n",
    "\n",
    "# imelik Annustamine täpsemalt:\n",
    "''' Väljastamise kuupäev: 29.01.2013, \n",
    "Retsepti number:  1016842354, \n",
    "Ravimi nimetus:  20TK,\n",
    "Originaalide arv: 1, \n",
    "ATC kood: N05CF01, \n",
    "Toimeaine: Zopiclonum,\n",
    "Ravimvorm: tablett,\n",
    "Soodustus: 0%,\n",
    "Annustamine:  , \n",
    "Annustamine täpsemalt: 1 tabl.ööseks sisse  võtta.'''\n",
    "\n",
    "# imelik Annustamine täpsemalt:\n",
    "'''Väljastamise kuupäev: 17.01.2014,\n",
    "Retsepti number:  1023583873, \n",
    "Ravimi nimetus:  20TK,\n",
    "Originaalide arv: 2, \n",
    "ATC kood: J01XE01,\n",
    "Toimeaine: Nitrofurantoinum, \n",
    "Ravimvorm: tablett,\n",
    "Soodustus: 50%, \n",
    "Annustamine:  , \n",
    "Annustamine täpsemalt: 1 tblx4 päevas.'''"
   ]
  },
  {
   "cell_type": "markdown",
   "metadata": {},
   "source": [
    "## Type 4"
   ]
  },
  {
   "cell_type": "code",
   "execution_count": 2,
   "metadata": {},
   "outputs": [
    {
     "data": {
      "text/plain": [
       "'Kuupäev: 20130311, nimetus/toimeaine: perindopriil 5MG + indapamiid 1.25MG; õhukese polümeerikattega tablett; 60 TK; '"
      ]
     },
     "execution_count": 2,
     "metadata": {},
     "output_type": "execute_result"
    }
   ],
   "source": [
    "# kui mitu ingredienti/drug_name\n",
    "# vaja defineerida selline dose (10MG/1ML)\n",
    "'Kuupäev: 20120120, nimetus/toimeaine: meloksikaam 10MG/1ML; MOVALIS 1.5 ML süstelahus; 5 TK; 2 orig.; '\n",
    "\n",
    "# mitu ingredienti plussiga koos\n",
    "'Kuupäev: 20130311, nimetus/toimeaine: perindopriil 5MG + indapamiid 1.25MG; õhukese polümeerikattega tablett; 60 TK; '"
   ]
  },
  {
   "cell_type": "markdown",
   "metadata": {},
   "source": [
    "## Type 6"
   ]
  },
  {
   "cell_type": "code",
   "execution_count": null,
   "metadata": {},
   "outputs": [],
   "source": [
    "# hetkel jääb 'TBL' eraldamata\n",
    "# peaks panema package_type alla võib-olla\n",
    "' Rp. CARDACE TBL 10MG N28 2 orig'\n"
   ]
  },
  {
   "cell_type": "markdown",
   "metadata": {},
   "source": [
    "## Type 7"
   ]
  },
  {
   "cell_type": "code",
   "execution_count": null,
   "metadata": {},
   "outputs": [],
   "source": [
    "# type 7\n",
    "# \"N60Felodipinum\" kokku kirjuatud -> ei suuda eraldada 'Felodipinum'\n",
    "'Metoprololum, BETALOC ZOK RETARDTBL 50MG N60Felodipinum, FELODIPINHEXAL TBL 5MG N60Rp. DICLAC TBL 50MG N50Betahistinum, BETASERC TBL 24MG N50'\n",
    "# same here\n",
    "'Nitrendipinum, LUSOPRESS TBL 20MG N28  2 origMelperonum, BURONIL TBL 25MG N100'\n",
    "\n",
    "# anonym tags\n",
    "'Diclofenacum, DICLAC <ANONYM id=\"3\" type=\"per\" morph=\"_Y_ ?\"/> 5% 100G'\n",
    "'Rp. DICLOFENAC-RTP <ANONYM id=\"3\" type=\"per\" morph=\"_H_ sg n;_H_ sg n\"/> 150MG N40 '"
   ]
  }
 ],
 "metadata": {
  "kernelspec": {
   "display_name": "Python 3",
   "language": "python",
   "name": "python3"
  },
  "language_info": {
   "codemirror_mode": {
    "name": "ipython",
    "version": 3
   },
   "file_extension": ".py",
   "mimetype": "text/x-python",
   "name": "python",
   "nbconvert_exporter": "python",
   "pygments_lexer": "ipython3",
   "version": "3.6.10"
  }
 },
 "nbformat": 4,
 "nbformat_minor": 4
}
