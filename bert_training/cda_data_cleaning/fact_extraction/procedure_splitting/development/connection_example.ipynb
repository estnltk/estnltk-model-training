{
 "cells": [
  {
   "cell_type": "code",
   "execution_count": 1,
   "metadata": {},
   "outputs": [],
   "source": [
    "import psycopg2"
   ]
  },
  {
   "cell_type": "code",
   "execution_count": 2,
   "metadata": {},
   "outputs": [],
   "source": [
    "from connection_string import connection_string"
   ]
  },
  {
   "cell_type": "code",
   "execution_count": 3,
   "metadata": {},
   "outputs": [],
   "source": [
    "conn = psycopg2.connect(connection_string)"
   ]
  },
  {
   "cell_type": "code",
   "execution_count": 4,
   "metadata": {},
   "outputs": [],
   "source": [
    "cur = conn.cursor()"
   ]
  },
  {
   "cell_type": "code",
   "execution_count": 5,
   "metadata": {},
   "outputs": [],
   "source": [
    "cur.execute(\"\"\"SELECT * from seiche.procedures_entry limit 20\"\"\")"
   ]
  },
  {
   "cell_type": "code",
   "execution_count": 6,
   "metadata": {},
   "outputs": [],
   "source": [
    "rows = cur.fetchall()"
   ]
  },
  {
   "cell_type": "code",
   "execution_count": 7,
   "metadata": {},
   "outputs": [
    {
     "name": "stdout",
     "output_type": "stream",
     "text": [
      "(19441, 'Kokkuvõte:\\n\\t\\t\\t\\t\\t\\t\\t\\t\\t\\t\\t\\t\\tKõhukoopa organid aktuaalse patoloogiata.', 's', 'original', 'procedures_entry', 'text', '1571', '2010-03-09 13:26:00', None)\n",
      "(19460, 'Kokkuvõte:\\n\\t\\t\\t\\t\\t\\t\\t\\t\\t\\t\\t\\t\\tGr 34 (36?), reesuskonflikt.', 's', 'original', 'procedures_entry', 'text', '1587', '2010-06-16 12:25:00', None)\n",
      "(20065, 'Põhjendus: Pancreatitis chr ex, Tsüstid\\n\\nKirjeldus: KLIINILISED ANDMED: Pancreatitis chr ex, Tsüstid\\n\\nKT-UURING KÕHUKOOPA JA VAAGNA PIIRKONNAST:\\nUuritud diafragmakuplitest kuni sümfüüsini: ülakõht, keskkõht, vaagen ja lülisamba nimmeosa  natiivis (7975, 7976 x 3), kontrastainega angiograafiafaasis kõhuaort (7984)., neeruarterid (7999 x 2) ja mesenteriaalarterid (7999) ning kontrastainega faasis ülakõht, keskkõht, vaagen ja lülisamba nimmeosa (7978, 7979 x 3).\\nKontrastainena süstitud Sol. Visipaque 270 mg I/ml - 100,0 ml i.v. (7997 x 10).\\nLEID:\\nMaksa struktuur ja kontrasteerumine on iseärasusteta, koldeid nähtavale ei tule. \\nMõõtmetelt maks suurenenud ei ole.\\nSapiteed laienenud ei ole.\\nPankrease mõõtmed on: peaosa 4,6 cm, keha ~1,9 cm, saba ~1,9 cm. Kogu pankrease ulatuses hulgaliselt erineva suuurusega lubistusi. Pankrease keha- ja sabaosas on jälgitav paksuseinaline vedelikukogum (tihedus ~20 HU) 6,8 x 5,7 x 6,2 cm, mille sein on kohati kuni 2,0 cm (seina tihedus on natiivuuringul ~66 HU, mis ei kontrasteeru). Pankrease ümbrus on veidi infiltreeritud ning saba piirkonnas vedelikku kuni 4,5 cm kihina (tihedus ~15 HU), milles parenhümatoosses faasis jälgitavad õrnalt kontrasteeruva seinaga \"kogumikud\" kuni 2,0 cm. \\nVaba vedleikku ka põrna ümber. mesenteerium ja vaskaul <ANONYM id=\"50\" type=\"per\" morph=\"_H_ sg ab\"/> fastsia on infiltreeritud.\\nPõrna struktuur on ühtlane, kontrasteerumine iseärasusteta; mõõtmetelt põrn suurenenud ei ole.\\nNeerupealised on mahuliste muutusteta.\\nNeerud on mõlemapoolselt tavalise asendi, kuju ja struktuuriga, mõõtmed normi piires; neerude kontrasteerumine on iseärasusteta. Neerude kogumissüsteemis konkremente esile ei tule; paisu tunnused puuduvad.\\nAort ja v. cava on tavalise laiusega, kontrasteerumine iseärasusteta. Neeruarterid on mõlemapoolselt tavapärase lähtekohaga, ühtlaselt kontrasteerunud. Mesenteriaalarterid on ühtlaselt kontrasteerunud.\\nmesenteriaalsel ja paraaortaalsle on mitme dkuni 0,9 cm lümfisõlmed. \\nVaagna piirkonnas on soolelingude vahel vaba evdelikku kuni 3,0 cm kihina. \\nKusepõie kontuur on selge, sein on ühtlase paksusega; põiesisaldis on homogeenne; lisamassi esile ei tule.\\nProstata orienteeruvad mõõtmed aksiaaltasapinnas on ca  4,2 x 3,4 cm; kontuur on valdavalt selge, lokaalset kontuuri promineerumist ei sedasta; prostata struktuur ja kontrasteerumine on oluliste iseärasusteta.\\nProstata ei ole KT uuringul seemnepõiekestest selgepiiriliselt eristatav; \\nSeemnepõiekeste veenvat suurenemist ja asümmeetriat ei sedasta.\\nPeriprostaatiline rasvkude on sümmeetriliselt veidi inhomogeennse struktuuriga, kindla leiuta.\\nVaagnapõhja lihased (m. Levator ani, m. Sphincter ani, m. Obturatorius internus) on veenva asümmeetriata.\\nKubeme piirkonnas on mitmed kuni 0,7 cm lümfisõlmed. \\n\\nLülisamba nimmeosas on kergekujulised degeneratiivset tüüpi muutused.\\n\\nJäreldus: Kroonilise pankreatiidi ägenemine. Pankreas ekeha- ja sabapiirkonnas paksuseinaline pseudotsüst. Vaba vedleikku pankrease saba ümber, milles võimalikud ka piirdunud vedelikukogumid (formeeruvad väikesed abstessikolded??). Vaba vedleikku põrna ümber ja vaagna piirkonnas, infiltreeritud mesenteerium ja vasakul <ANONYM id=\"51\" type=\"per\" morph=\"_H_ sg ab\"/> fastsia.', 's', 'original', 'procedures_entry', 'text', '2198', '2012-02-10 00:00:00', None)\n",
      "(20172, 'Kokkuvõte:\\n\\t\\t\\t\\t\\t\\t\\t\\t\\t\\t\\xa0', 's', 'original', 'procedures_entry', 'text', '2312', '2013-01-29 14:21:00', None)\n",
      "(19461, 'Kokkuvõte:\\n\\t\\t\\t\\t\\t\\t\\t\\t\\t\\t\\t\\t\\tGr 34 (36?), reesuskonflikt.', 's', 'original', 'procedures_entry', 'text', '1588', '2010-06-16 12:25:00', None)\n",
      "(22568, 'Teostatud uuring:\\nPeaaju natiivis 7990\\nHinnakoodid:7990', 's', 'original', 'procedures_entry', 'text', '3719', '2012-03-04 00:00:00', None)\n",
      "(19822, 'Teostatud uuring:\\nUH uuring kõhu- ja vaagnapiirkonnast\\n\\nHinnakoodid:\\n7953', 's', 'original', 'procedures_entry', 'text', '1925', '2012-01-04 00:00:00', None)\n",
      "(18430, 'Ösofagogastroduodenoskoopia (statsionaarne)\\n Monitooring: Hapniku saturatsioon 92\\n Monitooring: Pulsisagedus 100\\n Anesteesia Lokaalne Xylocaine spray 10%\\n Monitooring: Lisahapnik 5', 's', 'original', 'procedures_entry', 'text', '718', '2013-04-15 00:00:00', None)\n",
      "(20125, 'Teostatud uuringud:\\nUH uuring kõhu- ja vaagnapiirkonnast\\nUH uuring kilpnäärmest', 's', 'original', 'procedures_entry', 'text', '2235', '2012-06-23 00:00:00', None)\n",
      "(18431, ':\\nSöögitoru, magu, bulbus duodeni ja duodenum distaalsemal normis.', 's', 'original', 'procedures_entry', 'text', '718', '2013-04-15 00:00:00', '15.04.2013 12:28 <ANONYM id=\"13\" type=\"per\" morph=\"_S_ sg n\"/>, <ANONYM id=\"14\" type=\"per\" morph=\"_H_ sg n\"/>')\n",
      "(18451, 'Teostatud uuring:\\nTeostatud  tugeva (3T) väljaga MRT uuring ühe mähisega südamest natiivis ja kontrastainega (Gadovist 15,0 ml i/v).', 's', 'original', 'procedures_entry', 'text', '729', '2013-09-19 00:00:00', None)\n",
      "(20170, '\\xa0\\n\\t\\t\\t\\t\\t\\t\\t\\t\\t\\tKokkuvõte:\\n\\t\\t\\t\\t\\t\\t\\t\\t\\t\\t\\xa0', 's', 'original', 'procedures_entry', 'text', '2311', '2013-01-29 14:21:00', '29.01.2013 16:14')\n",
      "(17323, 'Radioloogiline uuring, vastus nr 694_15174_1\\n\\nKIRJELDUS: Süda on laienenud . Võrreldes eelmise (04.06.2009 ) pildiga on kopsudes jälgitav venoosne pais .  Pleuraefusiooni, kopsukoldeid ega infiltraate ei tähelda. ', 's', 'original', 'procedures_entry', 'text', '1', '2009-07-17 14:27:00', None)\n",
      "(21358, '1,5 cm Ø sõlm.\\nMakrofagiaalse reaktsiooniga lümfisõlm.', 's', 'original', 'procedures_entry', 'text', '3259', '2013-04-12 00:00:00', None)\n",
      "(17338, 'Radioloogiline uuring, vastus nr 806_15174_1\\n\\nKIRJELDUS: Alajäsemete süvavaeenid on trombivabad, veeniseinad on elastsed, verevoolud neis jälgitavad. ', 's', 'original', 'procedures_entry', 'text', '2', '2009-07-17 16:16:00', None)\n",
      "(17342, 'Radioloogiline uuring, vastus nr 702_15174_1\\n\\n<ANONYM id=\"2\" type=\"per\" morph=\"_S_ sg n\"/>: Maks on ühtlase struktuuriga, koldeleiuta, normsuuruses. Sapipõis ei ole nähtav - kontraheerunud?.  Sapiteed ei ole laienenud. Põrn on normsuuruse ja struktuuriga. Pankreases mahulist muutust esile ei tule. Neerud on tavasuuruse ja - kujuga, paisuvabad,  parenhüüm ühtlane. Vaba vedelikku ega laienenud soolelingusid esile ei tule.  Kusepõie sisu on ühtlane. ', 's', 'original', 'procedures_entry', 'text', '3', '2009-07-17 14:19:00', None)\n",
      "(17345, 'Radioloogiline uuring, vastus nr 766_15174_1\\n\\nKIRJELDUS: KT angio rindkerest. KATE? Kopsuarterites täitumisdefekte ei tähelda - KATE-t  esile ei tule. Süda on laienenud, kopsudes venoosne pais,  paremas pleuraõõnes on dorsaalsel mõõdukas  efusioon ( ca 3-4 cm kihina )  , vasemas minimaalne efusioon. Kopsud on koldeleiuta. Bronhivalendikud on vabad, koelist lisastruktuuri ega suurenenud lümfisõlmi keskseinandis ei esine. Lülisambas on eakohane leid. ', 's', 'original', 'procedures_entry', 'text', '4', '2009-07-17 15:38:00', None)\n",
      "(17352, 'Radioloogiline uuring, vastus nr 76_15175_1\\n\\nKIRJELDUS: Paremal baso-dorsaalsel pleuraefusioon kuni 4 cm kihina, punktsiooniks sobiv koht nahale märgitud. ', 's', 'original', 'procedures_entry', 'text', '6', '2009-07-18 10:56:00', None)\n",
      "(17353, 'Radioloogiline uuring, vastus nr 37_15176_1\\n\\nKIRJELDUS: Rindkere rö ülesvõte PA  Kopsudes paisunähud vähenenud, süda endiselt mõõdukalt laienenud. Pleuravedelik paremal vähenenud alates 17.07.09, vedelikku näha veel lateraalsiinuses. Diafragma kontuur paremal ilmunud nähtavale. Vasemas pleuraõõnes  vedelikku ei näe.  Infiltraati ei visualiseeru. CVK ülemises õõnesveenis, pneumothoraxit ei näe. ', 's', 'original', 'procedures_entry', 'text', '7', '2009-07-19 09:40:00', None)\n",
      "(17355, 'Radioloogiline uuring, vastus nr 642_15179_1\\n\\nKIRJELDUS: Diafragmad kaarjad (VI roide eesmise otsa kõrgusel), lateraalsiinused vabad. Kopsude vaskulaarne joonis rohkenenud.  Koldelis-infiltratiivsete muutusi ei ilmestu. Südame ristimõõt norm., talje täitunud. Luulise struktuurid ii.   Lülisamba kaelaosas lordoos lamenenud. C5 lülikeha eesosas madaldunud, C6 madalam kogu lülikeha ulatuses. C5/6 lülivahemik ahenenud. Spinaalkanalit ahendavaid muutusi esile ei tule. Unkovertebraal liigestes algavad artrootilsed muutused.  Lülisamba rinnaosas dex-skolioos. Lülikehade kõrgus ii, lülivahemikud ahenemiseta. I/v liigesed ii. res. T. <ANONYM id=\"20\" type=\"per\" morph=\"_H_ sg n\"/>', 's', 'original', 'procedures_entry', 'text', '8', '2009-07-22 13:35:00', None)\n"
     ]
    }
   ],
   "source": [
    "for row in rows:\n",
    "    print(row)"
   ]
  }
 ],
 "metadata": {
  "kernelspec": {
   "display_name": "Python [conda env:estnltk141]",
   "language": "python",
   "name": "conda-env-estnltk141-py"
  },
  "language_info": {
   "codemirror_mode": {
    "name": "ipython",
    "version": 3
   },
   "file_extension": ".py",
   "mimetype": "text/x-python",
   "name": "python",
   "nbconvert_exporter": "python",
   "pygments_lexer": "ipython3",
   "version": "3.5.6"
  }
 },
 "nbformat": 4,
 "nbformat_minor": 2
}
