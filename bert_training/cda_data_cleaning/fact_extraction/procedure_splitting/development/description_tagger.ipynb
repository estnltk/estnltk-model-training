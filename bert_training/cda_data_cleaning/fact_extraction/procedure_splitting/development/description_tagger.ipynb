{
 "cells": [
  {
   "cell_type": "code",
   "execution_count": 1,
   "metadata": {},
   "outputs": [],
   "source": [
    "from typing import Sequence\n",
    "from estnltk.taggers import Tagger\n",
    "from estnltk.taggers import RegexTagger\n",
    "from estnltk.taggers import Vocabulary\n",
    "import os\n",
    "\n",
    "\n",
    "vocabulary = 'subcategories.csv'\n",
    "vocabulary = Vocabulary.read_csv(vocabulary_file=vocabulary)\n",
    "\n",
    "\"\"\"\n",
    "\n",
    "description_p = r'(KIRJELDUS|[Kk]irjeldus):'\n",
    "reasoning_p = r'(PÕHJENDUS|[Pp]õhjendus):\\s?'\n",
    "\n",
    "d = {}\n",
    "d['grammar_symbol'] = 'DESCRIPTION'\n",
    "d['regex_type'] = 'description'\n",
    "d['_regex_pattern_'] = description_p\n",
    "d['_group_'] = 0\n",
    "d['_priority_'] = 0\n",
    "d['value'] = lambda m: m.group(1)\n",
    "\n",
    "vocabulary = [d]\n",
    "\"\"\"\n",
    "\n",
    "class SubcategoryTagger(Tagger):\n",
    "    \"\"\"Tags descriptions\n",
    "\n",
    "    \"\"\"\n",
    "    conf_param = ['tagger']\n",
    "\n",
    "    def __init__(self,\n",
    "                 output_attributes: Sequence = ('grammar_symbol', 'regex_type', 'value', '_priority_'),\n",
    "                 conflict_resolving_strategy: str = 'MAX',\n",
    "                 overlapped: bool = True,\n",
    "                 output_layer: str = 'subcategories',\n",
    "                 ):\n",
    "        self.output_attributes = output_attributes\n",
    "        self.output_layer = output_layer\n",
    "        self.input_layers = []\n",
    "        self.tagger = RegexTagger(vocabulary=vocabulary,\n",
    "                                  output_attributes=output_attributes,\n",
    "                                  conflict_resolving_strategy=conflict_resolving_strategy,\n",
    "                                  priority_attribute='_priority_',\n",
    "                                  overlapped=overlapped,\n",
    "                                  ambiguous=True,\n",
    "                                  ignore_case=True,\n",
    "                                  output_layer='subcategories')\n",
    "\n",
    "    def _make_layer(self, text, layers, status):\n",
    "        return self.tagger.make_layer(text=text, layers=layers, status=status)"
   ]
  },
  {
   "cell_type": "code",
   "execution_count": 2,
   "metadata": {},
   "outputs": [
    {
     "data": {
      "text/html": [
       "<h4>Layer</h4>\n",
       "\n",
       "<table border=\"1\" class=\"dataframe\">\n",
       "  <thead>\n",
       "    <tr style=\"text-align: right;\">\n",
       "      <th>layer name</th>\n",
       "      <th>attributes</th>\n",
       "      <th>parent</th>\n",
       "      <th>enveloping</th>\n",
       "      <th>ambiguous</th>\n",
       "      <th>span count</th>\n",
       "    </tr>\n",
       "  </thead>\n",
       "  <tbody>\n",
       "    <tr>\n",
       "      <td>subcategories</td>\n",
       "      <td>grammar_symbol, regex_type, value, _priority_</td>\n",
       "      <td>None</td>\n",
       "      <td>None</td>\n",
       "      <td>True</td>\n",
       "      <td>1</td>\n",
       "    </tr>\n",
       "  </tbody>\n",
       "</table>\n",
       "<table border=\"1\" class=\"dataframe\">\n",
       "  <thead>\n",
       "    <tr style=\"text-align: right;\">\n",
       "      <th>text</th>\n",
       "      <th>grammar_symbol</th>\n",
       "      <th>regex_type</th>\n",
       "      <th>value</th>\n",
       "      <th>_priority_</th>\n",
       "    </tr>\n",
       "  </thead>\n",
       "  <tbody>\n",
       "    <tr>\n",
       "      <td>Kirjeldus:</td>\n",
       "      <td>SUBCATEGORY</td>\n",
       "      <td>subcategory</td>\n",
       "      <td>Kirjeldus:</td>\n",
       "      <td>0</td>\n",
       "    </tr>\n",
       "  </tbody>\n",
       "</table>"
      ],
      "text/plain": [
       "Layer(name='subcategories', attributes=('grammar_symbol', 'regex_type', 'value', '_priority_'), spans=SL[AS(start=0, end=10, text:'Kirjeldus:')])"
      ]
     },
     "execution_count": 2,
     "metadata": {},
     "output_type": "execute_result"
    }
   ],
   "source": [
    "from estnltk import Text\n",
    "tagger = SubcategoryTagger()\n",
    "#text = Text('Põhjendus: Pancreatitis chr ex, Tsüstid\\n\\nKirjeldus: KLIINILISED ANDMED: Pancreatitis chr ex, Tsüstid\\n\\nKT-UURING KÕHUKOOPA JA VAAGNA PIIRKONNAST:\\nUuritud diafragmakuplitest kuni sümfüüsini: ')\n",
    "#text = Text('adioloogiline uuring, vastus nr 694_15174_1\\n\\nKIRJELDUS: Süda on laienenud . Võrreldes eelmise (04.06.2009 ) pildiga on kopsudes jälgitav venoosne pais .  Pleuraefusiooni,')\n",
    "text = Text('Kirjeldus: KATE-le iseloomulikku leidu ei esine.\\nMõlemapoolselt basaalselt hajusaid infiltraate - mõlemapoolse pneumoonia leid.')\n",
    "text.tag_layer()\n",
    "tagger.tag(text)\n",
    "text['subcategories']"
   ]
  }
 ],
 "metadata": {
  "kernelspec": {
   "display_name": "Python 3",
   "language": "python",
   "name": "python3"
  },
  "language_info": {
   "codemirror_mode": {
    "name": "ipython",
    "version": 3
   },
   "file_extension": ".py",
   "mimetype": "text/x-python",
   "name": "python",
   "nbconvert_exporter": "python",
   "pygments_lexer": "ipython3",
   "version": "3.6.8"
  }
 },
 "nbformat": 4,
 "nbformat_minor": 2
}
