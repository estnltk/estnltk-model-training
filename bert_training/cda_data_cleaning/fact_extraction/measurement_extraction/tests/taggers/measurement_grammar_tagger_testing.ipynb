{
 "cells": [
  {
   "cell_type": "code",
   "execution_count": 1,
   "metadata": {},
   "outputs": [],
   "source": [
    "from estnltk import Text\n",
    "from estnltk.taggers import TaggerTester"
   ]
  },
  {
   "cell_type": "code",
   "execution_count": 2,
   "metadata": {},
   "outputs": [],
   "source": [
    "from grammarextractor.taggers.measurement_tagging.measurement_grammar_tagger import MeasurementPartTagger, MeasurementGrammarTagger"
   ]
  },
  {
   "cell_type": "code",
   "execution_count": 3,
   "metadata": {},
   "outputs": [],
   "source": [
    "part_tagger = MeasurementPartTagger()"
   ]
  },
  {
   "cell_type": "code",
   "execution_count": 4,
   "metadata": {},
   "outputs": [],
   "source": [
    "lines = ['PSA 03042012 - 0,83ng/ml perearsti poolt .',\n",
    " 'PSA 2010. 3ng/ml, PSA 2012. 1,53ng/ml . - Bx va',\n",
    " 'PSA 20105,99 ja 26.01.2012 uuesti .',\n",
    " 'PSA 2011 oli 0 , 4 nG7ml .',\n",
    " 'PSA 201222,25ng/ml',\n",
    " 'PSA 2 aastajooksuldünaamikata , eriuuring',\n",
    " ':psa 16,81! ! ! ! ! ,',\n",
    " 'Happe-aluse tasakaal 6.0 ( 5.0 .. 8.0 )',\n",
    " 'loli 25 mgx1 ja Monoprili 10 mg Kolesterool 2011a',\n",
    " 'Kolesterool 1k aastas .',\n",
    " 'Kõrgenenud kolesterool 2a ( mõõdetud ). Ei pea dieetist kinni',\n",
    " 'Kontr Verekol 08.12a Per-le juurde .',\n",
    " 's vas munajuha kasvaja op , günekol 3a tagssi .',\n",
    " '08.11.2010 PSA 13.12.2011 7,2ng/ml PSADT on väike .',\n",
    " 'Rütmihäire tsüklipikkus 330 msek',\n",
    " 'Loote pikkus : \\xa0 3 mm - vastab\\xa0 5 nädalat 6 päeva.',\n",
    " 'Põhjendus: PALAT 10 # ALAT maksanäitaja',\n",
    " 'ärme vähk 2007 aastast cT3N0M0PSA 59ng/ml .',\n",
    " 'PSA 8,5( püsib aastaid selles väärtus',\n",
    " 'S,P-PSA 4.130( <4.100 µg/L )',\n",
    " 'PSA 5,2.',\n",
    " 'Kolesterool oli 7,9 mmol/l 0',\n",
    " 'kolesterool 6.4.',\n",
    " 'Kolesterool 5,2 mmol/l - esialgu dieet .',\n",
    " 'SK 3900 g , SP 51 cm .',\n",
    " 'Lapse kaal 5,4 kg/82 mg/0,82 ml i/m .',\n",
    " 'Kehakaal 80,2 kg , KMI 25,9',\n",
    " 'S,P-NT-proBNP 668 ( <125 pg/mL ) S,P-Albumiin 43 ( 35 .. 52 g/L ) S,P-ALAT 25 ( <33 U/L )',\n",
    " 'PSA 6,5 ng/ml, eesnäärme maht67cm3',\n",
    " 'rjeldus : Siinusbradükardia Fr 587min']"
   ]
  },
  {
   "cell_type": "code",
   "execution_count": 5,
   "metadata": {},
   "outputs": [],
   "source": [
    "part_tagged_lines = []\n",
    "for line in lines:\n",
    "    line = Text(line)\n",
    "    tagged = part_tagger.tag(line)\n",
    "    part_tagged_lines.append(tagged)"
   ]
  },
  {
   "cell_type": "code",
   "execution_count": 6,
   "metadata": {},
   "outputs": [],
   "source": [
    "input_file = 'test_measurement_tagging/input.json'\n",
    "target_file = 'test_measurement_tagging/target.json'"
   ]
  },
  {
   "cell_type": "code",
   "execution_count": 7,
   "metadata": {},
   "outputs": [],
   "source": [
    "tagger = MeasurementGrammarTagger()"
   ]
  },
  {
   "cell_type": "code",
   "execution_count": 8,
   "metadata": {},
   "outputs": [],
   "source": [
    "tester = TaggerTester(tagger=tagger, input_file=input_file, target_file=target_file)"
   ]
  },
  {
   "cell_type": "code",
   "execution_count": 9,
   "metadata": {},
   "outputs": [],
   "source": [
    "for idx, line in enumerate(part_tagged_lines[:2]):\n",
    "    expected_text = tagger.tag(line).parse.text\n",
    "    tester.add_test(annotation='grammar_test', text=line, expected_text=expected_text)"
   ]
  },
  {
   "cell_type": "code",
   "execution_count": 10,
   "metadata": {},
   "outputs": [
    {
     "name": "stdout",
     "output_type": "stream",
     "text": [
      "Created input texts file 'test_measurement_tagging/input.json'.\n",
      "Created target layers file 'test_measurement_tagging/target.json'.\n"
     ]
    }
   ],
   "source": [
    "tester.save_input()\n",
    "tester.save_target()"
   ]
  }
 ],
 "metadata": {
  "anaconda-cloud": {},
  "kernelspec": {
   "display_name": "Python 3",
   "language": "python",
   "name": "python3"
  },
  "language_info": {
   "codemirror_mode": {
    "name": "ipython",
    "version": 3
   },
   "file_extension": ".py",
   "mimetype": "text/x-python",
   "name": "python",
   "nbconvert_exporter": "python",
   "pygments_lexer": "ipython3",
   "version": "3.5.4"
  }
 },
 "nbformat": 4,
 "nbformat_minor": 2
}
