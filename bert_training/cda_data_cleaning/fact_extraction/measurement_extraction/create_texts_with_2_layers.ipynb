{
 "cells": [
  {
   "cell_type": "code",
   "execution_count": 1,
   "metadata": {},
   "outputs": [],
   "source": [
    "from cda_data_cleaning.fact_extraction.measurement_extraction.taggers.measurement_token_tagger import MeasurementTokenTagger\n",
    "from cda_data_cleaning.fact_extraction.measurement_extraction.taggers.measurement_tagger import MeasurementTagger"
   ]
  },
  {
   "cell_type": "code",
   "execution_count": 2,
   "metadata": {},
   "outputs": [],
   "source": [
    "from estnltk import Text\n",
    "\n",
    "from grammarextractor.taggers.legacy_taggers.legacy_regex_model_tagger import LegacyRegexModelTagger"
   ]
  },
  {
   "cell_type": "code",
   "execution_count": 3,
   "metadata": {},
   "outputs": [
    {
     "name": "stdout",
     "output_type": "stream",
     "text": [
      "INFO:model.py:142: Loading model from ../../../../grammarextractor/grammarextractor/data_processing/measurement_extraction/tagger_dev/legacy_model/extraction_rules.txt\n"
     ]
    }
   ],
   "source": [
    "old_tagger = LegacyRegexModelTagger(output_layer = 'measurements_old')"
   ]
  },
  {
   "cell_type": "code",
   "execution_count": 4,
   "metadata": {},
   "outputs": [],
   "source": [
    "token_tagger = MeasurementTokenTagger(output_layer = 'measurement_tokens')\n",
    "new_tagger = MeasurementTagger(output_layer = 'measurements_new')"
   ]
  },
  {
   "cell_type": "code",
   "execution_count": 5,
   "metadata": {},
   "outputs": [],
   "source": [
    "lines = ['PSA 03042012 - 0,83ng/ml perearsti poolt .',\n",
    " 'PSA 2010. 3ng/ml, PSA 2012. 1,53ng/ml . - Bx va',\n",
    " 'PSA 20105,99 ja 26.01.2012 uuesti .',\n",
    " 'PSA 2011 oli 0 , 4 nG7ml .',\n",
    " 'PSA 201222,25ng/ml',\n",
    " 'PSA 2 aastajooksuldünaamikata , eriuuring',\n",
    " ':psa 16,81! ! ! ! ! ,',\n",
    " 'Happe-aluse tasakaal 6.0 ( 5.0 .. 8.0 )',\n",
    " 'loli 25 mgx1 ja Monoprili 10 mg Kolesterool 2011a',\n",
    " 'Kolesterool 1k aastas .',\n",
    " 'Kõrgenenud kolesterool 2a ( mõõdetud ). Ei pea dieetist kinni',\n",
    " 'Kontr Verekol 08.12a Per-le juurde .',\n",
    " 's vas munajuha kasvaja op , günekol 3a tagssi .',\n",
    " '08.11.2010 PSA 13.12.2011 7,2ng/ml PSADT on väike .',\n",
    " 'Rütmihäire tsüklipikkus 330 msek',\n",
    " 'Loote pikkus : \\xa0 3 mm - vastab\\xa0 5 nädalat 6 päeva.',\n",
    " 'Põhjendus: PALAT 10 # ALAT maksanäitaja',\n",
    " 'ärme vähk 2007 aastast cT3N0M0PSA 59ng/ml .',\n",
    " 'PSA 8,5( püsib aastaid selles väärtus',\n",
    " 'S,P-PSA 4.130( <4.100 µg/L )',\n",
    " 'PSA 5,2.',\n",
    " 'Kolesterool oli 7,9 mmol/l 0',\n",
    " 'kolesterool 6.4.',\n",
    " 'Kolesterool 5,2 mmol/l - esialgu dieet .',\n",
    " 'SK 3900 g , SP 51 cm .',\n",
    " 'Lapse kaal 5,4 kg/82 mg/0,82 ml i/m .',\n",
    " 'Kehakaal 80,2 kg , KMI 25,9',\n",
    " 'S,P-NT-proBNP 668 ( <125 pg/mL ) S,P-Albumiin 43 ( 35 .. 52 g/L ) S,P-ALAT 25 ( <33 U/L )',\n",
    " 'PSA 6,5 ng/ml, eesnäärme maht67cm3',\n",
    " 'rjeldus : Siinusbradükardia Fr 587min']"
   ]
  },
  {
   "cell_type": "code",
   "execution_count": 6,
   "metadata": {},
   "outputs": [],
   "source": [
    "tagged_lines = []\n",
    "for line in lines:\n",
    "    t = Text(line)\n",
    "    old_tagger.tag(t)\n",
    "    token_tagger.tag(t)\n",
    "    new_tagger.tag(t)\n",
    "    tagged_lines.append(t)"
   ]
  },
  {
   "cell_type": "code",
   "execution_count": 7,
   "metadata": {},
   "outputs": [
    {
     "data": {
      "text/html": [
       "<table border=\"1\" class=\"dataframe\">\n",
       "  <thead>\n",
       "    <tr style=\"text-align: right;\">\n",
       "      <th>text</th>\n",
       "    </tr>\n",
       "  </thead>\n",
       "  <tbody>\n",
       "    <tr>\n",
       "      <td><div align = \"left\">ärme vähk 2007 aastast cT3N0M0PSA 59ng/ml .</div></td>\n",
       "    </tr>\n",
       "  </tbody>\n",
       "</table>\n",
       "<table border=\"1\" class=\"dataframe\">\n",
       "  <thead>\n",
       "    <tr style=\"text-align: right;\">\n",
       "      <th>layer name</th>\n",
       "      <th>attributes</th>\n",
       "      <th>parent</th>\n",
       "      <th>enveloping</th>\n",
       "      <th>ambiguous</th>\n",
       "      <th>span count</th>\n",
       "    </tr>\n",
       "  </thead>\n",
       "  <tbody>\n",
       "    <tr>\n",
       "      <td>measurement_tokens</td>\n",
       "      <td>grammar_symbol, unit_type, value, regex_type</td>\n",
       "      <td>None</td>\n",
       "      <td>None</td>\n",
       "      <td>True</td>\n",
       "      <td>12</td>\n",
       "    </tr>\n",
       "    <tr>\n",
       "      <td>measurements_new</td>\n",
       "      <td>name, OBJECT, VALUE, UNIT, MIN, MAX, DATE, REGEX_TYPE</td>\n",
       "      <td>None</td>\n",
       "      <td>None</td>\n",
       "      <td>True</td>\n",
       "      <td>0</td>\n",
       "    </tr>\n",
       "    <tr>\n",
       "      <td>measurements_old</td>\n",
       "      <td>name, key, value, unit, low, high, systolic, diastolic, pulse, year, month, day, hour, minute, prygi, subject</td>\n",
       "      <td>None</td>\n",
       "      <td>None</td>\n",
       "      <td>True</td>\n",
       "      <td>2</td>\n",
       "    </tr>\n",
       "  </tbody>\n",
       "</table>"
      ],
      "text/plain": [
       "Text(text='ärme vähk 2007 aastast cT3N0M0PSA 59ng/ml .')"
      ]
     },
     "execution_count": 7,
     "metadata": {},
     "output_type": "execute_result"
    }
   ],
   "source": [
    "tagged_lines[17]"
   ]
  },
  {
   "cell_type": "code",
   "execution_count": 8,
   "metadata": {},
   "outputs": [
    {
     "data": {
      "text/html": [
       "<h4>Layer</h4>\n",
       "\n",
       "<table border=\"1\" class=\"dataframe\">\n",
       "  <thead>\n",
       "    <tr style=\"text-align: right;\">\n",
       "      <th>layer name</th>\n",
       "      <th>attributes</th>\n",
       "      <th>parent</th>\n",
       "      <th>enveloping</th>\n",
       "      <th>ambiguous</th>\n",
       "      <th>span count</th>\n",
       "    </tr>\n",
       "  </thead>\n",
       "  <tbody>\n",
       "    <tr>\n",
       "      <td>measurements_new</td>\n",
       "      <td>name, OBJECT, VALUE, UNIT, MIN, MAX, DATE, REGEX_TYPE</td>\n",
       "      <td>None</td>\n",
       "      <td>None</td>\n",
       "      <td>True</td>\n",
       "      <td>0</td>\n",
       "    </tr>\n",
       "  </tbody>\n",
       "</table>\n",
       "<table border=\"1\" class=\"dataframe\">\n",
       "  <thead>\n",
       "    <tr style=\"text-align: right;\">\n",
       "      <th>text</th>\n",
       "      <th>name</th>\n",
       "      <th>OBJECT</th>\n",
       "      <th>VALUE</th>\n",
       "      <th>UNIT</th>\n",
       "      <th>MIN</th>\n",
       "      <th>MAX</th>\n",
       "      <th>DATE</th>\n",
       "      <th>REGEX_TYPE</th>\n",
       "    </tr>\n",
       "  </thead>\n",
       "  <tbody>\n",
       "  </tbody>\n",
       "</table>"
      ],
      "text/plain": [
       "Layer(name='measurements_new', attributes=('name', 'OBJECT', 'VALUE', 'UNIT', 'MIN', 'MAX', 'DATE', 'REGEX_TYPE'), spans=SL[])"
      ]
     },
     "execution_count": 8,
     "metadata": {},
     "output_type": "execute_result"
    }
   ],
   "source": [
    "tagged_lines[17].measurements_new"
   ]
  },
  {
   "cell_type": "code",
   "execution_count": 9,
   "metadata": {},
   "outputs": [
    {
     "data": {
      "text/html": [
       "<h4>Layer</h4>\n",
       "\n",
       "<table border=\"1\" class=\"dataframe\">\n",
       "  <thead>\n",
       "    <tr style=\"text-align: right;\">\n",
       "      <th>layer name</th>\n",
       "      <th>attributes</th>\n",
       "      <th>parent</th>\n",
       "      <th>enveloping</th>\n",
       "      <th>ambiguous</th>\n",
       "      <th>span count</th>\n",
       "    </tr>\n",
       "  </thead>\n",
       "  <tbody>\n",
       "    <tr>\n",
       "      <td>measurements_old</td>\n",
       "      <td>name, key, value, unit, low, high, systolic, diastolic, pulse, year, month, day, hour, minute, prygi, subject</td>\n",
       "      <td>None</td>\n",
       "      <td>None</td>\n",
       "      <td>True</td>\n",
       "      <td>2</td>\n",
       "    </tr>\n",
       "  </tbody>\n",
       "</table>\n",
       "<table border=\"1\" class=\"dataframe\">\n",
       "  <thead>\n",
       "    <tr style=\"text-align: right;\">\n",
       "      <th>text</th>\n",
       "      <th>name</th>\n",
       "      <th>key</th>\n",
       "      <th>value</th>\n",
       "      <th>unit</th>\n",
       "      <th>low</th>\n",
       "      <th>high</th>\n",
       "      <th>systolic</th>\n",
       "      <th>diastolic</th>\n",
       "      <th>pulse</th>\n",
       "      <th>year</th>\n",
       "      <th>month</th>\n",
       "      <th>day</th>\n",
       "      <th>hour</th>\n",
       "      <th>minute</th>\n",
       "      <th>prygi</th>\n",
       "      <th>subject</th>\n",
       "    </tr>\n",
       "  </thead>\n",
       "  <tbody>\n",
       "    <tr>\n",
       "      <td>2007 aasta</td>\n",
       "      <td>PRAHT</td>\n",
       "      <td>None</td>\n",
       "      <td>None</td>\n",
       "      <td>None</td>\n",
       "      <td>None</td>\n",
       "      <td>None</td>\n",
       "      <td>None</td>\n",
       "      <td>None</td>\n",
       "      <td>None</td>\n",
       "      <td>None</td>\n",
       "      <td>None</td>\n",
       "      <td>None</td>\n",
       "      <td>None</td>\n",
       "      <td>None</td>\n",
       "      <td>2007 aasta</td>\n",
       "      <td>None</td>\n",
       "    </tr>\n",
       "    <tr>\n",
       "      <td>PSA 59ng/ml</td>\n",
       "      <td>PSA</td>\n",
       "      <td>PSA</td>\n",
       "      <td>59</td>\n",
       "      <td>ng/ml</td>\n",
       "      <td>None</td>\n",
       "      <td>None</td>\n",
       "      <td>None</td>\n",
       "      <td>None</td>\n",
       "      <td>None</td>\n",
       "      <td>None</td>\n",
       "      <td>None</td>\n",
       "      <td>None</td>\n",
       "      <td>None</td>\n",
       "      <td>None</td>\n",
       "      <td>None</td>\n",
       "      <td>None</td>\n",
       "    </tr>\n",
       "  </tbody>\n",
       "</table>"
      ],
      "text/plain": [
       "Layer(name='measurements_old', attributes=('name', 'key', 'value', 'unit', 'low', 'high', 'systolic', 'diastolic', 'pulse', 'year', 'month', 'day', 'hour', 'minute', 'prygi', 'subject'), spans=SL[AS(start=10, end=20, text:'2007 aasta'),\n",
       "AS(start=30, end=41, text:'PSA 59ng/ml')])"
      ]
     },
     "execution_count": 9,
     "metadata": {},
     "output_type": "execute_result"
    }
   ],
   "source": [
    "tagged_lines[17].measurements_old"
   ]
  },
  {
   "cell_type": "code",
   "execution_count": 10,
   "metadata": {},
   "outputs": [],
   "source": [
    "import pickle"
   ]
  },
  {
   "cell_type": "code",
   "execution_count": 11,
   "metadata": {},
   "outputs": [],
   "source": [
    "pickle.dump(tagged_lines, open(\"texts_with_2_layers.pickle\", \"wb\"))"
   ]
  },
  {
   "cell_type": "code",
   "execution_count": null,
   "metadata": {},
   "outputs": [],
   "source": []
  }
 ],
 "metadata": {
  "kernelspec": {
   "display_name": "Python [conda env:estnltk141]",
   "language": "python",
   "name": "conda-env-estnltk141-py"
  },
  "language_info": {
   "codemirror_mode": {
    "name": "ipython",
    "version": 3
   },
   "file_extension": ".py",
   "mimetype": "text/x-python",
   "name": "python",
   "nbconvert_exporter": "python",
   "pygments_lexer": "ipython3",
   "version": "3.5.6"
  }
 },
 "nbformat": 4,
 "nbformat_minor": 2
}
