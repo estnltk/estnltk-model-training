{
 "cells": [
  {
   "cell_type": "code",
   "execution_count": 1,
   "metadata": {},
   "outputs": [],
   "source": [
    "import csv\n",
    "from estnltk import Text"
   ]
  },
  {
   "cell_type": "code",
   "execution_count": 2,
   "metadata": {},
   "outputs": [],
   "source": [
    "from estnltk import Span, Layer\n",
    "from estnltk.taggers import FlattenTagger\n",
    "from estnltk.taggers import DiffTagger"
   ]
  },
  {
   "cell_type": "code",
   "execution_count": 3,
   "metadata": {},
   "outputs": [],
   "source": [
    "from grammarextractor.data_processing.measurement_extraction import MeasurementTokenTagger\n",
    "from grammarextractor.data_processing.measurement_extraction import MeasurementTagger"
   ]
  },
  {
   "cell_type": "code",
   "execution_count": 4,
   "metadata": {},
   "outputs": [],
   "source": [
    "measurement_token_tagger = MeasurementTokenTagger(output_layer='measurement_tokens')\n",
    "measurement_tagger = MeasurementTagger(layer_of_tokens='measurement_tokens')"
   ]
  },
  {
   "cell_type": "code",
   "execution_count": 5,
   "metadata": {},
   "outputs": [],
   "source": [
    "lines = []\n",
    "with open(\"examples.csv\", \"r\") as fin:\n",
    "    reader = csv.reader(fin)\n",
    "    for row in reader:\n",
    "        lines.append(row)"
   ]
  },
  {
   "cell_type": "code",
   "execution_count": 6,
   "metadata": {},
   "outputs": [],
   "source": [
    "texts_with_gold = []\n",
    "for line in lines:\n",
    "    \n",
    "    text = Text(line[0])\n",
    "    try:\n",
    "        start = int(line[1])\n",
    "        end = int(line[2])\n",
    "        value = float(line[3])\n",
    "        layer = Layer(name = 'gold', attributes = ['value'], ambiguous = True)\n",
    "        layer.add_span(Span(start = start, end = end, legal_attributes = ['value'], value = value))\n",
    "    \n",
    "    except ValueError:\n",
    "        layer = Layer(name = 'gold', attributes = ['value'])\n",
    "    \n",
    "    text['gold'] = layer\n",
    "    texts_with_gold.append(text)"
   ]
  },
  {
   "cell_type": "code",
   "execution_count": 7,
   "metadata": {},
   "outputs": [],
   "source": [
    "tagged_texts = []\n",
    "for text in texts_with_gold:\n",
    "    measurement_token_tagger.tag(text)\n",
    "    measurement_tagger.tag(text)\n",
    "    tagged_texts.append(text)"
   ]
  },
  {
   "cell_type": "code",
   "execution_count": 8,
   "metadata": {},
   "outputs": [
    {
     "data": {
      "text/html": [
       "<h4>Layer</h4>\n",
       "<table border=\"1\" class=\"dataframe\">\n",
       "  <thead>\n",
       "    <tr style=\"text-align: right;\">\n",
       "      <th>layer name</th>\n",
       "      <th>attributes</th>\n",
       "      <th>parent</th>\n",
       "      <th>enveloping</th>\n",
       "      <th>ambiguous</th>\n",
       "      <th>span count</th>\n",
       "    </tr>\n",
       "  </thead>\n",
       "  <tbody>\n",
       "    <tr>\n",
       "      <td>measurements</td>\n",
       "      <td>name, OBJECT, VALUE, UNIT, DATE, REGEX_TYPE</td>\n",
       "      <td>None</td>\n",
       "      <td>measurement_tokens</td>\n",
       "      <td>True</td>\n",
       "      <td>1</td>\n",
       "    </tr>\n",
       "  </tbody>\n",
       "</table>\n",
       "<table border=\"1\" class=\"dataframe\">\n",
       "  <thead>\n",
       "    <tr style=\"text-align: right;\">\n",
       "      <th>text</th>\n",
       "      <th>name</th>\n",
       "      <th>OBJECT</th>\n",
       "      <th>VALUE</th>\n",
       "      <th>UNIT</th>\n",
       "      <th>DATE</th>\n",
       "      <th>REGEX_TYPE</th>\n",
       "    </tr>\n",
       "  </thead>\n",
       "  <tbody>\n",
       "    <tr>\n",
       "      <td>PSA 19 05 2011 -1,32</td>\n",
       "      <td>MEASUREMENT</td>\n",
       "      <td>PSA</td>\n",
       "      <td>1.32</td>\n",
       "      <td></td>\n",
       "      <td>19 05 2011</td>\n",
       "      <td>PSA</td>\n",
       "    </tr>\n",
       "  </tbody>\n",
       "</table>"
      ],
      "text/plain": [
       "Layer(name=measurements, spans=SL[AS[Annotation(PSA 19 05 2011 -1,32, {'DATE': '19 05 2011', 'OBJECT': 'PSA', 'REGEX_TYPE': 'PSA', 'UNIT': '', 'VALUE': '1.32', 'name': 'MEASUREMENT'})]])"
      ]
     },
     "execution_count": 8,
     "metadata": {},
     "output_type": "execute_result"
    }
   ],
   "source": [
    "tagged_texts[0].measurements"
   ]
  },
  {
   "cell_type": "code",
   "execution_count": 9,
   "metadata": {},
   "outputs": [
    {
     "data": {
      "text/html": [
       "<h4>Layer</h4>\n",
       "<table border=\"1\" class=\"dataframe\">\n",
       "  <thead>\n",
       "    <tr style=\"text-align: right;\">\n",
       "      <th>layer name</th>\n",
       "      <th>attributes</th>\n",
       "      <th>parent</th>\n",
       "      <th>enveloping</th>\n",
       "      <th>ambiguous</th>\n",
       "      <th>span count</th>\n",
       "    </tr>\n",
       "  </thead>\n",
       "  <tbody>\n",
       "    <tr>\n",
       "      <td>gold</td>\n",
       "      <td>value</td>\n",
       "      <td>None</td>\n",
       "      <td>None</td>\n",
       "      <td>True</td>\n",
       "      <td>1</td>\n",
       "    </tr>\n",
       "  </tbody>\n",
       "</table>\n",
       "<table border=\"1\" class=\"dataframe\">\n",
       "  <thead>\n",
       "    <tr style=\"text-align: right;\">\n",
       "      <th>text</th>\n",
       "      <th>value</th>\n",
       "    </tr>\n",
       "  </thead>\n",
       "  <tbody>\n",
       "    <tr>\n",
       "      <td>PSA 19 05 2011 -1,32</td>\n",
       "      <td>1.32</td>\n",
       "    </tr>\n",
       "  </tbody>\n",
       "</table>"
      ],
      "text/plain": [
       "Layer(name=gold, spans=SL[AS[Annotation(PSA 19 05 2011 -1,32, {'value': 1.32})]])"
      ]
     },
     "execution_count": 9,
     "metadata": {},
     "output_type": "execute_result"
    }
   ],
   "source": [
    "tagged_texts[0].gold"
   ]
  },
  {
   "cell_type": "code",
   "execution_count": 10,
   "metadata": {},
   "outputs": [],
   "source": [
    "flatten_tagger = FlattenTagger(input_layer='measurements',\n",
    "                               output_layer='measurements_flat',\n",
    "                               output_attributes=['name', 'value'],\n",
    "                               attribute_mapping=(('REGEX_TYPE', 'name'), \n",
    "                                                  ('VALUE','value'), \n",
    "                                                  )\n",
    "                               )"
   ]
  },
  {
   "cell_type": "code",
   "execution_count": 11,
   "metadata": {},
   "outputs": [],
   "source": [
    "r = flatten_tagger.tag(tagged_texts[0])"
   ]
  },
  {
   "cell_type": "code",
   "execution_count": 12,
   "metadata": {},
   "outputs": [
    {
     "data": {
      "text/html": [
       "<table border=\"1\" class=\"dataframe\">\n",
       "  <thead>\n",
       "    <tr style=\"text-align: right;\">\n",
       "      <th>text</th>\n",
       "    </tr>\n",
       "  </thead>\n",
       "  <tbody>\n",
       "    <tr>\n",
       "      <td><div align = \"left\">PSA 19 05 2011 -1,32 ja 26 09 2011 PSA oli pt-i sõnadel 0,044ng/ml.</div></td>\n",
       "    </tr>\n",
       "  </tbody>\n",
       "</table>\n",
       "<table border=\"1\" class=\"dataframe\">\n",
       "  <thead>\n",
       "    <tr style=\"text-align: right;\">\n",
       "      <th>layer name</th>\n",
       "      <th>attributes</th>\n",
       "      <th>parent</th>\n",
       "      <th>enveloping</th>\n",
       "      <th>ambiguous</th>\n",
       "      <th>span count</th>\n",
       "    </tr>\n",
       "  </thead>\n",
       "  <tbody>\n",
       "    <tr>\n",
       "      <td>gold</td>\n",
       "      <td>value</td>\n",
       "      <td>None</td>\n",
       "      <td>None</td>\n",
       "      <td>True</td>\n",
       "      <td>1</td>\n",
       "    </tr>\n",
       "    <tr>\n",
       "      <td>measurement_tokens</td>\n",
       "      <td>grammar_symbol, unit_type, value, regex_type</td>\n",
       "      <td>None</td>\n",
       "      <td>None</td>\n",
       "      <td>True</td>\n",
       "      <td>9</td>\n",
       "    </tr>\n",
       "    <tr>\n",
       "      <td>measurements</td>\n",
       "      <td>name, OBJECT, VALUE, UNIT, DATE, REGEX_TYPE</td>\n",
       "      <td>None</td>\n",
       "      <td>measurement_tokens</td>\n",
       "      <td>True</td>\n",
       "      <td>1</td>\n",
       "    </tr>\n",
       "    <tr>\n",
       "      <td>measurements_flat</td>\n",
       "      <td>name, value</td>\n",
       "      <td>None</td>\n",
       "      <td>None</td>\n",
       "      <td>True</td>\n",
       "      <td>1</td>\n",
       "    </tr>\n",
       "  </tbody>\n",
       "</table>"
      ],
      "text/plain": [
       "Text(text='PSA 19 05 2011 -1,32 ja 26 09 2011 PSA oli pt-i sõnadel 0,044ng/ml.')"
      ]
     },
     "execution_count": 12,
     "metadata": {},
     "output_type": "execute_result"
    }
   ],
   "source": [
    "r"
   ]
  },
  {
   "cell_type": "code",
   "execution_count": 13,
   "metadata": {},
   "outputs": [],
   "source": [
    "diff_tagger = DiffTagger(layer_a='gold',\n",
    "                         layer_b='measurements_flat',\n",
    "                         output_layer='diff',\n",
    "                         output_attributes=['value']\n",
    "                        )"
   ]
  },
  {
   "cell_type": "code",
   "execution_count": 14,
   "metadata": {},
   "outputs": [
    {
     "data": {
      "text/html": [
       "<h4>Layer</h4>\n",
       "<table border=\"1\" class=\"dataframe\">\n",
       "  <thead>\n",
       "    <tr style=\"text-align: right;\">\n",
       "      <th>layer name</th>\n",
       "      <th>attributes</th>\n",
       "      <th>parent</th>\n",
       "      <th>enveloping</th>\n",
       "      <th>ambiguous</th>\n",
       "      <th>span count</th>\n",
       "    </tr>\n",
       "  </thead>\n",
       "  <tbody>\n",
       "    <tr>\n",
       "      <td>diff</td>\n",
       "      <td>span_status, input_layer_name, value</td>\n",
       "      <td>None</td>\n",
       "      <td>None</td>\n",
       "      <td>True</td>\n",
       "      <td>1</td>\n",
       "    </tr>\n",
       "  </tbody>\n",
       "</table>\n",
       "<table border=\"1\" class=\"dataframe\">\n",
       "  <thead>\n",
       "    <tr style=\"text-align: right;\">\n",
       "      <th>text</th>\n",
       "      <th>span_status</th>\n",
       "      <th>input_layer_name</th>\n",
       "      <th>value</th>\n",
       "    </tr>\n",
       "  </thead>\n",
       "  <tbody>\n",
       "    <tr>\n",
       "      <td>PSA 19 05 2011 -1,32</td>\n",
       "      <td>modified</td>\n",
       "      <td>gold</td>\n",
       "      <td>1.32</td>\n",
       "    </tr>\n",
       "    <tr>\n",
       "      <td></td>\n",
       "      <td>modified</td>\n",
       "      <td>measurements_flat</td>\n",
       "      <td>1.32</td>\n",
       "    </tr>\n",
       "  </tbody>\n",
       "</table>"
      ],
      "text/plain": [
       "Layer(name=diff, spans=SL[AS[Annotation(PSA 19 05 2011 -1,32, {'input_layer_name': 'gold', 'span_status': 'modified', 'value': 1.32}), Annotation(PSA 19 05 2011 -1,32, {'input_layer_name': 'measurements_flat', 'span_status': 'modified', 'value': '1.32'})]])"
      ]
     },
     "execution_count": 14,
     "metadata": {},
     "output_type": "execute_result"
    }
   ],
   "source": [
    "status = {}\n",
    "diff_tagger(r, status).diff"
   ]
  },
  {
   "cell_type": "code",
   "execution_count": 15,
   "metadata": {},
   "outputs": [
    {
     "data": {
      "text/plain": [
       "{'conflicts': 0,\n",
       " 'extra_annotations': 1,\n",
       " 'extra_spans': 0,\n",
       " 'missing_annotations': 1,\n",
       " 'missing_spans': 0,\n",
       " 'modified_spans': 1,\n",
       " 'overlapped': 0,\n",
       " 'prolonged': 0,\n",
       " 'shortened': 0,\n",
       " 'unchanged_annotations': 0,\n",
       " 'unchanged_spans': 0}"
      ]
     },
     "execution_count": 15,
     "metadata": {},
     "output_type": "execute_result"
    }
   ],
   "source": [
    "status"
   ]
  },
  {
   "cell_type": "code",
   "execution_count": 16,
   "metadata": {},
   "outputs": [],
   "source": [
    "from estnltk.taggers.standard_taggers.diff_tagger import iterate_modified\n",
    "from estnltk.taggers.standard_taggers.diff_tagger import iterate_extra"
   ]
  },
  {
   "cell_type": "code",
   "execution_count": 18,
   "metadata": {},
   "outputs": [
    {
     "data": {
      "text/html": [
       "<table border=\"1\" class=\"dataframe\">\n",
       "  <thead>\n",
       "    <tr style=\"text-align: left;\">\n",
       "      <th>text</th>\n",
       "      <th>start</th>\n",
       "      <th>end</th>\n",
       "      <th>span_status</th>\n",
       "      <th>input_layer_name</th>\n",
       "      <th>value</th>\n",
       "    </tr>\n",
       "  </thead>\n",
       "  <tbody>\n",
       "    <tr>\n",
       "      <td><span style=\"font-family: monospace; white-space: pre-wrap;\"><span style=\"text-decoration: underline;\">PSA 19 05 2011 -1,32</span></span></td>\n",
       "      <td>0</td>\n",
       "      <td>20</td>\n",
       "      <td>modified</td>\n",
       "      <td>gold</td>\n",
       "      <td>1.32</td>\n",
       "    </tr>\n",
       "    <tr>\n",
       "      <td></td>\n",
       "      <td>0</td>\n",
       "      <td>20</td>\n",
       "      <td>modified</td>\n",
       "      <td>measurements_flat</td>\n",
       "      <td>1.32</td>\n",
       "    </tr>\n",
       "  </tbody>\n",
       "</table>"
      ]
     },
     "metadata": {},
     "output_type": "display_data"
    }
   ],
   "source": [
    "for a in iterate_modified(r.diff, 'span_status'):\n",
    "    a.display()"
   ]
  },
  {
   "cell_type": "code",
   "execution_count": 21,
   "metadata": {},
   "outputs": [
    {
     "data": {
      "text/plain": [
       "Annotation(PSA 19 05 2011 -1,32, {'input_layer_name': 'measurements_flat', 'span_status': 'modified', 'value': '1.32'})"
      ]
     },
     "execution_count": 21,
     "metadata": {},
     "output_type": "execute_result"
    }
   ],
   "source": [
    "r.diff[0][1]"
   ]
  }
 ],
 "metadata": {
  "kernelspec": {
   "display_name": "Python 3",
   "language": "python",
   "name": "python3"
  },
  "language_info": {
   "codemirror_mode": {
    "name": "ipython",
    "version": 3
   },
   "file_extension": ".py",
   "mimetype": "text/x-python",
   "name": "python",
   "nbconvert_exporter": "python",
   "pygments_lexer": "ipython3",
   "version": "3.5.6"
  }
 },
 "nbformat": 4,
 "nbformat_minor": 2
}
