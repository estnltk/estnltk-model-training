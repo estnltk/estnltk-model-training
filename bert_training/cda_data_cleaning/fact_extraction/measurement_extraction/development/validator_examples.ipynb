{
 "cells": [
  {
   "cell_type": "code",
   "execution_count": 1,
   "metadata": {},
   "outputs": [],
   "source": [
    "from taggers.measurement_tagger import MeasurementTagger\n",
    "from taggers.measurement_token_tagger import MeasurementTokenTagger\n",
    "from taggers.measurement_object_tagger.measurement_object_tagger import MeasurementObjectTagger\n",
    "from estnltk import Text"
   ]
  },
  {
   "cell_type": "code",
   "execution_count": 2,
   "metadata": {},
   "outputs": [],
   "source": [
    "token_tagger = MeasurementTokenTagger(output_layer = \"measurement_tokens\")\n",
    "tagger = MeasurementTagger()"
   ]
  },
  {
   "cell_type": "code",
   "execution_count": 3,
   "metadata": {},
   "outputs": [],
   "source": [
    "texts = ['n pikkus 120 ml xxxd',\n",
    "         'n pikkus 120 cm xxxd',\n",
    "         'n kaal 120 ml xxxd',\n",
    "         'n kaal 120 kg xxxd',\n",
    "         'n vererõhk 120 ml xxxd',\n",
    "        ]"
   ]
  },
  {
   "cell_type": "code",
   "execution_count": 4,
   "metadata": {},
   "outputs": [],
   "source": [
    "tagged_texts = []\n",
    "for text in texts:\n",
    "    t = Text(text)\n",
    "    token_tagger.tag(t)\n",
    "    tagger.tag(t)\n",
    "    tagged_texts.append(t)"
   ]
  },
  {
   "cell_type": "code",
   "execution_count": 5,
   "metadata": {},
   "outputs": [
    {
     "data": {
      "text/html": [
       "<h4>Layer</h4>\n",
       "\n",
       "<table border=\"1\" class=\"dataframe\">\n",
       "  <thead>\n",
       "    <tr style=\"text-align: right;\">\n",
       "      <th>layer name</th>\n",
       "      <th>attributes</th>\n",
       "      <th>parent</th>\n",
       "      <th>enveloping</th>\n",
       "      <th>ambiguous</th>\n",
       "      <th>span count</th>\n",
       "    </tr>\n",
       "  </thead>\n",
       "  <tbody>\n",
       "    <tr>\n",
       "      <td>measurements</td>\n",
       "      <td>name, OBJECT, VALUE, UNIT, MIN, MAX, DATE, REG...</td>\n",
       "      <td>None</td>\n",
       "      <td>None</td>\n",
       "      <td>True</td>\n",
       "      <td>0</td>\n",
       "    </tr>\n",
       "  </tbody>\n",
       "</table>\n",
       "<table border=\"1\" class=\"dataframe\">\n",
       "  <thead>\n",
       "    <tr style=\"text-align: right;\">\n",
       "      <th>text</th>\n",
       "      <th>name</th>\n",
       "      <th>OBJECT</th>\n",
       "      <th>VALUE</th>\n",
       "      <th>UNIT</th>\n",
       "      <th>MIN</th>\n",
       "      <th>MAX</th>\n",
       "      <th>DATE</th>\n",
       "      <th>REGEX_TYPE</th>\n",
       "    </tr>\n",
       "  </thead>\n",
       "  <tbody>\n",
       "  </tbody>\n",
       "</table>"
      ],
      "text/plain": [
       "Layer(name='measurements', attributes=('name', 'OBJECT', 'VALUE', 'UNIT', 'MIN', 'MAX', 'DATE', 'REGEX_TYPE'), spans=SL[])"
      ]
     },
     "execution_count": 5,
     "metadata": {},
     "output_type": "execute_result"
    }
   ],
   "source": [
    "tagged_texts[0].measurements"
   ]
  },
  {
   "cell_type": "code",
   "execution_count": 6,
   "metadata": {},
   "outputs": [
    {
     "data": {
      "text/html": [
       "<h4>Layer</h4>\n",
       "\n",
       "<table border=\"1\" class=\"dataframe\">\n",
       "  <thead>\n",
       "    <tr style=\"text-align: right;\">\n",
       "      <th>layer name</th>\n",
       "      <th>attributes</th>\n",
       "      <th>parent</th>\n",
       "      <th>enveloping</th>\n",
       "      <th>ambiguous</th>\n",
       "      <th>span count</th>\n",
       "    </tr>\n",
       "  </thead>\n",
       "  <tbody>\n",
       "    <tr>\n",
       "      <td>measurements</td>\n",
       "      <td>name, OBJECT, VALUE, UNIT, MIN, MAX, DATE, REGEX_TYPE</td>\n",
       "      <td>None</td>\n",
       "      <td>None</td>\n",
       "      <td>True</td>\n",
       "      <td>1</td>\n",
       "    </tr>\n",
       "  </tbody>\n",
       "</table>\n",
       "<table border=\"1\" class=\"dataframe\">\n",
       "  <thead>\n",
       "    <tr style=\"text-align: right;\">\n",
       "      <th>text</th>\n",
       "      <th>name</th>\n",
       "      <th>OBJECT</th>\n",
       "      <th>VALUE</th>\n",
       "      <th>UNIT</th>\n",
       "      <th>MIN</th>\n",
       "      <th>MAX</th>\n",
       "      <th>DATE</th>\n",
       "      <th>REGEX_TYPE</th>\n",
       "    </tr>\n",
       "  </thead>\n",
       "  <tbody>\n",
       "    <tr>\n",
       "      <td>pikkus 120 cm</td>\n",
       "      <td>MEASUREMENT</td>\n",
       "      <td>pikkus</td>\n",
       "      <td>120</td>\n",
       "      <td>cm</td>\n",
       "      <td></td>\n",
       "      <td></td>\n",
       "      <td></td>\n",
       "      <td>PIKKUS</td>\n",
       "    </tr>\n",
       "  </tbody>\n",
       "</table>"
      ],
      "text/plain": [
       "Layer(name='measurements', attributes=('name', 'OBJECT', 'VALUE', 'UNIT', 'MIN', 'MAX', 'DATE', 'REGEX_TYPE'), spans=SL[AS(start=2, end=15, text:'pikkus 120 cm')])"
      ]
     },
     "execution_count": 6,
     "metadata": {},
     "output_type": "execute_result"
    }
   ],
   "source": [
    "tagged_texts[1].measurements"
   ]
  },
  {
   "cell_type": "code",
   "execution_count": 7,
   "metadata": {},
   "outputs": [
    {
     "data": {
      "text/html": [
       "<h4>Layer</h4>\n",
       "\n",
       "<table border=\"1\" class=\"dataframe\">\n",
       "  <thead>\n",
       "    <tr style=\"text-align: right;\">\n",
       "      <th>layer name</th>\n",
       "      <th>attributes</th>\n",
       "      <th>parent</th>\n",
       "      <th>enveloping</th>\n",
       "      <th>ambiguous</th>\n",
       "      <th>span count</th>\n",
       "    </tr>\n",
       "  </thead>\n",
       "  <tbody>\n",
       "    <tr>\n",
       "      <td>measurements</td>\n",
       "      <td>name, OBJECT, VALUE, UNIT, MIN, MAX, DATE, REGEX_TYPE</td>\n",
       "      <td>None</td>\n",
       "      <td>None</td>\n",
       "      <td>True</td>\n",
       "      <td>0</td>\n",
       "    </tr>\n",
       "  </tbody>\n",
       "</table>\n",
       "<table border=\"1\" class=\"dataframe\">\n",
       "  <thead>\n",
       "    <tr style=\"text-align: right;\">\n",
       "      <th>text</th>\n",
       "      <th>name</th>\n",
       "      <th>OBJECT</th>\n",
       "      <th>VALUE</th>\n",
       "      <th>UNIT</th>\n",
       "      <th>MIN</th>\n",
       "      <th>MAX</th>\n",
       "      <th>DATE</th>\n",
       "      <th>REGEX_TYPE</th>\n",
       "    </tr>\n",
       "  </thead>\n",
       "  <tbody>\n",
       "  </tbody>\n",
       "</table>"
      ],
      "text/plain": [
       "Layer(name='measurements', attributes=('name', 'OBJECT', 'VALUE', 'UNIT', 'MIN', 'MAX', 'DATE', 'REGEX_TYPE'), spans=SL[])"
      ]
     },
     "execution_count": 7,
     "metadata": {},
     "output_type": "execute_result"
    }
   ],
   "source": [
    "tagged_texts[2].measurements"
   ]
  },
  {
   "cell_type": "code",
   "execution_count": 8,
   "metadata": {},
   "outputs": [
    {
     "data": {
      "text/html": [
       "<h4>Layer</h4>\n",
       "\n",
       "<table border=\"1\" class=\"dataframe\">\n",
       "  <thead>\n",
       "    <tr style=\"text-align: right;\">\n",
       "      <th>layer name</th>\n",
       "      <th>attributes</th>\n",
       "      <th>parent</th>\n",
       "      <th>enveloping</th>\n",
       "      <th>ambiguous</th>\n",
       "      <th>span count</th>\n",
       "    </tr>\n",
       "  </thead>\n",
       "  <tbody>\n",
       "    <tr>\n",
       "      <td>measurements</td>\n",
       "      <td>name, OBJECT, VALUE, UNIT, MIN, MAX, DATE, REGEX_TYPE</td>\n",
       "      <td>None</td>\n",
       "      <td>None</td>\n",
       "      <td>True</td>\n",
       "      <td>1</td>\n",
       "    </tr>\n",
       "  </tbody>\n",
       "</table>\n",
       "<table border=\"1\" class=\"dataframe\">\n",
       "  <thead>\n",
       "    <tr style=\"text-align: right;\">\n",
       "      <th>text</th>\n",
       "      <th>name</th>\n",
       "      <th>OBJECT</th>\n",
       "      <th>VALUE</th>\n",
       "      <th>UNIT</th>\n",
       "      <th>MIN</th>\n",
       "      <th>MAX</th>\n",
       "      <th>DATE</th>\n",
       "      <th>REGEX_TYPE</th>\n",
       "    </tr>\n",
       "  </thead>\n",
       "  <tbody>\n",
       "    <tr>\n",
       "      <td>kaal 120 kg</td>\n",
       "      <td>MEASUREMENT</td>\n",
       "      <td>kaal</td>\n",
       "      <td>120</td>\n",
       "      <td>kg</td>\n",
       "      <td></td>\n",
       "      <td></td>\n",
       "      <td></td>\n",
       "      <td>KAAL</td>\n",
       "    </tr>\n",
       "  </tbody>\n",
       "</table>"
      ],
      "text/plain": [
       "Layer(name='measurements', attributes=('name', 'OBJECT', 'VALUE', 'UNIT', 'MIN', 'MAX', 'DATE', 'REGEX_TYPE'), spans=SL[AS(start=2, end=13, text:'kaal 120 kg')])"
      ]
     },
     "execution_count": 8,
     "metadata": {},
     "output_type": "execute_result"
    }
   ],
   "source": [
    "tagged_texts[3].measurements"
   ]
  },
  {
   "cell_type": "code",
   "execution_count": 9,
   "metadata": {},
   "outputs": [
    {
     "data": {
      "text/html": [
       "<h4>Layer</h4>\n",
       "\n",
       "<table border=\"1\" class=\"dataframe\">\n",
       "  <thead>\n",
       "    <tr style=\"text-align: right;\">\n",
       "      <th>layer name</th>\n",
       "      <th>attributes</th>\n",
       "      <th>parent</th>\n",
       "      <th>enveloping</th>\n",
       "      <th>ambiguous</th>\n",
       "      <th>span count</th>\n",
       "    </tr>\n",
       "  </thead>\n",
       "  <tbody>\n",
       "    <tr>\n",
       "      <td>measurements</td>\n",
       "      <td>name, OBJECT, VALUE, UNIT, MIN, MAX, DATE, REGEX_TYPE</td>\n",
       "      <td>None</td>\n",
       "      <td>None</td>\n",
       "      <td>True</td>\n",
       "      <td>1</td>\n",
       "    </tr>\n",
       "  </tbody>\n",
       "</table>\n",
       "<table border=\"1\" class=\"dataframe\">\n",
       "  <thead>\n",
       "    <tr style=\"text-align: right;\">\n",
       "      <th>text</th>\n",
       "      <th>name</th>\n",
       "      <th>OBJECT</th>\n",
       "      <th>VALUE</th>\n",
       "      <th>UNIT</th>\n",
       "      <th>MIN</th>\n",
       "      <th>MAX</th>\n",
       "      <th>DATE</th>\n",
       "      <th>REGEX_TYPE</th>\n",
       "    </tr>\n",
       "  </thead>\n",
       "  <tbody>\n",
       "    <tr>\n",
       "      <td>vererõhk 120 ml</td>\n",
       "      <td>MEASUREMENT</td>\n",
       "      <td>vererõhk</td>\n",
       "      <td>120</td>\n",
       "      <td>ml</td>\n",
       "      <td></td>\n",
       "      <td></td>\n",
       "      <td></td>\n",
       "      <td>VERERÕHK</td>\n",
       "    </tr>\n",
       "  </tbody>\n",
       "</table>"
      ],
      "text/plain": [
       "Layer(name='measurements', attributes=('name', 'OBJECT', 'VALUE', 'UNIT', 'MIN', 'MAX', 'DATE', 'REGEX_TYPE'), spans=SL[AS(start=2, end=17, text:'vererõhk 120 ml')])"
      ]
     },
     "execution_count": 9,
     "metadata": {},
     "output_type": "execute_result"
    }
   ],
   "source": [
    "tagged_texts[4].measurements"
   ]
  },
  {
   "cell_type": "code",
   "execution_count": 10,
   "metadata": {},
   "outputs": [],
   "source": [
    "# miks asjad paistavad stringidena, aga osad neist on stringid ja teised ühe-elemendilised listid?\n",
    "# ma pean suutma ette kujutada, milliseid tokeneid grammatika tahab kokku ühendada...\n",
    "# qnumber paneb külge mingid atribuudid, millel validaator peab põhinema, aga ma ei suuda ette kujutada, mis need on"
   ]
  },
  {
   "cell_type": "code",
   "execution_count": null,
   "metadata": {},
   "outputs": [],
   "source": []
  },
  {
   "cell_type": "code",
   "execution_count": null,
   "metadata": {},
   "outputs": [],
   "source": []
  }
 ],
 "metadata": {
  "kernelspec": {
   "display_name": "Python [conda env:estnltk141]",
   "language": "python",
   "name": "conda-env-estnltk141-py"
  },
  "language_info": {
   "codemirror_mode": {
    "name": "ipython",
    "version": 3
   },
   "file_extension": ".py",
   "mimetype": "text/x-python",
   "name": "python",
   "nbconvert_exporter": "python",
   "pygments_lexer": "ipython3",
   "version": "3.5.6"
  }
 },
 "nbformat": 4,
 "nbformat_minor": 2
}
