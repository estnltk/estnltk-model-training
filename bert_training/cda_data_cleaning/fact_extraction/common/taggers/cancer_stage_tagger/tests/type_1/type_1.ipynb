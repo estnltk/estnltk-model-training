{
 "cells": [
  {
   "cell_type": "code",
   "execution_count": 11,
   "metadata": {
    "collapsed": true
   },
   "outputs": [],
   "source": [
    "import os\n",
    "import sys\n",
    "sys.path.append(os.path.abspath('../../development'))\n",
    "from estnltk import Text\n",
    "from estnltk.taggers import TaggerTester\n",
    "from estnltk.taggers import Tagger\n",
    "from cda_data_cleaning.fact_extraction.common.taggers.cancer_stage_tagger.cancer_stage_tagger import CancerStageTagger"
   ]
  },
  {
   "cell_type": "code",
   "execution_count": 46,
   "outputs": [
    {
     "name": "stdout",
     "output_type": "stream",
     "text": [
      "Created input texts file 'input_type1_0.json'.\n",
      "Created target layers file 'target_type1_0.json'.\n",
      "Created input texts file 'input_type1_1.json'.\n",
      "Created target layers file 'target_type1_1.json'.\n"
     ]
    }
   ],
   "source": [
    "raw_texts = []\n",
    "\n",
    "raw_texts.append('''\n",
    "follikulaarse mitte-hodgkini tüüpi lümfoomi muud rakutüübid, G1, IVB staadium\n",
    "''')\n",
    "\n",
    "raw_texts.append('''\n",
    "Hulgimüeloom; IgG III A st; Staadium arvel 02\n",
    "IgG III A st\n",
    "''')\n",
    "\n",
    "expected_texts = [['IVB st'], ['III A st', 'III A st']]\n",
    "\n",
    "tagged_texts = []\n",
    "\n",
    "for i, (text, expected) in enumerate(zip(raw_texts, expected_texts)):\n",
    "    # create filenames\n",
    "    name = 'type1_' + str(i)\n",
    "    input_file = 'input_' + name + '.json'\n",
    "    target_file = 'target_' + name + '.json'\n",
    "\n",
    "    # create taggers\n",
    "    cancer_stage_tagger = CancerStageTagger()\n",
    "    test_generator = TaggerTester(tagger=cancer_stage_tagger, input_file=input_file, target_file=target_file)\n",
    "\n",
    "    # tag texts\n",
    "    t = Text(text)\n",
    "    cancer_stage_tagger.tag(t)\n",
    "\n",
    "    # print(\"value:\", t.stages.text)\n",
    "    # print(\"expected:\", expected)\n",
    "    # print(\"t:\", t)\n",
    "\n",
    "    test_generator.add_test(name, t, expected)\n",
    "    test_generator.save_input(overwrite=True)\n",
    "    test_generator.save_target(overwrite=True)\n"
   ],
   "metadata": {
    "collapsed": false,
    "pycharm": {
     "name": "#%%\n"
    }
   }
  }
 ],
 "metadata": {
  "kernelspec": {
   "display_name": "Python 3",
   "language": "python",
   "name": "python3"
  },
  "language_info": {
   "codemirror_mode": {
    "name": "ipython",
    "version": 2
   },
   "file_extension": ".py",
   "mimetype": "text/x-python",
   "name": "python",
   "nbconvert_exporter": "python",
   "pygments_lexer": "ipython2",
   "version": "2.7.6"
  }
 },
 "nbformat": 4,
 "nbformat_minor": 0
}