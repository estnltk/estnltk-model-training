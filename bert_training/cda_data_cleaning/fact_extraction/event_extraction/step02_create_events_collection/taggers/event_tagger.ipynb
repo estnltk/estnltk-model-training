{
 "cells": [
  {
   "cell_type": "code",
   "execution_count": 1,
   "metadata": {},
   "outputs": [],
   "source": [
    "from estnltk import Text\n",
    "from grammarextractor.data_processing.event_extraction import EventHeaderTagger, EventTagger"
   ]
  },
  {
   "cell_type": "code",
   "execution_count": 2,
   "metadata": {},
   "outputs": [],
   "source": [
    "event_header_tagger = EventHeaderTagger()\n",
    "event_tagger = EventTagger()"
   ]
  },
  {
   "cell_type": "code",
   "execution_count": 3,
   "metadata": {},
   "outputs": [],
   "source": [
    "text = '''04.07.2013 09:22 - <ANONYM id=\"9\" type=\"per\" morph=\"_H_ sg n\"/>, <ANONYM id=\"10\" type=\"per\" morph=\"_H_ sg n\"/> - D00949 - E600 - üldarstiabi \n",
    "D38 Pericoronitis acuta \n",
    "Objetiivsel vaatlusel turse taandunud, punetust ei esine. Pt sõnul valu taandunud, üldenesetunne hea. Dreen ise eemaldunud. Loputus Sol. CHX 0,2%, mädast eritist ei välju. Igemetaskusse aplitseeritud Corsodyl geel. Pt. on lisatud opi-järjekorda tarkushamba eemaldamiseks. \n",
    "ü.õ. K. <ANONYM id=\"11\" type=\"per\" morph=\"_S_ sg n\"/>'''"
   ]
  },
  {
   "cell_type": "code",
   "execution_count": 4,
   "metadata": {},
   "outputs": [],
   "source": [
    "t = Text(text)"
   ]
  },
  {
   "cell_type": "code",
   "execution_count": 5,
   "metadata": {},
   "outputs": [
    {
     "data": {
      "text/html": [
       "<table border=\"1\" class=\"dataframe\">\n",
       "  <thead>\n",
       "    <tr style=\"text-align: right;\">\n",
       "      <th>text</th>\n",
       "    </tr>\n",
       "  </thead>\n",
       "  <tbody>\n",
       "    <tr>\n",
       "      <td><div align = \"left\">04.07.2013 09:22 - &lt;ANONYM id=&quot;9&quot; type=&quot;per&quot; morph=&quot;_H_ sg n&quot;/&gt;, &lt;ANONYM id=&quot;10&quot; type=&quot;per&quot; morph=&quot;_H_ sg n&quot;/&gt; - D00949 - E600 - üldarstiabi </br>D38 Pericoronitis acuta </br>Objetiivsel vaatlusel turse taandunud, punetust ei esine. Pt sõnul valu taandunud, üldenesetunne hea. Dreen ise eemaldunud. Loputus Sol. CHX 0,2%, mädast eritist ei välju. Igemetaskusse aplitseeritud Corsodyl geel. Pt. on lisatud opi-järjekorda tarkushamba eemaldamiseks. </br>ü.õ. K. &lt;ANONYM id=&quot;11&quot; type=&quot;per&quot; morph=&quot;_S_ sg n&quot;/&gt;</div></td>\n",
       "    </tr>\n",
       "  </tbody>\n",
       "</table>\n",
       "<table border=\"1\" class=\"dataframe\">\n",
       "  <thead>\n",
       "    <tr style=\"text-align: right;\">\n",
       "      <th>layer name</th>\n",
       "      <th>attributes</th>\n",
       "      <th>parent</th>\n",
       "      <th>enveloping</th>\n",
       "      <th>ambiguous</th>\n",
       "      <th>span count</th>\n",
       "    </tr>\n",
       "  </thead>\n",
       "  <tbody>\n",
       "    <tr>\n",
       "      <td>events_and_headers</td>\n",
       "      <td>grammar_symbol, regex_type, value, _priority_</td>\n",
       "      <td>None</td>\n",
       "      <td>None</td>\n",
       "      <td>True</td>\n",
       "      <td>2</td>\n",
       "    </tr>\n",
       "  </tbody>\n",
       "</table>"
      ],
      "text/plain": [
       "Text(text='04.07.2013 09:22 - <ANONYM id=\"9\" type=\"per\" morph=\"_H_ sg n\"/>, <ANONYM id=\"10\" type=\"per\" morph=\"_H_ sg n\"/> - D00949 - E600 - üldarstiabi \\nD38 Pericoronitis acuta \\nObjetiivsel vaatlusel turse taandunud, punetust ei esine. Pt sõnul valu taandunud, üldenesetunne hea. Dreen ise eemaldunud. Loputus Sol. CHX 0,2%, mädast eritist ei välju. Igemetaskusse aplitseeritud Corsodyl geel. Pt. on lisatud opi-järjekorda tarkushamba eemaldamiseks. \\nü.õ. K. <ANONYM id=\"11\" type=\"per\" morph=\"_S_ sg n\"/>')"
      ]
     },
     "execution_count": 5,
     "metadata": {},
     "output_type": "execute_result"
    }
   ],
   "source": [
    "event_header_tagger.tag(t)"
   ]
  },
  {
   "cell_type": "code",
   "execution_count": 6,
   "metadata": {},
   "outputs": [
    {
     "data": {
      "text/html": [
       "<h4>Layer</h4>\n",
       "\n",
       "<table border=\"1\" class=\"dataframe\">\n",
       "  <thead>\n",
       "    <tr style=\"text-align: right;\">\n",
       "      <th>layer name</th>\n",
       "      <th>attributes</th>\n",
       "      <th>parent</th>\n",
       "      <th>enveloping</th>\n",
       "      <th>ambiguous</th>\n",
       "      <th>span count</th>\n",
       "    </tr>\n",
       "  </thead>\n",
       "  <tbody>\n",
       "    <tr>\n",
       "      <td>events_and_headers</td>\n",
       "      <td>grammar_symbol, regex_type, value, _priority_</td>\n",
       "      <td>None</td>\n",
       "      <td>None</td>\n",
       "      <td>True</td>\n",
       "      <td>2</td>\n",
       "    </tr>\n",
       "  </tbody>\n",
       "</table>\n",
       "<table border=\"1\" class=\"dataframe\">\n",
       "  <thead>\n",
       "    <tr style=\"text-align: right;\">\n",
       "      <th>text</th>\n",
       "      <th>grammar_symbol</th>\n",
       "      <th>regex_type</th>\n",
       "      <th>value</th>\n",
       "      <th>_priority_</th>\n",
       "    </tr>\n",
       "  </thead>\n",
       "  <tbody>\n",
       "    <tr>\n",
       "      <td>04.07.2013 09:22</td>\n",
       "      <td>DATE</td>\n",
       "      <td>date</td>\n",
       "      <td>04.07.2013 09:22</td>\n",
       "      <td>0</td>\n",
       "    </tr>\n",
       "    <tr>\n",
       "      <td>- &lt;ANONYM id=\"9\" type=\"per\" morph=\"_H_ sg n\"/&gt;, &lt;ANONYM id=\"10\" type=\"per\" morph ..., type: &lt;class 'str'&gt;, length: 475</td>\n",
       "      <td>EVENT_TEXT</td>\n",
       "      <td>None</td>\n",
       "      <td>- &lt;ANONYM id=\"9\" type=\"per\" morph=\"_H_ sg n\"/&gt;, &lt;ANONYM id=\"10\" type=\"per\" morph ..., type: &lt;class 'str'&gt;, length: 475</td>\n",
       "      <td>None</td>\n",
       "    </tr>\n",
       "  </tbody>\n",
       "</table>"
      ],
      "text/plain": [
       "Layer(name='events_and_headers', attributes=('grammar_symbol', 'regex_type', 'value', '_priority_'), spans=SL[AS[Annotation(04.07.2013 09:22, {'_priority_': 0, 'grammar_symbol': 'DATE', 'regex_type': 'date', 'value': '04.07.2013 09:22'})],\n",
       "AS[Annotation(- <ANONYM id=\"9\" type=\"per\" morph=\"_H_ sg n\"/>, <ANONYM id=\"10\" type=\"per\" morph=\"_H_ sg n\"/> - D00949 - E600 - üldarstiabi \n",
       "D38 Pericoronitis acuta \n",
       "Objetiivsel vaatlusel turse taandunud, punetust ei esine. Pt sõnul valu taandunud, üldenesetunne hea. Dreen ise eemaldunud. Loputus Sol. CHX 0,2%, mädast eritist ei välju. Igemetaskusse aplitseeritud Corsodyl geel. Pt. on lisatud opi-järjekorda tarkushamba eemaldamiseks. \n",
       "ü.õ. K. <ANONYM id=\"11\" type=\"per\" morph=\"_S_ sg n\"/, {'_priority_': None, 'grammar_symbol': 'EVENT_TEXT', 'regex_type': None, 'value': '- <ANONYM id=\"9\" type=\"per\" morph=\"_H_ sg n\"/>, <ANONYM id=\"10\" type=\"per\" morph=\"_H_ sg n\"/> - D00949 - E600 - üldarstiabi \\nD38 Pericoronitis acuta \\nObjetiivsel vaatlusel turse taandunud, punetust ei esine. Pt sõnul valu taandunud, üldenesetunne hea. Dreen ise eemaldunud. Loputus Sol. CHX 0,2%, mädast eritist ei välju. Igemetaskusse aplitseeritud Corsodyl geel. Pt. on lisatud opi-järjekorda tarkushamba eemaldamiseks. \\nü.õ. K. <ANONYM id=\"11\" type=\"per\" morph=\"_S_ sg n\"/'})]])"
      ]
     },
     "execution_count": 6,
     "metadata": {},
     "output_type": "execute_result"
    }
   ],
   "source": [
    "t.events_and_headers"
   ]
  },
  {
   "cell_type": "code",
   "execution_count": 7,
   "metadata": {},
   "outputs": [
    {
     "data": {
      "text/html": [
       "<table border=\"1\" class=\"dataframe\">\n",
       "  <thead>\n",
       "    <tr style=\"text-align: right;\">\n",
       "      <th>text</th>\n",
       "    </tr>\n",
       "  </thead>\n",
       "  <tbody>\n",
       "    <tr>\n",
       "      <td><div align = \"left\">04.07.2013 09:22 - &lt;ANONYM id=&quot;9&quot; type=&quot;per&quot; morph=&quot;_H_ sg n&quot;/&gt;, &lt;ANONYM id=&quot;10&quot; type=&quot;per&quot; morph=&quot;_H_ sg n&quot;/&gt; - D00949 - E600 - üldarstiabi </br>D38 Pericoronitis acuta </br>Objetiivsel vaatlusel turse taandunud, punetust ei esine. Pt sõnul valu taandunud, üldenesetunne hea. Dreen ise eemaldunud. Loputus Sol. CHX 0,2%, mädast eritist ei välju. Igemetaskusse aplitseeritud Corsodyl geel. Pt. on lisatud opi-järjekorda tarkushamba eemaldamiseks. </br>ü.õ. K. &lt;ANONYM id=&quot;11&quot; type=&quot;per&quot; morph=&quot;_S_ sg n&quot;/&gt;</div></td>\n",
       "    </tr>\n",
       "  </tbody>\n",
       "</table>\n",
       "<table border=\"1\" class=\"dataframe\">\n",
       "  <thead>\n",
       "    <tr style=\"text-align: right;\">\n",
       "      <th>layer name</th>\n",
       "      <th>attributes</th>\n",
       "      <th>parent</th>\n",
       "      <th>enveloping</th>\n",
       "      <th>ambiguous</th>\n",
       "      <th>span count</th>\n",
       "    </tr>\n",
       "  </thead>\n",
       "  <tbody>\n",
       "    <tr>\n",
       "      <td>events</td>\n",
       "      <td>name, DATE, EVENT</td>\n",
       "      <td>None</td>\n",
       "      <td>events_and_headers</td>\n",
       "      <td>True</td>\n",
       "      <td>1</td>\n",
       "    </tr>\n",
       "    <tr>\n",
       "      <td>events_and_headers</td>\n",
       "      <td>grammar_symbol, regex_type, value, _priority_</td>\n",
       "      <td>None</td>\n",
       "      <td>None</td>\n",
       "      <td>True</td>\n",
       "      <td>2</td>\n",
       "    </tr>\n",
       "  </tbody>\n",
       "</table>"
      ],
      "text/plain": [
       "Text(text='04.07.2013 09:22 - <ANONYM id=\"9\" type=\"per\" morph=\"_H_ sg n\"/>, <ANONYM id=\"10\" type=\"per\" morph=\"_H_ sg n\"/> - D00949 - E600 - üldarstiabi \\nD38 Pericoronitis acuta \\nObjetiivsel vaatlusel turse taandunud, punetust ei esine. Pt sõnul valu taandunud, üldenesetunne hea. Dreen ise eemaldunud. Loputus Sol. CHX 0,2%, mädast eritist ei välju. Igemetaskusse aplitseeritud Corsodyl geel. Pt. on lisatud opi-järjekorda tarkushamba eemaldamiseks. \\nü.õ. K. <ANONYM id=\"11\" type=\"per\" morph=\"_S_ sg n\"/>')"
      ]
     },
     "execution_count": 7,
     "metadata": {},
     "output_type": "execute_result"
    }
   ],
   "source": [
    "event_tagger.tag(t)"
   ]
  },
  {
   "cell_type": "code",
   "execution_count": 8,
   "metadata": {},
   "outputs": [
    {
     "data": {
      "text/html": [
       "<h4>Layer</h4>\n",
       "\n",
       "<table border=\"1\" class=\"dataframe\">\n",
       "  <thead>\n",
       "    <tr style=\"text-align: right;\">\n",
       "      <th>layer name</th>\n",
       "      <th>attributes</th>\n",
       "      <th>parent</th>\n",
       "      <th>enveloping</th>\n",
       "      <th>ambiguous</th>\n",
       "      <th>span count</th>\n",
       "    </tr>\n",
       "  </thead>\n",
       "  <tbody>\n",
       "    <tr>\n",
       "      <td>events</td>\n",
       "      <td>name, DATE, EVENT</td>\n",
       "      <td>None</td>\n",
       "      <td>events_and_headers</td>\n",
       "      <td>True</td>\n",
       "      <td>1</td>\n",
       "    </tr>\n",
       "  </tbody>\n",
       "</table>\n",
       "<table border=\"1\" class=\"dataframe\">\n",
       "  <thead>\n",
       "    <tr style=\"text-align: right;\">\n",
       "      <th>text</th>\n",
       "      <th>name</th>\n",
       "      <th>DATE</th>\n",
       "      <th>EVENT</th>\n",
       "    </tr>\n",
       "  </thead>\n",
       "  <tbody>\n",
       "    <tr>\n",
       "      <td>04.07.2013 09:22 - &lt;ANONYM id=\"9\" type=\"per\" morph=\"_H_ sg n\"/&gt;, &lt;ANONYM id=\"10\" ..., type: &lt;class 'str'&gt;, length: 492</td>\n",
       "      <td>EVENT</td>\n",
       "      <td>04.07.2013 09:22</td>\n",
       "      <td>- &lt;ANONYM id=\"9\" type=\"per\" morph=\"_H_ sg n\"/&gt;, &lt;ANONYM id=\"10\" type=\"per\" morph ..., type: &lt;class 'str'&gt;, length: 475</td>\n",
       "    </tr>\n",
       "  </tbody>\n",
       "</table>"
      ],
      "text/plain": [
       "Layer(name='events', attributes=('name', 'DATE', 'EVENT'), spans=SL[AS[Annotation(04.07.2013 09:22 - <ANONYM id=\"9\" type=\"per\" morph=\"_H_ sg n\"/>, <ANONYM id=\"10\" type=\"per\" morph=\"_H_ sg n\"/> - D00949 - E600 - üldarstiabi \n",
       "D38 Pericoronitis acuta \n",
       "Objetiivsel vaatlusel turse taandunud, punetust ei esine. Pt sõnul valu taandunud, üldenesetunne hea. Dreen ise eemaldunud. Loputus Sol. CHX 0,2%, mädast eritist ei välju. Igemetaskusse aplitseeritud Corsodyl geel. Pt. on lisatud opi-järjekorda tarkushamba eemaldamiseks. \n",
       "ü.õ. K. <ANONYM id=\"11\" type=\"per\" morph=\"_S_ sg n\"/, {'DATE': '04.07.2013 09:22', 'EVENT': '- <ANONYM id=\"9\" type=\"per\" morph=\"_H_ sg n\"/>, <ANONYM id=\"10\" type=\"per\" morph=\"_H_ sg n\"/> - D00949 - E600 - üldarstiabi \\nD38 Pericoronitis acuta \\nObjetiivsel vaatlusel turse taandunud, punetust ei esine. Pt sõnul valu taandunud, üldenesetunne hea. Dreen ise eemaldunud. Loputus Sol. CHX 0,2%, mädast eritist ei välju. Igemetaskusse aplitseeritud Corsodyl geel. Pt. on lisatud opi-järjekorda tarkushamba eemaldamiseks. \\nü.õ. K. <ANONYM id=\"11\" type=\"per\" morph=\"_S_ sg n\"/', 'name': 'EVENT'})]])"
      ]
     },
     "execution_count": 8,
     "metadata": {},
     "output_type": "execute_result"
    }
   ],
   "source": [
    "t.events"
   ]
  }
 ],
 "metadata": {
  "kernelspec": {
   "display_name": "Python [conda env:estnltk141]",
   "language": "python",
   "name": "conda-env-estnltk141-py"
  },
  "language_info": {
   "codemirror_mode": {
    "name": "ipython",
    "version": 3
   },
   "file_extension": ".py",
   "mimetype": "text/x-python",
   "name": "python",
   "nbconvert_exporter": "python",
   "pygments_lexer": "ipython3",
   "version": "3.5.6"
  }
 },
 "nbformat": 4,
 "nbformat_minor": 2
}
