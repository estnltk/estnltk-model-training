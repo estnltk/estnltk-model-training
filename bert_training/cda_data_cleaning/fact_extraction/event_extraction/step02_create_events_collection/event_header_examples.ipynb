{
 "cells": [
  {
   "cell_type": "code",
   "execution_count": 1,
   "metadata": {},
   "outputs": [],
   "source": [
    "from estnltk import Text\n",
    "from taggers.event_token_tagger import EventTokenTagger\n",
    "from taggers.event_header_tagger import EventHeaderTagger"
   ]
  },
  {
   "cell_type": "code",
   "execution_count": 2,
   "metadata": {},
   "outputs": [],
   "source": [
    "event_token_tagger = EventTokenTagger(output_layer = 'event_tokens')\n",
    "event_header_tagger = EventHeaderTagger()"
   ]
  },
  {
   "cell_type": "code",
   "execution_count": 3,
   "metadata": {},
   "outputs": [],
   "source": [
    "a = '''07.01.2011 08:19 - <ANONYM id=\"0\" type=\"per\" morph=\"_H_ sg g,_H_ pl g\"/>, <ANONYM id=\"1\" type=\"per\" morph=\"_H_ sg n\"/> - D03659 - E170 - kardioloogia a\n",
    "kaebused oktoobrist alates ebamääraseid valusid südame piirkonnas , käimisel hingeldus, jalgadel turseid ei ole,  kerged subfebriilsed temperatuurid, mida on kirjeldatud ka 2008a  dokumentides.'''  "
   ]
  },
  {
   "cell_type": "code",
   "execution_count": 4,
   "metadata": {},
   "outputs": [],
   "source": [
    "b = '''07.01.2011 08:19 - METS, MARI - D03659 - E170 - kardioloogia \n",
    "kaebused oktoobrist alates ebamääraseid valusid südame piirkonnas , käimisel hingeldus, jalgadel turseid ei ole,  kerged subfebriilsed temperatuurid, mida on kirjeldatud ka 2008a  dokumentides.'''  "
   ]
  },
  {
   "cell_type": "code",
   "execution_count": 5,
   "metadata": {},
   "outputs": [],
   "source": [
    "c = '07.01.2011 08:19 Kokkuvõte: blablaa'"
   ]
  },
  {
   "cell_type": "code",
   "execution_count": 6,
   "metadata": {},
   "outputs": [],
   "source": [
    "d = '07.01.2011 08:19 - <ANONYM id=\"0\" type=\"per\" morph=\"_H_ sg g,_H_ pl g\"/>, <ANONYM id=\"1\" type=\"per\" morph=\"_H_ sg n\"/>'"
   ]
  },
  {
   "cell_type": "code",
   "execution_count": 7,
   "metadata": {},
   "outputs": [],
   "source": [
    "e = 'Anamnees: 07.01.2011 juhtus see ja too'"
   ]
  },
  {
   "cell_type": "code",
   "execution_count": 8,
   "metadata": {},
   "outputs": [],
   "source": [
    "examples = [a, b, c, d, e]"
   ]
  },
  {
   "cell_type": "code",
   "execution_count": 9,
   "metadata": {},
   "outputs": [],
   "source": [
    "for ex in examples:\n",
    "    t = Text(ex)\n",
    "    event_token_tagger.tag(t)\n",
    "    event_header_tagger.tag(t)\n",
    "    if len(t.event_headers) == 0:\n",
    "        print(t)"
   ]
  },
  {
   "cell_type": "code",
   "execution_count": 10,
   "metadata": {},
   "outputs": [],
   "source": [
    "new_examples = [\n",
    "    '\\nAnamnees 12.01.2015\\n',\n",
    "    '16.10.2013 15:35 - <ANONYM id=\"23\" type=\"per\" morph=\"_H_ sg n,_H_ pl n\"/>, <ANONYM id=\"24\" type=\"per\" morph=\"_H_ sg n\"/> - M00586 - N600 - ämmaemandus',\n",
    "    '16.10.2013 15:35 - <ANONYM id=\"23\" type=\"per\" morph=\"_H_ sg n,_H_ pl n\"/>, <ANONYM id=\"24\" type=\"per\" morph=\"_H_ sg n\"/> - D03659 - E260 - Arst-õppejõud kardioloogia erialal\\n',\n",
    "    '\\n16.10.2013 15:35 - <ANONYM id=\"23\" type=\"per\" morph=\"_H_ sg n,_H_ pl n\"/>, <ANONYM id=\"24\" type=\"per\" morph=\"_H_ sg n\"/> D01720 - E250 - onkoloogia (kiiritus- ja keemiaravi tähenduses)\\n',\n",
    "    '\\n16.10.2013 15:35 - <ANONYM id=\"23\" type=\"per\" morph=\"_H_ sg n,_H_ pl n\"/>, <ANONYM id=\"24\" type=\"per\" morph=\"_H_ sg n\"/> - AUS, ANNELI - D05450 - Laboriarst\\n',\n",
    "    '\\n16.10.2013 15:35 - <ANONYM id=\"23\" type=\"per\" morph=\"_H_ sg n,_H_ pl n\"/>, <ANONYM id=\"24\" type=\"per\" morph=\"_H_ sg n\"/> - ARU, LY - D05449\\n',\n",
    "    '''16.10.2013 15:35 - <ANONYM id=\"23\" type=\"per\" morph=\"_H_ sg n,_H_ pl n\"/>, <ANONYM id=\"24\" type=\"per\" morph=\"_H_ sg n\"/> - D01763 - E370 - sünnitusabi ja günekoloogia \n",
    "Suunatud sünnieelsest osakonnast sünnituse induktsiooniks (amniotomia teel). \n",
    "''',\n",
    "    '07.01.2011 Neurofüsioloogia\\n',\n",
    "     '26.09.2012 16:44 - <ANONYM id=\"0\" type=\"per\" morph=\"_Y_ ?\"/>, <ANONYM id=\"1\" type=\"per\" morph=\"_H_ sg n\"/> - D04208 - E100 - anestesioloogia \\n22.06.2012 kukkus kodus , sai L2 kompr fraktuuri , ei olnud pikali.',\n",
    "    '''RDW-CV 14.0 (11,6 .. 14 % ) \n",
    "\n",
    "20.07.2009 10:35 - <ANONYM id=\"4\" type=\"per\" morph=\"_H_ sg n\"/>, <ANONYM id=\"5\" type=\"per\" morph=\"_H_ sg n\"/> - D07097 - E26 - vaskulaarkirurgia\n",
    "Radioloogiline uuring, vastus nr 1201B_15177_1\n",
    "''',\n",
    "    \n",
    "    '''CRP 38 ↑ (<5 mg/L) \n",
    "04.10.2013 15:51 - SOOTS, MARIANNE - D02773 - E440 - suu-, näo- ja lõualuukirurgia \n",
    "Turse reg dd 24,25,'''\n",
    "    \n",
    "]"
   ]
  },
  {
   "cell_type": "code",
   "execution_count": 11,
   "metadata": {},
   "outputs": [],
   "source": [
    "for ex in new_examples:\n",
    "    t = Text(ex)\n",
    "    event_token_tagger.tag(t)\n",
    "    event_header_tagger.tag(t)\n",
    "    if len(t.event_headers) == 0:\n",
    "        print(t)"
   ]
  },
  {
   "cell_type": "code",
   "execution_count": 12,
   "metadata": {},
   "outputs": [],
   "source": [
    "e = r'(?P<SPECIALTY>([-A-ZÜÕÖÄŠŽa-züõöäšž, \\(\\)]{1,50}))\\s*\\n'"
   ]
  },
  {
   "cell_type": "code",
   "execution_count": null,
   "metadata": {},
   "outputs": [],
   "source": []
  }
 ],
 "metadata": {
  "kernelspec": {
   "display_name": "Python [conda env:estnltk141]",
   "language": "python",
   "name": "conda-env-estnltk141-py"
  },
  "language_info": {
   "codemirror_mode": {
    "name": "ipython",
    "version": 3
   },
   "file_extension": ".py",
   "mimetype": "text/x-python",
   "name": "python",
   "nbconvert_exporter": "python",
   "pygments_lexer": "ipython3",
   "version": "3.5.6"
  }
 },
 "nbformat": 4,
 "nbformat_minor": 2
}
