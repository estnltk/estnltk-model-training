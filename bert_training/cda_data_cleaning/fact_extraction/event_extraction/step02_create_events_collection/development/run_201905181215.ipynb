{
 "cells": [
  {
   "cell_type": "markdown",
   "metadata": {},
   "source": [
    "# `run_201905181215`"
   ]
  },
  {
   "cell_type": "markdown",
   "metadata": {},
   "source": [
    "## Configuration"
   ]
  },
  {
   "cell_type": "markdown",
   "metadata": {},
   "source": [
    "### `EstNLTK` version\n",
    "```bash\n",
    "(py36) ptammo@p12:~/Projects/cda-data-cleaning$ git -C ../estnltk show --summary\n",
    "```\n",
    "```\n",
    "commit fd5b8314c31a227fb1135985c59ffe0d13aa1ece\n",
    "Author: pault <pault@ut.ee>\n",
    "Date:   Sat May 18 11:43:03 2019 +0300\n",
    "\n",
    "    replaced re.Pattern with re.regex.Pattern in Vocabulary for compatibility with newer version of regex module\n",
    "```"
   ]
  },
  {
   "cell_type": "markdown",
   "metadata": {},
   "source": [
    "### `cda-data-cleaning` version\n",
    "```bash\n",
    "(py36) ptammo@p12:~/Projects/cda-data-cleaning$ git show --summary\n",
    "```\n",
    "```\n",
    "commit f4b47bedf437511f1457b08c54ed3e33eefcdfe4\n",
    "Author: pault <pault@ut.ee>\n",
    "Date:   Fri May 17 23:06:15 2019 +0300\n",
    "\n",
    "    #1120 update EventSegmentsTagger.output_attributes\n",
    "```"
   ]
  },
  {
   "cell_type": "markdown",
   "metadata": {},
   "source": [
    "### `egcut_epi_original.ini`\n",
    "```\n",
    "(py36) ptammo@p12:~/Projects/cda-data-cleaning$ cat configurations/egcut_epi_original.ini \n",
    "[database-configuration]\n",
    "host = p12.stacc.ee\n",
    "port = 5432\n",
    "database_name = egcut_epi\n",
    "\n",
    "username = ptammo\n",
    "password = xxxxxx\n",
    "\n",
    "role = egcut_epi_work_create\n",
    "table_create_role = egcut_epi_work_create\n",
    "table_read_role = egcut_epi_work_read\n",
    "\n",
    "original_schema = original\n",
    "work_schema = work\n",
    "\n",
    "\n",
    "[luigi]\n",
    "folder = luigi_targets\n",
    "\n",
    "\n",
    "# LEGACY TO BE REMOVED\n",
    "[classifications-database-configuration]\n",
    "host = p12.stacc.ee\n",
    "port = 5432\n",
    "database_name = qs_rel\n",
    "schema = rel_classifications\n",
    "```"
   ]
  },
  {
   "cell_type": "markdown",
   "metadata": {},
   "source": [
    "## Run `CreateTextsCollection`\n",
    "```bash\n",
    "(py36) ptammo@p12:~/Projects/cda-data-cleaning$ luigi --scheduler-port 8089 --module cda_data_cleaning CreateTextsCollection  --prefix=run_201905181215 --conf=egcut_epi_original.ini --workers=8\n",
    "```"
   ]
  },
  {
   "cell_type": "markdown",
   "metadata": {},
   "source": [
    "## Run `CreateEventsCollection`\n",
    "```bash\n",
    "(py36) ptammo@p12:~/Projects/cda-data-cleaning$ luigi --scheduler-port 8089 --module cda_data_cleaning CreateEventsCollection --prefix=run_201905181215 --conf=egcut_epi_original.ini --workers=1\n",
    "```"
   ]
  },
  {
   "cell_type": "markdown",
   "metadata": {},
   "source": [
    "## Results"
   ]
  },
  {
   "cell_type": "code",
   "execution_count": 1,
   "metadata": {},
   "outputs": [
    {
     "name": "stdout",
     "output_type": "stream",
     "text": [
      "INFO:storage.py:41: connecting to host: 'p12.stacc.ee', port: '5432', dbname: 'egcut_epi', user: 'ptammo'\n",
      "INFO:storage.py:57: schema: 'work', temporary: False, role: 'egcut_epi_work_create'\n"
     ]
    }
   ],
   "source": [
    "from estnltk.storage import PostgresStorage\n",
    "\n",
    "storage = PostgresStorage(pgpass_file='~/.pgpass',\n",
    "                          dbname='egcut_epi',\n",
    "                          schema='work',\n",
    "                          role='egcut_epi_work_create')"
   ]
  },
  {
   "cell_type": "markdown",
   "metadata": {},
   "source": [
    "### `run_201905181215_texts` collection"
   ]
  },
  {
   "cell_type": "code",
   "execution_count": 2,
   "metadata": {},
   "outputs": [
    {
     "data": {
      "text/html": [
       "<b>PgCollection</b><br/><b>name:</b> run_201905181215_texts<br/><b>storage:</b> PostgresStorage(host=p12.stacc.ee port=5432 dbname=egcut_epi user=ptammo schema=work temporary=False)<br/><b>count objects:</b> 1654020<br/><b>Metadata</b><br/><table border=\"1\" class=\"dataframe\">\n",
       "  <thead>\n",
       "    <tr style=\"text-align: right;\">\n",
       "      <th></th>\n",
       "      <th>data type</th>\n",
       "    </tr>\n",
       "  </thead>\n",
       "  <tbody>\n",
       "    <tr>\n",
       "      <th>epi_id</th>\n",
       "      <td>text</td>\n",
       "    </tr>\n",
       "    <tr>\n",
       "      <th>epi_type</th>\n",
       "      <td>text</td>\n",
       "    </tr>\n",
       "    <tr>\n",
       "      <th>schema</th>\n",
       "      <td>text</td>\n",
       "    </tr>\n",
       "    <tr>\n",
       "      <th>table</th>\n",
       "      <td>text</td>\n",
       "    </tr>\n",
       "    <tr>\n",
       "      <th>field</th>\n",
       "      <td>text</td>\n",
       "    </tr>\n",
       "    <tr>\n",
       "      <th>row_id</th>\n",
       "      <td>text</td>\n",
       "    </tr>\n",
       "    <tr>\n",
       "      <th>effective_time</th>\n",
       "      <td>timestamp without time zone</td>\n",
       "    </tr>\n",
       "  </tbody>\n",
       "</table><b>Layers</b><table border=\"1\" class=\"dataframe\">\n",
       "  <thead>\n",
       "    <tr style=\"text-align: right;\">\n",
       "      <th></th>\n",
       "      <th>layer_type</th>\n",
       "      <th>attributes</th>\n",
       "      <th>ambiguous</th>\n",
       "      <th>parent</th>\n",
       "      <th>enveloping</th>\n",
       "      <th>_base</th>\n",
       "      <th>meta</th>\n",
       "    </tr>\n",
       "  </thead>\n",
       "  <tbody>\n",
       "    <tr>\n",
       "      <th>anonymised</th>\n",
       "      <td>attached</td>\n",
       "      <td>(id, type, form, partofspeech)</td>\n",
       "      <td>True</td>\n",
       "      <td>None</td>\n",
       "      <td>None</td>\n",
       "      <td>anonymised</td>\n",
       "      <td>[]</td>\n",
       "    </tr>\n",
       "    <tr>\n",
       "      <th>event_headers</th>\n",
       "      <td>detached</td>\n",
       "      <td>(DATE, HEADERWORD, DOCTOR, DOCTOR_CODE, SPECIA...</td>\n",
       "      <td>True</td>\n",
       "      <td>None</td>\n",
       "      <td>event_tokens</td>\n",
       "      <td>event_headers</td>\n",
       "      <td>[]</td>\n",
       "    </tr>\n",
       "    <tr>\n",
       "      <th>event_segments</th>\n",
       "      <td>detached</td>\n",
       "      <td>(header, header_offset, DATE, HEADERWORD, DOCT...</td>\n",
       "      <td>False</td>\n",
       "      <td>None</td>\n",
       "      <td>None</td>\n",
       "      <td>event_segments</td>\n",
       "      <td>[]</td>\n",
       "    </tr>\n",
       "    <tr>\n",
       "      <th>event_tokens</th>\n",
       "      <td>detached</td>\n",
       "      <td>(grammar_symbol, unit_type, value, specialty_c...</td>\n",
       "      <td>True</td>\n",
       "      <td>None</td>\n",
       "      <td>None</td>\n",
       "      <td>event_tokens</td>\n",
       "      <td>[]</td>\n",
       "    </tr>\n",
       "  </tbody>\n",
       "</table>"
      ],
      "text/plain": [
       "<estnltk.storage.postgres.collection.PgCollection at 0x7fa24efea2e8>"
      ]
     },
     "execution_count": 2,
     "metadata": {},
     "output_type": "execute_result"
    }
   ],
   "source": [
    "texts_collection = storage['run_201905181215_texts']\n",
    "texts_collection"
   ]
  },
  {
   "cell_type": "code",
   "execution_count": 3,
   "metadata": {},
   "outputs": [],
   "source": [
    "texts_collection.selected_layers = ['anonymised', 'event_tokens', 'event_headers', 'event_segments']"
   ]
  },
  {
   "cell_type": "code",
   "execution_count": 4,
   "metadata": {},
   "outputs": [],
   "source": [
    "# find a text with an interesting `event_segments` layer\n",
    "stop = False\n",
    "for t in texts_collection:\n",
    "    if len(t.event_segments) > 1:\n",
    "        for span in t.event_segments:\n",
    "            if span.DOCTOR:\n",
    "                stop = True\n",
    "                break\n",
    "    if stop:\n",
    "        break"
   ]
  },
  {
   "cell_type": "code",
   "execution_count": 5,
   "metadata": {},
   "outputs": [
    {
     "data": {
      "text/html": [
       "<h4>Layer</h4>\n",
       "\n",
       "<table border=\"1\" class=\"dataframe\">\n",
       "  <thead>\n",
       "    <tr style=\"text-align: right;\">\n",
       "      <th>layer name</th>\n",
       "      <th>attributes</th>\n",
       "      <th>parent</th>\n",
       "      <th>enveloping</th>\n",
       "      <th>ambiguous</th>\n",
       "      <th>span count</th>\n",
       "    </tr>\n",
       "  </thead>\n",
       "  <tbody>\n",
       "    <tr>\n",
       "      <td>event_segments</td>\n",
       "      <td>header, header_offset, DATE, HEADERWORD, DOCTO...</td>\n",
       "      <td>None</td>\n",
       "      <td>None</td>\n",
       "      <td>False</td>\n",
       "      <td>7</td>\n",
       "    </tr>\n",
       "  </tbody>\n",
       "</table>\n",
       "<table border=\"1\" class=\"dataframe\">\n",
       "  <thead>\n",
       "    <tr style=\"text-align: right;\">\n",
       "      <th>text</th>\n",
       "      <th>header</th>\n",
       "      <th>header_offset</th>\n",
       "      <th>DATE</th>\n",
       "      <th>HEADERWORD</th>\n",
       "      <th>DOCTOR</th>\n",
       "      <th>DOCTOR_CODE</th>\n",
       "      <th>SPECIALTY</th>\n",
       "      <th>SPECIALTY_CODE</th>\n",
       "      <th>ANONYM</th>\n",
       "    </tr>\n",
       "  </thead>\n",
       "  <tbody>\n",
       "    <tr>\n",
       "      <td>OPERATSIOONID \\nOperatsioon 07.04.2011 14:01 Kirurg: PUUORG, EGON - D01460, E260 ..., type: &lt;class 'str'&gt;, length: 644</td>\n",
       "      <td>None</td>\n",
       "      <td>None</td>\n",
       "      <td>None</td>\n",
       "      <td>None</td>\n",
       "      <td>None</td>\n",
       "      <td>None</td>\n",
       "      <td>None</td>\n",
       "      <td>None</td>\n",
       "      <td>None</td>\n",
       "    </tr>\n",
       "    <tr>\n",
       "      <td>WBC 8.91 (3,5 .. 8,8 E9/L )   \\nRBC 5.08 (4,2 .. 5,7 E12/L )   \\nHGB 153 (134 .. 1 ..., type: &lt;class 'str'&gt;, length: 261</td>\n",
       "      <td>06.04.2011 Hemogramm</td>\n",
       "      <td>644</td>\n",
       "      <td>\\n06.04.2011</td>\n",
       "      <td>Hemogramm   \\n</td>\n",
       "      <td></td>\n",
       "      <td></td>\n",
       "      <td></td>\n",
       "      <td></td>\n",
       "      <td>[]</td>\n",
       "    </tr>\n",
       "    <tr>\n",
       "      <td>\\nS,P-Glükoos 5.3 (mmol/L )  \\nS,P-Uurea 3.6 (&lt;8.3 mmol/L )  \\nS,P-CRP &lt;1 (&lt;5 )  \\nS ..., type: &lt;class 'str'&gt;, length: 252</td>\n",
       "      <td>06.04.2011</td>\n",
       "      <td>930</td>\n",
       "      <td>\\n06.04.2011</td>\n",
       "      <td></td>\n",
       "      <td></td>\n",
       "      <td></td>\n",
       "      <td></td>\n",
       "      <td></td>\n",
       "      <td>[]</td>\n",
       "    </tr>\n",
       "    <tr>\n",
       "      <td>\\nMärkus: Osakonnas määratud veregrupp 0 \\nErütrotsütaarsete antikehade sõeluurin ..., type: &lt;class 'str'&gt;, length: 230</td>\n",
       "      <td>06.04.2011</td>\n",
       "      <td>1194</td>\n",
       "      <td>\\n06.04.2011</td>\n",
       "      <td></td>\n",
       "      <td></td>\n",
       "      <td></td>\n",
       "      <td></td>\n",
       "      <td></td>\n",
       "      <td>[]</td>\n",
       "    </tr>\n",
       "    <tr>\n",
       "      <td>Radioloogiline uuring, vastus nr 849_15803_1  \\nKIRJELDUS: Vasak põlveliiges 2-s. ..., type: &lt;class 'str'&gt;, length: 284</td>\n",
       "      <td>07.04.2011 12:29 - VESKE, KARIN - D04454 - E340 - radioloogia</td>\n",
       "      <td>1436</td>\n",
       "      <td>\\n07.04.2011 12:29</td>\n",
       "      <td></td>\n",
       "      <td>VESKE, KARIN</td>\n",
       "      <td>D04454</td>\n",
       "      <td>radioloogia</td>\n",
       "      <td>E340</td>\n",
       "      <td>[]</td>\n",
       "    </tr>\n",
       "    <tr>\n",
       "      <td>\\nT. pallidum IgM+IgG Negatiivne</td>\n",
       "      <td>07.04.2011</td>\n",
       "      <td>1784</td>\n",
       "      <td>\\n07.04.2011</td>\n",
       "      <td></td>\n",
       "      <td></td>\n",
       "      <td></td>\n",
       "      <td></td>\n",
       "      <td></td>\n",
       "      <td>[]</td>\n",
       "    </tr>\n",
       "    <tr>\n",
       "      <td>\\nT. pallidum IgM+IgG Negatiivne \\n</td>\n",
       "      <td>07.04.2011</td>\n",
       "      <td>1832</td>\n",
       "      <td>\\n07.04.2011</td>\n",
       "      <td></td>\n",
       "      <td></td>\n",
       "      <td></td>\n",
       "      <td></td>\n",
       "      <td></td>\n",
       "      <td>[]</td>\n",
       "    </tr>\n",
       "  </tbody>\n",
       "</table>"
      ],
      "text/plain": [
       "Layer(name='event_segments', attributes=('header', 'header_offset', 'DATE', 'HEADERWORD', 'DOCTOR', 'DOCTOR_CODE', 'SPECIALTY', 'SPECIALTY_CODE', 'ANONYM'), spans=SL[Span(start=0, end=644, text=' OPERATSIOONID \\nOperatsioon 07.04.2011 14:01 Kirurg: PUUORG, EGON - D01460, E260 - ortopeedia. \\n14:01 040208 SUURE TORULUU OSTEOTOOMIA \\nZXE00 <= 1 tund \\nNFK09 Reieluu fragmendi ekstsisioon \\nZXD10 Plaaniline protseduur \\nZXA05 Vasak pool Spinaalanesteesias pt. selili vasakul reiel sgutt, tehtud reie distaalsele otsale lateraalselt nahalõige, teravalt mindud teravalt vastus lateralise alt luuni. Avastatud periosti alune 8 cm pikkune ebakorrapärane selgelt piirdunud luuline moodustis reieluu metadiafüsaarsest tsoonist lateraalselt. See peitliga eemaldatud. Haav loputatud ja kihiti üksikõmblustega suletud. Side. \\xa0 \\n UURINGUD JA PROTSEDUURID '),\n",
       "Span(start=669, end=930, text='WBC 8.91 (3,5 .. 8,8 E9/L )   \\nRBC 5.08 (4,2 .. 5,7 E12/L )   \\nHGB 153 (134 .. 170 g/L )   \\nHCT 46 (40 .. 50 % )   \\nMCV 89.6 (82 .. 98 fL )   \\nMCH 30.1 (27 .. 33 pg )   \\nMCHC 336 (317 .. 357 g/L )   \\nPLT 236 (145 .. 390 E9/L )   \\nRDW-CV 12.8 (11,6 .. 14 % )    '),\n",
       "Span(start=942, end=1194, text='\\nS,P-Glükoos 5.3 (mmol/L )  \\nS,P-Uurea 3.6 (<8.3 mmol/L )  \\nS,P-CRP <1 (<5 )  \\nS,P-Na 140 (136 .. 145 mmol/L )  \\nS,P-K 4.9 (3.4 .. 4.5 mmol/L )  \\nGlomerulaarfiltratsiooni kiirus (eGFR) 83 (>90 mL/min/1.73m2 )  \\nS,P-Kreatiniin 104 (62 .. 106 µmol/L )   '),\n",
       "Span(start=1206, end=1436, text=' \\nMärkus: Osakonnas määratud veregrupp 0 \\nErütrotsütaarsete antikehade sõeluuring kahe erütrotsüüdiga Ei ole avastatud   \\nAB0 ja RhD kinnitav määramine   \\nAB0 veregrupp geeltehnikaga 0   \\nRhD veregrupp geeltehnikaga Positiivne    '),\n",
       "Span(start=1500, end=1784, text='Radioloogiline uuring, vastus nr 849_15803_1  \\nKIRJELDUS: Vasak põlveliiges 2-s.  Põlveliigese piirkonnas reie- ja sääreluu metadiafüüside osas multiipelsed eksostoosid.  Pindluu lühenenud, tõenäoliselt esineb  luulne  sild pindluu-sääreluu vahel. Põlveliiges oluliste muutusteta.    '),\n",
       "Span(start=1796, end=1832, text=' \\nT. pallidum IgM+IgG Negatiivne    '),\n",
       "Span(start=1844, end=1877, text='\\nT. pallidum IgM+IgG Negatiivne \\n')])"
      ]
     },
     "execution_count": 5,
     "metadata": {},
     "output_type": "execute_result"
    }
   ],
   "source": [
    "t.event_segments"
   ]
  },
  {
   "cell_type": "markdown",
   "metadata": {},
   "source": [
    "### `run_201905181215_events` collection"
   ]
  },
  {
   "cell_type": "code",
   "execution_count": 6,
   "metadata": {},
   "outputs": [
    {
     "data": {
      "text/html": [
       "<b>PgCollection</b><br/><b>name:</b> run_201905181215_events<br/><b>storage:</b> PostgresStorage(host=p12.stacc.ee port=5432 dbname=egcut_epi user=ptammo schema=work temporary=False)<br/><b>count objects:</b> 2956760<br/><b>Metadata</b><br/><table border=\"1\" class=\"dataframe\">\n",
       "  <thead>\n",
       "    <tr style=\"text-align: right;\">\n",
       "      <th></th>\n",
       "      <th>data type</th>\n",
       "    </tr>\n",
       "  </thead>\n",
       "  <tbody>\n",
       "    <tr>\n",
       "      <th>texts_id</th>\n",
       "      <td>integer</td>\n",
       "    </tr>\n",
       "    <tr>\n",
       "      <th>epi_id</th>\n",
       "      <td>text</td>\n",
       "    </tr>\n",
       "    <tr>\n",
       "      <th>epi_type</th>\n",
       "      <td>text</td>\n",
       "    </tr>\n",
       "    <tr>\n",
       "      <th>schema</th>\n",
       "      <td>text</td>\n",
       "    </tr>\n",
       "    <tr>\n",
       "      <th>table</th>\n",
       "      <td>text</td>\n",
       "    </tr>\n",
       "    <tr>\n",
       "      <th>field</th>\n",
       "      <td>text</td>\n",
       "    </tr>\n",
       "    <tr>\n",
       "      <th>row_id</th>\n",
       "      <td>text</td>\n",
       "    </tr>\n",
       "    <tr>\n",
       "      <th>effective_time</th>\n",
       "      <td>timestamp without time zone</td>\n",
       "    </tr>\n",
       "    <tr>\n",
       "      <th>header</th>\n",
       "      <td>text</td>\n",
       "    </tr>\n",
       "    <tr>\n",
       "      <th>header_offset</th>\n",
       "      <td>integer</td>\n",
       "    </tr>\n",
       "    <tr>\n",
       "      <th>event_offset</th>\n",
       "      <td>integer</td>\n",
       "    </tr>\n",
       "  </tbody>\n",
       "</table><b>Layers</b><table border=\"1\" class=\"dataframe\">\n",
       "  <thead>\n",
       "    <tr style=\"text-align: right;\">\n",
       "      <th></th>\n",
       "      <th>layer_type</th>\n",
       "      <th>attributes</th>\n",
       "      <th>ambiguous</th>\n",
       "      <th>parent</th>\n",
       "      <th>enveloping</th>\n",
       "      <th>_base</th>\n",
       "      <th>meta</th>\n",
       "    </tr>\n",
       "  </thead>\n",
       "  <tbody>\n",
       "    <tr>\n",
       "      <th>anonymised</th>\n",
       "      <td>attached</td>\n",
       "      <td>(id, type, form, partofspeech)</td>\n",
       "      <td>True</td>\n",
       "      <td>None</td>\n",
       "      <td>None</td>\n",
       "      <td>anonymised</td>\n",
       "      <td>[]</td>\n",
       "    </tr>\n",
       "  </tbody>\n",
       "</table>"
      ],
      "text/plain": [
       "<estnltk.storage.postgres.collection.PgCollection at 0x7fa24e349780>"
      ]
     },
     "execution_count": 6,
     "metadata": {},
     "output_type": "execute_result"
    }
   ],
   "source": [
    "collection = storage['run_201905181215_events']\n",
    "collection"
   ]
  },
  {
   "cell_type": "code",
   "execution_count": 7,
   "metadata": {},
   "outputs": [],
   "source": [
    "for id_, text, meta in collection.select(\n",
    "    collection_meta=['texts_id', 'epi_id', 'epi_type', 'schema', 'table', 'field',\n",
    "                     'row_id', 'effective_time', 'header', 'header_offset', 'event_offset'],\n",
    "    layers=['anonymised']):\n",
    "\n",
    "    if len(text.anonymised) > 1:\n",
    "        break"
   ]
  },
  {
   "cell_type": "code",
   "execution_count": 8,
   "metadata": {},
   "outputs": [
    {
     "data": {
      "text/plain": [
       "{'texts_id': 5,\n",
       " 'epi_id': '1000808',\n",
       " 'epi_type': 's',\n",
       " 'schema': 'original',\n",
       " 'table': 'procedures',\n",
       " 'field': 'text',\n",
       " 'row_id': '9',\n",
       " 'effective_time': None,\n",
       " 'header': '09.07.2009 13:27 - <ANONYM id=\"6\" type=\"per\" morph=\"_Y_ ?\"/>, <ANONYM id=\"7\" type=\"per\" morph=\"_H_ sg n\"/>',\n",
       " 'header_offset': 1374,\n",
       " 'event_offset': 1482}"
      ]
     },
     "execution_count": 8,
     "metadata": {},
     "output_type": "execute_result"
    }
   ],
   "source": [
    "meta"
   ]
  },
  {
   "cell_type": "code",
   "execution_count": 9,
   "metadata": {},
   "outputs": [
    {
     "data": {
      "text/html": [
       "<table border=\"1\" class=\"dataframe\">\n",
       "  <thead>\n",
       "    <tr style=\"text-align: right;\">\n",
       "      <th>text</th>\n",
       "    </tr>\n",
       "  </thead>\n",
       "  <tbody>\n",
       "    <tr>\n",
       "      <td><div align = \"left\"> - D04467 - Radioloog</br>Radioloogiline uuring, vastus nr 14_15166_1</br></br>KIRJELDUS: Paremal ACI algusosas põhiliselt pehmekoline naast, stenoos 59%. hemodünaamikat ei mõjuta. Vasakul ACI algusosas lubitihedaid naaste, senoosi maksimaalselt 30%. Vertebraalarterites vool tavapärane.   15.07.2009 14:28 - &lt;ANONYM id=&quot;8&quot; type=&quot;per&quot; morph=&quot;_H_ sg n&quot;/&gt;, &lt;ANONYM id=&quot;9&quot; type=&quot;per&quot; morph=&quot;_H_ sg n&quot;/&gt; - D04454 - E62 - radioloogia</br>Radioloogiline uuring, vastus nr 612_15172_1</br></br>KIRJELDUS: MRT angiograafia kaelaarteritest. Süstitud Omniscani 20,0.    Kaelaarterites hemodünaamiliselt olulisi stenoose nähtavale ei tule.  Paremal vertebraalarteri läbimõõt on asümmeetriliselt väiksem, alguskoht ei tule selgelt nähtavale- siin tõenäoliselt stenoos.  Vasak vertebraalarter iseärasusteta.  Ajuarterid Willise ringi piirkonnas  normipärast, sümmeetrilist laiust.   FLAIR uuringul bilat. periventrikulaarses valgeaines tõusnud signaaliga vaskulaarsele entsefalopaatiale viitavad alad. Paremal periventriklulaarsel ja vasemal basaaltuuamde piirkonnas likvoriseerunud lakunaarse infarkti kolded. </div></td>\n",
       "    </tr>\n",
       "  </tbody>\n",
       "</table>\n",
       "<table border=\"1\" class=\"dataframe\">\n",
       "  <thead>\n",
       "    <tr style=\"text-align: right;\">\n",
       "      <th>layer name</th>\n",
       "      <th>attributes</th>\n",
       "      <th>parent</th>\n",
       "      <th>enveloping</th>\n",
       "      <th>ambiguous</th>\n",
       "      <th>span count</th>\n",
       "    </tr>\n",
       "  </thead>\n",
       "  <tbody>\n",
       "    <tr>\n",
       "      <td>anonymised</td>\n",
       "      <td>id, type, form, partofspeech</td>\n",
       "      <td>None</td>\n",
       "      <td>None</td>\n",
       "      <td>True</td>\n",
       "      <td>2</td>\n",
       "    </tr>\n",
       "  </tbody>\n",
       "</table>"
      ],
      "text/plain": [
       "Text(text=' - D04467 - Radioloog\\nRadioloogiline uuring, vastus nr 14_15166_1\\n\\nKIRJELDUS: Paremal ACI algusosas põhiliselt pehmekoline naast, stenoos 59%. hemodünaamikat ei mõjuta. Vasakul ACI algusosas lubitihedaid naaste, senoosi maksimaalselt 30%. Vertebraalarterites vool tavapärane. \\xa0 15.07.2009 14:28 - <ANONYM id=\"8\" type=\"per\" morph=\"_H_ sg n\"/>, <ANONYM id=\"9\" type=\"per\" morph=\"_H_ sg n\"/> - D04454 - E62 - radioloogia\\nRadioloogiline uuring, vastus nr 612_15172_1\\n\\nKIRJELDUS: MRT angiograafia kaelaarteritest. Süstitud Omniscani 20,0.    Kaelaarterites hemodünaamiliselt olulisi stenoose nähtavale ei tule.  Paremal vertebraalarteri läbimõõt on asümmeetriliselt väiksem, alguskoht ei tule selgelt nähtavale- siin tõenäoliselt stenoos.  Vasak vertebraalarter iseärasusteta.  Ajuarterid Willise ringi piirkonnas  normipärast, sümmeetrilist laiust.   FLAIR uuringul bilat. periventrikulaarses valgeaines tõusnud signaaliga vaskulaarsele entsefalopaatiale viitavad alad. Paremal periventriklulaarsel ja vasemal basaaltuuamde piirkonnas likvoriseerunud lakunaarse infarkti kolded. ')"
      ]
     },
     "execution_count": 9,
     "metadata": {},
     "output_type": "execute_result"
    }
   ],
   "source": [
    "text"
   ]
  },
  {
   "cell_type": "code",
   "execution_count": 10,
   "metadata": {},
   "outputs": [],
   "source": [
    "storage.close()"
   ]
  }
 ],
 "metadata": {
  "kernelspec": {
   "display_name": "Python 3",
   "language": "python",
   "name": "python3"
  },
  "language_info": {
   "codemirror_mode": {
    "name": "ipython",
    "version": 3
   },
   "file_extension": ".py",
   "mimetype": "text/x-python",
   "name": "python",
   "nbconvert_exporter": "python",
   "pygments_lexer": "ipython3",
   "version": "3.6.8"
  }
 },
 "nbformat": 4,
 "nbformat_minor": 2
}
