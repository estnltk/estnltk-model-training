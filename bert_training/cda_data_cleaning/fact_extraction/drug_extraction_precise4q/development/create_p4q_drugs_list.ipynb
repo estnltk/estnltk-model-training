{
 "cells": [
  {
   "cell_type": "code",
   "execution_count": 72,
   "metadata": {},
   "outputs": [],
   "source": [
    "import psycopg2\n",
    "from connection_string_p12 import connection_string1, connection_string2\n",
    "from collections import defaultdict\n",
    "from datetime import datetime\n",
    "import re\n",
    "import csv"
   ]
  },
  {
   "cell_type": "code",
   "execution_count": 3,
   "metadata": {},
   "outputs": [],
   "source": []
  },
  {
   "cell_type": "code",
   "execution_count": 4,
   "metadata": {},
   "outputs": [],
   "source": [
    "conn_qs = psycopg2.connect(connection_string2)\n",
    "cur_qs = conn_qs.cursor()"
   ]
  },
  {
   "cell_type": "code",
   "execution_count": 41,
   "metadata": {},
   "outputs": [],
   "source": [
    "cur_qs.execute(\"\"\"select ravimi_nimetus, atc_kood, toimeaine_nimetus \n",
    "from rel_classifications.atc_packaging_ravimiamet where atc_kood like 'C02%';\"\"\")\n",
    "antihypertensive = cur_qs.fetchall()"
   ]
  },
  {
   "cell_type": "code",
   "execution_count": 42,
   "metadata": {},
   "outputs": [],
   "source": [
    "p4q_drugs = []"
   ]
  },
  {
   "cell_type": "code",
   "execution_count": 43,
   "metadata": {},
   "outputs": [],
   "source": [
    "for drug in set(antihypertensive):\n",
    "    drug_list = list(drug)\n",
    "    drug_list.append('antihypertensive')\n",
    "    p4q_drugs.append(drug_list)"
   ]
  },
  {
   "cell_type": "code",
   "execution_count": 44,
   "metadata": {},
   "outputs": [
    {
     "data": {
      "text/plain": [
       "[['STAYVEER', 'C02KX01', 'bosentaan', 'antihypertensive'],\n",
       " ['ADEMPAS', 'C02KX05', 'riotsiguaat', 'antihypertensive'],\n",
       " ['DOXAZOSIN-RATIOPHARM 1 MG', 'C02CA04', 'doksasosiin', 'antihypertensive'],\n",
       " ['CARDURA', 'C02CA04', 'doksasosiin', 'antihypertensive'],\n",
       " ['BOSENTAN ACCORD', 'C02KX01', 'bosentaan', 'antihypertensive'],\n",
       " ['CATAPRES', 'C02AC01', 'klonidiin', 'antihypertensive'],\n",
       " ['KAMIREN XL 4 MG', 'C02CA04', 'doksasosiin', 'antihypertensive'],\n",
       " ['CLONIDIN HCl', 'C02AC01', 'klonidiin', 'antihypertensive'],\n",
       " ['DOXALFA', 'C02CA04', 'doksasosiin', 'antihypertensive'],\n",
       " ['BOSENTAN SANDOZ', 'C02KX01', 'bosentaan', 'antihypertensive'],\n",
       " ['BOSENTAN NORAMEDA 125 MG', 'C02KX01', 'bosentaan', 'antihypertensive'],\n",
       " ['DOXAZOSIN ACTAVIS', 'C02CA04', 'doksasosiin', 'antihypertensive'],\n",
       " ['TACHYBEN', 'C02CA06', 'urapidiil', 'antihypertensive'],\n",
       " ['KAMIREN', 'C02CA04', 'doksasosiin', 'antihypertensive'],\n",
       " ['CLOPHELLIN', 'C02AC01', 'klonidiin', 'antihypertensive'],\n",
       " ['MOXONIDIN ACTAVIS 0,4 MG', 'C02AC05', 'moksonidiin', 'antihypertensive'],\n",
       " ['MOXONIDINHEXAL 0,4 MG', 'C02AC05', 'moksonidiin', 'antihypertensive'],\n",
       " ['BOSENTAN TEVA', 'C02KX01', 'bosentaan', 'antihypertensive'],\n",
       " ['MOXOGAMMA 0,3 MG', 'C02AC05', 'moksonidiin', 'antihypertensive'],\n",
       " ['DOXAZOSIN 1A PHARMA', 'C02CA04', 'doksasosiin', 'antihypertensive'],\n",
       " ['MOXONIDIN ACTAVIS 0,2 MG', 'C02AC05', 'moksonidiin', 'antihypertensive'],\n",
       " ['MOXOGAMMA 0,4 MG', 'C02AC05', 'moksonidiin', 'antihypertensive'],\n",
       " ['MOXONIDINHEXAL 0,3 MG', 'C02AC05', 'moksonidiin', 'antihypertensive'],\n",
       " ['ZOXON 4', 'C02CA04', 'doksasosiin', 'antihypertensive'],\n",
       " ['MOXONIDINHEXAL 0,2 MG', 'C02AC05', 'moksonidiin', 'antihypertensive'],\n",
       " ['DOXAZOSIN-RATIOPHARM 4 MG', 'C02CA04', 'doksasosiin', 'antihypertensive'],\n",
       " ['TONOCARDIN XL', 'C02CA04', 'doksasosiin', 'antihypertensive'],\n",
       " ['CLOPHELIN-M', 'C02AC01', 'klonidiin', 'antihypertensive'],\n",
       " ['MINIPRESS 5mg', 'C02CA01', 'prasosiin', 'antihypertensive'],\n",
       " ['DOXAZOSIN TEVA 4 MG', 'C02CA04', 'doksasosiin', 'antihypertensive'],\n",
       " ['ADELPHANE-ESIDREX',\n",
       "  'C02LA80',\n",
       "  'reserpiin+dihüdralasiin+hüdroklorotiasiid',\n",
       "  'antihypertensive'],\n",
       " ['CATAPRESAN', 'C02AC01', 'klonidiin', 'antihypertensive'],\n",
       " ['OPSUMIT', 'C02KX04', 'matsitentaan', 'antihypertensive'],\n",
       " ['TRACLEER', 'C02KX01', 'bosentaan', 'antihypertensive'],\n",
       " ['PHYSIOTENS 0,2 MG', 'C02AC05', 'moksonidiin', 'antihypertensive'],\n",
       " ['INTUNIV', 'C02AC02', 'guanfatsiin', 'antihypertensive'],\n",
       " ['CATAPRESAN 75', 'C02AC01', 'klonidiin', 'antihypertensive'],\n",
       " ['CRYSTEPIN',\n",
       "  'C02LA83',\n",
       "  'reserpiin+dihüdroergokristiin+klopamiid',\n",
       "  'antihypertensive'],\n",
       " ['VOLIBRIS', 'C02KX02', 'ambrisentaan', 'antihypertensive'],\n",
       " ['MINIPRES 1mg', 'C02CA01', 'prasosiin', 'antihypertensive'],\n",
       " ['NITROPRUSSIAT FIDES',\n",
       "  'C02DD01',\n",
       "  'naatriumnitroprussiid',\n",
       "  'antihypertensive'],\n",
       " ['PHYSIOTENS 0,4 MG', 'C02AC05', 'moksonidiin', 'antihypertensive'],\n",
       " ['CARDURA XL 4MG', 'C02CA04', 'doksasosiin', 'antihypertensive'],\n",
       " ['THELIN', 'C02KX03', 'sitaksentaan', 'antihypertensive'],\n",
       " ['PHYSIOTENS 0,3', 'C02AC05', 'moksonidiin', 'antihypertensive'],\n",
       " ['SENTOBA', 'C02KX01', 'bosentaan', 'antihypertensive'],\n",
       " ['DOXAZOSIN HEXAL', 'C02CA04', 'doksasosiin', 'antihypertensive'],\n",
       " ['PRATSIOL', 'C02CA01', 'prasosiin', 'antihypertensive'],\n",
       " ['CLONIDIN-RATIOPHARM AMPULLEN', 'C02AC01', 'klonidiin', 'antihypertensive'],\n",
       " ['ZOXON 2', 'C02CA04', 'doksasosiin', 'antihypertensive'],\n",
       " ['DOPEGYT', 'C02AB01', 'metüüldopa', 'antihypertensive'],\n",
       " ['CARDURA XL 8MG', 'C02CA04', 'doksasosiin', 'antihypertensive'],\n",
       " ['DOXAZOSIN ALPHARMA TABLETS 4MG',\n",
       "  'C02CA04',\n",
       "  'doksasosiin',\n",
       "  'antihypertensive'],\n",
       " ['MINIPRESS 1mg', 'C02CA01', 'prasosiin', 'antihypertensive'],\n",
       " ['CHLOPHAZOLIN', 'C02AC01', 'klonidiin', 'antihypertensive'],\n",
       " ['MINIPRES 2mg', 'C02CA01', 'prasosiin', 'antihypertensive'],\n",
       " ['CLOPHELIN', 'C02AC01', 'klonidiin', 'antihypertensive'],\n",
       " ['BOSENTAN NORAMEDA 62,5 MG', 'C02KX01', 'bosentaan', 'antihypertensive'],\n",
       " ['MOXOGAMMA 0,2 MG', 'C02AC05', 'moksonidiin', 'antihypertensive'],\n",
       " ['MOXONIDIN ACTAVIS 0,3 MG', 'C02AC05', 'moksonidiin', 'antihypertensive'],\n",
       " ['MINIPRESS', 'C02CA01', 'prasosiin', 'antihypertensive'],\n",
       " ['NIPRUSS', 'C02DD01', 'naatriumnitroprussiid', 'antihypertensive'],\n",
       " ['PRAZOSIN RATIOPHARM', 'C02CA01', 'prasosiin', 'antihypertensive'],\n",
       " ['STADAPRESS', 'C02AC05', 'moksonidiin', 'antihypertensive'],\n",
       " ['ZOXON 1', 'C02CA04', 'doksasosiin', 'antihypertensive'],\n",
       " ['PRAZOSIN HEUMANN', 'C02CA01', 'prasosiin', 'antihypertensive'],\n",
       " ['DOXAZOSIN ALPHARMA TABLETS 2MG',\n",
       "  'C02CA04',\n",
       "  'doksasosiin',\n",
       "  'antihypertensive'],\n",
       " ['ADVERSUTEN', 'C02CA01', 'prasosiin', 'antihypertensive'],\n",
       " ['PRASOSIN', 'C02CA01', 'prasosiin', 'antihypertensive'],\n",
       " ['TRIRESID-K',\n",
       "  'C02LA80',\n",
       "  'reserpiin+dihüdralasiin+hüdroklorotiasiid',\n",
       "  'antihypertensive'],\n",
       " ['DOXAZOSIN-RATIOPHARM 2 MG', 'C02CA04', 'doksasosiin', 'antihypertensive'],\n",
       " ['DOXONEX SR', 'C02CA04', 'doksasosiin', 'antihypertensive']]"
      ]
     },
     "execution_count": 44,
     "metadata": {},
     "output_type": "execute_result"
    }
   ],
   "source": [
    "p4q_drugs"
   ]
  },
  {
   "cell_type": "code",
   "execution_count": 45,
   "metadata": {},
   "outputs": [],
   "source": [
    "cur_qs.execute(\"\"\"select ravimi_nimetus, atc_kood, toimeaine_nimetus \n",
    "from rel_classifications.atc_packaging_ravimiamet where atc_kood like '%A01AD05%'\n",
    "or atc_kood like '%B01AC06%' or atc_kood like '%N02BA01%';\"\"\")\n",
    "asa = cur_qs.fetchall()"
   ]
  },
  {
   "cell_type": "code",
   "execution_count": 46,
   "metadata": {},
   "outputs": [],
   "source": [
    "for drug in set(asa):\n",
    "    drug_list = list(drug)\n",
    "    drug_list.append('asa')\n",
    "    p4q_drugs.append(drug_list)"
   ]
  },
  {
   "cell_type": "code",
   "execution_count": 47,
   "metadata": {},
   "outputs": [
    {
     "data": {
      "text/plain": [
       "{('ALKA-SELTZER', 'N02BA01', 'atsetüülsalitsüülhape'),\n",
       " ('ASA-GRINDEKS', 'N02BA01', 'atsetüülsalitsüülhape'),\n",
       " ('ASPIRIN', 'N02BA01', 'atsetüülsalitsüülhape'),\n",
       " ('ASPIRIN 100 MG', 'B01AC06', 'atsetüülsalitsüülhape'),\n",
       " ('ASPIRIN 500 MG CHEWABLE TABLET', 'N02BA01', 'atsetüülsalitsüülhape'),\n",
       " ('ASPIRIN CARDIO', 'B01AC06', 'atsetüülsalitsüülhape'),\n",
       " ('ASPROVIT', 'N02BA01', 'atsetüülsalitsüülhape'),\n",
       " ('CARDIOPYRIN', 'B01AC06', 'atsetüülsalitsüülhape'),\n",
       " ('DISPERIN', 'N02BA01', 'atsetüülsalitsüülhape'),\n",
       " ('HERZASS-RATIOPHARM 100MG', 'B01AC06', 'atsetüülsalitsüülhape'),\n",
       " ('THROMBO ASS', 'B01AC06', 'atsetüülsalitsüülhape'),\n",
       " ('UPSTINON', 'N02BA01', 'atsetüülsalitsüülhape'),\n",
       " ('VASOPIRIN 100MG', 'B01AC06', 'atsetüülsalitsüülhape'),\n",
       " ('VASOPIRIN 75MG', 'B01AC06', 'atsetüülsalitsüülhape')}"
      ]
     },
     "execution_count": 47,
     "metadata": {},
     "output_type": "execute_result"
    }
   ],
   "source": [
    "set(asa)"
   ]
  },
  {
   "cell_type": "code",
   "execution_count": 48,
   "metadata": {},
   "outputs": [],
   "source": [
    "cur_qs.execute(\"\"\"select ravimi_nimetus, atc_kood, toimeaine_nimetus \n",
    "from rel_classifications.atc_packaging_ravimiamet where atc_kood like '%B01AC04%';\"\"\")\n",
    "clopidogrel = cur_qs.fetchall()"
   ]
  },
  {
   "cell_type": "code",
   "execution_count": 49,
   "metadata": {},
   "outputs": [],
   "source": [
    "for drug in set(clopidogrel):\n",
    "    drug_list = list(drug)\n",
    "    drug_list.append('clopidogrel')\n",
    "    p4q_drugs.append(drug_list)"
   ]
  },
  {
   "cell_type": "code",
   "execution_count": 50,
   "metadata": {
    "scrolled": true
   },
   "outputs": [
    {
     "data": {
      "text/plain": [
       "{('AGRETA', 'B01AC04', 'klopidogreel'),\n",
       " ('CLOPIDOGREL 1A PHARMA', 'B01AC04', 'klopidogreel'),\n",
       " ('CLOPIDOGREL ACCORD', 'B01AC04', 'klopidogreel'),\n",
       " ('CLOPIDOGREL ACINO', 'B01AC04', 'klopidogreel'),\n",
       " ('CLOPIDOGREL ACINO PHARMA', 'B01AC04', 'klopidogreel'),\n",
       " ('CLOPIDOGREL ACINO PHARMA GMBH', 'B01AC04', 'klopidogreel'),\n",
       " ('CLOPIDOGREL ACTAVIS', 'B01AC04', 'klopidogreel'),\n",
       " ('CLOPIDOGREL APOTEX', 'B01AC04', 'klopidogreel'),\n",
       " ('CLOPIDOGREL BGR', 'B01AC04', 'klopidogreel'),\n",
       " ('CLOPIDOGREL BMS', 'B01AC04', 'klopidogreel'),\n",
       " ('CLOPIDOGREL DURA', 'B01AC04', 'klopidogreel'),\n",
       " ('CLOPIDOGREL HCS', 'B01AC04', 'klopidogreel'),\n",
       " ('CLOPIDOGREL HEXAL', 'B01AC04', 'klopidogreel'),\n",
       " ('CLOPIDOGREL IVOWEN', 'B01AC04', 'klopidogreel'),\n",
       " ('CLOPIDOGREL IWA 75MG', 'B01AC04', 'klopidogreel'),\n",
       " ('CLOPIDOGREL KRKA', 'B01AC04', 'klopidogreel'),\n",
       " ('CLOPIDOGREL KRKA D.D', 'B01AC04', 'klopidogreel'),\n",
       " ('CLOPIDOGREL MEDANA', 'B01AC04', 'klopidogreel'),\n",
       " ('CLOPIDOGREL MYLAN', 'B01AC04', 'klopidogreel'),\n",
       " ('CLOPIDOGREL PORTFARMA', 'B01AC04', 'klopidogreel'),\n",
       " ('CLOPIDOGREL QUALIMED', 'B01AC04', 'klopidogreel'),\n",
       " ('CLOPIDOGREL RATIOPHARM', 'B01AC04', 'klopidogreel'),\n",
       " ('CLOPIDOGREL RATIOPHARM GMBH', 'B01AC04', 'klopidogreel'),\n",
       " ('CLOPIDOGREL SANDOZ', 'B01AC04', 'klopidogreel'),\n",
       " ('CLOPIDOGREL SANOSWISS 75MG', 'B01AC04', 'klopidogreel'),\n",
       " ('CLOPIDOGREL TAD', 'B01AC04', 'klopidogreel'),\n",
       " ('CLOPIDOGREL TEVA', 'B01AC04', 'klopidogreel'),\n",
       " ('CLOPIDOGREL TEVA GENERICS B.V.', 'B01AC04', 'klopidogreel'),\n",
       " ('CLOPIDOGREL TEVA PHARMA', 'B01AC04', 'klopidogreel'),\n",
       " ('CLOPIDOGREL TEVA PHARMA B.V.', 'B01AC04', 'klopidogreel'),\n",
       " ('CLOPIDOGREL ZENTIVA', 'B01AC04', 'klopidogreel'),\n",
       " ('CLOPIDOGREL-RATIOPHARM 75 MG', 'B01AC04', 'klopidogreel'),\n",
       " ('CLOPIGAMMA', 'B01AC04', 'klopidogreel'),\n",
       " ('CLOPIMEF', 'B01AC04', 'klopidogreel'),\n",
       " ('CLOPIROD 75 MG', 'B01AC04', 'klopidogreel'),\n",
       " ('GLOPENEL 75MG', 'B01AC04', 'klopidogreel'),\n",
       " ('GREPID', 'B01AC04', 'klopidogreel'),\n",
       " ('ISCOVER', 'B01AC04', 'klopidogreel'),\n",
       " ('LOFRADYK', 'B01AC04', 'klopidogreel'),\n",
       " ('MIFLEXIN', 'B01AC04', 'klopidogreel'),\n",
       " ('NOFARDOM', 'B01AC04', 'klopidogreel'),\n",
       " ('PLATAREX', 'B01AC04', 'klopidogreel'),\n",
       " ('PLAVIX', 'B01AC04', 'klopidogreel'),\n",
       " ('PLAVOCORIN', 'B01AC04', 'klopidogreel'),\n",
       " ('SUDROC', 'B01AC04', 'klopidogreel'),\n",
       " ('TESSYRON', 'B01AC04', 'klopidogreel'),\n",
       " ('TINGREKS', 'B01AC04', 'klopidogreel'),\n",
       " ('TROGRAN 75MG', 'B01AC04', 'klopidogreel'),\n",
       " ('TROMBEX 75 MG', 'B01AC04', 'klopidogreel'),\n",
       " ('VATOUD 75MG', 'B01AC04', 'klopidogreel'),\n",
       " ('ZYLLT', 'B01AC04', 'klopidogreel')}"
      ]
     },
     "execution_count": 50,
     "metadata": {},
     "output_type": "execute_result"
    }
   ],
   "source": [
    "set(clopidogrel)"
   ]
  },
  {
   "cell_type": "code",
   "execution_count": 51,
   "metadata": {},
   "outputs": [],
   "source": [
    "cur_qs.execute(\"\"\"select ravimi_nimetus, atc_kood, toimeaine_nimetus \n",
    "from rel_classifications.atc_packaging_ravimiamet where atc_kood like '%B01AC07%';\"\"\")\n",
    "dipyridamol = cur_qs.fetchall()"
   ]
  },
  {
   "cell_type": "code",
   "execution_count": 52,
   "metadata": {},
   "outputs": [],
   "source": [
    "for drug in set(dipyridamol):\n",
    "    drug_list = list(drug)\n",
    "    drug_list.append('dipyridamol')\n",
    "    p4q_drugs.append(drug_list)"
   ]
  },
  {
   "cell_type": "code",
   "execution_count": 53,
   "metadata": {},
   "outputs": [
    {
     "data": {
      "text/plain": [
       "{('CURANTHYL', 'B01AC07', 'dipüridamool'),\n",
       " ('Curanthyl tabl. 25mg N25', 'B01AC07', 'dipüridamool'),\n",
       " ('PERSANTIN', 'B01AC07', 'dipüridamool')}"
      ]
     },
     "execution_count": 53,
     "metadata": {},
     "output_type": "execute_result"
    }
   ],
   "source": [
    "set(dipyridamol)"
   ]
  },
  {
   "cell_type": "code",
   "execution_count": 54,
   "metadata": {},
   "outputs": [],
   "source": [
    "cur_qs.execute(\"\"\"select ravimi_nimetus, atc_kood, toimeaine_nimetus \n",
    "from rel_classifications.atc_packaging_ravimiamet where atc_kood like '%B01AA03%';\"\"\")\n",
    "warfarin = cur_qs.fetchall()"
   ]
  },
  {
   "cell_type": "code",
   "execution_count": 55,
   "metadata": {},
   "outputs": [
    {
     "data": {
      "text/plain": [
       "{('MAREVAN', 'B01AA03', 'varfariin'),\n",
       " ('MAREVAN FORTE', 'B01AA03', 'varfariin')}"
      ]
     },
     "execution_count": 55,
     "metadata": {},
     "output_type": "execute_result"
    }
   ],
   "source": [
    "set(warfarin)"
   ]
  },
  {
   "cell_type": "code",
   "execution_count": 56,
   "metadata": {},
   "outputs": [],
   "source": [
    "for drug in set(warfarin):\n",
    "    drug_list = list(drug)\n",
    "    drug_list.append('warfarin')\n",
    "    p4q_drugs.append(drug_list)"
   ]
  },
  {
   "cell_type": "code",
   "execution_count": 57,
   "metadata": {},
   "outputs": [],
   "source": [
    "cur_qs.execute(\"\"\"select ravimi_nimetus, atc_kood, toimeaine_nimetus \n",
    "from rel_classifications.atc_packaging_ravimiamet where atc_kood like '%B01AF02%';\"\"\")\n",
    "apixaban = cur_qs.fetchall()"
   ]
  },
  {
   "cell_type": "code",
   "execution_count": 58,
   "metadata": {},
   "outputs": [],
   "source": [
    "for drug in set(apixaban):\n",
    "    drug_list = list(drug)\n",
    "    drug_list.append('apixaban')\n",
    "    p4q_drugs.append(drug_list)"
   ]
  },
  {
   "cell_type": "code",
   "execution_count": 59,
   "metadata": {},
   "outputs": [
    {
     "data": {
      "text/plain": [
       "{('ELIQUIS', 'B01AF02', 'apiksabaan')}"
      ]
     },
     "execution_count": 59,
     "metadata": {},
     "output_type": "execute_result"
    }
   ],
   "source": [
    "set(apixaban)"
   ]
  },
  {
   "cell_type": "code",
   "execution_count": 60,
   "metadata": {},
   "outputs": [],
   "source": [
    "cur_qs.execute(\"\"\"select ravimi_nimetus, atc_kood, toimeaine_nimetus \n",
    "from rel_classifications.atc_packaging_ravimiamet where atc_kood like '%B01AE07%';\"\"\")\n",
    "dabigatran = cur_qs.fetchall()"
   ]
  },
  {
   "cell_type": "code",
   "execution_count": 61,
   "metadata": {},
   "outputs": [
    {
     "data": {
      "text/plain": [
       "{('PRADAXA', 'B01AE07', 'dabigatraaneteksilaat')}"
      ]
     },
     "execution_count": 61,
     "metadata": {},
     "output_type": "execute_result"
    }
   ],
   "source": [
    "set(dabigatran)"
   ]
  },
  {
   "cell_type": "code",
   "execution_count": 62,
   "metadata": {},
   "outputs": [],
   "source": [
    "for drug in set(dabigatran):\n",
    "    drug_list = list(drug)\n",
    "    drug_list.append('dabigatran')\n",
    "    p4q_drugs.append(drug_list)"
   ]
  },
  {
   "cell_type": "code",
   "execution_count": null,
   "metadata": {},
   "outputs": [],
   "source": []
  },
  {
   "cell_type": "code",
   "execution_count": 63,
   "metadata": {},
   "outputs": [],
   "source": [
    "cur_qs.execute(\"\"\"select ravimi_nimetus, atc_kood, toimeaine_nimetus \n",
    "from rel_classifications.atc_packaging_ravimiamet where atc_kood like '%B01AF01%';\"\"\")\n",
    "rivaroxaban = cur_qs.fetchall()"
   ]
  },
  {
   "cell_type": "code",
   "execution_count": 64,
   "metadata": {},
   "outputs": [],
   "source": [
    "for drug in set(rivaroxaban):\n",
    "    drug_list = list(drug)\n",
    "    drug_list.append('rivaroxaban')\n",
    "    p4q_drugs.append(drug_list)"
   ]
  },
  {
   "cell_type": "code",
   "execution_count": null,
   "metadata": {},
   "outputs": [],
   "source": []
  },
  {
   "cell_type": "code",
   "execution_count": 65,
   "metadata": {},
   "outputs": [
    {
     "data": {
      "text/plain": [
       "{('XARELTO', 'B01AF01', 'rivaroksabaan')}"
      ]
     },
     "execution_count": 65,
     "metadata": {},
     "output_type": "execute_result"
    }
   ],
   "source": [
    "set(rivaroxaban)"
   ]
  },
  {
   "cell_type": "code",
   "execution_count": 66,
   "metadata": {},
   "outputs": [],
   "source": [
    "cur_qs.execute(\"\"\"select ravimi_nimetus, atc_kood, toimeaine_nimetus \n",
    "from rel_classifications.atc_packaging_ravimiamet where atc_kood like '%B01AF03%';\"\"\")\n",
    "edoxaban = cur_qs.fetchall()"
   ]
  },
  {
   "cell_type": "code",
   "execution_count": 67,
   "metadata": {},
   "outputs": [],
   "source": [
    "edoxaban = [('LIXIANA', 'B01AF03', 'edoksabaan'),\n",
    "('ROTEAS', 'B01AF03', 'edoksabaan')]"
   ]
  },
  {
   "cell_type": "code",
   "execution_count": 68,
   "metadata": {},
   "outputs": [],
   "source": [
    "for drug in set(edoxaban):\n",
    "    drug_list = list(drug)\n",
    "    drug_list.append('edoxaban')\n",
    "    p4q_drugs.append(drug_list)"
   ]
  },
  {
   "cell_type": "code",
   "execution_count": 69,
   "metadata": {},
   "outputs": [
    {
     "data": {
      "text/plain": [
       "[['STAYVEER', 'C02KX01', 'bosentaan', 'antihypertensive'],\n",
       " ['ADEMPAS', 'C02KX05', 'riotsiguaat', 'antihypertensive'],\n",
       " ['DOXAZOSIN-RATIOPHARM 1 MG', 'C02CA04', 'doksasosiin', 'antihypertensive'],\n",
       " ['CARDURA', 'C02CA04', 'doksasosiin', 'antihypertensive'],\n",
       " ['BOSENTAN ACCORD', 'C02KX01', 'bosentaan', 'antihypertensive'],\n",
       " ['CATAPRES', 'C02AC01', 'klonidiin', 'antihypertensive'],\n",
       " ['KAMIREN XL 4 MG', 'C02CA04', 'doksasosiin', 'antihypertensive'],\n",
       " ['CLONIDIN HCl', 'C02AC01', 'klonidiin', 'antihypertensive'],\n",
       " ['DOXALFA', 'C02CA04', 'doksasosiin', 'antihypertensive'],\n",
       " ['BOSENTAN SANDOZ', 'C02KX01', 'bosentaan', 'antihypertensive'],\n",
       " ['BOSENTAN NORAMEDA 125 MG', 'C02KX01', 'bosentaan', 'antihypertensive'],\n",
       " ['DOXAZOSIN ACTAVIS', 'C02CA04', 'doksasosiin', 'antihypertensive'],\n",
       " ['TACHYBEN', 'C02CA06', 'urapidiil', 'antihypertensive'],\n",
       " ['KAMIREN', 'C02CA04', 'doksasosiin', 'antihypertensive'],\n",
       " ['CLOPHELLIN', 'C02AC01', 'klonidiin', 'antihypertensive'],\n",
       " ['MOXONIDIN ACTAVIS 0,4 MG', 'C02AC05', 'moksonidiin', 'antihypertensive'],\n",
       " ['MOXONIDINHEXAL 0,4 MG', 'C02AC05', 'moksonidiin', 'antihypertensive'],\n",
       " ['BOSENTAN TEVA', 'C02KX01', 'bosentaan', 'antihypertensive'],\n",
       " ['MOXOGAMMA 0,3 MG', 'C02AC05', 'moksonidiin', 'antihypertensive'],\n",
       " ['DOXAZOSIN 1A PHARMA', 'C02CA04', 'doksasosiin', 'antihypertensive'],\n",
       " ['MOXONIDIN ACTAVIS 0,2 MG', 'C02AC05', 'moksonidiin', 'antihypertensive'],\n",
       " ['MOXOGAMMA 0,4 MG', 'C02AC05', 'moksonidiin', 'antihypertensive'],\n",
       " ['MOXONIDINHEXAL 0,3 MG', 'C02AC05', 'moksonidiin', 'antihypertensive'],\n",
       " ['ZOXON 4', 'C02CA04', 'doksasosiin', 'antihypertensive'],\n",
       " ['MOXONIDINHEXAL 0,2 MG', 'C02AC05', 'moksonidiin', 'antihypertensive'],\n",
       " ['DOXAZOSIN-RATIOPHARM 4 MG', 'C02CA04', 'doksasosiin', 'antihypertensive'],\n",
       " ['TONOCARDIN XL', 'C02CA04', 'doksasosiin', 'antihypertensive'],\n",
       " ['CLOPHELIN-M', 'C02AC01', 'klonidiin', 'antihypertensive'],\n",
       " ['MINIPRESS 5mg', 'C02CA01', 'prasosiin', 'antihypertensive'],\n",
       " ['DOXAZOSIN TEVA 4 MG', 'C02CA04', 'doksasosiin', 'antihypertensive'],\n",
       " ['ADELPHANE-ESIDREX',\n",
       "  'C02LA80',\n",
       "  'reserpiin+dihüdralasiin+hüdroklorotiasiid',\n",
       "  'antihypertensive'],\n",
       " ['CATAPRESAN', 'C02AC01', 'klonidiin', 'antihypertensive'],\n",
       " ['OPSUMIT', 'C02KX04', 'matsitentaan', 'antihypertensive'],\n",
       " ['TRACLEER', 'C02KX01', 'bosentaan', 'antihypertensive'],\n",
       " ['PHYSIOTENS 0,2 MG', 'C02AC05', 'moksonidiin', 'antihypertensive'],\n",
       " ['INTUNIV', 'C02AC02', 'guanfatsiin', 'antihypertensive'],\n",
       " ['CATAPRESAN 75', 'C02AC01', 'klonidiin', 'antihypertensive'],\n",
       " ['CRYSTEPIN',\n",
       "  'C02LA83',\n",
       "  'reserpiin+dihüdroergokristiin+klopamiid',\n",
       "  'antihypertensive'],\n",
       " ['VOLIBRIS', 'C02KX02', 'ambrisentaan', 'antihypertensive'],\n",
       " ['MINIPRES 1mg', 'C02CA01', 'prasosiin', 'antihypertensive'],\n",
       " ['NITROPRUSSIAT FIDES',\n",
       "  'C02DD01',\n",
       "  'naatriumnitroprussiid',\n",
       "  'antihypertensive'],\n",
       " ['PHYSIOTENS 0,4 MG', 'C02AC05', 'moksonidiin', 'antihypertensive'],\n",
       " ['CARDURA XL 4MG', 'C02CA04', 'doksasosiin', 'antihypertensive'],\n",
       " ['THELIN', 'C02KX03', 'sitaksentaan', 'antihypertensive'],\n",
       " ['PHYSIOTENS 0,3', 'C02AC05', 'moksonidiin', 'antihypertensive'],\n",
       " ['SENTOBA', 'C02KX01', 'bosentaan', 'antihypertensive'],\n",
       " ['DOXAZOSIN HEXAL', 'C02CA04', 'doksasosiin', 'antihypertensive'],\n",
       " ['PRATSIOL', 'C02CA01', 'prasosiin', 'antihypertensive'],\n",
       " ['CLONIDIN-RATIOPHARM AMPULLEN', 'C02AC01', 'klonidiin', 'antihypertensive'],\n",
       " ['ZOXON 2', 'C02CA04', 'doksasosiin', 'antihypertensive'],\n",
       " ['DOPEGYT', 'C02AB01', 'metüüldopa', 'antihypertensive'],\n",
       " ['CARDURA XL 8MG', 'C02CA04', 'doksasosiin', 'antihypertensive'],\n",
       " ['DOXAZOSIN ALPHARMA TABLETS 4MG',\n",
       "  'C02CA04',\n",
       "  'doksasosiin',\n",
       "  'antihypertensive'],\n",
       " ['MINIPRESS 1mg', 'C02CA01', 'prasosiin', 'antihypertensive'],\n",
       " ['CHLOPHAZOLIN', 'C02AC01', 'klonidiin', 'antihypertensive'],\n",
       " ['MINIPRES 2mg', 'C02CA01', 'prasosiin', 'antihypertensive'],\n",
       " ['CLOPHELIN', 'C02AC01', 'klonidiin', 'antihypertensive'],\n",
       " ['BOSENTAN NORAMEDA 62,5 MG', 'C02KX01', 'bosentaan', 'antihypertensive'],\n",
       " ['MOXOGAMMA 0,2 MG', 'C02AC05', 'moksonidiin', 'antihypertensive'],\n",
       " ['MOXONIDIN ACTAVIS 0,3 MG', 'C02AC05', 'moksonidiin', 'antihypertensive'],\n",
       " ['MINIPRESS', 'C02CA01', 'prasosiin', 'antihypertensive'],\n",
       " ['NIPRUSS', 'C02DD01', 'naatriumnitroprussiid', 'antihypertensive'],\n",
       " ['PRAZOSIN RATIOPHARM', 'C02CA01', 'prasosiin', 'antihypertensive'],\n",
       " ['STADAPRESS', 'C02AC05', 'moksonidiin', 'antihypertensive'],\n",
       " ['ZOXON 1', 'C02CA04', 'doksasosiin', 'antihypertensive'],\n",
       " ['PRAZOSIN HEUMANN', 'C02CA01', 'prasosiin', 'antihypertensive'],\n",
       " ['DOXAZOSIN ALPHARMA TABLETS 2MG',\n",
       "  'C02CA04',\n",
       "  'doksasosiin',\n",
       "  'antihypertensive'],\n",
       " ['ADVERSUTEN', 'C02CA01', 'prasosiin', 'antihypertensive'],\n",
       " ['PRASOSIN', 'C02CA01', 'prasosiin', 'antihypertensive'],\n",
       " ['TRIRESID-K',\n",
       "  'C02LA80',\n",
       "  'reserpiin+dihüdralasiin+hüdroklorotiasiid',\n",
       "  'antihypertensive'],\n",
       " ['DOXAZOSIN-RATIOPHARM 2 MG', 'C02CA04', 'doksasosiin', 'antihypertensive'],\n",
       " ['DOXONEX SR', 'C02CA04', 'doksasosiin', 'antihypertensive'],\n",
       " ['ASPIRIN 500 MG CHEWABLE TABLET', 'N02BA01', 'atsetüülsalitsüülhape', 'asa'],\n",
       " ['ASPIRIN CARDIO', 'B01AC06', 'atsetüülsalitsüülhape', 'asa'],\n",
       " ['ASPROVIT', 'N02BA01', 'atsetüülsalitsüülhape', 'asa'],\n",
       " ['UPSTINON', 'N02BA01', 'atsetüülsalitsüülhape', 'asa'],\n",
       " ['ASPIRIN', 'N02BA01', 'atsetüülsalitsüülhape', 'asa'],\n",
       " ['HERZASS-RATIOPHARM 100MG', 'B01AC06', 'atsetüülsalitsüülhape', 'asa'],\n",
       " ['ALKA-SELTZER', 'N02BA01', 'atsetüülsalitsüülhape', 'asa'],\n",
       " ['CARDIOPYRIN', 'B01AC06', 'atsetüülsalitsüülhape', 'asa'],\n",
       " ['VASOPIRIN 100MG', 'B01AC06', 'atsetüülsalitsüülhape', 'asa'],\n",
       " ['DISPERIN', 'N02BA01', 'atsetüülsalitsüülhape', 'asa'],\n",
       " ['ASA-GRINDEKS', 'N02BA01', 'atsetüülsalitsüülhape', 'asa'],\n",
       " ['ASPIRIN 100 MG', 'B01AC06', 'atsetüülsalitsüülhape', 'asa'],\n",
       " ['VASOPIRIN 75MG', 'B01AC06', 'atsetüülsalitsüülhape', 'asa'],\n",
       " ['THROMBO ASS', 'B01AC06', 'atsetüülsalitsüülhape', 'asa'],\n",
       " ['CLOPIDOGREL KRKA', 'B01AC04', 'klopidogreel', 'clopidogrel'],\n",
       " ['CLOPIDOGREL TEVA GENERICS B.V.', 'B01AC04', 'klopidogreel', 'clopidogrel'],\n",
       " ['PLAVIX', 'B01AC04', 'klopidogreel', 'clopidogrel'],\n",
       " ['CLOPIDOGREL IVOWEN', 'B01AC04', 'klopidogreel', 'clopidogrel'],\n",
       " ['TROMBEX 75 MG', 'B01AC04', 'klopidogreel', 'clopidogrel'],\n",
       " ['CLOPIDOGREL-RATIOPHARM 75 MG', 'B01AC04', 'klopidogreel', 'clopidogrel'],\n",
       " ['TROGRAN 75MG', 'B01AC04', 'klopidogreel', 'clopidogrel'],\n",
       " ['CLOPIDOGREL ACINO PHARMA', 'B01AC04', 'klopidogreel', 'clopidogrel'],\n",
       " ['CLOPIDOGREL 1A PHARMA', 'B01AC04', 'klopidogreel', 'clopidogrel'],\n",
       " ['CLOPIROD 75 MG', 'B01AC04', 'klopidogreel', 'clopidogrel'],\n",
       " ['CLOPIDOGREL PORTFARMA', 'B01AC04', 'klopidogreel', 'clopidogrel'],\n",
       " ['CLOPIDOGREL ACINO', 'B01AC04', 'klopidogreel', 'clopidogrel'],\n",
       " ['CLOPIDOGREL RATIOPHARM GMBH', 'B01AC04', 'klopidogreel', 'clopidogrel'],\n",
       " ['CLOPIDOGREL DURA', 'B01AC04', 'klopidogreel', 'clopidogrel'],\n",
       " ['MIFLEXIN', 'B01AC04', 'klopidogreel', 'clopidogrel'],\n",
       " ['CLOPIDOGREL QUALIMED', 'B01AC04', 'klopidogreel', 'clopidogrel'],\n",
       " ['CLOPIDOGREL ACTAVIS', 'B01AC04', 'klopidogreel', 'clopidogrel'],\n",
       " ['CLOPIDOGREL TEVA PHARMA', 'B01AC04', 'klopidogreel', 'clopidogrel'],\n",
       " ['CLOPIDOGREL BGR', 'B01AC04', 'klopidogreel', 'clopidogrel'],\n",
       " ['CLOPIDOGREL HEXAL', 'B01AC04', 'klopidogreel', 'clopidogrel'],\n",
       " ['LOFRADYK', 'B01AC04', 'klopidogreel', 'clopidogrel'],\n",
       " ['CLOPIDOGREL ACCORD', 'B01AC04', 'klopidogreel', 'clopidogrel'],\n",
       " ['CLOPIDOGREL ACINO PHARMA GMBH', 'B01AC04', 'klopidogreel', 'clopidogrel'],\n",
       " ['PLAVOCORIN', 'B01AC04', 'klopidogreel', 'clopidogrel'],\n",
       " ['NOFARDOM', 'B01AC04', 'klopidogreel', 'clopidogrel'],\n",
       " ['AGRETA', 'B01AC04', 'klopidogreel', 'clopidogrel'],\n",
       " ['CLOPIDOGREL RATIOPHARM', 'B01AC04', 'klopidogreel', 'clopidogrel'],\n",
       " ['CLOPIDOGREL MYLAN', 'B01AC04', 'klopidogreel', 'clopidogrel'],\n",
       " ['TINGREKS', 'B01AC04', 'klopidogreel', 'clopidogrel'],\n",
       " ['GREPID', 'B01AC04', 'klopidogreel', 'clopidogrel'],\n",
       " ['VATOUD 75MG', 'B01AC04', 'klopidogreel', 'clopidogrel'],\n",
       " ['CLOPIDOGREL SANOSWISS 75MG', 'B01AC04', 'klopidogreel', 'clopidogrel'],\n",
       " ['PLATAREX', 'B01AC04', 'klopidogreel', 'clopidogrel'],\n",
       " ['CLOPIDOGREL APOTEX', 'B01AC04', 'klopidogreel', 'clopidogrel'],\n",
       " ['CLOPIGAMMA', 'B01AC04', 'klopidogreel', 'clopidogrel'],\n",
       " ['ZYLLT', 'B01AC04', 'klopidogreel', 'clopidogrel'],\n",
       " ['CLOPIMEF', 'B01AC04', 'klopidogreel', 'clopidogrel'],\n",
       " ['CLOPIDOGREL IWA 75MG', 'B01AC04', 'klopidogreel', 'clopidogrel'],\n",
       " ['ISCOVER', 'B01AC04', 'klopidogreel', 'clopidogrel'],\n",
       " ['CLOPIDOGREL KRKA D.D', 'B01AC04', 'klopidogreel', 'clopidogrel'],\n",
       " ['CLOPIDOGREL SANDOZ', 'B01AC04', 'klopidogreel', 'clopidogrel'],\n",
       " ['TESSYRON', 'B01AC04', 'klopidogreel', 'clopidogrel'],\n",
       " ['CLOPIDOGREL TEVA PHARMA B.V.', 'B01AC04', 'klopidogreel', 'clopidogrel'],\n",
       " ['GLOPENEL 75MG', 'B01AC04', 'klopidogreel', 'clopidogrel'],\n",
       " ['CLOPIDOGREL MEDANA', 'B01AC04', 'klopidogreel', 'clopidogrel'],\n",
       " ['SUDROC', 'B01AC04', 'klopidogreel', 'clopidogrel'],\n",
       " ['CLOPIDOGREL BMS', 'B01AC04', 'klopidogreel', 'clopidogrel'],\n",
       " ['CLOPIDOGREL TEVA', 'B01AC04', 'klopidogreel', 'clopidogrel'],\n",
       " ['CLOPIDOGREL HCS', 'B01AC04', 'klopidogreel', 'clopidogrel'],\n",
       " ['CLOPIDOGREL ZENTIVA', 'B01AC04', 'klopidogreel', 'clopidogrel'],\n",
       " ['CLOPIDOGREL TAD', 'B01AC04', 'klopidogreel', 'clopidogrel'],\n",
       " ['CURANTHYL', 'B01AC07', 'dipüridamool', 'dipyridamol'],\n",
       " ['Curanthyl tabl. 25mg N25', 'B01AC07', 'dipüridamool', 'dipyridamol'],\n",
       " ['PERSANTIN', 'B01AC07', 'dipüridamool', 'dipyridamol'],\n",
       " ['MAREVAN FORTE', 'B01AA03', 'varfariin', 'warfarin'],\n",
       " ['MAREVAN', 'B01AA03', 'varfariin', 'warfarin'],\n",
       " ['ELIQUIS', 'B01AF02', 'apiksabaan', 'apixaban'],\n",
       " ['PRADAXA', 'B01AE07', 'dabigatraaneteksilaat', 'dabigatran'],\n",
       " ['XARELTO', 'B01AF01', 'rivaroksabaan', 'rivaroxaban'],\n",
       " ['ROTEAS', 'B01AF03', 'edoksabaan', 'edoxaban'],\n",
       " ['LIXIANA', 'B01AF03', 'edoksabaan', 'edoxaban']]"
      ]
     },
     "execution_count": 69,
     "metadata": {},
     "output_type": "execute_result"
    }
   ],
   "source": [
    "p4q_drugs"
   ]
  },
  {
   "cell_type": "code",
   "execution_count": 71,
   "metadata": {},
   "outputs": [],
   "source": [
    "import pickle\n",
    "pickle.dump(p4q_drugs, open(\"p4q_drugs.pickle\", \"wb\"))"
   ]
  },
  {
   "cell_type": "code",
   "execution_count": 73,
   "metadata": {},
   "outputs": [],
   "source": [
    "with open(\"p4q_drugs.csv\", \"w\") as fout:\n",
    "    writer = csv.writer(fout)\n",
    "    for row in p4q_drugs:\n",
    "        writer.writerow(row)"
   ]
  },
  {
   "cell_type": "code",
   "execution_count": 2,
   "metadata": {},
   "outputs": [],
   "source": [
    "conn = psycopg2.connect(connection_string_p12)\n",
    "cur = conn.cursor()"
   ]
  },
  {
   "cell_type": "code",
   "execution_count": null,
   "metadata": {},
   "outputs": [],
   "source": [
    "cur.execute(\"\"\"SELECT * from work.conditions\"\"\")\n",
    "times_and_diags = cur.fetchall()"
   ]
  },
  {
   "cell_type": "code",
   "execution_count": null,
   "metadata": {},
   "outputs": [],
   "source": [
    "+a. antihypertensive drugs C02\n",
    "b. statins + \n",
    "c. platelet inhibitors B01AC\n",
    "d. oral anticoagulants B01\n",
    "+e. ASA (e.g.Trombyl) A01AD05, B01AC06, N02BA01\n",
    "+f. Clopidogrel (e.g. Plavix) B01AC04\n",
    "+g. Dipyridamol (Persantin) \tB01AC07\n",
    "h. other platelet inhibitors (e.g., Brilique, Efient, Pletal, Possia)\n",
    "+i. Warfarin (Waran) B01AA03\n",
    "j. at the onset of warfarin treatment - INR value regardless of diagnosis\n",
    "+k. Apixaban (Eliquis) \tB01AF02\n",
    "+l. Dabigatran (Pradaxa) \tB01AE07\n",
    "+m. Rivaroxaban (Xarelto) \tB01AF01\n",
    "?n. Edoxaban (Lixiana) \tB01AF03\n"
   ]
  },
  {
   "cell_type": "code",
   "execution_count": null,
   "metadata": {},
   "outputs": [],
   "source": []
  },
  {
   "cell_type": "code",
   "execution_count": null,
   "metadata": {},
   "outputs": [],
   "source": [
    "select distinct(ravimi_nimetus, atc_kood, toimeaine_nimetus) from rel_classifications.atc_packaging_ravimiamet\n",
    "where atc_kood ~ '^(C02|B01AC|B01|A01AD05|B01AC06|N02BA01|B01AC04|B01AC07|B01AA03|B01AF02|B01AE07|B01AF01|B01AF03)'\n",
    ";"
   ]
  }
 ],
 "metadata": {
  "kernelspec": {
   "display_name": "Python 3",
   "language": "python",
   "name": "python3"
  },
  "language_info": {
   "codemirror_mode": {
    "name": "ipython",
    "version": 3
   },
   "file_extension": ".py",
   "mimetype": "text/x-python",
   "name": "python",
   "nbconvert_exporter": "python",
   "pygments_lexer": "ipython3",
   "version": "3.6.9"
  }
 },
 "nbformat": 4,
 "nbformat_minor": 4
}
