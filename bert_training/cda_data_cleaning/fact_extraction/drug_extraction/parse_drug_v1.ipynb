{
 "cells": [
  {
   "cell_type": "code",
   "execution_count": 7,
   "metadata": {},
   "outputs": [],
   "source": [
    "from estnltk import Text\n",
    "import csv\n",
    "from datetime import datetime\n",
    "from tqdm import tqdm\n",
    "import psycopg2"
   ]
  },
  {
   "cell_type": "code",
   "execution_count": 2,
   "metadata": {},
   "outputs": [],
   "source": [
    "from taggers.drug_tagger import DrugFieldPartTagger, DrugTagger\n",
    "from cda_data_cleaning.common.db_operations import create_connection\n",
    "from cda_data_cleaning.common import read_config"
   ]
  },
  {
   "cell_type": "code",
   "execution_count": 3,
   "metadata": {},
   "outputs": [],
   "source": [
    "part_tagger = DrugFieldPartTagger()"
   ]
  },
  {
   "cell_type": "code",
   "execution_count": 10,
   "metadata": {},
   "outputs": [],
   "source": [
    "drug_tagger = DrugTagger()"
   ]
  },
  {
   "cell_type": "code",
   "execution_count": 11,
   "metadata": {},
   "outputs": [],
   "source": [
    "config_file = 'egcut_epi.ini'\n",
    "config = read_config(config_file)\n",
    "\n",
    "conn = create_connection(config)\n",
    "cur = conn.cursor()"
   ]
  },
  {
   "cell_type": "code",
   "execution_count": 12,
   "metadata": {},
   "outputs": [],
   "source": [
    "cur.execute(\"\"\"SELECT * from original.drug;\"\"\")"
   ]
  },
  {
   "cell_type": "code",
   "execution_count": 13,
   "metadata": {},
   "outputs": [],
   "source": [
    "drug_rows = cur.fetchall()"
   ]
  },
  {
   "cell_type": "code",
   "execution_count": 14,
   "metadata": {},
   "outputs": [
    {
     "name": "stderr",
     "output_type": "stream",
     "text": [
      "100%|██████████| 231167/231167 [1:26:01<00:00, 44.79it/s]  \n"
     ]
    }
   ],
   "source": [
    "new_rows = []\n",
    "for row in tqdm(drug_rows):\n",
    "    if row[3]:\n",
    "        t = Text(row[3]).tag_layer(['words'])\n",
    "        part_tagger.tag(t)\n",
    "        drug_tagger.tag(t)\n",
    "\n",
    "        for j in t.parsed_drug:\n",
    "            date = ''\n",
    "            atc_code = ''\n",
    "            drug_name = ''\n",
    "            active_ingredient = ''\n",
    "            if j.date:\n",
    "                date = j.date\n",
    "            if j.atc_code:\n",
    "                atc_code = j.atc_code\n",
    "            if j.drug_name:\n",
    "                drug_name = j.drug_name\n",
    "            if j.active_ingredient:    \n",
    "                active_ingredient = j.active_ingredient\n",
    "            new_rows.append([row[0], row[1], row[2], date, atc_code, drug_name, active_ingredient])    "
   ]
  },
  {
   "cell_type": "code",
   "execution_count": 15,
   "metadata": {},
   "outputs": [
    {
     "data": {
      "text/plain": [
       "392935"
      ]
     },
     "execution_count": 15,
     "metadata": {},
     "output_type": "execute_result"
    }
   ],
   "source": [
    "len(new_rows)"
   ]
  },
  {
   "cell_type": "code",
   "execution_count": 16,
   "metadata": {},
   "outputs": [
    {
     "data": {
      "text/plain": [
       "231167"
      ]
     },
     "execution_count": 16,
     "metadata": {},
     "output_type": "execute_result"
    }
   ],
   "source": [
    "len(drug_rows)"
   ]
  },
  {
   "cell_type": "code",
   "execution_count": 23,
   "metadata": {},
   "outputs": [
    {
     "data": {
      "text/plain": [
       "[[231167, '13502443', 'a', '', '', '', 'alfusosiin'],\n",
       " [231166, '21890347', 'a', '', '', '', 'timolool'],\n",
       " [231166, '21890347', 'a', '', '', 'silmatilgad', ''],\n",
       " [231165, '40993241', 'a', '\\t20150504\\t', '', '', 'perindopriil'],\n",
       " [231165, '40993241', 'a', '', '', '', 'indapamiid'],\n",
       " [231164, '13308414', 'a', '\\t20140123\\t', '', '', 'telmisartaan'],\n",
       " [231164, '13308414', 'a', '\\t20140123\\t', '', '', 'etorikoksiib'],\n",
       " [231164, '13308414', 'a', '\\t20140130\\t', '', '', 'allopurinool'],\n",
       " [231163, '42791154', 'a', '\\t20150619\\t', '', '', 'glükoosamiin'],\n",
       " [231162, '9992270', 'a', '', 'D07XA81', '', ''],\n",
       " [231161, '9981240', 'a', '', 'N02AB03', '', ''],\n",
       " [231161, '9981240', 'a', '', 'N02AB03', '', ''],\n",
       " [231161, '9981240', 'a', '', 'A03FA01', '', ''],\n",
       " [231161, '9981240', 'a', '', 'N02AB03', '', ''],\n",
       " [231161, '9981240', 'a', '', 'N02AA01', '', ''],\n",
       " [231161, '9981240', 'a', '', 'L02BG03', '', ''],\n",
       " [231161, '9981240', 'a', '', 'N02AA01', '', ''],\n",
       " [231161, '9981240', 'a', '', 'N02AB03', '', ''],\n",
       " [231161, '9981240', 'a', '', 'N02AB03', '', ''],\n",
       " [231161, '9981240', 'a', '', 'N02AB03', '', ''],\n",
       " [231161, '9981240', 'a', '', 'N02AB03', '', ''],\n",
       " [231161, '9981240', 'a', '', 'N02AB03', '', ''],\n",
       " [231161, '9981240', 'a', '', 'L02BG03', '', ''],\n",
       " [231161, '9981240', 'a', '', 'N02AB03', '', ''],\n",
       " [231161, '9981240', 'a', '', 'N02AB03', '', ''],\n",
       " [231161, '9981240', 'a', '', 'L02BG03', '', ''],\n",
       " [231161, '9981240', 'a', '', 'L02BG03', '', ''],\n",
       " [231161, '9981240', 'a', '', 'N02AB03', '', ''],\n",
       " [231161, '9981240', 'a', '', 'N02AA01', '', ''],\n",
       " [231161, '9981240', 'a', '', 'N02AB03', '', ''],\n",
       " [231161, '9981240', 'a', '', 'N02AB03', '', ''],\n",
       " [231161, '9981240', 'a', '', 'N02AA01', '', ''],\n",
       " [231161, '9981240', 'a', '', 'L02BG03', '', ''],\n",
       " [231161, '9981240', 'a', '', 'N02AB03', '', ''],\n",
       " [231161, '9981240', 'a', '', 'N03AX16', '', ''],\n",
       " [231161, '9981240', 'a', '', 'A04AA02', '', ''],\n",
       " [231161, '9981240', 'a', '', 'N02AB03', '', ''],\n",
       " [231161, '9981240', 'a', '', 'N02AB03', '', ''],\n",
       " [231160, '9988570', 'a', ' 03.02.2014,', 'A02BC05', '', 'Esomeprazolum'],\n",
       " [231159, '9988170', 'a', '', 'S01BA02', '', ''],\n",
       " [231158, '9977900', 'a', '', 'N06AA09', '', ''],\n",
       " [231158, '9977900', 'a', '', 'N02CC07', '', ''],\n",
       " [231158, '9977900', 'a', '', 'N03AX11', '', ''],\n",
       " [231156, '9977590', 'a', '\\t20130903\\t', '', '', 'bisoprolool'],\n",
       " [231156, '9977590', 'a', '\\t20130903\\t', '', '', 'klopidogreel'],\n",
       " [231156, '9977590', 'a', '\\t20130903\\t', '', '', 'rosuvastatiin'],\n",
       " [231156, '9977590', 'a', '\\t20130905\\t', '', '', 'pantoprasool'],\n",
       " [231154, '9976450', 'a', '', 'J01AA02', '', ''],\n",
       " [231154, '9976450', 'a', '', 'J01AA02', '', ''],\n",
       " [231153,\n",
       "  '9969070',\n",
       "  'a',\n",
       "  ' 04.04.2013,',\n",
       "  'B02AA02',\n",
       "  'CYKLOKAPRON',\n",
       "  'Acidum tranexamicum'],\n",
       " [231152, '9970190', 'a', ' 05.03.2013,', 'N02BE92', '', 'Paracetamolum'],\n",
       " [231152, '9970190', 'a', '', '', 'Codeinum', ''],\n",
       " [231148, '9968000', 'a', '', 'L04AA13', '', ''],\n",
       " [231148, '9968000', 'a', '', 'P01BA02', '', ''],\n",
       " [231146, '9965260', 'a', ' 19.12.2012,', 'N05CF01', '', 'Zopiclonum'],\n",
       " [231141, '9950500', 'a', '', 'A12AX80', '', ''],\n",
       " [231141, '9950500', 'a', '', 'M05BA04', '', ''],\n",
       " [231140, '9950530', 'a', '', 'A12AX80', '', ''],\n",
       " [231139, '994630', 'a', '\\t20100222\\t', '', '', 'metoprolool'],\n",
       " [231137, '9925350', 'a', '\\t20100317\\t', '', '', 'meloksikaam'],\n",
       " [231135, '9919840', 'a', ' 13.06.2013,', 'G01AA10', '', 'Clindamycinum'],\n",
       " [231135, '9919840', 'a', ' 13.06.2013,', 'G03CA04', '', 'Estriolum'],\n",
       " [231134, '9923130', 'a', '\\t20140429\\t', '', '', 'klindamütsiin'],\n",
       " [231133, '9917180', 'a', '\\t20140130\\t', '', '', 'indapamiid'],\n",
       " [231133, '9917180', 'a', '\\t20140130\\t', '', '', 'trimetasidiin'],\n",
       " [231133, '9917180', 'a', '\\t20140130\\t', '', '', 'etorikoksiib'],\n",
       " [231132, '9918180', 'a', '', 'B02AA02', '', ''],\n",
       " [231132, '9918180', 'a', '', 'G01AA10', '', ''],\n",
       " [231131, '9912670', 'a', '\\t20131230\\t', '', '', 'amoksitsilliin'],\n",
       " [231130, '9915060', 'a', ' 06.01.2014,', 'P01BC02', 'LARIAM', 'Mefloquinum'],\n",
       " [231130, '9915060', 'a', ' 06.01.2014,', 'J01DC02', 'ZINNAT', 'Cefuroximum'],\n",
       " [231129, '9910700', 'a', '', 'S01ED81', '', ''],\n",
       " [231129, '9910700', 'a', '', 'S01ED81', '', ''],\n",
       " [231127, '9910910', 'a', '\\t20131209\\t', '', '', 'nitrofurantoiin'],\n",
       " [231124, '9907710', 'a', '', '', '', 'etonogestreel'],\n",
       " [231124, '9907710', 'a', '', '', '', 'etünüülöstradiool'],\n",
       " [231123, '9908330', 'a', '', 'M01AX05', '', ''],\n",
       " [231121, '9904700', 'a', '\\t20130903\\t', '', '', 'amitriptüliin'],\n",
       " [231120, '9904580', 'a', '\\t20130815\\t', '', '', 'amoksitsilliin'],\n",
       " [231120, '9904580', 'a', '\\t20130902\\t', '', '', 'tsefuroksiim'],\n",
       " [231120, '9904580', 'a', '\\t20130902\\t', '', '', 'hüdrokortisoon'],\n",
       " [231120, '9904580', 'a', '', '', '', 'tsiprofloksatsiin'],\n",
       " [231120, '9904580', 'a', '', '', 'kõrvatilgad', ''],\n",
       " [231119, '9901190', 'a', ' 04.06.2013,', 'J01MA02', '', 'Ciprofloxacinum'],\n",
       " [231118, '9901430', 'a', '', 'S01AA12', '', ''],\n",
       " [231116, '9900660', 'a', '', 'A05AA02', '', ''],\n",
       " [231115, '9899730', 'a', '', 'R03AC13', '', ''],\n",
       " [231113, '9896130', 'a', ' 01.03.2013,', 'M01AC06', '', 'Meloxicamum'],\n",
       " [231112, '9895990', 'a', '\\t20130226\\t', '', '', 'fusafungiin'],\n",
       " [231110, '9895900', 'a', '\\t20130221\\t', '', '', 'asitromütsiin'],\n",
       " [231110, '9895900', 'a', '\\t20130228\\t', '', '', 'telmisartaan'],\n",
       " [231110, '9895900', 'a', '\\t20130228\\t', '', '', 'amlodipiin'],\n",
       " [231108, '9894660', 'a', '', 'H03AA01', '', ''],\n",
       " [231106, '9890120', 'a', ' 19.11.2012 ', '', 'OMEPRAZOL SANDOZ 20 MG', ''],\n",
       " [231106, '9890120', 'a', '', '', 'OMEPRAZOL SANDOZ 20 MG', ''],\n",
       " [231105, '9889180', 'a', '', 'D07CA83', '', ''],\n",
       " [231102, '9887670', 'a', '', 'S01CA81', '', ''],\n",
       " [231101, '9880960', 'a', '', 'M01AC06', '', ''],\n",
       " [231101, '9880960', 'a', '', 'A07EC01', '', ''],\n",
       " [231100, '9881560', 'a', '', 'H02AB04', '', '']]"
      ]
     },
     "execution_count": 23,
     "metadata": {},
     "output_type": "execute_result"
    }
   ],
   "source": [
    "new_rows[:100]"
   ]
  },
  {
   "cell_type": "code",
   "execution_count": 17,
   "metadata": {},
   "outputs": [],
   "source": [
    "def clean_date(date_str):\n",
    "    '''\n",
    "    Turn datestring into datetime object\n",
    "    '''\n",
    "    if date_str:\n",
    "        stripped_date = date_str.strip('\\t\\n, ')\n",
    "    else:\n",
    "        return\n",
    "    if len(stripped_date) == 8:\n",
    "        date = datetime.strptime(stripped_date, '%Y%m%d')\n",
    "        return date\n",
    "    elif len(stripped_date) == 10:\n",
    "        date = datetime.strptime(stripped_date, '%d.%m.%Y')\n",
    "        return date\n",
    "    else:\n",
    "        return "
   ]
  },
  {
   "cell_type": "code",
   "execution_count": 18,
   "metadata": {},
   "outputs": [],
   "source": [
    "cur.execute(\"\"\"set role egcut_epi_work_create;\"\"\")"
   ]
  },
  {
   "cell_type": "code",
   "execution_count": 42,
   "metadata": {},
   "outputs": [],
   "source": [
    "cur.execute(\"\"\"drop table work.drug_parsed;\"\"\")"
   ]
  },
  {
   "cell_type": "code",
   "execution_count": 19,
   "metadata": {},
   "outputs": [],
   "source": [
    "cur.execute(\"\"\"create table work.drug_parsed_v1 (id bigint, epi_id text, \n",
    "epi_type text, date_raw text, date date, ATC text, drug_name text, active_ingredient text);\"\"\")"
   ]
  },
  {
   "cell_type": "code",
   "execution_count": 20,
   "metadata": {},
   "outputs": [
    {
     "name": "stderr",
     "output_type": "stream",
     "text": [
      "100%|██████████| 392935/392935 [01:37<00:00, 4010.80it/s]\n"
     ]
    }
   ],
   "source": [
    "for row in tqdm(new_rows):\n",
    "    new_date = clean_date(row[3])\n",
    "    cur.execute(\"insert into work.drug_parsed_v1 VALUES (%s, %s, %s, %s, %s, %s, %s, %s)\",  (row[0], row[1], row[2], row[3], new_date, row[4], row[5], row[6]))"
   ]
  },
  {
   "cell_type": "code",
   "execution_count": 21,
   "metadata": {},
   "outputs": [],
   "source": [
    "conn.commit()\n",
    "cur.close()\n",
    "conn.close()"
   ]
  },
  {
   "cell_type": "code",
   "execution_count": null,
   "metadata": {},
   "outputs": [],
   "source": []
  }
 ],
 "metadata": {
  "kernelspec": {
   "display_name": "Python [default]",
   "language": "python",
   "name": "python3"
  },
  "language_info": {
   "codemirror_mode": {
    "name": "ipython",
    "version": 3
   },
   "file_extension": ".py",
   "mimetype": "text/x-python",
   "name": "python",
   "nbconvert_exporter": "python",
   "pygments_lexer": "ipython3",
   "version": "3.5.6"
  }
 },
 "nbformat": 4,
 "nbformat_minor": 2
}