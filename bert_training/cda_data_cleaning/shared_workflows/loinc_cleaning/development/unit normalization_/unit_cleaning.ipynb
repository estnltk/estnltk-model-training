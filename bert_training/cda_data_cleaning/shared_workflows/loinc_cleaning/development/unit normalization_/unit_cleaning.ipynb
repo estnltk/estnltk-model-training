{
 "cells": [
  {
   "cell_type": "code",
   "execution_count": 12,
   "metadata": {},
   "outputs": [],
   "source": [
    "import os\n",
    "import pathlib\n",
    "#from pathlib import Path\n",
    "__file__ = os.path.abspath('')\n",
    "directory = pathlib.Path(__file__).parent.as_posix()"
   ]
  },
  {
   "cell_type": "code",
   "execution_count": 13,
   "metadata": {},
   "outputs": [],
   "source": [
    "unit_file = os.path.join(directory, 'data/possible_units.txt')\n",
    "unit_map_file = os.path.join(directory, 'data/unit_mapping.txt') #koopia failist  analysis_data_cleaning-> value_cleaning-> data"
   ]
  },
  {
   "cell_type": "code",
   "execution_count": null,
   "metadata": {},
   "outputs": [],
   "source": []
  },
  {
   "cell_type": "code",
   "execution_count": null,
   "metadata": {},
   "outputs": [],
   "source": [
    "#based on /cda-data-cleaning/analysis_data_cleaning/value_cleaning/cleaning.py"
   ]
  },
  {
   "cell_type": "code",
   "execution_count": 20,
   "metadata": {},
   "outputs": [],
   "source": [
    "def read_unit_map(filename):\n",
    "    unit_map = {}\n",
    "    with open(filename) as infile:\n",
    "        for line in infile:\n",
    "            values = line.split('\\t')\n",
    "            unit_map[values[0].strip()] = values[1].strip()\n",
    "    return unit_map\n",
    "\n",
    "\n",
    "def clean_unit(raw_unit, unit_map):\n",
    "    try:\n",
    "        return unit_map[raw_unit]\n",
    "    except KeyError:\n",
    "        return None\n",
    "\n",
    "    \n",
    "def read_units(filename):\n",
    "    units = []\n",
    "    with open(filename) as infile:\n",
    "        for line in infile:\n",
    "            units.append(line.strip())\n",
    "    return units\n"
   ]
  },
  {
   "cell_type": "code",
   "execution_count": 55,
   "metadata": {},
   "outputs": [
    {
     "name": "stdout",
     "output_type": "stream",
     "text": [
      "{'sek': 's', 'ug/ml': 'mg/l', 'mg/mmol': 'g/mol', 'mg/lfeu': 'mg/l', '%;mmol/mol': '%', '10e6/l': 'e6/l', '10e9/l': 'e9/l', '10e12/l': 'e12/l', '10*9/l': 'e9/l', '/pl': 'e12/l', 'pg/ml': 'ng/l', 'suhtarv': '%', 'µg/ml': 'mg/l', 'u/ml': 'ku/l', 'ng/ml': 'ug/l', '/ul': 'e6/l', 'iu/ml': 'kiu/l', '/nl': 'e9/l'}\n"
     ]
    }
   ],
   "source": [
    "unit_map = read_unit_map(\"unit_mapping.txt\")\n",
    "units = read_units(\"possible_units.txt\")\n",
    "dict_special_units = read_unit_map(\"unit_to_loinc_unit_mapping.txt\")\n",
    "print(loinc_unit_map)"
   ]
  },
  {
   "cell_type": "code",
   "execution_count": 53,
   "metadata": {},
   "outputs": [],
   "source": [
    "def clean_unit(unit): #klassist Cleaner\n",
    "    if unit:\n",
    "        return clean_unit3(unit, dict_special_units)\n",
    "    return None\n",
    "\n",
    "#see ainult puhastab\n",
    "def clean_unit2(raw_unit, unit_map):\n",
    "    try:\n",
    "        return unit_map[raw_unit]\n",
    "    except KeyError:\n",
    "        return None\n",
    "\n",
    "#see viib ka vastavale loinci ühiku kujule\n",
    "def clean_unit3(raw_unit, dict_special_units):\n",
    "    try:\n",
    "        return dict_special_units[raw_unit]\n",
    "    except KeyError:\n",
    "        return None\n",
    "    \n",
    "def get_normalized_unit(): #probably there is a need to add new features\n",
    "        if not self.normalized_unit and self.unit:\n",
    "            self.normalized_unit = self.unit.lower().replace(\" \", \"\")\n",
    "            self.normalized_unit  = self.normalized_unit.replace('24h', 'd')\n",
    "            if self.dict_special_units.get(self.normalized_unit):\n",
    "                self.normalized_unit = self.dict_special_units.get(self.normalized_unit)\n",
    "        return self.normalized_unit\n",
    "\n"
   ]
  },
  {
   "cell_type": "code",
   "execution_count": 50,
   "metadata": {},
   "outputs": [
    {
     "data": {
      "text/plain": [
       "'sek'"
      ]
     },
     "execution_count": 50,
     "metadata": {},
     "output_type": "execute_result"
    }
   ],
   "source": [
    "units[478]"
   ]
  },
  {
   "cell_type": "code",
   "execution_count": 54,
   "metadata": {},
   "outputs": [
    {
     "data": {
      "text/plain": [
       "'s'"
      ]
     },
     "execution_count": 54,
     "metadata": {},
     "output_type": "execute_result"
    }
   ],
   "source": [
    "for i in range(1:555): \n",
    "    clean_unit_value = clean_unit(units[i])\n",
    "    clean\n",
    "a"
   ]
  }
 ],
 "metadata": {
  "kernelspec": {
   "display_name": "Python 3",
   "language": "python",
   "name": "python3"
  },
  "language_info": {
   "codemirror_mode": {
    "name": "ipython",
    "version": 3
   },
   "file_extension": ".py",
   "mimetype": "text/x-python",
   "name": "python",
   "nbconvert_exporter": "python",
   "pygments_lexer": "ipython3",
   "version": "3.6.0"
  }
 },
 "nbformat": 4,
 "nbformat_minor": 2
}
