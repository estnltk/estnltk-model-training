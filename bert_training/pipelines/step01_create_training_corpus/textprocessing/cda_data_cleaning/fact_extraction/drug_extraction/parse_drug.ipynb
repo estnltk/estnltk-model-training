{
 "cells": [
  {
   "cell_type": "code",
   "execution_count": 1,
   "metadata": {},
   "outputs": [],
   "source": [
    "from estnltk import Text\n",
    "import csv\n",
    "from datetime import datetime\n",
    "import psycopg2"
   ]
  },
  {
   "cell_type": "code",
   "execution_count": 2,
   "metadata": {},
   "outputs": [],
   "source": [
    "from taggers.drug_tagger import DrugFieldPartTagger, DrugTagger\n",
    "from cda_data_cleaning.common.db_operations import create_connection\n",
    "from cda_data_cleaning.common import read_config"
   ]
  },
  {
   "cell_type": "code",
   "execution_count": 3,
   "metadata": {},
   "outputs": [],
   "source": [
    "part_tagger = DrugFieldPartTagger()"
   ]
  },
  {
   "cell_type": "code",
   "execution_count": 4,
   "metadata": {},
   "outputs": [],
   "source": [
    "drug_tagger = DrugTagger()"
   ]
  },
  {
   "cell_type": "code",
   "execution_count": 27,
   "metadata": {},
   "outputs": [],
   "source": [
    "config_file = 'egcut_epi.ini'\n",
    "config = read_config(config_file)\n",
    "\n",
    "conn = create_connection(config)\n",
    "cur = conn.cursor()"
   ]
  },
  {
   "cell_type": "code",
   "execution_count": 28,
   "metadata": {},
   "outputs": [],
   "source": [
    "cur.execute(\"\"\"SELECT * from original.drug order by epi_id limit 1000\"\"\")"
   ]
  },
  {
   "cell_type": "code",
   "execution_count": 29,
   "metadata": {},
   "outputs": [],
   "source": [
    "drug_rows = cur.fetchall()"
   ]
  },
  {
   "cell_type": "code",
   "execution_count": 30,
   "metadata": {},
   "outputs": [],
   "source": [
    "new_rows = []\n",
    "for row in drug_rows:\n",
    "    if row[3]:\n",
    "        t = Text(row[3]).tag_layer(['words'])\n",
    "        part_tagger.tag(t)\n",
    "        drug_tagger.tag(t)\n",
    "\n",
    "        for j in t.parsed_drug:\n",
    "            date = ''\n",
    "            atc_code = ''\n",
    "            drug_name = ''\n",
    "            active_ingredient = ''\n",
    "            if j.date:\n",
    "                date = j.date\n",
    "            if j.atc_code:\n",
    "                atc_code = j.atc_code\n",
    "            if j.drug_name:\n",
    "                drug_name = j.drug_name\n",
    "            if j.active_ingredient:    \n",
    "                active_ingredient = j.active_ingredient\n",
    "            new_rows.append([row[0], row[1], row[2], date, atc_code, drug_name, active_ingredient])    "
   ]
  },
  {
   "cell_type": "code",
   "execution_count": 31,
   "metadata": {},
   "outputs": [
    {
     "data": {
      "text/plain": [
       "1500"
      ]
     },
     "execution_count": 31,
     "metadata": {},
     "output_type": "execute_result"
    }
   ],
   "source": [
    "len(new_rows)"
   ]
  },
  {
   "cell_type": "code",
   "execution_count": 32,
   "metadata": {},
   "outputs": [
    {
     "data": {
      "text/plain": [
       "1000"
      ]
     },
     "execution_count": 32,
     "metadata": {},
     "output_type": "execute_result"
    }
   ],
   "source": [
    "len(drug_rows)"
   ]
  },
  {
   "cell_type": "code",
   "execution_count": 33,
   "metadata": {},
   "outputs": [
    {
     "data": {
      "text/plain": [
       "[[1, '1000222', 's', '', 'B01AC04', '', ''],\n",
       " [1, '1000222', 's', '', 'C09AA05', '', ''],\n",
       " [1, '1000222', 's', '', 'C10AA07', '', ''],\n",
       " [2, '1000285', 's', '', 'C01DA14', '', ''],\n",
       " [2, '1000285', 's', '', 'C10AA07', '', ''],\n",
       " [2, '1000285', 's', '', 'C07AB02', '', ''],\n",
       " [3, '1000298', 's', '', 'C01DA14', '', ''],\n",
       " [3, '1000298', 's', '', 'B01AC04', '', ''],\n",
       " [3, '1000298', 's', '', 'C07AB02', '', ''],\n",
       " [3, '1000298', 's', '', 'C09BA09', '', ''],\n",
       " [3, '1000298', 's', '', 'N05BA12', '', ''],\n",
       " [4, '1000402', 's', '', 'C01DA14', '', ''],\n",
       " [4, '1000402', 's', '', 'C09AA05', '', ''],\n",
       " [4, '1000402', 's', '', 'C03CA01', '', ''],\n",
       " [4, '1000402', 's', '', 'B01AC04', '', ''],\n",
       " [5, '1000420', 's', '', 'C01BD01', '', ''],\n",
       " [7, '1000482', 's', '', 'C10AA01', '', ''],\n",
       " [7, '1000482', 's', '', 'B01AC04', '', ''],\n",
       " [7, '1000482', 's', '', 'C09CA01', '', ''],\n",
       " [7, '1000482', 's', '', 'C07AB02', '', ''],\n",
       " [83469, '10005419', 'a', ' 13.10.2010,', 'H03BA02', 'TIOTIL', ''],\n",
       " [83469, '10005419', 'a', ' 13.10.2010,', 'H03BA02', 'TIOTIL', ''],\n",
       " [83469, '10005419', 'a', ' 13.10.2010,', 'H03BA02', 'TIOTIL', ''],\n",
       " [41440, '10005894', 'a', ' 12.10.2010,', 'G01AA10', '', ''],\n",
       " [146661, '10006873', 'a', ' 10.11.2010,', 'A02BC02', 'CONTROLOC 40 MG', ''],\n",
       " [146661, '10006873', 'a', ' 17.11.2010,', 'A03FA01', 'CERUCAL', ''],\n",
       " [41441, '10007104', 'a', '\\t20101119\\t', '', '', 'telmisartaan'],\n",
       " [41441, '10007104', 'a', '', '', '', 'hüdroklorotiasiid'],\n",
       " [9, '10007602', 's', '', 'L01BA01', '', ''],\n",
       " [9, '10007602', 's', '', 'B03BB01', '', ''],\n",
       " [10, '10007607', 's', '', 'J01CE02', '', ''],\n",
       " [11, '10007656', 's', '', 'B01AE07', '', ''],\n",
       " [104250, '10007701', 'a', '\\t20110113\\t', '', '', 'salmeterool'],\n",
       " [104250, '10007701', 'a', '', '', '', 'flutikasoon'],\n",
       " [104250, '10007701', 'a', '\\t20110116\\t', '', '', 'doksütsükliin'],\n",
       " [20131, '10007708', 'a', '\\t20110118\\t', '', '', 'formoterool'],\n",
       " [20131, '10007708', 'a', '', '', '', 'budesoniid'],\n",
       " [12, '1000774', 's', '', 'J01XD01', '', ''],\n",
       " [125478, '10008256', 'a', ' 07.03.2011,', 'L04AX03', 'TREXAN', ''],\n",
       " [125478, '10008256', 'a', ' 07.03.2011,', 'L01BA01', 'TREXAN', ''],\n",
       " [125478, '10008256', 'a', ' 07.03.2011,', 'H02AB04', 'MEDROL', ''],\n",
       " [125478, '10008256', 'a', ' 07.03.2011,', 'H02AB04', 'MEDROL', ''],\n",
       " [125478, '10008256', 'a', ' 07.03.2011,', 'H02AB04', 'MEDROL', ''],\n",
       " [125478, '10008256', 'a', ' 07.03.2011,', 'A12AX80', 'CALCIGRAN FORTE', ''],\n",
       " [125478, '10008256', 'a', ' 07.03.2011,', 'A12AX80', 'CALCIGRAN FORTE', ''],\n",
       " [125478, '10008256', 'a', ' 07.03.2011,', 'A12AX80', 'CALCIGRAN FORTE', ''],\n",
       " [15, '10008671', 's', '', 'A02BC01', '', ''],\n",
       " [15, '10008671', 's', '', 'J01CR04', '', ''],\n",
       " [18, '10008681', 's', '', 'J01DC02', '', ''],\n",
       " [18, '10008681', 's', '', 'S01AA12', '', ''],\n",
       " [14, '10008722', 's', '', 'B01AE07', '', ''],\n",
       " [13, '10008723', 's', '', 'C09AA05', '', ''],\n",
       " [16, '10008746', 's', '', 'S01AA12', '', ''],\n",
       " [19, '1000920', 's', ' 19.02.2010,', 'B01AB05', '', ''],\n",
       " [19, '1000920', 's', ' 19.02.2010,', 'M01AB05', '', ''],\n",
       " [167871, '10011022', 'a', '\\t20110714\\t', '', '', 'diklofenak'],\n",
       " [20, '1001103', 's', '', 'J01DC02', '', ''],\n",
       " [41442, '1001204', 'a', ' 02.03.2010,', '', 'OLFEN DEPOCAPS', ''],\n",
       " [41442, '1001204', 'a', '', '', 'OLFEN DEPOCAPS', ''],\n",
       " [41442, '1001204', 'a', '', 'M01AB05', '', ''],\n",
       " [41442, '1001204', 'a', ' 02.03.2010,', '', 'SIRDALUD', ''],\n",
       " [41442, '1001204', 'a', '', '', 'SIRDALUD', ''],\n",
       " [41442, '1001204', 'a', '', 'M03BX02', '', ''],\n",
       " [20134, '10012258', 'a', ' 09.08.2011,', 'P01AB01', 'ARILIN', ''],\n",
       " [20134, '10012258', 'a', ' 09.08.2011,', 'G01AF01', 'ARILIN', ''],\n",
       " [20134, '10012258', 'a', ' 09.08.2011,', 'J01XD01', 'ARILIN', ''],\n",
       " [23, '1001231', 's', '', 'A02BC02', '', ''],\n",
       " [83470, '10012469', 'a', ' 16.08.2011,', 'G04CA01', 'ALFUZOSIN-TEVA', ''],\n",
       " [21, '1001273', 's', '', 'C04AD03', '', ''],\n",
       " [21, '1001273', 's', '', 'B01AC04', '', ''],\n",
       " [62677, '10012865', 'a', '\\t20110909\\t', '', '', 'enalapriil'],\n",
       " [62677, '10012865', 'a', '', '', '', 'hüdroklorotiasiid'],\n",
       " [62677, '10012865', 'a', '\\t20110909\\t', '', '', 'ranitidiin'],\n",
       " [62677, '10012865', 'a', '\\t20110909\\t', '', '', 'metformiin'],\n",
       " [62677, '10012865', 'a', '\\t20110912\\t', '', '', 'nitrofurantoiin'],\n",
       " [104251, '10012911', 'a', '\\t20110922\\t', '', '', 'timolool'],\n",
       " [104251, '10012911', 'a', '', '', '', 'latanoprost'],\n",
       " [83472, '10013329', 'a', ' 22.09.2011,', 'A11DB85', 'MILGAMMA N', ''],\n",
       " [83472, '10013329', 'a', ' 22.09.2011,', 'A11DA84', 'MILGAMMA N', ''],\n",
       " [83472, '10013329', 'a', ' 28.09.2011,', 'M01AE03', '', ''],\n",
       " [24, '10013769', 's', ' 18.09.2011,', '', 'BISACODYL GSK', ''],\n",
       " [24, '10013769', 's', '', '', 'BISACODYL GSK', ''],\n",
       " [24, '10013769', 's', '', 'A06AB02', '', ''],\n",
       " [24, '10013769', 's', ' 18.09.2011,', '', 'BISACODYL GSK', ''],\n",
       " [24, '10013769', 's', '', '', 'BISACODYL GSK', ''],\n",
       " [24, '10013769', 's', '', 'A06AB02', '', ''],\n",
       " [24, '10013769', 's', ' 18.09.2011,', '', 'BISACODYL GSK', ''],\n",
       " [24, '10013769', 's', '', '', 'BISACODYL GSK', ''],\n",
       " [24, '10013769', 's', '', 'A06AB02', '', ''],\n",
       " [167874, '10014772', 'a', '', 'M01AX05', '', ''],\n",
       " [167874, '10014772', 'a', '', 'M01AC06', '', ''],\n",
       " [146662, '10014843', 'a', '', 'S01ED80', '', ''],\n",
       " [146662, '10014843', 'a', '', 'S01EE04', '', ''],\n",
       " [146660, '10014863', 'a', '', 'M05BB03', '', ''],\n",
       " [104249, '10014871', 'a', '', 'L04AX01', '', ''],\n",
       " [41445, '10015684', 'a', '', 'D07AC13', '', ''],\n",
       " [41445, '10015684', 'a', '', 'J05AB11', '', ''],\n",
       " [41445, '10015684', 'a', '', 'D07CC80', '', ''],\n",
       " [41445, '10015684', 'a', '', 'R06AX27', '', ''],\n",
       " [125480, '10015686', 'a', '', 'D07AC14', '', '']]"
      ]
     },
     "execution_count": 33,
     "metadata": {},
     "output_type": "execute_result"
    }
   ],
   "source": [
    "new_rows[:100]"
   ]
  },
  {
   "cell_type": "code",
   "execution_count": 34,
   "metadata": {},
   "outputs": [],
   "source": [
    "cur.execute(\"\"\"set role egcut_epi_work_create;\"\"\")"
   ]
  },
  {
   "cell_type": "code",
   "execution_count": 35,
   "metadata": {},
   "outputs": [],
   "source": [
    "cur.execute(\"\"\"drop table work.drug_parsed;\"\"\")"
   ]
  },
  {
   "cell_type": "code",
   "execution_count": 36,
   "metadata": {},
   "outputs": [],
   "source": [
    "cur.execute(\"\"\"create table work.drug_parsed (id bigint, epi_id text, \n",
    "epi_type text, date text, ATC text, drug_name text, active_ingredient text);\"\"\")"
   ]
  },
  {
   "cell_type": "code",
   "execution_count": 37,
   "metadata": {},
   "outputs": [],
   "source": [
    "for row in new_rows:\n",
    "    cur.execute(\"insert into work.drug_parsed VALUES (%s, %s, %s, %s, %s, %s, %s)\",  (row[0], row[1], row[2], row[3], row[4], row[5], row[6]))"
   ]
  },
  {
   "cell_type": "code",
   "execution_count": 26,
   "metadata": {},
   "outputs": [],
   "source": [
    "conn.commit()\n",
    "cur.close()\n",
    "conn.close()"
   ]
  },
  {
   "cell_type": "code",
   "execution_count": 24,
   "metadata": {},
   "outputs": [
    {
     "name": "stdout",
     "output_type": "stream",
     "text": [
      "(320, '10458531', 's', 'Väljastamise kuupäev: 20.11.2012, Retsepti number:  1015511113, Ravimi nimetus: DIAPREL MR 60MG 60TK, Originaalide arv: 1, ATC kood: A10BB09, Toimeaine: Gliclazidum, Ravimvorm: toimeainet modifitseeritult vabastav tablett, Soodustus: 90%, Annustamine:  , Annustamine täpsemalt: ½ tabletti enne hommikusööki.  Väljastamise kuupäev: 20.11.2012, Retsepti number:  2015511113, Ravimi nimetus: DIAPREL MR 60MG 60TK, Originaalide arv: 1, ATC kood: A10BB09, Toimeaine: Gliclazidum, Ravimvorm: toimeainet modifitseeritult vabastav tablett, Soodustus: 90%, Annustamine:  , Annustamine täpsemalt: ½ tabletti enne hommikusööki.  Väljastamise kuupäev: 20.11.2012, Retsepti number:  3015511113, Ravimi nimetus: DIAPREL MR 60MG 60TK, Originaalide arv: 1, ATC kood: A10BB09, Toimeaine: Gliclazidum, Ravimvorm: toimeainet modifitseeritult vabastav tablett, Soodustus: 90%, Annustamine:  , Annustamine täpsemalt: ½ tabletti enne hommikusööki.  Väljastamise kuupäev: 22.11.2012, Retsepti number:  1015540611, Ravimi nimetus:  12TK, Originaalide arv: 1, ATC kood: J01DB05, Toimeaine: Cefadroxilum, Ravimvorm: kõvakapsel, Soodustus: 50%, Annustamine:  , Annustamine täpsemalt: 1 kapsel 2x päevas.  Väljastamise kuupäev: 22.11.2012, Retsepti number:  1015540661, Ravimi nimetus:  10TK, Originaalide arv: 1, ATC kood: N02AX02, Toimeaine: Tramadolum, Ravimvorm: toimeainet prolongeeritult vabastav tablett, Soodustus: 50%, Annustamine:  , Annustamine täpsemalt: 1 tbl valude puhul. ')\n"
     ]
    }
   ],
   "source": [
    "for r in drug_rows:\n",
    "    if r[1] == '10458531':\n",
    "        print(r)"
   ]
  },
  {
   "cell_type": "code",
   "execution_count": 54,
   "metadata": {},
   "outputs": [],
   "source": []
  },
  {
   "cell_type": "code",
   "execution_count": 55,
   "metadata": {},
   "outputs": [
    {
     "data": {
      "text/html": [
       "<table border=\"1\" class=\"dataframe\">\n",
       "  <thead>\n",
       "    <tr style=\"text-align: right;\">\n",
       "      <th>text</th>\n",
       "    </tr>\n",
       "  </thead>\n",
       "  <tbody>\n",
       "    <tr>\n",
       "      <td><div align = \"left\">Väljastamise kuupäev: 20.11.2012, Retsepti number:  1015511113, Ravimi nimetus: DIAPREL MR 60MG 60TK, Originaalide arv: 1, ATC kood: A10BB09</div></td>\n",
       "    </tr>\n",
       "  </tbody>\n",
       "</table>\n",
       "<table border=\"1\" class=\"dataframe\">\n",
       "  <thead>\n",
       "    <tr style=\"text-align: right;\">\n",
       "      <th>layer name</th>\n",
       "      <th>attributes</th>\n",
       "      <th>parent</th>\n",
       "      <th>enveloping</th>\n",
       "      <th>ambiguous</th>\n",
       "      <th>span count</th>\n",
       "    </tr>\n",
       "  </thead>\n",
       "  <tbody>\n",
       "    <tr>\n",
       "      <td>tokens</td>\n",
       "      <td></td>\n",
       "      <td>None</td>\n",
       "      <td>None</td>\n",
       "      <td>False</td>\n",
       "      <td>31</td>\n",
       "    </tr>\n",
       "    <tr>\n",
       "      <td>compound_tokens</td>\n",
       "      <td>type, normalized</td>\n",
       "      <td>None</td>\n",
       "      <td>tokens</td>\n",
       "      <td>False</td>\n",
       "      <td>1</td>\n",
       "    </tr>\n",
       "    <tr>\n",
       "      <td>words</td>\n",
       "      <td>normalized_form</td>\n",
       "      <td>None</td>\n",
       "      <td>None</td>\n",
       "      <td>True</td>\n",
       "      <td>27</td>\n",
       "    </tr>\n",
       "  </tbody>\n",
       "</table>"
      ],
      "text/plain": [
       "Text(text='Väljastamise kuupäev: 20.11.2012, Retsepti number:  1015511113, Ravimi nimetus: DIAPREL MR 60MG 60TK, Originaalide arv: 1, ATC kood: A10BB09')"
      ]
     },
     "execution_count": 55,
     "metadata": {},
     "output_type": "execute_result"
    }
   ],
   "source": []
  },
  {
   "cell_type": "code",
   "execution_count": 32,
   "metadata": {},
   "outputs": [],
   "source": [
    "from grammarextractor.taggers import DateTagger"
   ]
  },
  {
   "cell_type": "code",
   "execution_count": 33,
   "metadata": {},
   "outputs": [],
   "source": [
    "d = DateTagger()"
   ]
  },
  {
   "cell_type": "code",
   "execution_count": 34,
   "metadata": {},
   "outputs": [
    {
     "data": {
      "text/html": [
       "<table border=\"1\" class=\"dataframe\">\n",
       "  <thead>\n",
       "    <tr style=\"text-align: right;\">\n",
       "      <th>text</th>\n",
       "    </tr>\n",
       "  </thead>\n",
       "  <tbody>\n",
       "    <tr>\n",
       "      <td><div align = \"left\">Väljastamise kuupäev: 20.11.2012, Retsepti number:  1015511113, Ravimi nimetus: DIAPREL MR 60MG 60TK, Originaalide arv: 1, ATC kood: A10BB09</div></td>\n",
       "    </tr>\n",
       "  </tbody>\n",
       "</table>\n",
       "<table border=\"1\" class=\"dataframe\">\n",
       "  <thead>\n",
       "    <tr style=\"text-align: right;\">\n",
       "      <th>layer name</th>\n",
       "      <th>attributes</th>\n",
       "      <th>parent</th>\n",
       "      <th>enveloping</th>\n",
       "      <th>ambiguous</th>\n",
       "      <th>span count</th>\n",
       "    </tr>\n",
       "  </thead>\n",
       "  <tbody>\n",
       "    <tr>\n",
       "      <td>tokens</td>\n",
       "      <td></td>\n",
       "      <td>None</td>\n",
       "      <td>None</td>\n",
       "      <td>False</td>\n",
       "      <td>31</td>\n",
       "    </tr>\n",
       "    <tr>\n",
       "      <td>compound_tokens</td>\n",
       "      <td>type, normalized</td>\n",
       "      <td>None</td>\n",
       "      <td>tokens</td>\n",
       "      <td>False</td>\n",
       "      <td>1</td>\n",
       "    </tr>\n",
       "    <tr>\n",
       "      <td>words</td>\n",
       "      <td>normalized_form</td>\n",
       "      <td>None</td>\n",
       "      <td>None</td>\n",
       "      <td>True</td>\n",
       "      <td>27</td>\n",
       "    </tr>\n",
       "    <tr>\n",
       "      <td>dates_numbers</td>\n",
       "      <td>grammar_symbol, regex_type, value, _priority_</td>\n",
       "      <td>None</td>\n",
       "      <td>None</td>\n",
       "      <td>True</td>\n",
       "      <td>3</td>\n",
       "    </tr>\n",
       "  </tbody>\n",
       "</table>"
      ],
      "text/plain": [
       "Text(text='Väljastamise kuupäev: 20.11.2012, Retsepti number:  1015511113, Ravimi nimetus: DIAPREL MR 60MG 60TK, Originaalide arv: 1, ATC kood: A10BB09')"
      ]
     },
     "execution_count": 34,
     "metadata": {},
     "output_type": "execute_result"
    }
   ],
   "source": [
    "d.tag(t)"
   ]
  },
  {
   "cell_type": "code",
   "execution_count": 35,
   "metadata": {},
   "outputs": [
    {
     "data": {
      "text/html": [
       "<h4>Layer</h4>\n",
       "\n",
       "\n",
       "<table border=\"1\" class=\"dataframe\">\n",
       "  <thead>\n",
       "    <tr style=\"text-align: right;\">\n",
       "      <th>layer name</th>\n",
       "      <th>attributes</th>\n",
       "      <th>parent</th>\n",
       "      <th>enveloping</th>\n",
       "      <th>ambiguous</th>\n",
       "      <th>span count</th>\n",
       "    </tr>\n",
       "  </thead>\n",
       "  <tbody>\n",
       "    <tr>\n",
       "      <td>dates_numbers</td>\n",
       "      <td>grammar_symbol, regex_type, value, _priority_</td>\n",
       "      <td>None</td>\n",
       "      <td>None</td>\n",
       "      <td>True</td>\n",
       "      <td>3</td>\n",
       "    </tr>\n",
       "  </tbody>\n",
       "</table>\n",
       "<table border=\"1\" class=\"dataframe\">\n",
       "  <thead>\n",
       "    <tr style=\"text-align: right;\">\n",
       "      <th>text</th>\n",
       "      <th>grammar_symbol</th>\n",
       "      <th>regex_type</th>\n",
       "      <th>value</th>\n",
       "      <th>_priority_</th>\n",
       "    </tr>\n",
       "  </thead>\n",
       "  <tbody>\n",
       "    <tr>\n",
       "      <td>20.11.2012</td>\n",
       "      <td>DATE</td>\n",
       "      <td>date4</td>\n",
       "      <td>date</td>\n",
       "      <td>-1</td>\n",
       "    </tr>\n",
       "    <tr>\n",
       "      <td>551111</td>\n",
       "      <td>DATE</td>\n",
       "      <td>date5</td>\n",
       "      <td>date</td>\n",
       "      <td>4</td>\n",
       "    </tr>\n",
       "    <tr>\n",
       "      <td>511113</td>\n",
       "      <td>DATE</td>\n",
       "      <td>date5</td>\n",
       "      <td>date</td>\n",
       "      <td>4</td>\n",
       "    </tr>\n",
       "  </tbody>\n",
       "</table>"
      ],
      "text/plain": [
       "Layer(name='dates_numbers', attributes=('grammar_symbol', 'regex_type', 'value', '_priority_'), spans=SL[Span('20.11.2012', [{'grammar_symbol': 'DATE', 'regex_type': 'date4', 'value': 'date', '_priority_': -1}]),\n",
       "Span('551111', [{'grammar_symbol': 'DATE', 'regex_type': 'date5', 'value': 'date', '_priority_': 4}]),\n",
       "Span('511113', [{'grammar_symbol': 'DATE', 'regex_type': 'date5', 'value': 'date', '_priority_': 4}])])"
      ]
     },
     "execution_count": 35,
     "metadata": {},
     "output_type": "execute_result"
    }
   ],
   "source": [
    "t.dates_numbers"
   ]
  },
  {
   "cell_type": "code",
   "execution_count": 38,
   "metadata": {},
   "outputs": [
    {
     "ename": "ModuleNotFoundError",
     "evalue": "No module named 'event_extraction'",
     "output_type": "error",
     "traceback": [
      "\u001B[0;31m---------------------------------------------------------------------------\u001B[0m",
      "\u001B[0;31mModuleNotFoundError\u001B[0m                       Traceback (most recent call last)",
      "\u001B[0;32m<ipython-input-38-1292eb128ea7>\u001B[0m in \u001B[0;36m<module>\u001B[0;34m\u001B[0m\n\u001B[0;32m----> 1\u001B[0;31m \u001B[0;32mfrom\u001B[0m \u001B[0mevent_extraction\u001B[0m\u001B[0;34m.\u001B[0m\u001B[0mtaggers\u001B[0m \u001B[0;32mimport\u001B[0m \u001B[0mEventDateTagger\u001B[0m\u001B[0;34m\u001B[0m\u001B[0;34m\u001B[0m\u001B[0m\n\u001B[0m",
      "\u001B[0;31mModuleNotFoundError\u001B[0m: No module named 'event_extraction'"
     ]
    }
   ],
   "source": [
    "from event_extraction.taggers import EventDateTagger"
   ]
  },
  {
   "cell_type": "code",
   "execution_count": 44,
   "metadata": {},
   "outputs": [],
   "source": [
    "from cda_data_cleaning.fact_extraction.measurement_extraction.taggers.robust_date_number_tagger.robust_date_number_tagger import RobustDateNumberTagger"
   ]
  },
  {
   "cell_type": "code",
   "execution_count": 45,
   "metadata": {},
   "outputs": [],
   "source": [
    "r = RobustDateNumberTagger()"
   ]
  },
  {
   "cell_type": "code",
   "execution_count": 49,
   "metadata": {},
   "outputs": [
    {
     "data": {
      "text/html": [
       "<table border=\"1\" class=\"dataframe\">\n",
       "  <thead>\n",
       "    <tr style=\"text-align: right;\">\n",
       "      <th>text</th>\n",
       "    </tr>\n",
       "  </thead>\n",
       "  <tbody>\n",
       "    <tr>\n",
       "      <td><div align = \"left\">Väljastamise kuupäev: 20.11.2012, Retsepti number:  1015511113, Ravimi nimetus: DIAPREL MR 60MG 60TK, Originaalide arv: 1, ATC kood: A10BB09</div></td>\n",
       "    </tr>\n",
       "  </tbody>\n",
       "</table>\n",
       "<table border=\"1\" class=\"dataframe\">\n",
       "  <thead>\n",
       "    <tr style=\"text-align: right;\">\n",
       "      <th>layer name</th>\n",
       "      <th>attributes</th>\n",
       "      <th>parent</th>\n",
       "      <th>enveloping</th>\n",
       "      <th>ambiguous</th>\n",
       "      <th>span count</th>\n",
       "    </tr>\n",
       "  </thead>\n",
       "  <tbody>\n",
       "    <tr>\n",
       "      <td>tokens</td>\n",
       "      <td></td>\n",
       "      <td>None</td>\n",
       "      <td>None</td>\n",
       "      <td>False</td>\n",
       "      <td>31</td>\n",
       "    </tr>\n",
       "    <tr>\n",
       "      <td>compound_tokens</td>\n",
       "      <td>type, normalized</td>\n",
       "      <td>None</td>\n",
       "      <td>tokens</td>\n",
       "      <td>False</td>\n",
       "      <td>1</td>\n",
       "    </tr>\n",
       "    <tr>\n",
       "      <td>words</td>\n",
       "      <td>normalized_form</td>\n",
       "      <td>None</td>\n",
       "      <td>None</td>\n",
       "      <td>True</td>\n",
       "      <td>27</td>\n",
       "    </tr>\n",
       "    <tr>\n",
       "      <td>dates_numbers</td>\n",
       "      <td>grammar_symbol, regex_type, value, _priority_</td>\n",
       "      <td>None</td>\n",
       "      <td>None</td>\n",
       "      <td>True</td>\n",
       "      <td>7</td>\n",
       "    </tr>\n",
       "  </tbody>\n",
       "</table>"
      ],
      "text/plain": [
       "Text(text='Väljastamise kuupäev: 20.11.2012, Retsepti number:  1015511113, Ravimi nimetus: DIAPREL MR 60MG 60TK, Originaalide arv: 1, ATC kood: A10BB09')"
      ]
     },
     "execution_count": 49,
     "metadata": {},
     "output_type": "execute_result"
    }
   ],
   "source": [
    "r.tag(t)"
   ]
  },
  {
   "cell_type": "code",
   "execution_count": 50,
   "metadata": {},
   "outputs": [
    {
     "data": {
      "text/html": [
       "<h4>Layer</h4>\n",
       "\n",
       "\n",
       "<table border=\"1\" class=\"dataframe\">\n",
       "  <thead>\n",
       "    <tr style=\"text-align: right;\">\n",
       "      <th>layer name</th>\n",
       "      <th>attributes</th>\n",
       "      <th>parent</th>\n",
       "      <th>enveloping</th>\n",
       "      <th>ambiguous</th>\n",
       "      <th>span count</th>\n",
       "    </tr>\n",
       "  </thead>\n",
       "  <tbody>\n",
       "    <tr>\n",
       "      <td>dates_numbers</td>\n",
       "      <td>grammar_symbol, regex_type, value, _priority_</td>\n",
       "      <td>None</td>\n",
       "      <td>None</td>\n",
       "      <td>True</td>\n",
       "      <td>7</td>\n",
       "    </tr>\n",
       "  </tbody>\n",
       "</table>\n",
       "<table border=\"1\" class=\"dataframe\">\n",
       "  <thead>\n",
       "    <tr style=\"text-align: right;\">\n",
       "      <th>text</th>\n",
       "      <th>grammar_symbol</th>\n",
       "      <th>regex_type</th>\n",
       "      <th>value</th>\n",
       "      <th>_priority_</th>\n",
       "    </tr>\n",
       "  </thead>\n",
       "  <tbody>\n",
       "    <tr>\n",
       "      <td>20.11.2012</td>\n",
       "      <td>DATE</td>\n",
       "      <td>date4</td>\n",
       "      <td>date</td>\n",
       "      <td>-1</td>\n",
       "    </tr>\n",
       "    <tr>\n",
       "      <td>1015511113</td>\n",
       "      <td>NUMBER</td>\n",
       "      <td>anynumber</td>\n",
       "      <td>1015511113</td>\n",
       "      <td>1</td>\n",
       "    </tr>\n",
       "    <tr>\n",
       "      <td>60</td>\n",
       "      <td>NUMBER</td>\n",
       "      <td>anynumber</td>\n",
       "      <td>60</td>\n",
       "      <td>1</td>\n",
       "    </tr>\n",
       "    <tr>\n",
       "      <td>60</td>\n",
       "      <td>NUMBER</td>\n",
       "      <td>anynumber</td>\n",
       "      <td>60</td>\n",
       "      <td>1</td>\n",
       "    </tr>\n",
       "    <tr>\n",
       "      <td>1</td>\n",
       "      <td>NUMBER</td>\n",
       "      <td>anynumber</td>\n",
       "      <td>1</td>\n",
       "      <td>1</td>\n",
       "    </tr>\n",
       "    <tr>\n",
       "      <td>10</td>\n",
       "      <td>NUMBER</td>\n",
       "      <td>anynumber</td>\n",
       "      <td>10</td>\n",
       "      <td>1</td>\n",
       "    </tr>\n",
       "    <tr>\n",
       "      <td>09</td>\n",
       "      <td>NUMBER</td>\n",
       "      <td>anynumber</td>\n",
       "      <td>09</td>\n",
       "      <td>1</td>\n",
       "    </tr>\n",
       "  </tbody>\n",
       "</table>"
      ],
      "text/plain": [
       "Layer(name='dates_numbers', attributes=('grammar_symbol', 'regex_type', 'value', '_priority_'), spans=SL[Span('20.11.2012', [{'grammar_symbol': 'DATE', 'regex_type': 'date4', 'value': 'date', '_priority_': -1}]),\n",
       "Span('1015511113', [{'grammar_symbol': 'NUMBER', 'regex_type': 'anynumber', 'value': '1015511113', '_priority_': 1}]),\n",
       "Span('60', [{'grammar_symbol': 'NUMBER', 'regex_type': 'anynumber', 'value': '60', '_priority_': 1}]),\n",
       "Span('60', [{'grammar_symbol': 'NUMBER', 'regex_type': 'anynumber', 'value': '60', '_priority_': 1}]),\n",
       "Span('1', [{'grammar_symbol': 'NUMBER', 'regex_type': 'anynumber', 'value': '1', '_priority_': 1}]),\n",
       "Span('10', [{'grammar_symbol': 'NUMBER', 'regex_type': 'anynumber', 'value': '10', '_priority_': 1}]),\n",
       "Span('09', [{'grammar_symbol': 'NUMBER', 'regex_type': 'anynumber', 'value': '09', '_priority_': 1}])])"
      ]
     },
     "execution_count": 50,
     "metadata": {},
     "output_type": "execute_result"
    }
   ],
   "source": [
    "t.dates_numbers"
   ]
  },
  {
   "cell_type": "code",
   "execution_count": 52,
   "metadata": {},
   "outputs": [],
   "source": [
    "from cda_data_cleaning.fact_extraction.event_extraction.taggers.event_date_tagger import EventDateTagger"
   ]
  },
  {
   "cell_type": "code",
   "execution_count": 53,
   "metadata": {},
   "outputs": [],
   "source": [
    "e = EventDateTagger()"
   ]
  },
  {
   "cell_type": "code",
   "execution_count": 56,
   "metadata": {},
   "outputs": [
    {
     "data": {
      "text/html": [
       "<table border=\"1\" class=\"dataframe\">\n",
       "  <thead>\n",
       "    <tr style=\"text-align: right;\">\n",
       "      <th>text</th>\n",
       "    </tr>\n",
       "  </thead>\n",
       "  <tbody>\n",
       "    <tr>\n",
       "      <td><div align = \"left\">Väljastamise kuupäev: 20.11.2012, Retsepti number:  1015511113, Ravimi nimetus: DIAPREL MR 60MG 60TK, Originaalide arv: 1, ATC kood: A10BB09</div></td>\n",
       "    </tr>\n",
       "  </tbody>\n",
       "</table>\n",
       "<table border=\"1\" class=\"dataframe\">\n",
       "  <thead>\n",
       "    <tr style=\"text-align: right;\">\n",
       "      <th>layer name</th>\n",
       "      <th>attributes</th>\n",
       "      <th>parent</th>\n",
       "      <th>enveloping</th>\n",
       "      <th>ambiguous</th>\n",
       "      <th>span count</th>\n",
       "    </tr>\n",
       "  </thead>\n",
       "  <tbody>\n",
       "    <tr>\n",
       "      <td>tokens</td>\n",
       "      <td></td>\n",
       "      <td>None</td>\n",
       "      <td>None</td>\n",
       "      <td>False</td>\n",
       "      <td>31</td>\n",
       "    </tr>\n",
       "    <tr>\n",
       "      <td>compound_tokens</td>\n",
       "      <td>type, normalized</td>\n",
       "      <td>None</td>\n",
       "      <td>tokens</td>\n",
       "      <td>False</td>\n",
       "      <td>1</td>\n",
       "    </tr>\n",
       "    <tr>\n",
       "      <td>words</td>\n",
       "      <td>normalized_form</td>\n",
       "      <td>None</td>\n",
       "      <td>None</td>\n",
       "      <td>True</td>\n",
       "      <td>27</td>\n",
       "    </tr>\n",
       "    <tr>\n",
       "      <td>event_dates</td>\n",
       "      <td>grammar_symbol, regex_type, value, _priority_</td>\n",
       "      <td>None</td>\n",
       "      <td>None</td>\n",
       "      <td>True</td>\n",
       "      <td>0</td>\n",
       "    </tr>\n",
       "  </tbody>\n",
       "</table>"
      ],
      "text/plain": [
       "Text(text='Väljastamise kuupäev: 20.11.2012, Retsepti number:  1015511113, Ravimi nimetus: DIAPREL MR 60MG 60TK, Originaalide arv: 1, ATC kood: A10BB09')"
      ]
     },
     "execution_count": 56,
     "metadata": {},
     "output_type": "execute_result"
    }
   ],
   "source": [
    "e.tag(t)"
   ]
  },
  {
   "cell_type": "code",
   "execution_count": 58,
   "metadata": {},
   "outputs": [
    {
     "data": {
      "text/html": [
       "<h4>Layer</h4>\n",
       "\n",
       "\n",
       "<table border=\"1\" class=\"dataframe\">\n",
       "  <thead>\n",
       "    <tr style=\"text-align: right;\">\n",
       "      <th>layer name</th>\n",
       "      <th>attributes</th>\n",
       "      <th>parent</th>\n",
       "      <th>enveloping</th>\n",
       "      <th>ambiguous</th>\n",
       "      <th>span count</th>\n",
       "    </tr>\n",
       "  </thead>\n",
       "  <tbody>\n",
       "    <tr>\n",
       "      <td>event_dates</td>\n",
       "      <td>grammar_symbol, regex_type, value, _priority_</td>\n",
       "      <td>None</td>\n",
       "      <td>None</td>\n",
       "      <td>True</td>\n",
       "      <td>0</td>\n",
       "    </tr>\n",
       "  </tbody>\n",
       "</table>\n",
       "<table border=\"1\" class=\"dataframe\">\n",
       "  <thead>\n",
       "    <tr style=\"text-align: right;\">\n",
       "      <th>text</th>\n",
       "      <th>grammar_symbol</th>\n",
       "      <th>regex_type</th>\n",
       "      <th>value</th>\n",
       "      <th>_priority_</th>\n",
       "    </tr>\n",
       "  </thead>\n",
       "  <tbody>\n",
       "  </tbody>\n",
       "</table>"
      ],
      "text/plain": [
       "Layer(name='event_dates', attributes=('grammar_symbol', 'regex_type', 'value', '_priority_'), spans=SL[])"
      ]
     },
     "execution_count": 58,
     "metadata": {},
     "output_type": "execute_result"
    }
   ],
   "source": [
    "t.event_dates"
   ]
  },
  {
   "cell_type": "code",
   "execution_count": null,
   "metadata": {},
   "outputs": [],
   "source": []
  }
 ],
 "metadata": {
  "kernelspec": {
   "display_name": "Python 3",
   "language": "python",
   "name": "python3"
  },
  "language_info": {
   "codemirror_mode": {
    "name": "ipython",
    "version": 3
   },
   "file_extension": ".py",
   "mimetype": "text/x-python",
   "name": "python",
   "nbconvert_exporter": "python",
   "pygments_lexer": "ipython3",
   "version": "3.6.9"
  }
 },
 "nbformat": 4,
 "nbformat_minor": 2
}