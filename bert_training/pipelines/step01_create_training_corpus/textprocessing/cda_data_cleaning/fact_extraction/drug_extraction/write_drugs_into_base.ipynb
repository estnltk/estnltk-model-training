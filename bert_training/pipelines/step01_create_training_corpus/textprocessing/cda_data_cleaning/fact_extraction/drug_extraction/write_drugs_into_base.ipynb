{
 "cells": [
  {
   "cell_type": "code",
   "execution_count": 1,
   "metadata": {},
   "outputs": [],
   "source": [
    "from estnltk import Text\n",
    "import csv\n",
    "from datetime import datetime\n",
    "from tqdm import tqdm\n",
    "import psycopg2\n",
    "import re"
   ]
  },
  {
   "cell_type": "code",
   "execution_count": null,
   "outputs": [],
   "source": [
    "from cda_data_cleaning.common.db_operations import create_connection\n",
    "from cda_data_cleaning.common import read_config"
   ],
   "metadata": {
    "collapsed": false,
    "pycharm": {
     "name": "#%%\n"
    }
   }
  },
  {
   "cell_type": "code",
   "execution_count": 2,
   "metadata": {},
   "outputs": [],
   "source": [
    "config_file = 'egcut_epi.ini'\n",
    "config = read_config(config_file)\n",
    "\n",
    "conn = create_connection(config)\n",
    "cur = conn.cursor()"
   ]
  },
  {
   "cell_type": "code",
   "execution_count": 3,
   "metadata": {},
   "outputs": [],
   "source": [
    "def clean_date(date_str):\n",
    "    '''\n",
    "    Turn datestring into datetime object\n",
    "    '''\n",
    "    if date_str:\n",
    "        stripped_date = date_str.strip('\\t\\n,a ')\n",
    "        stripped_date = stripped_date.replace(' ', '.')\n",
    "        stripped_date = stripped_date.replace('..', '.')\n",
    "    else:\n",
    "        return\n",
    "    if len(stripped_date) == 8:\n",
    "        date = datetime.strptime(stripped_date, '%Y%m%d')\n",
    "        return date\n",
    "    elif len(stripped_date) == 9 and re.match('[0-9]\\.', stripped_date):\n",
    "        stripped_date_fixed = '0' + stripped_date\n",
    "        date = datetime.strptime(stripped_date_fixed, '%d.%m.%Y')\n",
    "        return date\n",
    "    elif len(stripped_date) == 10:\n",
    "        date = datetime.strptime(stripped_date, '%d.%m.%Y')\n",
    "        return date\n",
    "    else:\n",
    "        return "
   ]
  },
  {
   "cell_type": "code",
   "execution_count": 4,
   "metadata": {},
   "outputs": [],
   "source": [
    "cur.execute(\"\"\"set role hwisc_epi_work_create;\"\"\")"
   ]
  },
  {
   "cell_type": "code",
   "execution_count": 5,
   "metadata": {},
   "outputs": [
    {
     "ename": "ProgrammingError",
     "evalue": "table \"drug_parsed_v0\" does not exist\n",
     "output_type": "error",
     "traceback": [
      "\u001B[0;31m---------------------------------------------------------------------------\u001B[0m",
      "\u001B[0;31mProgrammingError\u001B[0m                          Traceback (most recent call last)",
      "\u001B[0;32m<ipython-input-5-c8d7838012bd>\u001B[0m in \u001B[0;36m<module>\u001B[0;34m()\u001B[0m\n\u001B[0;32m----> 1\u001B[0;31m \u001B[0mcur\u001B[0m\u001B[0;34m.\u001B[0m\u001B[0mexecute\u001B[0m\u001B[0;34m(\u001B[0m\u001B[0;34m\"\"\"drop table work.drug_parsed_v0;\"\"\"\u001B[0m\u001B[0;34m)\u001B[0m\u001B[0;34m\u001B[0m\u001B[0m\n\u001B[0m",
      "\u001B[0;31mProgrammingError\u001B[0m: table \"drug_parsed_v0\" does not exist\n"
     ]
    }
   ],
   "source": [
    "#cur.execute(\"\"\"drop table work.drug_parsed_v0;\"\"\")"
   ]
  },
  {
   "cell_type": "code",
   "execution_count": 5,
   "metadata": {},
   "outputs": [],
   "source": [
    "cur.execute(\"\"\"create table work.drug_parsed_v0 (id bigint, epi_id text, \n",
    "epi_type text, date_raw text, date date, ATC text, drug_name text, active_ingredient text);\"\"\")"
   ]
  },
  {
   "cell_type": "code",
   "execution_count": 6,
   "metadata": {},
   "outputs": [
    {
     "name": "stdout",
     "output_type": "stream",
     "text": [
      "0\n",
      "100000\n",
      "200000\n",
      "300000\n",
      "400000\n",
      "500000\n",
      "600000\n",
      "700000\n",
      "800000\n",
      "900000\n",
      "1000000\n",
      "1100000\n",
      "1200000\n",
      "1300000\n",
      "1400000\n",
      "1500000\n",
      "1600000\n",
      "1700000\n",
      "1800000\n",
      "1900000\n",
      "2000000\n",
      "2100000\n",
      "2200000\n",
      "2300000\n",
      "2400000\n",
      "2500000\n",
      "2600000\n",
      "2700000\n",
      "2800000\n",
      "2900000\n",
      "3000000\n",
      "3100000\n",
      "3200000\n",
      "3300000\n",
      "3400000\n",
      "3500000\n",
      "3600000\n",
      "3700000\n",
      "3800000\n",
      "3900000\n",
      "4000000\n",
      "4100000\n",
      "4200000\n",
      "4300000\n",
      "4400000\n",
      "4500000\n",
      "4600000\n",
      "4700000\n",
      "4800000\n",
      "4900000\n",
      "5000000\n",
      "5100000\n",
      "5200000\n",
      "5300000\n",
      "5400000\n",
      "5500000\n",
      "5600000\n",
      "5700000\n",
      "5800000\n",
      "5900000\n",
      "6000000\n",
      "6100000\n",
      "6200000\n",
      "6300000\n",
      "6400000\n",
      "6500000\n",
      "6600000\n",
      "6700000\n",
      "6800000\n",
      "6900000\n",
      "7000000\n",
      "7100000\n",
      "7200000\n",
      "7300000\n",
      "7400000\n",
      "7500000\n",
      "7600000\n",
      "7700000\n",
      "7800000\n",
      "7900000\n",
      "8000000\n",
      "8100000\n",
      "8200000\n",
      "8300000\n",
      "8400000\n",
      "8500000\n",
      "8600000\n",
      "8700000\n",
      "8800000\n",
      "8900000\n",
      "9000000\n"
     ]
    }
   ],
   "source": [
    "with open(\"parsed_drugs.csv\", \"r\") as fin:\n",
    "    reader = csv.reader(fin)\n",
    "    for idx, row in enumerate(reader):\n",
    "        if idx%100000 == 0:\n",
    "            print(idx)\n",
    "        new_date = clean_date(row[3])\n",
    "        cur.execute(\"insert into work.drug_parsed_v0 VALUES (%s, %s, %s, %s, %s, %s, %s, %s)\",  (row[0], row[1], row[2], row[3], new_date, row[4], row[5], row[6]))"
   ]
  },
  {
   "cell_type": "code",
   "execution_count": 7,
   "metadata": {},
   "outputs": [],
   "source": [
    "conn.commit()\n",
    "cur.close()\n",
    "conn.close()"
   ]
  },
  {
   "cell_type": "code",
   "execution_count": null,
   "metadata": {},
   "outputs": [],
   "source": []
  }
 ],
 "metadata": {
  "kernelspec": {
   "display_name": "Python [default]",
   "language": "python",
   "name": "python3"
  },
  "language_info": {
   "codemirror_mode": {
    "name": "ipython",
    "version": 3
   },
   "file_extension": ".py",
   "mimetype": "text/x-python",
   "name": "python",
   "nbconvert_exporter": "python",
   "pygments_lexer": "ipython3",
   "version": "3.5.6"
  }
 },
 "nbformat": 4,
 "nbformat_minor": 2
}