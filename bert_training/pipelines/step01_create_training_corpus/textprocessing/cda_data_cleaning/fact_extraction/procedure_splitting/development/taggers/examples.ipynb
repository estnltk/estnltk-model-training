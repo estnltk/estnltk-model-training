{
 "cells": [
  {
   "cell_type": "code",
   "execution_count": 1,
   "metadata": {},
   "outputs": [],
   "source": [
    "from estnltk import Text\n",
    "from pricecode_tagger import PriceTagger\n",
    "from subcategory_tagger import SubcategoryTagger\n",
    "from study_tagger import StudyTagger\n",
    "from diagnosis_tagger import DiagnosisTagger"
   ]
  },
  {
   "cell_type": "markdown",
   "metadata": {},
   "source": [
    "### Pricecode taggeri näited"
   ]
  },
  {
   "cell_type": "code",
   "execution_count": 2,
   "metadata": {
    "scrolled": true
   },
   "outputs": [
    {
     "data": {
      "text/html": [
       "<h4>Layer</h4>\n",
       "\n",
       "<table border=\"1\" class=\"dataframe\">\n",
       "  <thead>\n",
       "    <tr style=\"text-align: right;\">\n",
       "      <th>layer name</th>\n",
       "      <th>attributes</th>\n",
       "      <th>parent</th>\n",
       "      <th>enveloping</th>\n",
       "      <th>ambiguous</th>\n",
       "      <th>span count</th>\n",
       "    </tr>\n",
       "  </thead>\n",
       "  <tbody>\n",
       "    <tr>\n",
       "      <td>pricecode</td>\n",
       "      <td>grammar_symbol, regex_type, value, _priority_,...</td>\n",
       "      <td>None</td>\n",
       "      <td>None</td>\n",
       "      <td>True</td>\n",
       "      <td>1</td>\n",
       "    </tr>\n",
       "  </tbody>\n",
       "</table>\n",
       "<table border=\"1\" class=\"dataframe\">\n",
       "  <thead>\n",
       "    <tr style=\"text-align: right;\">\n",
       "      <th>text</th>\n",
       "      <th>grammar_symbol</th>\n",
       "      <th>regex_type</th>\n",
       "      <th>value</th>\n",
       "      <th>_priority_</th>\n",
       "      <th>price_code</th>\n",
       "    </tr>\n",
       "  </thead>\n",
       "  <tbody>\n",
       "    <tr>\n",
       "      <td>Hinnakoodid:\\n7978, 7979 x 5, 7997 x 7</td>\n",
       "      <td>PRICECODE</td>\n",
       "      <td>pricecode</td>\n",
       "      <td>whatever</td>\n",
       "      <td>0</td>\n",
       "      <td>7978, 7979 x 5, 7997 x 7</td>\n",
       "    </tr>\n",
       "  </tbody>\n",
       "</table>"
      ],
      "text/plain": [
       "Layer(name='pricecode', attributes=('grammar_symbol', 'regex_type', 'value', '_priority_', 'price_code'), spans=SL[AS(start=115, end=152, text:'Hinnakoodid:\\n7978, 7979 x 5, 7997 x 7')])"
      ]
     },
     "execution_count": 2,
     "metadata": {},
     "output_type": "execute_result"
    }
   ],
   "source": [
    "\n",
    "pr_tagger = PriceTagger()\n",
    "#text = Text('Teostatud uuring:\\nUH uuring kõhu- ja vaagnapiirkonnast\\n\\nHinnakoodid:\\n7953')\n",
    "text = Text('Teostatud uuring:\\nKopsud, mediastiinum, süda, rindkere, lülisamba rinnaosa, ülakõht kontrastainega 7978; 7979 x 5\\n\\nHinnakoodid:\\n7978, 7979 x 5, 7997 x 7')\n",
    "#text = Text('hinnakoodid: 7990, 1444')\n",
    "#text = Text('Teostatud uuringud:\\nJämenõelbiopsia või punktsioon ultraheli või röntgeni kontrolli all\\nArteriograafia\\nSäärearterite balloondilatatsioon\\nHinnakoodid:\\n7891, , 7881, 7886')\n",
    "#text = Text('kops, mediastiinium, rindkere, lülisamba rinnaosa, ülakõht, keskkõht, vaagen ja lülisamba nimmeosa  natiivis (7975, 7976 x 7), kontrastainega angiograafiafaasis rinnaaort (7984), kopsuarterid (7999x2), kõhuaort (7999), neeruarterid (7999 x 2) ja mesenteriaalarterid (7999) ning kontrastainega faasis ülakõht, keskkõht, vaagen  (7978, 7979 x 2).')\n",
    "#text = Text('nHinnakoodid:\\n, , 7552, 7559, , 7572\\n')\n",
    "text.tag_layer()\n",
    "pr_tagger.tag(text)\n",
    "text['pricecode']"
   ]
  },
  {
   "cell_type": "markdown",
   "metadata": {},
   "source": [
    "### Subcategory taggeri näited"
   ]
  },
  {
   "cell_type": "code",
   "execution_count": 3,
   "metadata": {},
   "outputs": [
    {
     "data": {
      "text/html": [
       "<h4>Layer</h4>\n",
       "\n",
       "<table border=\"1\" class=\"dataframe\">\n",
       "  <thead>\n",
       "    <tr style=\"text-align: right;\">\n",
       "      <th>layer name</th>\n",
       "      <th>attributes</th>\n",
       "      <th>parent</th>\n",
       "      <th>enveloping</th>\n",
       "      <th>ambiguous</th>\n",
       "      <th>span count</th>\n",
       "    </tr>\n",
       "  </thead>\n",
       "  <tbody>\n",
       "    <tr>\n",
       "      <td>subcategories</td>\n",
       "      <td>grammar_symbol, regex_type, value, _priority_</td>\n",
       "      <td>None</td>\n",
       "      <td>None</td>\n",
       "      <td>True</td>\n",
       "      <td>2</td>\n",
       "    </tr>\n",
       "  </tbody>\n",
       "</table>\n",
       "<table border=\"1\" class=\"dataframe\">\n",
       "  <thead>\n",
       "    <tr style=\"text-align: right;\">\n",
       "      <th>text</th>\n",
       "      <th>grammar_symbol</th>\n",
       "      <th>regex_type</th>\n",
       "      <th>value</th>\n",
       "      <th>_priority_</th>\n",
       "    </tr>\n",
       "  </thead>\n",
       "  <tbody>\n",
       "    <tr>\n",
       "      <td>\\nLEID:</td>\n",
       "      <td>SUBCATEGORY</td>\n",
       "      <td>subcategory</td>\n",
       "      <td>LEID:</td>\n",
       "      <td>0</td>\n",
       "    </tr>\n",
       "    <tr>\n",
       "      <td>Arvamus/Soovitused:</td>\n",
       "      <td>SUBCATEGORY</td>\n",
       "      <td>subcategory</td>\n",
       "      <td>Arvamus/Soovitused:</td>\n",
       "      <td>0</td>\n",
       "    </tr>\n",
       "  </tbody>\n",
       "</table>"
      ],
      "text/plain": [
       "Layer(name='subcategories', attributes=('grammar_symbol', 'regex_type', 'value', '_priority_'), spans=SL[AS(start=105, end=111, text:'\\nLEID:'),\n",
       "AS(start=454, end=473, text:'Arvamus/Soovitused:')])"
      ]
     },
     "execution_count": 3,
     "metadata": {},
     "output_type": "execute_result"
    }
   ],
   "source": [
    "subc_tagger = SubcategoryTagger()\n",
    "\"\"\"text = Text('Põhjendus: Pancreatitis chr ex, Tsüstid\\n\\nKirjeldus: KLIINILISED ANDMED: Pancreatitis chr ex, \\\n",
    "Tsüstid\\n\\nKT-UURING KÕHUKOOPA JA VAAGNA PIIRKONNAST:\\nUuritud diafragmakuplitest kuni sümfüüsini: ülakõht, \\\n",
    "keskkõht, vaagen ja lülisamba nimmeosa  natiivis (7975, 7976 x 3), kontrastainega angiograafiafaasis kõhuaort (7984)., \\\n",
    "neeruarterid (7999 x 2) ja mesenteriaalarterid (7999) ning kontrastainega faasis ülakõht, keskkõht, vaagen ja lülisamba \\\n",
    "nimmeosa (7978, 7979 x 3).\\nVaagna piirkonnas on soolelingude vahel vaba evdelikku kuni 3,0 cm kihina. \\nKusepõie kontuur on selge, sein on \\\n",
    "ühtlase paksusega; põiesisaldis on homogeenne; lisamassi esile ei tule.\\nProstata orienteeruvad mõõtmed \\\n",
    "aksiaaltasapinnas on ca  4,2 x 3,4 cm; kontuur on valdavalt selge, lokaalset kontuuri promineerumist ei sedasta; \\\n",
    "prostata struktuur ja kontrasteerumine on oluliste iseärasusteta.\\nProstata ei ole KT uuringul seemnepõiekestest \\\n",
    "selgepiiriliselt eristatav; \\nSeemnepõiekeste veenvat suurenemist ja asümmeetriat ei sedasta.\\n\\nLülisamba nimmeosas on kergekujulised degeneratiivset tüüpi muutused.\\n\\nJäreldus: Kroonilise \\\n",
    "pankreatiidi ägenemine. Pankreas ekeha- ja sabapiirkonnas paksuseinaline pseudotsüst. Vaba vedleikku pankrease saba \\\n",
    "ümber, milles võimalikud ka piirdunud vedelikukogumid (formeeruvad väikesed abstessikolded??). Vaba vedleikku põrna \\\n",
    "ümber ja vaagna piirkonnas, infiltreeritud mesenteerium ja vasakul <ANONYM id=\"51\" type=\"per\" morph=\"_H_ sg ab\"/> \\\n",
    "fastsia.')\"\"\"\n",
    "\n",
    "text = Text('Röntgenuuringud\\nRÖ rindkerest PA, AP (otse)\\nTeostatud: 27.06.2013 14:25\\n\\nTellimuse vastus nr: 13-195125-1\\nLEID: \\nDiafragmakuplid selgepiirilised, norm kõrgusel. Lateraalsed pleurasiinused vabad. Hiilused rahuldava struktuursusega. \\nBronhovaskulaarne joonis tavapärane. Kopsudes koldelis-alveolaarset varjustust esile ei tule. Süda on ristimõõdus norm laiusega. Mediastiinumi foonil lisavarje esile ei tule.\\nSubdiafragmaalsel vaba gaasi - postop leid?\\n\\xa0\\n\\nArvamus/Soovitused: Kopsud aktuaalse patoloogiata.')\n",
    "#text = Text('<ANONYM id=\"2\" type=\"per\" morph=\"_H_ sg n\"/>, <ANONYM id=\"3\" type=\"per\" morph=\"_H_ sg n\"/>: \\n\\t\\t\\t\\t\\t\\t\\t\\t\\t\\t\\t\\t\\tLeid: vasaku kopsus on hiiluse tasandil ning alasagaras parakardiaalsel väätjad infiltraadid, mis võrreldes 29/04/09 uuringuga on suurenenud. Vasakul paravertebraalsel kiiljas lisavari - tõenäoliselt lingulas atelektaas. Paremas kopsus selget põletikule viitavat varjustust ei tähelda. Olulist pleuraefusiooni AP ülesvõttel nähtavale ei tule.\\n\\t\\t\\t\\t\\t\\t\\t\\t\\t\\t\\t\\t\\t Kokkuvõte: \\n\\t\\t\\t\\t\\t\\t\\t\\t\\t\\t\\t\\t\\tVasakus kopsus pneumooniale viitav leid. Varasema ülesvõttega võrredles on leid suurenenud.')\n",
    "#text = Text('Üldhinnang: Test isheemiale negatiivne.\\n\\t\\t\\t\\t\\xa0\\n\\t\\t\\t\\t\\n\\t\\t\\t\\tKokkuvõte\\n\\t\\t\\t\\t\\xa0\\n\\t\\t\\t\\t\\n\\t\\t\\t\\tKoormustest keskmise koormustaluvuse')\n",
    "#text = Text('\\t\\t\\t\\n\\t\\t\\t\\tARVAMUS\\n\\t\\t\\t\\t\\xa0\\n\\t\\t\\t\\t\\n\\t\\t\\t\\tPatoloogilise leiuta')\n",
    "#text = Text('\\n \\n \\nKirjeldused \\nKaebused, anamnees:   \\n\\nRindkerevalud')\n",
    "text.tag_layer()\n",
    "subc_tagger.tag(text)\n",
    "text['subcategories']"
   ]
  },
  {
   "cell_type": "markdown",
   "metadata": {},
   "source": [
    "### Study taggeri näited"
   ]
  },
  {
   "cell_type": "code",
   "execution_count": 4,
   "metadata": {},
   "outputs": [
    {
     "data": {
      "text/html": [
       "<h4>Layer</h4>\n",
       "\n",
       "<table border=\"1\" class=\"dataframe\">\n",
       "  <thead>\n",
       "    <tr style=\"text-align: right;\">\n",
       "      <th>layer name</th>\n",
       "      <th>attributes</th>\n",
       "      <th>parent</th>\n",
       "      <th>enveloping</th>\n",
       "      <th>ambiguous</th>\n",
       "      <th>span count</th>\n",
       "    </tr>\n",
       "  </thead>\n",
       "  <tbody>\n",
       "    <tr>\n",
       "      <td>study</td>\n",
       "      <td>grammar_symbol, regex_type, value, _priority_</td>\n",
       "      <td>None</td>\n",
       "      <td>None</td>\n",
       "      <td>True</td>\n",
       "      <td>1</td>\n",
       "    </tr>\n",
       "  </tbody>\n",
       "</table>\n",
       "<table border=\"1\" class=\"dataframe\">\n",
       "  <thead>\n",
       "    <tr style=\"text-align: right;\">\n",
       "      <th>text</th>\n",
       "      <th>grammar_symbol</th>\n",
       "      <th>regex_type</th>\n",
       "      <th>value</th>\n",
       "      <th>_priority_</th>\n",
       "    </tr>\n",
       "  </thead>\n",
       "  <tbody>\n",
       "    <tr>\n",
       "      <td>Teostatud uuring:\\n</td>\n",
       "      <td>STUDY</td>\n",
       "      <td>study</td>\n",
       "      <td>Teostatud uuring:</td>\n",
       "      <td>0</td>\n",
       "    </tr>\n",
       "  </tbody>\n",
       "</table>"
      ],
      "text/plain": [
       "Layer(name='study', attributes=('grammar_symbol', 'regex_type', 'value', '_priority_'), spans=SL[AS(start=0, end=18, text:'Teostatud uuring:\\n')])"
      ]
     },
     "execution_count": 4,
     "metadata": {},
     "output_type": "execute_result"
    }
   ],
   "source": [
    "from estnltk import Text\n",
    "st_tagger = StudyTagger()\n",
    "#text = Text('Teostatud uuringud:\\nUH uuring kõhu- ja vaagnapiirkonnast\\nUH uuring kilpnäärmest')\n",
    "#text = Text('t\\tKT uuring:üla,-keskkõht, vaagen ja lülisammas natiivis; kopsud, rindkere, mediastiinum, üla-ja keskkõht, vaagen  kontrastainega +')\n",
    "#text = Text('xa0\\n\\n\\n                                    \\n                                        ALLUURING:\\xa0T8X310\\xa0emakakael/cervix/tsütoloogia/\\xa0\\n       ')\n",
    "#text = Text('\\n UURINGUD: \\n7919.503 Röntgeniülesvõte alajäsemetest (kaks ülesvõtet).PAR. PÕLV  ')\n",
    "text = Text('Teostatud uuring:\\nTeostatud  tugeva (3T) väljaga MRT uuring ühe mähisega vasakust õlaliigesest')\n",
    "text.tag_layer()\n",
    "st_tagger.tag(text)\n",
    "text['study']"
   ]
  },
  {
   "cell_type": "markdown",
   "metadata": {},
   "source": [
    "### Diagnosis taggeri näited"
   ]
  },
  {
   "cell_type": "code",
   "execution_count": 5,
   "metadata": {},
   "outputs": [
    {
     "data": {
      "text/html": [
       "<h4>Layer</h4>\n",
       "\n",
       "<table border=\"1\" class=\"dataframe\">\n",
       "  <thead>\n",
       "    <tr style=\"text-align: right;\">\n",
       "      <th>layer name</th>\n",
       "      <th>attributes</th>\n",
       "      <th>parent</th>\n",
       "      <th>enveloping</th>\n",
       "      <th>ambiguous</th>\n",
       "      <th>span count</th>\n",
       "    </tr>\n",
       "  </thead>\n",
       "  <tbody>\n",
       "    <tr>\n",
       "      <td>diagnosis</td>\n",
       "      <td>grammar_symbol, regex_type, value, _priority_</td>\n",
       "      <td>None</td>\n",
       "      <td>None</td>\n",
       "      <td>True</td>\n",
       "      <td>1</td>\n",
       "    </tr>\n",
       "  </tbody>\n",
       "</table>\n",
       "<table border=\"1\" class=\"dataframe\">\n",
       "  <thead>\n",
       "    <tr style=\"text-align: right;\">\n",
       "      <th>text</th>\n",
       "      <th>grammar_symbol</th>\n",
       "      <th>regex_type</th>\n",
       "      <th>value</th>\n",
       "      <th>_priority_</th>\n",
       "    </tr>\n",
       "  </thead>\n",
       "  <tbody>\n",
       "    <tr>\n",
       "      <td>Saatedgn:</td>\n",
       "      <td>DIAGNOSIS</td>\n",
       "      <td>diagnosis</td>\n",
       "      <td>Saatedgn:</td>\n",
       "      <td>0</td>\n",
       "    </tr>\n",
       "  </tbody>\n",
       "</table>"
      ],
      "text/plain": [
       "Layer(name='diagnosis', attributes=('grammar_symbol', 'regex_type', 'value', '_priority_'), spans=SL[AS(start=10, end=19, text:'Saatedgn:')])"
      ]
     },
     "execution_count": 5,
     "metadata": {},
     "output_type": "execute_result"
    }
   ],
   "source": [
    "diag_tagger = DiagnosisTagger()\n",
    "#text = Text('KIRJELDUS\\nSaatediagnoos: M77.1 Külgmine põndapealisepõletik e. ')\n",
    "#text = Text('\\nSaatediagnoos: Lumbago. Paramediaalne diski prolaps L3/4,L4/5?\\n\\t')\n",
    "#text = Text('Anexate 0,2mgiv.\\n\\xa0 DGN. \\xa0Gastritis chronica. Polypus corporis')\n",
    "#text = Text('Biopsiat ei võtnud.\\nDgn.: St. post resectionem coli sigmoidei.')\n",
    "#text = Text('Objektiivselt: Kubmes umbes 1,5x4,5 cm lümfisõlmede pakett - olnud seal juba varasemast.\\n\\nDgn: kahepoolne kopsupõletik\\n        Täpsustamata tuumor?\\n        Lümfoom?\\n\\n')\n",
    "#text = Text(' DIAGNOOS: Peaaju veenva koldeleiuta. Vähesed muutused paremas põskkoopas.')\n",
    "#text = Text('Luuline rindkere on tavaline.\\nDiagnoos või otsus:\\nRöntgenoloogiliselt kopsud aktiivse infiltratiiv -koldelise leiuta.')\n",
    "#text = Text('BD normis.\\n\\t\\t\\t\\t\\xa0\\n\\t\\t\\t\\t\\n\\t\\t\\t\\t  D-s: Oesophagitis LA-A. Hernia diaphragmatica min. labentes. Gastritis chr. atrophica.')\n",
    "#text = Text('Sisearstid  \\n \\n \\nDiagnoosid  \\nRHK10 Nimetus Tüüp +-0 Diagnoos \\n')\n",
    "text = Text('\\n\\t\\t\\t\\t\\n\\t\\t\\t\\tSaatedgn: Neerukivi  paremal? \\n')\n",
    "\n",
    "text.tag_layer()\n",
    "diag_tagger.tag(text)\n",
    "text['diagnosis']"
   ]
  },
  {
   "cell_type": "code",
   "execution_count": 6,
   "metadata": {},
   "outputs": [
    {
     "data": {
      "text/html": [
       "<table border=\"1\" class=\"dataframe\">\n",
       "  <thead>\n",
       "    <tr style=\"text-align: right;\">\n",
       "      <th>text</th>\n",
       "    </tr>\n",
       "  </thead>\n",
       "  <tbody>\n",
       "    <tr>\n",
       "      <td><div align = \"left\">Põhjendus: patsient hospitaliseeritud erakorralise haigena sisehaiguste osakonda kahepoolse kopsupõletiku diagnoosiga - kaasuvana pleuraefusioon mõlemapoolselt, mis praeguseks dreneeritud.</br>Analüüsides mõõdukas põletikunäitajate tõus, CRV kuni 80 mg/l - saanud antibakteriaalset ravi Cefuroximiga, millega põletikunäitajad hea langusega. </br></br>Objektiivselt: Kubmes umbes 1,5x4,5 cm lümfisõlmede pakett - olnud seal juba varasemast.</br></br>Dgn: kahepoolne kopsupõletik</br>        Täpsustamata tuumor?</br>        Lümfoom?</br></br>Kirjeldus: Kops natiivis 7975,  mediastiinum, süda, rindkere, lülisamba rinnaosa natiivis 7976x4, kops kontrastainega 7978, mediastiinum, rindkere, lülisamba rinnaosa kontrastiga 7979x3</br>Ülakõht natiivis 7676 </br>Angiograafiafaasis kõhuaort kontrastainega 7984</br>Angiograafiafaasis neeruarterid kontrastainega 7999</br>Ülakõht, keskkõht, vaagen ja lülisamba nimmeosa kontrastainega faasis 7979 x 4</br>i/v sol ultravist 100 ml</br></br>LEID:</br></br>Kilpnääre suurenemiseta, struktuurilt ühtlane.</br>Paremal mediastiinumi 2 R regioonis üksik  1 cm diam. l-sõlm, muus osas kaelal, aksillaarsel, mediastiinumis ega hiilustes suurenenud l-sõlmi ei sedasta, </br>Süda ja mediastinaalsed suured veresooned kontrasteeruvad normipäraselt, vasak vatsake laienenud diam. 6,13 cm (norm kuni 5,7 cm)</br>Mõlemas pleuraõõnes vedelikku, paremal 3 cm kihina, vasakul 3,2 cm kihina.</br>Kopsude dorsaalsetes osades kerget matt- klaas tüüpi alveolaarset varjustust ja samuti sedastatav interstitsiaalsete septide paksenemine (enim apikaalsetes segmentides) -  viited mõõdukale interstitsiaalsele ja kergele alveolaarsele kopsutursele. &lt;ANONYM id=&quot;39&quot; type=&quot;per&quot; morph=&quot;_A_ sg abl&quot;/&gt; pneumooniale sobivaid muutusi ei sedasta.</br>&lt;ANONYM id=&quot;40&quot; type=&quot;per&quot; morph=&quot;_S_ sg tr&quot;/&gt; on mõlemas kopsus, enim subpleuraalsetes regioonides, hulgaliselt mõne mm-seid mittespetsiifilisi koldeid, maliigsekahtlaseid muutusi ei sedasta.</br>Rindkereseina pehmed koed muutusteta.</br></br>Kõht ja vaagen:</br>Maks minimaalselt suurenenud, parema sagara CC mõõt 16 cm, maksa tihedus i.i, koldelisi muutusi organis ei sedasta.</br>Sapipõie valendik vaba, seinad paksenemiseta. Sapiteede laienemist ei tähelda.</br>Põrn normaalse suuruse, struktuuri ja kujuga.</br>Pankreas ja neerupealised normaalse struktuuri ja suurusega, koldeleiuta.</br>Parema neeru ülapoolusel on kaks fokaalset hüpodensiivset ala, kus korteks õhenenud ja mittekontrasteeruv - leid sobib fokaalseteks infarktikolleteks. Muus osas on neerud normaalse suuruse ja asetsusega. Parenhüümis maliigsekahtlast ega kive ei sedasta. Paisule viited puuduvad.</br>Mõlemal neerul on 2 arterit, millede lähtekohas, paremal alumisel ja vasakul ülemisel arteril, on valendikku ahendavaid olulisi lubinaaste.</br>Mesenteriaalarterid kontrasteeruvad hinnatavas osas i.i.</br>Rinnaaordi alanevas osas ja kõhuaordi hinnatavas ülaosas on arteriaalses faasis sedastatavad hulgalised haavanduvad naastud.</br>Kõhukoopas vaba vedelikku ei sedasta.</br>Prostata maht  79 ml.</br>Põis mõõdukalt täitunud, sein paksenemiseta.</br>Paraaortaalsel ega mesenteriaalsel suurenenud l-sõlmi ei sedasta.</br>Paremal ingvinaalsel on mitmed lobulaarse kontuuriga kontrasteeruvad l-sõlmed, mis keskosast kergelt madalama  tihedusega, suurima l-sõlme mõõtmed on 2,2 x 2,7 cm, suuruselt teine l-sõlm on aksiaalis mõõtmetega 1,6 x 2,2 cm. Vasakul ingvinaalsel samuti üksik kontrasteeruv l-sõlm mõõtmetega 1 x 2,3 cm.</br>Luudes maliigsekahtlaseid muutusi ei sedasta.</br>Parema reieluu trochanter minori´ist mediaalsemal ja anterioorsemal sedastatav lihastevaheline lipoom mõõtmetega aksiaalis 4,6 x 4,8 cm (pikkust ei õnnestu mõõta, kuna lipoom osaliselt uuringu piirkonnast väljas).</br></br></br></br></br></br></br></br>Järeldus: Südame vasaku vatsakese laienemine.</br>Kopsudes turse tunnused, pleuraõõntes bilat. vedelikku, pneumooniat ei sedasta.</br>Alanevas rinnaaordis ja kõhuaordi ülaosas on hulgaliselt väikeseid haavanduvaid naaste.</br>Bilat. topelt neeruarterid, paremal alumisel ja vasakul ülemisel neeruarteril valendikku oluliselt ahendavad segatüüpi naastud. Parema neeru ülapoolusel ka väikesed infarktikolded.</br>Prostata suurenenud.</br>Paremal ingvinaalsel l-sõlmede pakett, samuti vasakul ingvinaalsel üksik suurenenud l-sõlm. Kasvaja algkoldeks sobivat ei sedasta, kahtlus pigem lümfoproliferatiivsele haigusele - diagnoosi täpsustamiseks mõeldav biopsia/ l-sõlme eemaldamine.</br></br>&lt;ANONYM id=&quot;41&quot; type=&quot;per&quot; morph=&quot;_H_ sg n;_H_ sg n&quot;/&gt; </div></td>\n",
       "    </tr>\n",
       "  </tbody>\n",
       "</table>\n",
       "<table border=\"1\" class=\"dataframe\">\n",
       "  <thead>\n",
       "    <tr style=\"text-align: right;\">\n",
       "      <th>layer name</th>\n",
       "      <th>attributes</th>\n",
       "      <th>parent</th>\n",
       "      <th>enveloping</th>\n",
       "      <th>ambiguous</th>\n",
       "      <th>span count</th>\n",
       "    </tr>\n",
       "  </thead>\n",
       "  <tbody>\n",
       "    <tr>\n",
       "      <td>sentences</td>\n",
       "      <td></td>\n",
       "      <td>None</td>\n",
       "      <td>words</td>\n",
       "      <td>False</td>\n",
       "      <td>48</td>\n",
       "    </tr>\n",
       "    <tr>\n",
       "      <td>tokens</td>\n",
       "      <td></td>\n",
       "      <td>None</td>\n",
       "      <td>None</td>\n",
       "      <td>False</td>\n",
       "      <td>709</td>\n",
       "    </tr>\n",
       "    <tr>\n",
       "      <td>compound_tokens</td>\n",
       "      <td>type, normalized</td>\n",
       "      <td>None</td>\n",
       "      <td>tokens</td>\n",
       "      <td>False</td>\n",
       "      <td>28</td>\n",
       "    </tr>\n",
       "    <tr>\n",
       "      <td>words</td>\n",
       "      <td>normalized_form</td>\n",
       "      <td>None</td>\n",
       "      <td>None</td>\n",
       "      <td>False</td>\n",
       "      <td>596</td>\n",
       "    </tr>\n",
       "    <tr>\n",
       "      <td>morph_analysis</td>\n",
       "      <td>lemma, root, root_tokens, ending, clitic, form, partofspeech</td>\n",
       "      <td>words</td>\n",
       "      <td>None</td>\n",
       "      <td>True</td>\n",
       "      <td>596</td>\n",
       "    </tr>\n",
       "    <tr>\n",
       "      <td>diagnosis</td>\n",
       "      <td>grammar_symbol, regex_type, value, _priority_</td>\n",
       "      <td>None</td>\n",
       "      <td>None</td>\n",
       "      <td>True</td>\n",
       "      <td>1</td>\n",
       "    </tr>\n",
       "    <tr>\n",
       "      <td>pricecode</td>\n",
       "      <td>grammar_symbol, regex_type, value, _priority_, price_code</td>\n",
       "      <td>None</td>\n",
       "      <td>None</td>\n",
       "      <td>True</td>\n",
       "      <td>0</td>\n",
       "    </tr>\n",
       "    <tr>\n",
       "      <td>study</td>\n",
       "      <td>grammar_symbol, regex_type, value, _priority_</td>\n",
       "      <td>None</td>\n",
       "      <td>None</td>\n",
       "      <td>True</td>\n",
       "      <td>0</td>\n",
       "    </tr>\n",
       "    <tr>\n",
       "      <td>subcategories</td>\n",
       "      <td>grammar_symbol, regex_type, value, _priority_</td>\n",
       "      <td>None</td>\n",
       "      <td>None</td>\n",
       "      <td>True</td>\n",
       "      <td>4</td>\n",
       "    </tr>\n",
       "  </tbody>\n",
       "</table>"
      ],
      "text/plain": [
       "Text(text='Põhjendus: patsient hospitaliseeritud erakorralise haigena sisehaiguste osakonda kahepoolse kopsupõletiku diagnoosiga - kaasuvana pleuraefusioon mõlemapoolselt, mis praeguseks dreneeritud.\\nAnalüüsides mõõdukas põletikunäitajate tõus, CRV kuni 80 mg/l - saanud antibakteriaalset ravi Cefuroximiga, millega põletikunäitajad hea langusega. \\n\\nObjektiivselt: Kubmes umbes 1,5x4,5 cm lümfisõlmede pakett - olnud seal juba varasemast.\\n\\nDgn: kahepoolne kopsupõletik\\n        Täpsustamata tuumor?\\n        Lümfoom?\\n\\nKirjeldus: Kops natiivis 7975,  mediastiinum, süda, rindkere, lülisamba rinnaosa natiivis 7976x4, kops kontrastainega 7978, mediastiinum, rindkere, lülisamba rinnaosa kontrastiga 7979x3\\nÜlakõht natiivis 7676 \\nAngiograafiafaasis kõhuaort kontrastainega 7984\\nAngiograafiafaasis neeruarterid kontrastainega 7999\\nÜlakõht, keskkõht, vaagen ja lülisamba nimmeosa kontrastainega faasis 7979 x 4\\ni/v sol ultravist 100 ml\\n\\nLEID:\\n\\nKilpnääre suurenemiseta, struktuurilt ühtlane.\\nParemal mediastiinumi 2 R regioonis üksik  1 cm diam. l-sõlm, muus osas kaelal, aksillaarsel, mediastiinumis ega hiilustes suurenenud l-sõlmi ei sedasta, \\nSüda ja mediastinaalsed suured veresooned kontrasteeruvad normipäraselt, vasak vatsake laienenud diam. 6,13 cm (norm kuni 5,7 cm)\\nMõlemas pleuraõõnes vedelikku, paremal 3 cm kihina, vasakul 3,2 cm kihina.\\nKopsude dorsaalsetes osades kerget matt- klaas tüüpi alveolaarset varjustust ja samuti sedastatav interstitsiaalsete septide paksenemine (enim apikaalsetes segmentides) -  viited mõõdukale interstitsiaalsele ja kergele alveolaarsele kopsutursele. <ANONYM id=\"39\" type=\"per\" morph=\"_A_ sg abl\"/> pneumooniale sobivaid muutusi ei sedasta.\\n<ANONYM id=\"40\" type=\"per\" morph=\"_S_ sg tr\"/> on mõlemas kopsus, enim subpleuraalsetes regioonides, hulgaliselt mõne mm-seid mittespetsiifilisi koldeid, maliigsekahtlaseid muutusi ei sedasta.\\nRindkereseina pehmed koed muutusteta.\\n\\nKõht ja vaagen:\\nMaks minimaalselt suurenenud, parema sagara CC mõõt 16 cm, maksa tihedus i.i, koldelisi muutusi organis ei sedasta.\\nSapipõie valendik vaba, seinad paksenemiseta. Sapiteede laienemist ei tähelda.\\nPõrn normaalse suuruse, struktuuri ja kujuga.\\nPankreas ja neerupealised normaalse struktuuri ja suurusega, koldeleiuta.\\nParema neeru ülapoolusel on kaks fokaalset hüpodensiivset ala, kus korteks õhenenud ja mittekontrasteeruv - leid sobib fokaalseteks infarktikolleteks. Muus osas on neerud normaalse suuruse ja asetsusega. Parenhüümis maliigsekahtlast ega kive ei sedasta. Paisule viited puuduvad.\\nMõlemal neerul on 2 arterit, millede lähtekohas, paremal alumisel ja vasakul ülemisel arteril, on valendikku ahendavaid olulisi lubinaaste.\\nMesenteriaalarterid kontrasteeruvad hinnatavas osas i.i.\\nRinnaaordi alanevas osas ja kõhuaordi hinnatavas ülaosas on arteriaalses faasis sedastatavad hulgalised haavanduvad naastud.\\nKõhukoopas vaba vedelikku ei sedasta.\\nProstata maht  79 ml.\\nPõis mõõdukalt täitunud, sein paksenemiseta.\\nParaaortaalsel ega mesenteriaalsel suurenenud l-sõlmi ei sedasta.\\nParemal ingvinaalsel on mitmed lobulaarse kontuuriga kontrasteeruvad l-sõlmed, mis keskosast kergelt madalama  tihedusega, suurima l-sõlme mõõtmed on 2,2 x 2,7 cm, suuruselt teine l-sõlm on aksiaalis mõõtmetega 1,6 x 2,2 cm. Vasakul ingvinaalsel samuti üksik kontrasteeruv l-sõlm mõõtmetega 1 x 2,3 cm.\\nLuudes maliigsekahtlaseid muutusi ei sedasta.\\nParema reieluu trochanter minori´ist mediaalsemal ja anterioorsemal sedastatav lihastevaheline lipoom mõõtmetega aksiaalis 4,6 x 4,8 cm (pikkust ei õnnestu mõõta, kuna lipoom osaliselt uuringu piirkonnast väljas).\\n\\n\\n\\n\\n\\n\\n\\nJäreldus: Südame vasaku vatsakese laienemine.\\nKopsudes turse tunnused, pleuraõõntes bilat. vedelikku, pneumooniat ei sedasta.\\nAlanevas rinnaaordis ja kõhuaordi ülaosas on hulgaliselt väikeseid haavanduvaid naaste.\\nBilat. topelt neeruarterid, paremal alumisel ja vasakul ülemisel neeruarteril valendikku oluliselt ahendavad segatüüpi naastud. Parema neeru ülapoolusel ka väikesed infarktikolded.\\nProstata suurenenud.\\nParemal ingvinaalsel l-sõlmede pakett, samuti vasakul ingvinaalsel üksik suurenenud l-sõlm. Kasvaja algkoldeks sobivat ei sedasta, kahtlus pigem lümfoproliferatiivsele haigusele - diagnoosi täpsustamiseks mõeldav biopsia/ l-sõlme eemaldamine.\\n\\n<ANONYM id=\"41\" type=\"per\" morph=\"_H_ sg n;_H_ sg n\"/> ')"
      ]
     },
     "execution_count": 6,
     "metadata": {},
     "output_type": "execute_result"
    }
   ],
   "source": [
    "text = Text('Põhjendus: patsient hospitaliseeritud erakorralise haigena sisehaiguste osakonda kahepoolse kopsupõletiku diagnoosiga - kaasuvana pleuraefusioon mõlemapoolselt, mis praeguseks dreneeritud.\\nAnalüüsides mõõdukas põletikunäitajate tõus, CRV kuni 80 mg/l - saanud antibakteriaalset ravi Cefuroximiga, millega põletikunäitajad hea langusega. \\n\\nObjektiivselt: Kubmes umbes 1,5x4,5 cm lümfisõlmede pakett - olnud seal juba varasemast.\\n\\nDgn: kahepoolne kopsupõletik\\n        Täpsustamata tuumor?\\n        Lümfoom?\\n\\nKirjeldus: Kops natiivis 7975,  mediastiinum, süda, rindkere, lülisamba rinnaosa natiivis 7976x4, kops kontrastainega 7978, mediastiinum, rindkere, lülisamba rinnaosa kontrastiga 7979x3\\nÜlakõht natiivis 7676 \\nAngiograafiafaasis kõhuaort kontrastainega 7984\\nAngiograafiafaasis neeruarterid kontrastainega 7999\\nÜlakõht, keskkõht, vaagen ja lülisamba nimmeosa kontrastainega faasis 7979 x 4\\ni/v sol ultravist 100 ml\\n\\nLEID:\\n\\nKilpnääre suurenemiseta, struktuurilt ühtlane.\\nParemal mediastiinumi 2 R regioonis üksik  1 cm diam. l-sõlm, muus osas kaelal, aksillaarsel, mediastiinumis ega hiilustes suurenenud l-sõlmi ei sedasta, \\nSüda ja mediastinaalsed suured veresooned kontrasteeruvad normipäraselt, vasak vatsake laienenud diam. 6,13 cm (norm kuni 5,7 cm)\\nMõlemas pleuraõõnes vedelikku, paremal 3 cm kihina, vasakul 3,2 cm kihina.\\nKopsude dorsaalsetes osades kerget matt- klaas tüüpi alveolaarset varjustust ja samuti sedastatav interstitsiaalsete septide paksenemine (enim apikaalsetes segmentides) -  viited mõõdukale interstitsiaalsele ja kergele alveolaarsele kopsutursele. <ANONYM id=\"39\" type=\"per\" morph=\"_A_ sg abl\"/> pneumooniale sobivaid muutusi ei sedasta.\\n<ANONYM id=\"40\" type=\"per\" morph=\"_S_ sg tr\"/> on mõlemas kopsus, enim subpleuraalsetes regioonides, hulgaliselt mõne mm-seid mittespetsiifilisi koldeid, maliigsekahtlaseid muutusi ei sedasta.\\nRindkereseina pehmed koed muutusteta.\\n\\nKõht ja vaagen:\\nMaks minimaalselt suurenenud, parema sagara CC mõõt 16 cm, maksa tihedus i.i, koldelisi muutusi organis ei sedasta.\\nSapipõie valendik vaba, seinad paksenemiseta. Sapiteede laienemist ei tähelda.\\nPõrn normaalse suuruse, struktuuri ja kujuga.\\nPankreas ja neerupealised normaalse struktuuri ja suurusega, koldeleiuta.\\nParema neeru ülapoolusel on kaks fokaalset hüpodensiivset ala, kus korteks õhenenud ja mittekontrasteeruv - leid sobib fokaalseteks infarktikolleteks. Muus osas on neerud normaalse suuruse ja asetsusega. Parenhüümis maliigsekahtlast ega kive ei sedasta. Paisule viited puuduvad.\\nMõlemal neerul on 2 arterit, millede lähtekohas, paremal alumisel ja vasakul ülemisel arteril, on valendikku ahendavaid olulisi lubinaaste.\\nMesenteriaalarterid kontrasteeruvad hinnatavas osas i.i.\\nRinnaaordi alanevas osas ja kõhuaordi hinnatavas ülaosas on arteriaalses faasis sedastatavad hulgalised haavanduvad naastud.\\nKõhukoopas vaba vedelikku ei sedasta.\\nProstata maht  79 ml.\\nPõis mõõdukalt täitunud, sein paksenemiseta.\\nParaaortaalsel ega mesenteriaalsel suurenenud l-sõlmi ei sedasta.\\nParemal ingvinaalsel on mitmed lobulaarse kontuuriga kontrasteeruvad l-sõlmed, mis keskosast kergelt madalama  tihedusega, suurima l-sõlme mõõtmed on 2,2 x 2,7 cm, suuruselt teine l-sõlm on aksiaalis mõõtmetega 1,6 x 2,2 cm. Vasakul ingvinaalsel samuti üksik kontrasteeruv l-sõlm mõõtmetega 1 x 2,3 cm.\\nLuudes maliigsekahtlaseid muutusi ei sedasta.\\nParema reieluu trochanter minori´ist mediaalsemal ja anterioorsemal sedastatav lihastevaheline lipoom mõõtmetega aksiaalis 4,6 x 4,8 cm (pikkust ei õnnestu mõõta, kuna lipoom osaliselt uuringu piirkonnast väljas).\\n\\n\\n\\n\\n\\n\\n\\nJäreldus: Südame vasaku vatsakese laienemine.\\nKopsudes turse tunnused, pleuraõõntes bilat. vedelikku, pneumooniat ei sedasta.\\nAlanevas rinnaaordis ja kõhuaordi ülaosas on hulgaliselt väikeseid haavanduvaid naaste.\\nBilat. topelt neeruarterid, paremal alumisel ja vasakul ülemisel neeruarteril valendikku oluliselt ahendavad segatüüpi naastud. Parema neeru ülapoolusel ka väikesed infarktikolded.\\nProstata suurenenud.\\nParemal ingvinaalsel l-sõlmede pakett, samuti vasakul ingvinaalsel üksik suurenenud l-sõlm. Kasvaja algkoldeks sobivat ei sedasta, kahtlus pigem lümfoproliferatiivsele haigusele - diagnoosi täpsustamiseks mõeldav biopsia/ l-sõlme eemaldamine.\\n\\n<ANONYM id=\"41\" type=\"per\" morph=\"_H_ sg n;_H_ sg n\"/> ')\n",
    "\n",
    "text.tag_layer()\n",
    "diag_tagger.tag(text)\n",
    "st_tagger.tag(text)\n",
    "subc_tagger.tag(text)\n",
    "pr_tagger.tag(text)\n",
    "\n",
    "text"
   ]
  }
 ],
 "metadata": {
  "kernelspec": {
   "display_name": "Python [conda env:praktika] *",
   "language": "python",
   "name": "conda-env-praktika-py"
  },
  "language_info": {
   "codemirror_mode": {
    "name": "ipython",
    "version": 3
   },
   "file_extension": ".py",
   "mimetype": "text/x-python",
   "name": "python",
   "nbconvert_exporter": "python",
   "pygments_lexer": "ipython3",
   "version": "3.6.8"
  }
 },
 "nbformat": 4,
 "nbformat_minor": 2
}
