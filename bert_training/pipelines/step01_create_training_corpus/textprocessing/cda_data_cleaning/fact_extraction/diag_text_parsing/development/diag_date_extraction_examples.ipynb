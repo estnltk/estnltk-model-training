{
 "cells": [
  {
   "cell_type": "code",
   "execution_count": 1,
   "metadata": {},
   "outputs": [
    {
     "name": "stdout",
     "output_type": "stream",
     "text": [
      "INFO:base_parser.py:30: Loaded []\n"
     ]
    }
   ],
   "source": [
    "from estnltk import Text\n",
    "from cda_data_cleaning.fact_extraction.measurement_extraction.taggers.robust_date_number_tagger.robust_date_number_tagger import RobustDateNumberTagger"
   ]
  },
  {
   "cell_type": "code",
   "execution_count": 2,
   "metadata": {},
   "outputs": [],
   "source": [
    "texts = ['Kaasasündinud healoomuline neurofibromatoos\\nNF1 geenis muutus NM_001042492.2:c.6855C>G (valgus: NP_001035957.1:p.Tyr2285Ter)',\n",
    "'9.11.15 parema jala amputatsioon säärest',\n",
    "'Hepatitis chronica viralis C (G1B, F1-2014, suur viiruskogus, IL28B TT)',\n",
    "'Lülilibisemine e spondülolistees (op 27.5.14)',\n",
    "'Ab. artef. legalis in h.10\\n',\n",
    "'Hüpertooniatõbi e essentsiaalne arteriaalne hüpertensioon,1',\n",
    "'Trombophilia, <ANONYM id=\"2\" type=\"per\" morph=\"_H_ sg g\"/> heterosügootne mutatsioon + protrombiini geeni c.20210G heterospgootne mutatsioon']"
   ]
  },
  {
   "cell_type": "code",
   "execution_count": 10,
   "metadata": {},
   "outputs": [
    {
     "name": "stdout",
     "output_type": "stream",
     "text": [
      "Kaasasündinud healoomuline neurofibromatoos\n",
      "NF1 geenis muutus NM_001042492.2:c.6855C>G (valgus: NP_001035957.1:p.Tyr2285Ter)\n",
      "['1', '010424', '2.2', '010359', '7.1', '2285'] ['anynumber', 'date4', 'date5', 'date4', 'date5', 'anynumber']\n",
      "\n",
      "9.11.15 parema jala amputatsioon säärest\n",
      "['9.11'] ['anynumber']\n",
      "\n",
      "Hepatitis chronica viralis C (G1B, F1-2014, suur viiruskogus, IL28B TT)\n",
      "['1', '1', '2014', '28'] ['anynumber', 'anynumber', 'date9', 'anynumber']\n",
      "\n",
      "Lülilibisemine e spondülolistees (op 27.5.14)\n",
      "['27.5'] ['anynumber']\n",
      "\n",
      "Ab. artef. legalis in h.10\n",
      "[] []\n",
      "\n",
      "Hüpertooniatõbi e essentsiaalne arteriaalne hüpertensioon,1\n",
      "[] []\n",
      "\n",
      "Trombophilia, <ANONYM id=\"2\" type=\"per\" morph=\"_H_ sg g\"/> heterosügootne mutatsioon + protrombiini geeni c.20210G heterospgootne mutatsioon\n",
      "['2', '2021', '0'] ['anynumber', 'date9', 'datenum']\n",
      "\n"
     ]
    }
   ],
   "source": [
    "tagger = RobustDateNumberTagger()\n",
    "\n",
    "for text in texts:\n",
    "    text = Text(text)\n",
    "    tagger.tag(text)\n",
    "    regex_types = [x[0] for x in text.layers['dates_numbers'].regex_type]\n",
    "    print(text.text.strip())\n",
    "    print(text.layers['dates_numbers'].text, regex_types)\n",
    "    print()"
   ]
  }
 ],
 "metadata": {
  "kernelspec": {
   "display_name": "Python [conda env:praktika] *",
   "language": "python",
   "name": "conda-env-praktika-py"
  },
  "language_info": {
   "codemirror_mode": {
    "name": "ipython",
    "version": 3
   },
   "file_extension": ".py",
   "mimetype": "text/x-python",
   "name": "python",
   "nbconvert_exporter": "python",
   "pygments_lexer": "ipython3",
   "version": "3.6.8"
  }
 },
 "nbformat": 4,
 "nbformat_minor": 2
}
