{
 "cells": [
  {
   "cell_type": "code",
   "execution_count": 1,
   "metadata": {},
   "outputs": [],
   "source": [
    "from diag_stage_tagger import DiagnosisStageTagger\n",
    "from estnltk import Text"
   ]
  },
  {
   "cell_type": "code",
   "execution_count": 2,
   "metadata": {},
   "outputs": [],
   "source": [
    "tagger = DiagnosisStageTagger()"
   ]
  },
  {
   "cell_type": "code",
   "execution_count": 9,
   "metadata": {},
   "outputs": [
    {
     "data": {
      "text/html": [
       "<h4>Layer</h4>\n",
       "\n",
       "<table border=\"1\" class=\"dataframe\">\n",
       "  <thead>\n",
       "    <tr style=\"text-align: right;\">\n",
       "      <th>layer name</th>\n",
       "      <th>attributes</th>\n",
       "      <th>parent</th>\n",
       "      <th>enveloping</th>\n",
       "      <th>ambiguous</th>\n",
       "      <th>span count</th>\n",
       "    </tr>\n",
       "  </thead>\n",
       "  <tbody>\n",
       "    <tr>\n",
       "      <td>stages</td>\n",
       "      <td>grammar_symbol, regex_type, value, _priority_</td>\n",
       "      <td>None</td>\n",
       "      <td>None</td>\n",
       "      <td>True</td>\n",
       "      <td>3</td>\n",
       "    </tr>\n",
       "  </tbody>\n",
       "</table>\n",
       "<table border=\"1\" class=\"dataframe\">\n",
       "  <thead>\n",
       "    <tr style=\"text-align: right;\">\n",
       "      <th>text</th>\n",
       "      <th>grammar_symbol</th>\n",
       "      <th>regex_type</th>\n",
       "      <th>value</th>\n",
       "      <th>_priority_</th>\n",
       "    </tr>\n",
       "  </thead>\n",
       "  <tbody>\n",
       "    <tr>\n",
       "      <td>III aste</td>\n",
       "      <td>DEGREE</td>\n",
       "      <td>degree</td>\n",
       "      <td>III</td>\n",
       "      <td>0</td>\n",
       "    </tr>\n",
       "    <tr>\n",
       "      <td>III staadium</td>\n",
       "      <td>STAGE</td>\n",
       "      <td>stage_1</td>\n",
       "      <td>III</td>\n",
       "      <td>0</td>\n",
       "    </tr>\n",
       "    <tr>\n",
       "      <td>Riskiaste 3</td>\n",
       "      <td>RISK_DEGREE</td>\n",
       "      <td>risk_degree</td>\n",
       "      <td>3</td>\n",
       "      <td>0</td>\n",
       "    </tr>\n",
       "  </tbody>\n",
       "</table>"
      ],
      "text/plain": [
       "Layer(name='stages', attributes=('grammar_symbol', 'regex_type', 'value', '_priority_'), spans=SL[AS(start=0, end=8, text:'III aste'),\n",
       "AS(start=26, end=38, text:'III staadium'),\n",
       "AS(start=55, end=66, text:'Riskiaste 3')])"
      ]
     },
     "execution_count": 9,
     "metadata": {},
     "output_type": "execute_result"
    }
   ],
   "source": [
    "t1 = \"III aste, organkahjustuse III staadium, ülikõrge risk; Riskiaste 3\"\n",
    "t2 = \"I-II aste, metaboolne sündroom; Riskiaste 2\"\n",
    "t3 = \"vasaku jala I varba gangreen; Diagnoosi staadium IV\"\n",
    "t4 = \"IV B staadium\"\n",
    "t5 = \"III-IV staadium, põhjustatud diabeetilisest nefropaatiast\"\n",
    "t6 = \"dekompensatsioon (kopsuturse), III st. NYHA\"\n",
    "t7 = \"krooniline, III st NYHA, parempoolne fluidotooraks\"\n",
    "\n",
    "text = Text(t1)\n",
    "tagger.tag(text)\n",
    "text['stages']"
   ]
  },
  {
   "cell_type": "markdown",
   "metadata": {},
   "source": [
    "Tagitavate elementide sagedused diagnoosidel \n",
    "\n",
    "**I(-IV) staadium/st**: I11 - 268, I50 - 93, I70 - 85, N18 - 73, I10 - 71, J44 - 50, C91 - 26, D86 - 22, N80 - 19, I13 - 12\n",
    "\n",
    "\n",
    "**Staadium III**: I70 - 191, M45 - 8, M05 - 3, M06 - 1, M07 - 1\n",
    "\n",
    "\n",
    "**Riskiaste 3**: I11 - 5057, I10 - 1093, I15 - 501, I13 - 183, I12 - 22\n",
    "\n",
    "\n",
    "**I(-II) aste**: I11 - 788, I10 - 184, I50 - 130, M06 - 15, I15 - 12, I13 - 11, N80 - 9, I84 - 9, N97 - 8, E66 - 4"
   ]
  }
 ],
 "metadata": {
  "kernelspec": {
   "display_name": "Python [conda env:praktika] *",
   "language": "python",
   "name": "conda-env-praktika-py"
  },
  "language_info": {
   "codemirror_mode": {
    "name": "ipython",
    "version": 3
   },
   "file_extension": ".py",
   "mimetype": "text/x-python",
   "name": "python",
   "nbconvert_exporter": "python",
   "pygments_lexer": "ipython3",
   "version": "3.6.8"
  }
 },
 "nbformat": 4,
 "nbformat_minor": 2
}
