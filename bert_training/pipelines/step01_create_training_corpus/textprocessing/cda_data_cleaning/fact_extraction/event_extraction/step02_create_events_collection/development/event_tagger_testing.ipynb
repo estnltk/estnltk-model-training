{
 "cells": [
  {
   "cell_type": "code",
   "execution_count": 1,
   "metadata": {},
   "outputs": [],
   "source": [
    "from estnltk import Text"
   ]
  },
  {
   "cell_type": "code",
   "execution_count": 2,
   "metadata": {},
   "outputs": [
    {
     "data": {
      "text/plain": [
       "'/home/dage/Desktop/cda-data-cleaning/cda_data_cleaning/event_extraction/developement'"
      ]
     },
     "execution_count": 2,
     "metadata": {},
     "output_type": "execute_result"
    }
   ],
   "source": [
    "pwd"
   ]
  },
  {
   "cell_type": "code",
   "execution_count": 3,
   "metadata": {},
   "outputs": [
    {
     "name": "stdout",
     "output_type": "stream",
     "text": [
      "/home/dage/Desktop/cda-data-cleaning/cda_data_cleaning/event_extraction\n"
     ]
    }
   ],
   "source": [
    "cd .."
   ]
  },
  {
   "cell_type": "code",
   "execution_count": 2,
   "metadata": {},
   "outputs": [],
   "source": [
    "from taggers.event_token_tagger import EventTokenTagger"
   ]
  },
  {
   "cell_type": "code",
   "execution_count": 5,
   "metadata": {},
   "outputs": [],
   "source": [
    "event_token_tagger = EventTokenTagger(output_layer = 'event_tokens')"
   ]
  },
  {
   "cell_type": "code",
   "execution_count": 19,
   "metadata": {},
   "outputs": [],
   "source": [
    "a = '''07.01.2011 08:19 - <ANONYM id=\"0\" type=\"per\" morph=\"_H_ sg g,_H_ pl g\"/>, <ANONYM id=\"1\" type=\"per\" morph=\"_H_ sg n\"/> - D03659 - E170 - kardioloogia a\n",
    "kaebused oktoobrist alates ebamääraseid valusid südame piirkonnas , käimisel hingeldus, jalgadel turseid ei ole,  kerged subfebriilsed temperatuurid, mida on kirjeldatud ka 2008a  dokumentides.'''  "
   ]
  },
  {
   "cell_type": "code",
   "execution_count": 7,
   "metadata": {},
   "outputs": [],
   "source": [
    "b = '''07.01.2011 08:19 - METS, MARI - D03659 - E170 - kardioloogia \n",
    "kaebused oktoobrist alates ebamääraseid valusid südame piirkonnas , käimisel hingeldus, jalgadel turseid ei ole,  kerged subfebriilsed temperatuurid, mida on kirjeldatud ka 2008a  dokumentides.'''  "
   ]
  },
  {
   "cell_type": "code",
   "execution_count": 8,
   "metadata": {},
   "outputs": [],
   "source": [
    "c = '07.01.2011 08:19 Kokkuvõte: blablaa'"
   ]
  },
  {
   "cell_type": "code",
   "execution_count": 9,
   "metadata": {},
   "outputs": [],
   "source": [
    "d = '07.01.2011 08:19 - <ANONYM id=\"0\" type=\"per\" morph=\"_H_ sg g,_H_ pl g\"/>, <ANONYM id=\"1\" type=\"per\" morph=\"_H_ sg n\"/>'"
   ]
  },
  {
   "cell_type": "code",
   "execution_count": 10,
   "metadata": {},
   "outputs": [],
   "source": [
    "from estnltk import Text"
   ]
  },
  {
   "cell_type": "code",
   "execution_count": 20,
   "metadata": {},
   "outputs": [],
   "source": [
    "ex1 = Text(a)"
   ]
  },
  {
   "cell_type": "code",
   "execution_count": 21,
   "metadata": {},
   "outputs": [
    {
     "data": {
      "text/html": [
       "<table border=\"1\" class=\"dataframe\">\n",
       "  <thead>\n",
       "    <tr style=\"text-align: right;\">\n",
       "      <th>text</th>\n",
       "    </tr>\n",
       "  </thead>\n",
       "  <tbody>\n",
       "    <tr>\n",
       "      <td><div align = \"left\">07.01.2011 08:19 - &lt;ANONYM id=&quot;0&quot; type=&quot;per&quot; morph=&quot;_H_ sg g,_H_ pl g&quot;/&gt;, &lt;ANONYM id=&quot;1&quot; type=&quot;per&quot; morph=&quot;_H_ sg n&quot;/&gt; - D03659 - E170 - kardioloogia a</br>kaebused oktoobrist alates ebamääraseid valusid südame piirkonnas , käimisel hingeldus, jalgadel turseid ei ole,  kerged subfebriilsed temperatuurid, mida on kirjeldatud ka 2008a  dokumentides.</div></td>\n",
       "    </tr>\n",
       "  </tbody>\n",
       "</table>\n",
       "<table border=\"1\" class=\"dataframe\">\n",
       "  <thead>\n",
       "    <tr style=\"text-align: right;\">\n",
       "      <th>layer name</th>\n",
       "      <th>attributes</th>\n",
       "      <th>parent</th>\n",
       "      <th>enveloping</th>\n",
       "      <th>ambiguous</th>\n",
       "      <th>span count</th>\n",
       "    </tr>\n",
       "  </thead>\n",
       "  <tbody>\n",
       "    <tr>\n",
       "      <td>event_tokens</td>\n",
       "      <td>grammar_symbol, unit_type, value, specialty_code, specialty, regex_type</td>\n",
       "      <td>None</td>\n",
       "      <td>None</td>\n",
       "      <td>True</td>\n",
       "      <td>9</td>\n",
       "    </tr>\n",
       "  </tbody>\n",
       "</table>"
      ],
      "text/plain": [
       "Text(text='07.01.2011 08:19 - <ANONYM id=\"0\" type=\"per\" morph=\"_H_ sg g,_H_ pl g\"/>, <ANONYM id=\"1\" type=\"per\" morph=\"_H_ sg n\"/> - D03659 - E170 - kardioloogia a\\nkaebused oktoobrist alates ebamääraseid valusid südame piirkonnas , käimisel hingeldus, jalgadel turseid ei ole,  kerged subfebriilsed temperatuurid, mida on kirjeldatud ka 2008a  dokumentides.')"
      ]
     },
     "execution_count": 21,
     "metadata": {},
     "output_type": "execute_result"
    }
   ],
   "source": [
    "event_token_tagger.tag(ex1)"
   ]
  },
  {
   "cell_type": "code",
   "execution_count": null,
   "metadata": {},
   "outputs": [],
   "source": []
  },
  {
   "cell_type": "code",
   "execution_count": 22,
   "metadata": {},
   "outputs": [],
   "source": [
    "from taggers.event_tagger2 import EventTagger\n",
    "event_tagger = EventTagger()"
   ]
  },
  {
   "cell_type": "code",
   "execution_count": 23,
   "metadata": {},
   "outputs": [
    {
     "data": {
      "text/html": [
       "<table border=\"1\" class=\"dataframe\">\n",
       "  <thead>\n",
       "    <tr style=\"text-align: right;\">\n",
       "      <th>text</th>\n",
       "    </tr>\n",
       "  </thead>\n",
       "  <tbody>\n",
       "    <tr>\n",
       "      <td><div align = \"left\">07.01.2011 08:19 - &lt;ANONYM id=&quot;0&quot; type=&quot;per&quot; morph=&quot;_H_ sg g,_H_ pl g&quot;/&gt;, &lt;ANONYM id=&quot;1&quot; type=&quot;per&quot; morph=&quot;_H_ sg n&quot;/&gt; - D03659 - E170 - kardioloogia a</br>kaebused oktoobrist alates ebamääraseid valusid südame piirkonnas , käimisel hingeldus, jalgadel turseid ei ole,  kerged subfebriilsed temperatuurid, mida on kirjeldatud ka 2008a  dokumentides.</div></td>\n",
       "    </tr>\n",
       "  </tbody>\n",
       "</table>\n",
       "<table border=\"1\" class=\"dataframe\">\n",
       "  <thead>\n",
       "    <tr style=\"text-align: right;\">\n",
       "      <th>layer name</th>\n",
       "      <th>attributes</th>\n",
       "      <th>parent</th>\n",
       "      <th>enveloping</th>\n",
       "      <th>ambiguous</th>\n",
       "      <th>span count</th>\n",
       "    </tr>\n",
       "  </thead>\n",
       "  <tbody>\n",
       "    <tr>\n",
       "      <td>event_tokens</td>\n",
       "      <td>grammar_symbol, unit_type, value, specialty_code, specialty, regex_type</td>\n",
       "      <td>None</td>\n",
       "      <td>None</td>\n",
       "      <td>True</td>\n",
       "      <td>9</td>\n",
       "    </tr>\n",
       "    <tr>\n",
       "      <td>events</td>\n",
       "      <td>DATE, HEADERWORD, DOCTOR, DOCTOR_CODE, SPECIALTY, SPECIALTY_CODE, ANONYM</td>\n",
       "      <td>None</td>\n",
       "      <td>event_tokens</td>\n",
       "      <td>True</td>\n",
       "      <td>1</td>\n",
       "    </tr>\n",
       "  </tbody>\n",
       "</table>"
      ],
      "text/plain": [
       "Text(text='07.01.2011 08:19 - <ANONYM id=\"0\" type=\"per\" morph=\"_H_ sg g,_H_ pl g\"/>, <ANONYM id=\"1\" type=\"per\" morph=\"_H_ sg n\"/> - D03659 - E170 - kardioloogia a\\nkaebused oktoobrist alates ebamääraseid valusid südame piirkonnas , käimisel hingeldus, jalgadel turseid ei ole,  kerged subfebriilsed temperatuurid, mida on kirjeldatud ka 2008a  dokumentides.')"
      ]
     },
     "execution_count": 23,
     "metadata": {},
     "output_type": "execute_result"
    }
   ],
   "source": [
    "event_tagger.tag(ex1)"
   ]
  },
  {
   "cell_type": "code",
   "execution_count": 15,
   "metadata": {},
   "outputs": [
    {
     "data": {
      "text/html": [
       "<h4>Layer</h4>\n",
       "\n",
       "<table border=\"1\" class=\"dataframe\">\n",
       "  <thead>\n",
       "    <tr style=\"text-align: right;\">\n",
       "      <th>layer name</th>\n",
       "      <th>attributes</th>\n",
       "      <th>parent</th>\n",
       "      <th>enveloping</th>\n",
       "      <th>ambiguous</th>\n",
       "      <th>span count</th>\n",
       "    </tr>\n",
       "  </thead>\n",
       "  <tbody>\n",
       "    <tr>\n",
       "      <td>event_tokens</td>\n",
       "      <td>grammar_symbol, unit_type, value, specialty_code, specialty, regex_type</td>\n",
       "      <td>None</td>\n",
       "      <td>None</td>\n",
       "      <td>True</td>\n",
       "      <td>10</td>\n",
       "    </tr>\n",
       "  </tbody>\n",
       "</table>\n",
       "<table border=\"1\" class=\"dataframe\">\n",
       "  <thead>\n",
       "    <tr style=\"text-align: right;\">\n",
       "      <th>text</th>\n",
       "      <th>grammar_symbol</th>\n",
       "      <th>unit_type</th>\n",
       "      <th>value</th>\n",
       "      <th>specialty_code</th>\n",
       "      <th>specialty</th>\n",
       "      <th>regex_type</th>\n",
       "    </tr>\n",
       "  </thead>\n",
       "  <tbody>\n",
       "    <tr>\n",
       "      <td>07.01.2011 08:19</td>\n",
       "      <td>DATE</td>\n",
       "      <td>None</td>\n",
       "      <td>07.01.2011 08:19</td>\n",
       "      <td>None</td>\n",
       "      <td>None</td>\n",
       "      <td>date</td>\n",
       "    </tr>\n",
       "    <tr>\n",
       "      <td>&lt;ANONYM id=\"0\" type=\"per\" morph=\"_H_ sg g,_H_ pl g\"/&gt;</td>\n",
       "      <td>ANONYM</td>\n",
       "      <td>None</td>\n",
       "      <td>&lt;ANONYM id=\"0\" type=\"per\" morph=\"_H_ sg g,_H_ pl g\"/&gt;</td>\n",
       "      <td>None</td>\n",
       "      <td>None</td>\n",
       "      <td>anonym</td>\n",
       "    </tr>\n",
       "    <tr>\n",
       "      <td>&lt;ANONYM id=\"1\" type=\"per\" morph=\"_H_ sg n\"/&gt;</td>\n",
       "      <td>ANONYM</td>\n",
       "      <td>None</td>\n",
       "      <td>&lt;ANONYM id=\"1\" type=\"per\" morph=\"_H_ sg n\"/&gt;</td>\n",
       "      <td>None</td>\n",
       "      <td>None</td>\n",
       "      <td>anonym</td>\n",
       "    </tr>\n",
       "    <tr>\n",
       "      <td>D03659</td>\n",
       "      <td>DOCTOR_CODE</td>\n",
       "      <td>None</td>\n",
       "      <td>D03659</td>\n",
       "      <td>None</td>\n",
       "      <td>None</td>\n",
       "      <td>doctor_code</td>\n",
       "    </tr>\n",
       "    <tr>\n",
       "      <td>E170 - kardioloogia \\n</td>\n",
       "      <td>SPECIALTY</td>\n",
       "      <td>None</td>\n",
       "      <td>whatever</td>\n",
       "      <td>E170</td>\n",
       "      <td>kardioloogia</td>\n",
       "      <td>specialty</td>\n",
       "    </tr>\n",
       "    <tr>\n",
       "      <td>kaebused oktoobrist alates ebamääraseid valusid südame piirkonnas , käimisel</td>\n",
       "      <td>RANDOM_TEXT</td>\n",
       "      <td>None</td>\n",
       "      <td>None</td>\n",
       "      <td>None</td>\n",
       "      <td>None</td>\n",
       "      <td>None</td>\n",
       "    </tr>\n",
       "    <tr>\n",
       "      <td>hingeldus, jalgadel</td>\n",
       "      <td>DOCTOR</td>\n",
       "      <td>None</td>\n",
       "      <td>hingeldus, jalgadel</td>\n",
       "      <td>None</td>\n",
       "      <td>None</td>\n",
       "      <td>doctor</td>\n",
       "    </tr>\n",
       "    <tr>\n",
       "      <td>turseid ei ole,  kerged subfebriilsed</td>\n",
       "      <td>RANDOM_TEXT</td>\n",
       "      <td>None</td>\n",
       "      <td>None</td>\n",
       "      <td>None</td>\n",
       "      <td>None</td>\n",
       "      <td>None</td>\n",
       "    </tr>\n",
       "    <tr>\n",
       "      <td>temperatuurid, mida</td>\n",
       "      <td>DOCTOR</td>\n",
       "      <td>None</td>\n",
       "      <td>temperatuurid, mida</td>\n",
       "      <td>None</td>\n",
       "      <td>None</td>\n",
       "      <td>doctor</td>\n",
       "    </tr>\n",
       "    <tr>\n",
       "      <td>on kirjeldatud ka 2008a  dokumentides</td>\n",
       "      <td>RANDOM_TEXT</td>\n",
       "      <td>None</td>\n",
       "      <td>None</td>\n",
       "      <td>None</td>\n",
       "      <td>None</td>\n",
       "      <td>None</td>\n",
       "    </tr>\n",
       "  </tbody>\n",
       "</table>"
      ],
      "text/plain": [
       "Layer(name='event_tokens', attributes=('grammar_symbol', 'unit_type', 'value', 'specialty_code', 'specialty', 'regex_type'), spans=SL[AS(start=0, end=16, text:'07.01.2011 08:19'),\n",
       "AS(start=19, end=72, text:'<ANONYM id=\"0\" type=\"per\" morph=\"_H_ sg g,_H_ pl g\"/>'),\n",
       "AS(start=74, end=118, text:'<ANONYM id=\"1\" type=\"per\" morph=\"_H_ sg n\"/>'),\n",
       "AS(start=121, end=127, text:'D03659'),\n",
       "AS(start=130, end=151, text:'E170 - kardioloogia \\n'),\n",
       "AS(start=151, end=227, text:'kaebused oktoobrist alates ebamääraseid valusid südame piirkonnas , käimisel'),\n",
       "AS(start=228, end=247, text:'hingeldus, jalgadel'),\n",
       "AS(start=248, end=285, text:'turseid ei ole,  kerged subfebriilsed'),\n",
       "AS(start=286, end=305, text:'temperatuurid, mida'),\n",
       "AS(start=306, end=343, text:'on kirjeldatud ka 2008a  dokumentides')])"
      ]
     },
     "execution_count": 15,
     "metadata": {},
     "output_type": "execute_result"
    }
   ],
   "source": [
    "ex1.event_tokens"
   ]
  },
  {
   "cell_type": "code",
   "execution_count": 24,
   "metadata": {},
   "outputs": [
    {
     "data": {
      "text/html": [
       "<h4>Layer</h4>\n",
       "\n",
       "<table border=\"1\" class=\"dataframe\">\n",
       "  <thead>\n",
       "    <tr style=\"text-align: right;\">\n",
       "      <th>layer name</th>\n",
       "      <th>attributes</th>\n",
       "      <th>parent</th>\n",
       "      <th>enveloping</th>\n",
       "      <th>ambiguous</th>\n",
       "      <th>span count</th>\n",
       "    </tr>\n",
       "  </thead>\n",
       "  <tbody>\n",
       "    <tr>\n",
       "      <td>events</td>\n",
       "      <td>DATE, HEADERWORD, DOCTOR, DOCTOR_CODE, SPECIALTY, SPECIALTY_CODE, ANONYM</td>\n",
       "      <td>None</td>\n",
       "      <td>event_tokens</td>\n",
       "      <td>True</td>\n",
       "      <td>1</td>\n",
       "    </tr>\n",
       "  </tbody>\n",
       "</table>\n",
       "<table border=\"1\" class=\"dataframe\">\n",
       "  <thead>\n",
       "    <tr style=\"text-align: right;\">\n",
       "      <th>text</th>\n",
       "      <th>DATE</th>\n",
       "      <th>HEADERWORD</th>\n",
       "      <th>DOCTOR</th>\n",
       "      <th>DOCTOR_CODE</th>\n",
       "      <th>SPECIALTY</th>\n",
       "      <th>SPECIALTY_CODE</th>\n",
       "      <th>ANONYM</th>\n",
       "    </tr>\n",
       "  </thead>\n",
       "  <tbody>\n",
       "    <tr>\n",
       "      <td>['07.01.2011 08:19', '&lt;ANONYM id=\"0\" type=\"per\" morph=\"_H_ sg g,_H_ pl g\"/&gt;', '&lt; ..., type: &lt;class 'list'&gt;, length: 3</td>\n",
       "      <td>07.01.2011 08:19</td>\n",
       "      <td></td>\n",
       "      <td></td>\n",
       "      <td></td>\n",
       "      <td></td>\n",
       "      <td></td>\n",
       "      <td>['&lt;ANONYM id=\"0\" type=\"per\" morph=\"_H_ sg g,_H_ pl g\"/&gt;', '&lt;ANONYM id=\"1\" type=\" ..., type: &lt;class 'list'&gt;, length: 2</td>\n",
       "    </tr>\n",
       "  </tbody>\n",
       "</table>"
      ],
      "text/plain": [
       "Layer(name='events', attributes=('DATE', 'HEADERWORD', 'DOCTOR', 'DOCTOR_CODE', 'SPECIALTY', 'SPECIALTY_CODE', 'ANONYM'), spans=SL[AS(start=0, end=118, text:['07.01.2011 08:19', '<ANONYM id=\"0\" type=\"per\" morph=\"_H_ sg g,_H_ pl g\"/>', '<ANONYM id=\"1\" type=\"per\" morph=\"_H_ sg n\"/>'])])"
      ]
     },
     "execution_count": 24,
     "metadata": {},
     "output_type": "execute_result"
    }
   ],
   "source": [
    "ex1.events"
   ]
  },
  {
   "cell_type": "code",
   "execution_count": 17,
   "metadata": {},
   "outputs": [],
   "source": [
    "ex2 = Text(b)"
   ]
  },
  {
   "cell_type": "code",
   "execution_count": 18,
   "metadata": {},
   "outputs": [
    {
     "data": {
      "text/html": [
       "<table border=\"1\" class=\"dataframe\">\n",
       "  <thead>\n",
       "    <tr style=\"text-align: right;\">\n",
       "      <th>text</th>\n",
       "    </tr>\n",
       "  </thead>\n",
       "  <tbody>\n",
       "    <tr>\n",
       "      <td><div align = \"left\">07.01.2011 08:19 - METS, MARI - D03659 - E170 - kardioloogia </br>kaebused oktoobrist alates ebamääraseid valusid südame piirkonnas , käimisel hingeldus, jalgadel turseid ei ole,  kerged subfebriilsed temperatuurid, mida on kirjeldatud ka 2008a  dokumentides.</div></td>\n",
       "    </tr>\n",
       "  </tbody>\n",
       "</table>\n",
       "<table border=\"1\" class=\"dataframe\">\n",
       "  <thead>\n",
       "    <tr style=\"text-align: right;\">\n",
       "      <th>layer name</th>\n",
       "      <th>attributes</th>\n",
       "      <th>parent</th>\n",
       "      <th>enveloping</th>\n",
       "      <th>ambiguous</th>\n",
       "      <th>span count</th>\n",
       "    </tr>\n",
       "  </thead>\n",
       "  <tbody>\n",
       "    <tr>\n",
       "      <td>event_tokens</td>\n",
       "      <td>grammar_symbol, unit_type, value, specialty_code, specialty, regex_type</td>\n",
       "      <td>None</td>\n",
       "      <td>None</td>\n",
       "      <td>True</td>\n",
       "      <td>9</td>\n",
       "    </tr>\n",
       "  </tbody>\n",
       "</table>"
      ],
      "text/plain": [
       "Text(text='07.01.2011 08:19 - METS, MARI - D03659 - E170 - kardioloogia \\nkaebused oktoobrist alates ebamääraseid valusid südame piirkonnas , käimisel hingeldus, jalgadel turseid ei ole,  kerged subfebriilsed temperatuurid, mida on kirjeldatud ka 2008a  dokumentides.')"
      ]
     },
     "execution_count": 18,
     "metadata": {},
     "output_type": "execute_result"
    }
   ],
   "source": [
    "event_token_tagger.tag(ex2)"
   ]
  },
  {
   "cell_type": "code",
   "execution_count": 19,
   "metadata": {},
   "outputs": [
    {
     "data": {
      "text/html": [
       "<table border=\"1\" class=\"dataframe\">\n",
       "  <thead>\n",
       "    <tr style=\"text-align: right;\">\n",
       "      <th>text</th>\n",
       "    </tr>\n",
       "  </thead>\n",
       "  <tbody>\n",
       "    <tr>\n",
       "      <td><div align = \"left\">07.01.2011 08:19 - METS, MARI - D03659 - E170 - kardioloogia </br>kaebused oktoobrist alates ebamääraseid valusid südame piirkonnas , käimisel hingeldus, jalgadel turseid ei ole,  kerged subfebriilsed temperatuurid, mida on kirjeldatud ka 2008a  dokumentides.</div></td>\n",
       "    </tr>\n",
       "  </tbody>\n",
       "</table>\n",
       "<table border=\"1\" class=\"dataframe\">\n",
       "  <thead>\n",
       "    <tr style=\"text-align: right;\">\n",
       "      <th>layer name</th>\n",
       "      <th>attributes</th>\n",
       "      <th>parent</th>\n",
       "      <th>enveloping</th>\n",
       "      <th>ambiguous</th>\n",
       "      <th>span count</th>\n",
       "    </tr>\n",
       "  </thead>\n",
       "  <tbody>\n",
       "    <tr>\n",
       "      <td>event_tokens</td>\n",
       "      <td>grammar_symbol, unit_type, value, specialty_code, specialty, regex_type</td>\n",
       "      <td>None</td>\n",
       "      <td>None</td>\n",
       "      <td>True</td>\n",
       "      <td>9</td>\n",
       "    </tr>\n",
       "    <tr>\n",
       "      <td>events</td>\n",
       "      <td>DATE, HEADERWORD, DOCTOR, DOCTOR_CODE, SPECIALTY, SPECIALTY_CODE, ANONYM</td>\n",
       "      <td>None</td>\n",
       "      <td>event_tokens</td>\n",
       "      <td>True</td>\n",
       "      <td>1</td>\n",
       "    </tr>\n",
       "  </tbody>\n",
       "</table>"
      ],
      "text/plain": [
       "Text(text='07.01.2011 08:19 - METS, MARI - D03659 - E170 - kardioloogia \\nkaebused oktoobrist alates ebamääraseid valusid südame piirkonnas , käimisel hingeldus, jalgadel turseid ei ole,  kerged subfebriilsed temperatuurid, mida on kirjeldatud ka 2008a  dokumentides.')"
      ]
     },
     "execution_count": 19,
     "metadata": {},
     "output_type": "execute_result"
    }
   ],
   "source": [
    "event_tagger.tag(ex2)"
   ]
  },
  {
   "cell_type": "code",
   "execution_count": 20,
   "metadata": {},
   "outputs": [
    {
     "data": {
      "text/html": [
       "<h4>Layer</h4>\n",
       "\n",
       "<table border=\"1\" class=\"dataframe\">\n",
       "  <thead>\n",
       "    <tr style=\"text-align: right;\">\n",
       "      <th>layer name</th>\n",
       "      <th>attributes</th>\n",
       "      <th>parent</th>\n",
       "      <th>enveloping</th>\n",
       "      <th>ambiguous</th>\n",
       "      <th>span count</th>\n",
       "    </tr>\n",
       "  </thead>\n",
       "  <tbody>\n",
       "    <tr>\n",
       "      <td>event_tokens</td>\n",
       "      <td>grammar_symbol, unit_type, value, specialty_code, specialty, regex_type</td>\n",
       "      <td>None</td>\n",
       "      <td>None</td>\n",
       "      <td>True</td>\n",
       "      <td>9</td>\n",
       "    </tr>\n",
       "  </tbody>\n",
       "</table>\n",
       "<table border=\"1\" class=\"dataframe\">\n",
       "  <thead>\n",
       "    <tr style=\"text-align: right;\">\n",
       "      <th>text</th>\n",
       "      <th>grammar_symbol</th>\n",
       "      <th>unit_type</th>\n",
       "      <th>value</th>\n",
       "      <th>specialty_code</th>\n",
       "      <th>specialty</th>\n",
       "      <th>regex_type</th>\n",
       "    </tr>\n",
       "  </thead>\n",
       "  <tbody>\n",
       "    <tr>\n",
       "      <td>07.01.2011 08:19</td>\n",
       "      <td>DATE</td>\n",
       "      <td>None</td>\n",
       "      <td>07.01.2011 08:19</td>\n",
       "      <td>None</td>\n",
       "      <td>None</td>\n",
       "      <td>date</td>\n",
       "    </tr>\n",
       "    <tr>\n",
       "      <td>METS, MARI</td>\n",
       "      <td>DOCTOR</td>\n",
       "      <td>None</td>\n",
       "      <td>METS, MARI</td>\n",
       "      <td>None</td>\n",
       "      <td>None</td>\n",
       "      <td>doctor</td>\n",
       "    </tr>\n",
       "    <tr>\n",
       "      <td>D03659</td>\n",
       "      <td>DOCTOR_CODE</td>\n",
       "      <td>None</td>\n",
       "      <td>D03659</td>\n",
       "      <td>None</td>\n",
       "      <td>None</td>\n",
       "      <td>doctor_code</td>\n",
       "    </tr>\n",
       "    <tr>\n",
       "      <td>E170 - kardioloogia</td>\n",
       "      <td>SPECIALTY</td>\n",
       "      <td>None</td>\n",
       "      <td>whatever</td>\n",
       "      <td>E170</td>\n",
       "      <td>kardioloogia</td>\n",
       "      <td>specialty</td>\n",
       "    </tr>\n",
       "    <tr>\n",
       "      <td>kaebused oktoobrist alates ebamääraseid valusid südame piirkonnas , käimisel</td>\n",
       "      <td>RANDOM_TEXT</td>\n",
       "      <td>None</td>\n",
       "      <td>None</td>\n",
       "      <td>None</td>\n",
       "      <td>None</td>\n",
       "      <td>None</td>\n",
       "    </tr>\n",
       "    <tr>\n",
       "      <td>hingeldus, jalgadel</td>\n",
       "      <td>DOCTOR</td>\n",
       "      <td>None</td>\n",
       "      <td>hingeldus, jalgadel</td>\n",
       "      <td>None</td>\n",
       "      <td>None</td>\n",
       "      <td>doctor</td>\n",
       "    </tr>\n",
       "    <tr>\n",
       "      <td>turseid ei ole,  kerged subfebriilsed</td>\n",
       "      <td>RANDOM_TEXT</td>\n",
       "      <td>None</td>\n",
       "      <td>None</td>\n",
       "      <td>None</td>\n",
       "      <td>None</td>\n",
       "      <td>None</td>\n",
       "    </tr>\n",
       "    <tr>\n",
       "      <td>temperatuurid, mida</td>\n",
       "      <td>DOCTOR</td>\n",
       "      <td>None</td>\n",
       "      <td>temperatuurid, mida</td>\n",
       "      <td>None</td>\n",
       "      <td>None</td>\n",
       "      <td>doctor</td>\n",
       "    </tr>\n",
       "    <tr>\n",
       "      <td>on kirjeldatud ka 2008a  dokumentides</td>\n",
       "      <td>RANDOM_TEXT</td>\n",
       "      <td>None</td>\n",
       "      <td>None</td>\n",
       "      <td>None</td>\n",
       "      <td>None</td>\n",
       "      <td>None</td>\n",
       "    </tr>\n",
       "  </tbody>\n",
       "</table>"
      ],
      "text/plain": [
       "Layer(name='event_tokens', attributes=('grammar_symbol', 'unit_type', 'value', 'specialty_code', 'specialty', 'regex_type'), spans=SL[AS(start=0, end=16, text:'07.01.2011 08:19'),\n",
       "AS(start=19, end=29, text:'METS, MARI'),\n",
       "AS(start=32, end=38, text:'D03659'),\n",
       "AS(start=41, end=61, text:'E170 - kardioloogia '),\n",
       "AS(start=62, end=138, text:'kaebused oktoobrist alates ebamääraseid valusid südame piirkonnas , käimisel'),\n",
       "AS(start=139, end=158, text:'hingeldus, jalgadel'),\n",
       "AS(start=159, end=196, text:'turseid ei ole,  kerged subfebriilsed'),\n",
       "AS(start=197, end=216, text:'temperatuurid, mida'),\n",
       "AS(start=217, end=254, text:'on kirjeldatud ka 2008a  dokumentides')])"
      ]
     },
     "execution_count": 20,
     "metadata": {},
     "output_type": "execute_result"
    }
   ],
   "source": [
    "ex2.event_tokens"
   ]
  },
  {
   "cell_type": "code",
   "execution_count": 21,
   "metadata": {},
   "outputs": [
    {
     "data": {
      "text/html": [
       "<h4>Layer</h4>\n",
       "\n",
       "<table border=\"1\" class=\"dataframe\">\n",
       "  <thead>\n",
       "    <tr style=\"text-align: right;\">\n",
       "      <th>layer name</th>\n",
       "      <th>attributes</th>\n",
       "      <th>parent</th>\n",
       "      <th>enveloping</th>\n",
       "      <th>ambiguous</th>\n",
       "      <th>span count</th>\n",
       "    </tr>\n",
       "  </thead>\n",
       "  <tbody>\n",
       "    <tr>\n",
       "      <td>events</td>\n",
       "      <td>DATE, HEADERWORD, DOCTOR, DOCTOR_CODE, SPECIALTY, SPECIALTY_CODE, ANONYM</td>\n",
       "      <td>None</td>\n",
       "      <td>event_tokens</td>\n",
       "      <td>True</td>\n",
       "      <td>1</td>\n",
       "    </tr>\n",
       "  </tbody>\n",
       "</table>\n",
       "<table border=\"1\" class=\"dataframe\">\n",
       "  <thead>\n",
       "    <tr style=\"text-align: right;\">\n",
       "      <th>text</th>\n",
       "      <th>DATE</th>\n",
       "      <th>HEADERWORD</th>\n",
       "      <th>DOCTOR</th>\n",
       "      <th>DOCTOR_CODE</th>\n",
       "      <th>SPECIALTY</th>\n",
       "      <th>SPECIALTY_CODE</th>\n",
       "      <th>ANONYM</th>\n",
       "    </tr>\n",
       "  </thead>\n",
       "  <tbody>\n",
       "    <tr>\n",
       "      <td>['07.01.2011 08:19', 'METS, MARI', 'D03659', 'E170 - kardioloogia ']</td>\n",
       "      <td>07.01.2011 08:19</td>\n",
       "      <td></td>\n",
       "      <td>METS, MARI</td>\n",
       "      <td>D03659</td>\n",
       "      <td>kardioloogia</td>\n",
       "      <td>E170</td>\n",
       "      <td></td>\n",
       "    </tr>\n",
       "  </tbody>\n",
       "</table>"
      ],
      "text/plain": [
       "Layer(name='events', attributes=('DATE', 'HEADERWORD', 'DOCTOR', 'DOCTOR_CODE', 'SPECIALTY', 'SPECIALTY_CODE', 'ANONYM'), spans=SL[AS(start=0, end=61, text:['07.01.2011 08:19', 'METS, MARI', 'D03659', 'E170 - kardioloogia '])])"
      ]
     },
     "execution_count": 21,
     "metadata": {},
     "output_type": "execute_result"
    }
   ],
   "source": [
    "ex2.events"
   ]
  },
  {
   "cell_type": "code",
   "execution_count": 22,
   "metadata": {},
   "outputs": [],
   "source": [
    "ex3 = Text(c)"
   ]
  },
  {
   "cell_type": "code",
   "execution_count": 23,
   "metadata": {},
   "outputs": [
    {
     "data": {
      "text/html": [
       "<table border=\"1\" class=\"dataframe\">\n",
       "  <thead>\n",
       "    <tr style=\"text-align: right;\">\n",
       "      <th>text</th>\n",
       "    </tr>\n",
       "  </thead>\n",
       "  <tbody>\n",
       "    <tr>\n",
       "      <td><div align = \"left\">07.01.2011 08:19 Kokkuvõte: blablaa</div></td>\n",
       "    </tr>\n",
       "  </tbody>\n",
       "</table>\n",
       "<table border=\"1\" class=\"dataframe\">\n",
       "  <thead>\n",
       "    <tr style=\"text-align: right;\">\n",
       "      <th>layer name</th>\n",
       "      <th>attributes</th>\n",
       "      <th>parent</th>\n",
       "      <th>enveloping</th>\n",
       "      <th>ambiguous</th>\n",
       "      <th>span count</th>\n",
       "    </tr>\n",
       "  </thead>\n",
       "  <tbody>\n",
       "    <tr>\n",
       "      <td>event_tokens</td>\n",
       "      <td>grammar_symbol, unit_type, value, specialty_code, specialty, regex_type</td>\n",
       "      <td>None</td>\n",
       "      <td>None</td>\n",
       "      <td>True</td>\n",
       "      <td>3</td>\n",
       "    </tr>\n",
       "  </tbody>\n",
       "</table>"
      ],
      "text/plain": [
       "Text(text='07.01.2011 08:19 Kokkuvõte: blablaa')"
      ]
     },
     "execution_count": 23,
     "metadata": {},
     "output_type": "execute_result"
    }
   ],
   "source": [
    "event_token_tagger.tag(ex3)"
   ]
  },
  {
   "cell_type": "code",
   "execution_count": 24,
   "metadata": {},
   "outputs": [
    {
     "data": {
      "text/html": [
       "<table border=\"1\" class=\"dataframe\">\n",
       "  <thead>\n",
       "    <tr style=\"text-align: right;\">\n",
       "      <th>text</th>\n",
       "    </tr>\n",
       "  </thead>\n",
       "  <tbody>\n",
       "    <tr>\n",
       "      <td><div align = \"left\">07.01.2011 08:19 Kokkuvõte: blablaa</div></td>\n",
       "    </tr>\n",
       "  </tbody>\n",
       "</table>\n",
       "<table border=\"1\" class=\"dataframe\">\n",
       "  <thead>\n",
       "    <tr style=\"text-align: right;\">\n",
       "      <th>layer name</th>\n",
       "      <th>attributes</th>\n",
       "      <th>parent</th>\n",
       "      <th>enveloping</th>\n",
       "      <th>ambiguous</th>\n",
       "      <th>span count</th>\n",
       "    </tr>\n",
       "  </thead>\n",
       "  <tbody>\n",
       "    <tr>\n",
       "      <td>event_tokens</td>\n",
       "      <td>grammar_symbol, unit_type, value, specialty_code, specialty, regex_type</td>\n",
       "      <td>None</td>\n",
       "      <td>None</td>\n",
       "      <td>True</td>\n",
       "      <td>3</td>\n",
       "    </tr>\n",
       "    <tr>\n",
       "      <td>events</td>\n",
       "      <td>DATE, HEADERWORD, DOCTOR, DOCTOR_CODE, SPECIALTY, SPECIALTY_CODE, ANONYM</td>\n",
       "      <td>None</td>\n",
       "      <td>event_tokens</td>\n",
       "      <td>True</td>\n",
       "      <td>1</td>\n",
       "    </tr>\n",
       "  </tbody>\n",
       "</table>"
      ],
      "text/plain": [
       "Text(text='07.01.2011 08:19 Kokkuvõte: blablaa')"
      ]
     },
     "execution_count": 24,
     "metadata": {},
     "output_type": "execute_result"
    }
   ],
   "source": [
    "event_tagger.tag(ex3)"
   ]
  },
  {
   "cell_type": "code",
   "execution_count": 25,
   "metadata": {},
   "outputs": [
    {
     "data": {
      "text/html": [
       "<h4>Layer</h4>\n",
       "\n",
       "<table border=\"1\" class=\"dataframe\">\n",
       "  <thead>\n",
       "    <tr style=\"text-align: right;\">\n",
       "      <th>layer name</th>\n",
       "      <th>attributes</th>\n",
       "      <th>parent</th>\n",
       "      <th>enveloping</th>\n",
       "      <th>ambiguous</th>\n",
       "      <th>span count</th>\n",
       "    </tr>\n",
       "  </thead>\n",
       "  <tbody>\n",
       "    <tr>\n",
       "      <td>events</td>\n",
       "      <td>DATE, HEADERWORD, DOCTOR, DOCTOR_CODE, SPECIALTY, SPECIALTY_CODE, ANONYM</td>\n",
       "      <td>None</td>\n",
       "      <td>event_tokens</td>\n",
       "      <td>True</td>\n",
       "      <td>1</td>\n",
       "    </tr>\n",
       "  </tbody>\n",
       "</table>\n",
       "<table border=\"1\" class=\"dataframe\">\n",
       "  <thead>\n",
       "    <tr style=\"text-align: right;\">\n",
       "      <th>text</th>\n",
       "      <th>DATE</th>\n",
       "      <th>HEADERWORD</th>\n",
       "      <th>DOCTOR</th>\n",
       "      <th>DOCTOR_CODE</th>\n",
       "      <th>SPECIALTY</th>\n",
       "      <th>SPECIALTY_CODE</th>\n",
       "      <th>ANONYM</th>\n",
       "    </tr>\n",
       "  </thead>\n",
       "  <tbody>\n",
       "    <tr>\n",
       "      <td>['07.01.2011 08:19', 'Kokkuvõte:']</td>\n",
       "      <td>07.01.2011 08:19</td>\n",
       "      <td>Kokkuvõte:</td>\n",
       "      <td></td>\n",
       "      <td></td>\n",
       "      <td></td>\n",
       "      <td></td>\n",
       "      <td></td>\n",
       "    </tr>\n",
       "  </tbody>\n",
       "</table>"
      ],
      "text/plain": [
       "Layer(name='events', attributes=('DATE', 'HEADERWORD', 'DOCTOR', 'DOCTOR_CODE', 'SPECIALTY', 'SPECIALTY_CODE', 'ANONYM'), spans=SL[AS(start=0, end=27, text:['07.01.2011 08:19', 'Kokkuvõte:'])])"
      ]
     },
     "execution_count": 25,
     "metadata": {},
     "output_type": "execute_result"
    }
   ],
   "source": [
    "ex3.events"
   ]
  },
  {
   "cell_type": "code",
   "execution_count": 26,
   "metadata": {},
   "outputs": [],
   "source": [
    "ex4 = Text(d)"
   ]
  },
  {
   "cell_type": "code",
   "execution_count": 27,
   "metadata": {},
   "outputs": [
    {
     "data": {
      "text/html": [
       "<table border=\"1\" class=\"dataframe\">\n",
       "  <thead>\n",
       "    <tr style=\"text-align: right;\">\n",
       "      <th>text</th>\n",
       "    </tr>\n",
       "  </thead>\n",
       "  <tbody>\n",
       "    <tr>\n",
       "      <td><div align = \"left\">07.01.2011 08:19 - &lt;ANONYM id=&quot;0&quot; type=&quot;per&quot; morph=&quot;_H_ sg g,_H_ pl g&quot;/&gt;, &lt;ANONYM id=&quot;1&quot; type=&quot;per&quot; morph=&quot;_H_ sg n&quot;/&gt;</div></td>\n",
       "    </tr>\n",
       "  </tbody>\n",
       "</table>\n",
       "<table border=\"1\" class=\"dataframe\">\n",
       "  <thead>\n",
       "    <tr style=\"text-align: right;\">\n",
       "      <th>layer name</th>\n",
       "      <th>attributes</th>\n",
       "      <th>parent</th>\n",
       "      <th>enveloping</th>\n",
       "      <th>ambiguous</th>\n",
       "      <th>span count</th>\n",
       "    </tr>\n",
       "  </thead>\n",
       "  <tbody>\n",
       "    <tr>\n",
       "      <td>event_tokens</td>\n",
       "      <td>grammar_symbol, unit_type, value, specialty_code, specialty, regex_type</td>\n",
       "      <td>None</td>\n",
       "      <td>None</td>\n",
       "      <td>True</td>\n",
       "      <td>3</td>\n",
       "    </tr>\n",
       "  </tbody>\n",
       "</table>"
      ],
      "text/plain": [
       "Text(text='07.01.2011 08:19 - <ANONYM id=\"0\" type=\"per\" morph=\"_H_ sg g,_H_ pl g\"/>, <ANONYM id=\"1\" type=\"per\" morph=\"_H_ sg n\"/>')"
      ]
     },
     "execution_count": 27,
     "metadata": {},
     "output_type": "execute_result"
    }
   ],
   "source": [
    "event_token_tagger.tag(ex4)"
   ]
  },
  {
   "cell_type": "code",
   "execution_count": 28,
   "metadata": {},
   "outputs": [
    {
     "data": {
      "text/html": [
       "<table border=\"1\" class=\"dataframe\">\n",
       "  <thead>\n",
       "    <tr style=\"text-align: right;\">\n",
       "      <th>text</th>\n",
       "    </tr>\n",
       "  </thead>\n",
       "  <tbody>\n",
       "    <tr>\n",
       "      <td><div align = \"left\">07.01.2011 08:19 - &lt;ANONYM id=&quot;0&quot; type=&quot;per&quot; morph=&quot;_H_ sg g,_H_ pl g&quot;/&gt;, &lt;ANONYM id=&quot;1&quot; type=&quot;per&quot; morph=&quot;_H_ sg n&quot;/&gt;</div></td>\n",
       "    </tr>\n",
       "  </tbody>\n",
       "</table>\n",
       "<table border=\"1\" class=\"dataframe\">\n",
       "  <thead>\n",
       "    <tr style=\"text-align: right;\">\n",
       "      <th>layer name</th>\n",
       "      <th>attributes</th>\n",
       "      <th>parent</th>\n",
       "      <th>enveloping</th>\n",
       "      <th>ambiguous</th>\n",
       "      <th>span count</th>\n",
       "    </tr>\n",
       "  </thead>\n",
       "  <tbody>\n",
       "    <tr>\n",
       "      <td>event_tokens</td>\n",
       "      <td>grammar_symbol, unit_type, value, specialty_code, specialty, regex_type</td>\n",
       "      <td>None</td>\n",
       "      <td>None</td>\n",
       "      <td>True</td>\n",
       "      <td>3</td>\n",
       "    </tr>\n",
       "    <tr>\n",
       "      <td>events</td>\n",
       "      <td>DATE, HEADERWORD, DOCTOR, DOCTOR_CODE, SPECIALTY, SPECIALTY_CODE, ANONYM</td>\n",
       "      <td>None</td>\n",
       "      <td>event_tokens</td>\n",
       "      <td>True</td>\n",
       "      <td>1</td>\n",
       "    </tr>\n",
       "  </tbody>\n",
       "</table>"
      ],
      "text/plain": [
       "Text(text='07.01.2011 08:19 - <ANONYM id=\"0\" type=\"per\" morph=\"_H_ sg g,_H_ pl g\"/>, <ANONYM id=\"1\" type=\"per\" morph=\"_H_ sg n\"/>')"
      ]
     },
     "execution_count": 28,
     "metadata": {},
     "output_type": "execute_result"
    }
   ],
   "source": [
    "event_tagger.tag(ex4)"
   ]
  },
  {
   "cell_type": "code",
   "execution_count": 29,
   "metadata": {},
   "outputs": [
    {
     "data": {
      "text/html": [
       "<h4>Layer</h4>\n",
       "\n",
       "<table border=\"1\" class=\"dataframe\">\n",
       "  <thead>\n",
       "    <tr style=\"text-align: right;\">\n",
       "      <th>layer name</th>\n",
       "      <th>attributes</th>\n",
       "      <th>parent</th>\n",
       "      <th>enveloping</th>\n",
       "      <th>ambiguous</th>\n",
       "      <th>span count</th>\n",
       "    </tr>\n",
       "  </thead>\n",
       "  <tbody>\n",
       "    <tr>\n",
       "      <td>events</td>\n",
       "      <td>DATE, HEADERWORD, DOCTOR, DOCTOR_CODE, SPECIALTY, SPECIALTY_CODE, ANONYM</td>\n",
       "      <td>None</td>\n",
       "      <td>event_tokens</td>\n",
       "      <td>True</td>\n",
       "      <td>1</td>\n",
       "    </tr>\n",
       "  </tbody>\n",
       "</table>\n",
       "<table border=\"1\" class=\"dataframe\">\n",
       "  <thead>\n",
       "    <tr style=\"text-align: right;\">\n",
       "      <th>text</th>\n",
       "      <th>DATE</th>\n",
       "      <th>HEADERWORD</th>\n",
       "      <th>DOCTOR</th>\n",
       "      <th>DOCTOR_CODE</th>\n",
       "      <th>SPECIALTY</th>\n",
       "      <th>SPECIALTY_CODE</th>\n",
       "      <th>ANONYM</th>\n",
       "    </tr>\n",
       "  </thead>\n",
       "  <tbody>\n",
       "    <tr>\n",
       "      <td>['07.01.2011 08:19', '&lt;ANONYM id=\"0\" type=\"per\" morph=\"_H_ sg g,_H_ pl g\"/&gt;', '&lt; ..., type: &lt;class 'list'&gt;, length: 3</td>\n",
       "      <td>07.01.2011 08:19</td>\n",
       "      <td></td>\n",
       "      <td></td>\n",
       "      <td></td>\n",
       "      <td></td>\n",
       "      <td></td>\n",
       "      <td>&lt;ANONYM id=\"1\" type=\"per\" morph=\"_H_ sg n\"/&gt;</td>\n",
       "    </tr>\n",
       "  </tbody>\n",
       "</table>"
      ],
      "text/plain": [
       "Layer(name='events', attributes=('DATE', 'HEADERWORD', 'DOCTOR', 'DOCTOR_CODE', 'SPECIALTY', 'SPECIALTY_CODE', 'ANONYM'), spans=SL[AS(start=0, end=118, text:['07.01.2011 08:19', '<ANONYM id=\"0\" type=\"per\" morph=\"_H_ sg g,_H_ pl g\"/>', '<ANONYM id=\"1\" type=\"per\" morph=\"_H_ sg n\"/>'])])"
      ]
     },
     "execution_count": 29,
     "metadata": {},
     "output_type": "execute_result"
    }
   ],
   "source": [
    "from taggers.event_tagger2 import EventTagger"
   ]
  },
  {
   "cell_type": "code",
   "execution_count": 3,
   "metadata": {},
   "outputs": [
    {
     "ename": "FileNotFoundError",
     "evalue": "[Errno 2] No such file or directory: 'developement/example_texts.csv'",
     "output_type": "error",
     "traceback": [
      "\u001b[0;31m---------------------------------------------------------------------------\u001b[0m",
      "\u001b[0;31mFileNotFoundError\u001b[0m                         Traceback (most recent call last)",
      "\u001b[0;32m<ipython-input-3-af771c106a32>\u001b[0m in \u001b[0;36m<module>\u001b[0;34m\u001b[0m\n\u001b[1;32m      4\u001b[0m \u001b[0;34m\u001b[0m\u001b[0m\n\u001b[1;32m      5\u001b[0m \u001b[0mtexts\u001b[0m \u001b[0;34m=\u001b[0m \u001b[0;34m[\u001b[0m\u001b[0;34m]\u001b[0m\u001b[0;34m\u001b[0m\u001b[0;34m\u001b[0m\u001b[0m\n\u001b[0;32m----> 6\u001b[0;31m \u001b[0;32mwith\u001b[0m \u001b[0mopen\u001b[0m\u001b[0;34m(\u001b[0m\u001b[0;34m\"developement/example_texts.csv\"\u001b[0m\u001b[0;34m,\u001b[0m \u001b[0;34m\"r\"\u001b[0m\u001b[0;34m)\u001b[0m \u001b[0;32mas\u001b[0m \u001b[0mfin\u001b[0m\u001b[0;34m:\u001b[0m\u001b[0;34m\u001b[0m\u001b[0;34m\u001b[0m\u001b[0m\n\u001b[0m\u001b[1;32m      7\u001b[0m     \u001b[0mreader\u001b[0m \u001b[0;34m=\u001b[0m \u001b[0mcsv\u001b[0m\u001b[0;34m.\u001b[0m\u001b[0mreader\u001b[0m\u001b[0;34m(\u001b[0m\u001b[0mfin\u001b[0m\u001b[0;34m)\u001b[0m\u001b[0;34m\u001b[0m\u001b[0;34m\u001b[0m\u001b[0m\n\u001b[1;32m      8\u001b[0m     \u001b[0;32mfor\u001b[0m \u001b[0mrow\u001b[0m \u001b[0;32min\u001b[0m \u001b[0mreader\u001b[0m\u001b[0;34m:\u001b[0m\u001b[0;34m\u001b[0m\u001b[0;34m\u001b[0m\u001b[0m\n",
      "\u001b[0;31mFileNotFoundError\u001b[0m: [Errno 2] No such file or directory: 'developement/example_texts.csv'"
     ]
    }
   ],
   "source": [
    "import csv\n",
    "import sys\n",
    "csv.field_size_limit(sys.maxsize)\n",
    "\n",
    "texts = []\n",
    "with open(\"developement/example_texts.csv\", \"r\") as fin:\n",
    "    reader = csv.reader(fin)\n",
    "    for row in reader:\n",
    "        texts.append(row)"
   ]
  },
  {
   "cell_type": "code",
   "execution_count": 30,
   "metadata": {},
   "outputs": [],
   "source": [
    "text_ids_and_counts = {}\n",
    "tagged = []\n",
    "for text in texts:\n",
    "    t = Text(text[6])\n",
    "    event_token_tagger.tag(t)\n",
    "    event_tagger.tag(t)\n",
    "    tagged.append(t)\n",
    "    text_ids_and_counts[text[0]] = len(t.events)"
   ]
  },
  {
   "cell_type": "code",
   "execution_count": 32,
   "metadata": {},
   "outputs": [],
   "source": [
    "from collections import Counter\n",
    "event_counts = Counter()\n",
    "events = []\n",
    "with open(\"developement/example_events.csv\", \"r\") as fin:\n",
    "    reader = csv.reader(fin)\n",
    "    for row in reader:\n",
    "        events.append(row)\n",
    "        event_counts[row[1]] += 1"
   ]
  },
  {
   "cell_type": "code",
   "execution_count": 33,
   "metadata": {},
   "outputs": [],
   "source": [
    "diff = []\n",
    "for id_, count in event_counts.items():\n",
    "    if count != text_ids_and_counts[id_]:\n",
    "        if text_ids_and_counts[id_] == 1 and count == 0:\n",
    "            pass\n",
    "        elif text_ids_and_counts[id_] == 0 and count == 1:\n",
    "            pass\n",
    "        else:\n",
    "            diff.append(id_)"
   ]
  },
  {
   "cell_type": "code",
   "execution_count": 36,
   "metadata": {},
   "outputs": [
    {
     "data": {
      "text/plain": [
       "226"
      ]
     },
     "execution_count": 36,
     "metadata": {},
     "output_type": "execute_result"
    }
   ],
   "source": [
    "len(set(diff))"
   ]
  },
  {
   "cell_type": "code",
   "execution_count": 35,
   "metadata": {},
   "outputs": [
    {
     "data": {
      "text/plain": [
       "['1518585',\n",
       " '1473074',\n",
       " '31993',\n",
       " '335166',\n",
       " '1434384',\n",
       " '51233',\n",
       " '28894',\n",
       " '639931',\n",
       " '815641',\n",
       " '1444253',\n",
       " '325687',\n",
       " '300992',\n",
       " '1391246',\n",
       " '327730',\n",
       " '813383',\n",
       " '1645246',\n",
       " '815650',\n",
       " '1408796',\n",
       " '9635',\n",
       " '48428',\n",
       " '615846',\n",
       " '288636',\n",
       " '644826',\n",
       " '753977',\n",
       " '304919',\n",
       " '1381525',\n",
       " '1435848',\n",
       " '320566',\n",
       " '812723',\n",
       " '308897',\n",
       " '1386761',\n",
       " '1435734',\n",
       " '612479',\n",
       " '537955',\n",
       " '1432570',\n",
       " '748773',\n",
       " '1433512',\n",
       " '1433879',\n",
       " '52313',\n",
       " '1444659',\n",
       " '998668',\n",
       " '55158',\n",
       " '264205',\n",
       " '45562',\n",
       " '539582',\n",
       " '1496976',\n",
       " '333475',\n",
       " '815460',\n",
       " '815553',\n",
       " '53890',\n",
       " '1444335',\n",
       " '747320',\n",
       " '337325',\n",
       " '618086',\n",
       " '541582',\n",
       " '815616',\n",
       " '43449',\n",
       " '1433148',\n",
       " '763201',\n",
       " '1013710',\n",
       " '641527',\n",
       " '1428915',\n",
       " '532383',\n",
       " '549119',\n",
       " '334846',\n",
       " '1054519',\n",
       " '1412072',\n",
       " '812473',\n",
       " '1408879',\n",
       " '309440',\n",
       " '748944',\n",
       " '1053543',\n",
       " '26869',\n",
       " '612517',\n",
       " '1434656',\n",
       " '1426092',\n",
       " '44660',\n",
       " '324741',\n",
       " '814985',\n",
       " '42118',\n",
       " '536011',\n",
       " '1021944',\n",
       " '1444656',\n",
       " '1400721',\n",
       " '1056173',\n",
       " '288420',\n",
       " '1002378',\n",
       " '749779',\n",
       " '539860',\n",
       " '760653',\n",
       " '537177',\n",
       " '608978',\n",
       " '1434665',\n",
       " '752731',\n",
       " '815501',\n",
       " '1038370',\n",
       " '1431147',\n",
       " '1644052',\n",
       " '1444487',\n",
       " '56653',\n",
       " '1433991',\n",
       " '4013',\n",
       " '1406132',\n",
       " '1427196',\n",
       " '283578',\n",
       " '1411851',\n",
       " '758907',\n",
       " '536242',\n",
       " '815537',\n",
       " '4012',\n",
       " '7720',\n",
       " '287951',\n",
       " '1433292',\n",
       " '1007142',\n",
       " '1444324',\n",
       " '812059',\n",
       " '336009',\n",
       " '1434974',\n",
       " '558901',\n",
       " '618520',\n",
       " '54663',\n",
       " '1424211',\n",
       " '1433703',\n",
       " '1425094',\n",
       " '1444484',\n",
       " '1444610',\n",
       " '33531',\n",
       " '1444194',\n",
       " '1435376',\n",
       " '750508',\n",
       " '1412811',\n",
       " '1432969',\n",
       " '1652360',\n",
       " '814047',\n",
       " '303537',\n",
       " '636177',\n",
       " '43185',\n",
       " '1392304',\n",
       " '1444585',\n",
       " '334996',\n",
       " '1436053',\n",
       " '44441',\n",
       " '761733',\n",
       " '1411304',\n",
       " '1434660',\n",
       " '559689',\n",
       " '283768',\n",
       " '615355',\n",
       " '557663',\n",
       " '1027643',\n",
       " '986691',\n",
       " '323160',\n",
       " '615498',\n",
       " '1653344',\n",
       " '556058',\n",
       " '552998',\n",
       " '1653578',\n",
       " '1380747',\n",
       " '1050946',\n",
       " '337386',\n",
       " '812447',\n",
       " '1003142',\n",
       " '1010652',\n",
       " '44595',\n",
       " '1444635',\n",
       " '323708',\n",
       " '284355',\n",
       " '1435485',\n",
       " '338658',\n",
       " '49974',\n",
       " '1045324',\n",
       " '1444602',\n",
       " '1435086',\n",
       " '1518109',\n",
       " '622707',\n",
       " '1444587',\n",
       " '43252',\n",
       " '812691',\n",
       " '638632',\n",
       " '1412259',\n",
       " '1002566',\n",
       " '1432567',\n",
       " '37046',\n",
       " '812399',\n",
       " '813856',\n",
       " '747986',\n",
       " '536696',\n",
       " '1645245',\n",
       " '1444613',\n",
       " '811887',\n",
       " '618396',\n",
       " '1444511',\n",
       " '1432358',\n",
       " '555623',\n",
       " '815620',\n",
       " '292057',\n",
       " '1006680',\n",
       " '556933',\n",
       " '1433593',\n",
       " '1041321',\n",
       " '1428971',\n",
       " '756997',\n",
       " '1444622',\n",
       " '1653343',\n",
       " '558596',\n",
       " '258258',\n",
       " '1496975',\n",
       " '1410696',\n",
       " '331212',\n",
       " '613007',\n",
       " '815532',\n",
       " '1046296',\n",
       " '52996',\n",
       " '815113',\n",
       " '279760',\n",
       " '1434086',\n",
       " '14134',\n",
       " '52654',\n",
       " '1007348',\n",
       " '541490',\n",
       " '336377',\n",
       " '760417',\n",
       " '1048675',\n",
       " '1444596',\n",
       " '748818',\n",
       " '539506']"
      ]
     },
     "execution_count": 35,
     "metadata": {},
     "output_type": "execute_result"
    }
   ],
   "source": [
    "diff"
   ]
  },
  {
   "cell_type": "code",
   "execution_count": 37,
   "metadata": {},
   "outputs": [
    {
     "data": {
      "text/plain": [
       "2"
      ]
     },
     "execution_count": 37,
     "metadata": {},
     "output_type": "execute_result"
    }
   ],
   "source": [
    "event_counts['1518585']"
   ]
  },
  {
   "cell_type": "code",
   "execution_count": 38,
   "metadata": {},
   "outputs": [
    {
     "data": {
      "text/plain": [
       "0"
      ]
     },
     "execution_count": 38,
     "metadata": {},
     "output_type": "execute_result"
    }
   ],
   "source": [
    "text_ids_and_counts['1518585']"
   ]
  },
  {
   "cell_type": "code",
   "execution_count": 39,
   "metadata": {},
   "outputs": [
    {
     "name": "stdout",
     "output_type": "stream",
     "text": [
      "<ANONYM id=\"1\" type=\"per\" morph=\"_S_ sg ad\"/>, <ANONYM id=\"2\" type=\"per\" morph=\"_H_ sg n\"/>: \n",
      "\t\t\t\t\t\t\t\t\t\t\t\t\tNormi piirides.\n"
     ]
    }
   ],
   "source": [
    "for i in texts:\n",
    "    if i[0] == '1518585':\n",
    "        print(i[6])"
   ]
  },
  {
   "cell_type": "code",
   "execution_count": 40,
   "metadata": {},
   "outputs": [
    {
     "name": "stdout",
     "output_type": "stream",
     "text": [
      "PER, PER: \n",
      "\t\t\t\t\t\t\t\t\t\t\t\t\tNormi piirides.\n",
      "--\n",
      "PER, PER: \n",
      "\t\t\t\t\t\t\t\t\t\t\t\t\tNormi piirides.\n",
      "--\n"
     ]
    }
   ],
   "source": [
    "for i in events:\n",
    "    if i[1] == '1518585':\n",
    "        print(i[13])\n",
    "        print('--')"
   ]
  },
  {
   "cell_type": "code",
   "execution_count": 41,
   "metadata": {},
   "outputs": [],
   "source": [
    "text_texts = []\n",
    "for row in texts:\n",
    "    text_texts.append(row[6])\n",
    "    \n",
    "dates = []\n",
    "for i in events:\n",
    "    dates.append(i[12])   \n",
    "    \n",
    "event_texts = []\n",
    "for i in events:\n",
    "    event_texts.append(i[13])   \n",
    "    \n",
    "    \n",
    "    \n",
    "found = []\n",
    "not_found = []\n",
    "too_many_found = []\n",
    "for date in dates:\n",
    "    if len(date) > 0:\n",
    "        t = Text(date)\n",
    "        event_token_tagger.tag(t)\n",
    "        event_tagger.tag(t)\n",
    "        if len(t.events) == 0:\n",
    "            found.append(t)\n",
    "        elif len(t.events) == 1:\n",
    "            found.append(t)\n",
    "        else:\n",
    "            too_many_found.append(t)    "
   ]
  },
  {
   "cell_type": "code",
   "execution_count": 55,
   "metadata": {},
   "outputs": [
    {
     "ename": "IndentationError",
     "evalue": "expected an indented block (<ipython-input-55-dbca245bde13>, line 6)",
     "output_type": "error",
     "traceback": [
      "\u001b[0;36m  File \u001b[0;32m\"<ipython-input-55-dbca245bde13>\"\u001b[0;36m, line \u001b[0;32m6\u001b[0m\n\u001b[0;31m    if len(ev) > 0:\u001b[0m\n\u001b[0m     ^\u001b[0m\n\u001b[0;31mIndentationError\u001b[0m\u001b[0;31m:\u001b[0m expected an indented block\n"
     ]
    }
   ],
   "source": []
  },
  {
   "cell_type": "code",
   "execution_count": 56,
   "metadata": {},
   "outputs": [],
   "source": [
    "found = []\n",
    "not_found = []\n",
    "too_many_found = []\n",
    "for ev in event_texts:\n",
    "    if len(ev) > 0:\n",
    "        t = Text(ev)\n",
    "        event_token_tagger.tag(t)\n",
    "        event_tagger.tag(t)\n",
    "        if len(t.events) == 0:\n",
    "            found.append(t)\n",
    "        elif len(t.events) == 1:\n",
    "            found.append(t)\n",
    "        else:\n",
    "            too_many_found.append(t)  "
   ]
  },
  {
   "cell_type": "code",
   "execution_count": null,
   "metadata": {},
   "outputs": [],
   "source": []
  },
  {
   "cell_type": "code",
   "execution_count": 57,
   "metadata": {},
   "outputs": [
    {
     "data": {
      "text/plain": [
       "5298"
      ]
     },
     "execution_count": 57,
     "metadata": {},
     "output_type": "execute_result"
    }
   ],
   "source": [
    "len(found)"
   ]
  },
  {
   "cell_type": "code",
   "execution_count": 58,
   "metadata": {},
   "outputs": [
    {
     "data": {
      "text/plain": [
       "0"
      ]
     },
     "execution_count": 58,
     "metadata": {},
     "output_type": "execute_result"
    }
   ],
   "source": [
    "len(not_found)"
   ]
  },
  {
   "cell_type": "code",
   "execution_count": 59,
   "metadata": {},
   "outputs": [
    {
     "data": {
      "text/plain": [
       "10"
      ]
     },
     "execution_count": 59,
     "metadata": {},
     "output_type": "execute_result"
    }
   ],
   "source": [
    "len(too_many_found)"
   ]
  },
  {
   "cell_type": "code",
   "execution_count": 60,
   "metadata": {},
   "outputs": [
    {
     "data": {
      "text/html": [
       "<table border=\"1\" class=\"dataframe\">\n",
       "  <thead>\n",
       "    <tr style=\"text-align: right;\">\n",
       "      <th>text</th>\n",
       "    </tr>\n",
       "  </thead>\n",
       "  <tbody>\n",
       "    <tr>\n",
       "      <td><div align = \"left\"></br>18.10.2012 10:21 - MATJUS, SVETLANA - D01463 - E120 - endokrinoloogia </br>Suunab cito perearst subakuutse türeoidiidi kahtlusel. </br>13.okt. patsient märganud vasemal pool kaelal moodustist. Kaebusteks ebamugavus kaela piirkonnas, peavalud, väsimus. Eilsest subfebriilne palavik. </br>Kaasuvaid haigusi ei ole. Pärilikkus : ei tea. </br>M- regulaarne. Ravimeid ei tarvita. </br>Obj. Kilpnääre II, vas. palpeeritav suur valulik moodustis 4 -5 cm - tsüst? </br>Nahk soe, niiske. Silmad - ii. </br>RR 108/70 mmHg, fr 86 x min </br>Uuringud : kilpn. UH, biopsia vas. sagarast, TSH, FT4, TPO, CT, PTH, Ca, kl. veri, SR, CRV - subakuutne türeoidiit ?  </br>Kiiresti tekkinud tsüst?  </div></td>\n",
       "    </tr>\n",
       "  </tbody>\n",
       "</table>\n",
       "<table border=\"1\" class=\"dataframe\">\n",
       "  <thead>\n",
       "    <tr style=\"text-align: right;\">\n",
       "      <th>layer name</th>\n",
       "      <th>attributes</th>\n",
       "      <th>parent</th>\n",
       "      <th>enveloping</th>\n",
       "      <th>ambiguous</th>\n",
       "      <th>span count</th>\n",
       "    </tr>\n",
       "  </thead>\n",
       "  <tbody>\n",
       "    <tr>\n",
       "      <td>event_tokens</td>\n",
       "      <td>grammar_symbol, unit_type, value, specialty_code, specialty, regex_type</td>\n",
       "      <td>None</td>\n",
       "      <td>None</td>\n",
       "      <td>True</td>\n",
       "      <td>23</td>\n",
       "    </tr>\n",
       "    <tr>\n",
       "      <td>events</td>\n",
       "      <td>DATE, HEADERWORD, DOCTOR, DOCTOR_CODE, SPECIALTY, SPECIALTY_CODE, ANONYM</td>\n",
       "      <td>None</td>\n",
       "      <td>event_tokens</td>\n",
       "      <td>True</td>\n",
       "      <td>2</td>\n",
       "    </tr>\n",
       "  </tbody>\n",
       "</table>"
      ],
      "text/plain": [
       "Text(text='\\n18.10.2012 10:21 - MATJUS, SVETLANA - D01463 - E120 - endokrinoloogia \\nSuunab cito perearst subakuutse türeoidiidi kahtlusel. \\n13.okt. patsient märganud vasemal pool kaelal moodustist. Kaebusteks ebamugavus kaela piirkonnas, peavalud, väsimus. Eilsest subfebriilne palavik. \\nKaasuvaid haigusi ei ole. Pärilikkus : ei tea. \\nM- regulaarne. Ravimeid ei tarvita. \\nObj. Kilpnääre II, vas. palpeeritav suur valulik moodustis 4 -5 cm - tsüst? \\nNahk soe, niiske. Silmad - ii. \\nRR 108/70 mmHg, fr 86 x min \\nUuringud : kilpn. UH, biopsia vas. sagarast, TSH, FT4, TPO, CT, PTH, Ca, kl. veri, SR, CRV - subakuutne türeoidiit ?  \\nKiiresti tekkinud tsüst?  ')"
      ]
     },
     "execution_count": 60,
     "metadata": {},
     "output_type": "execute_result"
    }
   ],
   "source": [
    "too_many_found[0]"
   ]
  },
  {
   "cell_type": "code",
   "execution_count": 62,
   "metadata": {},
   "outputs": [
    {
     "data": {
      "text/html": [
       "<h4>Layer</h4>\n",
       "\n",
       "<table border=\"1\" class=\"dataframe\">\n",
       "  <thead>\n",
       "    <tr style=\"text-align: right;\">\n",
       "      <th>layer name</th>\n",
       "      <th>attributes</th>\n",
       "      <th>parent</th>\n",
       "      <th>enveloping</th>\n",
       "      <th>ambiguous</th>\n",
       "      <th>span count</th>\n",
       "    </tr>\n",
       "  </thead>\n",
       "  <tbody>\n",
       "    <tr>\n",
       "      <td>event_tokens</td>\n",
       "      <td>grammar_symbol, unit_type, value, specialty_code, specialty, regex_type</td>\n",
       "      <td>None</td>\n",
       "      <td>None</td>\n",
       "      <td>True</td>\n",
       "      <td>23</td>\n",
       "    </tr>\n",
       "  </tbody>\n",
       "</table>\n",
       "<table border=\"1\" class=\"dataframe\">\n",
       "  <thead>\n",
       "    <tr style=\"text-align: right;\">\n",
       "      <th>text</th>\n",
       "      <th>grammar_symbol</th>\n",
       "      <th>unit_type</th>\n",
       "      <th>value</th>\n",
       "      <th>specialty_code</th>\n",
       "      <th>specialty</th>\n",
       "      <th>regex_type</th>\n",
       "    </tr>\n",
       "  </thead>\n",
       "  <tbody>\n",
       "    <tr>\n",
       "      <td>\\n18.10.2012 10:21</td>\n",
       "      <td>DATE</td>\n",
       "      <td>None</td>\n",
       "      <td>18.10.2012 10:21</td>\n",
       "      <td>None</td>\n",
       "      <td>None</td>\n",
       "      <td>date</td>\n",
       "    </tr>\n",
       "    <tr>\n",
       "      <td>- MATJUS, SVETLANA - D01463 - E120 - endokrinoloogia \\n</td>\n",
       "      <td>HEADERWORD</td>\n",
       "      <td>None</td>\n",
       "      <td>&lt;regex.Match object; span=(18, 72), match='- MATJUS, SVETLANA - D01463 - E120 -  ..., type: &lt;class '_regex.Match'&gt;, length: 1</td>\n",
       "      <td>None</td>\n",
       "      <td>None</td>\n",
       "      <td>header_word</td>\n",
       "    </tr>\n",
       "    <tr>\n",
       "      <td>MATJUS, SVETLANA</td>\n",
       "      <td>DOCTOR</td>\n",
       "      <td>None</td>\n",
       "      <td>MATJUS, SVETLANA</td>\n",
       "      <td>None</td>\n",
       "      <td>None</td>\n",
       "      <td>doctor</td>\n",
       "    </tr>\n",
       "    <tr>\n",
       "      <td>D01463</td>\n",
       "      <td>DOCTOR_CODE</td>\n",
       "      <td>None</td>\n",
       "      <td>D01463</td>\n",
       "      <td>None</td>\n",
       "      <td>None</td>\n",
       "      <td>doctor_code</td>\n",
       "    </tr>\n",
       "    <tr>\n",
       "      <td>E120 - endokrinoloogia \\n</td>\n",
       "      <td>SPECIALTY</td>\n",
       "      <td>None</td>\n",
       "      <td>whatever</td>\n",
       "      <td>E120</td>\n",
       "      <td>endokrinoloogia</td>\n",
       "      <td>specialty</td>\n",
       "    </tr>\n",
       "    <tr>\n",
       "      <td>Suunab cito perearst subakuutse türeoidiidi kahtlusel. \\n13.okt. patsient märganu ..., type: &lt;class 'str'&gt;, length: 141</td>\n",
       "      <td>RANDOM_TEXT</td>\n",
       "      <td>None</td>\n",
       "      <td>None</td>\n",
       "      <td>None</td>\n",
       "      <td>None</td>\n",
       "      <td>None</td>\n",
       "    </tr>\n",
       "    <tr>\n",
       "      <td>piirkonnas, peavalud</td>\n",
       "      <td>DOCTOR</td>\n",
       "      <td>None</td>\n",
       "      <td>piirkonnas, peavalud</td>\n",
       "      <td>None</td>\n",
       "      <td>None</td>\n",
       "      <td>doctor</td>\n",
       "    </tr>\n",
       "    <tr>\n",
       "      <td>väsimus. Eilsest subfebriilne palavik. \\nKaasuvaid haigusi ei ole. Pärilikkus : e ..., type: &lt;class 'str'&gt;, length: 139</td>\n",
       "      <td>RANDOM_TEXT</td>\n",
       "      <td>None</td>\n",
       "      <td>None</td>\n",
       "      <td>None</td>\n",
       "      <td>None</td>\n",
       "      <td>None</td>\n",
       "    </tr>\n",
       "    <tr>\n",
       "      <td>II, vas</td>\n",
       "      <td>DOCTOR</td>\n",
       "      <td>None</td>\n",
       "      <td>II, vas</td>\n",
       "      <td>None</td>\n",
       "      <td>None</td>\n",
       "      <td>doctor</td>\n",
       "    </tr>\n",
       "    <tr>\n",
       "      <td>palpeeritav suur valulik moodustis 4 -5 cm - tsüst? \\nNahk</td>\n",
       "      <td>RANDOM_TEXT</td>\n",
       "      <td>None</td>\n",
       "      <td>None</td>\n",
       "      <td>None</td>\n",
       "      <td>None</td>\n",
       "      <td>None</td>\n",
       "    </tr>\n",
       "    <tr>\n",
       "      <td>soe, niiske</td>\n",
       "      <td>DOCTOR</td>\n",
       "      <td>None</td>\n",
       "      <td>soe, niiske</td>\n",
       "      <td>None</td>\n",
       "      <td>None</td>\n",
       "      <td>doctor</td>\n",
       "    </tr>\n",
       "    <tr>\n",
       "      <td>Silmad - ii. \\nRR 108/70</td>\n",
       "      <td>RANDOM_TEXT</td>\n",
       "      <td>None</td>\n",
       "      <td>None</td>\n",
       "      <td>None</td>\n",
       "      <td>None</td>\n",
       "      <td>None</td>\n",
       "    </tr>\n",
       "    <tr>\n",
       "      <td>mmHg, fr</td>\n",
       "      <td>DOCTOR</td>\n",
       "      <td>None</td>\n",
       "      <td>mmHg, fr</td>\n",
       "      <td>None</td>\n",
       "      <td>None</td>\n",
       "      <td>doctor</td>\n",
       "    </tr>\n",
       "    <tr>\n",
       "      <td>86 x min \\nUuringud : kilpn</td>\n",
       "      <td>RANDOM_TEXT</td>\n",
       "      <td>None</td>\n",
       "      <td>None</td>\n",
       "      <td>None</td>\n",
       "      <td>None</td>\n",
       "      <td>None</td>\n",
       "    </tr>\n",
       "    <tr>\n",
       "      <td>UH, biopsia</td>\n",
       "      <td>DOCTOR</td>\n",
       "      <td>None</td>\n",
       "      <td>UH, biopsia</td>\n",
       "      <td>None</td>\n",
       "      <td>None</td>\n",
       "      <td>doctor</td>\n",
       "    </tr>\n",
       "    <tr>\n",
       "      <td>vas</td>\n",
       "      <td>RANDOM_TEXT</td>\n",
       "      <td>None</td>\n",
       "      <td>None</td>\n",
       "      <td>None</td>\n",
       "      <td>None</td>\n",
       "      <td>None</td>\n",
       "    </tr>\n",
       "    <tr>\n",
       "      <td>sagarast, TSH</td>\n",
       "      <td>DOCTOR</td>\n",
       "      <td>None</td>\n",
       "      <td>sagarast, TSH</td>\n",
       "      <td>None</td>\n",
       "      <td>None</td>\n",
       "      <td>doctor</td>\n",
       "    </tr>\n",
       "    <tr>\n",
       "      <td>FT4</td>\n",
       "      <td>RANDOM_TEXT</td>\n",
       "      <td>None</td>\n",
       "      <td>None</td>\n",
       "      <td>None</td>\n",
       "      <td>None</td>\n",
       "      <td>None</td>\n",
       "    </tr>\n",
       "    <tr>\n",
       "      <td>TPO, CT</td>\n",
       "      <td>DOCTOR</td>\n",
       "      <td>None</td>\n",
       "      <td>TPO, CT</td>\n",
       "      <td>None</td>\n",
       "      <td>None</td>\n",
       "      <td>doctor</td>\n",
       "    </tr>\n",
       "    <tr>\n",
       "      <td>PTH, Ca</td>\n",
       "      <td>DOCTOR</td>\n",
       "      <td>None</td>\n",
       "      <td>PTH, Ca</td>\n",
       "      <td>None</td>\n",
       "      <td>None</td>\n",
       "      <td>doctor</td>\n",
       "    </tr>\n",
       "    <tr>\n",
       "      <td>kl</td>\n",
       "      <td>RANDOM_TEXT</td>\n",
       "      <td>None</td>\n",
       "      <td>None</td>\n",
       "      <td>None</td>\n",
       "      <td>None</td>\n",
       "      <td>None</td>\n",
       "    </tr>\n",
       "    <tr>\n",
       "      <td>veri, SR</td>\n",
       "      <td>DOCTOR</td>\n",
       "      <td>None</td>\n",
       "      <td>veri, SR</td>\n",
       "      <td>None</td>\n",
       "      <td>None</td>\n",
       "      <td>doctor</td>\n",
       "    </tr>\n",
       "    <tr>\n",
       "      <td>CRV - subakuutne türeoidiit ?  \\nKiiresti tekkinud tsüst?</td>\n",
       "      <td>RANDOM_TEXT</td>\n",
       "      <td>None</td>\n",
       "      <td>None</td>\n",
       "      <td>None</td>\n",
       "      <td>None</td>\n",
       "      <td>None</td>\n",
       "    </tr>\n",
       "  </tbody>\n",
       "</table>"
      ],
      "text/plain": [
       "Layer(name='event_tokens', attributes=('grammar_symbol', 'unit_type', 'value', 'specialty_code', 'specialty', 'regex_type'), spans=SL[AS(start=0, end=17, text:'\\n18.10.2012 10:21'),\n",
       "AS(start=18, end=72, text:'- MATJUS, SVETLANA - D01463 - E120 - endokrinoloogia \\n'),\n",
       "AS(start=20, end=36, text:'MATJUS, SVETLANA'),\n",
       "AS(start=39, end=45, text:'D01463'),\n",
       "AS(start=48, end=72, text:'E120 - endokrinoloogia \\n'),\n",
       "AS(start=72, end=213, text:'Suunab cito perearst subakuutse türeoidiidi kahtlusel. \\n13.okt. patsient märganud vasemal pool kaelal moodustist. Kaebusteks ebamugavus kaela'),\n",
       "AS(start=214, end=234, text:'piirkonnas, peavalud'),\n",
       "AS(start=236, end=375, text:'väsimus. Eilsest subfebriilne palavik. \\nKaasuvaid haigusi ei ole. Pärilikkus : ei tea. \\nM- regulaarne. Ravimeid ei tarvita. \\nObj. Kilpnääre'),\n",
       "AS(start=376, end=383, text:'II, vas'),\n",
       "AS(start=385, end=442, text:'palpeeritav suur valulik moodustis 4 -5 cm - tsüst? \\nNahk'),\n",
       "AS(start=443, end=454, text:'soe, niiske'),\n",
       "AS(start=456, end=479, text:'Silmad - ii. \\nRR 108/70'),\n",
       "AS(start=480, end=488, text:'mmHg, fr'),\n",
       "AS(start=489, end=515, text:'86 x min \\nUuringud : kilpn'),\n",
       "AS(start=517, end=528, text:'UH, biopsia'),\n",
       "AS(start=529, end=532, text:'vas'),\n",
       "AS(start=534, end=547, text:'sagarast, TSH'),\n",
       "AS(start=549, end=552, text:'FT4'),\n",
       "AS(start=554, end=561, text:'TPO, CT'),\n",
       "AS(start=563, end=570, text:'PTH, Ca'),\n",
       "AS(start=572, end=574, text:'kl'),\n",
       "AS(start=576, end=584, text:'veri, SR'),\n",
       "AS(start=586, end=642, text:'CRV - subakuutne türeoidiit ?  \\nKiiresti tekkinud tsüst?')])"
      ]
     },
     "execution_count": 62,
     "metadata": {},
     "output_type": "execute_result"
    }
   ],
   "source": [
    "too_many_found[0].event_tokens"
   ]
  },
  {
   "cell_type": "code",
   "execution_count": 61,
   "metadata": {},
   "outputs": [
    {
     "data": {
      "text/html": [
       "<h4>Layer</h4>\n",
       "\n",
       "<table border=\"1\" class=\"dataframe\">\n",
       "  <thead>\n",
       "    <tr style=\"text-align: right;\">\n",
       "      <th>layer name</th>\n",
       "      <th>attributes</th>\n",
       "      <th>parent</th>\n",
       "      <th>enveloping</th>\n",
       "      <th>ambiguous</th>\n",
       "      <th>span count</th>\n",
       "    </tr>\n",
       "  </thead>\n",
       "  <tbody>\n",
       "    <tr>\n",
       "      <td>events</td>\n",
       "      <td>DATE, HEADERWORD, DOCTOR, DOCTOR_CODE, SPECIALTY, SPECIALTY_CODE, ANONYM</td>\n",
       "      <td>None</td>\n",
       "      <td>event_tokens</td>\n",
       "      <td>True</td>\n",
       "      <td>2</td>\n",
       "    </tr>\n",
       "  </tbody>\n",
       "</table>\n",
       "<table border=\"1\" class=\"dataframe\">\n",
       "  <thead>\n",
       "    <tr style=\"text-align: right;\">\n",
       "      <th>text</th>\n",
       "      <th>DATE</th>\n",
       "      <th>HEADERWORD</th>\n",
       "      <th>DOCTOR</th>\n",
       "      <th>DOCTOR_CODE</th>\n",
       "      <th>SPECIALTY</th>\n",
       "      <th>SPECIALTY_CODE</th>\n",
       "      <th>ANONYM</th>\n",
       "    </tr>\n",
       "  </thead>\n",
       "  <tbody>\n",
       "    <tr>\n",
       "      <td>['\\n18.10.2012 10:21', '- MATJUS, SVETLANA - D01463 - E120 - endokrinoloogia \\n']</td>\n",
       "      <td>\\n18.10.2012 10:21</td>\n",
       "      <td>- MATJUS, SVETLANA - D01463 - E120 - endokrinoloogia \\n</td>\n",
       "      <td></td>\n",
       "      <td></td>\n",
       "      <td></td>\n",
       "      <td></td>\n",
       "      <td>[]</td>\n",
       "    </tr>\n",
       "    <tr>\n",
       "      <td>['\\n18.10.2012 10:21', 'MATJUS, SVETLANA', 'D01463', 'E120 - endokrinoloogia \\n']</td>\n",
       "      <td>\\n18.10.2012 10:21</td>\n",
       "      <td></td>\n",
       "      <td>MATJUS, SVETLANA</td>\n",
       "      <td>D01463</td>\n",
       "      <td>endokrinoloogia</td>\n",
       "      <td>E120</td>\n",
       "      <td>[]</td>\n",
       "    </tr>\n",
       "  </tbody>\n",
       "</table>"
      ],
      "text/plain": [
       "Layer(name='events', attributes=('DATE', 'HEADERWORD', 'DOCTOR', 'DOCTOR_CODE', 'SPECIALTY', 'SPECIALTY_CODE', 'ANONYM'), spans=SL[AS(start=0, end=72, text:['\\n18.10.2012 10:21', '- MATJUS, SVETLANA - D01463 - E120 - endokrinoloogia \\n']),\n",
       "AS(start=0, end=72, text:['\\n18.10.2012 10:21', 'MATJUS, SVETLANA', 'D01463', 'E120 - endokrinoloogia \\n'])])"
      ]
     },
     "execution_count": 61,
     "metadata": {},
     "output_type": "execute_result"
    }
   ],
   "source": [
    "too_many_found[0].events"
   ]
  },
  {
   "cell_type": "code",
   "execution_count": 51,
   "metadata": {},
   "outputs": [
    {
     "name": "stdout",
     "output_type": "stream",
     "text": [
      "\n",
      "                  24.05.2011 09:00\n",
      "\n",
      "Layer(name='events', attributes=('DATE', 'HEADERWORD', 'DOCTOR', 'DOCTOR_CODE', 'SPECIALTY', 'SPECIALTY_CODE', 'ANONYM'), spans=SL[AS(start=0, end=35, text:['\\n                  24.05.2011\\xa009:00'])])\n",
      "\n",
      "                   \n",
      "                  07.06.2011 11:58\n",
      "\n",
      "Layer(name='events', attributes=('DATE', 'HEADERWORD', 'DOCTOR', 'DOCTOR_CODE', 'SPECIALTY', 'SPECIALTY_CODE', 'ANONYM'), spans=SL[AS(start=0, end=55, text:['\\n                   \\n                  07.06.2011\\xa011:58'])])\n",
      "\n",
      "                   \n",
      "                  21.06.2011 10:20\n",
      "\n",
      "Layer(name='events', attributes=('DATE', 'HEADERWORD', 'DOCTOR', 'DOCTOR_CODE', 'SPECIALTY', 'SPECIALTY_CODE', 'ANONYM'), spans=SL[AS(start=0, end=55, text:['\\n                   \\n                  21.06.2011\\xa010:20'])])\n",
      "20.01.2012 \n",
      "\n",
      "Layer(name='events', attributes=('DATE', 'HEADERWORD', 'DOCTOR', 'DOCTOR_CODE', 'SPECIALTY', 'SPECIALTY_CODE', 'ANONYM'), spans=SL[AS(start=0, end=11, text:['20.01.2012 '])])\n",
      "\n",
      "30.04.2014 \n",
      "\n",
      "Layer(name='events', attributes=('DATE', 'HEADERWORD', 'DOCTOR', 'DOCTOR_CODE', 'SPECIALTY', 'SPECIALTY_CODE', 'ANONYM'), spans=SL[AS(start=0, end=12, text:['\\n30.04.2014 '])])\n",
      "\n",
      "30.04.2014 \n",
      "\n",
      "Layer(name='events', attributes=('DATE', 'HEADERWORD', 'DOCTOR', 'DOCTOR_CODE', 'SPECIALTY', 'SPECIALTY_CODE', 'ANONYM'), spans=SL[AS(start=0, end=12, text:['\\n30.04.2014 '])])\n",
      "\n",
      "30.04.2014 \n",
      "\n",
      "Layer(name='events', attributes=('DATE', 'HEADERWORD', 'DOCTOR', 'DOCTOR_CODE', 'SPECIALTY', 'SPECIALTY_CODE', 'ANONYM'), spans=SL[AS(start=0, end=12, text:['\\n30.04.2014 '])])\n",
      "\n",
      "30.04.2014 \n",
      "\n",
      "Layer(name='events', attributes=('DATE', 'HEADERWORD', 'DOCTOR', 'DOCTOR_CODE', 'SPECIALTY', 'SPECIALTY_CODE', 'ANONYM'), spans=SL[AS(start=0, end=12, text:['\\n30.04.2014 '])])\n",
      "\n",
      "30.04.2014 \n",
      "\n",
      "Layer(name='events', attributes=('DATE', 'HEADERWORD', 'DOCTOR', 'DOCTOR_CODE', 'SPECIALTY', 'SPECIALTY_CODE', 'ANONYM'), spans=SL[AS(start=0, end=12, text:['\\n30.04.2014 '])])\n"
     ]
    }
   ],
   "source": [
    "for i in found[1:10]:\n",
    "    print(i.text)\n",
    "    print()\n",
    "    print(i.events)\n",
    "    #break"
   ]
  },
  {
   "cell_type": "code",
   "execution_count": null,
   "metadata": {},
   "outputs": [],
   "source": []
  }
 ],
 "metadata": {
  "kernelspec": {
   "display_name": "Python 3",
   "language": "python",
   "name": "python3"
  },
  "language_info": {
   "codemirror_mode": {
    "name": "ipython",
    "version": 3
   },
   "file_extension": ".py",
   "mimetype": "text/x-python",
   "name": "python",
   "nbconvert_exporter": "python",
   "pygments_lexer": "ipython3",
   "version": "3.6.9"
  }
 },
 "nbformat": 4,
 "nbformat_minor": 2
}
