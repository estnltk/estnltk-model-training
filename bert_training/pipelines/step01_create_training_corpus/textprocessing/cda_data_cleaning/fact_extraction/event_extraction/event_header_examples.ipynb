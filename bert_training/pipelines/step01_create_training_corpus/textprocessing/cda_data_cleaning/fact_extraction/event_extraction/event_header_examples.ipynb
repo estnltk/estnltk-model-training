{
 "cells": [
  {
   "cell_type": "code",
   "execution_count": 1,
   "metadata": {},
   "outputs": [],
   "source": [
    "from estnltk import Text"
   ]
  },
  {
   "cell_type": "code",
   "execution_count": 3,
   "metadata": {},
   "outputs": [],
   "source": [
    "from step02_create_events_collection.taggers.event_token_tagger import EventTokenTagger"
   ]
  },
  {
   "cell_type": "code",
   "execution_count": 4,
   "metadata": {},
   "outputs": [],
   "source": [
    "from step02_create_events_collection.taggers.event_header_tagger import EventHeaderTagger"
   ]
  },
  {
   "cell_type": "code",
   "execution_count": 5,
   "metadata": {},
   "outputs": [],
   "source": [
    "from step02_create_events_collection.taggers.event_segments_tagger import EventSegmentsTagger"
   ]
  },
  {
   "cell_type": "code",
   "execution_count": 6,
   "metadata": {},
   "outputs": [],
   "source": [
    "event_token_tagger = EventTokenTagger(output_layer = 'event_tokens')\n",
    "event_header_tagger = EventHeaderTagger()"
   ]
  },
  {
   "cell_type": "code",
   "execution_count": 7,
   "metadata": {},
   "outputs": [],
   "source": [
    "event_segments_tagger = EventSegmentsTagger()"
   ]
  },
  {
   "cell_type": "code",
   "execution_count": 8,
   "metadata": {},
   "outputs": [],
   "source": [
    "import os"
   ]
  },
  {
   "cell_type": "code",
   "execution_count": 9,
   "metadata": {},
   "outputs": [],
   "source": [
    "files = os.listdir('tests/data/event_headers')"
   ]
  },
  {
   "cell_type": "code",
   "execution_count": 19,
   "metadata": {},
   "outputs": [
    {
     "data": {
      "text/plain": [
       "['type5_01.txt',\n",
       " 'type4_02.txt',\n",
       " 'type1_03.txt',\n",
       " 'type7_01.txt',\n",
       " 'type6_03.txt',\n",
       " 'type2_03.txt',\n",
       " 'type6_02.txt',\n",
       " 'type5_03.txt',\n",
       " 'type3_01.txt',\n",
       " 'type2_02.txt',\n",
       " 'type2_01.txt',\n",
       " 'type7_02.txt',\n",
       " 'type1_02.txt',\n",
       " 'type7_04.txt',\n",
       " 'type5_02.txt',\n",
       " 'type3_02.txt',\n",
       " 'type4_01.txt',\n",
       " 'type7_03.txt',\n",
       " 'type4_03.txt',\n",
       " 'type6_01.txt',\n",
       " 'type8_01.txt',\n",
       " 'type1_01.txt',\n",
       " 'type2_04.txt']"
      ]
     },
     "execution_count": 19,
     "metadata": {},
     "output_type": "execute_result"
    }
   ],
   "source": [
    "files"
   ]
  },
  {
   "cell_type": "code",
   "execution_count": 89,
   "metadata": {},
   "outputs": [
    {
     "name": "stdout",
     "output_type": "stream",
     "text": [
      "type5_01.txt\n",
      "type4_02.txt\n",
      "type1_03.txt\n",
      "type7_01.txt\n",
      "type6_03.txt\n",
      "type2_03.txt\n",
      "type6_02.txt\n",
      "type5_03.txt\n",
      "type3_01.txt\n",
      "type2_02.txt\n",
      "type2_01.txt\n",
      "type7_02.txt\n",
      "type1_02.txt\n",
      "type7_04.txt\n",
      "type5_02.txt\n",
      "type3_02.txt\n",
      "type4_01.txt\n",
      "type7_03.txt\n",
      "type4_03.txt\n",
      "type6_01.txt\n",
      "type8_01.txt\n",
      "type1_01.txt\n",
      "type2_04.txt\n"
     ]
    }
   ],
   "source": [
    "import csv\n",
    "texts_with_events = []\n",
    "for f in files:\n",
    "    print(f)\n",
    "    with open(os.path.join('tests/data/event_headers', f )) as fin:\n",
    "        foutname = f[:-4] + 'output.csv'\n",
    "        with open(os.path.join('tests/data/event_headers', foutname), \"w\") as fout:\n",
    "            writer = csv.writer(fout)\n",
    "            text = Text(fin.read())\n",
    "            event_token_tagger.tag(text)\n",
    "            event_header_tagger.tag(text)\n",
    "            event_segments_tagger.tag(text)\n",
    "            for h in text.event_headers:\n",
    "                row = [h.start, h.end, h.text[0]]\n",
    "                writer.writerow(row)\n",
    "            texts_with_events.append(text)"
   ]
  },
  {
   "cell_type": "code",
   "execution_count": 34,
   "metadata": {},
   "outputs": [
    {
     "data": {
      "text/plain": [
       "['\\n09.12.2011 ']"
      ]
     },
     "execution_count": 34,
     "metadata": {},
     "output_type": "execute_result"
    }
   ],
   "source": [
    "h.text"
   ]
  },
  {
   "cell_type": "code",
   "execution_count": 13,
   "metadata": {},
   "outputs": [
    {
     "data": {
      "text/plain": [
       "23"
      ]
     },
     "execution_count": 13,
     "metadata": {},
     "output_type": "execute_result"
    }
   ],
   "source": [
    "len(texts_with_events)"
   ]
  },
  {
   "cell_type": "code",
   "execution_count": 29,
   "metadata": {},
   "outputs": [
    {
     "data": {
      "text/plain": [
       "0"
      ]
     },
     "execution_count": 29,
     "metadata": {},
     "output_type": "execute_result"
    }
   ],
   "source": [
    "texts_with_events[1].event_headers[0].start"
   ]
  },
  {
   "cell_type": "code",
   "execution_count": 87,
   "metadata": {},
   "outputs": [
    {
     "name": "stdout",
     "output_type": "stream",
     "text": [
      "14.12.2016 visiit:\n",
      "  Pöördub üle 6 aasta. Kurdab, et  enesetunne ei ole hea juba mõnda aega, juba kuid: 3 kuud, rutu läheb pingesse, jõuetus, ei suuda asju lõpule viia. raske magama jääda, kiiresti ärkab üles, meile vaadates pinge, müügijuht: tulemused head. ei ole hakkamist. Eelmine depressioon taandus hästi sertraliiniga.\n",
      " Pt täidab <ANONYM id=\"1\" type=\"per\" morph=\"_Y_ ?\"/> 2 küsimustiku, seal saab ta tunnused, mis viitavad väljendunud depressioonile.Tihti on kurb, kardab tuleviku pärast rohkem kui tavaliselt, peab end äpardunuks, tunneb väga vähe naudingut asjadest, millest on varem tundunud, esineb süütunne, ei meeldi iseendale, on närvilisem kui tavaliselt, otsustamine on raske, uni on oluliselt häiritud, esineb pidev väsimus. Arvan, et tegemist on korduva mõõduka depressiooniga. Arutatud patsiendiga erinevaid depressiooni ravi võimalusi, kuna juhtiv unehäire, siis amitriptylin 25 mg ööseks, sertraliin 50 mg hommikul, perearstilt TVL, mida soovitan kindlasti jätkata.\n",
      "Patsient tagasi kutsutud 11.01.2017 (broneering 70885)\n",
      "\n",
      "\n"
     ]
    }
   ],
   "source": [
    "print(texts_with_events[3].text)"
   ]
  },
  {
   "cell_type": "code",
   "execution_count": 88,
   "metadata": {},
   "outputs": [
    {
     "data": {
      "text/html": [
       "<h4>Layer</h4>\n",
       "\n",
       "\n",
       "<table border=\"1\" class=\"dataframe\">\n",
       "  <thead>\n",
       "    <tr style=\"text-align: right;\">\n",
       "      <th>layer name</th>\n",
       "      <th>attributes</th>\n",
       "      <th>parent</th>\n",
       "      <th>enveloping</th>\n",
       "      <th>ambiguous</th>\n",
       "      <th>span count</th>\n",
       "    </tr>\n",
       "  </thead>\n",
       "  <tbody>\n",
       "    <tr>\n",
       "      <td>event_segments</td>\n",
       "      <td>header, header_offset, DATE, HEADERWORD, DOCTOR, DOCTOR_CODE, SPECIALTY, SPECIALTY_CODE, ANONYM</td>\n",
       "      <td>None</td>\n",
       "      <td>None</td>\n",
       "      <td>False</td>\n",
       "      <td>6</td>\n",
       "    </tr>\n",
       "  </tbody>\n",
       "</table>\n",
       "<table border=\"1\" class=\"dataframe\">\n",
       "  <thead>\n",
       "    <tr style=\"text-align: right;\">\n",
       "      <th>text</th>\n",
       "      <th>header</th>\n",
       "      <th>header_offset</th>\n",
       "      <th>DATE</th>\n",
       "      <th>HEADERWORD</th>\n",
       "      <th>DOCTOR</th>\n",
       "      <th>DOCTOR_CODE</th>\n",
       "      <th>SPECIALTY</th>\n",
       "      <th>SPECIALTY_CODE</th>\n",
       "      <th>ANONYM</th>\n",
       "    </tr>\n",
       "  </thead>\n",
       "  <tbody>\n",
       "    <tr>\n",
       "      <td>\\neelmisel nädalal peavalu ja RR oli üle 200 Täna 138/80 möl käel Kardiol otsus p ..., type: &lt;class 'str'&gt;, length: 323</td>\n",
       "      <td>30.04.2013:</td>\n",
       "      <td>0</td>\n",
       "      <td>30.04.2013:</td>\n",
       "      <td></td>\n",
       "      <td></td>\n",
       "      <td></td>\n",
       "      <td></td>\n",
       "      <td></td>\n",
       "      <td>[]</td>\n",
       "    </tr>\n",
       "    <tr>\n",
       "      <td></td>\n",
       "      <td>02.05.2013:</td>\n",
       "      <td>334</td>\n",
       "      <td>\\n02.05.2013:</td>\n",
       "      <td></td>\n",
       "      <td></td>\n",
       "      <td></td>\n",
       "      <td></td>\n",
       "      <td></td>\n",
       "      <td>[]</td>\n",
       "    </tr>\n",
       "    <tr>\n",
       "      <td>a korrata kreat.</td>\n",
       "      <td>0.5</td>\n",
       "      <td>346</td>\n",
       "      <td>\\n0.5</td>\n",
       "      <td></td>\n",
       "      <td></td>\n",
       "      <td></td>\n",
       "      <td></td>\n",
       "      <td></td>\n",
       "      <td>[]</td>\n",
       "    </tr>\n",
       "    <tr>\n",
       "      <td>\\nTäna tekkis tasakaalu häire, enesetunne väga paha.RR 140/88 p. käsi ja v.käsi 1 ..., type: &lt;class 'str'&gt;, length: 339</td>\n",
       "      <td>03.05.2013:</td>\n",
       "      <td>367</td>\n",
       "      <td>\\n03.05.2013:</td>\n",
       "      <td></td>\n",
       "      <td></td>\n",
       "      <td></td>\n",
       "      <td></td>\n",
       "      <td></td>\n",
       "      <td>[]</td>\n",
       "    </tr>\n",
       "    <tr>\n",
       "      <td>\\nIkka hüppel RR tõusud ja pearinglus . Betaserci ei taha. Seostab  RR kõikumiseg ..., type: &lt;class 'str'&gt;, length: 308</td>\n",
       "      <td>20.05.2013:</td>\n",
       "      <td>718</td>\n",
       "      <td>\\n20.05.2013:</td>\n",
       "      <td></td>\n",
       "      <td></td>\n",
       "      <td></td>\n",
       "      <td></td>\n",
       "      <td></td>\n",
       "      <td>[]</td>\n",
       "    </tr>\n",
       "    <tr>\n",
       "      <td>\\nRR Holteri lõpet RR maks . 163/98 PTE päeval 11 %. öösel 0%.  RR Rvai adekvaatn ..., type: &lt;class 'str'&gt;, length: 185</td>\n",
       "      <td>23.05.2013:</td>\n",
       "      <td>1038</td>\n",
       "      <td>\\n23.05.2013:</td>\n",
       "      <td></td>\n",
       "      <td></td>\n",
       "      <td></td>\n",
       "      <td></td>\n",
       "      <td></td>\n",
       "      <td>[]</td>\n",
       "    </tr>\n",
       "  </tbody>\n",
       "</table>"
      ],
      "text/plain": [
       "Layer(name='event_segments', attributes=('header', 'header_offset', 'DATE', 'HEADERWORD', 'DOCTOR', 'DOCTOR_CODE', 'SPECIALTY', 'SPECIALTY_CODE', 'ANONYM'), spans=SL[Span('\\neelmisel nädalal peavalu ja RR oli üle 200 Täna 138/80 möl käel Kardiol otsus pt käes : vaja RR ravi  tSstaja kaalust langetada,Kurdab valu süd piirkonnas.\\nRR 138/  80 mmhg. EKG  reg. siinusrytm 75 l.min horis s el posits.  i/V juhtehäired. pq n st isojoonel.\\n\\nAntud prooviks   Ramdacordia 190/5 Ramipril  +amlod 10/5 mmhg', [{'header': '30.04.2013:', 'header_offset': 0, 'DATE': '30.04.2013:', 'HEADERWORD': '', 'DOCTOR': '', 'DOCTOR_CODE': '', 'SPECIALTY': '', 'SPECIALTY_CODE': '', 'ANONYM': []}]),\n",
       "Span('', [{'header': '02.05.2013:', 'header_offset': 334, 'DATE': '\\n02.05.2013:', 'HEADERWORD': '', 'DOCTOR': '', 'DOCTOR_CODE': '', 'SPECIALTY': '', 'SPECIALTY_CODE': '', 'ANONYM': []}]),\n",
       "Span('a korrata kreat.', [{'header': '0.5', 'header_offset': 346, 'DATE': '\\n0.5 ', 'HEADERWORD': '', 'DOCTOR': '', 'DOCTOR_CODE': '', 'SPECIALTY': '', 'SPECIALTY_CODE': '', 'ANONYM': []}]),\n",
       "Span('\\nTäna tekkis tasakaalu häire, enesetunne väga paha.RR 140/88 p. käsi ja v.käsi 130/80\\nka varem hüppel RR tousud. Neerupeal adenoomi kahtlusel  09 mai kell 09.00 tapal sonogr ja RR <ANONYM id=\"0\" type=\"per\" morph=\"_H_ sg n\"/> 20.05\\nGün vv: Veritsemoine aeg-ajalt. Rakveres olid kõik anal. korras.Tupp. portio puhasEmakas adnexidpat. teiuta.', [{'header': '03.05.2013:', 'header_offset': 367, 'DATE': '\\n03.05.2013:', 'HEADERWORD': '', 'DOCTOR': '', 'DOCTOR_CODE': '', 'SPECIALTY': '', 'SPECIALTY_CODE': '', 'ANONYM': []}]),\n",
       "Span('\\nIkka hüppel RR tõusud ja pearinglus . Betaserci ei taha. Seostab  RR kõikumisega.  RR <ANONYM id=\"1\" type=\"per\" morph=\"_H_ sg n\"/>\\n<ANONYM id=\"2\" type=\"per\" morph=\"_V_ s\"/> sono vastuse see igati norm Lepib aja veel neerupeal CT suhtes INROMEDi.\\nSONOGRAAFIA NORM <ANONYM id=\"3\" type=\"per\" morph=\"_H_ sg n\"/>', [{'header': '20.05.2013:', 'header_offset': 718, 'DATE': '\\n20.05.2013:', 'HEADERWORD': '', 'DOCTOR': '', 'DOCTOR_CODE': '', 'SPECIALTY': '', 'SPECIALTY_CODE': '', 'ANONYM': []}]),\n",
       "Span('\\nRR Holteri lõpet RR maks . 163/98 PTE päeval 11 %. öösel 0%.  RR Rvai adekvaatne või edaspidi vajab reduts.st.RR tõusud seotud närvipingega.\\nRamdacordia /Ramipril ja amlod 5 / Jätkab.\\n', [{'header': '23.05.2013:', 'header_offset': 1038, 'DATE': '\\n23.05.2013:', 'HEADERWORD': '', 'DOCTOR': '', 'DOCTOR_CODE': '', 'SPECIALTY': '', 'SPECIALTY_CODE': '', 'ANONYM': []}])])"
      ]
     },
     "execution_count": 88,
     "metadata": {},
     "output_type": "execute_result"
    }
   ],
   "source": [
    "texts_with_events[2].event_segments"
   ]
  },
  {
   "cell_type": "code",
   "execution_count": null,
   "metadata": {},
   "outputs": [],
   "source": []
  },
  {
   "cell_type": "code",
   "execution_count": 9,
   "metadata": {},
   "outputs": [],
   "source": [
    "t = '''\n",
    "22.08.2014\n",
    "05.09.2014\n",
    "\n",
    "Hemogramm\n",
    "'''"
   ]
  },
  {
   "cell_type": "code",
   "execution_count": 10,
   "metadata": {},
   "outputs": [
    {
     "data": {
      "text/html": [
       "<table border=\"1\" class=\"dataframe\">\n",
       "  <thead>\n",
       "    <tr style=\"text-align: right;\">\n",
       "      <th>text</th>\n",
       "    </tr>\n",
       "  </thead>\n",
       "  <tbody>\n",
       "    <tr>\n",
       "      <td><div align = \"left\"></br>22.08.2014</br>05.09.2014</br></br>Hemogramm</br></div></td>\n",
       "    </tr>\n",
       "  </tbody>\n",
       "</table>\n",
       "<table border=\"1\" class=\"dataframe\">\n",
       "  <thead>\n",
       "    <tr style=\"text-align: right;\">\n",
       "      <th>layer name</th>\n",
       "      <th>attributes</th>\n",
       "      <th>parent</th>\n",
       "      <th>enveloping</th>\n",
       "      <th>ambiguous</th>\n",
       "      <th>span count</th>\n",
       "    </tr>\n",
       "  </thead>\n",
       "  <tbody>\n",
       "    <tr>\n",
       "      <td>event_tokens</td>\n",
       "      <td>grammar_symbol, unit_type, value, specialty_code, specialty, regex_type</td>\n",
       "      <td>None</td>\n",
       "      <td>None</td>\n",
       "      <td>True</td>\n",
       "      <td>3</td>\n",
       "    </tr>\n",
       "  </tbody>\n",
       "</table>"
      ],
      "text/plain": [
       "Text(text='\\n22.08.2014\\n05.09.2014\\n\\nHemogramm\\n')"
      ]
     },
     "execution_count": 10,
     "metadata": {},
     "output_type": "execute_result"
    }
   ],
   "source": [
    "text = Text(t)\n",
    "event_token_tagger.tag(text)"
   ]
  },
  {
   "cell_type": "code",
   "execution_count": 11,
   "metadata": {},
   "outputs": [
    {
     "data": {
      "text/html": [
       "<table border=\"1\" class=\"dataframe\">\n",
       "  <thead>\n",
       "    <tr style=\"text-align: right;\">\n",
       "      <th>text</th>\n",
       "    </tr>\n",
       "  </thead>\n",
       "  <tbody>\n",
       "    <tr>\n",
       "      <td><div align = \"left\"></br>22.08.2014</br>05.09.2014</br></br>Hemogramm</br></div></td>\n",
       "    </tr>\n",
       "  </tbody>\n",
       "</table>\n",
       "<table border=\"1\" class=\"dataframe\">\n",
       "  <thead>\n",
       "    <tr style=\"text-align: right;\">\n",
       "      <th>layer name</th>\n",
       "      <th>attributes</th>\n",
       "      <th>parent</th>\n",
       "      <th>enveloping</th>\n",
       "      <th>ambiguous</th>\n",
       "      <th>span count</th>\n",
       "    </tr>\n",
       "  </thead>\n",
       "  <tbody>\n",
       "    <tr>\n",
       "      <td>event_headers</td>\n",
       "      <td>DATE, HEADERWORD, DOCTOR, DOCTOR_CODE, SPECIALTY, SPECIALTY_CODE, ANONYM</td>\n",
       "      <td>None</td>\n",
       "      <td>event_tokens</td>\n",
       "      <td>True</td>\n",
       "      <td>2</td>\n",
       "    </tr>\n",
       "    <tr>\n",
       "      <td>event_tokens</td>\n",
       "      <td>grammar_symbol, unit_type, value, specialty_code, specialty, regex_type</td>\n",
       "      <td>None</td>\n",
       "      <td>None</td>\n",
       "      <td>True</td>\n",
       "      <td>3</td>\n",
       "    </tr>\n",
       "  </tbody>\n",
       "</table>"
      ],
      "text/plain": [
       "Text(text='\\n22.08.2014\\n05.09.2014\\n\\nHemogramm\\n')"
      ]
     },
     "execution_count": 11,
     "metadata": {},
     "output_type": "execute_result"
    }
   ],
   "source": [
    "event_header_tagger.tag(text)"
   ]
  },
  {
   "cell_type": "code",
   "execution_count": 12,
   "metadata": {},
   "outputs": [
    {
     "data": {
      "text/html": [
       "<h4>Layer</h4>\n",
       "\n",
       "\n",
       "<table border=\"1\" class=\"dataframe\">\n",
       "  <thead>\n",
       "    <tr style=\"text-align: right;\">\n",
       "      <th>layer name</th>\n",
       "      <th>attributes</th>\n",
       "      <th>parent</th>\n",
       "      <th>enveloping</th>\n",
       "      <th>ambiguous</th>\n",
       "      <th>span count</th>\n",
       "    </tr>\n",
       "  </thead>\n",
       "  <tbody>\n",
       "    <tr>\n",
       "      <td>event_headers</td>\n",
       "      <td>DATE, HEADERWORD, DOCTOR, DOCTOR_CODE, SPECIALTY, SPECIALTY_CODE, ANONYM</td>\n",
       "      <td>None</td>\n",
       "      <td>event_tokens</td>\n",
       "      <td>True</td>\n",
       "      <td>2</td>\n",
       "    </tr>\n",
       "  </tbody>\n",
       "</table>\n",
       "<table border=\"1\" class=\"dataframe\">\n",
       "  <thead>\n",
       "    <tr style=\"text-align: right;\">\n",
       "      <th>text</th>\n",
       "      <th>DATE</th>\n",
       "      <th>HEADERWORD</th>\n",
       "      <th>DOCTOR</th>\n",
       "      <th>DOCTOR_CODE</th>\n",
       "      <th>SPECIALTY</th>\n",
       "      <th>SPECIALTY_CODE</th>\n",
       "      <th>ANONYM</th>\n",
       "    </tr>\n",
       "  </thead>\n",
       "  <tbody>\n",
       "    <tr>\n",
       "      <td>['\\n22.08.2014\\n']</td>\n",
       "      <td>\\n22.08.2014\\n</td>\n",
       "      <td></td>\n",
       "      <td></td>\n",
       "      <td></td>\n",
       "      <td></td>\n",
       "      <td></td>\n",
       "      <td>[]</td>\n",
       "    </tr>\n",
       "    <tr>\n",
       "      <td>['\\n05.09.2014\\n', 'Hemogramm\\n']</td>\n",
       "      <td>\\n05.09.2014\\n</td>\n",
       "      <td>Hemogramm\\n</td>\n",
       "      <td></td>\n",
       "      <td></td>\n",
       "      <td></td>\n",
       "      <td></td>\n",
       "      <td>[]</td>\n",
       "    </tr>\n",
       "  </tbody>\n",
       "</table>"
      ],
      "text/plain": [
       "Layer(name='event_headers', attributes=('DATE', 'HEADERWORD', 'DOCTOR', 'DOCTOR_CODE', 'SPECIALTY', 'SPECIALTY_CODE', 'ANONYM'), spans=SL[EnvelopingSpan(['\\n22.08.2014\\n'], [{'DATE': '\\n22.08.2014\\n', 'HEADERWORD': '', 'DOCTOR': '', 'DOCTOR_CODE': '', 'SPECIALTY': '', 'SPECIALTY_CODE': '', 'ANONYM': []}]),\n",
       "EnvelopingSpan(['\\n05.09.2014\\n', 'Hemogramm\\n'], [{'DATE': '\\n05.09.2014\\n', 'HEADERWORD': 'Hemogramm\\n', 'DOCTOR': '', 'DOCTOR_CODE': '', 'SPECIALTY': '', 'SPECIALTY_CODE': '', 'ANONYM': []}])])"
      ]
     },
     "execution_count": 12,
     "metadata": {},
     "output_type": "execute_result"
    }
   ],
   "source": [
    "text.event_headers"
   ]
  },
  {
   "cell_type": "code",
   "execution_count": 13,
   "metadata": {},
   "outputs": [
    {
     "data": {
      "text/html": [
       "<table border=\"1\" class=\"dataframe\">\n",
       "  <thead>\n",
       "    <tr style=\"text-align: right;\">\n",
       "      <th>text</th>\n",
       "    </tr>\n",
       "  </thead>\n",
       "  <tbody>\n",
       "    <tr>\n",
       "      <td><div align = \"left\"></br>22.08.2014</br>05.09.2014</br></br>Hemogramm</br></div></td>\n",
       "    </tr>\n",
       "  </tbody>\n",
       "</table>\n",
       "<table border=\"1\" class=\"dataframe\">\n",
       "  <thead>\n",
       "    <tr style=\"text-align: right;\">\n",
       "      <th>layer name</th>\n",
       "      <th>attributes</th>\n",
       "      <th>parent</th>\n",
       "      <th>enveloping</th>\n",
       "      <th>ambiguous</th>\n",
       "      <th>span count</th>\n",
       "    </tr>\n",
       "  </thead>\n",
       "  <tbody>\n",
       "    <tr>\n",
       "      <td>event_headers</td>\n",
       "      <td>DATE, HEADERWORD, DOCTOR, DOCTOR_CODE, SPECIALTY, SPECIALTY_CODE, ANONYM</td>\n",
       "      <td>None</td>\n",
       "      <td>event_tokens</td>\n",
       "      <td>True</td>\n",
       "      <td>2</td>\n",
       "    </tr>\n",
       "    <tr>\n",
       "      <td>event_segments</td>\n",
       "      <td>header, header_offset, DATE, HEADERWORD, DOCTOR, DOCTOR_CODE, SPECIALTY, SPECIALTY_CODE, ANONYM</td>\n",
       "      <td>None</td>\n",
       "      <td>None</td>\n",
       "      <td>False</td>\n",
       "      <td>2</td>\n",
       "    </tr>\n",
       "    <tr>\n",
       "      <td>event_tokens</td>\n",
       "      <td>grammar_symbol, unit_type, value, specialty_code, specialty, regex_type</td>\n",
       "      <td>None</td>\n",
       "      <td>None</td>\n",
       "      <td>True</td>\n",
       "      <td>3</td>\n",
       "    </tr>\n",
       "  </tbody>\n",
       "</table>"
      ],
      "text/plain": [
       "Text(text='\\n22.08.2014\\n05.09.2014\\n\\nHemogramm\\n')"
      ]
     },
     "execution_count": 13,
     "metadata": {},
     "output_type": "execute_result"
    }
   ],
   "source": [
    "event_segments_tagger.tag(text)"
   ]
  },
  {
   "cell_type": "code",
   "execution_count": 17,
   "metadata": {},
   "outputs": [
    {
     "data": {
      "text/html": [
       "<h4>Layer</h4>\n",
       "\n",
       "\n",
       "<table border=\"1\" class=\"dataframe\">\n",
       "  <thead>\n",
       "    <tr style=\"text-align: right;\">\n",
       "      <th>layer name</th>\n",
       "      <th>attributes</th>\n",
       "      <th>parent</th>\n",
       "      <th>enveloping</th>\n",
       "      <th>ambiguous</th>\n",
       "      <th>span count</th>\n",
       "    </tr>\n",
       "  </thead>\n",
       "  <tbody>\n",
       "    <tr>\n",
       "      <td>event_segments</td>\n",
       "      <td>header, header_offset, DATE, HEADERWORD, DOCTOR, DOCTOR_CODE, SPECIALTY, SPECIALTY_CODE, ANONYM</td>\n",
       "      <td>None</td>\n",
       "      <td>None</td>\n",
       "      <td>False</td>\n",
       "      <td>2</td>\n",
       "    </tr>\n",
       "  </tbody>\n",
       "</table>\n",
       "<table border=\"1\" class=\"dataframe\">\n",
       "  <thead>\n",
       "    <tr style=\"text-align: right;\">\n",
       "      <th>text</th>\n",
       "      <th>header</th>\n",
       "      <th>header_offset</th>\n",
       "      <th>DATE</th>\n",
       "      <th>HEADERWORD</th>\n",
       "      <th>DOCTOR</th>\n",
       "      <th>DOCTOR_CODE</th>\n",
       "      <th>SPECIALTY</th>\n",
       "      <th>SPECIALTY_CODE</th>\n",
       "      <th>ANONYM</th>\n",
       "    </tr>\n",
       "  </thead>\n",
       "  <tbody>\n",
       "    <tr>\n",
       "      <td></td>\n",
       "      <td>22.08.2014</td>\n",
       "      <td>0</td>\n",
       "      <td>\\n22.08.2014\\n</td>\n",
       "      <td></td>\n",
       "      <td></td>\n",
       "      <td></td>\n",
       "      <td></td>\n",
       "      <td></td>\n",
       "      <td>[]</td>\n",
       "    </tr>\n",
       "    <tr>\n",
       "      <td></td>\n",
       "      <td>05.09.2014\\n\\nHemogramm</td>\n",
       "      <td>11</td>\n",
       "      <td>\\n05.09.2014\\n</td>\n",
       "      <td>Hemogramm\\n</td>\n",
       "      <td></td>\n",
       "      <td></td>\n",
       "      <td></td>\n",
       "      <td></td>\n",
       "      <td>[]</td>\n",
       "    </tr>\n",
       "  </tbody>\n",
       "</table>"
      ],
      "text/plain": [
       "Layer(name='event_segments', attributes=('header', 'header_offset', 'DATE', 'HEADERWORD', 'DOCTOR', 'DOCTOR_CODE', 'SPECIALTY', 'SPECIALTY_CODE', 'ANONYM'), spans=SL[Span('', [{'header': '22.08.2014', 'header_offset': 0, 'DATE': '\\n22.08.2014\\n', 'HEADERWORD': '', 'DOCTOR': '', 'DOCTOR_CODE': '', 'SPECIALTY': '', 'SPECIALTY_CODE': '', 'ANONYM': []}]),\n",
       "Span('', [{'header': '05.09.2014\\n\\nHemogramm', 'header_offset': 11, 'DATE': '\\n05.09.2014\\n', 'HEADERWORD': 'Hemogramm\\n', 'DOCTOR': '', 'DOCTOR_CODE': '', 'SPECIALTY': '', 'SPECIALTY_CODE': '', 'ANONYM': []}])])"
      ]
     },
     "execution_count": 17,
     "metadata": {},
     "output_type": "execute_result"
    }
   ],
   "source": [
    "text.event_segments"
   ]
  },
  {
   "cell_type": "code",
   "execution_count": 15,
   "metadata": {},
   "outputs": [
    {
     "data": {
      "text/html": [
       "<h4>Layer</h4>\n",
       "\n",
       "\n",
       "<table border=\"1\" class=\"dataframe\">\n",
       "  <thead>\n",
       "    <tr style=\"text-align: right;\">\n",
       "      <th>layer name</th>\n",
       "      <th>attributes</th>\n",
       "      <th>parent</th>\n",
       "      <th>enveloping</th>\n",
       "      <th>ambiguous</th>\n",
       "      <th>span count</th>\n",
       "    </tr>\n",
       "  </thead>\n",
       "  <tbody>\n",
       "    <tr>\n",
       "      <td>event_headers</td>\n",
       "      <td>DATE, HEADERWORD, DOCTOR, DOCTOR_CODE, SPECIALTY, SPECIALTY_CODE, ANONYM</td>\n",
       "      <td>None</td>\n",
       "      <td>event_tokens</td>\n",
       "      <td>True</td>\n",
       "      <td>2</td>\n",
       "    </tr>\n",
       "  </tbody>\n",
       "</table>\n",
       "<table border=\"1\" class=\"dataframe\">\n",
       "  <thead>\n",
       "    <tr style=\"text-align: right;\">\n",
       "      <th>text</th>\n",
       "      <th>DATE</th>\n",
       "      <th>HEADERWORD</th>\n",
       "      <th>DOCTOR</th>\n",
       "      <th>DOCTOR_CODE</th>\n",
       "      <th>SPECIALTY</th>\n",
       "      <th>SPECIALTY_CODE</th>\n",
       "      <th>ANONYM</th>\n",
       "    </tr>\n",
       "  </thead>\n",
       "  <tbody>\n",
       "    <tr>\n",
       "      <td>['\\n22.08.2014\\n']</td>\n",
       "      <td>\\n22.08.2014\\n</td>\n",
       "      <td></td>\n",
       "      <td></td>\n",
       "      <td></td>\n",
       "      <td></td>\n",
       "      <td></td>\n",
       "      <td>[]</td>\n",
       "    </tr>\n",
       "    <tr>\n",
       "      <td>['\\n05.09.2014\\n', 'Hemogramm\\n']</td>\n",
       "      <td>\\n05.09.2014\\n</td>\n",
       "      <td>Hemogramm\\n</td>\n",
       "      <td></td>\n",
       "      <td></td>\n",
       "      <td></td>\n",
       "      <td></td>\n",
       "      <td>[]</td>\n",
       "    </tr>\n",
       "  </tbody>\n",
       "</table>"
      ],
      "text/plain": [
       "Layer(name='event_headers', attributes=('DATE', 'HEADERWORD', 'DOCTOR', 'DOCTOR_CODE', 'SPECIALTY', 'SPECIALTY_CODE', 'ANONYM'), spans=SL[EnvelopingSpan(['\\n22.08.2014\\n'], [{'DATE': '\\n22.08.2014\\n', 'HEADERWORD': '', 'DOCTOR': '', 'DOCTOR_CODE': '', 'SPECIALTY': '', 'SPECIALTY_CODE': '', 'ANONYM': []}]),\n",
       "EnvelopingSpan(['\\n05.09.2014\\n', 'Hemogramm\\n'], [{'DATE': '\\n05.09.2014\\n', 'HEADERWORD': 'Hemogramm\\n', 'DOCTOR': '', 'DOCTOR_CODE': '', 'SPECIALTY': '', 'SPECIALTY_CODE': '', 'ANONYM': []}])])"
      ]
     },
     "execution_count": 15,
     "metadata": {},
     "output_type": "execute_result"
    }
   ],
   "source": [
    "text.event_headers"
   ]
  },
  {
   "cell_type": "code",
   "execution_count": 16,
   "metadata": {},
   "outputs": [],
   "source": [
    "a = '''07.01.2011 08:19 - <ANONYM id=\"0\" type=\"per\" morph=\"_H_ sg g,_H_ pl g\"/>, <ANONYM id=\"1\" type=\"per\" morph=\"_H_ sg n\"/> - D03659 - E170 - kardioloogia a\n",
    "kaebused oktoobrist alates ebamääraseid valusid südame piirkonnas , käimisel hingeldus, jalgadel turseid ei ole,  kerged subfebriilsed temperatuurid, mida on kirjeldatud ka 2008a  dokumentides.'''  "
   ]
  },
  {
   "cell_type": "code",
   "execution_count": 4,
   "metadata": {},
   "outputs": [],
   "source": [
    "b = '''07.01.2011 08:19 - METS, MARI - D03659 - E170 - kardioloogia \n",
    "kaebused oktoobrist alates ebamääraseid valusid südame piirkonnas , käimisel hingeldus, jalgadel turseid ei ole,  kerged subfebriilsed temperatuurid, mida on kirjeldatud ka 2008a  dokumentides.'''  "
   ]
  },
  {
   "cell_type": "code",
   "execution_count": 5,
   "metadata": {},
   "outputs": [],
   "source": [
    "c = '07.01.2011 08:19 Kokkuvõte: blablaa'"
   ]
  },
  {
   "cell_type": "code",
   "execution_count": 6,
   "metadata": {},
   "outputs": [],
   "source": [
    "d = '07.01.2011 08:19 - <ANONYM id=\"0\" type=\"per\" morph=\"_H_ sg g,_H_ pl g\"/>, <ANONYM id=\"1\" type=\"per\" morph=\"_H_ sg n\"/>'"
   ]
  },
  {
   "cell_type": "code",
   "execution_count": 7,
   "metadata": {},
   "outputs": [],
   "source": [
    "e = 'Anamnees: 07.01.2011 juhtus see ja too'"
   ]
  },
  {
   "cell_type": "code",
   "execution_count": 8,
   "metadata": {},
   "outputs": [],
   "source": [
    "examples = [a, b, c, d, e]"
   ]
  },
  {
   "cell_type": "code",
   "execution_count": 9,
   "metadata": {},
   "outputs": [],
   "source": [
    "for ex in examples:\n",
    "    t = Text(ex)\n",
    "    event_token_tagger.tag(t)\n",
    "    event_header_tagger.tag(t)\n",
    "    if len(t.event_headers) == 0:\n",
    "        print(t)"
   ]
  },
  {
   "cell_type": "code",
   "execution_count": 10,
   "metadata": {},
   "outputs": [],
   "source": [
    "new_examples = [\n",
    "    '\\nAnamnees 12.01.2015\\n',\n",
    "    '16.10.2013 15:35 - <ANONYM id=\"23\" type=\"per\" morph=\"_H_ sg n,_H_ pl n\"/>, <ANONYM id=\"24\" type=\"per\" morph=\"_H_ sg n\"/> - M00586 - N600 - ämmaemandus',\n",
    "    '16.10.2013 15:35 - <ANONYM id=\"23\" type=\"per\" morph=\"_H_ sg n,_H_ pl n\"/>, <ANONYM id=\"24\" type=\"per\" morph=\"_H_ sg n\"/> - D03659 - E260 - Arst-õppejõud kardioloogia erialal\\n',\n",
    "    '\\n16.10.2013 15:35 - <ANONYM id=\"23\" type=\"per\" morph=\"_H_ sg n,_H_ pl n\"/>, <ANONYM id=\"24\" type=\"per\" morph=\"_H_ sg n\"/> D01720 - E250 - onkoloogia (kiiritus- ja keemiaravi tähenduses)\\n',\n",
    "    '\\n16.10.2013 15:35 - <ANONYM id=\"23\" type=\"per\" morph=\"_H_ sg n,_H_ pl n\"/>, <ANONYM id=\"24\" type=\"per\" morph=\"_H_ sg n\"/> - AUS, ANNELI - D05450 - Laboriarst\\n',\n",
    "    '\\n16.10.2013 15:35 - <ANONYM id=\"23\" type=\"per\" morph=\"_H_ sg n,_H_ pl n\"/>, <ANONYM id=\"24\" type=\"per\" morph=\"_H_ sg n\"/> - ARU, LY - D05449\\n',\n",
    "    '''16.10.2013 15:35 - <ANONYM id=\"23\" type=\"per\" morph=\"_H_ sg n,_H_ pl n\"/>, <ANONYM id=\"24\" type=\"per\" morph=\"_H_ sg n\"/> - D01763 - E370 - sünnitusabi ja günekoloogia \n",
    "Suunatud sünnieelsest osakonnast sünnituse induktsiooniks (amniotomia teel). \n",
    "''',\n",
    "    '07.01.2011 Neurofüsioloogia\\n',\n",
    "     '26.09.2012 16:44 - <ANONYM id=\"0\" type=\"per\" morph=\"_Y_ ?\"/>, <ANONYM id=\"1\" type=\"per\" morph=\"_H_ sg n\"/> - D04208 - E100 - anestesioloogia \\n22.06.2012 kukkus kodus , sai L2 kompr fraktuuri , ei olnud pikali.',\n",
    "    '''RDW-CV 14.0 (11,6 .. 14 % ) \n",
    "\n",
    "20.07.2009 10:35 - <ANONYM id=\"4\" type=\"per\" morph=\"_H_ sg n\"/>, <ANONYM id=\"5\" type=\"per\" morph=\"_H_ sg n\"/> - D07097 - E26 - vaskulaarkirurgia\n",
    "Radioloogiline uuring, vastus nr 1201B_15177_1\n",
    "''',\n",
    "    \n",
    "    '''CRP 38 ↑ (<5 mg/L) \n",
    "04.10.2013 15:51 - SOOTS, MARIANNE - D02773 - E440 - suu-, näo- ja lõualuukirurgia \n",
    "Turse reg dd 24,25,'''\n",
    "    \n",
    "]"
   ]
  },
  {
   "cell_type": "code",
   "execution_count": null,
   "metadata": {},
   "outputs": [],
   "source": []
  },
  {
   "cell_type": "code",
   "execution_count": null,
   "metadata": {},
   "outputs": [],
   "source": []
  },
  {
   "cell_type": "code",
   "execution_count": 11,
   "metadata": {},
   "outputs": [],
   "source": [
    "for ex in new_examples:\n",
    "    t = Text(ex)\n",
    "    event_token_tagger.tag(t)\n",
    "    event_header_tagger.tag(t)\n",
    "    if len(t.event_headers) == 0:\n",
    "        print(t)"
   ]
  },
  {
   "cell_type": "code",
   "execution_count": 12,
   "metadata": {},
   "outputs": [],
   "source": [
    "e = r'(?P<SPECIALTY>([-A-ZÜÕÖÄŠŽa-züõöäšž, \\(\\)]{1,50}))\\s*\\n'"
   ]
  },
  {
   "cell_type": "code",
   "execution_count": null,
   "metadata": {},
   "outputs": [],
   "source": []
  }
 ],
 "metadata": {
  "kernelspec": {
   "display_name": "Python [conda env:estnltk] *",
   "language": "python",
   "name": "conda-env-estnltk-py"
  },
  "language_info": {
   "codemirror_mode": {
    "name": "ipython",
    "version": 3
   },
   "file_extension": ".py",
   "mimetype": "text/x-python",
   "name": "python",
   "nbconvert_exporter": "python",
   "pygments_lexer": "ipython3",
   "version": "3.6.12"
  }
 },
 "nbformat": 4,
 "nbformat_minor": 2
}
