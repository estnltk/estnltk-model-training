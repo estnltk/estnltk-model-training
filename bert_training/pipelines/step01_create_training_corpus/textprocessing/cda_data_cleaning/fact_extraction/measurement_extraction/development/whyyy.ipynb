{
 "cells": [
  {
   "cell_type": "code",
   "execution_count": 1,
   "metadata": {},
   "outputs": [
    {
     "name": "stdout",
     "output_type": "stream",
     "text": [
      "INFO:postgres_storage.py:104: connecting to host: 'p12.stacc.ee', port: '5432', dbname: 'egcut_epi', user: 'ptammo'\n",
      "INFO:postgres_storage.py:116: role: 'egcut_epi_grammarextractor_create'\n"
     ]
    }
   ],
   "source": [
    "from estnltk.storage import PostgresStorage\n",
    "\n",
    "storage = PostgresStorage(dbname='egcut_epi',\n",
    "                          pgpass_file='~/.pgpass',\n",
    "                          schema=\"grammarextractor\",\n",
    "                          role='egcut_epi_grammarextractor_create')\n",
    "\n",
    "collection = storage.get_collection('measurements_random30000_d')"
   ]
  },
  {
   "cell_type": "code",
   "execution_count": 2,
   "metadata": {},
   "outputs": [
    {
     "data": {
      "application/vnd.jupyter.widget-view+json": {
       "model_id": "93e07371350141298df5e86d07fe77f1",
       "version_major": 2,
       "version_minor": 0
      },
      "text/plain": [
       "HBox(children=(IntProgress(value=0, max=29985), HTML(value='')))"
      ]
     },
     "metadata": {},
     "output_type": "display_data"
    },
    {
     "name": "stdout",
     "output_type": "stream",
     "text": [
      "\n"
     ]
    }
   ],
   "source": [
    "texts = []\n",
    "for idx, thing in enumerate(collection.select(layers = ['measurements'], progressbar='notebook')):\n",
    "    if len(thing[1].measurements) == 0:\n",
    "            continue\n",
    "    texts.append(thing)        "
   ]
  },
  {
   "cell_type": "code",
   "execution_count": 3,
   "metadata": {},
   "outputs": [
    {
     "name": "stdout",
     "output_type": "stream",
     "text": [
      "[['VERERÕHK'], ['PIKKUS'], ['KAAL'], ['LEUKOTSÜÜDID'], ['ERÜTROTSÜÜDID'], ['HEMOGLOBIIN'], ['HEMATOKRIT'], ['MCV'], ['MCH'], ['MCHC'], ['RDW-SD'], ['TROMBOTSÜÜDID'], ['BASOFIILID'], ['MONOTSÜÜDID'], ['LÜMFOTSÜÜDID'], ['KOLESTEROOL'], ['GLÜKOOS']]\n"
     ]
    }
   ],
   "source": [
    "print(texts[0][1].measurements['REGEX_TYPE'])"
   ]
  },
  {
   "cell_type": "code",
   "execution_count": 4,
   "metadata": {},
   "outputs": [
    {
     "name": "stdout",
     "output_type": "stream",
     "text": [
      "['VERERÕHK']\n",
      "['PIKKUS']\n",
      "['KAAL']\n",
      "['LEUKOTSÜÜDID']\n",
      "['ERÜTROTSÜÜDID']\n",
      "['HEMOGLOBIIN']\n",
      "['HEMATOKRIT']\n",
      "['MCV']\n",
      "['MCH']\n",
      "['MCHC']\n",
      "['RDW-SD']\n",
      "['TROMBOTSÜÜDID']\n",
      "['BASOFIILID']\n",
      "['MONOTSÜÜDID']\n",
      "['LÜMFOTSÜÜDID']\n",
      "['KOLESTEROOL']\n",
      "['GLÜKOOS']\n"
     ]
    }
   ],
   "source": [
    "for i in (texts[0][1].measurements['REGEX_TYPE']):\n",
    "    print(i)"
   ]
  },
  {
   "cell_type": "code",
   "execution_count": 5,
   "metadata": {},
   "outputs": [
    {
     "data": {
      "text/plain": [
       "True"
      ]
     },
     "execution_count": 5,
     "metadata": {},
     "output_type": "execute_result"
    }
   ],
   "source": [
    "any('KAAL' in k for k in texts[0][1].measurements['REGEX_TYPE'])"
   ]
  },
  {
   "cell_type": "code",
   "execution_count": 7,
   "metadata": {},
   "outputs": [
    {
     "data": {
      "text/plain": [
       "True"
      ]
     },
     "execution_count": 7,
     "metadata": {},
     "output_type": "execute_result"
    }
   ],
   "source": [
    "any('PIKKUS' in k for k in texts[0][1].measurements['REGEX_TYPE'])"
   ]
  }
 ],
 "metadata": {
  "kernelspec": {
   "display_name": "Python 3",
   "language": "python",
   "name": "python3"
  },
  "language_info": {
   "codemirror_mode": {
    "name": "ipython",
    "version": 3
   },
   "file_extension": ".py",
   "mimetype": "text/x-python",
   "name": "python",
   "nbconvert_exporter": "python",
   "pygments_lexer": "ipython3",
   "version": "3.5.6"
  }
 },
 "nbformat": 4,
 "nbformat_minor": 2
}
