{
 "cells": [
  {
   "cell_type": "markdown",
   "metadata": {},
   "source": [
    "# Diff `measurements_old` and `measurements` layers"
   ]
  },
  {
   "cell_type": "markdown",
   "metadata": {},
   "source": [
    "Connect to the database."
   ]
  },
  {
   "cell_type": "code",
   "execution_count": 1,
   "metadata": {},
   "outputs": [
    {
     "name": "stdout",
     "output_type": "stream",
     "text": [
      "INFO:db.py:1216: connecting to host: 'p12.stacc.ee', port: '5432', dbname: 'egcut_epi', user: 'ptammo'\n",
      "INFO:db.py:1228: role: 'egcut_epi_grammarextractor_create'\n"
     ]
    }
   ],
   "source": [
    "from estnltk.storage import PostgresStorage\n",
    "\n",
    "storage = PostgresStorage(dbname='egcut_epi',\n",
    "                          pgpass_file='~/.pgpass',\n",
    "                          schema=\"grammarextractor\",\n",
    "                          role='egcut_epi_grammarextractor_create')\n",
    "\n",
    "collection = storage.get_collection('psa_measurements_v2')"
   ]
  },
  {
   "cell_type": "markdown",
   "metadata": {},
   "source": [
    "Since `measurements` layer envelopes `measurement_tokens` layer but `measurements_old` layer does not, first flatten `measurements` layer into `measurements_flat` layer. As these layers have different attribute names, mapping of attribute names is also needed."
   ]
  },
  {
   "cell_type": "code",
   "execution_count": 2,
   "metadata": {},
   "outputs": [],
   "source": [
    "from estnltk.layer_operations import drop_annotations"
   ]
  },
  {
   "cell_type": "code",
   "execution_count": 3,
   "metadata": {},
   "outputs": [],
   "source": [
    "from estnltk.storage.postgres import RowMapperRecord"
   ]
  },
  {
   "cell_type": "code",
   "execution_count": 4,
   "metadata": {},
   "outputs": [],
   "source": [
    "def row_mapper_1(row):\n",
    "\n",
    "    text_id, text = row[0], row[1]\n",
    "    \n",
    "    drop_annotations(layer=text.measurements_old,\n",
    "                 attribute='name',\n",
    "                 values={'TIMEX', 'PRAHT', 'PULSS', 'VERERÕHK'},\n",
    "                 function=None  # default: None\n",
    "                 )\n",
    "    \n",
    "    layer = text.measurements_old\n",
    "    layer.name = 'measurements_old_new'\n",
    "\n",
    "    return [RowMapperRecord(layer=layer, meta=None)]"
   ]
  },
  {
   "cell_type": "code",
   "execution_count": 5,
   "metadata": {},
   "outputs": [
    {
     "name": "stdout",
     "output_type": "stream",
     "text": [
      "INFO:db.py:815: collection: 'psa_measurements_v2'\n",
      "INFO:db.py:836: nothing to overwrite, preparing to create a new layer: 'measurements_old_new'\n",
      "INFO:db.py:900: layer created: 'measurements_old_new'\n"
     ]
    }
   ],
   "source": [
    "collection.create_layer_buffered('measurements_old_new',\n",
    "                                 data_iterator=collection.select(layers = ['measurements_old']),\n",
    "                                 row_mapper=row_mapper_1, overwrite = True, progressbar='notebook')"
   ]
  },
  {
   "cell_type": "code",
   "execution_count": null,
   "metadata": {},
   "outputs": [],
   "source": []
  },
  {
   "cell_type": "code",
   "execution_count": 48,
   "metadata": {},
   "outputs": [
    {
     "ename": "ProgrammingError",
     "evalue": "cursor \"read\" already exists\n",
     "output_type": "error",
     "traceback": [
      "\u001b[0;31m---------------------------------------------------------------------------\u001b[0m",
      "\u001b[0;31mProgrammingError\u001b[0m                          Traceback (most recent call last)",
      "\u001b[0;32m<ipython-input-48-0a02888ed6a5>\u001b[0m in \u001b[0;36m<module>\u001b[0;34m()\u001b[0m\n\u001b[1;32m      1\u001b[0m \u001b[0mnot_removed\u001b[0m \u001b[0;34m=\u001b[0m \u001b[0;34m[\u001b[0m\u001b[0;34m]\u001b[0m\u001b[0;34m\u001b[0m\u001b[0m\n\u001b[1;32m      2\u001b[0m \u001b[0mc\u001b[0m \u001b[0;34m=\u001b[0m \u001b[0;36m0\u001b[0m\u001b[0;34m\u001b[0m\u001b[0m\n\u001b[0;32m----> 3\u001b[0;31m \u001b[0;32mfor\u001b[0m \u001b[0mkey\u001b[0m\u001b[0;34m,\u001b[0m \u001b[0mvalue\u001b[0m \u001b[0;32min\u001b[0m \u001b[0mcollection\u001b[0m\u001b[0;34m.\u001b[0m\u001b[0mselect\u001b[0m\u001b[0;34m(\u001b[0m\u001b[0mlayers\u001b[0m \u001b[0;34m=\u001b[0m \u001b[0;34m[\u001b[0m\u001b[0;34m'measurements_old'\u001b[0m\u001b[0;34m]\u001b[0m\u001b[0;34m)\u001b[0m\u001b[0;34m:\u001b[0m\u001b[0;34m\u001b[0m\u001b[0m\n\u001b[0m\u001b[1;32m      4\u001b[0m \u001b[0;34m\u001b[0m\u001b[0m\n\u001b[1;32m      5\u001b[0m     \u001b[0mnot_removed\u001b[0m\u001b[0;34m.\u001b[0m\u001b[0mappend\u001b[0m\u001b[0;34m(\u001b[0m\u001b[0mvalue\u001b[0m\u001b[0;34m.\u001b[0m\u001b[0mmeasurements_old\u001b[0m\u001b[0;34m)\u001b[0m\u001b[0;34m\u001b[0m\u001b[0m\n",
      "\u001b[0;32m~/Desktop/estnltk/estnltk/storage/postgres/db.py\u001b[0m in \u001b[0;36mselect\u001b[0;34m(self, query, layer_query, layer_ngram_query, layers, keys, order_by_key, collection_meta, progressbar, missing_layer)\u001b[0m\n\u001b[1;32m    502\u001b[0m                                      collection_meta=collection_meta, missing_layer=missing_layer)\n\u001b[1;32m    503\u001b[0m         \u001b[0;32mif\u001b[0m \u001b[0mprogressbar\u001b[0m \u001b[0;32mnot\u001b[0m \u001b[0;32min\u001b[0m \u001b[0;34m{\u001b[0m\u001b[0;34m'ascii'\u001b[0m\u001b[0;34m,\u001b[0m \u001b[0;34m'unicode'\u001b[0m\u001b[0;34m,\u001b[0m \u001b[0;34m'notebook'\u001b[0m\u001b[0;34m}\u001b[0m\u001b[0;34m:\u001b[0m\u001b[0;34m\u001b[0m\u001b[0m\n\u001b[0;32m--> 504\u001b[0;31m             \u001b[0;32myield\u001b[0m \u001b[0;32mfrom\u001b[0m \u001b[0mdata_iterator\u001b[0m\u001b[0;34m\u001b[0m\u001b[0m\n\u001b[0m\u001b[1;32m    505\u001b[0m             \u001b[0;32mreturn\u001b[0m\u001b[0;34m\u001b[0m\u001b[0m\n\u001b[1;32m    506\u001b[0m \u001b[0;34m\u001b[0m\u001b[0m\n",
      "\u001b[0;32m~/Desktop/estnltk/estnltk/storage/postgres/db.py\u001b[0m in \u001b[0;36m_select\u001b[0;34m(self, query, layer_query, layer_ngram_query, layers, keys, order_by_key, collection_meta, missing_layer)\u001b[0m\n\u001b[1;32m    465\u001b[0m                                    \u001b[0morder_by_key\u001b[0m\u001b[0;34m=\u001b[0m\u001b[0morder_by_key\u001b[0m\u001b[0;34m,\u001b[0m\u001b[0;34m\u001b[0m\u001b[0m\n\u001b[1;32m    466\u001b[0m                                    \u001b[0mcollection_meta\u001b[0m\u001b[0;34m=\u001b[0m\u001b[0mcollection_meta\u001b[0m\u001b[0;34m,\u001b[0m\u001b[0;34m\u001b[0m\u001b[0m\n\u001b[0;32m--> 467\u001b[0;31m                                    missing_layer=missing_layer):\n\u001b[0m\u001b[1;32m    468\u001b[0m             \u001b[0mtext_id\u001b[0m\u001b[0;34m,\u001b[0m \u001b[0mtext\u001b[0m\u001b[0;34m,\u001b[0m \u001b[0mmeta_list\u001b[0m\u001b[0;34m,\u001b[0m \u001b[0mdetached_layers\u001b[0m \u001b[0;34m=\u001b[0m \u001b[0mrow\u001b[0m\u001b[0;34m\u001b[0m\u001b[0m\n\u001b[1;32m    469\u001b[0m             \u001b[0;32mfor\u001b[0m \u001b[0mlayer_name\u001b[0m \u001b[0;32min\u001b[0m \u001b[0mlayers\u001b[0m\u001b[0;34m:\u001b[0m\u001b[0;34m\u001b[0m\u001b[0m\n",
      "\u001b[0;32m~/Desktop/estnltk/estnltk/storage/postgres/db.py\u001b[0m in \u001b[0;36mselect_raw\u001b[0;34m(self, query, layer_query, layer_ngram_query, layers, keys, order_by_key, collection_meta, missing_layer)\u001b[0m\n\u001b[1;32m    440\u001b[0m \u001b[0;34m\u001b[0m\u001b[0m\n\u001b[1;32m    441\u001b[0m             \u001b[0;31m# 2. Execute query\u001b[0m\u001b[0;34m\u001b[0m\u001b[0;34m\u001b[0m\u001b[0m\n\u001b[0;32m--> 442\u001b[0;31m             \u001b[0mc\u001b[0m\u001b[0;34m.\u001b[0m\u001b[0mexecute\u001b[0m\u001b[0;34m(\u001b[0m\u001b[0msql\u001b[0m\u001b[0;34m,\u001b[0m \u001b[0;34m{\u001b[0m\u001b[0;34m'keys'\u001b[0m\u001b[0;34m:\u001b[0m \u001b[0mkeys\u001b[0m\u001b[0;34m}\u001b[0m\u001b[0;34m)\u001b[0m\u001b[0;34m\u001b[0m\u001b[0m\n\u001b[0m\u001b[1;32m    443\u001b[0m             \u001b[0mlogger\u001b[0m\u001b[0;34m.\u001b[0m\u001b[0mdebug\u001b[0m\u001b[0;34m(\u001b[0m\u001b[0mc\u001b[0m\u001b[0;34m.\u001b[0m\u001b[0mquery\u001b[0m\u001b[0;34m.\u001b[0m\u001b[0mdecode\u001b[0m\u001b[0;34m(\u001b[0m\u001b[0;34m)\u001b[0m\u001b[0;34m)\u001b[0m\u001b[0;34m\u001b[0m\u001b[0m\n\u001b[1;32m    444\u001b[0m             \u001b[0;32mfor\u001b[0m \u001b[0mrow\u001b[0m \u001b[0;32min\u001b[0m \u001b[0mc\u001b[0m\u001b[0;34m:\u001b[0m\u001b[0;34m\u001b[0m\u001b[0m\n",
      "\u001b[0;31mProgrammingError\u001b[0m: cursor \"read\" already exists\n"
     ]
    }
   ],
   "source": [
    "not_removed = []\n",
    "c = 0\n",
    "for key, value in collection.select(layers = ['measurements_old']):\n",
    "\n",
    "    not_removed.append(value.measurements_old)\n",
    "    c += 1\n",
    "    if c > 200:\n",
    "        break"
   ]
  },
  {
   "cell_type": "code",
   "execution_count": 49,
   "metadata": {},
   "outputs": [],
   "source": [
    "removed = []\n",
    "c = 0\n",
    "for key, value in collection.select(layers = ['measurements_old']):\n",
    "    #print(value.measurements_old)\n",
    "    #break\n",
    "    drop_annotations(layer=value.measurements_old,\n",
    "                 attribute='name',\n",
    "                 values={'TIMEX', 'PRAHT', 'PULSS', 'VERERÕHK'},\n",
    "                 function=None  # default: None\n",
    "                 )\n",
    "    removed.append(value.measurements_old)\n",
    "    c += 1\n",
    "    if c > 200:\n",
    "        break"
   ]
  },
  {
   "cell_type": "code",
   "execution_count": null,
   "metadata": {},
   "outputs": [],
   "source": []
  },
  {
   "cell_type": "code",
   "execution_count": null,
   "metadata": {},
   "outputs": [],
   "source": []
  },
  {
   "cell_type": "code",
   "execution_count": 7,
   "metadata": {},
   "outputs": [
    {
     "data": {
      "text/plain": [
       "201"
      ]
     },
     "execution_count": 7,
     "metadata": {},
     "output_type": "execute_result"
    }
   ],
   "source": [
    "len(removed)"
   ]
  },
  {
   "cell_type": "code",
   "execution_count": 8,
   "metadata": {},
   "outputs": [
    {
     "data": {
      "text/plain": [
       "201"
      ]
     },
     "execution_count": 8,
     "metadata": {},
     "output_type": "execute_result"
    }
   ],
   "source": [
    "len(not_removed)"
   ]
  },
  {
   "cell_type": "code",
   "execution_count": 10,
   "metadata": {},
   "outputs": [
    {
     "name": "stdout",
     "output_type": "stream",
     "text": [
      "Layer(name=measurements_old, spans=SL[])\n",
      "Layer(name=measurements_old, spans=SL[AS[Annotation(15.02.2016, {'day': '15', 'diastolic': None, 'high': None, 'hour': None, 'key': None, 'low': None, 'minute': None, 'month': '02', 'name': 'TIMEX', 'prygi': None, 'pulse': None, 'subject': None, 'systolic': None, 'unit': None, 'value': None, 'year': '2016'})]])\n"
     ]
    }
   ],
   "source": [
    "for rem, not_rem in zip(removed, not_removed):\n",
    "    if rem != not_rem:\n",
    "        print(rem)\n",
    "        print(not_rem)\n",
    "        break"
   ]
  },
  {
   "cell_type": "code",
   "execution_count": null,
   "metadata": {},
   "outputs": [],
   "source": []
  },
  {
   "cell_type": "code",
   "execution_count": 16,
   "metadata": {},
   "outputs": [
    {
     "name": "stdout",
     "output_type": "stream",
     "text": [
      "Layer(name=measurements_old, spans=SL[AS[Annotation(Kreatiniin   59, {'day': None, 'diastolic': None, 'high': None, 'hour': None, 'key': 'Kreatiniin', 'low': None, 'minute': None, 'month': None, 'name': 'KREATINIIN', 'prygi': None, 'pulse': None, 'subject': None, 'systolic': None, 'unit': None, 'value': '59', 'year': None})],\n",
      "AS[Annotation(Kolesterool   3.9, {'day': None, 'diastolic': None, 'high': None, 'hour': None, 'key': 'Kolesterool', 'low': None, 'minute': None, 'month': None, 'name': 'KOLESTEROOL', 'prygi': None, 'pulse': None, 'subject': None, 'systolic': None, 'unit': None, 'value': '3.9', 'year': None})],\n",
      "AS[Annotation( \n",
      "PSA   -4.400 , {'day': None, 'diastolic': None, 'high': None, 'hour': None, 'key': ' \\nPSA', 'low': None, 'minute': None, 'month': None, 'name': 'PSA', 'prygi': None, 'pulse': None, 'subject': None, 'systolic': None, 'unit': None, 'value': '4.400', 'year': None})]])\n"
     ]
    }
   ],
   "source": [
    "for i in removed:\n",
    "    if i:\n",
    "        print(i)\n",
    "        break"
   ]
  },
  {
   "cell_type": "code",
   "execution_count": null,
   "metadata": {},
   "outputs": [],
   "source": [
    "from collections import OrderedDict\n",
    "from estnltk.taggers import DiffTagger\n",
    "\n",
    "diff_tagger = DiffTagger(layer_a='measurements_old',\n",
    "                         layer_b='measurements_flat',\n",
    "                         output_layer='measurements_diff_old_flat',\n",
    "                         output_attributes=['name', 'key', 'value', 'unit', 'DATE', 'year']\n",
    "                        )\n",
    "\n",
    "meta = OrderedDict([('unchanged_annotations', 'int'),\n",
    "                    ('missing_annotations', 'int'),\n",
    "                    ('extra_annotations', 'int'),\n",
    "                    ('unchanged_spans', 'int'),\n",
    "                    ('modified_spans', 'int'),\n",
    "                    ('missing_spans', 'int'),\n",
    "                    ('extra_spans', 'int'),\n",
    "                    ('conflicts', 'int'),\n",
    "                    ('overlapped', 'int'),\n",
    "                    ('prolonged', 'int'),\n",
    "                    ('shortened', 'int')])\n",
    "\n",
    "collection.create_layer_buffered(tagger=diff_tagger,\n",
    "                                 overwrite=True,\n",
    "                                 meta=meta,\n",
    "                                 progressbar='notebook'\n",
    "                                 )"
   ]
  },
  {
   "cell_type": "code",
   "execution_count": 9,
   "metadata": {},
   "outputs": [
    {
     "name": "stdout",
     "output_type": "stream",
     "text": [
      "INFO:db.py:815: collection: 'psa_measurements_v2'\n",
      "INFO:db.py:820: overwriting output layer: 'measurements_diff_old_flat'\n",
      "INFO:db.py:1010: layer deleted: 'measurements_diff_old_flat'\n"
     ]
    },
    {
     "data": {
      "application/vnd.jupyter.widget-view+json": {
       "model_id": "567d014c4f8e4334b6b618ad29464954",
       "version_major": 2,
       "version_minor": 0
      },
      "text/plain": [
       "HBox(children=(IntProgress(value=0, max=66926), HTML(value='')))"
      ]
     },
     "metadata": {},
     "output_type": "display_data"
    },
    {
     "ename": "KeyboardInterrupt",
     "evalue": "",
     "output_type": "error",
     "traceback": [
      "\u001b[0;31m---------------------------------------------------------------------------\u001b[0m",
      "\u001b[0;31mKeyboardInterrupt\u001b[0m                         Traceback (most recent call last)",
      "\u001b[0;32m<ipython-input-9-5cad44a1043e>\u001b[0m in \u001b[0;36m<module>\u001b[0;34m()\u001b[0m\n\u001b[1;32m     23\u001b[0m                                  \u001b[0moverwrite\u001b[0m\u001b[0;34m=\u001b[0m\u001b[0;32mTrue\u001b[0m\u001b[0;34m,\u001b[0m\u001b[0;34m\u001b[0m\u001b[0m\n\u001b[1;32m     24\u001b[0m                                  \u001b[0mmeta\u001b[0m\u001b[0;34m=\u001b[0m\u001b[0mmeta\u001b[0m\u001b[0;34m,\u001b[0m\u001b[0;34m\u001b[0m\u001b[0m\n\u001b[0;32m---> 25\u001b[0;31m                                  \u001b[0mprogressbar\u001b[0m\u001b[0;34m=\u001b[0m\u001b[0;34m'notebook'\u001b[0m\u001b[0;34m\u001b[0m\u001b[0m\n\u001b[0m\u001b[1;32m     26\u001b[0m                                  )\n",
      "\u001b[0;32m~/Desktop/estnltk/estnltk/storage/postgres/db.py\u001b[0m in \u001b[0;36mcreate_layer_buffered\u001b[0;34m(self, layer_name, data_iterator, row_mapper, tagger, create_index, ngram_index, overwrite, meta, progressbar, query_length_limit, mode)\u001b[0m\n\u001b[1;32m    866\u001b[0m                                                 \u001b[0mcolumns\u001b[0m\u001b[0;34m=\u001b[0m\u001b[0mcolumns\u001b[0m\u001b[0;34m,\u001b[0m\u001b[0;34m\u001b[0m\u001b[0m\n\u001b[1;32m    867\u001b[0m                                                 query_length_limit=query_length_limit) as buffered_insert:\n\u001b[0;32m--> 868\u001b[0;31m                     \u001b[0;32mfor\u001b[0m \u001b[0mrow\u001b[0m \u001b[0;32min\u001b[0m \u001b[0mdata_iterator\u001b[0m\u001b[0;34m:\u001b[0m\u001b[0;34m\u001b[0m\u001b[0m\n\u001b[0m\u001b[1;32m    869\u001b[0m                         \u001b[0mcollection_id\u001b[0m\u001b[0;34m,\u001b[0m \u001b[0mtext\u001b[0m \u001b[0;34m=\u001b[0m \u001b[0mrow\u001b[0m\u001b[0;34m[\u001b[0m\u001b[0;36m0\u001b[0m\u001b[0;34m]\u001b[0m\u001b[0;34m,\u001b[0m \u001b[0mrow\u001b[0m\u001b[0;34m[\u001b[0m\u001b[0;36m1\u001b[0m\u001b[0;34m]\u001b[0m\u001b[0;34m\u001b[0m\u001b[0m\n\u001b[1;32m    870\u001b[0m                         \u001b[0;32mfor\u001b[0m \u001b[0mrecord\u001b[0m \u001b[0;32min\u001b[0m \u001b[0mrow_mapper\u001b[0m\u001b[0;34m(\u001b[0m\u001b[0mrow\u001b[0m\u001b[0;34m)\u001b[0m\u001b[0;34m:\u001b[0m\u001b[0;34m\u001b[0m\u001b[0m\n",
      "\u001b[0;32m~/Desktop/estnltk/estnltk/storage/postgres/db.py\u001b[0m in \u001b[0;36mselect\u001b[0;34m(self, query, layer_query, layer_ngram_query, layers, keys, order_by_key, collection_meta, progressbar, missing_layer)\u001b[0m\n\u001b[1;32m    522\u001b[0m                              \u001b[0mascii\u001b[0m\u001b[0;34m=\u001b[0m\u001b[0;34m(\u001b[0m\u001b[0mprogressbar\u001b[0m \u001b[0;34m==\u001b[0m \u001b[0;34m'ascii'\u001b[0m\u001b[0;34m)\u001b[0m\u001b[0;34m,\u001b[0m\u001b[0;34m\u001b[0m\u001b[0m\n\u001b[1;32m    523\u001b[0m                              smoothing=0)\n\u001b[0;32m--> 524\u001b[0;31m         \u001b[0;32mfor\u001b[0m \u001b[0mdata\u001b[0m \u001b[0;32min\u001b[0m \u001b[0miter_data\u001b[0m\u001b[0;34m:\u001b[0m\u001b[0;34m\u001b[0m\u001b[0m\n\u001b[0m\u001b[1;32m    525\u001b[0m             \u001b[0miter_data\u001b[0m\u001b[0;34m.\u001b[0m\u001b[0mset_description\u001b[0m\u001b[0;34m(\u001b[0m\u001b[0;34m'collection_id: {}'\u001b[0m\u001b[0;34m.\u001b[0m\u001b[0mformat\u001b[0m\u001b[0;34m(\u001b[0m\u001b[0mdata\u001b[0m\u001b[0;34m[\u001b[0m\u001b[0;36m0\u001b[0m\u001b[0;34m]\u001b[0m\u001b[0;34m)\u001b[0m\u001b[0;34m,\u001b[0m \u001b[0mrefresh\u001b[0m\u001b[0;34m=\u001b[0m\u001b[0;32mFalse\u001b[0m\u001b[0;34m)\u001b[0m\u001b[0;34m\u001b[0m\u001b[0m\n\u001b[1;32m    526\u001b[0m             \u001b[0;32myield\u001b[0m \u001b[0mdata\u001b[0m\u001b[0;34m\u001b[0m\u001b[0m\n",
      "\u001b[0;32m~/anaconda3/envs/estnltk141/lib/python3.5/site-packages/tqdm/_tqdm_notebook.py\u001b[0m in \u001b[0;36m__iter__\u001b[0;34m(self, *args, **kwargs)\u001b[0m\n\u001b[1;32m    207\u001b[0m     \u001b[0;32mdef\u001b[0m \u001b[0m__iter__\u001b[0m\u001b[0;34m(\u001b[0m\u001b[0mself\u001b[0m\u001b[0;34m,\u001b[0m \u001b[0;34m*\u001b[0m\u001b[0margs\u001b[0m\u001b[0;34m,\u001b[0m \u001b[0;34m**\u001b[0m\u001b[0mkwargs\u001b[0m\u001b[0;34m)\u001b[0m\u001b[0;34m:\u001b[0m\u001b[0;34m\u001b[0m\u001b[0m\n\u001b[1;32m    208\u001b[0m         \u001b[0;32mtry\u001b[0m\u001b[0;34m:\u001b[0m\u001b[0;34m\u001b[0m\u001b[0m\n\u001b[0;32m--> 209\u001b[0;31m             \u001b[0;32mfor\u001b[0m \u001b[0mobj\u001b[0m \u001b[0;32min\u001b[0m \u001b[0msuper\u001b[0m\u001b[0;34m(\u001b[0m\u001b[0mtqdm_notebook\u001b[0m\u001b[0;34m,\u001b[0m \u001b[0mself\u001b[0m\u001b[0;34m)\u001b[0m\u001b[0;34m.\u001b[0m\u001b[0m__iter__\u001b[0m\u001b[0;34m(\u001b[0m\u001b[0;34m*\u001b[0m\u001b[0margs\u001b[0m\u001b[0;34m,\u001b[0m \u001b[0;34m**\u001b[0m\u001b[0mkwargs\u001b[0m\u001b[0;34m)\u001b[0m\u001b[0;34m:\u001b[0m\u001b[0;34m\u001b[0m\u001b[0m\n\u001b[0m\u001b[1;32m    210\u001b[0m                 \u001b[0;31m# return super(tqdm...) will not catch exception\u001b[0m\u001b[0;34m\u001b[0m\u001b[0;34m\u001b[0m\u001b[0m\n\u001b[1;32m    211\u001b[0m                 \u001b[0;32myield\u001b[0m \u001b[0mobj\u001b[0m\u001b[0;34m\u001b[0m\u001b[0m\n",
      "\u001b[0;32m~/anaconda3/envs/estnltk141/lib/python3.5/site-packages/tqdm/_tqdm.py\u001b[0m in \u001b[0;36m__iter__\u001b[0;34m(self)\u001b[0m\n\u001b[1;32m    931\u001b[0m \"\"\", fp_write=getattr(self.fp, 'write', sys.stderr.write))\n\u001b[1;32m    932\u001b[0m \u001b[0;34m\u001b[0m\u001b[0m\n\u001b[0;32m--> 933\u001b[0;31m             \u001b[0;32mfor\u001b[0m \u001b[0mobj\u001b[0m \u001b[0;32min\u001b[0m \u001b[0miterable\u001b[0m\u001b[0;34m:\u001b[0m\u001b[0;34m\u001b[0m\u001b[0m\n\u001b[0m\u001b[1;32m    934\u001b[0m                 \u001b[0;32myield\u001b[0m \u001b[0mobj\u001b[0m\u001b[0;34m\u001b[0m\u001b[0m\n\u001b[1;32m    935\u001b[0m                 \u001b[0;31m# Update and possibly print the progressbar.\u001b[0m\u001b[0;34m\u001b[0m\u001b[0;34m\u001b[0m\u001b[0m\n",
      "\u001b[0;32m~/Desktop/estnltk/estnltk/storage/postgres/db.py\u001b[0m in \u001b[0;36m_select\u001b[0;34m(self, query, layer_query, layer_ngram_query, layers, keys, order_by_key, collection_meta, missing_layer)\u001b[0m\n\u001b[1;32m    465\u001b[0m                                    \u001b[0morder_by_key\u001b[0m\u001b[0;34m=\u001b[0m\u001b[0morder_by_key\u001b[0m\u001b[0;34m,\u001b[0m\u001b[0;34m\u001b[0m\u001b[0m\n\u001b[1;32m    466\u001b[0m                                    \u001b[0mcollection_meta\u001b[0m\u001b[0;34m=\u001b[0m\u001b[0mcollection_meta\u001b[0m\u001b[0;34m,\u001b[0m\u001b[0;34m\u001b[0m\u001b[0m\n\u001b[0;32m--> 467\u001b[0;31m                                    missing_layer=missing_layer):\n\u001b[0m\u001b[1;32m    468\u001b[0m             \u001b[0mtext_id\u001b[0m\u001b[0;34m,\u001b[0m \u001b[0mtext\u001b[0m\u001b[0;34m,\u001b[0m \u001b[0mmeta_list\u001b[0m\u001b[0;34m,\u001b[0m \u001b[0mdetached_layers\u001b[0m \u001b[0;34m=\u001b[0m \u001b[0mrow\u001b[0m\u001b[0;34m\u001b[0m\u001b[0m\n\u001b[1;32m    469\u001b[0m             \u001b[0;32mfor\u001b[0m \u001b[0mlayer_name\u001b[0m \u001b[0;32min\u001b[0m \u001b[0mlayers\u001b[0m\u001b[0;34m:\u001b[0m\u001b[0;34m\u001b[0m\u001b[0m\n",
      "\u001b[0;32m~/Desktop/estnltk/estnltk/storage/postgres/db.py\u001b[0m in \u001b[0;36mselect_raw\u001b[0;34m(self, query, layer_query, layer_ngram_query, layers, keys, order_by_key, collection_meta, missing_layer)\u001b[0m\n\u001b[1;32m    442\u001b[0m             \u001b[0mc\u001b[0m\u001b[0;34m.\u001b[0m\u001b[0mexecute\u001b[0m\u001b[0;34m(\u001b[0m\u001b[0msql\u001b[0m\u001b[0;34m,\u001b[0m \u001b[0;34m{\u001b[0m\u001b[0;34m'keys'\u001b[0m\u001b[0;34m:\u001b[0m \u001b[0mkeys\u001b[0m\u001b[0;34m}\u001b[0m\u001b[0;34m)\u001b[0m\u001b[0;34m\u001b[0m\u001b[0m\n\u001b[1;32m    443\u001b[0m             \u001b[0mlogger\u001b[0m\u001b[0;34m.\u001b[0m\u001b[0mdebug\u001b[0m\u001b[0;34m(\u001b[0m\u001b[0mc\u001b[0m\u001b[0;34m.\u001b[0m\u001b[0mquery\u001b[0m\u001b[0;34m.\u001b[0m\u001b[0mdecode\u001b[0m\u001b[0;34m(\u001b[0m\u001b[0;34m)\u001b[0m\u001b[0;34m)\u001b[0m\u001b[0;34m\u001b[0m\u001b[0m\n\u001b[0;32m--> 444\u001b[0;31m             \u001b[0;32mfor\u001b[0m \u001b[0mrow\u001b[0m \u001b[0;32min\u001b[0m \u001b[0mc\u001b[0m\u001b[0;34m:\u001b[0m\u001b[0;34m\u001b[0m\u001b[0m\n\u001b[0m\u001b[1;32m    445\u001b[0m                 \u001b[0mtext_id\u001b[0m \u001b[0;34m=\u001b[0m \u001b[0mrow\u001b[0m\u001b[0;34m[\u001b[0m\u001b[0;36m0\u001b[0m\u001b[0;34m]\u001b[0m\u001b[0;34m\u001b[0m\u001b[0m\n\u001b[1;32m    446\u001b[0m                 \u001b[0mtext_dict\u001b[0m \u001b[0;34m=\u001b[0m \u001b[0mrow\u001b[0m\u001b[0;34m[\u001b[0m\u001b[0;36m1\u001b[0m\u001b[0;34m]\u001b[0m\u001b[0;34m\u001b[0m\u001b[0m\n",
      "\u001b[0;32m~/anaconda3/envs/estnltk141/lib/python3.5/encodings/utf_8.py\u001b[0m in \u001b[0;36mdecode\u001b[0;34m(input, errors)\u001b[0m\n\u001b[1;32m     13\u001b[0m \u001b[0mencode\u001b[0m \u001b[0;34m=\u001b[0m \u001b[0mcodecs\u001b[0m\u001b[0;34m.\u001b[0m\u001b[0mutf_8_encode\u001b[0m\u001b[0;34m\u001b[0m\u001b[0m\n\u001b[1;32m     14\u001b[0m \u001b[0;34m\u001b[0m\u001b[0m\n\u001b[0;32m---> 15\u001b[0;31m \u001b[0;32mdef\u001b[0m \u001b[0mdecode\u001b[0m\u001b[0;34m(\u001b[0m\u001b[0minput\u001b[0m\u001b[0;34m,\u001b[0m \u001b[0merrors\u001b[0m\u001b[0;34m=\u001b[0m\u001b[0;34m'strict'\u001b[0m\u001b[0;34m)\u001b[0m\u001b[0;34m:\u001b[0m\u001b[0;34m\u001b[0m\u001b[0m\n\u001b[0m\u001b[1;32m     16\u001b[0m     \u001b[0;32mreturn\u001b[0m \u001b[0mcodecs\u001b[0m\u001b[0;34m.\u001b[0m\u001b[0mutf_8_decode\u001b[0m\u001b[0;34m(\u001b[0m\u001b[0minput\u001b[0m\u001b[0;34m,\u001b[0m \u001b[0merrors\u001b[0m\u001b[0;34m,\u001b[0m \u001b[0;32mTrue\u001b[0m\u001b[0;34m)\u001b[0m\u001b[0;34m\u001b[0m\u001b[0m\n\u001b[1;32m     17\u001b[0m \u001b[0;34m\u001b[0m\u001b[0m\n",
      "\u001b[0;31mKeyboardInterrupt\u001b[0m: "
     ]
    }
   ],
   "source": [
    "from collections import OrderedDict\n",
    "from estnltk.taggers import DiffTagger\n",
    "\n",
    "diff_tagger = DiffTagger(layer_a='measurements_old',\n",
    "                         layer_b='measurements_flat',\n",
    "                         output_layer='measurements_diff_old_flat',\n",
    "                         output_attributes=['name', 'key', 'value', 'unit', 'DATE', 'year']\n",
    "                        )\n",
    "\n",
    "meta = OrderedDict([('unchanged_annotations', 'int'),\n",
    "                    ('missing_annotations', 'int'),\n",
    "                    ('extra_annotations', 'int'),\n",
    "                    ('unchanged_spans', 'int'),\n",
    "                    ('modified_spans', 'int'),\n",
    "                    ('missing_spans', 'int'),\n",
    "                    ('extra_spans', 'int'),\n",
    "                    ('conflicts', 'int'),\n",
    "                    ('overlapped', 'int'),\n",
    "                    ('prolonged', 'int'),\n",
    "                    ('shortened', 'int')])\n",
    "\n",
    "collection.create_layer_buffered(tagger=diff_tagger,\n",
    "                                 overwrite=True,\n",
    "                                 meta=meta,\n",
    "                                 progressbar='notebook'\n",
    "                                 )"
   ]
  },
  {
   "cell_type": "markdown",
   "metadata": {},
   "source": [
    "## Statistics\n",
    "Tabel of diff layer meta data."
   ]
  },
  {
   "cell_type": "code",
   "execution_count": null,
   "metadata": {},
   "outputs": [],
   "source": []
  },
  {
   "cell_type": "code",
   "execution_count": 28,
   "metadata": {
    "scrolled": false
   },
   "outputs": [
    {
     "name": "stdout",
     "output_type": "stream",
     "text": [
      "(1, Text(text='Anamnees 15.02.2016:\\nElektroonne saatekiri.'))\n",
      "(2, Text(text='Nycturai 2-6 x.'))\n",
      "(3, Text(text='Uriin n.'))\n",
      "(4, Text(text='Kreatiniin   59-104 90 11.02.2016 Kolesterool   3.9-7.8 5.3 11.02.2016 \\nPSA   -4.400 0.661 11.02.2016 .'))\n",
      "(5, Text(text='Urineerimine ei olevat valus,kuid abikaasa sõnadel on valulik.'))\n",
      "(6, Text(text='20.09.2013 13:09 - PER, PER - D05687 - E410 - uroloogia \\nPSA  2,9  \\nTamsulosiini võtnud 1 aasta jooksul , nüktuuria 1x , urineerimine aeglane.'))\n",
      "(7, Text(text='KATE tõttu ( 2012) marevan ravil.'))\n",
      "(8, Text(text='UH'))\n",
      "(9, Text(text='14.10.2015 - Võtnud nüüd aasta Combodarti.'))\n",
      "(10, Text(text='PSA 3,6.'))\n",
      "(11, Text(text='Oluliselt ei kaeba.'))\n",
      "(12, Text(text='12.02.13 SPSA 7,87, kreat 121, urea 6,3, v/s 3,4.'))\n"
     ]
    }
   ],
   "source": [
    "l = []\n",
    "for idx, thing in enumerate(collection.select(layers = ['measurements_old', 'measurements_flat'])):\n",
    "    print(thing)\n",
    "    \n",
    "    #print(thing[1].measurements_old._repr_html_())\n",
    "    l.append(thing[1])\n",
    "    if idx > 10:\n",
    "        break\n",
    "    #break"
   ]
  },
  {
   "cell_type": "code",
   "execution_count": 32,
   "metadata": {},
   "outputs": [
    {
     "data": {
      "text/html": [
       "<h4>Layer</h4>\n",
       "<table border=\"1\" class=\"dataframe\">\n",
       "  <thead>\n",
       "    <tr style=\"text-align: right;\">\n",
       "      <th>layer name</th>\n",
       "      <th>attributes</th>\n",
       "      <th>parent</th>\n",
       "      <th>enveloping</th>\n",
       "      <th>ambiguous</th>\n",
       "      <th>span count</th>\n",
       "    </tr>\n",
       "  </thead>\n",
       "  <tbody>\n",
       "    <tr>\n",
       "      <td>measurements_flat</td>\n",
       "      <td>name, key, value, unit, DATE</td>\n",
       "      <td>None</td>\n",
       "      <td>None</td>\n",
       "      <td>True</td>\n",
       "      <td>1</td>\n",
       "    </tr>\n",
       "  </tbody>\n",
       "</table>\n",
       "<table border=\"1\" class=\"dataframe\">\n",
       "  <thead>\n",
       "    <tr style=\"text-align: right;\">\n",
       "      <th>text</th>\n",
       "      <th>name</th>\n",
       "      <th>key</th>\n",
       "      <th>value</th>\n",
       "      <th>unit</th>\n",
       "      <th>DATE</th>\n",
       "    </tr>\n",
       "  </thead>\n",
       "  <tbody>\n",
       "    <tr>\n",
       "      <td>PSA  2,9</td>\n",
       "      <td>MEASUREMENT</td>\n",
       "      <td>PSA</td>\n",
       "      <td>2.9</td>\n",
       "      <td></td>\n",
       "      <td></td>\n",
       "    </tr>\n",
       "  </tbody>\n",
       "</table>"
      ],
      "text/plain": [
       "Layer(name=measurements_flat, spans=SL[AS[Annotation(PSA  2,9, {'DATE': '', 'key': 'PSA', 'name': 'MEASUREMENT', 'unit': '', 'value': '2.9'})]])"
      ]
     },
     "execution_count": 32,
     "metadata": {},
     "output_type": "execute_result"
    }
   ],
   "source": [
    "l[5].measurements_flat"
   ]
  },
  {
   "cell_type": "code",
   "execution_count": 33,
   "metadata": {},
   "outputs": [
    {
     "data": {
      "text/html": [
       "<h4>Layer</h4>\n",
       "<table border=\"1\" class=\"dataframe\">\n",
       "  <thead>\n",
       "    <tr style=\"text-align: right;\">\n",
       "      <th>layer name</th>\n",
       "      <th>attributes</th>\n",
       "      <th>parent</th>\n",
       "      <th>enveloping</th>\n",
       "      <th>ambiguous</th>\n",
       "      <th>span count</th>\n",
       "    </tr>\n",
       "  </thead>\n",
       "  <tbody>\n",
       "    <tr>\n",
       "      <td>measurements_old</td>\n",
       "      <td>name, key, value, unit, low, high, systolic, diastolic, pulse, year, month, day, hour, minute, prygi, subject</td>\n",
       "      <td>None</td>\n",
       "      <td>None</td>\n",
       "      <td>True</td>\n",
       "      <td>3</td>\n",
       "    </tr>\n",
       "  </tbody>\n",
       "</table>\n",
       "<table border=\"1\" class=\"dataframe\">\n",
       "  <thead>\n",
       "    <tr style=\"text-align: right;\">\n",
       "      <th>text</th>\n",
       "      <th>name</th>\n",
       "      <th>key</th>\n",
       "      <th>value</th>\n",
       "      <th>unit</th>\n",
       "      <th>low</th>\n",
       "      <th>high</th>\n",
       "      <th>systolic</th>\n",
       "      <th>diastolic</th>\n",
       "      <th>pulse</th>\n",
       "      <th>year</th>\n",
       "      <th>month</th>\n",
       "      <th>day</th>\n",
       "      <th>hour</th>\n",
       "      <th>minute</th>\n",
       "      <th>prygi</th>\n",
       "      <th>subject</th>\n",
       "    </tr>\n",
       "  </thead>\n",
       "  <tbody>\n",
       "    <tr>\n",
       "      <td>20.09.2013 13:09</td>\n",
       "      <td>TIMEX</td>\n",
       "      <td>None</td>\n",
       "      <td>None</td>\n",
       "      <td>None</td>\n",
       "      <td>None</td>\n",
       "      <td>None</td>\n",
       "      <td>None</td>\n",
       "      <td>None</td>\n",
       "      <td>None</td>\n",
       "      <td>2013</td>\n",
       "      <td>09</td>\n",
       "      <td>20</td>\n",
       "      <td>13</td>\n",
       "      <td>09</td>\n",
       "      <td>None</td>\n",
       "      <td>None</td>\n",
       "    </tr>\n",
       "    <tr>\n",
       "      <td>\\nPSA  2,9  \\n</td>\n",
       "      <td>PSA</td>\n",
       "      <td>\\nPSA</td>\n",
       "      <td>2,9</td>\n",
       "      <td>None</td>\n",
       "      <td>None</td>\n",
       "      <td>None</td>\n",
       "      <td>None</td>\n",
       "      <td>None</td>\n",
       "      <td>None</td>\n",
       "      <td>None</td>\n",
       "      <td>None</td>\n",
       "      <td>None</td>\n",
       "      <td>None</td>\n",
       "      <td>None</td>\n",
       "      <td>None</td>\n",
       "      <td>None</td>\n",
       "    </tr>\n",
       "    <tr>\n",
       "      <td>1 aasta</td>\n",
       "      <td>PRAHT</td>\n",
       "      <td>None</td>\n",
       "      <td>None</td>\n",
       "      <td>None</td>\n",
       "      <td>None</td>\n",
       "      <td>None</td>\n",
       "      <td>None</td>\n",
       "      <td>None</td>\n",
       "      <td>None</td>\n",
       "      <td>None</td>\n",
       "      <td>None</td>\n",
       "      <td>None</td>\n",
       "      <td>None</td>\n",
       "      <td>None</td>\n",
       "      <td>1 aasta</td>\n",
       "      <td>None</td>\n",
       "    </tr>\n",
       "  </tbody>\n",
       "</table>"
      ],
      "text/plain": [
       "Layer(name=measurements_old, spans=SL[AS[Annotation(20.09.2013 13:09, {'day': '20', 'diastolic': None, 'high': None, 'hour': '13', 'key': None, 'low': None, 'minute': '09', 'month': '09', 'name': 'TIMEX', 'prygi': None, 'pulse': None, 'subject': None, 'systolic': None, 'unit': None, 'value': None, 'year': '2013'})],\n",
       "AS[Annotation( \n",
       "PSA  2,9  \n",
       ", {'day': None, 'diastolic': None, 'high': None, 'hour': None, 'key': ' \\nPSA', 'low': None, 'minute': None, 'month': None, 'name': 'PSA', 'prygi': None, 'pulse': None, 'subject': None, 'systolic': None, 'unit': None, 'value': '2,9', 'year': None})],\n",
       "AS[Annotation(1 aasta, {'day': None, 'diastolic': None, 'high': None, 'hour': None, 'key': None, 'low': None, 'minute': None, 'month': None, 'name': 'PRAHT', 'prygi': '1 aasta', 'pulse': None, 'subject': None, 'systolic': None, 'unit': None, 'value': None, 'year': None})]])"
      ]
     },
     "execution_count": 33,
     "metadata": {},
     "output_type": "execute_result"
    }
   ],
   "source": [
    "l[5].measurements_old"
   ]
  },
  {
   "cell_type": "code",
   "execution_count": 4,
   "metadata": {},
   "outputs": [],
   "source": [
    "diff_layer = 'measurements_diff_old_flat'\n",
    "\n",
    "df = collection.get_layer_meta(diff_layer)"
   ]
  },
  {
   "cell_type": "code",
   "execution_count": 5,
   "metadata": {},
   "outputs": [
    {
     "data": {
      "text/plain": [
       "id                       2239511275\n",
       "text_id                  2239578201\n",
       "unchanged_annotations             0\n",
       "missing_annotations           70812\n",
       "extra_annotations             33907\n",
       "unchanged_spans                   0\n",
       "modified_spans                 3648\n",
       "missing_spans                 67164\n",
       "extra_spans                   30259\n",
       "conflicts                     27515\n",
       "overlapped                      706\n",
       "prolonged                       125\n",
       "shortened                     26684\n",
       "dtype: int64"
      ]
     },
     "execution_count": 5,
     "metadata": {},
     "output_type": "execute_result"
    }
   ],
   "source": [
    "df.sum()"
   ]
  },
  {
   "cell_type": "markdown",
   "metadata": {},
   "source": [
    "## Random samples\n",
    "The following iterations give different kind of random samlples without replacement. The domain names of samples (`'modified_spans'`, `missing_spans'` etc) correspond to the summary table columns."
   ]
  },
  {
   "cell_type": "code",
   "execution_count": 24,
   "metadata": {},
   "outputs": [
    {
     "ename": "PgStorageException",
     "evalue": "Layer table 'psa_measurements_v2__measurements_diff_old_flat__layer' does not exist.",
     "output_type": "error",
     "traceback": [
      "\u001b[0;31m---------------------------------------------------------------------------\u001b[0m",
      "\u001b[0;31mPgStorageException\u001b[0m                        Traceback (most recent call last)",
      "\u001b[0;32m<ipython-input-24-8626a25c87e5>\u001b[0m in \u001b[0;36m<module>\u001b[0;34m()\u001b[0m\n\u001b[1;32m      4\u001b[0m                          \u001b[0mcollection\u001b[0m\u001b[0;34m=\u001b[0m\u001b[0mcollection\u001b[0m\u001b[0;34m,\u001b[0m\u001b[0;34m\u001b[0m\u001b[0m\n\u001b[1;32m      5\u001b[0m                          \u001b[0mdiff_layer\u001b[0m\u001b[0;34m=\u001b[0m\u001b[0mdiff_layer\u001b[0m\u001b[0;34m,\u001b[0m\u001b[0;34m\u001b[0m\u001b[0m\n\u001b[0;32m----> 6\u001b[0;31m                          domain='modified_spans'):\n\u001b[0m\u001b[1;32m      7\u001b[0m     \u001b[0mspan\u001b[0m\u001b[0;34m.\u001b[0m\u001b[0mdisplay\u001b[0m\u001b[0;34m(\u001b[0m\u001b[0;34m)\u001b[0m\u001b[0;34m\u001b[0m\u001b[0m\n",
      "\u001b[0;32m~/Desktop/estnltk/estnltk/taggers/standard_taggers/diff_tagger.py\u001b[0m in \u001b[0;36msample_spans\u001b[0;34m(k, collection, diff_layer, domain)\u001b[0m\n\u001b[1;32m    314\u001b[0m \u001b[0;34m\u001b[0m\u001b[0m\n\u001b[1;32m    315\u001b[0m \u001b[0;32mdef\u001b[0m \u001b[0msample_spans\u001b[0m\u001b[0;34m(\u001b[0m\u001b[0mk\u001b[0m\u001b[0;34m,\u001b[0m \u001b[0mcollection\u001b[0m\u001b[0;34m,\u001b[0m \u001b[0mdiff_layer\u001b[0m\u001b[0;34m,\u001b[0m \u001b[0mdomain\u001b[0m\u001b[0;34m)\u001b[0m\u001b[0;34m:\u001b[0m\u001b[0;34m\u001b[0m\u001b[0m\n\u001b[0;32m--> 316\u001b[0;31m     \u001b[0msummary\u001b[0m \u001b[0;34m=\u001b[0m \u001b[0mcollection\u001b[0m\u001b[0;34m.\u001b[0m\u001b[0mget_layer_meta\u001b[0m\u001b[0;34m(\u001b[0m\u001b[0mdiff_layer\u001b[0m\u001b[0;34m)\u001b[0m\u001b[0;34m\u001b[0m\u001b[0m\n\u001b[0m\u001b[1;32m    317\u001b[0m \u001b[0;34m\u001b[0m\u001b[0m\n\u001b[1;32m    318\u001b[0m     iterator = {'modified_spans': iterate_modified,\n",
      "\u001b[0;32m~/Desktop/estnltk/estnltk/storage/postgres/db.py\u001b[0m in \u001b[0;36mget_layer_meta\u001b[0;34m(self, layer_name)\u001b[0m\n\u001b[1;32m   1028\u001b[0m             \u001b[0;32mraise\u001b[0m \u001b[0mPgStorageException\u001b[0m\u001b[0;34m(\u001b[0m\u001b[0;34m\"Collection does not have a layer '{}'.\"\u001b[0m\u001b[0;34m.\u001b[0m\u001b[0mformat\u001b[0m\u001b[0;34m(\u001b[0m\u001b[0mlayer_name\u001b[0m\u001b[0;34m)\u001b[0m\u001b[0;34m)\u001b[0m\u001b[0;34m\u001b[0m\u001b[0m\n\u001b[1;32m   1029\u001b[0m         \u001b[0;32mif\u001b[0m \u001b[0;32mnot\u001b[0m \u001b[0mself\u001b[0m\u001b[0;34m.\u001b[0m\u001b[0mstorage\u001b[0m\u001b[0;34m.\u001b[0m\u001b[0mtable_exists\u001b[0m\u001b[0;34m(\u001b[0m\u001b[0mlayer_table\u001b[0m\u001b[0;34m)\u001b[0m\u001b[0;34m:\u001b[0m\u001b[0;34m\u001b[0m\u001b[0m\n\u001b[0;32m-> 1030\u001b[0;31m             \u001b[0;32mraise\u001b[0m \u001b[0mPgStorageException\u001b[0m\u001b[0;34m(\u001b[0m\u001b[0;34m\"Layer table '{}' does not exist.\"\u001b[0m\u001b[0;34m.\u001b[0m\u001b[0mformat\u001b[0m\u001b[0;34m(\u001b[0m\u001b[0mlayer_table\u001b[0m\u001b[0;34m)\u001b[0m\u001b[0;34m)\u001b[0m\u001b[0;34m\u001b[0m\u001b[0m\n\u001b[0m\u001b[1;32m   1031\u001b[0m \u001b[0;34m\u001b[0m\u001b[0m\n\u001b[1;32m   1032\u001b[0m         \u001b[0;32mwith\u001b[0m \u001b[0mself\u001b[0m\u001b[0;34m.\u001b[0m\u001b[0mstorage\u001b[0m\u001b[0;34m.\u001b[0m\u001b[0mconn\u001b[0m\u001b[0;34m.\u001b[0m\u001b[0mcursor\u001b[0m\u001b[0;34m(\u001b[0m\u001b[0;34m)\u001b[0m \u001b[0;32mas\u001b[0m \u001b[0mc\u001b[0m\u001b[0;34m:\u001b[0m\u001b[0;34m\u001b[0m\u001b[0m\n",
      "\u001b[0;31mPgStorageException\u001b[0m: Layer table 'psa_measurements_v2__measurements_diff_old_flat__layer' does not exist."
     ]
    }
   ],
   "source": [
    "from estnltk.taggers.standard_taggers.diff_tagger import sample_spans\n",
    "\n",
    "for span in sample_spans(k=100,\n",
    "                         collection=collection,\n",
    "                         diff_layer=diff_layer,\n",
    "                         domain='modified_spans'):\n",
    "    span.display()"
   ]
  },
  {
   "cell_type": "code",
   "execution_count": 17,
   "metadata": {
    "scrolled": false
   },
   "outputs": [
    {
     "name": "stdout",
     "output_type": "stream",
     "text": [
      "keys: (4112, 32536)\n",
      "text_id: 4112\n",
      "span_nrs {0}\n"
     ]
    },
    {
     "data": {
      "text/html": [
       "<table border=\"1\" class=\"dataframe\">\n",
       "  <thead>\n",
       "    <tr style=\"text-align: left;\">\n",
       "      <th>text</th>\n",
       "      <th>start</th>\n",
       "      <th>end</th>\n",
       "      <th>span_status</th>\n",
       "      <th>input_layer_name</th>\n",
       "      <th>name</th>\n",
       "      <th>key</th>\n",
       "      <th>value</th>\n",
       "      <th>unit</th>\n",
       "      <th>DATE</th>\n",
       "      <th>year</th>\n",
       "    </tr>\n",
       "  </thead>\n",
       "  <tbody>\n",
       "    <tr>\n",
       "      <td><span style=\"font-family: monospace; white-space: pre-wrap;\"><span style=\"text-decoration: underline;\">14.01.2013 </span></span></td>\n",
       "      <td>1</td>\n",
       "      <td>12</td>\n",
       "      <td>missing</td>\n",
       "      <td>measurements_old</td>\n",
       "      <td>TIMEX</td>\n",
       "      <td>None</td>\n",
       "      <td>None</td>\n",
       "      <td>None</td>\n",
       "      <td>None</td>\n",
       "      <td>2013</td>\n",
       "    </tr>\n",
       "  </tbody>\n",
       "</table>"
      ]
     },
     "metadata": {},
     "output_type": "display_data"
    },
    {
     "name": "stdout",
     "output_type": "stream",
     "text": [
      "text_id: 32536\n",
      "span_nrs {7}\n"
     ]
    }
   ],
   "source": [
    "for span in sample_spans(2, collection, diff_layer, 'missing_spans'):\n",
    "    span.display()"
   ]
  },
  {
   "cell_type": "code",
   "execution_count": 18,
   "metadata": {},
   "outputs": [
    {
     "name": "stdout",
     "output_type": "stream",
     "text": [
      "keys: (27944, 64005)\n",
      "text_id: 27944\n",
      "span_nrs {0}\n"
     ]
    },
    {
     "data": {
      "text/html": [
       "<table border=\"1\" class=\"dataframe\">\n",
       "  <thead>\n",
       "    <tr style=\"text-align: left;\">\n",
       "      <th>text</th>\n",
       "      <th>start</th>\n",
       "      <th>end</th>\n",
       "      <th>span_status</th>\n",
       "      <th>input_layer_name</th>\n",
       "      <th>name</th>\n",
       "      <th>key</th>\n",
       "      <th>value</th>\n",
       "      <th>unit</th>\n",
       "      <th>DATE</th>\n",
       "      <th>year</th>\n",
       "    </tr>\n",
       "  </thead>\n",
       "  <tbody>\n",
       "    <tr>\n",
       "      <td><span style=\"font-family: monospace; white-space: pre-wrap;\"><span style=\"text-decoration: underline;\">PSA 3</span></span></td>\n",
       "      <td>55</td>\n",
       "      <td>60</td>\n",
       "      <td>extra</td>\n",
       "      <td>measurements_flat</td>\n",
       "      <td>MEASUREMENT</td>\n",
       "      <td>PSA</td>\n",
       "      <td>3</td>\n",
       "      <td></td>\n",
       "      <td></td>\n",
       "      <td>None</td>\n",
       "    </tr>\n",
       "  </tbody>\n",
       "</table>"
      ]
     },
     "metadata": {},
     "output_type": "display_data"
    },
    {
     "name": "stdout",
     "output_type": "stream",
     "text": [
      "AS[Annotation(PSA 3, {'DATE': '', 'input_layer_name': 'measurements_flat', 'key': 'PSA', 'name': 'MEASUREMENT', 'span_status': 'extra', 'unit': '', 'value': '3', 'year': None})]\n",
      "text_id: 64005\n",
      "span_nrs {1}\n"
     ]
    },
    {
     "data": {
      "text/html": [
       "<table border=\"1\" class=\"dataframe\">\n",
       "  <thead>\n",
       "    <tr style=\"text-align: left;\">\n",
       "      <th>text</th>\n",
       "      <th>start</th>\n",
       "      <th>end</th>\n",
       "      <th>span_status</th>\n",
       "      <th>input_layer_name</th>\n",
       "      <th>name</th>\n",
       "      <th>key</th>\n",
       "      <th>value</th>\n",
       "      <th>unit</th>\n",
       "      <th>DATE</th>\n",
       "      <th>year</th>\n",
       "    </tr>\n",
       "  </thead>\n",
       "  <tbody>\n",
       "    <tr>\n",
       "      <td><span style=\"font-family: monospace; white-space: pre-wrap;\"><span style=\"text-decoration: underline;\">S,P-K 4.5</span></span></td>\n",
       "      <td>202</td>\n",
       "      <td>211</td>\n",
       "      <td>extra</td>\n",
       "      <td>measurements_flat</td>\n",
       "      <td>MEASUREMENT</td>\n",
       "      <td>S,P-K</td>\n",
       "      <td>4.5</td>\n",
       "      <td></td>\n",
       "      <td></td>\n",
       "      <td>None</td>\n",
       "    </tr>\n",
       "  </tbody>\n",
       "</table>"
      ]
     },
     "metadata": {},
     "output_type": "display_data"
    },
    {
     "name": "stdout",
     "output_type": "stream",
     "text": [
      "AS[Annotation(S,P-K 4.5, {'DATE': '', 'input_layer_name': 'measurements_flat', 'key': 'S,P-K', 'name': 'MEASUREMENT', 'span_status': 'extra', 'unit': '', 'value': '4.5', 'year': None})]\n"
     ]
    }
   ],
   "source": [
    "for span in sample_spans(2, collection, diff_layer, 'extra_spans'):\n",
    "    span.display()\n",
    "    print(span)"
   ]
  },
  {
   "cell_type": "code",
   "execution_count": 19,
   "metadata": {},
   "outputs": [
    {
     "name": "stdout",
     "output_type": "stream",
     "text": [
      "keys: (55327, 2951)\n",
      "text_id: 2951\n",
      "span_nrs {0}\n",
      "text_id: 55327\n",
      "span_nrs {0}\n"
     ]
    }
   ],
   "source": [
    "for a, b in sample_spans(2, collection, diff_layer, 'conflicts'):\n",
    "    a.display()\n",
    "    b.display()\n",
    "    print(80*'-')"
   ]
  },
  {
   "cell_type": "code",
   "execution_count": 20,
   "metadata": {},
   "outputs": [
    {
     "name": "stdout",
     "output_type": "stream",
     "text": [
      "keys: (10377, 42469)\n",
      "text_id: 10377\n",
      "span_nrs {0}\n",
      "text_id: 42469\n",
      "span_nrs {0}\n"
     ]
    }
   ],
   "source": [
    "for a, b in sample_spans(2, collection, diff_layer, 'overlapped'):\n",
    "    a.display()\n",
    "    b.display()\n",
    "    print(80*'-')"
   ]
  },
  {
   "cell_type": "code",
   "execution_count": 21,
   "metadata": {},
   "outputs": [
    {
     "name": "stdout",
     "output_type": "stream",
     "text": [
      "keys: (44575, 18607)\n",
      "text_id: 18607\n",
      "span_nrs {0}\n",
      "text_id: 44575\n",
      "span_nrs {0}\n"
     ]
    }
   ],
   "source": [
    "for a, b in sample_spans(2, collection, diff_layer, 'prolonged'):\n",
    "    a.display()\n",
    "    b.display()\n",
    "    print(80*'-')"
   ]
  },
  {
   "cell_type": "code",
   "execution_count": 22,
   "metadata": {},
   "outputs": [
    {
     "name": "stdout",
     "output_type": "stream",
     "text": [
      "keys: (49521, 40046)\n",
      "text_id: 40046\n",
      "span_nrs {0}\n"
     ]
    },
    {
     "data": {
      "text/html": [
       "<table border=\"1\" class=\"dataframe\">\n",
       "  <thead>\n",
       "    <tr style=\"text-align: left;\">\n",
       "      <th>text</th>\n",
       "      <th>start</th>\n",
       "      <th>end</th>\n",
       "      <th>span_status</th>\n",
       "      <th>input_layer_name</th>\n",
       "      <th>name</th>\n",
       "      <th>key</th>\n",
       "      <th>value</th>\n",
       "      <th>unit</th>\n",
       "      <th>DATE</th>\n",
       "      <th>year</th>\n",
       "    </tr>\n",
       "  </thead>\n",
       "  <tbody>\n",
       "    <tr>\n",
       "      <td><span style=\"font-family: monospace; white-space: pre-wrap;\"><span style=\"text-decoration: underline;\">WBC 4.94 (3,5 .. 8,8 E9/L</span></span></td>\n",
       "      <td>25</td>\n",
       "      <td>50</td>\n",
       "      <td>missing</td>\n",
       "      <td>measurements_old</td>\n",
       "      <td>LEUKOTSÜÜDID</td>\n",
       "      <td>WBC</td>\n",
       "      <td>4.94</td>\n",
       "      <td>E9/L</td>\n",
       "      <td>None</td>\n",
       "      <td>None</td>\n",
       "    </tr>\n",
       "  </tbody>\n",
       "</table>"
      ]
     },
     "metadata": {},
     "output_type": "display_data"
    },
    {
     "data": {
      "text/html": [
       "<table border=\"1\" class=\"dataframe\">\n",
       "  <thead>\n",
       "    <tr style=\"text-align: left;\">\n",
       "      <th>text</th>\n",
       "      <th>start</th>\n",
       "      <th>end</th>\n",
       "      <th>span_status</th>\n",
       "      <th>input_layer_name</th>\n",
       "      <th>name</th>\n",
       "      <th>key</th>\n",
       "      <th>value</th>\n",
       "      <th>unit</th>\n",
       "      <th>DATE</th>\n",
       "      <th>year</th>\n",
       "    </tr>\n",
       "  </thead>\n",
       "  <tbody>\n",
       "    <tr>\n",
       "      <td><span style=\"font-family: monospace; white-space: pre-wrap;\"><span style=\"text-decoration: underline;\">WBC 4.94</span></span></td>\n",
       "      <td>25</td>\n",
       "      <td>33</td>\n",
       "      <td>extra</td>\n",
       "      <td>measurements_flat</td>\n",
       "      <td>MEASUREMENT</td>\n",
       "      <td>WBC</td>\n",
       "      <td>4.94</td>\n",
       "      <td></td>\n",
       "      <td></td>\n",
       "      <td>None</td>\n",
       "    </tr>\n",
       "  </tbody>\n",
       "</table>"
      ]
     },
     "metadata": {},
     "output_type": "display_data"
    },
    {
     "name": "stdout",
     "output_type": "stream",
     "text": [
      "--------------------------------------------------------------------------------\n",
      "text_id: 49521\n",
      "span_nrs {1}\n"
     ]
    }
   ],
   "source": [
    "for a, b in sample_spans(2, collection, diff_layer, 'shortened'):\n",
    "    a.display()\n",
    "    b.display()\n",
    "    print(80*'-')"
   ]
  },
  {
   "cell_type": "markdown",
   "metadata": {},
   "source": [
    "Display `measurements_diff_1_2` layer."
   ]
  },
  {
   "cell_type": "code",
   "execution_count": 23,
   "metadata": {
    "scrolled": false
   },
   "outputs": [
    {
     "data": {
      "text/html": [
       "<h4>Layer</h4>\n",
       "<table border=\"1\" class=\"dataframe\">\n",
       "  <thead>\n",
       "    <tr style=\"text-align: right;\">\n",
       "      <th>layer name</th>\n",
       "      <th>attributes</th>\n",
       "      <th>parent</th>\n",
       "      <th>enveloping</th>\n",
       "      <th>ambiguous</th>\n",
       "      <th>span count</th>\n",
       "    </tr>\n",
       "  </thead>\n",
       "  <tbody>\n",
       "    <tr>\n",
       "      <td>measurements_diff_old_flat</td>\n",
       "      <td>span_status, input_layer_name, name, key, value, unit, DATE, year</td>\n",
       "      <td>None</td>\n",
       "      <td>None</td>\n",
       "      <td>True</td>\n",
       "      <td>0</td>\n",
       "    </tr>\n",
       "  </tbody>\n",
       "</table>\n",
       "<table border=\"1\" class=\"dataframe\">\n",
       "  <thead>\n",
       "    <tr style=\"text-align: right;\">\n",
       "      <th>text</th>\n",
       "      <th>start</th>\n",
       "      <th>end</th>\n",
       "      <th>span_status</th>\n",
       "      <th>input_layer_name</th>\n",
       "      <th>name</th>\n",
       "      <th>key</th>\n",
       "      <th>value</th>\n",
       "      <th>unit</th>\n",
       "      <th>DATE</th>\n",
       "      <th>year</th>\n",
       "    </tr>\n",
       "  </thead>\n",
       "  <tbody>\n",
       "  </tbody>\n",
       "</table>"
      ],
      "text/plain": [
       "Layer(name=measurements_diff_old_flat, spans=SL[])"
      ]
     },
     "execution_count": 23,
     "metadata": {},
     "output_type": "execute_result"
    }
   ],
   "source": [
    "from estnltk import Layer\n",
    "Layer.print_start_end = True\n",
    "\n",
    "texts = collection.select(layers=['measurement_tokens',\n",
    "                                  'measurements_old',\n",
    "                                  'measurements_flat',\n",
    "                                  'measurements_diff_old_flat'],\n",
    "                          keys=[7])\n",
    "text_id, text = next(texts)\n",
    "text.measurements_diff_old_flat"
   ]
  },
  {
   "cell_type": "code",
   "execution_count": 5,
   "metadata": {},
   "outputs": [],
   "source": [
    "storage.close()"
   ]
  },
  {
   "cell_type": "code",
   "execution_count": null,
   "metadata": {},
   "outputs": [],
   "source": []
  }
 ],
 "metadata": {
  "kernelspec": {
   "display_name": "Python 3",
   "language": "python",
   "name": "python3"
  },
  "language_info": {
   "codemirror_mode": {
    "name": "ipython",
    "version": 3
   },
   "file_extension": ".py",
   "mimetype": "text/x-python",
   "name": "python",
   "nbconvert_exporter": "python",
   "pygments_lexer": "ipython3",
   "version": "3.5.6"
  }
 },
 "nbformat": 4,
 "nbformat_minor": 2
}
