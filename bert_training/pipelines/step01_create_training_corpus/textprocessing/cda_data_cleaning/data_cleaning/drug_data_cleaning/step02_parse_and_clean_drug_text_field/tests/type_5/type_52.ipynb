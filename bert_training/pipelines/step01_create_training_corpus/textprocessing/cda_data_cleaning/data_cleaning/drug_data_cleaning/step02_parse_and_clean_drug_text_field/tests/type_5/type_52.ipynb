{
 "cells": [
  {
   "cell_type": "markdown",
   "metadata": {},
   "source": [
    "# Generation of test cases json files"
   ]
  },
  {
   "cell_type": "code",
   "execution_count": 1,
   "metadata": {},
   "outputs": [
    {
     "name": "stdout",
     "output_type": "stream",
     "text": [
      "Created input texts file 'input_type52_0.json'.\n",
      "Created target layers file 'target_type52_0.json'.\n",
      "Created input texts file 'input_type52_1.json'.\n",
      "Created target layers file 'target_type52_1.json'.\n",
      "Created input texts file 'input_type52_2.json'.\n",
      "Created target layers file 'target_type52_2.json'.\n",
      "Created input texts file 'input_type52_3.json'.\n",
      "Created target layers file 'target_type52_3.json'.\n"
     ]
    }
   ],
   "source": [
    "import os\n",
    "import sys\n",
    "sys.path.append(os.path.abspath('../../development/'))\n",
    "sys.path.append(os.path.abspath('../../development/dev_taggers'))\n",
    "from estnltk import Text\n",
    "from estnltk.taggers import TaggerTester\n",
    "from estnltk.taggers import Tagger\n",
    "from drug_tagger import DrugTagger\n",
    "from drug_grammar_token_tagger import DrugGrammarTokenTagger\n",
    "\n",
    "# existing texts\n",
    "raw_texts = []\n",
    "raw_texts.append('''06.07.2015 Esmased varased  jalaortoosid\n",
    "1034110021 06.07.2015 AUGMENTIN''')\n",
    "raw_texts.append('''15.03.2015 OMEPRAZOL SANDOZ''')\n",
    "raw_texts.append('''15.03.2015 OMEPRAZOL SANDOZ 20''')\n",
    "raw_texts.append('''15.03.2015 OMEPRAZOLE STADA 20 MG''')\n",
    "\n",
    "#expected output\n",
    "expected_texts = [['1034110021', ' 06.07.2015 ', 'AUGMENTIN'],\n",
    "                  ['15.03.2015 ', 'OMEPRAZOL SANDOZ'],\n",
    "                  ['15.03.2015 ', 'OMEPRAZOL SANDOZ', '20'],\n",
    "                  ['15.03.2015 ', 'OMEPRAZOLE STADA', '20', 'MG']]\n",
    "                 \n",
    "\n",
    "tagged_texts = []\n",
    "for i, (text, expected) in enumerate(zip(raw_texts, expected_texts)):\n",
    "    # create filenames\n",
    "    name = 'type52_' + str(i)\n",
    "    input_file='input_' + name + '.json'\n",
    "    target_file='target_' + name + '.json'\n",
    "  \n",
    "    # create taggers             \n",
    "    drug_tagger = DrugTagger()\n",
    "    part_tagger = DrugGrammarTokenTagger()\n",
    "    test_generator = TaggerTester(tagger=drug_tagger, input_file=input_file, target_file=target_file)\n",
    "    \n",
    "    # tag text\n",
    "    t = Text(text).tag_layer(['words'])\n",
    "    part_tagger.tag(t)\n",
    "    drug_tagger.tag(t)\n",
    "\n",
    "    test_generator.add_test(name, t, expected)\n",
    "    test_generator.save_input(overwrite=False)\n",
    "    test_generator.save_target(overwrite=False)"
   ]
  }
 ],
 "metadata": {
  "kernelspec": {
   "display_name": "Python 3",
   "language": "python",
   "name": "python3"
  },
  "language_info": {
   "codemirror_mode": {
    "name": "ipython",
    "version": 3
   },
   "file_extension": ".py",
   "mimetype": "text/x-python",
   "name": "python",
   "nbconvert_exporter": "python",
   "pygments_lexer": "ipython3",
   "version": "3.6.10"
  }
 },
 "nbformat": 4,
 "nbformat_minor": 4
}
