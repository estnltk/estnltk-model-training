{
 "cells": [
  {
   "cell_type": "markdown",
   "metadata": {},
   "source": [
    "# Generation of test cases json files"
   ]
  },
  {
   "cell_type": "code",
   "execution_count": 3,
   "metadata": {},
   "outputs": [
    {
     "name": "stdout",
     "output_type": "stream",
     "text": [
      "Created input texts file 'input_type4_0.json'.\n",
      "Created target layers file 'target_type4_0.json'.\n"
     ]
    }
   ],
   "source": [
    "import os\n",
    "import sys\n",
    "sys.path.append(os.path.abspath('../../development/'))\n",
    "sys.path.append(os.path.abspath('../../development/dev_taggers'))\n",
    "from estnltk import Text\n",
    "from estnltk.taggers import TaggerTester\n",
    "from estnltk.taggers import Tagger\n",
    "from drug_tagger import DrugTagger\n",
    "from drug_grammar_token_tagger import DrugGrammarTokenTagger\n",
    "\n",
    "# existing texts\n",
    "raw_texts = []\n",
    "raw_texts.append('''Kuupäev: 20100728, nimetus/toimeaine: fosinopriil 10 MG; inhaleeritav aerosool, suspensioon; 56 TK; \n",
    "Kuupäev: 20100728, nimetus/toimeaine: varfariin 3 MG; tablett; 100 TK;''')\n",
    "\n",
    "#expected output\n",
    "expected_texts = [['Kuupäev', ' 20100728,', 'toimeaine', 'fosinopriil', '10', 'MG', 'inhaleeritav aerosool, suspensioon', 'Kuupäev', ' 20100728,', 'toimeaine', 'varfariin', '3', 'MG','tablett']]    \n",
    "\n",
    "tagged_texts = []\n",
    "for i, (text, expected) in enumerate(zip(raw_texts, expected_texts)):\n",
    "    # create filenames\n",
    "    name = 'type4_' + str(i)\n",
    "    input_file='input_' + name + '.json'\n",
    "    target_file='target_' + name + '.json'\n",
    "  \n",
    "    # create taggers             \n",
    "    drug_tagger = DrugTagger()\n",
    "    part_tagger = DrugGrammarTokenTagger()\n",
    "    test_generator = TaggerTester(tagger=drug_tagger, input_file=input_file, target_file=target_file)\n",
    "    \n",
    "    # tag text\n",
    "    t = Text(text).tag_layer(['words'])\n",
    "    part_tagger.tag(t)\n",
    "    drug_tagger.tag(t)\n",
    "\n",
    "    test_generator.add_test(name, t, expected)\n",
    "    test_generator.save_input(overwrite=False)\n",
    "    test_generator.save_target(overwrite=False)"
   ]
  }
 ],
 "metadata": {
  "kernelspec": {
   "display_name": "Python 3",
   "language": "python",
   "name": "python3"
  },
  "language_info": {
   "codemirror_mode": {
    "name": "ipython",
    "version": 3
   },
   "file_extension": ".py",
   "mimetype": "text/x-python",
   "name": "python",
   "nbconvert_exporter": "python",
   "pygments_lexer": "ipython3",
   "version": "3.6.10"
  }
 },
 "nbformat": 4,
 "nbformat_minor": 4
}
