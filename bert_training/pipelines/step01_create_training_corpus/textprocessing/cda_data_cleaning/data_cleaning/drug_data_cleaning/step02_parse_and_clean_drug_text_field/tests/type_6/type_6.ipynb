{
 "cells": [
  {
   "cell_type": "markdown",
   "metadata": {},
   "source": [
    "# Generation of test cases json files"
   ]
  },
  {
   "cell_type": "code",
   "execution_count": 2,
   "metadata": {},
   "outputs": [],
   "source": [
    "import os\n",
    "import sys\n",
    "sys.path.append(os.path.abspath('../../development/'))\n",
    "sys.path.append(os.path.abspath('../../development/dev_taggers'))\n",
    "from estnltk import Text\n",
    "from estnltk.taggers import TaggerTester\n",
    "from estnltk.taggers import Tagger\n",
    "from drug_tagger import DrugTagger\n",
    "from drug_grammar_token_tagger import DrugGrammarTokenTagger"
   ]
  },
  {
   "cell_type": "code",
   "execution_count": 2,
   "metadata": {},
   "outputs": [
    {
     "name": "stdout",
     "output_type": "stream",
     "text": [
      "Created input texts file 'input_type6_0.json'.\n",
      "Created target layers file 'target_type6_0.json'.\n",
      "Created input texts file 'input_type6_1.json'.\n",
      "Created target layers file 'target_type6_1.json'.\n",
      "Created input texts file 'input_type6_2.json'.\n",
      "Created target layers file 'target_type6_2.json'.\n",
      "Created input texts file 'input_type6_3.json'.\n",
      "Created target layers file 'target_type6_3.json'.\n"
     ]
    }
   ],
   "source": [
    "# existing texts\n",
    "raw_texts = []\n",
    "\n",
    "# recipe_code drug_name_dose PACKAGE_SIZE\n",
    "raw_texts.append('''Rp. RIVOTRIL TBL 2 MG N30''')\n",
    "# recipe drug_name_dose\n",
    "raw_texts.append('''Rp. RANIBERL TBL 150MG''')\n",
    "# recipe_code drug_name_dose DOSE_QUANTITY_UNIT dose PACKAGE_SIZE\n",
    "raw_texts.append('''Rp. MILGAMMA 100 KAETUD TBL 100MG + 100MG N30''')\n",
    "# no space between rows\n",
    "raw_texts.append('''Rp. RANIBERL TBL 150MG N50Rp. CARDACE TBL 5MG N28 2 orig''')\n",
    "                 \n",
    "#expected output\n",
    "expected_texts = [['Rp', 'RIVOTRIL', '2', 'MG', 'N30'],\n",
    "                  ['Rp', 'RANIBERL', '150', 'MG'],\n",
    "                  ['Rp', 'MILGAMMA', '100'],\n",
    "                  ['Rp', 'RANIBERL', '150', 'MG', 'N50', 'CARDACE', '5', 'MG', 'N28']]\n",
    "              \n",
    "\n",
    "tagged_texts = []\n",
    "for i, (text, expected) in enumerate(zip(raw_texts, expected_texts)):\n",
    "    # create filenames\n",
    "    name = 'type6_' + str(i)\n",
    "    input_file='input_' + name + '.json'\n",
    "    target_file='target_' + name + '.json'\n",
    "  \n",
    "    # create taggers             \n",
    "    drug_tagger = DrugTagger()\n",
    "    part_tagger = DrugGrammarTokenTagger()\n",
    "    test_generator = TaggerTester(tagger=drug_tagger, input_file=input_file, target_file=target_file)\n",
    "    \n",
    "    # tag text\n",
    "    t = Text(text).tag_layer(['words'])\n",
    "    part_tagger.tag(t)\n",
    "    drug_tagger.tag(t)\n",
    "\n",
    "    test_generator.add_test(name, t, expected)\n",
    "    test_generator.save_input(overwrite=False)\n",
    "    test_generator.save_target(overwrite=False)"
   ]
  }
 ],
 "metadata": {
  "kernelspec": {
   "display_name": "Python 3",
   "language": "python",
   "name": "python3"
  },
  "language_info": {
   "codemirror_mode": {
    "name": "ipython",
    "version": 3
   },
   "file_extension": ".py",
   "mimetype": "text/x-python",
   "name": "python",
   "nbconvert_exporter": "python",
   "pygments_lexer": "ipython3",
   "version": "3.6.10"
  }
 },
 "nbformat": 4,
 "nbformat_minor": 4
}
