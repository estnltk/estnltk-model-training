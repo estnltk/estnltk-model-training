{
 "cells": [
  {
   "cell_type": "markdown",
   "metadata": {},
   "source": [
    "LOINC CODE ASSIGNMENT"
   ]
  },
  {
   "cell_type": "code",
   "execution_count": 16,
   "metadata": {},
   "outputs": [],
   "source": [
    "import sys\n",
    "import os\n",
    "import pandas as pd\n",
    "import psycopg2 as pg2\n",
    "from psycopg2 import sql\n",
    "\n",
    "__file__ = os.path.abspath('')\n",
    "sys.path.append(os.path.abspath(os.path.join(os.path.abspath(__file__), '..', '..', '..')))\n",
    "\n",
    "from common.db_operations import insert_to_database, set_role, reset_role\n",
    "from configuration import database_connection_string, DATABASE_NAME, WORK_SCHEMA"
   ]
  },
  {
   "cell_type": "code",
   "execution_count": 41,
   "metadata": {},
   "outputs": [],
   "source": [
    "map1 = pd.read_csv(\"../data/parameter_name_to_loinc_mapping.csv\", keep_default_na=False)\n",
    "map2 = pd.read_csv(\"../data/parameter_name_parameter_unit_to_loinc_mapping.csv\", keep_default_na=False)\n",
    "map3 = pd.read_csv(\"../data/elabor_parameter_name_to_loinc_mapping.csv\", keep_default_na=False)\n",
    "map4 = pd.read_csv(\"../data/elabor_parameter_name_parameter_unit_to_loinc_mapping.csv\", keep_default_na=False)"
   ]
  },
  {
   "cell_type": "code",
   "execution_count": 56,
   "metadata": {},
   "outputs": [],
   "source": [
    "#map2"
   ]
  },
  {
   "cell_type": "code",
   "execution_count": 53,
   "metadata": {},
   "outputs": [
    {
     "ename": "ProgrammingError",
     "evalue": "relation \"prefix2105parameter_name_to_loinc_mapping\" already exists\n",
     "output_type": "error",
     "traceback": [
      "\u001b[0;31m---------------------------------------------------------------------------\u001b[0m",
      "\u001b[0;31mProgrammingError\u001b[0m                          Traceback (most recent call last)",
      "\u001b[0;32m~/Repos/cda-data-cleaning/analysis_data_cleaning/LOINC_cleaning/loinc_code_assignment\u001b[0m in \u001b[0;36m<module>\u001b[0;34m\u001b[0m\n\u001b[1;32m     24\u001b[0m \u001b[0;34m\u001b[0m\u001b[0m\n\u001b[1;32m     25\u001b[0m \u001b[0mcur1\u001b[0m \u001b[0;34m=\u001b[0m \u001b[0mconn\u001b[0m\u001b[0;34m.\u001b[0m\u001b[0mcursor\u001b[0m\u001b[0;34m(\u001b[0m\u001b[0;34m)\u001b[0m\u001b[0;34m\u001b[0m\u001b[0m\n\u001b[0;32m---> 26\u001b[0;31m \u001b[0mcur1\u001b[0m\u001b[0;34m.\u001b[0m\u001b[0mexecute\u001b[0m\u001b[0;34m(\u001b[0m\u001b[0mquery1\u001b[0m\u001b[0;34m)\u001b[0m\u001b[0;34m\u001b[0m\u001b[0m\n\u001b[0m\u001b[1;32m     27\u001b[0m \u001b[0mconn\u001b[0m\u001b[0;34m.\u001b[0m\u001b[0mcommit\u001b[0m\u001b[0;34m(\u001b[0m\u001b[0;34m)\u001b[0m\u001b[0;34m\u001b[0m\u001b[0m\n\u001b[1;32m     28\u001b[0m \u001b[0;34m\u001b[0m\u001b[0m\n",
      "\u001b[0;31mProgrammingError\u001b[0m: relation \"prefix2105parameter_name_to_loinc_mapping\" already exists\n"
     ]
    }
   ],
   "source": [
    "conn = pg2.connect(database_connection_string)\n",
    "prefix = 'prefix2105'\n",
    "schema = 'analysiscleaning' #WORK_SCHEMA\n",
    "\n",
    "name1 = 'parameter_name_to_loinc_mapping'\n",
    "name2 = 'parameter_name_parameter_unit_to_loinc_mapping'\n",
    "name3 = 'elabor_parameter_name_to_loinc_mapping'\n",
    "name4 = 'elabor_parameter_name_parameter_unit_to_loinc_mapping'\n",
    "\n",
    "set_role('egcut_epi', schema, conn) #configuration.DATABASE_NAME\n",
    "\n",
    "#!!!!!!!!!!!!\n",
    "#NB PEAKS TEGEMA DROP TABLE IGAL POOL KÕIGEPEALT\n",
    "# drop table if exists {}.{};\n",
    "\n",
    "query1 = sql.SQL('''\n",
    "        create table {}.{}\n",
    "        (\n",
    "        parameter_name text,\n",
    "        t_lyhend text,\n",
    "        loinc_code text,\n",
    "        evidence text\n",
    "        );''').format(sql.Identifier(schema), sql.Identifier(prefix + name1))\n",
    "\n",
    "cur1 = conn.cursor()\n",
    "cur1.execute(query1)\n",
    "conn.commit()\n",
    "\n",
    "query2 = sql.SQL('''\n",
    "        create table {}.{}\n",
    "        (\n",
    "        parameter_name text,\n",
    "        parameter_unit text,\n",
    "        t_lyhend text,\n",
    "        loinc_code text,\n",
    "        evidence text\n",
    "        );''').format(sql.Identifier(schema), sql.Identifier(prefix + name2))\n",
    "\n",
    "cur2 = conn.cursor()\n",
    "cur2.execute(query2)\n",
    "conn.commit()\n",
    "\n",
    "\n",
    "query3 = sql.SQL('''\n",
    "        create table {}.{}\n",
    "        (\n",
    "        parameter_name text, \n",
    "        t_lyhend text,\n",
    "        t_nimetus text,\n",
    "        kasutatav_nimetus text,\n",
    "        loinc_code text,\n",
    "        evidence text\n",
    "        );''').format(sql.Identifier(schema), sql.Identifier(prefix + name3))\n",
    "\n",
    "cur3 = conn.cursor()\n",
    "cur3.execute(query3)\n",
    "conn.commit()\n",
    "\n",
    "\n",
    "query4 = sql.SQL('''\n",
    "        create table {}.{}\n",
    "        (\n",
    "        parameter_name text, \n",
    "        t_yhik text, \n",
    "        t_lyhend text,\n",
    "        t_nimetus text,\n",
    "        kasutatav_nimetus text,\n",
    "        loinc_code text,\n",
    "        evidence text\n",
    "        );''').format(sql.Identifier(schema), sql.Identifier(prefix + name4))\n",
    "\n",
    "cur4 = conn.cursor()\n",
    "cur4.execute(query4)\n",
    "conn.commit()\n",
    "\n",
    "reset_role(cur, conn)\n"
   ]
  },
  {
   "cell_type": "code",
   "execution_count": 52,
   "metadata": {},
   "outputs": [],
   "source": [
    "insert_to_database(map1,  schema + '.' + prefix + name1, conn)\n",
    "insert_to_database(map2,  schema + '.' + prefix + name2, conn)\n",
    "insert_to_database(map3,  schema + '.' + prefix + name3, conn)\n",
    "insert_to_database(map4,  schema + '.' + prefix + name4, conn)\n",
    "\n",
    "conn.close()"
   ]
  },
  {
   "cell_type": "code",
   "execution_count": null,
   "metadata": {},
   "outputs": [],
   "source": []
  },
  {
   "cell_type": "code",
   "execution_count": null,
   "metadata": {},
   "outputs": [],
   "source": []
  },
  {
   "cell_type": "markdown",
   "metadata": {},
   "source": [
    "LOINC UNIT ASSIGNMENT"
   ]
  },
  {
   "cell_type": "code",
   "execution_count": 72,
   "metadata": {},
   "outputs": [],
   "source": [
    "map_unit1 = pd.read_csv(\"../data/parameter_unit_to_cleaned_unit.csv\", keep_default_na=False)\n",
    "map_unit2 = pd.read_csv(\"../data/parameter_unit_to_loinc_mapping.csv\", keep_default_na=False)"
   ]
  },
  {
   "cell_type": "code",
   "execution_count": 73,
   "metadata": {},
   "outputs": [],
   "source": [
    "conn = pg2.connect(database_connection_string)\n",
    "prefix = 'prefix2105'\n",
    "schema = 'analysiscleaning' #WORK_SCHEMA\n",
    "\n",
    "set_role('egcut_epi', schema, conn) #configuration.DATABASE_NAME\n",
    "\n",
    "name_unit1 = 'parameter_unit_to_cleaned_unit'\n",
    "query_unit1 = sql.SQL('''\n",
    "        create table {}.{}\n",
    "        (\n",
    "        parameter_unit text,\n",
    "        parameter_unit_clean text,\n",
    "        loinc_unit text,\n",
    "        evidence text\n",
    "        );''').format(sql.Identifier(schema), sql.Identifier(prefix + name_unit1))\n",
    "\n",
    "cur1 = conn.cursor()\n",
    "cur1.execute(query_unit1)\n",
    "conn.commit()\n",
    "\n",
    "\n",
    "name_unit2 = 'parameter_unit_to_loinc_unit_mapping'\n",
    "query_unit2 = sql.SQL('''\n",
    "    create table {}.{}\n",
    "    (\n",
    "        parameter_unit text,\n",
    "        parameter_unit_clean text,\n",
    "        loinc_unit text,\n",
    "        evidence text\n",
    "    );''').format(sql.Identifier(schema), sql.Identifier(prefix + name_unit2))\n",
    "\n",
    "cur2 = conn.cursor()\n",
    "cur2.execute(query_unit2)\n",
    "conn.commit()\n",
    "\n",
    "reset_role(cur1, conn)\n",
    "reset_role(cur2, conn)"
   ]
  },
  {
   "cell_type": "code",
   "execution_count": 74,
   "metadata": {},
   "outputs": [],
   "source": [
    "insert_to_database(map_unit1,  schema + '.' + prefix + name_unit1, conn)\n",
    "insert_to_database(map_unit2,  schema + '.' + prefix + name_unit2, conn)\n",
    "\n",
    "conn.close()"
   ]
  },
  {
   "cell_type": "code",
   "execution_count": null,
   "metadata": {},
   "outputs": [],
   "source": []
  },
  {
   "cell_type": "markdown",
   "metadata": {},
   "source": [
    "LONG LOINC MAPPING"
   ]
  },
  {
   "cell_type": "code",
   "execution_count": 80,
   "metadata": {},
   "outputs": [],
   "source": [
    "map_longloinc = pd.read_csv(\"../data/long_loinc_mapping.csv\", keep_default_na=False)"
   ]
  },
  {
   "cell_type": "code",
   "execution_count": 81,
   "metadata": {},
   "outputs": [],
   "source": [
    "conn = pg2.connect(database_connection_string)\n",
    "prefix = 'prefix2105_'\n",
    "schema = 'analysiscleaning' #WORK_SCHEMA\n",
    "\n",
    "set_role('egcut_epi', schema, conn) #configuration.DATABASE_NAME\n",
    "\n",
    "name = 'long_loinc_mapping'\n",
    "query= sql.SQL('''\n",
    "    create table {}.{}\n",
    "    (\n",
    "          analysis_name text,\n",
    "          parameter_name text,\n",
    "          parameter_code text,\n",
    "          unit text,\n",
    "          analyte text,\n",
    "          property text,\n",
    "          system text,\n",
    "          time_aspect text,\n",
    "          scale text\n",
    "    );''').format(sql.Identifier(schema), sql.Identifier(prefix + name))\n",
    "\n",
    "cur = conn.cursor()\n",
    "cur.execute(query)\n",
    "conn.commit()\n",
    "\n",
    "\n",
    "reset_role(cur, conn)"
   ]
  },
  {
   "cell_type": "code",
   "execution_count": 82,
   "metadata": {},
   "outputs": [],
   "source": [
    "insert_to_database(map_longloinc,  schema + '.' + prefix + name, conn)\n",
    "\n",
    "conn.close()"
   ]
  }
 ],
 "metadata": {
  "kernelspec": {
   "display_name": "Python 3",
   "language": "python",
   "name": "python3"
  },
  "language_info": {
   "codemirror_mode": {
    "name": "ipython",
    "version": 3
   },
   "file_extension": ".py",
   "mimetype": "text/x-python",
   "name": "python",
   "nbconvert_exporter": "python",
   "pygments_lexer": "ipython3",
   "version": "3.6.0"
  }
 },
 "nbformat": 4,
 "nbformat_minor": 2
}
