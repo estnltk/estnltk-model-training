{
 "cells": [
  {
   "cell_type": "markdown",
   "id": "3bcff9cd",
   "metadata": {},
   "source": [
    "### Subject-verb preprocessing\n",
    "\n",
    "This file does preprocessing for subject-verb collocations. These collocations consist of subject-verb pairs that go together in sentences. For example, the pair (\"see\", \"olema\") appeared 498627 times in the Estonian Koondkorpus, from which the collocations were extracted. An example sentence for was \"**See** **on** ju telemäng, ega me mõisa peale mänginud.\", where the words forming the collocation are marked in bold."
   ]
  },
  {
   "cell_type": "markdown",
   "id": "06d1e4d1",
   "metadata": {},
   "source": [
    "### Imports"
   ]
  },
  {
   "cell_type": "code",
   "execution_count": 10,
   "id": "427bc016",
   "metadata": {},
   "outputs": [],
   "source": [
    "from collections import defaultdict\n",
    "from data_preprocessing import fetch_entries, connected_entries, matrix_creation"
   ]
  },
  {
   "cell_type": "markdown",
   "id": "855df852",
   "metadata": {},
   "source": [
    "### Analysing the data"
   ]
  },
  {
   "cell_type": "code",
   "execution_count": 2,
   "id": "85b7c43f",
   "metadata": {},
   "outputs": [],
   "source": [
    "entries = fetch_entries(db_name='subj_verb_collocations_20211110.db', table_name='subj_verb_koondkorpus')"
   ]
  },
  {
   "cell_type": "markdown",
   "id": "621a1b62",
   "metadata": {},
   "source": [
    "#### Removing words that don't fit the criteria"
   ]
  },
  {
   "cell_type": "code",
   "execution_count": 3,
   "id": "6575969e",
   "metadata": {},
   "outputs": [],
   "source": [
    "non_noun = []\n",
    "\n",
    "for entry in entries:\n",
    "    if entry[1] not in ['P', 'S']:\n",
    "        non_noun.append(entry)"
   ]
  },
  {
   "cell_type": "code",
   "execution_count": 4,
   "id": "881f205b",
   "metadata": {},
   "outputs": [
    {
     "data": {
      "text/plain": [
       "{'A', 'D', 'G', 'J', 'N', 'V', 'X', 'Y', 'Z'}"
      ]
     },
     "execution_count": 4,
     "metadata": {},
     "output_type": "execute_result"
    }
   ],
   "source": [
    "set([entry[1] for entry in non_noun])"
   ]
  },
  {
   "cell_type": "code",
   "execution_count": 5,
   "id": "49837460",
   "metadata": {},
   "outputs": [],
   "source": [
    "for entry in entries:\n",
    "    if entry[3] != 'V':\n",
    "        print(entry)"
   ]
  },
  {
   "cell_type": "code",
   "execution_count": 6,
   "id": "e70ead4d",
   "metadata": {},
   "outputs": [],
   "source": [
    "entries_to_keep = []\n",
    "\n",
    "for entry in entries:\n",
    "    if entry[1] in ['S', 'P']:\n",
    "        entries_to_keep.append(entry)"
   ]
  },
  {
   "cell_type": "code",
   "execution_count": 7,
   "id": "15f402c0",
   "metadata": {},
   "outputs": [],
   "source": [
    "subjects_non_dup = list(dict.fromkeys([entry[0] for entry in entries_to_keep]))\n",
    "verbs_non_dup = list(dict.fromkeys([entry[2] for entry in entries_to_keep]))"
   ]
  },
  {
   "cell_type": "markdown",
   "id": "aab2ea68",
   "metadata": {},
   "source": [
    "#### Removing pairs that are not connected to others"
   ]
  },
  {
   "cell_type": "code",
   "execution_count": 8,
   "id": "dcf0d8b5",
   "metadata": {},
   "outputs": [],
   "source": [
    "connected = connected_entries(entries_to_keep, subjects_non_dup, verbs_non_dup)"
   ]
  },
  {
   "cell_type": "markdown",
   "id": "6c0e3efe",
   "metadata": {},
   "source": [
    "#### Reducing the number of subjects to a reasonable amount"
   ]
  },
  {
   "cell_type": "code",
   "execution_count": 11,
   "id": "c66abe88",
   "metadata": {},
   "outputs": [],
   "source": [
    "subject_counts = defaultdict(int)\n",
    "\n",
    "for entry in connected:\n",
    "    subject_counts[entry[0]] += entry[4]"
   ]
  },
  {
   "cell_type": "code",
   "execution_count": 12,
   "id": "09f15b22",
   "metadata": {},
   "outputs": [],
   "source": [
    "subjects_to_keep = sorted(subject_counts.items(), key=lambda kv: kv[1], reverse=True)[:15000]"
   ]
  },
  {
   "cell_type": "code",
   "execution_count": 14,
   "id": "e8b353e0",
   "metadata": {},
   "outputs": [],
   "source": [
    "final_subjects = [subj for subj, count in subjects_to_keep]\n",
    "final_entries = [entry for entry in connected if entry[0] in final_subjects]"
   ]
  },
  {
   "cell_type": "code",
   "execution_count": 15,
   "id": "0ad381b9",
   "metadata": {},
   "outputs": [],
   "source": [
    "final_verbs = []\n",
    "\n",
    "for entry in final_entries:\n",
    "    verb = entry[2]\n",
    "    if verb not in final_verbs:\n",
    "        final_verbs.append(verb)"
   ]
  },
  {
   "cell_type": "markdown",
   "id": "0c54fab4",
   "metadata": {},
   "source": [
    "### Creating the matrix used for LDA"
   ]
  },
  {
   "cell_type": "code",
   "execution_count": 16,
   "id": "634e5452",
   "metadata": {},
   "outputs": [],
   "source": [
    "df = matrix_creation(final_entries, final_subjects, final_verbs)"
   ]
  },
  {
   "cell_type": "code",
   "execution_count": 17,
   "id": "c15cf1fa",
   "metadata": {},
   "outputs": [
    {
     "data": {
      "text/html": [
       "<div>\n",
       "<style scoped>\n",
       "    .dataframe tbody tr th:only-of-type {\n",
       "        vertical-align: middle;\n",
       "    }\n",
       "\n",
       "    .dataframe tbody tr th {\n",
       "        vertical-align: top;\n",
       "    }\n",
       "\n",
       "    .dataframe thead th {\n",
       "        text-align: right;\n",
       "    }\n",
       "</style>\n",
       "<table border=\"1\" class=\"dataframe\">\n",
       "  <thead>\n",
       "    <tr style=\"text-align: right;\">\n",
       "      <th></th>\n",
       "      <th>olema</th>\n",
       "      <th>teadma</th>\n",
       "      <th>ütlema</th>\n",
       "      <th>tahtma</th>\n",
       "      <th>saama</th>\n",
       "      <th>tähendama</th>\n",
       "      <th>tegema</th>\n",
       "      <th>lisama</th>\n",
       "      <th>arvama</th>\n",
       "      <th>nägema</th>\n",
       "      <th>...</th>\n",
       "      <th>kiduma</th>\n",
       "      <th>klõbisema</th>\n",
       "      <th>runnima</th>\n",
       "      <th>viidsima</th>\n",
       "      <th>pritsuma</th>\n",
       "      <th>ketaalima</th>\n",
       "      <th>seiduma</th>\n",
       "      <th>ücima</th>\n",
       "      <th>müübima</th>\n",
       "      <th>juksima</th>\n",
       "    </tr>\n",
       "  </thead>\n",
       "  <tbody>\n",
       "    <tr>\n",
       "      <th>tema</th>\n",
       "      <td>210031</td>\n",
       "      <td>15303</td>\n",
       "      <td>43006</td>\n",
       "      <td>22397</td>\n",
       "      <td>37392</td>\n",
       "      <td>829</td>\n",
       "      <td>33115</td>\n",
       "      <td>31796</td>\n",
       "      <td>7440</td>\n",
       "      <td>11059</td>\n",
       "      <td>...</td>\n",
       "      <td>0</td>\n",
       "      <td>0</td>\n",
       "      <td>0</td>\n",
       "      <td>0</td>\n",
       "      <td>0</td>\n",
       "      <td>0</td>\n",
       "      <td>0</td>\n",
       "      <td>0</td>\n",
       "      <td>0</td>\n",
       "      <td>0</td>\n",
       "    </tr>\n",
       "    <tr>\n",
       "      <th>mina</th>\n",
       "      <td>122824</td>\n",
       "      <td>48357</td>\n",
       "      <td>22122</td>\n",
       "      <td>41302</td>\n",
       "      <td>39695</td>\n",
       "      <td>131</td>\n",
       "      <td>29568</td>\n",
       "      <td>659</td>\n",
       "      <td>30362</td>\n",
       "      <td>21060</td>\n",
       "      <td>...</td>\n",
       "      <td>0</td>\n",
       "      <td>0</td>\n",
       "      <td>3</td>\n",
       "      <td>3</td>\n",
       "      <td>0</td>\n",
       "      <td>0</td>\n",
       "      <td>0</td>\n",
       "      <td>3</td>\n",
       "      <td>0</td>\n",
       "      <td>0</td>\n",
       "    </tr>\n",
       "    <tr>\n",
       "      <th>see</th>\n",
       "      <td>498627</td>\n",
       "      <td>2305</td>\n",
       "      <td>1064</td>\n",
       "      <td>868</td>\n",
       "      <td>7488</td>\n",
       "      <td>38195</td>\n",
       "      <td>10684</td>\n",
       "      <td>820</td>\n",
       "      <td>201</td>\n",
       "      <td>1968</td>\n",
       "      <td>...</td>\n",
       "      <td>0</td>\n",
       "      <td>0</td>\n",
       "      <td>0</td>\n",
       "      <td>0</td>\n",
       "      <td>3</td>\n",
       "      <td>0</td>\n",
       "      <td>0</td>\n",
       "      <td>0</td>\n",
       "      <td>0</td>\n",
       "      <td>0</td>\n",
       "    </tr>\n",
       "    <tr>\n",
       "      <th>mis</th>\n",
       "      <td>159528</td>\n",
       "      <td>607</td>\n",
       "      <td>2033</td>\n",
       "      <td>1970</td>\n",
       "      <td>17968</td>\n",
       "      <td>12900</td>\n",
       "      <td>11499</td>\n",
       "      <td>564</td>\n",
       "      <td>739</td>\n",
       "      <td>3730</td>\n",
       "      <td>...</td>\n",
       "      <td>0</td>\n",
       "      <td>0</td>\n",
       "      <td>0</td>\n",
       "      <td>0</td>\n",
       "      <td>0</td>\n",
       "      <td>0</td>\n",
       "      <td>0</td>\n",
       "      <td>0</td>\n",
       "      <td>0</td>\n",
       "      <td>0</td>\n",
       "    </tr>\n",
       "    <tr>\n",
       "      <th>kes</th>\n",
       "      <td>81930</td>\n",
       "      <td>8050</td>\n",
       "      <td>4846</td>\n",
       "      <td>15278</td>\n",
       "      <td>16658</td>\n",
       "      <td>34</td>\n",
       "      <td>13727</td>\n",
       "      <td>303</td>\n",
       "      <td>2673</td>\n",
       "      <td>3735</td>\n",
       "      <td>...</td>\n",
       "      <td>0</td>\n",
       "      <td>0</td>\n",
       "      <td>0</td>\n",
       "      <td>0</td>\n",
       "      <td>0</td>\n",
       "      <td>0</td>\n",
       "      <td>0</td>\n",
       "      <td>0</td>\n",
       "      <td>0</td>\n",
       "      <td>0</td>\n",
       "    </tr>\n",
       "  </tbody>\n",
       "</table>\n",
       "<p>5 rows × 4156 columns</p>\n",
       "</div>"
      ],
      "text/plain": [
       "       olema  teadma  ütlema  tahtma  saama  tähendama  tegema  lisama  \\\n",
       "tema  210031   15303   43006   22397  37392        829   33115   31796   \n",
       "mina  122824   48357   22122   41302  39695        131   29568     659   \n",
       "see   498627    2305    1064     868   7488      38195   10684     820   \n",
       "mis   159528     607    2033    1970  17968      12900   11499     564   \n",
       "kes    81930    8050    4846   15278  16658         34   13727     303   \n",
       "\n",
       "      arvama  nägema  ...  kiduma  klõbisema  runnima  viidsima  pritsuma  \\\n",
       "tema    7440   11059  ...       0          0        0         0         0   \n",
       "mina   30362   21060  ...       0          0        3         3         0   \n",
       "see      201    1968  ...       0          0        0         0         3   \n",
       "mis      739    3730  ...       0          0        0         0         0   \n",
       "kes     2673    3735  ...       0          0        0         0         0   \n",
       "\n",
       "      ketaalima  seiduma  ücima  müübima  juksima  \n",
       "tema          0        0      0        0        0  \n",
       "mina          0        0      3        0        0  \n",
       "see           0        0      0        0        0  \n",
       "mis           0        0      0        0        0  \n",
       "kes           0        0      0        0        0  \n",
       "\n",
       "[5 rows x 4156 columns]"
      ]
     },
     "execution_count": 17,
     "metadata": {},
     "output_type": "execute_result"
    }
   ],
   "source": [
    "df.head()"
   ]
  }
 ],
 "metadata": {
  "kernelspec": {
   "display_name": "Python 3",
   "language": "python",
   "name": "python3"
  },
  "language_info": {
   "codemirror_mode": {
    "name": "ipython",
    "version": 3
   },
   "file_extension": ".py",
   "mimetype": "text/x-python",
   "name": "python",
   "nbconvert_exporter": "python",
   "pygments_lexer": "ipython3",
   "version": "3.6.13"
  }
 },
 "nbformat": 4,
 "nbformat_minor": 5
}
