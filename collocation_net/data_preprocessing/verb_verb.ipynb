{
 "cells": [
  {
   "cell_type": "markdown",
   "id": "0955ce1d",
   "metadata": {},
   "source": [
    "### Verb-verb preprocessing\n",
    "\n",
    "This file does preprocessing for verb-verb collocations. These collocations consist of pairs of verbs that go together in sentences. For example, the pair (\"tegema\", \"olema\") appeared 78994 times in the Estonian Koondkorpus, from which the collocations were extracted. An example sentence for was \"Andres: “Meil vedas, et saime sellise töö, mida **olime** varem **teinud**.\", where the words forming the collocation are marked in bold."
   ]
  },
  {
   "cell_type": "markdown",
   "id": "06d1e4d1",
   "metadata": {},
   "source": [
    "### Imports"
   ]
  },
  {
   "cell_type": "code",
   "execution_count": 1,
   "id": "427bc016",
   "metadata": {},
   "outputs": [],
   "source": [
    "from collections import defaultdict\n",
    "from data_preprocessing import fetch_entries, connected_entries, matrix_creation"
   ]
  },
  {
   "cell_type": "markdown",
   "id": "855df852",
   "metadata": {},
   "source": [
    "### Analysing the data"
   ]
  },
  {
   "cell_type": "code",
   "execution_count": 2,
   "id": "85b7c43f",
   "metadata": {},
   "outputs": [],
   "source": [
    "entries = fetch_entries(db_name='verb_verb_collocations_20211205.db', table_name='verb_verb_koondkorpus')"
   ]
  },
  {
   "cell_type": "markdown",
   "id": "aab2ea68",
   "metadata": {},
   "source": [
    "#### Removing pairs that are not connected to others"
   ]
  },
  {
   "cell_type": "code",
   "execution_count": 3,
   "id": "3dfcd32a",
   "metadata": {},
   "outputs": [],
   "source": [
    "first = list(dict.fromkeys([entry[0] for entry in entries]))\n",
    "second = list(dict.fromkeys([entry[2] for entry in entries]))"
   ]
  },
  {
   "cell_type": "code",
   "execution_count": 4,
   "id": "dcf0d8b5",
   "metadata": {},
   "outputs": [],
   "source": [
    "connected = connected_entries(entries, first, second)"
   ]
  },
  {
   "cell_type": "code",
   "execution_count": 5,
   "id": "f735cfeb",
   "metadata": {},
   "outputs": [],
   "source": [
    "final_first = list(dict.fromkeys([entry[0] for entry in connected]))\n",
    "final_second = list(dict.fromkeys([entry[2] for entry in connected]))"
   ]
  },
  {
   "cell_type": "markdown",
   "id": "0c54fab4",
   "metadata": {},
   "source": [
    "### Creating the matrix used for LDA"
   ]
  },
  {
   "cell_type": "code",
   "execution_count": 6,
   "id": "634e5452",
   "metadata": {},
   "outputs": [],
   "source": [
    "df = matrix_creation(connected, final_first, final_second)"
   ]
  },
  {
   "cell_type": "code",
   "execution_count": 7,
   "id": "c15cf1fa",
   "metadata": {},
   "outputs": [
    {
     "data": {
      "text/html": [
       "<div>\n",
       "<style scoped>\n",
       "    .dataframe tbody tr th:only-of-type {\n",
       "        vertical-align: middle;\n",
       "    }\n",
       "\n",
       "    .dataframe tbody tr th {\n",
       "        vertical-align: top;\n",
       "    }\n",
       "\n",
       "    .dataframe thead th {\n",
       "        text-align: right;\n",
       "    }\n",
       "</style>\n",
       "<table border=\"1\" class=\"dataframe\">\n",
       "  <thead>\n",
       "    <tr style=\"text-align: right;\">\n",
       "      <th></th>\n",
       "      <th>olema</th>\n",
       "      <th>ei</th>\n",
       "      <th>saama</th>\n",
       "      <th>hakkama</th>\n",
       "      <th>tegema</th>\n",
       "      <th>pidama</th>\n",
       "      <th>võima</th>\n",
       "      <th>teadma</th>\n",
       "      <th>ütlema</th>\n",
       "      <th>võtma</th>\n",
       "      <th>...</th>\n",
       "      <th>chillima</th>\n",
       "      <th>tartuma</th>\n",
       "      <th>irnuma</th>\n",
       "      <th>indutseerima</th>\n",
       "      <th>kategoriseerima</th>\n",
       "      <th>lohkuda-eemaldama</th>\n",
       "      <th>portima</th>\n",
       "      <th>pingima</th>\n",
       "      <th>shellima</th>\n",
       "      <th>kumuleeruma</th>\n",
       "    </tr>\n",
       "  </thead>\n",
       "  <tbody>\n",
       "    <tr>\n",
       "      <th>olema</th>\n",
       "      <td>88780</td>\n",
       "      <td>77968</td>\n",
       "      <td>15838</td>\n",
       "      <td>3867</td>\n",
       "      <td>15221</td>\n",
       "      <td>13144</td>\n",
       "      <td>8397</td>\n",
       "      <td>3830</td>\n",
       "      <td>11929</td>\n",
       "      <td>8215</td>\n",
       "      <td>...</td>\n",
       "      <td>0</td>\n",
       "      <td>0</td>\n",
       "      <td>0</td>\n",
       "      <td>0</td>\n",
       "      <td>0</td>\n",
       "      <td>0</td>\n",
       "      <td>0</td>\n",
       "      <td>0</td>\n",
       "      <td>0</td>\n",
       "      <td>0</td>\n",
       "    </tr>\n",
       "    <tr>\n",
       "      <th>saama</th>\n",
       "      <td>74807</td>\n",
       "      <td>83182</td>\n",
       "      <td>9155</td>\n",
       "      <td>30256</td>\n",
       "      <td>6187</td>\n",
       "      <td>20701</td>\n",
       "      <td>21872</td>\n",
       "      <td>20913</td>\n",
       "      <td>7636</td>\n",
       "      <td>3278</td>\n",
       "      <td>...</td>\n",
       "      <td>0</td>\n",
       "      <td>0</td>\n",
       "      <td>0</td>\n",
       "      <td>0</td>\n",
       "      <td>0</td>\n",
       "      <td>0</td>\n",
       "      <td>0</td>\n",
       "      <td>0</td>\n",
       "      <td>0</td>\n",
       "      <td>0</td>\n",
       "    </tr>\n",
       "    <tr>\n",
       "      <th>teadma</th>\n",
       "      <td>43634</td>\n",
       "      <td>82992</td>\n",
       "      <td>10185</td>\n",
       "      <td>2588</td>\n",
       "      <td>7105</td>\n",
       "      <td>7853</td>\n",
       "      <td>2385</td>\n",
       "      <td>3279</td>\n",
       "      <td>6165</td>\n",
       "      <td>2192</td>\n",
       "      <td>...</td>\n",
       "      <td>0</td>\n",
       "      <td>0</td>\n",
       "      <td>0</td>\n",
       "      <td>0</td>\n",
       "      <td>0</td>\n",
       "      <td>0</td>\n",
       "      <td>0</td>\n",
       "      <td>0</td>\n",
       "      <td>0</td>\n",
       "      <td>0</td>\n",
       "    </tr>\n",
       "    <tr>\n",
       "      <th>tegema</th>\n",
       "      <td>78994</td>\n",
       "      <td>54148</td>\n",
       "      <td>36424</td>\n",
       "      <td>2563</td>\n",
       "      <td>7191</td>\n",
       "      <td>24594</td>\n",
       "      <td>19587</td>\n",
       "      <td>2347</td>\n",
       "      <td>8139</td>\n",
       "      <td>3996</td>\n",
       "      <td>...</td>\n",
       "      <td>0</td>\n",
       "      <td>3</td>\n",
       "      <td>0</td>\n",
       "      <td>0</td>\n",
       "      <td>0</td>\n",
       "      <td>0</td>\n",
       "      <td>3</td>\n",
       "      <td>3</td>\n",
       "      <td>0</td>\n",
       "      <td>0</td>\n",
       "    </tr>\n",
       "    <tr>\n",
       "      <th>tahtma</th>\n",
       "      <td>13467</td>\n",
       "      <td>62078</td>\n",
       "      <td>16501</td>\n",
       "      <td>3450</td>\n",
       "      <td>14238</td>\n",
       "      <td>1929</td>\n",
       "      <td>667</td>\n",
       "      <td>8170</td>\n",
       "      <td>13738</td>\n",
       "      <td>5335</td>\n",
       "      <td>...</td>\n",
       "      <td>0</td>\n",
       "      <td>0</td>\n",
       "      <td>0</td>\n",
       "      <td>0</td>\n",
       "      <td>0</td>\n",
       "      <td>0</td>\n",
       "      <td>0</td>\n",
       "      <td>0</td>\n",
       "      <td>0</td>\n",
       "      <td>0</td>\n",
       "    </tr>\n",
       "  </tbody>\n",
       "</table>\n",
       "<p>5 rows × 4195 columns</p>\n",
       "</div>"
      ],
      "text/plain": [
       "        olema     ei  saama  hakkama  tegema  pidama  võima  teadma  ütlema  \\\n",
       "olema   88780  77968  15838     3867   15221   13144   8397    3830   11929   \n",
       "saama   74807  83182   9155    30256    6187   20701  21872   20913    7636   \n",
       "teadma  43634  82992  10185     2588    7105    7853   2385    3279    6165   \n",
       "tegema  78994  54148  36424     2563    7191   24594  19587    2347    8139   \n",
       "tahtma  13467  62078  16501     3450   14238    1929    667    8170   13738   \n",
       "\n",
       "        võtma  ...  chillima  tartuma  irnuma  indutseerima  kategoriseerima  \\\n",
       "olema    8215  ...         0        0       0             0                0   \n",
       "saama    3278  ...         0        0       0             0                0   \n",
       "teadma   2192  ...         0        0       0             0                0   \n",
       "tegema   3996  ...         0        3       0             0                0   \n",
       "tahtma   5335  ...         0        0       0             0                0   \n",
       "\n",
       "        lohkuda-eemaldama  portima  pingima  shellima  kumuleeruma  \n",
       "olema                   0        0        0         0            0  \n",
       "saama                   0        0        0         0            0  \n",
       "teadma                  0        0        0         0            0  \n",
       "tegema                  0        3        3         0            0  \n",
       "tahtma                  0        0        0         0            0  \n",
       "\n",
       "[5 rows x 4195 columns]"
      ]
     },
     "execution_count": 7,
     "metadata": {},
     "output_type": "execute_result"
    }
   ],
   "source": [
    "df.head()"
   ]
  }
 ],
 "metadata": {
  "kernelspec": {
   "display_name": "Python 3",
   "language": "python",
   "name": "python3"
  },
  "language_info": {
   "codemirror_mode": {
    "name": "ipython",
    "version": 3
   },
   "file_extension": ".py",
   "mimetype": "text/x-python",
   "name": "python",
   "nbconvert_exporter": "python",
   "pygments_lexer": "ipython3",
   "version": "3.6.13"
  }
 },
 "nbformat": 4,
 "nbformat_minor": 5
}
