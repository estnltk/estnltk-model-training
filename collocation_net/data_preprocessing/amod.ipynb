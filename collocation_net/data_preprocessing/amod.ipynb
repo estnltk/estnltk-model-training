{
 "cells": [
  {
   "cell_type": "markdown",
   "id": "43203135",
   "metadata": {},
   "source": [
    "### Amod preprocessing\n",
    "\n",
    "This file does preprocessing for amod collocations. These collocations consist of pairs where two words are connected by the 'amod' relation. For example, the pair (\"aasta\", \"eelmine\") appeared 52675 times in the Estonian Koondkorpus, from which the collocations were extracted. An example sentence for was \"Ugalasse läks Ott Aardam **eelmisel aastal** koos viie kursusekaaslasega pärast EMA Kõrgema Lavakunstikooli lõpetamist.\", where the words forming the collocation are marked in bold."
   ]
  },
  {
   "cell_type": "markdown",
   "id": "06d1e4d1",
   "metadata": {},
   "source": [
    "### Imports"
   ]
  },
  {
   "cell_type": "code",
   "execution_count": 1,
   "id": "427bc016",
   "metadata": {},
   "outputs": [],
   "source": [
    "from collections import defaultdict\n",
    "from data_preprocessing import fetch_entries, connected_entries, matrix_creation"
   ]
  },
  {
   "cell_type": "markdown",
   "id": "855df852",
   "metadata": {},
   "source": [
    "### Analysing the data"
   ]
  },
  {
   "cell_type": "code",
   "execution_count": 2,
   "id": "85b7c43f",
   "metadata": {},
   "outputs": [],
   "source": [
    "entries = fetch_entries(db_name='amod_collocations_20211206.db', table_name='amod_koondkorpus')"
   ]
  },
  {
   "cell_type": "markdown",
   "id": "aab2ea68",
   "metadata": {},
   "source": [
    "#### Removing pairs that are not connected to others"
   ]
  },
  {
   "cell_type": "code",
   "execution_count": 3,
   "id": "7751458a",
   "metadata": {},
   "outputs": [],
   "source": [
    "first = list(dict.fromkeys([entry[0] for entry in entries]))\n",
    "second = list(dict.fromkeys([entry[2] for entry in entries]))"
   ]
  },
  {
   "cell_type": "code",
   "execution_count": 4,
   "id": "dcf0d8b5",
   "metadata": {},
   "outputs": [],
   "source": [
    "connected = connected_entries(entries, first, second)"
   ]
  },
  {
   "cell_type": "markdown",
   "id": "6c0e3efe",
   "metadata": {},
   "source": [
    "#### Reducing the number of subjects to a reasonable amount"
   ]
  },
  {
   "cell_type": "code",
   "execution_count": 5,
   "id": "c66abe88",
   "metadata": {},
   "outputs": [],
   "source": [
    "first_counts = defaultdict(int)\n",
    "\n",
    "for entry in connected:\n",
    "    first_counts[entry[0]] += entry[4]"
   ]
  },
  {
   "cell_type": "code",
   "execution_count": 6,
   "id": "09f15b22",
   "metadata": {},
   "outputs": [],
   "source": [
    "first_to_keep = sorted(first_counts.items(), key=lambda kv: kv[1], reverse=True)[:15000]"
   ]
  },
  {
   "cell_type": "code",
   "execution_count": 7,
   "id": "e8b353e0",
   "metadata": {},
   "outputs": [],
   "source": [
    "final_words = [f for f, count in first_to_keep]\n",
    "final_entries = [entry for entry in connected if entry[0] in final_words]"
   ]
  },
  {
   "cell_type": "code",
   "execution_count": 8,
   "id": "0ad381b9",
   "metadata": {},
   "outputs": [],
   "source": [
    "final_second = []\n",
    "\n",
    "for entry in final_entries:\n",
    "    s = entry[2]\n",
    "    if s not in final_second:\n",
    "        final_second.append(s)"
   ]
  },
  {
   "cell_type": "markdown",
   "id": "0c54fab4",
   "metadata": {},
   "source": [
    "### Creating the matrix used for LDA"
   ]
  },
  {
   "cell_type": "code",
   "execution_count": 9,
   "id": "634e5452",
   "metadata": {},
   "outputs": [],
   "source": [
    "df = matrix_creation(final_entries, final_words, final_second, save_to_csv=True, filename=\"results\\\\amod.csv\")"
   ]
  },
  {
   "cell_type": "code",
   "execution_count": 10,
   "id": "c15cf1fa",
   "metadata": {},
   "outputs": [
    {
     "data": {
      "text/html": [
       "<div>\n",
       "<style scoped>\n",
       "    .dataframe tbody tr th:only-of-type {\n",
       "        vertical-align: middle;\n",
       "    }\n",
       "\n",
       "    .dataframe tbody tr th {\n",
       "        vertical-align: top;\n",
       "    }\n",
       "\n",
       "    .dataframe thead th {\n",
       "        text-align: right;\n",
       "    }\n",
       "</style>\n",
       "<table border=\"1\" class=\"dataframe\">\n",
       "  <thead>\n",
       "    <tr style=\"text-align: right;\">\n",
       "      <th></th>\n",
       "      <th>eelmine</th>\n",
       "      <th>järgmine</th>\n",
       "      <th>eesti</th>\n",
       "      <th>esimene</th>\n",
       "      <th>viimane</th>\n",
       "      <th>kohalik</th>\n",
       "      <th>suur</th>\n",
       "      <th>1999.</th>\n",
       "      <th>1998.</th>\n",
       "      <th>1997.</th>\n",
       "      <th>...</th>\n",
       "      <th>süvim</th>\n",
       "      <th>energiakullane</th>\n",
       "      <th>voimalustene</th>\n",
       "      <th>asustuslik</th>\n",
       "      <th>aeronavigatsiooniline</th>\n",
       "      <th>sihukne</th>\n",
       "      <th>paarisajamegane</th>\n",
       "      <th>sajamegane</th>\n",
       "      <th>päritav</th>\n",
       "      <th>endis-eesti</th>\n",
       "    </tr>\n",
       "  </thead>\n",
       "  <tbody>\n",
       "    <tr>\n",
       "      <th>aasta</th>\n",
       "      <td>52675</td>\n",
       "      <td>37528</td>\n",
       "      <td>26</td>\n",
       "      <td>3933</td>\n",
       "      <td>24376</td>\n",
       "      <td>7</td>\n",
       "      <td>31</td>\n",
       "      <td>18611</td>\n",
       "      <td>17056</td>\n",
       "      <td>16967</td>\n",
       "      <td>...</td>\n",
       "      <td>0</td>\n",
       "      <td>0</td>\n",
       "      <td>0</td>\n",
       "      <td>0</td>\n",
       "      <td>0</td>\n",
       "      <td>0</td>\n",
       "      <td>0</td>\n",
       "      <td>0</td>\n",
       "      <td>0</td>\n",
       "      <td>0</td>\n",
       "    </tr>\n",
       "    <tr>\n",
       "      <th>aeg</th>\n",
       "      <td>102</td>\n",
       "      <td>68</td>\n",
       "      <td>228</td>\n",
       "      <td>126</td>\n",
       "      <td>27393</td>\n",
       "      <td>1359</td>\n",
       "      <td>149</td>\n",
       "      <td>0</td>\n",
       "      <td>0</td>\n",
       "      <td>0</td>\n",
       "      <td>...</td>\n",
       "      <td>0</td>\n",
       "      <td>0</td>\n",
       "      <td>0</td>\n",
       "      <td>0</td>\n",
       "      <td>0</td>\n",
       "      <td>0</td>\n",
       "      <td>0</td>\n",
       "      <td>0</td>\n",
       "      <td>0</td>\n",
       "      <td>0</td>\n",
       "    </tr>\n",
       "    <tr>\n",
       "      <th>keel</th>\n",
       "      <td>9</td>\n",
       "      <td>11</td>\n",
       "      <td>29119</td>\n",
       "      <td>87</td>\n",
       "      <td>24</td>\n",
       "      <td>448</td>\n",
       "      <td>89</td>\n",
       "      <td>0</td>\n",
       "      <td>0</td>\n",
       "      <td>0</td>\n",
       "      <td>...</td>\n",
       "      <td>0</td>\n",
       "      <td>0</td>\n",
       "      <td>0</td>\n",
       "      <td>0</td>\n",
       "      <td>0</td>\n",
       "      <td>0</td>\n",
       "      <td>0</td>\n",
       "      <td>0</td>\n",
       "      <td>0</td>\n",
       "      <td>0</td>\n",
       "    </tr>\n",
       "    <tr>\n",
       "      <th>osa</th>\n",
       "      <td>195</td>\n",
       "      <td>429</td>\n",
       "      <td>14</td>\n",
       "      <td>3125</td>\n",
       "      <td>920</td>\n",
       "      <td>14</td>\n",
       "      <td>21798</td>\n",
       "      <td>0</td>\n",
       "      <td>0</td>\n",
       "      <td>0</td>\n",
       "      <td>...</td>\n",
       "      <td>0</td>\n",
       "      <td>0</td>\n",
       "      <td>0</td>\n",
       "      <td>0</td>\n",
       "      <td>0</td>\n",
       "      <td>0</td>\n",
       "      <td>0</td>\n",
       "      <td>0</td>\n",
       "      <td>0</td>\n",
       "      <td>0</td>\n",
       "    </tr>\n",
       "    <tr>\n",
       "      <th>inimene</th>\n",
       "      <td>9</td>\n",
       "      <td>66</td>\n",
       "      <td>726</td>\n",
       "      <td>800</td>\n",
       "      <td>336</td>\n",
       "      <td>1149</td>\n",
       "      <td>532</td>\n",
       "      <td>0</td>\n",
       "      <td>0</td>\n",
       "      <td>0</td>\n",
       "      <td>...</td>\n",
       "      <td>0</td>\n",
       "      <td>0</td>\n",
       "      <td>0</td>\n",
       "      <td>0</td>\n",
       "      <td>0</td>\n",
       "      <td>0</td>\n",
       "      <td>0</td>\n",
       "      <td>0</td>\n",
       "      <td>0</td>\n",
       "      <td>0</td>\n",
       "    </tr>\n",
       "  </tbody>\n",
       "</table>\n",
       "<p>5 rows × 17681 columns</p>\n",
       "</div>"
      ],
      "text/plain": [
       "         eelmine  järgmine  eesti  esimene  viimane  kohalik   suur  1999.  \\\n",
       "aasta      52675     37528     26     3933    24376        7     31  18611   \n",
       "aeg          102        68    228      126    27393     1359    149      0   \n",
       "keel           9        11  29119       87       24      448     89      0   \n",
       "osa          195       429     14     3125      920       14  21798      0   \n",
       "inimene        9        66    726      800      336     1149    532      0   \n",
       "\n",
       "         1998.  1997.  ...  süvim  energiakullane  voimalustene  asustuslik  \\\n",
       "aasta    17056  16967  ...      0               0             0           0   \n",
       "aeg          0      0  ...      0               0             0           0   \n",
       "keel         0      0  ...      0               0             0           0   \n",
       "osa          0      0  ...      0               0             0           0   \n",
       "inimene      0      0  ...      0               0             0           0   \n",
       "\n",
       "         aeronavigatsiooniline  sihukne  paarisajamegane  sajamegane  päritav  \\\n",
       "aasta                        0        0                0           0        0   \n",
       "aeg                          0        0                0           0        0   \n",
       "keel                         0        0                0           0        0   \n",
       "osa                          0        0                0           0        0   \n",
       "inimene                      0        0                0           0        0   \n",
       "\n",
       "         endis-eesti  \n",
       "aasta              0  \n",
       "aeg                0  \n",
       "keel               0  \n",
       "osa                0  \n",
       "inimene            0  \n",
       "\n",
       "[5 rows x 17681 columns]"
      ]
     },
     "execution_count": 10,
     "metadata": {},
     "output_type": "execute_result"
    }
   ],
   "source": [
    "df.head()"
   ]
  }
 ],
 "metadata": {
  "kernelspec": {
   "display_name": "Python 3",
   "language": "python",
   "name": "python3"
  },
  "language_info": {
   "codemirror_mode": {
    "name": "ipython",
    "version": 3
   },
   "file_extension": ".py",
   "mimetype": "text/x-python",
   "name": "python",
   "nbconvert_exporter": "python",
   "pygments_lexer": "ipython3",
   "version": "3.6.13"
  }
 },
 "nbformat": 4,
 "nbformat_minor": 5
}
