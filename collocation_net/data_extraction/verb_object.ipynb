{
 "cells": [
  {
   "cell_type": "markdown",
   "id": "06d1e4d1",
   "metadata": {},
   "source": [
    "### Imports"
   ]
  },
  {
   "cell_type": "code",
   "execution_count": 1,
   "id": "427bc016",
   "metadata": {},
   "outputs": [],
   "source": [
    "from collections import defaultdict\n",
    "from data_preprocessing import fetch_entries, connected_entries, matrix_creation"
   ]
  },
  {
   "cell_type": "markdown",
   "id": "855df852",
   "metadata": {},
   "source": [
    "### Analysing the data"
   ]
  },
  {
   "cell_type": "code",
   "execution_count": 2,
   "id": "85b7c43f",
   "metadata": {},
   "outputs": [],
   "source": [
    "entries = fetch_entries('verb_obj_collocations_20211112.db', 'verb_obj_koondkorpus')"
   ]
  },
  {
   "cell_type": "markdown",
   "id": "621a1b62",
   "metadata": {},
   "source": [
    "#### Removing words that don't fit the criteria"
   ]
  },
  {
   "cell_type": "code",
   "execution_count": 3,
   "id": "6575969e",
   "metadata": {},
   "outputs": [],
   "source": [
    "non_noun = []\n",
    "\n",
    "for entry in entries:\n",
    "    if entry[3] not in ['P', 'S']:\n",
    "        non_noun.append(entry)"
   ]
  },
  {
   "cell_type": "code",
   "execution_count": 4,
   "id": "881f205b",
   "metadata": {},
   "outputs": [
    {
     "data": {
      "text/plain": [
       "{'A', 'G', 'N', 'Y', 'Z'}"
      ]
     },
     "execution_count": 4,
     "metadata": {},
     "output_type": "execute_result"
    }
   ],
   "source": [
    "set([entry[3] for entry in non_noun])"
   ]
  },
  {
   "cell_type": "code",
   "execution_count": 5,
   "id": "49837460",
   "metadata": {},
   "outputs": [],
   "source": [
    "for entry in entries:\n",
    "    if entry[1] != 'V':\n",
    "        print(entry)"
   ]
  },
  {
   "cell_type": "code",
   "execution_count": 6,
   "id": "e70ead4d",
   "metadata": {},
   "outputs": [],
   "source": [
    "entries_to_keep = []\n",
    "\n",
    "for entry in entries:\n",
    "    if entry[3] in ['S', 'P']:\n",
    "        entries_to_keep.append(entry)"
   ]
  },
  {
   "cell_type": "code",
   "execution_count": 7,
   "id": "15f402c0",
   "metadata": {},
   "outputs": [],
   "source": [
    "objects_non_dup = list(dict.fromkeys([entry[2] for entry in entries_to_keep]))\n",
    "verbs_non_dup = list(dict.fromkeys([entry[0] for entry in entries_to_keep]))"
   ]
  },
  {
   "cell_type": "markdown",
   "id": "aab2ea68",
   "metadata": {},
   "source": [
    "#### Removing pairs that are not connected to others"
   ]
  },
  {
   "cell_type": "code",
   "execution_count": 8,
   "id": "dcf0d8b5",
   "metadata": {},
   "outputs": [],
   "source": [
    "connected = connected_entries(entries_to_keep, objects_non_dup, verbs_non_dup)"
   ]
  },
  {
   "cell_type": "markdown",
   "id": "6c0e3efe",
   "metadata": {},
   "source": [
    "#### Reducing the number of subjects to a reasonable amount"
   ]
  },
  {
   "cell_type": "code",
   "execution_count": 9,
   "id": "c66abe88",
   "metadata": {},
   "outputs": [],
   "source": [
    "object_counts = defaultdict(int)\n",
    "\n",
    "for entry in connected:\n",
    "    object_counts[entry[2]] += entry[4]"
   ]
  },
  {
   "cell_type": "code",
   "execution_count": 10,
   "id": "09f15b22",
   "metadata": {},
   "outputs": [],
   "source": [
    "objects_to_keep = sorted(object_counts.items(), key=lambda kv: kv[1], reverse=True)[:15000]"
   ]
  },
  {
   "cell_type": "code",
   "execution_count": 11,
   "id": "e8b353e0",
   "metadata": {},
   "outputs": [],
   "source": [
    "final_objects = [obj for obj, count in objects_to_keep]\n",
    "final_entries = [entry for entry in connected if entry[2] in final_objects]"
   ]
  },
  {
   "cell_type": "code",
   "execution_count": 12,
   "id": "0ad381b9",
   "metadata": {},
   "outputs": [],
   "source": [
    "final_verbs = []\n",
    "\n",
    "for entry in final_entries:\n",
    "    verb = entry[0]\n",
    "    if verb not in final_verbs:\n",
    "        final_verbs.append(verb)"
   ]
  },
  {
   "cell_type": "markdown",
   "id": "0c54fab4",
   "metadata": {},
   "source": [
    "### Creating the matrix used for LDA"
   ]
  },
  {
   "cell_type": "code",
   "execution_count": 14,
   "id": "634e5452",
   "metadata": {},
   "outputs": [],
   "source": [
    "df = matrix_creation(final_entries, final_verbs, final_objects).T"
   ]
  },
  {
   "cell_type": "code",
   "execution_count": 15,
   "id": "c15cf1fa",
   "metadata": {},
   "outputs": [
    {
     "data": {
      "text/html": [
       "<div>\n",
       "<style scoped>\n",
       "    .dataframe tbody tr th:only-of-type {\n",
       "        vertical-align: middle;\n",
       "    }\n",
       "\n",
       "    .dataframe tbody tr th {\n",
       "        vertical-align: top;\n",
       "    }\n",
       "\n",
       "    .dataframe thead th {\n",
       "        text-align: right;\n",
       "    }\n",
       "</style>\n",
       "<table border=\"1\" class=\"dataframe\">\n",
       "  <thead>\n",
       "    <tr style=\"text-align: right;\">\n",
       "      <th></th>\n",
       "      <th>tegema</th>\n",
       "      <th>saama</th>\n",
       "      <th>tundma</th>\n",
       "      <th>andma</th>\n",
       "      <th>sõlmima</th>\n",
       "      <th>teadma</th>\n",
       "      <th>maksma</th>\n",
       "      <th>pidama</th>\n",
       "      <th>võtma</th>\n",
       "      <th>pöörama</th>\n",
       "      <th>...</th>\n",
       "      <th>mountima</th>\n",
       "      <th>uvitama</th>\n",
       "      <th>nattima</th>\n",
       "      <th>sailitama</th>\n",
       "      <th>võrdlustama</th>\n",
       "      <th>nendevastuma</th>\n",
       "      <th>postima</th>\n",
       "      <th>väärindama</th>\n",
       "      <th>hapustama</th>\n",
       "      <th>inhibeerima</th>\n",
       "    </tr>\n",
       "  </thead>\n",
       "  <tbody>\n",
       "    <tr>\n",
       "      <th>see</th>\n",
       "      <td>69534</td>\n",
       "      <td>9208</td>\n",
       "      <td>2789</td>\n",
       "      <td>6079</td>\n",
       "      <td>288</td>\n",
       "      <td>13465</td>\n",
       "      <td>2402</td>\n",
       "      <td>12953</td>\n",
       "      <td>12901</td>\n",
       "      <td>273</td>\n",
       "      <td>...</td>\n",
       "      <td>0</td>\n",
       "      <td>0</td>\n",
       "      <td>3</td>\n",
       "      <td>0</td>\n",
       "      <td>0</td>\n",
       "      <td>0</td>\n",
       "      <td>0</td>\n",
       "      <td>0</td>\n",
       "      <td>0</td>\n",
       "      <td>0</td>\n",
       "    </tr>\n",
       "    <tr>\n",
       "      <th>mis</th>\n",
       "      <td>46616</td>\n",
       "      <td>7582</td>\n",
       "      <td>3492</td>\n",
       "      <td>7881</td>\n",
       "      <td>834</td>\n",
       "      <td>5235</td>\n",
       "      <td>3286</td>\n",
       "      <td>8315</td>\n",
       "      <td>8511</td>\n",
       "      <td>116</td>\n",
       "      <td>...</td>\n",
       "      <td>0</td>\n",
       "      <td>0</td>\n",
       "      <td>0</td>\n",
       "      <td>0</td>\n",
       "      <td>0</td>\n",
       "      <td>0</td>\n",
       "      <td>0</td>\n",
       "      <td>0</td>\n",
       "      <td>0</td>\n",
       "      <td>0</td>\n",
       "    </tr>\n",
       "    <tr>\n",
       "      <th>tema</th>\n",
       "      <td>3881</td>\n",
       "      <td>2438</td>\n",
       "      <td>3037</td>\n",
       "      <td>1798</td>\n",
       "      <td>82</td>\n",
       "      <td>1208</td>\n",
       "      <td>285</td>\n",
       "      <td>4119</td>\n",
       "      <td>5879</td>\n",
       "      <td>98</td>\n",
       "      <td>...</td>\n",
       "      <td>0</td>\n",
       "      <td>0</td>\n",
       "      <td>0</td>\n",
       "      <td>0</td>\n",
       "      <td>3</td>\n",
       "      <td>0</td>\n",
       "      <td>0</td>\n",
       "      <td>0</td>\n",
       "      <td>0</td>\n",
       "      <td>0</td>\n",
       "    </tr>\n",
       "    <tr>\n",
       "      <th>ise</th>\n",
       "      <td>1552</td>\n",
       "      <td>374</td>\n",
       "      <td>20326</td>\n",
       "      <td>1257</td>\n",
       "      <td>5</td>\n",
       "      <td>216</td>\n",
       "      <td>279</td>\n",
       "      <td>6065</td>\n",
       "      <td>2645</td>\n",
       "      <td>430</td>\n",
       "      <td>...</td>\n",
       "      <td>0</td>\n",
       "      <td>0</td>\n",
       "      <td>0</td>\n",
       "      <td>0</td>\n",
       "      <td>0</td>\n",
       "      <td>0</td>\n",
       "      <td>0</td>\n",
       "      <td>0</td>\n",
       "      <td>0</td>\n",
       "      <td>0</td>\n",
       "    </tr>\n",
       "    <tr>\n",
       "      <th>miski</th>\n",
       "      <td>22786</td>\n",
       "      <td>4216</td>\n",
       "      <td>571</td>\n",
       "      <td>2191</td>\n",
       "      <td>16</td>\n",
       "      <td>9647</td>\n",
       "      <td>1595</td>\n",
       "      <td>315</td>\n",
       "      <td>6522</td>\n",
       "      <td>29</td>\n",
       "      <td>...</td>\n",
       "      <td>0</td>\n",
       "      <td>0</td>\n",
       "      <td>0</td>\n",
       "      <td>0</td>\n",
       "      <td>0</td>\n",
       "      <td>0</td>\n",
       "      <td>0</td>\n",
       "      <td>0</td>\n",
       "      <td>0</td>\n",
       "      <td>0</td>\n",
       "    </tr>\n",
       "  </tbody>\n",
       "</table>\n",
       "<p>5 rows × 3735 columns</p>\n",
       "</div>"
      ],
      "text/plain": [
       "       tegema  saama  tundma  andma  sõlmima  teadma  maksma  pidama  võtma  \\\n",
       "see     69534   9208    2789   6079      288   13465    2402   12953  12901   \n",
       "mis     46616   7582    3492   7881      834    5235    3286    8315   8511   \n",
       "tema     3881   2438    3037   1798       82    1208     285    4119   5879   \n",
       "ise      1552    374   20326   1257        5     216     279    6065   2645   \n",
       "miski   22786   4216     571   2191       16    9647    1595     315   6522   \n",
       "\n",
       "       pöörama  ...  mountima  uvitama  nattima  sailitama  võrdlustama  \\\n",
       "see        273  ...         0        0        3          0            0   \n",
       "mis        116  ...         0        0        0          0            0   \n",
       "tema        98  ...         0        0        0          0            3   \n",
       "ise        430  ...         0        0        0          0            0   \n",
       "miski       29  ...         0        0        0          0            0   \n",
       "\n",
       "       nendevastuma  postima  väärindama  hapustama  inhibeerima  \n",
       "see               0        0           0          0            0  \n",
       "mis               0        0           0          0            0  \n",
       "tema              0        0           0          0            0  \n",
       "ise               0        0           0          0            0  \n",
       "miski             0        0           0          0            0  \n",
       "\n",
       "[5 rows x 3735 columns]"
      ]
     },
     "execution_count": 15,
     "metadata": {},
     "output_type": "execute_result"
    }
   ],
   "source": [
    "df.head()"
   ]
  }
 ],
 "metadata": {
  "kernelspec": {
   "display_name": "Python 3",
   "language": "python",
   "name": "python3"
  },
  "language_info": {
   "codemirror_mode": {
    "name": "ipython",
    "version": 3
   },
   "file_extension": ".py",
   "mimetype": "text/x-python",
   "name": "python",
   "nbconvert_exporter": "python",
   "pygments_lexer": "ipython3",
   "version": "3.6.13"
  }
 },
 "nbformat": 4,
 "nbformat_minor": 5
}
