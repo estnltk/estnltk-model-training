{
 "cells": [
  {
   "cell_type": "code",
   "execution_count": 1,
   "id": "62d66c27",
   "metadata": {},
   "outputs": [],
   "source": [
    "#import sys\n",
    "#!conda install --yes --prefix {sys.prefix} -c estnltk estnltk"
   ]
  },
  {
   "cell_type": "markdown",
   "id": "f0d2adfb",
   "metadata": {},
   "source": [
    "# Tekstide metaandmete allalaadimine andmebaasist"
   ]
  },
  {
   "cell_type": "markdown",
   "id": "f1db5c1c",
   "metadata": {},
   "source": [
    "Valitud korpuse tekstid salvestatakse TSV-faili \n",
    "\n",
    "**Tulbad**:\n",
    "\n",
    "1. collectionId\n",
    "2. metaandmed file\n",
    "3. metaandmed type\n",
    "4. metaandmed subcorpus\n",
    "5. metaandmed kogu meta json formaadis"
   ]
  },
  {
   "cell_type": "markdown",
   "id": "ea4fc948",
   "metadata": {},
   "source": [
    "Näide:\n",
    "\n",
    "\n",
    "\n"
   ]
  },
  {
   "cell_type": "markdown",
   "id": "f6ced20f",
   "metadata": {},
   "source": [
    "## Vajalikud teegid"
   ]
  },
  {
   "cell_type": "code",
   "execution_count": 2,
   "id": "bbbec6d9",
   "metadata": {},
   "outputs": [],
   "source": [
    "from __future__ import print_function\n",
    "#from estnltk import Text, logger\n",
    "from estnltk.storage.postgres import PostgresStorage\n",
    "import sqlite3\n",
    "import sys"
   ]
  },
  {
   "cell_type": "markdown",
   "id": "febc3577",
   "metadata": {},
   "source": [
    "## Abifunktsioonid"
   ]
  },
  {
   "cell_type": "code",
   "execution_count": 3,
   "id": "3eb27f54",
   "metadata": {},
   "outputs": [],
   "source": [
    "def eprint(*args, **kwargs):\n",
    "    print(*args, file=sys.stderr, **kwargs)\n"
   ]
  },
  {
   "cell_type": "markdown",
   "id": "26c99ff5",
   "metadata": {},
   "source": [
    "Salvestab kollektsioonide \"järelhoidja\" baasi."
   ]
  },
  {
   "cell_type": "code",
   "execution_count": 4,
   "id": "ab347c5f",
   "metadata": {},
   "outputs": [],
   "source": [
    "def saveToDisk(rows, lastcollection, fOut):\n",
    "   \n",
    "    global TABLENAME, cursor, connection\n",
    "\n",
    "    fOut.write('\\n'.join( '\\t'.join(s) for s in rows) + '\\n')\n",
    "\n",
    "    cursor.execute(f\"\"\"\n",
    "        INSERT INTO collections_processed VALUES (?,?)\n",
    "        ON CONFLICT(tablename) DO UPDATE SET lastcollection=?;\"\"\", (TABLENAME, lastcollection, lastcollection, ) )\n",
    "    \n",
    "    connection.commit()\n",
    "    eprint(f'TSV-sse salvestatud kollokatsioonid: 0 - {lastcollection}' )"
   ]
  },
  {
   "cell_type": "code",
   "execution_count": 5,
   "id": "08bf0b8c",
   "metadata": {},
   "outputs": [],
   "source": [
    "def prepareDb():\n",
    "    cursor.execute(f\"\"\"CREATE TABLE IF NOT EXISTS collections_processed\n",
    "                      (tablename text, lastcollection integer);\n",
    "                      \"\"\")\n",
    "    cursor.execute(f\"\"\"CREATE UNIQUE INDEX IF NOT EXISTS collections_processed_uniq\n",
    "    ON collections_processed(tablename);\n",
    "    \"\"\")\n"
   ]
  },
  {
   "cell_type": "code",
   "execution_count": 6,
   "id": "71c63e78",
   "metadata": {},
   "outputs": [],
   "source": [
    "def getPlaceholder(tablename):\n",
    "    cursor.execute(f\"\"\"SELECT lastcollection FROM collections_processed WHERE tablename = ?\"\"\", (tablename,) );\n",
    "    lastcollection = cursor.fetchone()\n",
    "\n",
    "    fileMode = 'w'\n",
    "    if not lastcollection:\n",
    "        lastcollection = -1\n",
    "    else:\n",
    "        #andmete kogumine jäi pooleli ning jätkatakse samasse faili kirjutamist\n",
    "        lastcollection = lastcollection[0]\n",
    "        fileMode = 'a'\n",
    "    return (lastcollection, fileMode)\n"
   ]
  },
  {
   "cell_type": "markdown",
   "id": "357180e4",
   "metadata": {},
   "source": [
    "## Muutujad"
   ]
  },
  {
   "cell_type": "code",
   "execution_count": 7,
   "id": "2dcb06f6",
   "metadata": {},
   "outputs": [],
   "source": [
    "collectionName = 'koondkorpus_base_subset_of_5000_v2' \n",
    "#collectionName = 'koondkorpus_base_v2' \n"
   ]
  },
  {
   "cell_type": "markdown",
   "id": "786915a3",
   "metadata": {},
   "source": [
    "Fail, kuhu väljund salvestatakse."
   ]
  },
  {
   "cell_type": "code",
   "execution_count": 8,
   "id": "f395ed85",
   "metadata": {},
   "outputs": [],
   "source": [
    "outputfile = f'metadata_{collectionName}.tsv'"
   ]
  },
  {
   "cell_type": "markdown",
   "id": "9de85f3b",
   "metadata": {},
   "source": [
    "**Kollektsioonide arv**, mille kaupa salvestatakse vahepealne tulemus faili."
   ]
  },
  {
   "cell_type": "code",
   "execution_count": 9,
   "id": "edda87a4",
   "metadata": {},
   "outputs": [],
   "source": [
    "BATCHSIZE = 1000"
   ]
  },
  {
   "cell_type": "code",
   "execution_count": 10,
   "id": "4140cb2d",
   "metadata": {},
   "outputs": [],
   "source": [
    "TABLENAME = f'metadata_{collectionName}'"
   ]
  },
  {
   "cell_type": "markdown",
   "id": "29262f52",
   "metadata": {},
   "source": [
    "## Andmebaasi loomine ja ette valmistamine"
   ]
  },
  {
   "cell_type": "code",
   "execution_count": 11,
   "id": "42a3a4e3",
   "metadata": {},
   "outputs": [],
   "source": [
    "connection = sqlite3.connect(\"collect_texts.db\") #\n",
    "cursor = connection.cursor()\n",
    "\n",
    "prepareDb()"
   ]
  },
  {
   "cell_type": "markdown",
   "id": "db83c16e",
   "metadata": {},
   "source": [
    "## Tekstide alla laadimine"
   ]
  },
  {
   "cell_type": "code",
   "execution_count": 12,
   "id": "67969d67",
   "metadata": {},
   "outputs": [
    {
     "name": "stdout",
     "output_type": "stream",
     "text": [
      "INFO:storage.py:42: connecting to host: 'postgres.keeleressursid.ee', port: '5432', dbname: 'estonian-text-corpora', user: 'zummy'\n",
      "INFO:storage.py:58: schema: 'estonian_text_corpora', temporary: False, role: 'estonian_text_corpora_read'\n"
     ]
    }
   ],
   "source": [
    "storage = PostgresStorage(pgpass_file='~/.pgpass',\n",
    "                          schema='estonian_text_corpora',\n",
    "                          role='estonian_text_corpora_read',\n",
    "                          temporary=False)"
   ]
  },
  {
   "cell_type": "code",
   "execution_count": 13,
   "id": "c6f3b0b6",
   "metadata": {},
   "outputs": [],
   "source": [
    "collection = storage[collectionName]\n",
    "TOTALROWS = len(collection)"
   ]
  },
  {
   "cell_type": "code",
   "execution_count": 14,
   "id": "1943033b",
   "metadata": {},
   "outputs": [
    {
     "name": "stdout",
     "output_type": "stream",
     "text": [
      "<estnltk.storage.postgres.collection.PgCollection object at 0x7fc64113d250>\n"
     ]
    }
   ],
   "source": [
    "print (collection)"
   ]
  },
  {
   "cell_type": "markdown",
   "id": "331d368f",
   "metadata": {},
   "source": [
    "Kontrollitakse, mitmenda kollektsiooni juurde skript eelmine kord jäi, juhul kui skripti töö katkes ootamatult. Nullist alustamiseks tuleb kustutada skripti loodud *collect_texts.db* fail."
   ]
  },
  {
   "cell_type": "code",
   "execution_count": 15,
   "id": "f6e64984",
   "metadata": {},
   "outputs": [
    {
     "name": "stdout",
     "output_type": "stream",
     "text": [
      "5000 out of 5000 collections to download\n"
     ]
    },
    {
     "data": {
      "application/vnd.jupyter.widget-view+json": {
       "model_id": "d1903e14b2354080b99e73845ed2e6fa",
       "version_major": 2,
       "version_minor": 0
      },
      "text/plain": [
       "HBox(children=(FloatProgress(value=0.0, max=5000.0), HTML(value='')))"
      ]
     },
     "metadata": {},
     "output_type": "display_data"
    },
    {
     "name": "stderr",
     "output_type": "stream",
     "text": [
      "TSV-sse salvestatud kollokatsioonid: 0 - 999\n",
      "TSV-sse salvestatud kollokatsioonid: 0 - 1999\n",
      "TSV-sse salvestatud kollokatsioonid: 0 - 2999\n",
      "TSV-sse salvestatud kollokatsioonid: 0 - 3999\n"
     ]
    },
    {
     "name": "stdout",
     "output_type": "stream",
     "text": [
      "\n"
     ]
    },
    {
     "name": "stderr",
     "output_type": "stream",
     "text": [
      "TSV-sse salvestatud kollokatsioonid: 0 - 4999\n"
     ]
    }
   ],
   "source": [
    "import json\n",
    "(lastcollection, fileMode) = getPlaceholder(TABLENAME)\n",
    "\n",
    "#mitu kollektsiooni jäi alla tõmbamata\n",
    "unprocessed = TOTALROWS - lastcollection - 1\n",
    "\n",
    "print (f'{unprocessed} out of {TOTALROWS} collections to download')\n",
    "fOut = open(outputfile, fileMode)\n",
    "\n",
    "###\n",
    "iterations = 0\n",
    "unsaved = 0\n",
    "rows = []\n",
    "#keys = []\n",
    "keys = ['file', 'type', 'subcorpus']\n",
    "if lastcollection == 0:\n",
    "    rows.append ( ['colId', 'file', 'type', 'subcorpus', 'meta_json'])\n",
    "for (colId, text) in collection.select (progressbar='notebook', layers=[], return_index=True ).tail(unprocessed):\n",
    " \n",
    "    \n",
    "    iterations +=1\n",
    "    row = [str(colId)]\n",
    "    for key in keys:\n",
    "        row.append(str(text.meta[key]))\n",
    "    unsaved =   1\n",
    "    row.append(json.dumps(text.meta))  \n",
    "    rows.append(row)\n",
    "    if not iterations%BATCHSIZE:\n",
    "        saveToDisk(rows, colId, fOut)\n",
    "        rows = []\n",
    "        unsaved = 0\n",
    "\n",
    "if unsaved: saveToDisk(rows, colId, fOut)\n",
    "fOut.close()"
   ]
  },
  {
   "cell_type": "code",
   "execution_count": null,
   "id": "a896e1e0",
   "metadata": {},
   "outputs": [],
   "source": []
  },
  {
   "cell_type": "code",
   "execution_count": 16,
   "id": "c39bf349",
   "metadata": {},
   "outputs": [],
   "source": [
    "import subprocess\n",
    "batcmd=f\"wc {outputfile}\"\n",
    "res = subprocess.check_output(batcmd, shell=True)"
   ]
  },
  {
   "cell_type": "code",
   "execution_count": 17,
   "id": "13672255",
   "metadata": {},
   "outputs": [
    {
     "data": {
      "text/plain": [
       "'wc metadata_koondkorpus_base_subset_of_5000_v2.tsv'"
      ]
     },
     "execution_count": 17,
     "metadata": {},
     "output_type": "execute_result"
    }
   ],
   "source": [
    "batcmd\n"
   ]
  },
  {
   "cell_type": "code",
   "execution_count": 18,
   "id": "13245a99",
   "metadata": {},
   "outputs": [
    {
     "data": {
      "text/plain": [
       "b'    5000  128369 1438488 metadata_koondkorpus_base_subset_of_5000_v2.tsv\\n'"
      ]
     },
     "execution_count": 18,
     "metadata": {},
     "output_type": "execute_result"
    }
   ],
   "source": [
    "res"
   ]
  }
 ],
 "metadata": {
  "kernelspec": {
   "display_name": "Python 3",
   "language": "python",
   "name": "python3"
  },
  "language_info": {
   "codemirror_mode": {
    "name": "ipython",
    "version": 3
   },
   "file_extension": ".py",
   "mimetype": "text/x-python",
   "name": "python",
   "nbconvert_exporter": "python",
   "pygments_lexer": "ipython3",
   "version": "3.7.7"
  }
 },
 "nbformat": 4,
 "nbformat_minor": 5
}
