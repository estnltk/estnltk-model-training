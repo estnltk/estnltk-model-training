{
 "cells": [
  {
   "cell_type": "code",
   "execution_count": 1,
   "id": "62d66c27",
   "metadata": {},
   "outputs": [],
   "source": [
    "#import sys\n",
    "#!conda install --yes --prefix {sys.prefix} -c estnltk estnltk"
   ]
  },
  {
   "cell_type": "markdown",
   "id": "f0d2adfb",
   "metadata": {},
   "source": [
    "# Korpuse tekstide laadimine andmebaasist"
   ]
  },
  {
   "cell_type": "markdown",
   "id": "f1db5c1c",
   "metadata": {},
   "source": [
    "Valitud korpuse tekstid salvestatakse TSV-faili \n",
    "\n",
    "**Tulbad**:\n",
    "\n",
    "1. collectionId\n",
    "2. span.start\n",
    "3. span.id\n",
    "4. span.text\n",
    "5. span.lemma\n",
    "6. span.upostag\n",
    "7. span.deprel\n",
    "8. span.head\n"
   ]
  },
  {
   "cell_type": "markdown",
   "id": "ea4fc948",
   "metadata": {},
   "source": [
    "Näide:\n",
    "\n",
    "NB! Reaalses failis ei ole päist.\n",
    "\n",
    "|collectionId|span.start|\tspan.id|\tspan.text|span.lemma|\tspan.upostag\t|span.deprel|span.head\t|\n",
    "|---|---|---|---|---|---|---|---|\n",
    "|0|\t2088\t|1\t|Laval\t|lava|\tS\t|obl|\t6|\n",
    "|0\t|2094\t|2\t|olid|\tolema\t|V\t|cop\t|6|\n",
    "|0\t|2099\t|3\t|sa\t|sina|\tP\t|nsubj:cop|\t6|\n",
    "|0\t|2102\t|4\t|sadade|\tsada|\tN\t|nummod|\t5|\n",
    "|0\t|2109\t|5\t|piigade|\tpiiga|\tS\t|nmod\t|6|\n",
    "|0\t|2117\t|6\t|ihalusobjekt|\tihalusobjekt|\tS|\troot|\t0|\n",
    "|0\t|2130\t|7\t|,\t|,\t|Z\t|punct\t|11|\n",
    "|0\t|2132\t|8\t|aga|\taga|\tJ|\tcc\t|11|\n",
    "|0\t|2136\t|9\t|heliloojana|\thelilooja|\tS\t|nmod\t|11|\n",
    "|0\t|2148\t|10\t|jääd|\tjää\t|S\t|nmod\t|11|\n",
    "|0\t|2153\t|11\t|varju\t|vari|\tS\t|conj|\t6|\n",
    "|0\t|2159\t|12\t|.|\t.|\tZ\t|punct\t|6|\n"
   ]
  },
  {
   "cell_type": "markdown",
   "id": "f6ced20f",
   "metadata": {},
   "source": [
    "## Vajalikud teegid"
   ]
  },
  {
   "cell_type": "code",
   "execution_count": 2,
   "id": "bbbec6d9",
   "metadata": {},
   "outputs": [],
   "source": [
    "from __future__ import print_function\n",
    "#from estnltk import Text, logger\n",
    "from estnltk.storage.postgres import PostgresStorage\n",
    "import sqlite3\n",
    "import sys"
   ]
  },
  {
   "cell_type": "markdown",
   "id": "febc3577",
   "metadata": {},
   "source": [
    "## Abifunktsioonid"
   ]
  },
  {
   "cell_type": "code",
   "execution_count": 3,
   "id": "3eb27f54",
   "metadata": {},
   "outputs": [],
   "source": [
    "def eprint(*args, **kwargs):\n",
    "    print(*args, file=sys.stderr, **kwargs)\n"
   ]
  },
  {
   "cell_type": "markdown",
   "id": "26c99ff5",
   "metadata": {},
   "source": [
    "Salvestab kollektsioonide \"järelhoidja\" baasi."
   ]
  },
  {
   "cell_type": "code",
   "execution_count": 4,
   "id": "ab347c5f",
   "metadata": {},
   "outputs": [],
   "source": [
    "def saveToDisk(rows, lastcollection, fOut):\n",
    "   \n",
    "    global TABLENAME, cursor, connection\n",
    "\n",
    "    fOut.write('\\n'.join( '\\t'.join(s) for s in rows) + '\\n')\n",
    "\n",
    "    cursor.execute(f\"\"\"\n",
    "        INSERT INTO collections_processed VALUES (?,?)\n",
    "        ON CONFLICT(tablename) DO UPDATE SET lastcollection=?;\"\"\", (TABLENAME, lastcollection, lastcollection, ) )\n",
    "    \n",
    "    connection.commit()\n",
    "    eprint(f'TSV-sse salvestatud kollokatsioonid: 0 - {lastcollection}' )"
   ]
  },
  {
   "cell_type": "code",
   "execution_count": 5,
   "id": "08bf0b8c",
   "metadata": {},
   "outputs": [],
   "source": [
    "def prepareDb():\n",
    "    cursor.execute(f\"\"\"CREATE TABLE IF NOT EXISTS collections_processed\n",
    "                      (tablename text, lastcollection integer);\n",
    "                      \"\"\")\n",
    "    cursor.execute(f\"\"\"CREATE UNIQUE INDEX IF NOT EXISTS collections_processed_uniq\n",
    "    ON collections_processed(tablename);\n",
    "    \"\"\")\n"
   ]
  },
  {
   "cell_type": "code",
   "execution_count": 6,
   "id": "71c63e78",
   "metadata": {},
   "outputs": [],
   "source": [
    "def getPlaceholder(tablename):\n",
    "    cursor.execute(f\"\"\"SELECT lastcollection FROM collections_processed WHERE tablename = ?\"\"\", (tablename,) );\n",
    "    lastcollection = cursor.fetchone()\n",
    "\n",
    "    fileMode = 'w'\n",
    "    if not lastcollection:\n",
    "        lastcollection = -1\n",
    "    else:\n",
    "        #andmete kogumine jäi pooleli ning jätkatakse samasse faili kirjutamist\n",
    "        lastcollection = lastcollection[0]\n",
    "        fileMode = 'a'\n",
    "    return (lastcollection, fileMode)\n"
   ]
  },
  {
   "cell_type": "markdown",
   "id": "357180e4",
   "metadata": {},
   "source": [
    "## Muutujad"
   ]
  },
  {
   "cell_type": "code",
   "execution_count": 7,
   "id": "2dcb06f6",
   "metadata": {},
   "outputs": [],
   "source": [
    "collectionName = 'koondkorpus_base_subset_of_5000_v2'# 'koondkorpus_base_v2'\n"
   ]
  },
  {
   "cell_type": "markdown",
   "id": "786915a3",
   "metadata": {},
   "source": [
    "Fail, kuhu väljund salvestatakse."
   ]
  },
  {
   "cell_type": "code",
   "execution_count": 8,
   "id": "f395ed85",
   "metadata": {},
   "outputs": [],
   "source": [
    "outputfile = f'{collectionName}.tsv'"
   ]
  },
  {
   "cell_type": "markdown",
   "id": "9de85f3b",
   "metadata": {},
   "source": [
    "**Kollektsioonide arv**, mille kaupa salvestatakse vahepealne tulemus faili."
   ]
  },
  {
   "cell_type": "code",
   "execution_count": 9,
   "id": "edda87a4",
   "metadata": {},
   "outputs": [],
   "source": [
    "BATCHSIZE = 1000"
   ]
  },
  {
   "cell_type": "code",
   "execution_count": 10,
   "id": "4140cb2d",
   "metadata": {},
   "outputs": [],
   "source": [
    "TABLENAME = f'texts_{collectionName}'"
   ]
  },
  {
   "cell_type": "markdown",
   "id": "29262f52",
   "metadata": {},
   "source": [
    "## Andmebaasi loomine ja ette valmistamine"
   ]
  },
  {
   "cell_type": "code",
   "execution_count": 11,
   "id": "42a3a4e3",
   "metadata": {},
   "outputs": [],
   "source": [
    "connection = sqlite3.connect(\"collect_texts.db\") #\n",
    "cursor = connection.cursor()\n",
    "\n",
    "prepareDb()"
   ]
  },
  {
   "cell_type": "markdown",
   "id": "db83c16e",
   "metadata": {},
   "source": [
    "## Tekstide alla laadimine"
   ]
  },
  {
   "cell_type": "code",
   "execution_count": 12,
   "id": "67969d67",
   "metadata": {},
   "outputs": [
    {
     "name": "stdout",
     "output_type": "stream",
     "text": [
      "INFO:storage.py:42: connecting to host: 'postgres.keeleressursid.ee', port: '5432', dbname: 'estonian-text-corpora', user: 'zummy'\n",
      "INFO:storage.py:58: schema: 'estonian_text_corpora', temporary: False, role: 'estonian_text_corpora_read'\n"
     ]
    }
   ],
   "source": [
    "storage = PostgresStorage(pgpass_file='~/.pgpass',\n",
    "                          schema='estonian_text_corpora',\n",
    "                          role='estonian_text_corpora_read',\n",
    "                          temporary=False)"
   ]
  },
  {
   "cell_type": "code",
   "execution_count": 13,
   "id": "c6f3b0b6",
   "metadata": {},
   "outputs": [],
   "source": [
    "collection = storage[collectionName]\n",
    "TOTALROWS = len(collection)"
   ]
  },
  {
   "cell_type": "markdown",
   "id": "331d368f",
   "metadata": {},
   "source": [
    "Kontrollitakse, mitmenda kollektsiooni juurde skript eelmine kord jäi, juhul kui skripti töö katkes ootamatult. Nullist alustamiseks tuleb kustutada skripti loodud *collect_texts.db* fail."
   ]
  },
  {
   "cell_type": "code",
   "execution_count": 14,
   "id": "7ede07e8",
   "metadata": {},
   "outputs": [
    {
     "name": "stdout",
     "output_type": "stream",
     "text": [
      "5000 out of 5000 collections to download\n"
     ]
    },
    {
     "data": {
      "application/vnd.jupyter.widget-view+json": {
       "model_id": "64e1ccf666a04809bd6aaff4b1be8467",
       "version_major": 2,
       "version_minor": 0
      },
      "text/plain": [
       "HBox(children=(FloatProgress(value=0.0, max=5000.0), HTML(value='')))"
      ]
     },
     "metadata": {},
     "output_type": "display_data"
    },
    {
     "name": "stderr",
     "output_type": "stream",
     "text": [
      "TSV-sse salvestatud kollokatsioonid kollektsioonidest: 0 - 999\n",
      "TSV-sse salvestatud kollokatsioonid kollektsioonidest: 0 - 1999\n",
      "TSV-sse salvestatud kollokatsioonid kollektsioonidest: 0 - 2999\n",
      "TSV-sse salvestatud kollokatsioonid kollektsioonidest: 0 - 3999\n"
     ]
    },
    {
     "name": "stdout",
     "output_type": "stream",
     "text": [
      "\n"
     ]
    },
    {
     "name": "stderr",
     "output_type": "stream",
     "text": [
      "TSV-sse salvestatud kollokatsioonid kollektsioonidest: 0 - 4999\n"
     ]
    }
   ],
   "source": [
    "(lastcollection, fileMode) = getPlaceholder(TABLENAME)\n",
    "\n",
    "#mitu kollektsiooni jäi alla tõmbamata\n",
    "unprocessed = TOTALROWS - lastcollection - 1\n",
    "\n",
    "print (f'{unprocessed} out of {TOTALROWS} collections to download')\n",
    "fOut = open(outputfile, fileMode)\n",
    "\n",
    "###\n",
    "iterations = 0\n",
    "unsaved = 0\n",
    "rows = []\n",
    "\n",
    "for (colId, text) in collection.select (progressbar='notebook', layers=['v166_sentences', 'v168_stanza_ensemble_syntax'], return_index=True ).tail(unprocessed):\n",
    "    sentences_start = [span.start for span in text.v166_sentences]\n",
    "    sentences_end = [span.end for span in text.v166_sentences]\n",
    "    iterations +=1\n",
    "    unsaved = 1\n",
    "    for span in text.v168_stanza_ensemble_syntax:\n",
    "        if span.start in sentences_start:\n",
    "            current_sentence = []\n",
    "        # span.text.replace('\\n','') - mõned üksikud lemmad koondkorpuses sisaldavad \\n sümbolit\n",
    "        rows.append([str(x) for x in [colId, span.start, span.id, span.text.replace('\\n',''), span.lemma, span.upostag, span.deprel, span.head ]] )\n",
    "\n",
    "        current_sentence.append(span)\n",
    "        if span.end in sentences_end:\n",
    "            unsaved = 1\n",
    "            continue\n",
    "    if not iterations%BATCHSIZE:\n",
    "        saveToDisk(rows, colId, fOut)\n",
    "        rows = []\n",
    "        unsaved = 0\n",
    "\n",
    "if unsaved: saveToDisk(rows, colId, fOut)\n",
    "fOut.close()\n"
   ]
  },
  {
   "cell_type": "code",
   "execution_count": 15,
   "id": "c39bf349",
   "metadata": {},
   "outputs": [],
   "source": [
    "import subprocess\n",
    "batcmd=f\"wc {outputfile}\"\n",
    "res = subprocess.check_output(batcmd, shell=True)"
   ]
  },
  {
   "cell_type": "code",
   "execution_count": 16,
   "id": "13672255",
   "metadata": {},
   "outputs": [
    {
     "data": {
      "text/plain": [
       "'wc koondkorpus_base_subset_of_5000_v2_t.tsv'"
      ]
     },
     "execution_count": 16,
     "metadata": {},
     "output_type": "execute_result"
    }
   ],
   "source": [
    "batcmd\n"
   ]
  },
  {
   "cell_type": "code",
   "execution_count": 17,
   "id": "13245a99",
   "metadata": {},
   "outputs": [
    {
     "data": {
      "text/plain": [
       "b' 2105386 16855166 74450016 koondkorpus_base_subset_of_5000_v2_t.tsv\\n'"
      ]
     },
     "execution_count": 17,
     "metadata": {},
     "output_type": "execute_result"
    }
   ],
   "source": [
    "res"
   ]
  }
 ],
 "metadata": {
  "kernelspec": {
   "display_name": "Python 3",
   "language": "python",
   "name": "python3"
  },
  "language_info": {
   "codemirror_mode": {
    "name": "ipython",
    "version": 3
   },
   "file_extension": ".py",
   "mimetype": "text/x-python",
   "name": "python",
   "nbconvert_exporter": "python",
   "pygments_lexer": "ipython3",
   "version": "3.7.7"
  }
 },
 "nbformat": 4,
 "nbformat_minor": 5
}
