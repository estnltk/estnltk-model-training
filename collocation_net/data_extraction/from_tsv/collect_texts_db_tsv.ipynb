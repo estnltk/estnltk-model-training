{
 "cells": [
  {
   "cell_type": "code",
   "execution_count": 1,
   "id": "62d66c27",
   "metadata": {},
   "outputs": [],
   "source": [
    "#import sys\n",
    "#!conda install --yes --prefix {sys.prefix} -c estnltk estnltk"
   ]
  },
  {
   "cell_type": "markdown",
   "id": "f0d2adfb",
   "metadata": {},
   "source": [
    "# Korpuse tekstide laadimine andmebaasist"
   ]
  },
  {
   "cell_type": "markdown",
   "id": "f1db5c1c",
   "metadata": {},
   "source": [
    "Valitud korpuse tekstid salvestatakse TSV-faili \n",
    "\n",
    "**Tulbad**:\n",
    "\n",
    "1. collectionId\n",
    "2. span.start\n",
    "3. span.id\n",
    "4. span.text\n",
    "5. span.lemma\n",
    "6. span.upostag\n",
    "7. span.deprel\n",
    "8. span.head\n",
    "9. span.feats\n",
    "\n"
   ]
  },
  {
   "cell_type": "markdown",
   "id": "ea4fc948",
   "metadata": {},
   "source": [
    "Näide:\n",
    "\n",
    "NB! Reaalses failis ei ole päist.\n",
    "\n",
    "|collectionId|span.start|\tspan.id|\tspan.text|span.lemma|\tspan.upostag\t|span.deprel|span.head\t|span.feats\t|\n",
    "|---|---|---|---|---|---|---|---|---|\n",
    "|0  |     898  |   1  |     Ma  |    mina  |  P  |     nsubj:cop  |     5  |     sg\\|\\|nom|\n",
    "|0  |     901  |   2  |     pole  |  olema |  V  |     cop  |   5  |     ps\\|\\|sg\\|\\|aux\\|\\|neg\\|\\|ps2\\|\\|pres\\|\\|imper|\n",
    "|0  |     906  |   3  |     enda  |  ise  |   P  |     obl  |   5  |     sg\\|\\|gen|\n",
    "|0  |     911  |   4  |     üle  |   üle  |   K  |     case  |  3  |     post|\n",
    "|0  |     915  |   5  |     uhke  |  uhke  |  A  |     root  |  0  |     sg\\|\\|nom\\|\\|pos|\n",
    "|0  |     920  |   6  |     ainuüksi  |  ainuüksi  |  D  |     advmod  |5  |     |\n",
    "|0  |     929  |   7  |     oma  |   oma  |   P  |     nmod  |  8  |     sg\\|\\|gen|\n",
    "|0  |     933  |   8  |     saavutuste  |    saavutus  |     S  |     obl  |   5  |     pl\\|\\|com\\|\\|gen|\n",
    "|0  |     944  |   9  |     pärast | pärast | K  |     case  |  8  |     post|\n",
    "|0  |     951  |   10  |    .  |     .  |     Z  |     punct |  5  |     |\n"
   ]
  },
  {
   "cell_type": "markdown",
   "id": "f6ced20f",
   "metadata": {},
   "source": [
    "## Vajalikud teegid"
   ]
  },
  {
   "cell_type": "code",
   "execution_count": 2,
   "id": "bbbec6d9",
   "metadata": {},
   "outputs": [],
   "source": [
    "from __future__ import print_function\n",
    "#from estnltk import Text, logger\n",
    "from estnltk.storage.postgres import PostgresStorage\n",
    "import sqlite3\n",
    "import sys"
   ]
  },
  {
   "cell_type": "markdown",
   "id": "febc3577",
   "metadata": {},
   "source": [
    "## Abifunktsioonid"
   ]
  },
  {
   "cell_type": "code",
   "execution_count": 3,
   "id": "3eb27f54",
   "metadata": {},
   "outputs": [],
   "source": [
    "def eprint(*args, **kwargs):\n",
    "    print(*args, file=sys.stderr, **kwargs)\n"
   ]
  },
  {
   "cell_type": "markdown",
   "id": "26c99ff5",
   "metadata": {},
   "source": [
    "Salvestab kollektsioonide \"järelhoidja\" baasi."
   ]
  },
  {
   "cell_type": "code",
   "execution_count": 4,
   "id": "ab347c5f",
   "metadata": {},
   "outputs": [],
   "source": [
    "def saveToDisk(rows, lastcollection, fOut):\n",
    "   \n",
    "    global TABLENAME, cursor, connection\n",
    "\n",
    "    fOut.write('\\n'.join( '\\t'.join(s) for s in rows) + '\\n')\n",
    "\n",
    "    cursor.execute(f\"\"\"\n",
    "        INSERT INTO collections_processed VALUES (?,?)\n",
    "        ON CONFLICT(tablename) DO UPDATE SET lastcollection=?;\"\"\", (TABLENAME, lastcollection, lastcollection, ) )\n",
    "    \n",
    "    connection.commit()\n",
    "    eprint(f'TSV-sse salvestatud kollokatsioonid: 0 - {lastcollection}' )"
   ]
  },
  {
   "cell_type": "code",
   "execution_count": 5,
   "id": "08bf0b8c",
   "metadata": {},
   "outputs": [],
   "source": [
    "def prepareDb():\n",
    "    cursor.execute(f\"\"\"CREATE TABLE IF NOT EXISTS collections_processed\n",
    "                      (tablename text, lastcollection integer);\n",
    "                      \"\"\")\n",
    "    cursor.execute(f\"\"\"CREATE UNIQUE INDEX IF NOT EXISTS collections_processed_uniq\n",
    "    ON collections_processed(tablename);\n",
    "    \"\"\")\n"
   ]
  },
  {
   "cell_type": "code",
   "execution_count": 6,
   "id": "71c63e78",
   "metadata": {},
   "outputs": [],
   "source": [
    "def getPlaceholder(tablename):\n",
    "    cursor.execute(f\"\"\"SELECT lastcollection FROM collections_processed WHERE tablename = ?\"\"\", (tablename,) );\n",
    "    lastcollection = cursor.fetchone()\n",
    "\n",
    "    fileMode = 'w'\n",
    "    if not lastcollection:\n",
    "        lastcollection = -1\n",
    "    else:\n",
    "        #andmete kogumine jäi pooleli ning jätkatakse samasse faili kirjutamist\n",
    "        lastcollection = lastcollection[0]\n",
    "        fileMode = 'a'\n",
    "    return (lastcollection, fileMode)\n"
   ]
  },
  {
   "cell_type": "markdown",
   "id": "357180e4",
   "metadata": {},
   "source": [
    "## Muutujad"
   ]
  },
  {
   "cell_type": "code",
   "execution_count": 7,
   "id": "2dcb06f6",
   "metadata": {},
   "outputs": [],
   "source": [
    "collectionName = 'koondkorpus_base_subset_of_5000_v2' #'koondkorpus_base_v2' # \n"
   ]
  },
  {
   "cell_type": "markdown",
   "id": "786915a3",
   "metadata": {},
   "source": [
    "Fail, kuhu väljund salvestatakse."
   ]
  },
  {
   "cell_type": "code",
   "execution_count": 8,
   "id": "f395ed85",
   "metadata": {},
   "outputs": [],
   "source": [
    "outputfile = f'{collectionName}.tsv'"
   ]
  },
  {
   "cell_type": "markdown",
   "id": "9de85f3b",
   "metadata": {},
   "source": [
    "**Kollektsioonide arv**, mille kaupa salvestatakse vahepealne tulemus faili."
   ]
  },
  {
   "cell_type": "code",
   "execution_count": 9,
   "id": "edda87a4",
   "metadata": {},
   "outputs": [],
   "source": [
    "BATCHSIZE = 1000"
   ]
  },
  {
   "cell_type": "code",
   "execution_count": 10,
   "id": "4140cb2d",
   "metadata": {},
   "outputs": [],
   "source": [
    "TABLENAME = f'texts_{collectionName}'"
   ]
  },
  {
   "cell_type": "markdown",
   "id": "29262f52",
   "metadata": {},
   "source": [
    "## Andmebaasi loomine ja ette valmistamine"
   ]
  },
  {
   "cell_type": "code",
   "execution_count": 11,
   "id": "42a3a4e3",
   "metadata": {},
   "outputs": [],
   "source": [
    "connection = sqlite3.connect(\"collect_texts.db\") #\n",
    "cursor = connection.cursor()\n",
    "\n",
    "prepareDb()"
   ]
  },
  {
   "cell_type": "markdown",
   "id": "db83c16e",
   "metadata": {},
   "source": [
    "## Tekstide alla laadimine"
   ]
  },
  {
   "cell_type": "code",
   "execution_count": 12,
   "id": "67969d67",
   "metadata": {},
   "outputs": [
    {
     "name": "stdout",
     "output_type": "stream",
     "text": [
      "INFO:storage.py:42: connecting to host: 'postgres.keeleressursid.ee', port: '5432', dbname: 'estonian-text-corpora', user: 'zummy'\n",
      "INFO:storage.py:58: schema: 'estonian_text_corpora', temporary: False, role: 'estonian_text_corpora_read'\n"
     ]
    }
   ],
   "source": [
    "storage = PostgresStorage(pgpass_file='~/.pgpass',\n",
    "                          schema='estonian_text_corpora',\n",
    "                          role='estonian_text_corpora_read',\n",
    "                          temporary=False)"
   ]
  },
  {
   "cell_type": "code",
   "execution_count": 13,
   "id": "c6f3b0b6",
   "metadata": {},
   "outputs": [],
   "source": [
    "collection = storage[collectionName]\n",
    "TOTALROWS = len(collection)"
   ]
  },
  {
   "cell_type": "markdown",
   "id": "331d368f",
   "metadata": {},
   "source": [
    "Kontrollitakse, mitmenda kollektsiooni juurde skript eelmine kord jäi, juhul kui skripti töö katkes ootamatult. Nullist alustamiseks tuleb kustutada skripti loodud *collect_texts.db* fail."
   ]
  },
  {
   "cell_type": "code",
   "execution_count": 14,
   "id": "7ede07e8",
   "metadata": {},
   "outputs": [
    {
     "name": "stdout",
     "output_type": "stream",
     "text": [
      "0 out of 5000 collections to download\n"
     ]
    },
    {
     "data": {
      "application/vnd.jupyter.widget-view+json": {
       "model_id": "a8563e0751994b8587d139a5e899a6b3",
       "version_major": 2,
       "version_minor": 0
      },
      "text/plain": [
       "HBox(children=(FloatProgress(value=1.0, bar_style='info', max=1.0), HTML(value='')))"
      ]
     },
     "metadata": {},
     "output_type": "display_data"
    },
    {
     "name": "stdout",
     "output_type": "stream",
     "text": [
      "\n"
     ]
    }
   ],
   "source": [
    "(lastcollection, fileMode) = getPlaceholder(TABLENAME)\n",
    "\n",
    "#mitu kollektsiooni jäi alla tõmbamata\n",
    "unprocessed = TOTALROWS - lastcollection - 1\n",
    "\n",
    "print (f'{unprocessed} out of {TOTALROWS} collections to download')\n",
    "fOut = open(outputfile, fileMode)\n",
    "\n",
    "###\n",
    "iterations = 0\n",
    "unsaved = 0\n",
    "rows = []\n",
    "\n",
    "for (colId, text) in collection.select (progressbar='notebook', layers=['v166_sentences', 'v168_stanza_ensemble_syntax'], return_index=True ).tail(unprocessed):\n",
    "    sentences_start = [span.start for span in text.v166_sentences]\n",
    "    sentences_end = [span.end for span in text.v166_sentences]\n",
    "   \n",
    "    \n",
    "    #for morphspan in text.v166_morph_analysis:\n",
    "    #   \n",
    "    #    morphforms[morphspan.start] = list(morphspan.form)\n",
    "    #    morphPOS[morphspan.start] = list(morphspan.partofspeech)\n",
    "        \n",
    "    #print (morphforms)\n",
    "    \n",
    "    \n",
    "        \n",
    "    #continue\n",
    "    iterations +=1\n",
    "    unsaved = 1\n",
    "    for span in text.v168_stanza_ensemble_syntax:\n",
    "        if span.start in sentences_start:\n",
    "            current_sentence = []\n",
    "        # span.text.replace('\\n','') - mõned üksikud lemmad koondkorpuses sisaldavad \\n sümbolit\n",
    "        #print (span)\n",
    "        \n",
    "        rows.append([str(x) for x in [colId, span.start, span.id, span.text.replace('\\n',''), span.lemma, span.upostag, span.deprel, span.head , '||'.join(span.feats.keys()) , ]] )\n",
    "\n",
    "        current_sentence.append(span)\n",
    "        if span.end in sentences_end:\n",
    "            exit()\n",
    "            unsaved = 1\n",
    "            continue\n",
    "    if not iterations%BATCHSIZE:\n",
    "        saveToDisk(rows, colId, fOut)\n",
    "        rows = []\n",
    "        unsaved = 0\n",
    "\n",
    "if unsaved: saveToDisk(rows, colId, fOut)\n",
    "fOut.close()\n"
   ]
  },
  {
   "cell_type": "code",
   "execution_count": 15,
   "id": "c39bf349",
   "metadata": {},
   "outputs": [],
   "source": [
    "import subprocess\n",
    "batcmd=f\"wc {outputfile}\"\n",
    "res = subprocess.check_output(batcmd, shell=True)"
   ]
  },
  {
   "cell_type": "code",
   "execution_count": 16,
   "id": "13672255",
   "metadata": {},
   "outputs": [
    {
     "data": {
      "text/plain": [
       "'wc koondkorpus_base_subset_of_5000_v2.tsv'"
      ]
     },
     "execution_count": 16,
     "metadata": {},
     "output_type": "execute_result"
    }
   ],
   "source": [
    "batcmd\n"
   ]
  },
  {
   "cell_type": "code",
   "execution_count": 17,
   "id": "13245a99",
   "metadata": {},
   "outputs": [
    {
     "data": {
      "text/plain": [
       "b' 2105386 18425729 98853579 koondkorpus_base_subset_of_5000_v2.tsv\\n'"
      ]
     },
     "execution_count": 17,
     "metadata": {},
     "output_type": "execute_result"
    }
   ],
   "source": [
    "res"
   ]
  }
 ],
 "metadata": {
  "kernelspec": {
   "display_name": "Python 3",
   "language": "python",
   "name": "python3"
  },
  "language_info": {
   "codemirror_mode": {
    "name": "ipython",
    "version": 3
   },
   "file_extension": ".py",
   "mimetype": "text/x-python",
   "name": "python",
   "nbconvert_exporter": "python",
   "pygments_lexer": "ipython3",
   "version": "3.7.7"
  }
 },
 "nbformat": 4,
 "nbformat_minor": 5
}
