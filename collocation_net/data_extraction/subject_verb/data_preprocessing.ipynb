{
 "cells": [
  {
   "cell_type": "markdown",
   "id": "9c3d61b6",
   "metadata": {},
   "source": [
    "### Imports"
   ]
  },
  {
   "cell_type": "code",
   "execution_count": 37,
   "id": "646022db",
   "metadata": {},
   "outputs": [],
   "source": [
    "import sqlite3\n",
    "import numpy as np\n",
    "import pandas as pd\n",
    "import networkx as nx\n",
    "from collections import defaultdict"
   ]
  },
  {
   "cell_type": "markdown",
   "id": "9fc0c8b0",
   "metadata": {},
   "source": [
    "### Analysing the data"
   ]
  },
  {
   "cell_type": "code",
   "execution_count": 2,
   "id": "83c61228",
   "metadata": {},
   "outputs": [],
   "source": [
    "conn = sqlite3.connect('subj_verb_collocations_20211110.db')\n",
    "cur = conn.cursor()"
   ]
  },
  {
   "cell_type": "code",
   "execution_count": 6,
   "id": "dd532df7",
   "metadata": {},
   "outputs": [],
   "source": [
    "cur.execute(\"SELECT lemma1, pos1, lemma2, pos2, total FROM subj_verb_koondkorpus WHERE total > 2;\")\n",
    "entries = cur.fetchall()"
   ]
  },
  {
   "cell_type": "code",
   "execution_count": 9,
   "id": "72d2e305",
   "metadata": {},
   "outputs": [],
   "source": [
    "non_noun = []\n",
    "\n",
    "for entry in entries:\n",
    "    if entry[1] not in ['P', 'S']:\n",
    "        non_noun.append(entry)"
   ]
  },
  {
   "cell_type": "code",
   "execution_count": 10,
   "id": "e3791f6a",
   "metadata": {},
   "outputs": [
    {
     "data": {
      "text/plain": [
       "41013"
      ]
     },
     "execution_count": 10,
     "metadata": {},
     "output_type": "execute_result"
    }
   ],
   "source": [
    "len(non_noun)"
   ]
  },
  {
   "cell_type": "code",
   "execution_count": 11,
   "id": "23123dec",
   "metadata": {},
   "outputs": [
    {
     "data": {
      "text/plain": [
       "{'A', 'D', 'G', 'J', 'N', 'V', 'X', 'Y', 'Z'}"
      ]
     },
     "execution_count": 11,
     "metadata": {},
     "output_type": "execute_result"
    }
   ],
   "source": [
    "set([entry[1] for entry in non_noun])"
   ]
  },
  {
   "cell_type": "code",
   "execution_count": 12,
   "id": "6a9a82e5",
   "metadata": {},
   "outputs": [
    {
     "name": "stdout",
     "output_type": "stream",
     "text": [
      "('tegema', 'V', 'olema', 'V', 31516)\n",
      "('üks', 'N', 'olema', 'V', 6762)\n",
      "('viimane', 'A', 'olema', 'V', 4726)\n",
      "('sl', 'Y', 'kirjutama', 'V', 3868)\n",
      "('«', 'Z', 'olema', 'V', 126)\n",
      "('rohkem', 'D', 'tunduma', 'V', 105)\n",
      "('eesti', 'G', 'olema', 'V', 56)\n",
      "('aga', 'J', 'olema', 'V', 34)\n",
      "('pärit', 'X', 'olema', 'V', 32)\n"
     ]
    }
   ],
   "source": [
    "olnud = []\n",
    "\n",
    "for entry in non_noun:\n",
    "    if entry[1] not in olnud:\n",
    "        print(entry)\n",
    "        olnud.append(entry[1])"
   ]
  },
  {
   "cell_type": "code",
   "execution_count": 13,
   "id": "1409aede",
   "metadata": {},
   "outputs": [],
   "source": [
    "for entry in entries:\n",
    "    if entry[3] != 'V':\n",
    "        print(entry)"
   ]
  },
  {
   "cell_type": "markdown",
   "id": "57375673",
   "metadata": {},
   "source": [
    "### Graph exploration"
   ]
  },
  {
   "cell_type": "markdown",
   "id": "76eb0fa3",
   "metadata": {},
   "source": [
    "#### Finding nodes"
   ]
  },
  {
   "cell_type": "code",
   "execution_count": 14,
   "id": "ddcd322a",
   "metadata": {},
   "outputs": [],
   "source": [
    "entries_to_keep = []\n",
    "\n",
    "for entry in entries:\n",
    "    if entry[1] in ['S', 'P']:\n",
    "        entries_to_keep.append(entry)"
   ]
  },
  {
   "cell_type": "code",
   "execution_count": 15,
   "id": "f3bed9c7",
   "metadata": {},
   "outputs": [],
   "source": [
    "subjects = [entry[0] for entry in entries_to_keep]\n",
    "verbs = [entry[2] for entry in entries_to_keep]"
   ]
  },
  {
   "cell_type": "code",
   "execution_count": 16,
   "id": "778ab561",
   "metadata": {},
   "outputs": [],
   "source": [
    "subjects_non_dup = []\n",
    "verbs_non_dup = []\n",
    "\n",
    "for subject in subjects:\n",
    "    if subject not in subjects_non_dup:\n",
    "        subjects_non_dup.append(subject)\n",
    "        \n",
    "for verb in verbs:\n",
    "    if verb not in verbs_non_dup:\n",
    "        verbs_non_dup.append(verb)"
   ]
  },
  {
   "cell_type": "markdown",
   "id": "e33281a2",
   "metadata": {},
   "source": [
    "#### Creating the graph"
   ]
  },
  {
   "cell_type": "code",
   "execution_count": 21,
   "id": "5f095c07",
   "metadata": {},
   "outputs": [],
   "source": [
    "graph = nx.Graph()"
   ]
  },
  {
   "cell_type": "code",
   "execution_count": 22,
   "id": "34fe9b98",
   "metadata": {},
   "outputs": [],
   "source": [
    "graph.add_nodes_from(subjects_non_dup, pos='subject')\n",
    "graph.add_nodes_from(verbs_non_dup, pos='verb')"
   ]
  },
  {
   "cell_type": "code",
   "execution_count": 23,
   "id": "ebe92448",
   "metadata": {},
   "outputs": [
    {
     "data": {
      "text/plain": [
       "('see', 'P', 'olema', 'V', 498627)"
      ]
     },
     "execution_count": 23,
     "metadata": {},
     "output_type": "execute_result"
    }
   ],
   "source": [
    "entries_to_keep[0]"
   ]
  },
  {
   "cell_type": "code",
   "execution_count": 24,
   "id": "dc7c5b0c",
   "metadata": {},
   "outputs": [],
   "source": [
    "graph.add_edges_from([(p[0], p[2]) for p in entries_to_keep])"
   ]
  },
  {
   "cell_type": "code",
   "execution_count": 25,
   "id": "869ddb9e",
   "metadata": {},
   "outputs": [],
   "source": [
    "subgraphs = [graph.subgraph(c).copy() for c in nx.connected_components(graph)]"
   ]
  },
  {
   "cell_type": "code",
   "execution_count": 26,
   "id": "44ccce3a",
   "metadata": {},
   "outputs": [],
   "source": [
    "largest_subgraph = graph.subgraph(max(nx.connected_components(graph), key=len)).copy()"
   ]
  },
  {
   "cell_type": "code",
   "execution_count": 27,
   "id": "74afa811",
   "metadata": {},
   "outputs": [
    {
     "name": "stdout",
     "output_type": "stream",
     "text": [
      "Number of connected components in the graph: 29\n",
      "Largest connected component includes 97765 words and 655702 connections between those words\n"
     ]
    }
   ],
   "source": [
    "print(\"Number of connected components in the graph:\", len(subgraphs))\n",
    "print(f\"Largest connected component includes {len(largest_subgraph.nodes())} words and {len(largest_subgraph.edges())} connections between those words\")"
   ]
  },
  {
   "cell_type": "code",
   "execution_count": 28,
   "id": "95a61aaf",
   "metadata": {},
   "outputs": [
    {
     "name": "stdout",
     "output_type": "stream",
     "text": [
      "Number of subgraphs with two words (one subject-verb pair): 23\n"
     ]
    }
   ],
   "source": [
    "print(\"Number of subgraphs with two words (one subject-verb pair):\", sum([1 for subgraph in subgraphs if len(subgraph.nodes()) == 2]))"
   ]
  },
  {
   "cell_type": "markdown",
   "id": "50025cc2",
   "metadata": {},
   "source": [
    "Keeping only words from the largest subgraph because other words aren't connected to many other words (if they're connected to any at all) and because of that wouldn't cluster well"
   ]
  },
  {
   "cell_type": "code",
   "execution_count": 33,
   "id": "78dd33a8",
   "metadata": {},
   "outputs": [],
   "source": [
    "connected_words = largest_subgraph.nodes()"
   ]
  },
  {
   "cell_type": "code",
   "execution_count": 34,
   "id": "7f0830fa",
   "metadata": {},
   "outputs": [],
   "source": [
    "connected_entries = [entry for entry in entries_to_keep if entry[0] in connected_words and entry[2] in connected_words]"
   ]
  },
  {
   "cell_type": "markdown",
   "id": "2a7f4155",
   "metadata": {},
   "source": [
    "### Reducing the number of subjects to a reasonable amount"
   ]
  },
  {
   "cell_type": "markdown",
   "id": "b6199cbc",
   "metadata": {},
   "source": [
    "Keeping 15000 most common subjects for the final dataset based on how often they were present in the corpus (finding the sum of all pairs they were in). "
   ]
  },
  {
   "cell_type": "code",
   "execution_count": 38,
   "id": "85955650",
   "metadata": {},
   "outputs": [],
   "source": [
    "subject_counts = defaultdict(int)\n",
    "\n",
    "for entry in connected_entries:\n",
    "    subject_counts[entry[0]] += entry[4]"
   ]
  },
  {
   "cell_type": "code",
   "execution_count": 43,
   "id": "0ce2bfdb",
   "metadata": {},
   "outputs": [],
   "source": [
    "sorted_subjects = sorted(subject_counts.items(), key=lambda kv: kv[1], reverse=True)"
   ]
  },
  {
   "cell_type": "code",
   "execution_count": 45,
   "id": "65ca65fe",
   "metadata": {},
   "outputs": [],
   "source": [
    "subjects_to_keep = sorted_subjects[:15000]"
   ]
  },
  {
   "cell_type": "code",
   "execution_count": 46,
   "id": "836773b5",
   "metadata": {},
   "outputs": [],
   "source": [
    "final_subjects = [subj for subj, count in subjects_to_keep]"
   ]
  },
  {
   "cell_type": "code",
   "execution_count": 47,
   "id": "4517a90f",
   "metadata": {},
   "outputs": [],
   "source": [
    "final_entries = [entry for entry in connected_entries if entry[0] in final_subjects]"
   ]
  },
  {
   "cell_type": "code",
   "execution_count": 52,
   "id": "2e730e27",
   "metadata": {},
   "outputs": [],
   "source": [
    "final_verbs = []\n",
    "\n",
    "for entry in final_entries:\n",
    "    verb = entry[2]\n",
    "    if verb not in final_verbs:\n",
    "        final_verbs.append(verb)"
   ]
  },
  {
   "cell_type": "markdown",
   "id": "536eea66",
   "metadata": {},
   "source": [
    "### Checking duplicate pairs"
   ]
  },
  {
   "cell_type": "code",
   "execution_count": 84,
   "id": "f3b0098e",
   "metadata": {},
   "outputs": [],
   "source": [
    "from collections import Counter"
   ]
  },
  {
   "cell_type": "code",
   "execution_count": 79,
   "id": "ace1efba",
   "metadata": {},
   "outputs": [],
   "source": [
    "final_pairs = [(entry[0], entry[2]) for entry in final_entries]"
   ]
  },
  {
   "cell_type": "code",
   "execution_count": 85,
   "id": "a1704cd7",
   "metadata": {},
   "outputs": [],
   "source": [
    "duplicate_pairs = [item for item, count in Counter(final_pairs).items() if count > 1]"
   ]
  },
  {
   "cell_type": "code",
   "execution_count": 86,
   "id": "44ac5628",
   "metadata": {},
   "outputs": [
    {
     "data": {
      "text/plain": [
       "555"
      ]
     },
     "execution_count": 86,
     "metadata": {},
     "output_type": "execute_result"
    }
   ],
   "source": [
    "len(duplicate_pairs)"
   ]
  },
  {
   "cell_type": "code",
   "execution_count": 87,
   "id": "c12bcde9",
   "metadata": {},
   "outputs": [
    {
     "data": {
      "text/plain": [
       "[('mina', 'olema'),\n",
       " ('mina', 'teadma'),\n",
       " ('mina', 'tahtma'),\n",
       " ('kõik', 'olema'),\n",
       " ('mina', 'saama')]"
      ]
     },
     "execution_count": 87,
     "metadata": {},
     "output_type": "execute_result"
    }
   ],
   "source": [
    "duplicate_pairs[:5]"
   ]
  },
  {
   "cell_type": "code",
   "execution_count": 88,
   "id": "1611698b",
   "metadata": {},
   "outputs": [
    {
     "data": {
      "text/plain": [
       "{'iga', 'ise', 'kõik', 'mina', 'miski', 'muu', 'oma', 'setu', 'sina'}"
      ]
     },
     "execution_count": 88,
     "metadata": {},
     "output_type": "execute_result"
    }
   ],
   "source": [
    "subjects_in_duplicates = [pair[0] for pair in duplicate_pairs]\n",
    "set(subjects_in_duplicates)"
   ]
  },
  {
   "cell_type": "code",
   "execution_count": 90,
   "id": "16b82dfb",
   "metadata": {},
   "outputs": [
    {
     "name": "stdout",
     "output_type": "stream",
     "text": [
      "('mina', 'P', 'olema', 'V', 119511)\n",
      "('mina', 'P', 'teadma', 'V', 47550)\n",
      "('mina', 'P', 'tahtma', 'V', 40719)\n",
      "('mina', 'S', 'olema', 'V', 3313)\n",
      "('mina', 'S', 'teadma', 'V', 807)\n",
      "('mina', 'S', 'tahtma', 'V', 583)\n"
     ]
    }
   ],
   "source": [
    "for entry in final_entries:\n",
    "    if entry[0] == 'mina' and entry[2] in ['olema', 'teadma', 'tahtma']:\n",
    "        print(entry)"
   ]
  },
  {
   "cell_type": "code",
   "execution_count": 91,
   "id": "a700d8f4",
   "metadata": {},
   "outputs": [
    {
     "name": "stdout",
     "output_type": "stream",
     "text": [
      "('kõik', 'P', 'olema', 'V', 38615)\n",
      "('kõik', 'S', 'olema', 'V', 15)\n"
     ]
    }
   ],
   "source": [
    "for entry in final_entries:\n",
    "    if entry[0] == 'kõik' and (entry[0], entry[2]) in duplicate_pairs:\n",
    "        print(entry)"
   ]
  },
  {
   "cell_type": "code",
   "execution_count": 92,
   "id": "4560626f",
   "metadata": {},
   "outputs": [
    {
     "name": "stdout",
     "output_type": "stream",
     "text": [
      "('setu', 'S', 'olema', 'V', 98)\n",
      "('setu', 'P', 'olema', 'V', 5)\n"
     ]
    }
   ],
   "source": [
    "for entry in final_entries:\n",
    "    if entry[0] == 'setu' and (entry[0], entry[2]) in duplicate_pairs:\n",
    "        print(entry)"
   ]
  },
  {
   "cell_type": "markdown",
   "id": "73995e6b",
   "metadata": {},
   "source": [
    "### Matrix creation"
   ]
  },
  {
   "cell_type": "code",
   "execution_count": 54,
   "id": "10db5543",
   "metadata": {},
   "outputs": [
    {
     "data": {
      "text/html": [
       "<div>\n",
       "<style scoped>\n",
       "    .dataframe tbody tr th:only-of-type {\n",
       "        vertical-align: middle;\n",
       "    }\n",
       "\n",
       "    .dataframe tbody tr th {\n",
       "        vertical-align: top;\n",
       "    }\n",
       "\n",
       "    .dataframe thead th {\n",
       "        text-align: right;\n",
       "    }\n",
       "</style>\n",
       "<table border=\"1\" class=\"dataframe\">\n",
       "  <thead>\n",
       "    <tr style=\"text-align: right;\">\n",
       "      <th></th>\n",
       "      <th>olema</th>\n",
       "      <th>teadma</th>\n",
       "      <th>ütlema</th>\n",
       "      <th>tahtma</th>\n",
       "      <th>saama</th>\n",
       "      <th>tähendama</th>\n",
       "      <th>tegema</th>\n",
       "      <th>lisama</th>\n",
       "      <th>arvama</th>\n",
       "      <th>nägema</th>\n",
       "      <th>...</th>\n",
       "      <th>kiduma</th>\n",
       "      <th>klõbisema</th>\n",
       "      <th>runnima</th>\n",
       "      <th>viidsima</th>\n",
       "      <th>pritsuma</th>\n",
       "      <th>ketaalima</th>\n",
       "      <th>seiduma</th>\n",
       "      <th>ücima</th>\n",
       "      <th>müübima</th>\n",
       "      <th>juksima</th>\n",
       "    </tr>\n",
       "  </thead>\n",
       "  <tbody>\n",
       "    <tr>\n",
       "      <th>tema</th>\n",
       "      <td>0</td>\n",
       "      <td>0</td>\n",
       "      <td>0</td>\n",
       "      <td>0</td>\n",
       "      <td>0</td>\n",
       "      <td>0</td>\n",
       "      <td>0</td>\n",
       "      <td>0</td>\n",
       "      <td>0</td>\n",
       "      <td>0</td>\n",
       "      <td>...</td>\n",
       "      <td>0</td>\n",
       "      <td>0</td>\n",
       "      <td>0</td>\n",
       "      <td>0</td>\n",
       "      <td>0</td>\n",
       "      <td>0</td>\n",
       "      <td>0</td>\n",
       "      <td>0</td>\n",
       "      <td>0</td>\n",
       "      <td>0</td>\n",
       "    </tr>\n",
       "    <tr>\n",
       "      <th>mina</th>\n",
       "      <td>0</td>\n",
       "      <td>0</td>\n",
       "      <td>0</td>\n",
       "      <td>0</td>\n",
       "      <td>0</td>\n",
       "      <td>0</td>\n",
       "      <td>0</td>\n",
       "      <td>0</td>\n",
       "      <td>0</td>\n",
       "      <td>0</td>\n",
       "      <td>...</td>\n",
       "      <td>0</td>\n",
       "      <td>0</td>\n",
       "      <td>0</td>\n",
       "      <td>0</td>\n",
       "      <td>0</td>\n",
       "      <td>0</td>\n",
       "      <td>0</td>\n",
       "      <td>0</td>\n",
       "      <td>0</td>\n",
       "      <td>0</td>\n",
       "    </tr>\n",
       "    <tr>\n",
       "      <th>see</th>\n",
       "      <td>0</td>\n",
       "      <td>0</td>\n",
       "      <td>0</td>\n",
       "      <td>0</td>\n",
       "      <td>0</td>\n",
       "      <td>0</td>\n",
       "      <td>0</td>\n",
       "      <td>0</td>\n",
       "      <td>0</td>\n",
       "      <td>0</td>\n",
       "      <td>...</td>\n",
       "      <td>0</td>\n",
       "      <td>0</td>\n",
       "      <td>0</td>\n",
       "      <td>0</td>\n",
       "      <td>0</td>\n",
       "      <td>0</td>\n",
       "      <td>0</td>\n",
       "      <td>0</td>\n",
       "      <td>0</td>\n",
       "      <td>0</td>\n",
       "    </tr>\n",
       "    <tr>\n",
       "      <th>mis</th>\n",
       "      <td>0</td>\n",
       "      <td>0</td>\n",
       "      <td>0</td>\n",
       "      <td>0</td>\n",
       "      <td>0</td>\n",
       "      <td>0</td>\n",
       "      <td>0</td>\n",
       "      <td>0</td>\n",
       "      <td>0</td>\n",
       "      <td>0</td>\n",
       "      <td>...</td>\n",
       "      <td>0</td>\n",
       "      <td>0</td>\n",
       "      <td>0</td>\n",
       "      <td>0</td>\n",
       "      <td>0</td>\n",
       "      <td>0</td>\n",
       "      <td>0</td>\n",
       "      <td>0</td>\n",
       "      <td>0</td>\n",
       "      <td>0</td>\n",
       "    </tr>\n",
       "    <tr>\n",
       "      <th>kes</th>\n",
       "      <td>0</td>\n",
       "      <td>0</td>\n",
       "      <td>0</td>\n",
       "      <td>0</td>\n",
       "      <td>0</td>\n",
       "      <td>0</td>\n",
       "      <td>0</td>\n",
       "      <td>0</td>\n",
       "      <td>0</td>\n",
       "      <td>0</td>\n",
       "      <td>...</td>\n",
       "      <td>0</td>\n",
       "      <td>0</td>\n",
       "      <td>0</td>\n",
       "      <td>0</td>\n",
       "      <td>0</td>\n",
       "      <td>0</td>\n",
       "      <td>0</td>\n",
       "      <td>0</td>\n",
       "      <td>0</td>\n",
       "      <td>0</td>\n",
       "    </tr>\n",
       "  </tbody>\n",
       "</table>\n",
       "<p>5 rows × 4156 columns</p>\n",
       "</div>"
      ],
      "text/plain": [
       "      olema  teadma  ütlema  tahtma  saama  tähendama  tegema  lisama  arvama  \\\n",
       "tema      0       0       0       0      0          0       0       0       0   \n",
       "mina      0       0       0       0      0          0       0       0       0   \n",
       "see       0       0       0       0      0          0       0       0       0   \n",
       "mis       0       0       0       0      0          0       0       0       0   \n",
       "kes       0       0       0       0      0          0       0       0       0   \n",
       "\n",
       "      nägema  ...  kiduma  klõbisema  runnima  viidsima  pritsuma  ketaalima  \\\n",
       "tema       0  ...       0          0        0         0         0          0   \n",
       "mina       0  ...       0          0        0         0         0          0   \n",
       "see        0  ...       0          0        0         0         0          0   \n",
       "mis        0  ...       0          0        0         0         0          0   \n",
       "kes        0  ...       0          0        0         0         0          0   \n",
       "\n",
       "      seiduma  ücima  müübima  juksima  \n",
       "tema        0      0        0        0  \n",
       "mina        0      0        0        0  \n",
       "see         0      0        0        0  \n",
       "mis         0      0        0        0  \n",
       "kes         0      0        0        0  \n",
       "\n",
       "[5 rows x 4156 columns]"
      ]
     },
     "execution_count": 54,
     "metadata": {},
     "output_type": "execute_result"
    }
   ],
   "source": [
    "data = pd.DataFrame(0, index=final_subjects, columns=final_verbs)\n",
    "data.head()"
   ]
  },
  {
   "cell_type": "code",
   "execution_count": 55,
   "id": "58298268",
   "metadata": {},
   "outputs": [
    {
     "data": {
      "text/plain": [
       "(15000, 4156)"
      ]
     },
     "execution_count": 55,
     "metadata": {},
     "output_type": "execute_result"
    }
   ],
   "source": [
    "data.shape"
   ]
  },
  {
   "cell_type": "code",
   "execution_count": 56,
   "id": "699202e9",
   "metadata": {},
   "outputs": [
    {
     "data": {
      "text/plain": [
       "[('see', 'P', 'olema', 'V', 498627),\n",
       " ('tema', 'P', 'olema', 'V', 210031),\n",
       " ('mis', 'P', 'olema', 'V', 159528)]"
      ]
     },
     "execution_count": 56,
     "metadata": {},
     "output_type": "execute_result"
    }
   ],
   "source": [
    "final_entries[:3]"
   ]
  },
  {
   "cell_type": "code",
   "execution_count": 119,
   "id": "d956a876",
   "metadata": {},
   "outputs": [],
   "source": [
    "data_dict = data.to_dict()"
   ]
  },
  {
   "cell_type": "code",
   "execution_count": 120,
   "id": "9288c8d1",
   "metadata": {},
   "outputs": [
    {
     "data": {
      "text/plain": [
       "['olema', 'teadma', 'ütlema']"
      ]
     },
     "execution_count": 120,
     "metadata": {},
     "output_type": "execute_result"
    }
   ],
   "source": [
    "list(data_dict.keys())[:3]"
   ]
  },
  {
   "cell_type": "code",
   "execution_count": 121,
   "id": "4713dc10",
   "metadata": {},
   "outputs": [],
   "source": [
    "#for tup in entries_to_keep:\n",
    "#    data.loc[tup[0], tup[2]] = tup[4]\n",
    "\n",
    "for tup in final_entries:\n",
    "    # += count because some pairs are twice in the entries, once where the subject's\n",
    "    # postag is P and once S, otherwise the default value is 0 anyway so it'll just be count\n",
    "    data_dict[tup[2]][tup[0]] += tup[4]"
   ]
  },
  {
   "cell_type": "code",
   "execution_count": 122,
   "id": "f1c1a36d",
   "metadata": {},
   "outputs": [],
   "source": [
    "data_final = pd.DataFrame(data_dict)"
   ]
  },
  {
   "cell_type": "code",
   "execution_count": 123,
   "id": "610bb929",
   "metadata": {},
   "outputs": [
    {
     "data": {
      "text/html": [
       "<div>\n",
       "<style scoped>\n",
       "    .dataframe tbody tr th:only-of-type {\n",
       "        vertical-align: middle;\n",
       "    }\n",
       "\n",
       "    .dataframe tbody tr th {\n",
       "        vertical-align: top;\n",
       "    }\n",
       "\n",
       "    .dataframe thead th {\n",
       "        text-align: right;\n",
       "    }\n",
       "</style>\n",
       "<table border=\"1\" class=\"dataframe\">\n",
       "  <thead>\n",
       "    <tr style=\"text-align: right;\">\n",
       "      <th></th>\n",
       "      <th>olema</th>\n",
       "      <th>teadma</th>\n",
       "      <th>ütlema</th>\n",
       "      <th>tahtma</th>\n",
       "      <th>saama</th>\n",
       "      <th>tähendama</th>\n",
       "      <th>tegema</th>\n",
       "      <th>lisama</th>\n",
       "      <th>arvama</th>\n",
       "      <th>nägema</th>\n",
       "      <th>...</th>\n",
       "      <th>kiduma</th>\n",
       "      <th>klõbisema</th>\n",
       "      <th>runnima</th>\n",
       "      <th>viidsima</th>\n",
       "      <th>pritsuma</th>\n",
       "      <th>ketaalima</th>\n",
       "      <th>seiduma</th>\n",
       "      <th>ücima</th>\n",
       "      <th>müübima</th>\n",
       "      <th>juksima</th>\n",
       "    </tr>\n",
       "  </thead>\n",
       "  <tbody>\n",
       "    <tr>\n",
       "      <th>tema</th>\n",
       "      <td>210031</td>\n",
       "      <td>15303</td>\n",
       "      <td>43006</td>\n",
       "      <td>22397</td>\n",
       "      <td>37392</td>\n",
       "      <td>829</td>\n",
       "      <td>33115</td>\n",
       "      <td>31796</td>\n",
       "      <td>7440</td>\n",
       "      <td>11059</td>\n",
       "      <td>...</td>\n",
       "      <td>0</td>\n",
       "      <td>0</td>\n",
       "      <td>0</td>\n",
       "      <td>0</td>\n",
       "      <td>0</td>\n",
       "      <td>0</td>\n",
       "      <td>0</td>\n",
       "      <td>0</td>\n",
       "      <td>0</td>\n",
       "      <td>0</td>\n",
       "    </tr>\n",
       "    <tr>\n",
       "      <th>mina</th>\n",
       "      <td>122824</td>\n",
       "      <td>48357</td>\n",
       "      <td>22122</td>\n",
       "      <td>41302</td>\n",
       "      <td>39695</td>\n",
       "      <td>131</td>\n",
       "      <td>29568</td>\n",
       "      <td>659</td>\n",
       "      <td>30362</td>\n",
       "      <td>21060</td>\n",
       "      <td>...</td>\n",
       "      <td>0</td>\n",
       "      <td>0</td>\n",
       "      <td>3</td>\n",
       "      <td>3</td>\n",
       "      <td>0</td>\n",
       "      <td>0</td>\n",
       "      <td>0</td>\n",
       "      <td>3</td>\n",
       "      <td>0</td>\n",
       "      <td>0</td>\n",
       "    </tr>\n",
       "    <tr>\n",
       "      <th>see</th>\n",
       "      <td>498627</td>\n",
       "      <td>2305</td>\n",
       "      <td>1064</td>\n",
       "      <td>868</td>\n",
       "      <td>7488</td>\n",
       "      <td>38195</td>\n",
       "      <td>10684</td>\n",
       "      <td>820</td>\n",
       "      <td>201</td>\n",
       "      <td>1968</td>\n",
       "      <td>...</td>\n",
       "      <td>0</td>\n",
       "      <td>0</td>\n",
       "      <td>0</td>\n",
       "      <td>0</td>\n",
       "      <td>3</td>\n",
       "      <td>0</td>\n",
       "      <td>0</td>\n",
       "      <td>0</td>\n",
       "      <td>0</td>\n",
       "      <td>0</td>\n",
       "    </tr>\n",
       "    <tr>\n",
       "      <th>mis</th>\n",
       "      <td>159528</td>\n",
       "      <td>607</td>\n",
       "      <td>2033</td>\n",
       "      <td>1970</td>\n",
       "      <td>17968</td>\n",
       "      <td>12900</td>\n",
       "      <td>11499</td>\n",
       "      <td>564</td>\n",
       "      <td>739</td>\n",
       "      <td>3730</td>\n",
       "      <td>...</td>\n",
       "      <td>0</td>\n",
       "      <td>0</td>\n",
       "      <td>0</td>\n",
       "      <td>0</td>\n",
       "      <td>0</td>\n",
       "      <td>0</td>\n",
       "      <td>0</td>\n",
       "      <td>0</td>\n",
       "      <td>0</td>\n",
       "      <td>0</td>\n",
       "    </tr>\n",
       "    <tr>\n",
       "      <th>kes</th>\n",
       "      <td>81930</td>\n",
       "      <td>8050</td>\n",
       "      <td>4846</td>\n",
       "      <td>15278</td>\n",
       "      <td>16658</td>\n",
       "      <td>34</td>\n",
       "      <td>13727</td>\n",
       "      <td>303</td>\n",
       "      <td>2673</td>\n",
       "      <td>3735</td>\n",
       "      <td>...</td>\n",
       "      <td>0</td>\n",
       "      <td>0</td>\n",
       "      <td>0</td>\n",
       "      <td>0</td>\n",
       "      <td>0</td>\n",
       "      <td>0</td>\n",
       "      <td>0</td>\n",
       "      <td>0</td>\n",
       "      <td>0</td>\n",
       "      <td>0</td>\n",
       "    </tr>\n",
       "    <tr>\n",
       "      <th>...</th>\n",
       "      <td>...</td>\n",
       "      <td>...</td>\n",
       "      <td>...</td>\n",
       "      <td>...</td>\n",
       "      <td>...</td>\n",
       "      <td>...</td>\n",
       "      <td>...</td>\n",
       "      <td>...</td>\n",
       "      <td>...</td>\n",
       "      <td>...</td>\n",
       "      <td>...</td>\n",
       "      <td>...</td>\n",
       "      <td>...</td>\n",
       "      <td>...</td>\n",
       "      <td>...</td>\n",
       "      <td>...</td>\n",
       "      <td>...</td>\n",
       "      <td>...</td>\n",
       "      <td>...</td>\n",
       "      <td>...</td>\n",
       "      <td>...</td>\n",
       "    </tr>\n",
       "    <tr>\n",
       "      <th>Cathy</th>\n",
       "      <td>10</td>\n",
       "      <td>0</td>\n",
       "      <td>7</td>\n",
       "      <td>0</td>\n",
       "      <td>0</td>\n",
       "      <td>0</td>\n",
       "      <td>0</td>\n",
       "      <td>0</td>\n",
       "      <td>0</td>\n",
       "      <td>0</td>\n",
       "      <td>...</td>\n",
       "      <td>0</td>\n",
       "      <td>0</td>\n",
       "      <td>0</td>\n",
       "      <td>0</td>\n",
       "      <td>0</td>\n",
       "      <td>0</td>\n",
       "      <td>0</td>\n",
       "      <td>0</td>\n",
       "      <td>0</td>\n",
       "      <td>0</td>\n",
       "    </tr>\n",
       "    <tr>\n",
       "      <th>Mumme</th>\n",
       "      <td>0</td>\n",
       "      <td>0</td>\n",
       "      <td>9</td>\n",
       "      <td>0</td>\n",
       "      <td>0</td>\n",
       "      <td>0</td>\n",
       "      <td>0</td>\n",
       "      <td>3</td>\n",
       "      <td>0</td>\n",
       "      <td>0</td>\n",
       "      <td>...</td>\n",
       "      <td>0</td>\n",
       "      <td>0</td>\n",
       "      <td>0</td>\n",
       "      <td>0</td>\n",
       "      <td>0</td>\n",
       "      <td>0</td>\n",
       "      <td>0</td>\n",
       "      <td>0</td>\n",
       "      <td>0</td>\n",
       "      <td>0</td>\n",
       "    </tr>\n",
       "    <tr>\n",
       "      <th>Kosk</th>\n",
       "      <td>0</td>\n",
       "      <td>0</td>\n",
       "      <td>10</td>\n",
       "      <td>0</td>\n",
       "      <td>0</td>\n",
       "      <td>0</td>\n",
       "      <td>0</td>\n",
       "      <td>4</td>\n",
       "      <td>0</td>\n",
       "      <td>0</td>\n",
       "      <td>...</td>\n",
       "      <td>0</td>\n",
       "      <td>0</td>\n",
       "      <td>0</td>\n",
       "      <td>0</td>\n",
       "      <td>0</td>\n",
       "      <td>0</td>\n",
       "      <td>0</td>\n",
       "      <td>0</td>\n",
       "      <td>0</td>\n",
       "      <td>0</td>\n",
       "    </tr>\n",
       "    <tr>\n",
       "      <th>tsiviilkolleegium</th>\n",
       "      <td>6</td>\n",
       "      <td>0</td>\n",
       "      <td>0</td>\n",
       "      <td>0</td>\n",
       "      <td>0</td>\n",
       "      <td>0</td>\n",
       "      <td>6</td>\n",
       "      <td>0</td>\n",
       "      <td>0</td>\n",
       "      <td>0</td>\n",
       "      <td>...</td>\n",
       "      <td>0</td>\n",
       "      <td>0</td>\n",
       "      <td>0</td>\n",
       "      <td>0</td>\n",
       "      <td>0</td>\n",
       "      <td>0</td>\n",
       "      <td>0</td>\n",
       "      <td>0</td>\n",
       "      <td>0</td>\n",
       "      <td>0</td>\n",
       "    </tr>\n",
       "    <tr>\n",
       "      <th>häältelugemine</th>\n",
       "      <td>8</td>\n",
       "      <td>0</td>\n",
       "      <td>0</td>\n",
       "      <td>0</td>\n",
       "      <td>0</td>\n",
       "      <td>0</td>\n",
       "      <td>0</td>\n",
       "      <td>0</td>\n",
       "      <td>0</td>\n",
       "      <td>0</td>\n",
       "      <td>...</td>\n",
       "      <td>0</td>\n",
       "      <td>0</td>\n",
       "      <td>0</td>\n",
       "      <td>0</td>\n",
       "      <td>0</td>\n",
       "      <td>0</td>\n",
       "      <td>0</td>\n",
       "      <td>0</td>\n",
       "      <td>0</td>\n",
       "      <td>0</td>\n",
       "    </tr>\n",
       "  </tbody>\n",
       "</table>\n",
       "<p>15000 rows × 4156 columns</p>\n",
       "</div>"
      ],
      "text/plain": [
       "                    olema  teadma  ütlema  tahtma  saama  tähendama  tegema  \\\n",
       "tema               210031   15303   43006   22397  37392        829   33115   \n",
       "mina               122824   48357   22122   41302  39695        131   29568   \n",
       "see                498627    2305    1064     868   7488      38195   10684   \n",
       "mis                159528     607    2033    1970  17968      12900   11499   \n",
       "kes                 81930    8050    4846   15278  16658         34   13727   \n",
       "...                   ...     ...     ...     ...    ...        ...     ...   \n",
       "Cathy                  10       0       7       0      0          0       0   \n",
       "Mumme                   0       0       9       0      0          0       0   \n",
       "Kosk                    0       0      10       0      0          0       0   \n",
       "tsiviilkolleegium       6       0       0       0      0          0       6   \n",
       "häältelugemine          8       0       0       0      0          0       0   \n",
       "\n",
       "                   lisama  arvama  nägema  ...  kiduma  klõbisema  runnima  \\\n",
       "tema                31796    7440   11059  ...       0          0        0   \n",
       "mina                  659   30362   21060  ...       0          0        3   \n",
       "see                   820     201    1968  ...       0          0        0   \n",
       "mis                   564     739    3730  ...       0          0        0   \n",
       "kes                   303    2673    3735  ...       0          0        0   \n",
       "...                   ...     ...     ...  ...     ...        ...      ...   \n",
       "Cathy                   0       0       0  ...       0          0        0   \n",
       "Mumme                   3       0       0  ...       0          0        0   \n",
       "Kosk                    4       0       0  ...       0          0        0   \n",
       "tsiviilkolleegium       0       0       0  ...       0          0        0   \n",
       "häältelugemine          0       0       0  ...       0          0        0   \n",
       "\n",
       "                   viidsima  pritsuma  ketaalima  seiduma  ücima  müübima  \\\n",
       "tema                      0         0          0        0      0        0   \n",
       "mina                      3         0          0        0      3        0   \n",
       "see                       0         3          0        0      0        0   \n",
       "mis                       0         0          0        0      0        0   \n",
       "kes                       0         0          0        0      0        0   \n",
       "...                     ...       ...        ...      ...    ...      ...   \n",
       "Cathy                     0         0          0        0      0        0   \n",
       "Mumme                     0         0          0        0      0        0   \n",
       "Kosk                      0         0          0        0      0        0   \n",
       "tsiviilkolleegium         0         0          0        0      0        0   \n",
       "häältelugemine            0         0          0        0      0        0   \n",
       "\n",
       "                   juksima  \n",
       "tema                     0  \n",
       "mina                     0  \n",
       "see                      0  \n",
       "mis                      0  \n",
       "kes                      0  \n",
       "...                    ...  \n",
       "Cathy                    0  \n",
       "Mumme                    0  \n",
       "Kosk                     0  \n",
       "tsiviilkolleegium        0  \n",
       "häältelugemine           0  \n",
       "\n",
       "[15000 rows x 4156 columns]"
      ]
     },
     "execution_count": 123,
     "metadata": {},
     "output_type": "execute_result"
    }
   ],
   "source": [
    "data_final"
   ]
  },
  {
   "cell_type": "code",
   "execution_count": 124,
   "id": "302b80bd",
   "metadata": {},
   "outputs": [
    {
     "data": {
      "text/plain": [
       "(15000, 4156)"
      ]
     },
     "execution_count": 124,
     "metadata": {},
     "output_type": "execute_result"
    }
   ],
   "source": [
    "data_final.shape"
   ]
  },
  {
   "cell_type": "code",
   "execution_count": 125,
   "id": "59f57093",
   "metadata": {},
   "outputs": [
    {
     "data": {
      "text/plain": [
       "olema     498627\n",
       "teadma     48357\n",
       "ütlema     43006\n",
       "tahtma     41302\n",
       "saama      39695\n",
       "dtype: int64"
      ]
     },
     "execution_count": 125,
     "metadata": {},
     "output_type": "execute_result"
    }
   ],
   "source": [
    "data_final.max()[:5]"
   ]
  },
  {
   "cell_type": "code",
   "execution_count": 128,
   "id": "354c85f6",
   "metadata": {},
   "outputs": [
    {
     "name": "stdout",
     "output_type": "stream",
     "text": [
      "('see', 'P', 'olema', 'V', 498627)\n"
     ]
    }
   ],
   "source": [
    "for entry in final_entries:\n",
    "    if entry[0] == 'see' and entry[2] == 'olema':\n",
    "        print(entry)"
   ]
  },
  {
   "cell_type": "code",
   "execution_count": 126,
   "id": "6ee0cf67",
   "metadata": {},
   "outputs": [
    {
     "name": "stdout",
     "output_type": "stream",
     "text": [
      "('mina', 'P', 'olema', 'V', 119511)\n",
      "('mina', 'S', 'olema', 'V', 3313)\n"
     ]
    }
   ],
   "source": [
    "for entry in final_entries:\n",
    "    if entry[0] == 'mina' and entry[2] == 'olema':\n",
    "        print(entry)"
   ]
  },
  {
   "cell_type": "code",
   "execution_count": 129,
   "id": "08b0508e",
   "metadata": {},
   "outputs": [],
   "source": [
    "data_final.to_csv('subject_verb_df.csv')"
   ]
  }
 ],
 "metadata": {
  "kernelspec": {
   "display_name": "Python 3",
   "language": "python",
   "name": "python3"
  },
  "language_info": {
   "codemirror_mode": {
    "name": "ipython",
    "version": 3
   },
   "file_extension": ".py",
   "mimetype": "text/x-python",
   "name": "python",
   "nbconvert_exporter": "python",
   "pygments_lexer": "ipython3",
   "version": "3.6.13"
  }
 },
 "nbformat": 4,
 "nbformat_minor": 5
}
