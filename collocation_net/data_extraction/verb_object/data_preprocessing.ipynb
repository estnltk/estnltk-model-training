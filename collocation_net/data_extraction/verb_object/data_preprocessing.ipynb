{
 "cells": [
  {
   "cell_type": "markdown",
   "id": "9c3d61b6",
   "metadata": {},
   "source": [
    "### Imports"
   ]
  },
  {
   "cell_type": "code",
   "execution_count": 33,
   "id": "646022db",
   "metadata": {},
   "outputs": [],
   "source": [
    "import sqlite3\n",
    "import numpy as np\n",
    "import pandas as pd\n",
    "import networkx as nx\n",
    "from collections import defaultdict"
   ]
  },
  {
   "cell_type": "markdown",
   "id": "9fc0c8b0",
   "metadata": {},
   "source": [
    "### Analysing the data"
   ]
  },
  {
   "cell_type": "code",
   "execution_count": 2,
   "id": "83c61228",
   "metadata": {},
   "outputs": [],
   "source": [
    "conn = sqlite3.connect('verb_obj_collocations_20211112.db')\n",
    "cur = conn.cursor()"
   ]
  },
  {
   "cell_type": "code",
   "execution_count": 6,
   "id": "dd532df7",
   "metadata": {},
   "outputs": [],
   "source": [
    "cur.execute(\"SELECT lemma1, pos1, lemma2, pos2, total FROM verb_obj_koondkorpus WHERE total > 2;\")\n",
    "entries = cur.fetchall()"
   ]
  },
  {
   "cell_type": "code",
   "execution_count": 9,
   "id": "72d2e305",
   "metadata": {},
   "outputs": [],
   "source": [
    "non_noun = []\n",
    "\n",
    "for entry in entries:\n",
    "    if entry[3] not in ['P', 'S']:\n",
    "        non_noun.append(entry)"
   ]
  },
  {
   "cell_type": "code",
   "execution_count": 10,
   "id": "e3791f6a",
   "metadata": {},
   "outputs": [
    {
     "data": {
      "text/plain": [
       "13650"
      ]
     },
     "execution_count": 10,
     "metadata": {},
     "output_type": "execute_result"
    }
   ],
   "source": [
    "len(non_noun)"
   ]
  },
  {
   "cell_type": "code",
   "execution_count": 11,
   "id": "23123dec",
   "metadata": {},
   "outputs": [
    {
     "data": {
      "text/plain": [
       "{'A', 'G', 'N', 'Y', 'Z'}"
      ]
     },
     "execution_count": 11,
     "metadata": {},
     "output_type": "execute_result"
    }
   ],
   "source": [
    "set([entry[3] for entry in non_noun])"
   ]
  },
  {
   "cell_type": "code",
   "execution_count": 12,
   "id": "6a9a82e5",
   "metadata": {},
   "outputs": [
    {
     "name": "stdout",
     "output_type": "stream",
     "text": [
      "('andma', 'V', 'parim', 'A', 1641)\n",
      "('muutma', 'V', '1', 'N', 1018)\n",
      "('tundma', 'V', 'end', 'Y', 543)\n",
      "('tegema', 'V', '«', 'Z', 16)\n",
      "('tundma', 'V', 'eesti', 'G', 11)\n"
     ]
    }
   ],
   "source": [
    "olnud = []\n",
    "\n",
    "for entry in non_noun:\n",
    "    if entry[3] not in olnud:\n",
    "        print(entry)\n",
    "        olnud.append(entry[3])"
   ]
  },
  {
   "cell_type": "code",
   "execution_count": 13,
   "id": "1409aede",
   "metadata": {},
   "outputs": [],
   "source": [
    "for entry in entries:\n",
    "    if entry[1] != 'V':\n",
    "        print(entry)"
   ]
  },
  {
   "cell_type": "markdown",
   "id": "57375673",
   "metadata": {},
   "source": [
    "### Graph exploration"
   ]
  },
  {
   "cell_type": "markdown",
   "id": "76eb0fa3",
   "metadata": {},
   "source": [
    "#### Finding nodes"
   ]
  },
  {
   "cell_type": "code",
   "execution_count": 14,
   "id": "ddcd322a",
   "metadata": {},
   "outputs": [],
   "source": [
    "entries_to_keep = []\n",
    "\n",
    "for entry in entries:\n",
    "    if entry[3] in ['S', 'P']:\n",
    "        entries_to_keep.append(entry)"
   ]
  },
  {
   "cell_type": "code",
   "execution_count": 15,
   "id": "f3bed9c7",
   "metadata": {},
   "outputs": [],
   "source": [
    "objects = [entry[2] for entry in entries_to_keep]\n",
    "verbs = [entry[0] for entry in entries_to_keep]"
   ]
  },
  {
   "cell_type": "code",
   "execution_count": 16,
   "id": "778ab561",
   "metadata": {},
   "outputs": [],
   "source": [
    "objects_non_dup = []\n",
    "verbs_non_dup = []\n",
    "\n",
    "for obj in objects:\n",
    "    if obj not in objects_non_dup:\n",
    "        objects_non_dup.append(obj)\n",
    "        \n",
    "for verb in verbs:\n",
    "    if verb not in verbs_non_dup:\n",
    "        verbs_non_dup.append(verb)"
   ]
  },
  {
   "cell_type": "markdown",
   "id": "e33281a2",
   "metadata": {},
   "source": [
    "#### Creating the graph"
   ]
  },
  {
   "cell_type": "code",
   "execution_count": 21,
   "id": "5f095c07",
   "metadata": {},
   "outputs": [],
   "source": [
    "graph = nx.Graph()"
   ]
  },
  {
   "cell_type": "code",
   "execution_count": 22,
   "id": "34fe9b98",
   "metadata": {},
   "outputs": [],
   "source": [
    "graph.add_nodes_from(objects_non_dup, pos='object')\n",
    "graph.add_nodes_from(verbs_non_dup, pos='verb')"
   ]
  },
  {
   "cell_type": "code",
   "execution_count": 24,
   "id": "dc7c5b0c",
   "metadata": {},
   "outputs": [],
   "source": [
    "graph.add_edges_from([(p[0], p[2]) for p in entries_to_keep])"
   ]
  },
  {
   "cell_type": "code",
   "execution_count": 25,
   "id": "869ddb9e",
   "metadata": {},
   "outputs": [],
   "source": [
    "subgraphs = [graph.subgraph(c).copy() for c in nx.connected_components(graph)]"
   ]
  },
  {
   "cell_type": "code",
   "execution_count": 26,
   "id": "44ccce3a",
   "metadata": {},
   "outputs": [],
   "source": [
    "largest_subgraph = graph.subgraph(max(nx.connected_components(graph), key=len)).copy()"
   ]
  },
  {
   "cell_type": "code",
   "execution_count": 27,
   "id": "74afa811",
   "metadata": {},
   "outputs": [
    {
     "name": "stdout",
     "output_type": "stream",
     "text": [
      "Number of connected components in the graph: 38\n",
      "Largest connected component includes 58681 words and 466000 connections between those words\n"
     ]
    }
   ],
   "source": [
    "print(\"Number of connected components in the graph:\", len(subgraphs))\n",
    "print(f\"Largest connected component includes {len(largest_subgraph.nodes())} words and {len(largest_subgraph.edges())} connections between those words\")"
   ]
  },
  {
   "cell_type": "code",
   "execution_count": 28,
   "id": "95a61aaf",
   "metadata": {},
   "outputs": [
    {
     "name": "stdout",
     "output_type": "stream",
     "text": [
      "Number of subgraphs with two words (one verb-object pair): 31\n"
     ]
    }
   ],
   "source": [
    "print(\"Number of subgraphs with two words (one verb-object pair):\", sum([1 for subgraph in subgraphs if len(subgraph.nodes()) == 2]))"
   ]
  },
  {
   "cell_type": "markdown",
   "id": "705813cd",
   "metadata": {},
   "source": [
    "Keeping only words from the largest subgraph because other words aren't connected to many other words (if they're connected to any at all) and because of that wouldn't cluster well"
   ]
  },
  {
   "cell_type": "code",
   "execution_count": 29,
   "id": "ee4ca72c",
   "metadata": {},
   "outputs": [],
   "source": [
    "connected_words = largest_subgraph.nodes()"
   ]
  },
  {
   "cell_type": "code",
   "execution_count": 30,
   "id": "98072632",
   "metadata": {},
   "outputs": [],
   "source": [
    "connected_entries = [entry for entry in entries_to_keep if entry[0] in connected_words and entry[2] in connected_words]"
   ]
  },
  {
   "cell_type": "markdown",
   "id": "692c1109",
   "metadata": {},
   "source": [
    "### Reducing the number of subjects to a reasonable amount"
   ]
  },
  {
   "cell_type": "markdown",
   "id": "50b60e00",
   "metadata": {},
   "source": [
    "Keeping 15000 most common objects for the final dataset based on how often they were present in the corpus (finding the sum of all pairs they were in). "
   ]
  },
  {
   "cell_type": "code",
   "execution_count": 34,
   "id": "ec2e7177",
   "metadata": {},
   "outputs": [],
   "source": [
    "object_counts = defaultdict(int)\n",
    "\n",
    "for entry in connected_entries:\n",
    "    object_counts[entry[2]] += entry[4]"
   ]
  },
  {
   "cell_type": "code",
   "execution_count": 35,
   "id": "efde9f8c",
   "metadata": {},
   "outputs": [],
   "source": [
    "sorted_objects = sorted(object_counts.items(), key=lambda kv: kv[1], reverse=True)"
   ]
  },
  {
   "cell_type": "code",
   "execution_count": 37,
   "id": "f439efd6",
   "metadata": {},
   "outputs": [],
   "source": [
    "objects_to_keep = sorted_objects[:15000]"
   ]
  },
  {
   "cell_type": "code",
   "execution_count": 38,
   "id": "96df0c73",
   "metadata": {},
   "outputs": [],
   "source": [
    "final_objects = [obj for obj, count in objects_to_keep]"
   ]
  },
  {
   "cell_type": "code",
   "execution_count": 50,
   "id": "d0f5ba8f",
   "metadata": {},
   "outputs": [],
   "source": [
    "final_entries = [entry for entry in connected_entries if entry[2] in final_objects]"
   ]
  },
  {
   "cell_type": "code",
   "execution_count": 52,
   "id": "e1739ded",
   "metadata": {},
   "outputs": [],
   "source": [
    "final_verbs = []\n",
    "\n",
    "for entry in final_entries:\n",
    "    verb = entry[0]\n",
    "    if verb not in final_verbs:\n",
    "        final_verbs.append(verb)"
   ]
  },
  {
   "cell_type": "markdown",
   "id": "66ae0d7f",
   "metadata": {},
   "source": [
    "### Checking duplicate pairs"
   ]
  },
  {
   "cell_type": "code",
   "execution_count": 55,
   "id": "5f2a1992",
   "metadata": {},
   "outputs": [],
   "source": [
    "from collections import Counter"
   ]
  },
  {
   "cell_type": "code",
   "execution_count": 56,
   "id": "28eeb4d2",
   "metadata": {},
   "outputs": [],
   "source": [
    "final_pairs = [(entry[0], entry[2]) for entry in final_entries]"
   ]
  },
  {
   "cell_type": "code",
   "execution_count": 57,
   "id": "26587d88",
   "metadata": {},
   "outputs": [],
   "source": [
    "duplicate_pairs = [item for item, count in Counter(final_pairs).items() if count > 1]"
   ]
  },
  {
   "cell_type": "code",
   "execution_count": 58,
   "id": "205fc988",
   "metadata": {},
   "outputs": [
    {
     "data": {
      "text/plain": [
       "328"
      ]
     },
     "execution_count": 58,
     "metadata": {},
     "output_type": "execute_result"
    }
   ],
   "source": [
    "len(duplicate_pairs)"
   ]
  },
  {
   "cell_type": "code",
   "execution_count": 59,
   "id": "acfb24a7",
   "metadata": {},
   "outputs": [
    {
     "data": {
      "text/plain": [
       "[('tegema', 'miski'),\n",
       " ('tegema', 'kõik'),\n",
       " ('ütlema', 'miski'),\n",
       " ('teadma', 'miski'),\n",
       " ('võtma', 'miski')]"
      ]
     },
     "execution_count": 59,
     "metadata": {},
     "output_type": "execute_result"
    }
   ],
   "source": [
    "duplicate_pairs[:5]"
   ]
  },
  {
   "cell_type": "code",
   "execution_count": 62,
   "id": "8308ea43",
   "metadata": {},
   "outputs": [
    {
     "data": {
      "text/plain": [
       "{'iga', 'kõik', 'mina', 'miski', 'muu', 'oma', 'sina'}"
      ]
     },
     "execution_count": 62,
     "metadata": {},
     "output_type": "execute_result"
    }
   ],
   "source": [
    "objects_in_duplicates = [pair[1] for pair in duplicate_pairs]\n",
    "set(objects_in_duplicates)"
   ]
  },
  {
   "cell_type": "code",
   "execution_count": 63,
   "id": "cb758415",
   "metadata": {},
   "outputs": [
    {
     "name": "stdout",
     "output_type": "stream",
     "text": [
      "('teadma', 'V', 'mina', 'P', 549)\n",
      "('tahtma', 'V', 'mina', 'P', 464)\n",
      "('olema', 'V', 'mina', 'P', 50)\n",
      "('teadma', 'V', 'mina', 'S', 34)\n",
      "('tahtma', 'V', 'mina', 'S', 12)\n"
     ]
    }
   ],
   "source": [
    "for entry in final_entries:\n",
    "    if entry[2] == 'mina' and entry[0] in ['olema', 'teadma', 'tahtma']:\n",
    "        print(entry)"
   ]
  },
  {
   "cell_type": "code",
   "execution_count": 65,
   "id": "78672fc0",
   "metadata": {},
   "outputs": [
    {
     "name": "stdout",
     "output_type": "stream",
     "text": [
      "('tegema', 'V', 'kõik', 'P', 10552)\n",
      "('teadma', 'V', 'kõik', 'P', 1721)\n",
      "('panema', 'V', 'kõik', 'P', 1321)\n",
      "('rääkima', 'V', 'kõik', 'P', 747)\n",
      "('sööma', 'V', 'kõik', 'P', 426)\n",
      "('arvestama', 'V', 'kõik', 'P', 160)\n",
      "('näima', 'V', 'kõik', 'P', 71)\n",
      "('teadma', 'V', 'kõik', 'S', 10)\n",
      "('tegema', 'V', 'kõik', 'S', 8)\n",
      "('arvestama', 'V', 'kõik', 'S', 6)\n",
      "('rääkima', 'V', 'kõik', 'S', 3)\n",
      "('panema', 'V', 'kõik', 'S', 3)\n",
      "('näima', 'V', 'kõik', 'S', 3)\n",
      "('sööma', 'V', 'kõik', 'S', 3)\n"
     ]
    }
   ],
   "source": [
    "for entry in final_entries:\n",
    "    if entry[2] == 'kõik' and (entry[0], entry[2]) in duplicate_pairs:\n",
    "        print(entry)"
   ]
  },
  {
   "cell_type": "code",
   "execution_count": 67,
   "id": "50169a4c",
   "metadata": {},
   "outputs": [
    {
     "name": "stdout",
     "output_type": "stream",
     "text": [
      "('tegema', 'V', 'sina', 'P', 615)\n",
      "('ütlema', 'V', 'sina', 'P', 76)\n",
      "('ütlema', 'V', 'sina', 'S', 16)\n",
      "('tegema', 'V', 'sina', 'S', 3)\n"
     ]
    }
   ],
   "source": [
    "for entry in final_entries:\n",
    "    if entry[2] == 'sina' and (entry[0], entry[2]) in duplicate_pairs:\n",
    "        print(entry)"
   ]
  },
  {
   "cell_type": "markdown",
   "id": "73995e6b",
   "metadata": {},
   "source": [
    "### Matrix creation"
   ]
  },
  {
   "cell_type": "code",
   "execution_count": 68,
   "id": "10db5543",
   "metadata": {},
   "outputs": [
    {
     "data": {
      "text/html": [
       "<div>\n",
       "<style scoped>\n",
       "    .dataframe tbody tr th:only-of-type {\n",
       "        vertical-align: middle;\n",
       "    }\n",
       "\n",
       "    .dataframe tbody tr th {\n",
       "        vertical-align: top;\n",
       "    }\n",
       "\n",
       "    .dataframe thead th {\n",
       "        text-align: right;\n",
       "    }\n",
       "</style>\n",
       "<table border=\"1\" class=\"dataframe\">\n",
       "  <thead>\n",
       "    <tr style=\"text-align: right;\">\n",
       "      <th></th>\n",
       "      <th>tegema</th>\n",
       "      <th>saama</th>\n",
       "      <th>tundma</th>\n",
       "      <th>andma</th>\n",
       "      <th>sõlmima</th>\n",
       "      <th>teadma</th>\n",
       "      <th>maksma</th>\n",
       "      <th>pidama</th>\n",
       "      <th>võtma</th>\n",
       "      <th>pöörama</th>\n",
       "      <th>...</th>\n",
       "      <th>mountima</th>\n",
       "      <th>uvitama</th>\n",
       "      <th>nattima</th>\n",
       "      <th>sailitama</th>\n",
       "      <th>võrdlustama</th>\n",
       "      <th>nendevastuma</th>\n",
       "      <th>postima</th>\n",
       "      <th>väärindama</th>\n",
       "      <th>hapustama</th>\n",
       "      <th>inhibeerima</th>\n",
       "    </tr>\n",
       "  </thead>\n",
       "  <tbody>\n",
       "    <tr>\n",
       "      <th>see</th>\n",
       "      <td>0</td>\n",
       "      <td>0</td>\n",
       "      <td>0</td>\n",
       "      <td>0</td>\n",
       "      <td>0</td>\n",
       "      <td>0</td>\n",
       "      <td>0</td>\n",
       "      <td>0</td>\n",
       "      <td>0</td>\n",
       "      <td>0</td>\n",
       "      <td>...</td>\n",
       "      <td>0</td>\n",
       "      <td>0</td>\n",
       "      <td>0</td>\n",
       "      <td>0</td>\n",
       "      <td>0</td>\n",
       "      <td>0</td>\n",
       "      <td>0</td>\n",
       "      <td>0</td>\n",
       "      <td>0</td>\n",
       "      <td>0</td>\n",
       "    </tr>\n",
       "    <tr>\n",
       "      <th>mis</th>\n",
       "      <td>0</td>\n",
       "      <td>0</td>\n",
       "      <td>0</td>\n",
       "      <td>0</td>\n",
       "      <td>0</td>\n",
       "      <td>0</td>\n",
       "      <td>0</td>\n",
       "      <td>0</td>\n",
       "      <td>0</td>\n",
       "      <td>0</td>\n",
       "      <td>...</td>\n",
       "      <td>0</td>\n",
       "      <td>0</td>\n",
       "      <td>0</td>\n",
       "      <td>0</td>\n",
       "      <td>0</td>\n",
       "      <td>0</td>\n",
       "      <td>0</td>\n",
       "      <td>0</td>\n",
       "      <td>0</td>\n",
       "      <td>0</td>\n",
       "    </tr>\n",
       "    <tr>\n",
       "      <th>tema</th>\n",
       "      <td>0</td>\n",
       "      <td>0</td>\n",
       "      <td>0</td>\n",
       "      <td>0</td>\n",
       "      <td>0</td>\n",
       "      <td>0</td>\n",
       "      <td>0</td>\n",
       "      <td>0</td>\n",
       "      <td>0</td>\n",
       "      <td>0</td>\n",
       "      <td>...</td>\n",
       "      <td>0</td>\n",
       "      <td>0</td>\n",
       "      <td>0</td>\n",
       "      <td>0</td>\n",
       "      <td>0</td>\n",
       "      <td>0</td>\n",
       "      <td>0</td>\n",
       "      <td>0</td>\n",
       "      <td>0</td>\n",
       "      <td>0</td>\n",
       "    </tr>\n",
       "    <tr>\n",
       "      <th>ise</th>\n",
       "      <td>0</td>\n",
       "      <td>0</td>\n",
       "      <td>0</td>\n",
       "      <td>0</td>\n",
       "      <td>0</td>\n",
       "      <td>0</td>\n",
       "      <td>0</td>\n",
       "      <td>0</td>\n",
       "      <td>0</td>\n",
       "      <td>0</td>\n",
       "      <td>...</td>\n",
       "      <td>0</td>\n",
       "      <td>0</td>\n",
       "      <td>0</td>\n",
       "      <td>0</td>\n",
       "      <td>0</td>\n",
       "      <td>0</td>\n",
       "      <td>0</td>\n",
       "      <td>0</td>\n",
       "      <td>0</td>\n",
       "      <td>0</td>\n",
       "    </tr>\n",
       "    <tr>\n",
       "      <th>miski</th>\n",
       "      <td>0</td>\n",
       "      <td>0</td>\n",
       "      <td>0</td>\n",
       "      <td>0</td>\n",
       "      <td>0</td>\n",
       "      <td>0</td>\n",
       "      <td>0</td>\n",
       "      <td>0</td>\n",
       "      <td>0</td>\n",
       "      <td>0</td>\n",
       "      <td>...</td>\n",
       "      <td>0</td>\n",
       "      <td>0</td>\n",
       "      <td>0</td>\n",
       "      <td>0</td>\n",
       "      <td>0</td>\n",
       "      <td>0</td>\n",
       "      <td>0</td>\n",
       "      <td>0</td>\n",
       "      <td>0</td>\n",
       "      <td>0</td>\n",
       "    </tr>\n",
       "  </tbody>\n",
       "</table>\n",
       "<p>5 rows × 3735 columns</p>\n",
       "</div>"
      ],
      "text/plain": [
       "       tegema  saama  tundma  andma  sõlmima  teadma  maksma  pidama  võtma  \\\n",
       "see         0      0       0      0        0       0       0       0      0   \n",
       "mis         0      0       0      0        0       0       0       0      0   \n",
       "tema        0      0       0      0        0       0       0       0      0   \n",
       "ise         0      0       0      0        0       0       0       0      0   \n",
       "miski       0      0       0      0        0       0       0       0      0   \n",
       "\n",
       "       pöörama  ...  mountima  uvitama  nattima  sailitama  võrdlustama  \\\n",
       "see          0  ...         0        0        0          0            0   \n",
       "mis          0  ...         0        0        0          0            0   \n",
       "tema         0  ...         0        0        0          0            0   \n",
       "ise          0  ...         0        0        0          0            0   \n",
       "miski        0  ...         0        0        0          0            0   \n",
       "\n",
       "       nendevastuma  postima  väärindama  hapustama  inhibeerima  \n",
       "see               0        0           0          0            0  \n",
       "mis               0        0           0          0            0  \n",
       "tema              0        0           0          0            0  \n",
       "ise               0        0           0          0            0  \n",
       "miski             0        0           0          0            0  \n",
       "\n",
       "[5 rows x 3735 columns]"
      ]
     },
     "execution_count": 68,
     "metadata": {},
     "output_type": "execute_result"
    }
   ],
   "source": [
    "data = pd.DataFrame(0, index=final_objects, columns=final_verbs)\n",
    "data.head()"
   ]
  },
  {
   "cell_type": "code",
   "execution_count": 70,
   "id": "d956a876",
   "metadata": {},
   "outputs": [],
   "source": [
    "data_dict = data.to_dict()"
   ]
  },
  {
   "cell_type": "code",
   "execution_count": 71,
   "id": "9288c8d1",
   "metadata": {},
   "outputs": [
    {
     "data": {
      "text/plain": [
       "['tegema', 'saama', 'tundma']"
      ]
     },
     "execution_count": 71,
     "metadata": {},
     "output_type": "execute_result"
    }
   ],
   "source": [
    "list(data_dict.keys())[:3]"
   ]
  },
  {
   "cell_type": "code",
   "execution_count": 72,
   "id": "4713dc10",
   "metadata": {},
   "outputs": [],
   "source": [
    "for tup in final_entries:\n",
    "    data_dict[tup[0]][tup[2]] += tup[4]"
   ]
  },
  {
   "cell_type": "code",
   "execution_count": 73,
   "id": "f1c1a36d",
   "metadata": {},
   "outputs": [],
   "source": [
    "data_final = pd.DataFrame(data_dict)"
   ]
  },
  {
   "cell_type": "code",
   "execution_count": 74,
   "id": "610bb929",
   "metadata": {},
   "outputs": [
    {
     "data": {
      "text/html": [
       "<div>\n",
       "<style scoped>\n",
       "    .dataframe tbody tr th:only-of-type {\n",
       "        vertical-align: middle;\n",
       "    }\n",
       "\n",
       "    .dataframe tbody tr th {\n",
       "        vertical-align: top;\n",
       "    }\n",
       "\n",
       "    .dataframe thead th {\n",
       "        text-align: right;\n",
       "    }\n",
       "</style>\n",
       "<table border=\"1\" class=\"dataframe\">\n",
       "  <thead>\n",
       "    <tr style=\"text-align: right;\">\n",
       "      <th></th>\n",
       "      <th>tegema</th>\n",
       "      <th>saama</th>\n",
       "      <th>tundma</th>\n",
       "      <th>andma</th>\n",
       "      <th>sõlmima</th>\n",
       "      <th>teadma</th>\n",
       "      <th>maksma</th>\n",
       "      <th>pidama</th>\n",
       "      <th>võtma</th>\n",
       "      <th>pöörama</th>\n",
       "      <th>...</th>\n",
       "      <th>mountima</th>\n",
       "      <th>uvitama</th>\n",
       "      <th>nattima</th>\n",
       "      <th>sailitama</th>\n",
       "      <th>võrdlustama</th>\n",
       "      <th>nendevastuma</th>\n",
       "      <th>postima</th>\n",
       "      <th>väärindama</th>\n",
       "      <th>hapustama</th>\n",
       "      <th>inhibeerima</th>\n",
       "    </tr>\n",
       "  </thead>\n",
       "  <tbody>\n",
       "    <tr>\n",
       "      <th>see</th>\n",
       "      <td>69534</td>\n",
       "      <td>9208</td>\n",
       "      <td>2789</td>\n",
       "      <td>6079</td>\n",
       "      <td>288</td>\n",
       "      <td>13465</td>\n",
       "      <td>2402</td>\n",
       "      <td>12953</td>\n",
       "      <td>12901</td>\n",
       "      <td>273</td>\n",
       "      <td>...</td>\n",
       "      <td>0</td>\n",
       "      <td>0</td>\n",
       "      <td>3</td>\n",
       "      <td>0</td>\n",
       "      <td>0</td>\n",
       "      <td>0</td>\n",
       "      <td>0</td>\n",
       "      <td>0</td>\n",
       "      <td>0</td>\n",
       "      <td>0</td>\n",
       "    </tr>\n",
       "    <tr>\n",
       "      <th>mis</th>\n",
       "      <td>46616</td>\n",
       "      <td>7582</td>\n",
       "      <td>3492</td>\n",
       "      <td>7881</td>\n",
       "      <td>834</td>\n",
       "      <td>5235</td>\n",
       "      <td>3286</td>\n",
       "      <td>8315</td>\n",
       "      <td>8511</td>\n",
       "      <td>116</td>\n",
       "      <td>...</td>\n",
       "      <td>0</td>\n",
       "      <td>0</td>\n",
       "      <td>0</td>\n",
       "      <td>0</td>\n",
       "      <td>0</td>\n",
       "      <td>0</td>\n",
       "      <td>0</td>\n",
       "      <td>0</td>\n",
       "      <td>0</td>\n",
       "      <td>0</td>\n",
       "    </tr>\n",
       "    <tr>\n",
       "      <th>tema</th>\n",
       "      <td>3881</td>\n",
       "      <td>2438</td>\n",
       "      <td>3037</td>\n",
       "      <td>1798</td>\n",
       "      <td>82</td>\n",
       "      <td>1208</td>\n",
       "      <td>285</td>\n",
       "      <td>4119</td>\n",
       "      <td>5879</td>\n",
       "      <td>98</td>\n",
       "      <td>...</td>\n",
       "      <td>0</td>\n",
       "      <td>0</td>\n",
       "      <td>0</td>\n",
       "      <td>0</td>\n",
       "      <td>3</td>\n",
       "      <td>0</td>\n",
       "      <td>0</td>\n",
       "      <td>0</td>\n",
       "      <td>0</td>\n",
       "      <td>0</td>\n",
       "    </tr>\n",
       "    <tr>\n",
       "      <th>ise</th>\n",
       "      <td>1552</td>\n",
       "      <td>374</td>\n",
       "      <td>20326</td>\n",
       "      <td>1257</td>\n",
       "      <td>5</td>\n",
       "      <td>216</td>\n",
       "      <td>279</td>\n",
       "      <td>6065</td>\n",
       "      <td>2645</td>\n",
       "      <td>430</td>\n",
       "      <td>...</td>\n",
       "      <td>0</td>\n",
       "      <td>0</td>\n",
       "      <td>0</td>\n",
       "      <td>0</td>\n",
       "      <td>0</td>\n",
       "      <td>0</td>\n",
       "      <td>0</td>\n",
       "      <td>0</td>\n",
       "      <td>0</td>\n",
       "      <td>0</td>\n",
       "    </tr>\n",
       "    <tr>\n",
       "      <th>miski</th>\n",
       "      <td>22786</td>\n",
       "      <td>4216</td>\n",
       "      <td>571</td>\n",
       "      <td>2191</td>\n",
       "      <td>16</td>\n",
       "      <td>9647</td>\n",
       "      <td>1595</td>\n",
       "      <td>315</td>\n",
       "      <td>6522</td>\n",
       "      <td>29</td>\n",
       "      <td>...</td>\n",
       "      <td>0</td>\n",
       "      <td>0</td>\n",
       "      <td>0</td>\n",
       "      <td>0</td>\n",
       "      <td>0</td>\n",
       "      <td>0</td>\n",
       "      <td>0</td>\n",
       "      <td>0</td>\n",
       "      <td>0</td>\n",
       "      <td>0</td>\n",
       "    </tr>\n",
       "    <tr>\n",
       "      <th>...</th>\n",
       "      <td>...</td>\n",
       "      <td>...</td>\n",
       "      <td>...</td>\n",
       "      <td>...</td>\n",
       "      <td>...</td>\n",
       "      <td>...</td>\n",
       "      <td>...</td>\n",
       "      <td>...</td>\n",
       "      <td>...</td>\n",
       "      <td>...</td>\n",
       "      <td>...</td>\n",
       "      <td>...</td>\n",
       "      <td>...</td>\n",
       "      <td>...</td>\n",
       "      <td>...</td>\n",
       "      <td>...</td>\n",
       "      <td>...</td>\n",
       "      <td>...</td>\n",
       "      <td>...</td>\n",
       "      <td>...</td>\n",
       "      <td>...</td>\n",
       "    </tr>\n",
       "    <tr>\n",
       "      <th>tekstuur</th>\n",
       "      <td>4</td>\n",
       "      <td>6</td>\n",
       "      <td>0</td>\n",
       "      <td>7</td>\n",
       "      <td>0</td>\n",
       "      <td>0</td>\n",
       "      <td>0</td>\n",
       "      <td>0</td>\n",
       "      <td>0</td>\n",
       "      <td>0</td>\n",
       "      <td>...</td>\n",
       "      <td>0</td>\n",
       "      <td>0</td>\n",
       "      <td>0</td>\n",
       "      <td>0</td>\n",
       "      <td>0</td>\n",
       "      <td>0</td>\n",
       "      <td>0</td>\n",
       "      <td>0</td>\n",
       "      <td>0</td>\n",
       "      <td>0</td>\n",
       "    </tr>\n",
       "    <tr>\n",
       "      <th>lemmiklugu</th>\n",
       "      <td>0</td>\n",
       "      <td>0</td>\n",
       "      <td>0</td>\n",
       "      <td>0</td>\n",
       "      <td>0</td>\n",
       "      <td>0</td>\n",
       "      <td>0</td>\n",
       "      <td>0</td>\n",
       "      <td>0</td>\n",
       "      <td>0</td>\n",
       "      <td>...</td>\n",
       "      <td>0</td>\n",
       "      <td>0</td>\n",
       "      <td>0</td>\n",
       "      <td>0</td>\n",
       "      <td>0</td>\n",
       "      <td>0</td>\n",
       "      <td>0</td>\n",
       "      <td>0</td>\n",
       "      <td>0</td>\n",
       "      <td>0</td>\n",
       "    </tr>\n",
       "    <tr>\n",
       "      <th>alluvus</th>\n",
       "      <td>0</td>\n",
       "      <td>0</td>\n",
       "      <td>0</td>\n",
       "      <td>5</td>\n",
       "      <td>0</td>\n",
       "      <td>0</td>\n",
       "      <td>0</td>\n",
       "      <td>0</td>\n",
       "      <td>0</td>\n",
       "      <td>0</td>\n",
       "      <td>...</td>\n",
       "      <td>0</td>\n",
       "      <td>0</td>\n",
       "      <td>0</td>\n",
       "      <td>0</td>\n",
       "      <td>0</td>\n",
       "      <td>0</td>\n",
       "      <td>0</td>\n",
       "      <td>0</td>\n",
       "      <td>0</td>\n",
       "      <td>0</td>\n",
       "    </tr>\n",
       "    <tr>\n",
       "      <th>Malle</th>\n",
       "      <td>0</td>\n",
       "      <td>0</td>\n",
       "      <td>0</td>\n",
       "      <td>0</td>\n",
       "      <td>0</td>\n",
       "      <td>0</td>\n",
       "      <td>0</td>\n",
       "      <td>0</td>\n",
       "      <td>0</td>\n",
       "      <td>0</td>\n",
       "      <td>...</td>\n",
       "      <td>0</td>\n",
       "      <td>0</td>\n",
       "      <td>0</td>\n",
       "      <td>0</td>\n",
       "      <td>0</td>\n",
       "      <td>0</td>\n",
       "      <td>0</td>\n",
       "      <td>0</td>\n",
       "      <td>0</td>\n",
       "      <td>0</td>\n",
       "    </tr>\n",
       "    <tr>\n",
       "      <th>dzhäss</th>\n",
       "      <td>3</td>\n",
       "      <td>0</td>\n",
       "      <td>0</td>\n",
       "      <td>0</td>\n",
       "      <td>0</td>\n",
       "      <td>0</td>\n",
       "      <td>0</td>\n",
       "      <td>3</td>\n",
       "      <td>3</td>\n",
       "      <td>0</td>\n",
       "      <td>...</td>\n",
       "      <td>0</td>\n",
       "      <td>0</td>\n",
       "      <td>0</td>\n",
       "      <td>0</td>\n",
       "      <td>0</td>\n",
       "      <td>0</td>\n",
       "      <td>0</td>\n",
       "      <td>0</td>\n",
       "      <td>0</td>\n",
       "      <td>0</td>\n",
       "    </tr>\n",
       "  </tbody>\n",
       "</table>\n",
       "<p>15000 rows × 3735 columns</p>\n",
       "</div>"
      ],
      "text/plain": [
       "            tegema  saama  tundma  andma  sõlmima  teadma  maksma  pidama  \\\n",
       "see          69534   9208    2789   6079      288   13465    2402   12953   \n",
       "mis          46616   7582    3492   7881      834    5235    3286    8315   \n",
       "tema          3881   2438    3037   1798       82    1208     285    4119   \n",
       "ise           1552    374   20326   1257        5     216     279    6065   \n",
       "miski        22786   4216     571   2191       16    9647    1595     315   \n",
       "...            ...    ...     ...    ...      ...     ...     ...     ...   \n",
       "tekstuur         4      6       0      7        0       0       0       0   \n",
       "lemmiklugu       0      0       0      0        0       0       0       0   \n",
       "alluvus          0      0       0      5        0       0       0       0   \n",
       "Malle            0      0       0      0        0       0       0       0   \n",
       "dzhäss           3      0       0      0        0       0       0       3   \n",
       "\n",
       "            võtma  pöörama  ...  mountima  uvitama  nattima  sailitama  \\\n",
       "see         12901      273  ...         0        0        3          0   \n",
       "mis          8511      116  ...         0        0        0          0   \n",
       "tema         5879       98  ...         0        0        0          0   \n",
       "ise          2645      430  ...         0        0        0          0   \n",
       "miski        6522       29  ...         0        0        0          0   \n",
       "...           ...      ...  ...       ...      ...      ...        ...   \n",
       "tekstuur        0        0  ...         0        0        0          0   \n",
       "lemmiklugu      0        0  ...         0        0        0          0   \n",
       "alluvus         0        0  ...         0        0        0          0   \n",
       "Malle           0        0  ...         0        0        0          0   \n",
       "dzhäss          3        0  ...         0        0        0          0   \n",
       "\n",
       "            võrdlustama  nendevastuma  postima  väärindama  hapustama  \\\n",
       "see                   0             0        0           0          0   \n",
       "mis                   0             0        0           0          0   \n",
       "tema                  3             0        0           0          0   \n",
       "ise                   0             0        0           0          0   \n",
       "miski                 0             0        0           0          0   \n",
       "...                 ...           ...      ...         ...        ...   \n",
       "tekstuur              0             0        0           0          0   \n",
       "lemmiklugu            0             0        0           0          0   \n",
       "alluvus               0             0        0           0          0   \n",
       "Malle                 0             0        0           0          0   \n",
       "dzhäss                0             0        0           0          0   \n",
       "\n",
       "            inhibeerima  \n",
       "see                   0  \n",
       "mis                   0  \n",
       "tema                  0  \n",
       "ise                   0  \n",
       "miski                 0  \n",
       "...                 ...  \n",
       "tekstuur              0  \n",
       "lemmiklugu            0  \n",
       "alluvus               0  \n",
       "Malle                 0  \n",
       "dzhäss                0  \n",
       "\n",
       "[15000 rows x 3735 columns]"
      ]
     },
     "execution_count": 74,
     "metadata": {},
     "output_type": "execute_result"
    }
   ],
   "source": [
    "data_final"
   ]
  },
  {
   "cell_type": "code",
   "execution_count": 75,
   "id": "302b80bd",
   "metadata": {},
   "outputs": [
    {
     "data": {
      "text/plain": [
       "(15000, 3735)"
      ]
     },
     "execution_count": 75,
     "metadata": {},
     "output_type": "execute_result"
    }
   ],
   "source": [
    "data_final.shape"
   ]
  },
  {
   "cell_type": "code",
   "execution_count": 76,
   "id": "59f57093",
   "metadata": {},
   "outputs": [
    {
     "data": {
      "text/plain": [
       "tegema     69534\n",
       "saama      62376\n",
       "tundma     20326\n",
       "andma      15911\n",
       "sõlmima    15575\n",
       "dtype: int64"
      ]
     },
     "execution_count": 76,
     "metadata": {},
     "output_type": "execute_result"
    }
   ],
   "source": [
    "data_final.max()[:5]"
   ]
  },
  {
   "cell_type": "code",
   "execution_count": 79,
   "id": "d307d971",
   "metadata": {},
   "outputs": [
    {
     "data": {
      "text/plain": [
       "2523"
      ]
     },
     "execution_count": 79,
     "metadata": {},
     "output_type": "execute_result"
    }
   ],
   "source": [
    "data_final.at['mina', 'tegema']"
   ]
  },
  {
   "cell_type": "code",
   "execution_count": 78,
   "id": "f44df505",
   "metadata": {},
   "outputs": [
    {
     "name": "stdout",
     "output_type": "stream",
     "text": [
      "('tegema', 'V', 'mina', 'P', 2419)\n",
      "('tegema', 'V', 'mina', 'S', 104)\n"
     ]
    }
   ],
   "source": [
    "for entry in final_entries:\n",
    "    if entry[0] == 'tegema' and entry[2] == 'mina':\n",
    "        print(entry)"
   ]
  },
  {
   "cell_type": "code",
   "execution_count": 80,
   "id": "08b0508e",
   "metadata": {},
   "outputs": [],
   "source": [
    "data_final.to_csv('verb_object_df.csv')"
   ]
  }
 ],
 "metadata": {
  "kernelspec": {
   "display_name": "Python 3",
   "language": "python",
   "name": "python3"
  },
  "language_info": {
   "codemirror_mode": {
    "name": "ipython",
    "version": 3
   },
   "file_extension": ".py",
   "mimetype": "text/x-python",
   "name": "python",
   "nbconvert_exporter": "python",
   "pygments_lexer": "ipython3",
   "version": "3.6.13"
  }
 },
 "nbformat": 4,
 "nbformat_minor": 5
}
