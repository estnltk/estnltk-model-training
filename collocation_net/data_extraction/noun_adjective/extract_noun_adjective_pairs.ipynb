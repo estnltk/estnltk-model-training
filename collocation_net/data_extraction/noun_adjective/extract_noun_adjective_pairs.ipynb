{
 "cells": [
  {
   "cell_type": "markdown",
   "metadata": {},
   "source": [
    "### Imports and database connection"
   ]
  },
  {
   "cell_type": "code",
   "execution_count": 6,
   "metadata": {},
   "outputs": [],
   "source": [
    "import psycopg2\n",
    "import estnltk\n",
    "from estnltk.storage.postgres import PostgresStorage"
   ]
  },
  {
   "cell_type": "code",
   "execution_count": 8,
   "metadata": {},
   "outputs": [],
   "source": [
    "import time\n",
    "from datetime import timedelta, datetime"
   ]
  },
  {
   "cell_type": "code",
   "execution_count": 7,
   "metadata": {},
   "outputs": [],
   "source": [
    "con = psycopg2.connect(user = \"postgres\",\n",
    "                       password = \"\",\n",
    "                       host = \"127.0.0.1\",\n",
    "                       port = \"5432\",\n",
    "                       database = \"adj_noun_pairs\")\n",
    "\n",
    "try:\n",
    "    cursor = con.cursor();\n",
    "except (Exception, psycopg2.Error) as error:\n",
    "    print(\"Error in Connection\",error)"
   ]
  },
  {
   "cell_type": "code",
   "execution_count": 59,
   "metadata": {},
   "outputs": [
    {
     "name": "stdout",
     "output_type": "stream",
     "text": [
      "Table (all_pairs) created successfully in PostgreSQL \n"
     ]
    }
   ],
   "source": [
    "# Create adjective and noun pair table in the Postgres database\n",
    "try:\n",
    "    pair_table = \"all_pairs\"\n",
    "    create_table_query = '''CREATE TABLE '''+ pair_table +''' \n",
    "              (adjective      TEXT    NOT NULL,\n",
    "               noun           TEXT    NOT NULL,\n",
    "               id             INT     NOT NULL,\n",
    "               type           TEXT    NOT NULL\n",
    "               ); '''\n",
    "\n",
    "    cursor.execute(create_table_query)\n",
    "    con.commit()\n",
    "    print(\"Table (\"+ pair_table +\") created successfully in PostgreSQL \")\n",
    "except (Exception, psycopg2.Error) as error:\n",
    "    con.rollback()\n",
    "    print(\"Error while creating the table: \", error)"
   ]
  },
  {
   "cell_type": "code",
   "execution_count": 138,
   "metadata": {},
   "outputs": [
    {
     "name": "stdout",
     "output_type": "stream",
     "text": [
      "INFO:storage.py:42: connecting to host: 'postgres.keeleressursid.ee', port: 5432, dbname: 'estonian-text-corpora', user: 'sormusbi'\n",
      "INFO:storage.py:58: schema: 'estonian_text_corpora', temporary: False, role: 'sormusbi'\n"
     ]
    }
   ],
   "source": [
    "storage = PostgresStorage(host=\"postgres.keeleressursid.ee\",\n",
    "                          dbname=\"estonian-text-corpora\",\n",
    "                          user=\"\", #enter username\n",
    "                          password=\"\", #enter password\n",
    "                         port=5432,\n",
    "                         schema=\"estonian_text_corpora\")"
   ]
  },
  {
   "cell_type": "code",
   "execution_count": 139,
   "metadata": {},
   "outputs": [
    {
     "name": "stdout",
     "output_type": "stream",
     "text": [
      "DEBUG:pg_operations.py:75: SELECT table_name, pg_size_pretty(pg_total_relation_size('estonian_text_corpora'||'.'||table_name)), obj_description(('estonian_text_corpora'||'.'||table_name)::regclass), S.n_live_tup FROM information_schema.tables LEFT JOIN pg_stat_user_tables S ON S.relname = table_name AND S.schemaname = table_schema WHERE table_schema='estonian_text_corpora' AND table_type='BASE TABLE';\n",
      "DEBUG:pg_operations.py:75: SELECT table_name, pg_size_pretty(pg_total_relation_size('estonian_text_corpora'||'.'||table_name)), obj_description(('estonian_text_corpora'||'.'||table_name)::regclass), S.n_live_tup FROM information_schema.tables LEFT JOIN pg_stat_user_tables S ON S.relname = table_name AND S.schemaname = table_schema WHERE table_schema='estonian_text_corpora' AND table_type='BASE TABLE';\n"
     ]
    }
   ],
   "source": [
    "collection = storage['koondkorpus_base_v2']"
   ]
  },
  {
   "cell_type": "code",
   "execution_count": 140,
   "metadata": {},
   "outputs": [
    {
     "data": {
      "text/plain": [
       "['v166_words', 'v166_morph_analysis', 'v166_sentences']"
      ]
     },
     "execution_count": 140,
     "metadata": {},
     "output_type": "execute_result"
    }
   ],
   "source": [
    "collection.selected_layers = ['v166_morph_analysis', 'v166_sentences']\n",
    "collection.selected_layers"
   ]
  },
  {
   "cell_type": "markdown",
   "metadata": {},
   "source": [
    "### Pair extraction from the corpus"
   ]
  },
  {
   "cell_type": "code",
   "execution_count": 77,
   "metadata": {},
   "outputs": [],
   "source": [
    "# A function to extract the pairs from a text\n",
    "def extract_pairs(text, text_id):\n",
    "    paarid = []\n",
    "    text_type = text.meta['type']\n",
    "    \n",
    "    for sentence in text.v166_sentences: # sisse kirjutatud, sest tean, et siin failis on sellise nimega see layer\n",
    "        for i, word in enumerate(sentence):\n",
    "            word = word.v166_morph_analysis\n",
    "            \n",
    "            if word.partofspeech[0] != 'S':\n",
    "                continue\n",
    "\n",
    "            noun = word.lemma[0]\n",
    "\n",
    "            if i - 1 >= 0:\n",
    "                word2 = sentence[i-1].v166_morph_analysis\n",
    "\n",
    "                if word2.partofspeech[0] == 'A':\n",
    "                    paarid.append((word2.lemma[0], noun, text_id, text_type))\n",
    "\n",
    "                    # Kui on juba omadussõna nimisõna paar, siis seal võib eelnevalt olla ka mitu omadussõna,\n",
    "                    # lihtsuse mõttes on kuni kolm eelnevat sõna arvesse võetud\n",
    "                    \n",
    "                    # Esimene lihtne võimalus on, et on kaks kirjeldavat omadussõna, nt ilus sinine kleit\n",
    "                    if i - 2 >= 0:\n",
    "                        word3 = sentence[i-2].v166_morph_analysis\n",
    "\n",
    "                        if word3.partofspeech[0] == 'A':\n",
    "                            paarid.append((word3.lemma[0], noun, text_id, text_type))\n",
    "\n",
    "                    if i - 3 >= 0:\n",
    "                        word3_pos = sentence[i-2].v166_morph_analysis.partofspeech[0]\n",
    "                        \n",
    "                        # Kui võtta eelnevalt kolmandat sõna arvesse, siis on järgnevad võimalused:\n",
    "                        # esiteks omadussõna omadussõna omadussõna nimisõna,\n",
    "                        # teiseks omadussõna , omadussõna nimisõna - võib ka eristada erinevaid lauseosi, kuid seda ilmselt\n",
    "                        #                                            esineb vähem ning eksimus seega väike - hiljem saab välja\n",
    "                        #                                            arvestada\n",
    "                        # kolmandaks omadussõna sidesõna omadussõna nimisõna\n",
    "                        if word3_pos in ['A', 'Z', 'J']:\n",
    "                            word4 = sentence[i-3].v166_morph_analysis\n",
    "                            if word4.partofspeech[0] == 'A':\n",
    "                                paarid.append((word4.lemma[0], noun, text_id, text_type))\n",
    "            # nimisõna olema omadussõna                  \n",
    "            if i + 2 < len(sentence) - 1:\n",
    "                word5 = sentence[i+2].v166_morph_analysis\n",
    "                if sentence[i+1].v166_morph_analysis.lemma[0] == 'olema' and word5.partofspeech[0] == 'A':\n",
    "                    paarid.append((word5.lemma[0], noun, text_id, text_type))\n",
    "                    \n",
    "    return paarid"
   ]
  },
  {
   "cell_type": "code",
   "execution_count": 137,
   "metadata": {
    "scrolled": true
   },
   "outputs": [
    {
     "name": "stdout",
     "output_type": "stream",
     "text": [
      "DEBUG:subcollection.py:95: SELECT count(*) FROM (SELECT \"estonian_text_corpora\".\"koondkorpus_base_v2\".\"id\", \"estonian_text_corpora\".\"koondkorpus_base_v2\".\"data\", \"estonian_text_corpora\".\"koondkorpus_base_v2__v166_words__layer\".\"data\", \"estonian_text_corpora\".\"koondkorpus_base_v2__v166_morph_analysis__layer\".\"data\", \"estonian_text_corpora\".\"koondkorpus_base_v2__v166_sentences__layer\".\"data\" FROM \"estonian_text_corpora\".\"koondkorpus_base_v2\", \"estonian_text_corpora\".\"koondkorpus_base_v2__v166_morph_analysis__layer\", \"estonian_text_corpora\".\"koondkorpus_base_v2__v166_sentences__layer\", \"estonian_text_corpora\".\"koondkorpus_base_v2__v166_words__layer\" WHERE \"estonian_text_corpora\".\"koondkorpus_base_v2\".\"id\" = \"estonian_text_corpora\".\"koondkorpus_base_v2__v166_morph_analysis__layer\".\"text_id\" AND \"estonian_text_corpora\".\"koondkorpus_base_v2\".\"id\" = \"estonian_text_corpora\".\"koondkorpus_base_v2__v166_sentences__layer\".\"text_id\" AND \"estonian_text_corpora\".\"koondkorpus_base_v2\".\"id\" = \"estonian_text_corpora\".\"koondkorpus_base_v2__v166_words__layer\".\"text_id\" ORDER BY \"estonian_text_corpora\".\"koondkorpus_base_v2\".\"id\") AS a\n",
      "DEBUG:subcollection.py:245: DECLARE \"read_13\" CURSOR WITHOUT HOLD FOR SELECT \"estonian_text_corpora\".\"koondkorpus_base_v2\".\"id\", \"estonian_text_corpora\".\"koondkorpus_base_v2\".\"data\", \"estonian_text_corpora\".\"koondkorpus_base_v2__v166_words__layer\".\"data\", \"estonian_text_corpora\".\"koondkorpus_base_v2__v166_morph_analysis__layer\".\"data\", \"estonian_text_corpora\".\"koondkorpus_base_v2__v166_sentences__layer\".\"data\" FROM \"estonian_text_corpora\".\"koondkorpus_base_v2\", \"estonian_text_corpora\".\"koondkorpus_base_v2__v166_morph_analysis__layer\", \"estonian_text_corpora\".\"koondkorpus_base_v2__v166_sentences__layer\", \"estonian_text_corpora\".\"koondkorpus_base_v2__v166_words__layer\" WHERE \"estonian_text_corpora\".\"koondkorpus_base_v2\".\"id\" = \"estonian_text_corpora\".\"koondkorpus_base_v2__v166_morph_analysis__layer\".\"text_id\" AND \"estonian_text_corpora\".\"koondkorpus_base_v2\".\"id\" = \"estonian_text_corpora\".\"koondkorpus_base_v2__v166_sentences__layer\".\"text_id\" AND \"estonian_text_corpora\".\"koondkorpus_base_v2\".\"id\" = \"estonian_text_corpora\".\"koondkorpus_base_v2__v166_words__layer\".\"text_id\" ORDER BY \"estonian_text_corpora\".\"koondkorpus_base_v2\".\"id\"\n"
     ]
    },
    {
     "data": {
      "application/vnd.jupyter.widget-view+json": {
       "model_id": "8b47b0a39c0a4eac906ecd1b4d5f5155",
       "version_major": 2,
       "version_minor": 0
      },
      "text/plain": [
       "HBox(children=(FloatProgress(value=0.0, max=705356.0), HTML(value='')))"
      ]
     },
     "metadata": {},
     "output_type": "display_data"
    },
    {
     "name": "stdout",
     "output_type": "stream",
     "text": [
      "0:00:07.708527\n",
      "\n"
     ]
    },
    {
     "ename": "OperationalError",
     "evalue": "server closed the connection unexpectedly\n\tThis probably means the server terminated abnormally\n\tbefore or while processing the request.\n",
     "output_type": "error",
     "traceback": [
      "\u001b[1;31m---------------------------------------------------------------------------\u001b[0m",
      "\u001b[1;31mOperationalError\u001b[0m                          Traceback (most recent call last)",
      "\u001b[1;32m<ipython-input-137-dcfa95a12310>\u001b[0m in \u001b[0;36m<module>\u001b[1;34m\u001b[0m\n\u001b[0;32m      1\u001b[0m \u001b[0mstart\u001b[0m \u001b[1;33m=\u001b[0m \u001b[0mdatetime\u001b[0m\u001b[1;33m.\u001b[0m\u001b[0mnow\u001b[0m\u001b[1;33m(\u001b[0m\u001b[1;33m)\u001b[0m\u001b[1;33m\u001b[0m\u001b[1;33m\u001b[0m\u001b[0m\n\u001b[1;32m----> 2\u001b[1;33m \u001b[1;32mfor\u001b[0m \u001b[0midx\u001b[0m\u001b[1;33m,\u001b[0m \u001b[0mtext\u001b[0m \u001b[1;32min\u001b[0m \u001b[0menumerate\u001b[0m\u001b[1;33m(\u001b[0m\u001b[0mcollection\u001b[0m\u001b[1;33m.\u001b[0m\u001b[0mselect\u001b[0m\u001b[1;33m(\u001b[0m\u001b[0mlayers\u001b[0m\u001b[1;33m=\u001b[0m\u001b[0mcollection\u001b[0m\u001b[1;33m.\u001b[0m\u001b[0mselected_layers\u001b[0m\u001b[1;33m,\u001b[0m \u001b[0mreturn_index\u001b[0m\u001b[1;33m=\u001b[0m\u001b[1;32mFalse\u001b[0m\u001b[1;33m,\u001b[0m \u001b[0mprogressbar\u001b[0m\u001b[1;33m=\u001b[0m\u001b[1;34m'notebook'\u001b[0m\u001b[1;33m,\u001b[0m \u001b[0mitersize\u001b[0m\u001b[1;33m=\u001b[0m\u001b[1;36m1\u001b[0m\u001b[1;33m)\u001b[0m\u001b[1;33m)\u001b[0m\u001b[1;33m:\u001b[0m\u001b[1;33m\u001b[0m\u001b[1;33m\u001b[0m\u001b[0m\n\u001b[0m\u001b[0;32m      3\u001b[0m     \u001b[1;32mif\u001b[0m \u001b[0midx\u001b[0m \u001b[1;33m==\u001b[0m \u001b[1;36m1\u001b[0m\u001b[1;33m:\u001b[0m\u001b[1;33m\u001b[0m\u001b[1;33m\u001b[0m\u001b[0m\n\u001b[0;32m      4\u001b[0m         \u001b[0mfirst\u001b[0m \u001b[1;33m=\u001b[0m \u001b[0mdatetime\u001b[0m\u001b[1;33m.\u001b[0m\u001b[0mnow\u001b[0m\u001b[1;33m(\u001b[0m\u001b[1;33m)\u001b[0m\u001b[1;33m\u001b[0m\u001b[1;33m\u001b[0m\u001b[0m\n\u001b[0;32m      5\u001b[0m         \u001b[0mprint\u001b[0m\u001b[1;33m(\u001b[0m\u001b[0mfirst\u001b[0m\u001b[1;33m-\u001b[0m\u001b[0mstart\u001b[0m\u001b[1;33m)\u001b[0m\u001b[1;33m\u001b[0m\u001b[1;33m\u001b[0m\u001b[0m\n",
      "\u001b[1;32m~\\Documents\\estnltk\\estnltk\\storage\\postgres\\subcollection.py\u001b[0m in \u001b[0;36m__iter__\u001b[1;34m(self)\u001b[0m\n\u001b[0;32m    269\u001b[0m \u001b[1;33m\u001b[0m\u001b[0m\n\u001b[0;32m    270\u001b[0m             \u001b[1;32melse\u001b[0m\u001b[1;33m:\u001b[0m\u001b[1;33m\u001b[0m\u001b[1;33m\u001b[0m\u001b[0m\n\u001b[1;32m--> 271\u001b[1;33m                 \u001b[1;32mfor\u001b[0m \u001b[0mrow\u001b[0m \u001b[1;32min\u001b[0m \u001b[0mdata_iterator\u001b[0m\u001b[1;33m:\u001b[0m\u001b[1;33m\u001b[0m\u001b[1;33m\u001b[0m\u001b[0m\n\u001b[0m\u001b[0;32m    272\u001b[0m                     \u001b[0mdata_iterator\u001b[0m\u001b[1;33m.\u001b[0m\u001b[0mset_description\u001b[0m\u001b[1;33m(\u001b[0m\u001b[1;34m'collection_id: {}'\u001b[0m\u001b[1;33m.\u001b[0m\u001b[0mformat\u001b[0m\u001b[1;33m(\u001b[0m\u001b[0mrow\u001b[0m\u001b[1;33m[\u001b[0m\u001b[1;36m0\u001b[0m\u001b[1;33m]\u001b[0m\u001b[1;33m)\u001b[0m\u001b[1;33m,\u001b[0m \u001b[0mrefresh\u001b[0m\u001b[1;33m=\u001b[0m\u001b[1;32mFalse\u001b[0m\u001b[1;33m)\u001b[0m\u001b[1;33m\u001b[0m\u001b[1;33m\u001b[0m\u001b[0m\n\u001b[0;32m    273\u001b[0m                     \u001b[1;32myield\u001b[0m \u001b[0mself\u001b[0m\u001b[1;33m.\u001b[0m\u001b[0massemble_text_object\u001b[0m\u001b[1;33m(\u001b[0m\u001b[0mrow\u001b[0m\u001b[1;33m[\u001b[0m\u001b[1;36m1\u001b[0m\u001b[1;33m]\u001b[0m\u001b[1;33m,\u001b[0m \u001b[0mrow\u001b[0m\u001b[1;33m[\u001b[0m\u001b[1;36m2\u001b[0m\u001b[1;33m:\u001b[0m\u001b[1;33m]\u001b[0m\u001b[1;33m,\u001b[0m \u001b[0mself\u001b[0m\u001b[1;33m.\u001b[0m\u001b[0mselected_layers\u001b[0m\u001b[1;33m,\u001b[0m \u001b[0mstructure\u001b[0m\u001b[1;33m)\u001b[0m\u001b[1;33m\u001b[0m\u001b[1;33m\u001b[0m\u001b[0m\n",
      "\u001b[1;32m~\\Documents\\estnltk\\estnltk\\helpers\\progressbar.py\u001b[0m in \u001b[0;36m__iter__\u001b[1;34m(self)\u001b[0m\n\u001b[0;32m     30\u001b[0m \u001b[1;33m\u001b[0m\u001b[0m\n\u001b[0;32m     31\u001b[0m     \u001b[1;32mdef\u001b[0m \u001b[0m__iter__\u001b[0m\u001b[1;33m(\u001b[0m\u001b[0mself\u001b[0m\u001b[1;33m)\u001b[0m\u001b[1;33m:\u001b[0m\u001b[1;33m\u001b[0m\u001b[1;33m\u001b[0m\u001b[0m\n\u001b[1;32m---> 32\u001b[1;33m         \u001b[1;32myield\u001b[0m \u001b[1;32mfrom\u001b[0m \u001b[0mself\u001b[0m\u001b[1;33m.\u001b[0m\u001b[0mdata_iterator\u001b[0m\u001b[1;33m\u001b[0m\u001b[1;33m\u001b[0m\u001b[0m\n\u001b[0m",
      "\u001b[1;32m~\\Anaconda3\\envs\\py36_estnltk\\lib\\site-packages\\tqdm\\notebook.py\u001b[0m in \u001b[0;36m__iter__\u001b[1;34m(self, *args, **kwargs)\u001b[0m\n\u001b[0;32m    226\u001b[0m     \u001b[1;32mdef\u001b[0m \u001b[0m__iter__\u001b[0m\u001b[1;33m(\u001b[0m\u001b[0mself\u001b[0m\u001b[1;33m,\u001b[0m \u001b[1;33m*\u001b[0m\u001b[0margs\u001b[0m\u001b[1;33m,\u001b[0m \u001b[1;33m**\u001b[0m\u001b[0mkwargs\u001b[0m\u001b[1;33m)\u001b[0m\u001b[1;33m:\u001b[0m\u001b[1;33m\u001b[0m\u001b[1;33m\u001b[0m\u001b[0m\n\u001b[0;32m    227\u001b[0m         \u001b[1;32mtry\u001b[0m\u001b[1;33m:\u001b[0m\u001b[1;33m\u001b[0m\u001b[1;33m\u001b[0m\u001b[0m\n\u001b[1;32m--> 228\u001b[1;33m             \u001b[1;32mfor\u001b[0m \u001b[0mobj\u001b[0m \u001b[1;32min\u001b[0m \u001b[0msuper\u001b[0m\u001b[1;33m(\u001b[0m\u001b[0mtqdm_notebook\u001b[0m\u001b[1;33m,\u001b[0m \u001b[0mself\u001b[0m\u001b[1;33m)\u001b[0m\u001b[1;33m.\u001b[0m\u001b[0m__iter__\u001b[0m\u001b[1;33m(\u001b[0m\u001b[1;33m*\u001b[0m\u001b[0margs\u001b[0m\u001b[1;33m,\u001b[0m \u001b[1;33m**\u001b[0m\u001b[0mkwargs\u001b[0m\u001b[1;33m)\u001b[0m\u001b[1;33m:\u001b[0m\u001b[1;33m\u001b[0m\u001b[1;33m\u001b[0m\u001b[0m\n\u001b[0m\u001b[0;32m    229\u001b[0m                 \u001b[1;31m# return super(tqdm...) will not catch exception\u001b[0m\u001b[1;33m\u001b[0m\u001b[1;33m\u001b[0m\u001b[1;33m\u001b[0m\u001b[0m\n\u001b[0;32m    230\u001b[0m                 \u001b[1;32myield\u001b[0m \u001b[0mobj\u001b[0m\u001b[1;33m\u001b[0m\u001b[1;33m\u001b[0m\u001b[0m\n",
      "\u001b[1;32m~\\Anaconda3\\envs\\py36_estnltk\\lib\\site-packages\\tqdm\\std.py\u001b[0m in \u001b[0;36m__iter__\u001b[1;34m(self)\u001b[0m\n\u001b[0;32m   1131\u001b[0m \u001b[1;33m\u001b[0m\u001b[0m\n\u001b[0;32m   1132\u001b[0m         \u001b[1;32mtry\u001b[0m\u001b[1;33m:\u001b[0m\u001b[1;33m\u001b[0m\u001b[1;33m\u001b[0m\u001b[0m\n\u001b[1;32m-> 1133\u001b[1;33m             \u001b[1;32mfor\u001b[0m \u001b[0mobj\u001b[0m \u001b[1;32min\u001b[0m \u001b[0miterable\u001b[0m\u001b[1;33m:\u001b[0m\u001b[1;33m\u001b[0m\u001b[1;33m\u001b[0m\u001b[0m\n\u001b[0m\u001b[0;32m   1134\u001b[0m                 \u001b[1;32myield\u001b[0m \u001b[0mobj\u001b[0m\u001b[1;33m\u001b[0m\u001b[1;33m\u001b[0m\u001b[0m\n\u001b[0;32m   1135\u001b[0m                 \u001b[1;31m# Update and possibly print the progressbar.\u001b[0m\u001b[1;33m\u001b[0m\u001b[1;33m\u001b[0m\u001b[1;33m\u001b[0m\u001b[0m\n",
      "\u001b[1;31mOperationalError\u001b[0m: server closed the connection unexpectedly\n\tThis probably means the server terminated abnormally\n\tbefore or while processing the request.\n"
     ]
    }
   ],
   "source": [
    "# Loops over all texts in the corpus and finds pairs from each text\n",
    "start = datetime.now()\n",
    "for idx, text in enumerate(collection.select(layers=collection.selected_layers, return_index=False, progressbar='notebook', itersize=1)):\n",
    "    if idx == 1: \n",
    "        first = datetime.now()\n",
    "        print(first-start)\n",
    "        \n",
    "    pairs = extract_pairs(text, idx)\n",
    "    cursor.executemany(\"INSERT INTO all_pairs VALUES (%s, %s, %s, %s)\", pairs)\n",
    "    con.commit()\n",
    "                \n",
    "end = datetime.now()\n",
    "print(end-first)"
   ]
  },
  {
   "cell_type": "code",
   "execution_count": 153,
   "metadata": {},
   "outputs": [],
   "source": [
    "cursor.execute(\"SELECT * FROM all_pairs_counts\")\n",
    "all_pairs = cursor.fetchall()"
   ]
  },
  {
   "cell_type": "code",
   "execution_count": 154,
   "metadata": {},
   "outputs": [
    {
     "data": {
      "text/plain": [
       "3070458"
      ]
     },
     "execution_count": 154,
     "metadata": {},
     "output_type": "execute_result"
    }
   ],
   "source": [
    "len(all_pairs)"
   ]
  }
 ],
 "metadata": {
  "kernelspec": {
   "display_name": "Python 3",
   "language": "python",
   "name": "python3"
  },
  "language_info": {
   "codemirror_mode": {
    "name": "ipython",
    "version": 3
   },
   "file_extension": ".py",
   "mimetype": "text/x-python",
   "name": "python",
   "nbconvert_exporter": "python",
   "pygments_lexer": "ipython3",
   "version": "3.6.13"
  }
 },
 "nbformat": 4,
 "nbformat_minor": 4
}
