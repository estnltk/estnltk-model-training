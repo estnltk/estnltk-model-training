{
 "cells": [
  {
   "cell_type": "code",
   "execution_count": null,
   "id": "fe93d4a4",
   "metadata": {},
   "outputs": [],
   "source": [
    "import psycopg2\n",
    "import pandas as pd\n",
    "import numpy as np\n",
    "from collections import OrderedDict"
   ]
  },
  {
   "cell_type": "markdown",
   "id": "a72ade45",
   "metadata": {},
   "source": [
    "First we need to connect to the database and fetch the pairs."
   ]
  },
  {
   "cell_type": "code",
   "execution_count": null,
   "id": "218c2a25",
   "metadata": {},
   "outputs": [],
   "source": [
    "def fetch_pairs(db_username, db_password, db_name, pair_table, word1_type, remove_infrequent = True, infrequent_count = 2):\n",
    "    con = psycopg2.connect(user = username,\n",
    "                       password = password,\n",
    "                       host = \"127.0.0.1\",\n",
    "                       port = \"5432\",\n",
    "                       database = database)\n",
    "\n",
    "    cursor = con.cursor()\n",
    "\n",
    "    if remove_infrequent:\n",
    "        cursor.execute(f\"SELECT * FROM {pair_table} WHERE {word1_type} IN (SELECT {word1_type} FROM {pair_table} GROUP BY {word1_type} HAVING COUNT(*) > {infrequent_count})\")\n",
    "    else:\n",
    "        cursor.execute(f\"SELECT * FROM {pair_table}\")\n",
    "    \n",
    "    all_pairs = cursor.fetchall() \n",
    "    \n",
    "    cursor.close()\n",
    "    \n",
    "    return all_pairs"
   ]
  },
  {
   "cell_type": "markdown",
   "id": "b8763b7b",
   "metadata": {},
   "source": [
    "To connect to the database and fetch the correct table, the function requires Postgres username, password, database and table name and the type of one word in the collocation to check frequency."
   ]
  },
  {
   "cell_type": "code",
   "execution_count": null,
   "id": "dc2c8307",
   "metadata": {},
   "outputs": [],
   "source": [
    "all_pairs = fetch_pairs(..., ..., ..., ..., ...)"
   ]
  },
  {
   "cell_type": "markdown",
   "id": "b6c26fe7",
   "metadata": {},
   "source": [
    "The following function creates a DataFrame from the pairs. The pair parameter needs to be a list of lists or a list of tuples where each list or tuple contains both words in the collocation and the count of said collocation in the data. The count needs to be the final element. For example, it could be: pairs = [(\"ilus\", \"ilm\", 256), (\"ilus\", \"lill\", 173)]."
   ]
  },
  {
   "cell_type": "code",
   "execution_count": null,
   "id": "5efcee49",
   "metadata": {},
   "outputs": [],
   "source": [
    "def create_matrix(all_pairs, save = False, path = \"df.csv\"):\n",
    "    dup_word1 = [pair[1] for pair in all_pairs]\n",
    "    word1 = list(OrderedDict.fromkeys(dup_word1))\n",
    "    \n",
    "    dup_word2 = [pair[0] for pair in all_pairs]\n",
    "    word2 = list(OrderedDict.fromkeys(dup_word2))\n",
    "        \n",
    "    data = pd.DataFrame(0, index=word1, columns=word2)\n",
    "    \n",
    "    for tup in all_pairs:\n",
    "        data.loc[tup[1], tup[0]] = tup[2]\n",
    "        \n",
    "    if save:\n",
    "        data.to_csv(path)\n",
    "        \n",
    "    return data"
   ]
  },
  {
   "cell_type": "code",
   "execution_count": null,
   "id": "3dcb3afe",
   "metadata": {},
   "outputs": [],
   "source": [
    "df = create_matrix(all_pairs)"
   ]
  }
 ],
 "metadata": {
  "kernelspec": {
   "display_name": "Python 3",
   "language": "python",
   "name": "python3"
  },
  "language_info": {
   "codemirror_mode": {
    "name": "ipython",
    "version": 3
   },
   "file_extension": ".py",
   "mimetype": "text/x-python",
   "name": "python",
   "nbconvert_exporter": "python",
   "pygments_lexer": "ipython3",
   "version": "3.6.13"
  }
 },
 "nbformat": 4,
 "nbformat_minor": 5
}
