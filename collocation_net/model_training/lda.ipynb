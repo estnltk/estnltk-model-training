{
 "cells": [
  {
   "cell_type": "code",
   "execution_count": null,
   "id": "69dbdc2c",
   "metadata": {},
   "outputs": [],
   "source": [
    "import pandas as pd\n",
    "import numpy as np\n",
    "from collections import defaultdict\n",
    "from sklearn.decomposition import LatentDirichletAllocation"
   ]
  },
  {
   "cell_type": "markdown",
   "id": "9720abb9",
   "metadata": {},
   "source": [
    "Training the LDA model and by default saving the results into separate files necessary for CollocationNet."
   ]
  },
  {
   "cell_type": "code",
   "execution_count": null,
   "id": "4158ec37",
   "metadata": {},
   "outputs": [],
   "source": [
    "def lda_training(n_components, data_path = \"df.csv\", save = True, result_path = \"data/\"):\n",
    "    data = pd.read_csv(data_path, index_col=0)\n",
    "    \n",
    "    lda = LatentDirichletAllocation(n_components=n_components, random_state=0)\n",
    "    results = lda.fit_transform(data)\n",
    "    \n",
    "    if save:\n",
    "        np.save(f\"{path}/lda_row_distribution.npy\", results)\n",
    "        np.save(f\"{path}/lda_column_distribution.npy\", lda.components_)\n",
    "        np.save(f\"{path}/rows.npy\", np.array(data.index, dtype=object))\n",
    "        np.save(f\"{path}/columns.npy\", np.array(data.columns, dtype=object))\n",
    "        \n",
    "        # creating the topics where each document is assigned to the most probable topic\n",
    "        topics = defaultdict(list)\n",
    "\n",
    "        for idx, prob in enumerate(results):\n",
    "            topics[np.argmax(prob)].append(data.index[idx])\n",
    "            \n",
    "        np.save(f\"{path}/lda_topics.npy\", np.array([np.array(xi) for xi in topics.values()]))\n",
    "        \n",
    "    # returns the fitted model\n",
    "    return lda"
   ]
  },
  {
   "cell_type": "code",
   "execution_count": null,
   "id": "419b7ed7",
   "metadata": {},
   "outputs": [],
   "source": [
    "lda_model = lda_training(1000)"
   ]
  }
 ],
 "metadata": {
  "kernelspec": {
   "display_name": "Python 3",
   "language": "python",
   "name": "python3"
  },
  "language_info": {
   "codemirror_mode": {
    "name": "ipython",
    "version": 3
   },
   "file_extension": ".py",
   "mimetype": "text/x-python",
   "name": "python",
   "nbconvert_exporter": "python",
   "pygments_lexer": "ipython3",
   "version": "3.6.13"
  }
 },
 "nbformat": 4,
 "nbformat_minor": 5
}
