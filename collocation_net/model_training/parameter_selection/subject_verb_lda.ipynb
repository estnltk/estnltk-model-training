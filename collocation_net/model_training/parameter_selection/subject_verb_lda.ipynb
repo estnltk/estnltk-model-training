{
 "cells": [
  {
   "cell_type": "markdown",
   "id": "b44026e1",
   "metadata": {},
   "source": [
    "### Imports"
   ]
  },
  {
   "cell_type": "code",
   "execution_count": 1,
   "id": "168d6db3",
   "metadata": {},
   "outputs": [],
   "source": [
    "import pandas as pd\n",
    "import numpy as np\n",
    "import time\n",
    "from datetime import timedelta, datetime\n",
    "from sklearn.decomposition import LatentDirichletAllocation"
   ]
  },
  {
   "cell_type": "markdown",
   "id": "cc4a2fdf",
   "metadata": {},
   "source": [
    "### Reading in the data"
   ]
  },
  {
   "cell_type": "code",
   "execution_count": 2,
   "id": "f57ac7e1",
   "metadata": {},
   "outputs": [],
   "source": [
    "data = pd.read_csv(\"subject_verb_df.csv\", index_col=0)"
   ]
  },
  {
   "cell_type": "code",
   "execution_count": 3,
   "id": "fbc34a52",
   "metadata": {},
   "outputs": [
    {
     "data": {
      "text/html": [
       "<div>\n",
       "<style scoped>\n",
       "    .dataframe tbody tr th:only-of-type {\n",
       "        vertical-align: middle;\n",
       "    }\n",
       "\n",
       "    .dataframe tbody tr th {\n",
       "        vertical-align: top;\n",
       "    }\n",
       "\n",
       "    .dataframe thead th {\n",
       "        text-align: right;\n",
       "    }\n",
       "</style>\n",
       "<table border=\"1\" class=\"dataframe\">\n",
       "  <thead>\n",
       "    <tr style=\"text-align: right;\">\n",
       "      <th></th>\n",
       "      <th>olema</th>\n",
       "      <th>teadma</th>\n",
       "      <th>ütlema</th>\n",
       "      <th>tahtma</th>\n",
       "      <th>saama</th>\n",
       "      <th>tähendama</th>\n",
       "      <th>tegema</th>\n",
       "      <th>lisama</th>\n",
       "      <th>arvama</th>\n",
       "      <th>nägema</th>\n",
       "      <th>...</th>\n",
       "      <th>kiduma</th>\n",
       "      <th>klõbisema</th>\n",
       "      <th>runnima</th>\n",
       "      <th>viidsima</th>\n",
       "      <th>pritsuma</th>\n",
       "      <th>ketaalima</th>\n",
       "      <th>seiduma</th>\n",
       "      <th>ücima</th>\n",
       "      <th>müübima</th>\n",
       "      <th>juksima</th>\n",
       "    </tr>\n",
       "  </thead>\n",
       "  <tbody>\n",
       "    <tr>\n",
       "      <th>tema</th>\n",
       "      <td>210031</td>\n",
       "      <td>15303</td>\n",
       "      <td>43006</td>\n",
       "      <td>22397</td>\n",
       "      <td>37392</td>\n",
       "      <td>829</td>\n",
       "      <td>33115</td>\n",
       "      <td>31796</td>\n",
       "      <td>7440</td>\n",
       "      <td>11059</td>\n",
       "      <td>...</td>\n",
       "      <td>0</td>\n",
       "      <td>0</td>\n",
       "      <td>0</td>\n",
       "      <td>0</td>\n",
       "      <td>0</td>\n",
       "      <td>0</td>\n",
       "      <td>0</td>\n",
       "      <td>0</td>\n",
       "      <td>0</td>\n",
       "      <td>0</td>\n",
       "    </tr>\n",
       "    <tr>\n",
       "      <th>mina</th>\n",
       "      <td>122824</td>\n",
       "      <td>48357</td>\n",
       "      <td>22122</td>\n",
       "      <td>41302</td>\n",
       "      <td>39695</td>\n",
       "      <td>131</td>\n",
       "      <td>29568</td>\n",
       "      <td>659</td>\n",
       "      <td>30362</td>\n",
       "      <td>21060</td>\n",
       "      <td>...</td>\n",
       "      <td>0</td>\n",
       "      <td>0</td>\n",
       "      <td>3</td>\n",
       "      <td>3</td>\n",
       "      <td>0</td>\n",
       "      <td>0</td>\n",
       "      <td>0</td>\n",
       "      <td>3</td>\n",
       "      <td>0</td>\n",
       "      <td>0</td>\n",
       "    </tr>\n",
       "    <tr>\n",
       "      <th>see</th>\n",
       "      <td>498627</td>\n",
       "      <td>2305</td>\n",
       "      <td>1064</td>\n",
       "      <td>868</td>\n",
       "      <td>7488</td>\n",
       "      <td>38195</td>\n",
       "      <td>10684</td>\n",
       "      <td>820</td>\n",
       "      <td>201</td>\n",
       "      <td>1968</td>\n",
       "      <td>...</td>\n",
       "      <td>0</td>\n",
       "      <td>0</td>\n",
       "      <td>0</td>\n",
       "      <td>0</td>\n",
       "      <td>3</td>\n",
       "      <td>0</td>\n",
       "      <td>0</td>\n",
       "      <td>0</td>\n",
       "      <td>0</td>\n",
       "      <td>0</td>\n",
       "    </tr>\n",
       "    <tr>\n",
       "      <th>mis</th>\n",
       "      <td>159528</td>\n",
       "      <td>607</td>\n",
       "      <td>2033</td>\n",
       "      <td>1970</td>\n",
       "      <td>17968</td>\n",
       "      <td>12900</td>\n",
       "      <td>11499</td>\n",
       "      <td>564</td>\n",
       "      <td>739</td>\n",
       "      <td>3730</td>\n",
       "      <td>...</td>\n",
       "      <td>0</td>\n",
       "      <td>0</td>\n",
       "      <td>0</td>\n",
       "      <td>0</td>\n",
       "      <td>0</td>\n",
       "      <td>0</td>\n",
       "      <td>0</td>\n",
       "      <td>0</td>\n",
       "      <td>0</td>\n",
       "      <td>0</td>\n",
       "    </tr>\n",
       "    <tr>\n",
       "      <th>kes</th>\n",
       "      <td>81930</td>\n",
       "      <td>8050</td>\n",
       "      <td>4846</td>\n",
       "      <td>15278</td>\n",
       "      <td>16658</td>\n",
       "      <td>34</td>\n",
       "      <td>13727</td>\n",
       "      <td>303</td>\n",
       "      <td>2673</td>\n",
       "      <td>3735</td>\n",
       "      <td>...</td>\n",
       "      <td>0</td>\n",
       "      <td>0</td>\n",
       "      <td>0</td>\n",
       "      <td>0</td>\n",
       "      <td>0</td>\n",
       "      <td>0</td>\n",
       "      <td>0</td>\n",
       "      <td>0</td>\n",
       "      <td>0</td>\n",
       "      <td>0</td>\n",
       "    </tr>\n",
       "  </tbody>\n",
       "</table>\n",
       "<p>5 rows × 4156 columns</p>\n",
       "</div>"
      ],
      "text/plain": [
       "       olema  teadma  ütlema  tahtma  saama  tähendama  tegema  lisama  \\\n",
       "tema  210031   15303   43006   22397  37392        829   33115   31796   \n",
       "mina  122824   48357   22122   41302  39695        131   29568     659   \n",
       "see   498627    2305    1064     868   7488      38195   10684     820   \n",
       "mis   159528     607    2033    1970  17968      12900   11499     564   \n",
       "kes    81930    8050    4846   15278  16658         34   13727     303   \n",
       "\n",
       "      arvama  nägema  ...  kiduma  klõbisema  runnima  viidsima  pritsuma  \\\n",
       "tema    7440   11059  ...       0          0        0         0         0   \n",
       "mina   30362   21060  ...       0          0        3         3         0   \n",
       "see      201    1968  ...       0          0        0         0         3   \n",
       "mis      739    3730  ...       0          0        0         0         0   \n",
       "kes     2673    3735  ...       0          0        0         0         0   \n",
       "\n",
       "      ketaalima  seiduma  ücima  müübima  juksima  \n",
       "tema          0        0      0        0        0  \n",
       "mina          0        0      3        0        0  \n",
       "see           0        0      0        0        0  \n",
       "mis           0        0      0        0        0  \n",
       "kes           0        0      0        0        0  \n",
       "\n",
       "[5 rows x 4156 columns]"
      ]
     },
     "execution_count": 3,
     "metadata": {},
     "output_type": "execute_result"
    }
   ],
   "source": [
    "data.head()"
   ]
  },
  {
   "cell_type": "markdown",
   "id": "2e8181fe",
   "metadata": {},
   "source": [
    "### Optimizing LDA"
   ]
  },
  {
   "cell_type": "code",
   "execution_count": 8,
   "id": "58273fd3",
   "metadata": {},
   "outputs": [
    {
     "name": "stdout",
     "output_type": "stream",
     "text": [
      "22:35:25.102685\n",
      "Model with 100 topics fitted and perplexity found at 22:37:47.763166.\n",
      "Model with 200 topics fitted and perplexity found at 22:40:43.494254.\n",
      "Model with 300 topics fitted and perplexity found at 22:43:58.398523.\n",
      "Model with 400 topics fitted and perplexity found at 22:48:45.942719.\n",
      "Model with 500 topics fitted and perplexity found at 22:54:23.206261.\n",
      "Model with 600 topics fitted and perplexity found at 23:00:55.408838.\n",
      "Model with 700 topics fitted and perplexity found at 23:08:02.447626.\n",
      "Model with 800 topics fitted and perplexity found at 23:18:50.245668.\n",
      "Model with 900 topics fitted and perplexity found at 23:30:50.589157.\n",
      "23:30:50.589157\n",
      "0:55:25.486471\n"
     ]
    }
   ],
   "source": [
    "print(str(timedelta(seconds=time.time()+7200)).split(\", \")[1])\n",
    "start = datetime.now()\n",
    "\n",
    "models = {}\n",
    "perplexities = {}\n",
    "\n",
    "for n in range(100, 1001, 100):\n",
    "    model = LatentDirichletAllocation(n_components=n, random_state=0)\n",
    "    model.fit(data)\n",
    "    perplexity = model.perplexity(data)\n",
    "    print(f\"Model with {n} topics fitted and perplexity found at {str(timedelta(seconds=time.time()+7200)).split(', ')[1]}.\")\n",
    "    models[n] = model\n",
    "    perplexities[n] = perplexity\n",
    "            \n",
    "print(str(timedelta(seconds=time.time()+7200)).split(\", \")[1])\n",
    "print(datetime.now()-start)"
   ]
  },
  {
   "cell_type": "code",
   "execution_count": 11,
   "id": "d3d23401",
   "metadata": {},
   "outputs": [
    {
     "data": {
      "text/plain": [
       "{100: 48.01630474857055,\n",
       " 200: 46.66987225967397,\n",
       " 300: 46.24480662749796,\n",
       " 400: 46.165810812059675,\n",
       " 500: 46.068828990222364,\n",
       " 600: 46.21341437770039,\n",
       " 700: 46.064371848637165,\n",
       " 800: 46.08773037929652,\n",
       " 900: 46.222410434480494,\n",
       " 1000: 46.31603480485893}"
      ]
     },
     "execution_count": 11,
     "metadata": {},
     "output_type": "execute_result"
    }
   ],
   "source": [
    "perplexities"
   ]
  },
  {
   "cell_type": "code",
   "execution_count": 12,
   "id": "c365f329",
   "metadata": {},
   "outputs": [],
   "source": [
    "from matplotlib import pyplot as plt"
   ]
  },
  {
   "cell_type": "code",
   "execution_count": 13,
   "id": "d5dd18f9",
   "metadata": {},
   "outputs": [
    {
     "data": {
      "text/plain": [
       "Text(0, 0.5, 'Perplexity')"
      ]
     },
     "execution_count": 13,
     "metadata": {},
     "output_type": "execute_result"
    },
    {
     "data": {
      "image/png": "[encoded data removed]",
      "text/plain": [
       "<Figure size 504x504 with 1 Axes>"
      ]
     },
     "metadata": {
      "needs_background": "light"
     },
     "output_type": "display_data"
    }
   ],
   "source": [
    "plt.figure(figsize=(7, 7))\n",
    "\n",
    "plt.plot(list(range(100, 1001, 100)), perplexities.values())\n",
    "\n",
    "plt.title(\"Optimaalse teemade arvu valimine\")\n",
    "plt.xlabel(\"Teemade arv\")\n",
    "plt.ylabel(\"Perplexity\")"
   ]
  },
  {
   "cell_type": "code",
   "execution_count": 14,
   "id": "820db64a",
   "metadata": {},
   "outputs": [
    {
     "name": "stdout",
     "output_type": "stream",
     "text": [
      "23:44:20.047292\n",
      "Model with 450 topics fitted and perplexity found at 23:49:50.617071.\n",
      "Model with 550 topics fitted and perplexity found at 23:56:35.587786.\n",
      "Model with 650 topics fitted and perplexity found at 0:04:36.145541.\n",
      "Model with 750 topics fitted and perplexity found at 0:15:39.396434.\n",
      "0:15:39.396434\n",
      "0:31:19.349143\n"
     ]
    }
   ],
   "source": [
    "print(str(timedelta(seconds=time.time()+7200)).split(\", \")[1])\n",
    "start = datetime.now()\n",
    "\n",
    "for n in [450, 550, 650, 750]:\n",
    "    model = LatentDirichletAllocation(n_components=n, random_state=0)\n",
    "    model.fit(data)\n",
    "    perplexity = model.perplexity(data)\n",
    "    print(f\"Model with {n} topics fitted and perplexity found at {str(timedelta(seconds=time.time()+7200)).split(', ')[1]}.\")\n",
    "    models[n] = model\n",
    "    perplexities[n] = perplexity\n",
    "    \n",
    "print(str(timedelta(seconds=time.time()+7200)).split(\", \")[1])\n",
    "print(datetime.now()-start)"
   ]
  },
  {
   "cell_type": "code",
   "execution_count": 15,
   "id": "4fdf560d",
   "metadata": {},
   "outputs": [
    {
     "data": {
      "text/plain": [
       "{100: 48.01630474857055,\n",
       " 200: 46.66987225967397,\n",
       " 300: 46.24480662749796,\n",
       " 400: 46.165810812059675,\n",
       " 500: 46.068828990222364,\n",
       " 600: 46.21341437770039,\n",
       " 700: 46.064371848637165,\n",
       " 800: 46.08773037929652,\n",
       " 900: 46.222410434480494,\n",
       " 1000: 46.31603480485893,\n",
       " 450: 46.13878668531047,\n",
       " 550: 46.11593848930136,\n",
       " 650: 46.1779175859795,\n",
       " 750: 46.14975992662555}"
      ]
     },
     "execution_count": 15,
     "metadata": {},
     "output_type": "execute_result"
    }
   ],
   "source": [
    "perplexities"
   ]
  },
  {
   "cell_type": "code",
   "execution_count": 16,
   "id": "6cf39666",
   "metadata": {},
   "outputs": [
    {
     "data": {
      "text/plain": [
       "Text(0, 0.5, 'Perplexity')"
      ]
     },
     "execution_count": 16,
     "metadata": {},
     "output_type": "execute_result"
    },
    {
     "data": {
      "image/png": "[encoded data removed]",
      "text/plain": [
       "<Figure size 504x504 with 1 Axes>"
      ]
     },
     "metadata": {
      "needs_background": "light"
     },
     "output_type": "display_data"
    }
   ],
   "source": [
    "plt.figure(figsize=(7, 7))\n",
    "\n",
    "keys = [100, 200, 300, 400, 450, 500, 550, 600, 700, 800, 900]\n",
    "\n",
    "plt.plot(keys, [perplexities[key] for key in keys])\n",
    "\n",
    "plt.title(\"Optimaalse teemade arvu valimine\")\n",
    "plt.xlabel(\"Teemade arv\")\n",
    "plt.ylabel(\"Perplexity\")"
   ]
  }
 ],
 "metadata": {
  "kernelspec": {
   "display_name": "Python 3",
   "language": "python",
   "name": "python3"
  },
  "language_info": {
   "codemirror_mode": {
    "name": "ipython",
    "version": 3
   },
   "file_extension": ".py",
   "mimetype": "text/x-python",
   "name": "python",
   "nbconvert_exporter": "python",
   "pygments_lexer": "ipython3",
   "version": "3.6.13"
  }
 },
 "nbformat": 4,
 "nbformat_minor": 5
}
