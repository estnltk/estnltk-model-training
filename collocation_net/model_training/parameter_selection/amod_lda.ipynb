{
 "cells": [
  {
   "cell_type": "markdown",
   "id": "b44026e1",
   "metadata": {},
   "source": [
    "### Imports"
   ]
  },
  {
   "cell_type": "code",
   "execution_count": 1,
   "id": "168d6db3",
   "metadata": {},
   "outputs": [],
   "source": [
    "import pandas as pd\n",
    "import numpy as np\n",
    "import time\n",
    "from datetime import timedelta, datetime\n",
    "from sklearn.decomposition import LatentDirichletAllocation"
   ]
  },
  {
   "cell_type": "markdown",
   "id": "cc4a2fdf",
   "metadata": {},
   "source": [
    "### Reading in the data"
   ]
  },
  {
   "cell_type": "code",
   "execution_count": 2,
   "id": "f57ac7e1",
   "metadata": {},
   "outputs": [],
   "source": [
    "data = pd.read_csv(\"amod_df.csv\", index_col=0)"
   ]
  },
  {
   "cell_type": "code",
   "execution_count": 3,
   "id": "fbc34a52",
   "metadata": {},
   "outputs": [
    {
     "data": {
      "text/html": [
       "<div>\n",
       "<style scoped>\n",
       "    .dataframe tbody tr th:only-of-type {\n",
       "        vertical-align: middle;\n",
       "    }\n",
       "\n",
       "    .dataframe tbody tr th {\n",
       "        vertical-align: top;\n",
       "    }\n",
       "\n",
       "    .dataframe thead th {\n",
       "        text-align: right;\n",
       "    }\n",
       "</style>\n",
       "<table border=\"1\" class=\"dataframe\">\n",
       "  <thead>\n",
       "    <tr style=\"text-align: right;\">\n",
       "      <th></th>\n",
       "      <th>eelmine</th>\n",
       "      <th>järgmine</th>\n",
       "      <th>eesti</th>\n",
       "      <th>esimene</th>\n",
       "      <th>viimane</th>\n",
       "      <th>kohalik</th>\n",
       "      <th>suur</th>\n",
       "      <th>1999.</th>\n",
       "      <th>1998.</th>\n",
       "      <th>1997.</th>\n",
       "      <th>...</th>\n",
       "      <th>süvim</th>\n",
       "      <th>energiakullane</th>\n",
       "      <th>voimalustene</th>\n",
       "      <th>asustuslik</th>\n",
       "      <th>aeronavigatsiooniline</th>\n",
       "      <th>sihukne</th>\n",
       "      <th>paarisajamegane</th>\n",
       "      <th>sajamegane</th>\n",
       "      <th>päritav</th>\n",
       "      <th>endis-eesti</th>\n",
       "    </tr>\n",
       "  </thead>\n",
       "  <tbody>\n",
       "    <tr>\n",
       "      <th>aasta</th>\n",
       "      <td>52675</td>\n",
       "      <td>37528</td>\n",
       "      <td>26</td>\n",
       "      <td>3933</td>\n",
       "      <td>24376</td>\n",
       "      <td>7</td>\n",
       "      <td>31</td>\n",
       "      <td>18611</td>\n",
       "      <td>17056</td>\n",
       "      <td>16967</td>\n",
       "      <td>...</td>\n",
       "      <td>0</td>\n",
       "      <td>0</td>\n",
       "      <td>0</td>\n",
       "      <td>0</td>\n",
       "      <td>0</td>\n",
       "      <td>0</td>\n",
       "      <td>0</td>\n",
       "      <td>0</td>\n",
       "      <td>0</td>\n",
       "      <td>0</td>\n",
       "    </tr>\n",
       "    <tr>\n",
       "      <th>aeg</th>\n",
       "      <td>102</td>\n",
       "      <td>68</td>\n",
       "      <td>228</td>\n",
       "      <td>126</td>\n",
       "      <td>27393</td>\n",
       "      <td>1359</td>\n",
       "      <td>149</td>\n",
       "      <td>0</td>\n",
       "      <td>0</td>\n",
       "      <td>0</td>\n",
       "      <td>...</td>\n",
       "      <td>0</td>\n",
       "      <td>0</td>\n",
       "      <td>0</td>\n",
       "      <td>0</td>\n",
       "      <td>0</td>\n",
       "      <td>0</td>\n",
       "      <td>0</td>\n",
       "      <td>0</td>\n",
       "      <td>0</td>\n",
       "      <td>0</td>\n",
       "    </tr>\n",
       "    <tr>\n",
       "      <th>keel</th>\n",
       "      <td>9</td>\n",
       "      <td>11</td>\n",
       "      <td>29119</td>\n",
       "      <td>87</td>\n",
       "      <td>24</td>\n",
       "      <td>448</td>\n",
       "      <td>89</td>\n",
       "      <td>0</td>\n",
       "      <td>0</td>\n",
       "      <td>0</td>\n",
       "      <td>...</td>\n",
       "      <td>0</td>\n",
       "      <td>0</td>\n",
       "      <td>0</td>\n",
       "      <td>0</td>\n",
       "      <td>0</td>\n",
       "      <td>0</td>\n",
       "      <td>0</td>\n",
       "      <td>0</td>\n",
       "      <td>0</td>\n",
       "      <td>0</td>\n",
       "    </tr>\n",
       "    <tr>\n",
       "      <th>osa</th>\n",
       "      <td>195</td>\n",
       "      <td>429</td>\n",
       "      <td>14</td>\n",
       "      <td>3125</td>\n",
       "      <td>920</td>\n",
       "      <td>14</td>\n",
       "      <td>21798</td>\n",
       "      <td>0</td>\n",
       "      <td>0</td>\n",
       "      <td>0</td>\n",
       "      <td>...</td>\n",
       "      <td>0</td>\n",
       "      <td>0</td>\n",
       "      <td>0</td>\n",
       "      <td>0</td>\n",
       "      <td>0</td>\n",
       "      <td>0</td>\n",
       "      <td>0</td>\n",
       "      <td>0</td>\n",
       "      <td>0</td>\n",
       "      <td>0</td>\n",
       "    </tr>\n",
       "    <tr>\n",
       "      <th>inimene</th>\n",
       "      <td>9</td>\n",
       "      <td>66</td>\n",
       "      <td>726</td>\n",
       "      <td>800</td>\n",
       "      <td>336</td>\n",
       "      <td>1149</td>\n",
       "      <td>532</td>\n",
       "      <td>0</td>\n",
       "      <td>0</td>\n",
       "      <td>0</td>\n",
       "      <td>...</td>\n",
       "      <td>0</td>\n",
       "      <td>0</td>\n",
       "      <td>0</td>\n",
       "      <td>0</td>\n",
       "      <td>0</td>\n",
       "      <td>0</td>\n",
       "      <td>0</td>\n",
       "      <td>0</td>\n",
       "      <td>0</td>\n",
       "      <td>0</td>\n",
       "    </tr>\n",
       "  </tbody>\n",
       "</table>\n",
       "<p>5 rows × 17681 columns</p>\n",
       "</div>"
      ],
      "text/plain": [
       "         eelmine  järgmine  eesti  esimene  viimane  kohalik   suur  1999.  \\\n",
       "aasta      52675     37528     26     3933    24376        7     31  18611   \n",
       "aeg          102        68    228      126    27393     1359    149      0   \n",
       "keel           9        11  29119       87       24      448     89      0   \n",
       "osa          195       429     14     3125      920       14  21798      0   \n",
       "inimene        9        66    726      800      336     1149    532      0   \n",
       "\n",
       "         1998.  1997.  ...  süvim  energiakullane  voimalustene  asustuslik  \\\n",
       "aasta    17056  16967  ...      0               0             0           0   \n",
       "aeg          0      0  ...      0               0             0           0   \n",
       "keel         0      0  ...      0               0             0           0   \n",
       "osa          0      0  ...      0               0             0           0   \n",
       "inimene      0      0  ...      0               0             0           0   \n",
       "\n",
       "         aeronavigatsiooniline  sihukne  paarisajamegane  sajamegane  päritav  \\\n",
       "aasta                        0        0                0           0        0   \n",
       "aeg                          0        0                0           0        0   \n",
       "keel                         0        0                0           0        0   \n",
       "osa                          0        0                0           0        0   \n",
       "inimene                      0        0                0           0        0   \n",
       "\n",
       "         endis-eesti  \n",
       "aasta              0  \n",
       "aeg                0  \n",
       "keel               0  \n",
       "osa                0  \n",
       "inimene            0  \n",
       "\n",
       "[5 rows x 17681 columns]"
      ]
     },
     "execution_count": 3,
     "metadata": {},
     "output_type": "execute_result"
    }
   ],
   "source": [
    "data.head()"
   ]
  },
  {
   "cell_type": "markdown",
   "id": "2e8181fe",
   "metadata": {},
   "source": [
    "### Optimizing LDA"
   ]
  },
  {
   "cell_type": "code",
   "execution_count": 4,
   "id": "58273fd3",
   "metadata": {},
   "outputs": [
    {
     "name": "stdout",
     "output_type": "stream",
     "text": [
      "2:20:16.376683\n",
      "Model with 100 topics fitted and perplexity found at 2:25:32.658582.\n",
      "Model with 200 topics fitted and perplexity found at 2:31:38.221098.\n",
      "Model with 300 topics fitted and perplexity found at 2:36:59.589746.\n",
      "Model with 400 topics fitted and perplexity found at 2:43:49.484042.\n",
      "Model with 500 topics fitted and perplexity found at 2:50:45.254550.\n",
      "Model with 600 topics fitted and perplexity found at 2:58:30.325807.\n",
      "Model with 700 topics fitted and perplexity found at 3:06:47.115174.\n",
      "Model with 800 topics fitted and perplexity found at 3:18:12.868665.\n",
      "Model with 900 topics fitted and perplexity found at 3:31:22.035923.\n",
      "Model with 1000 topics fitted and perplexity found at 3:44:53.857198.\n",
      "3:44:53.864189\n",
      "1:24:37.487505\n"
     ]
    }
   ],
   "source": [
    "print(str(timedelta(seconds=time.time()+7200)).split(\", \")[1])\n",
    "start = datetime.now()\n",
    "\n",
    "models = {}\n",
    "perplexities = {}\n",
    "\n",
    "for n in range(100, 1001, 100):\n",
    "    model = LatentDirichletAllocation(n_components=n, random_state=0)\n",
    "    model.fit(data)\n",
    "    perplexity = model.perplexity(data)\n",
    "    print(f\"Model with {n} topics fitted and perplexity found at {str(timedelta(seconds=time.time()+7200)).split(', ')[1]}.\")\n",
    "    models[n] = model\n",
    "    perplexities[n] = perplexity\n",
    "            \n",
    "print(str(timedelta(seconds=time.time()+7200)).split(\", \")[1])\n",
    "print(datetime.now()-start)"
   ]
  },
  {
   "cell_type": "code",
   "execution_count": 5,
   "id": "408a34d3",
   "metadata": {},
   "outputs": [
    {
     "data": {
      "text/plain": [
       "{100: 96.59966662144033,\n",
       " 200: 78.86409815172222,\n",
       " 300: 71.68968670621116,\n",
       " 400: 67.97770180966752,\n",
       " 500: 65.03065983184855,\n",
       " 600: 63.200791448716764,\n",
       " 700: 61.377659496058136,\n",
       " 800: 60.90168528114376,\n",
       " 900: 59.83497902083938,\n",
       " 1000: 59.2147704003825}"
      ]
     },
     "execution_count": 5,
     "metadata": {},
     "output_type": "execute_result"
    }
   ],
   "source": [
    "perplexities"
   ]
  },
  {
   "cell_type": "code",
   "execution_count": 6,
   "id": "c365f329",
   "metadata": {},
   "outputs": [],
   "source": [
    "from matplotlib import pyplot as plt"
   ]
  },
  {
   "cell_type": "code",
   "execution_count": 7,
   "id": "d5dd18f9",
   "metadata": {},
   "outputs": [
    {
     "data": {
      "text/plain": [
       "Text(0, 0.5, 'Perplexity')"
      ]
     },
     "execution_count": 7,
     "metadata": {},
     "output_type": "execute_result"
    },
    {
     "data": {
      "image/png": "[encoded data removed]",
      "text/plain": [
       "<Figure size 504x504 with 1 Axes>"
      ]
     },
     "metadata": {
      "needs_background": "light"
     },
     "output_type": "display_data"
    }
   ],
   "source": [
    "plt.figure(figsize=(7, 7))\n",
    "\n",
    "plt.plot(list(range(100, 1001, 100)), perplexities.values())\n",
    "\n",
    "plt.title(\"Optimaalse teemade arvu valimine\")\n",
    "plt.xlabel(\"Teemade arv\")\n",
    "plt.ylabel(\"Perplexity\")"
   ]
  },
  {
   "cell_type": "code",
   "execution_count": 8,
   "id": "820db64a",
   "metadata": {},
   "outputs": [
    {
     "name": "stdout",
     "output_type": "stream",
     "text": [
      "3:47:48.425666\n",
      "Model with 950 topics fitted and perplexity found at 4:01:02.033112.\n",
      "Model with 1050 topics fitted and perplexity found at 4:14:56.452686.\n",
      "Model with 1100 topics fitted and perplexity found at 4:28:54.819922.\n",
      "Model with 1150 topics fitted and perplexity found at 4:42:33.271184.\n",
      "Model with 1200 topics fitted and perplexity found at 4:58:24.053495.\n",
      "4:58:24.054495\n",
      "1:10:35.628830\n"
     ]
    }
   ],
   "source": [
    "print(str(timedelta(seconds=time.time()+7200)).split(\", \")[1])\n",
    "start = datetime.now()\n",
    "\n",
    "for n in [950, 1050, 1100, 1150, 1200]:\n",
    "    model = LatentDirichletAllocation(n_components=n, random_state=0)\n",
    "    model.fit(data)\n",
    "    perplexity = model.perplexity(data)\n",
    "    print(f\"Model with {n} topics fitted and perplexity found at {str(timedelta(seconds=time.time()+7200)).split(', ')[1]}.\")\n",
    "    models[n] = model\n",
    "    perplexities[n] = perplexity\n",
    "    \n",
    "print(str(timedelta(seconds=time.time()+7200)).split(\", \")[1])\n",
    "print(datetime.now()-start)"
   ]
  },
  {
   "cell_type": "code",
   "execution_count": 9,
   "id": "4fdf560d",
   "metadata": {},
   "outputs": [
    {
     "data": {
      "text/plain": [
       "{100: 96.59966662144033,\n",
       " 200: 78.86409815172222,\n",
       " 300: 71.68968670621116,\n",
       " 400: 67.97770180966752,\n",
       " 500: 65.03065983184855,\n",
       " 600: 63.200791448716764,\n",
       " 700: 61.377659496058136,\n",
       " 800: 60.90168528114376,\n",
       " 900: 59.83497902083938,\n",
       " 1000: 59.2147704003825,\n",
       " 950: 59.49648880378315,\n",
       " 1050: 58.931819115360796,\n",
       " 1100: 58.503604904113686,\n",
       " 1150: 58.78513509596531,\n",
       " 1200: 58.70448590519751}"
      ]
     },
     "execution_count": 9,
     "metadata": {},
     "output_type": "execute_result"
    }
   ],
   "source": [
    "perplexities"
   ]
  },
  {
   "cell_type": "code",
   "execution_count": 10,
   "id": "6cf39666",
   "metadata": {},
   "outputs": [
    {
     "data": {
      "text/plain": [
       "Text(0, 0.5, 'Perplexity')"
      ]
     },
     "execution_count": 10,
     "metadata": {},
     "output_type": "execute_result"
    },
    {
     "data": {
      "image/png": "[encoded data removed]",
      "text/plain": [
       "<Figure size 504x504 with 1 Axes>"
      ]
     },
     "metadata": {
      "needs_background": "light"
     },
     "output_type": "display_data"
    }
   ],
   "source": [
    "plt.figure(figsize=(7, 7))\n",
    "\n",
    "keys = [100, 200, 300, 400, 500, 600, 700, 800, 900, 950, 1000, 1050, 1100, 1150, 1200]\n",
    "\n",
    "plt.plot(keys, [perplexities[key] for key in keys])\n",
    "\n",
    "plt.title(\"Optimaalse teemade arvu valimine\")\n",
    "plt.xlabel(\"Teemade arv\")\n",
    "plt.ylabel(\"Perplexity\")"
   ]
  }
 ],
 "metadata": {
  "kernelspec": {
   "display_name": "Python 3",
   "language": "python",
   "name": "python3"
  },
  "language_info": {
   "codemirror_mode": {
    "name": "ipython",
    "version": 3
   },
   "file_extension": ".py",
   "mimetype": "text/x-python",
   "name": "python",
   "nbconvert_exporter": "python",
   "pygments_lexer": "ipython3",
   "version": "3.6.13"
  }
 },
 "nbformat": 4,
 "nbformat_minor": 5
}
