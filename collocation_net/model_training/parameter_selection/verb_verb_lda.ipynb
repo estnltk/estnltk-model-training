{
 "cells": [
  {
   "cell_type": "markdown",
   "id": "b44026e1",
   "metadata": {},
   "source": [
    "### Imports"
   ]
  },
  {
   "cell_type": "code",
   "execution_count": 18,
   "id": "168d6db3",
   "metadata": {},
   "outputs": [],
   "source": [
    "import pandas as pd\n",
    "import numpy as np\n",
    "import time\n",
    "from datetime import timedelta, datetime\n",
    "from sklearn.decomposition import LatentDirichletAllocation"
   ]
  },
  {
   "cell_type": "markdown",
   "id": "cc4a2fdf",
   "metadata": {},
   "source": [
    "### Reading in the data"
   ]
  },
  {
   "cell_type": "code",
   "execution_count": 19,
   "id": "f57ac7e1",
   "metadata": {},
   "outputs": [],
   "source": [
    "data = pd.read_csv(\"verb_verb_df.csv\", index_col=0)"
   ]
  },
  {
   "cell_type": "code",
   "execution_count": 20,
   "id": "fbc34a52",
   "metadata": {},
   "outputs": [
    {
     "data": {
      "text/html": [
       "<div>\n",
       "<style scoped>\n",
       "    .dataframe tbody tr th:only-of-type {\n",
       "        vertical-align: middle;\n",
       "    }\n",
       "\n",
       "    .dataframe tbody tr th {\n",
       "        vertical-align: top;\n",
       "    }\n",
       "\n",
       "    .dataframe thead th {\n",
       "        text-align: right;\n",
       "    }\n",
       "</style>\n",
       "<table border=\"1\" class=\"dataframe\">\n",
       "  <thead>\n",
       "    <tr style=\"text-align: right;\">\n",
       "      <th></th>\n",
       "      <th>olema</th>\n",
       "      <th>saama</th>\n",
       "      <th>hakkama</th>\n",
       "      <th>tegema</th>\n",
       "      <th>pidama</th>\n",
       "      <th>võima</th>\n",
       "      <th>teadma</th>\n",
       "      <th>ütlema</th>\n",
       "      <th>võtma</th>\n",
       "      <th>maksma</th>\n",
       "      <th>...</th>\n",
       "      <th>chillima</th>\n",
       "      <th>tartuma</th>\n",
       "      <th>irnuma</th>\n",
       "      <th>indutseerima</th>\n",
       "      <th>kategoriseerima</th>\n",
       "      <th>lohkuda-eemaldama</th>\n",
       "      <th>portima</th>\n",
       "      <th>pingima</th>\n",
       "      <th>shellima</th>\n",
       "      <th>kumuleeruma</th>\n",
       "    </tr>\n",
       "  </thead>\n",
       "  <tbody>\n",
       "    <tr>\n",
       "      <th>olema</th>\n",
       "      <td>88780</td>\n",
       "      <td>15838</td>\n",
       "      <td>3867</td>\n",
       "      <td>15221</td>\n",
       "      <td>13144</td>\n",
       "      <td>8397</td>\n",
       "      <td>3830</td>\n",
       "      <td>11929</td>\n",
       "      <td>8215</td>\n",
       "      <td>3418</td>\n",
       "      <td>...</td>\n",
       "      <td>0</td>\n",
       "      <td>0</td>\n",
       "      <td>0</td>\n",
       "      <td>0</td>\n",
       "      <td>0</td>\n",
       "      <td>0</td>\n",
       "      <td>0</td>\n",
       "      <td>0</td>\n",
       "      <td>0</td>\n",
       "      <td>0</td>\n",
       "    </tr>\n",
       "    <tr>\n",
       "      <th>saama</th>\n",
       "      <td>74807</td>\n",
       "      <td>9155</td>\n",
       "      <td>30256</td>\n",
       "      <td>6187</td>\n",
       "      <td>20701</td>\n",
       "      <td>21872</td>\n",
       "      <td>20913</td>\n",
       "      <td>7636</td>\n",
       "      <td>3278</td>\n",
       "      <td>2030</td>\n",
       "      <td>...</td>\n",
       "      <td>0</td>\n",
       "      <td>0</td>\n",
       "      <td>0</td>\n",
       "      <td>0</td>\n",
       "      <td>0</td>\n",
       "      <td>0</td>\n",
       "      <td>0</td>\n",
       "      <td>0</td>\n",
       "      <td>0</td>\n",
       "      <td>0</td>\n",
       "    </tr>\n",
       "    <tr>\n",
       "      <th>teadma</th>\n",
       "      <td>43634</td>\n",
       "      <td>10185</td>\n",
       "      <td>2588</td>\n",
       "      <td>7105</td>\n",
       "      <td>7853</td>\n",
       "      <td>2385</td>\n",
       "      <td>3279</td>\n",
       "      <td>6165</td>\n",
       "      <td>2192</td>\n",
       "      <td>1041</td>\n",
       "      <td>...</td>\n",
       "      <td>0</td>\n",
       "      <td>0</td>\n",
       "      <td>0</td>\n",
       "      <td>0</td>\n",
       "      <td>0</td>\n",
       "      <td>0</td>\n",
       "      <td>0</td>\n",
       "      <td>0</td>\n",
       "      <td>0</td>\n",
       "      <td>0</td>\n",
       "    </tr>\n",
       "    <tr>\n",
       "      <th>tegema</th>\n",
       "      <td>78994</td>\n",
       "      <td>36424</td>\n",
       "      <td>2563</td>\n",
       "      <td>7191</td>\n",
       "      <td>24594</td>\n",
       "      <td>19587</td>\n",
       "      <td>2347</td>\n",
       "      <td>8139</td>\n",
       "      <td>3996</td>\n",
       "      <td>1255</td>\n",
       "      <td>...</td>\n",
       "      <td>0</td>\n",
       "      <td>3</td>\n",
       "      <td>0</td>\n",
       "      <td>0</td>\n",
       "      <td>0</td>\n",
       "      <td>0</td>\n",
       "      <td>3</td>\n",
       "      <td>3</td>\n",
       "      <td>0</td>\n",
       "      <td>0</td>\n",
       "    </tr>\n",
       "    <tr>\n",
       "      <th>tahtma</th>\n",
       "      <td>13467</td>\n",
       "      <td>16501</td>\n",
       "      <td>3450</td>\n",
       "      <td>14238</td>\n",
       "      <td>1929</td>\n",
       "      <td>667</td>\n",
       "      <td>8170</td>\n",
       "      <td>13738</td>\n",
       "      <td>5335</td>\n",
       "      <td>1512</td>\n",
       "      <td>...</td>\n",
       "      <td>0</td>\n",
       "      <td>0</td>\n",
       "      <td>0</td>\n",
       "      <td>0</td>\n",
       "      <td>0</td>\n",
       "      <td>0</td>\n",
       "      <td>0</td>\n",
       "      <td>0</td>\n",
       "      <td>0</td>\n",
       "      <td>0</td>\n",
       "    </tr>\n",
       "  </tbody>\n",
       "</table>\n",
       "<p>5 rows × 4194 columns</p>\n",
       "</div>"
      ],
      "text/plain": [
       "        olema  saama  hakkama  tegema  pidama  võima  teadma  ütlema  võtma  \\\n",
       "olema   88780  15838     3867   15221   13144   8397    3830   11929   8215   \n",
       "saama   74807   9155    30256    6187   20701  21872   20913    7636   3278   \n",
       "teadma  43634  10185     2588    7105    7853   2385    3279    6165   2192   \n",
       "tegema  78994  36424     2563    7191   24594  19587    2347    8139   3996   \n",
       "tahtma  13467  16501     3450   14238    1929    667    8170   13738   5335   \n",
       "\n",
       "        maksma  ...  chillima  tartuma  irnuma  indutseerima  kategoriseerima  \\\n",
       "olema     3418  ...         0        0       0             0                0   \n",
       "saama     2030  ...         0        0       0             0                0   \n",
       "teadma    1041  ...         0        0       0             0                0   \n",
       "tegema    1255  ...         0        3       0             0                0   \n",
       "tahtma    1512  ...         0        0       0             0                0   \n",
       "\n",
       "        lohkuda-eemaldama  portima  pingima  shellima  kumuleeruma  \n",
       "olema                   0        0        0         0            0  \n",
       "saama                   0        0        0         0            0  \n",
       "teadma                  0        0        0         0            0  \n",
       "tegema                  0        3        3         0            0  \n",
       "tahtma                  0        0        0         0            0  \n",
       "\n",
       "[5 rows x 4194 columns]"
      ]
     },
     "execution_count": 20,
     "metadata": {},
     "output_type": "execute_result"
    }
   ],
   "source": [
    "data.head()"
   ]
  },
  {
   "cell_type": "markdown",
   "id": "2e8181fe",
   "metadata": {},
   "source": [
    "### Optimizing LDA"
   ]
  },
  {
   "cell_type": "code",
   "execution_count": 21,
   "id": "58273fd3",
   "metadata": {},
   "outputs": [
    {
     "name": "stdout",
     "output_type": "stream",
     "text": [
      "22:15:38.097229\n",
      "Model with 100 topics fitted and perplexity found at 22:16:39.113829.\n",
      "Model with 200 topics fitted and perplexity found at 22:17:56.917524.\n",
      "Model with 300 topics fitted and perplexity found at 22:19:39.305415.\n",
      "Model with 400 topics fitted and perplexity found at 22:22:43.180630.\n",
      "Model with 500 topics fitted and perplexity found at 22:26:30.955090.\n",
      "Model with 600 topics fitted and perplexity found at 22:31:05.686069.\n",
      "Model with 700 topics fitted and perplexity found at 22:36:14.675042.\n",
      "Model with 800 topics fitted and perplexity found at 22:42:47.289436.\n",
      "Model with 900 topics fitted and perplexity found at 22:50:04.111137.\n",
      "Model with 1000 topics fitted and perplexity found at 22:58:14.230134.\n",
      "22:58:14.231134\n",
      "0:42:36.134896\n"
     ]
    }
   ],
   "source": [
    "print(str(timedelta(seconds=time.time()+7200)).split(\", \")[1])\n",
    "start = datetime.now()\n",
    "\n",
    "models = {}\n",
    "perplexities = {}\n",
    "\n",
    "for n in range(100, 1001, 100):\n",
    "    model = LatentDirichletAllocation(n_components=n, random_state=0)\n",
    "    model.fit(data)\n",
    "    perplexity = model.perplexity(data)\n",
    "    print(f\"Model with {n} topics fitted and perplexity found at {str(timedelta(seconds=time.time()+7200)).split(', ')[1]}.\")\n",
    "    models[n] = model\n",
    "    perplexities[n] = perplexity\n",
    "            \n",
    "print(str(timedelta(seconds=time.time()+7200)).split(\", \")[1])\n",
    "print(datetime.now()-start)"
   ]
  },
  {
   "cell_type": "code",
   "execution_count": 22,
   "id": "408a34d3",
   "metadata": {},
   "outputs": [
    {
     "data": {
      "text/plain": [
       "{100: 136.39515643573208,\n",
       " 200: 136.21409103966369,\n",
       " 300: 136.7338047556775,\n",
       " 400: 137.37154037980756,\n",
       " 500: 137.533649250998,\n",
       " 600: 137.96494262690615,\n",
       " 700: 138.44884799307792,\n",
       " 800: 138.6643806937124,\n",
       " 900: 139.13754731504068,\n",
       " 1000: 139.58871834828213}"
      ]
     },
     "execution_count": 22,
     "metadata": {},
     "output_type": "execute_result"
    }
   ],
   "source": [
    "perplexities"
   ]
  },
  {
   "cell_type": "code",
   "execution_count": 23,
   "id": "c365f329",
   "metadata": {},
   "outputs": [],
   "source": [
    "from matplotlib import pyplot as plt"
   ]
  },
  {
   "cell_type": "code",
   "execution_count": 24,
   "id": "d5dd18f9",
   "metadata": {},
   "outputs": [
    {
     "data": {
      "text/plain": [
       "Text(0, 0.5, 'Perplexity')"
      ]
     },
     "execution_count": 24,
     "metadata": {},
     "output_type": "execute_result"
    },
    {
     "data": {
      "image/png": "[encoded data removed]",
      "text/plain": [
       "<Figure size 504x504 with 1 Axes>"
      ]
     },
     "metadata": {
      "needs_background": "light"
     },
     "output_type": "display_data"
    }
   ],
   "source": [
    "plt.figure(figsize=(7, 7))\n",
    "\n",
    "plt.plot(list(range(100, 1001, 100)), perplexities.values())\n",
    "\n",
    "plt.title(\"Optimaalse teemade arvu valimine\")\n",
    "plt.xlabel(\"Teemade arv\")\n",
    "plt.ylabel(\"Perplexity\")"
   ]
  }
 ],
 "metadata": {
  "kernelspec": {
   "display_name": "Python 3",
   "language": "python",
   "name": "python3"
  },
  "language_info": {
   "codemirror_mode": {
    "name": "ipython",
    "version": 3
   },
   "file_extension": ".py",
   "mimetype": "text/x-python",
   "name": "python",
   "nbconvert_exporter": "python",
   "pygments_lexer": "ipython3",
   "version": "3.6.13"
  }
 },
 "nbformat": 4,
 "nbformat_minor": 5
}
