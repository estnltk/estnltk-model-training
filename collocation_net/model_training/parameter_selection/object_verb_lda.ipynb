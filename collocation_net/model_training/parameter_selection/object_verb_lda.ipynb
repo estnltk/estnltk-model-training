{
 "cells": [
  {
   "cell_type": "markdown",
   "id": "b44026e1",
   "metadata": {},
   "source": [
    "### Imports"
   ]
  },
  {
   "cell_type": "code",
   "execution_count": 1,
   "id": "168d6db3",
   "metadata": {},
   "outputs": [],
   "source": [
    "import pandas as pd\n",
    "import numpy as np\n",
    "import time\n",
    "from datetime import timedelta, datetime\n",
    "from sklearn.decomposition import LatentDirichletAllocation"
   ]
  },
  {
   "cell_type": "markdown",
   "id": "cc4a2fdf",
   "metadata": {},
   "source": [
    "### Reading in the data"
   ]
  },
  {
   "cell_type": "code",
   "execution_count": 2,
   "id": "f57ac7e1",
   "metadata": {},
   "outputs": [],
   "source": [
    "data = pd.read_csv(\"verb_object_df.csv\", index_col=0)"
   ]
  },
  {
   "cell_type": "code",
   "execution_count": 3,
   "id": "fbc34a52",
   "metadata": {},
   "outputs": [
    {
     "data": {
      "text/html": [
       "<div>\n",
       "<style scoped>\n",
       "    .dataframe tbody tr th:only-of-type {\n",
       "        vertical-align: middle;\n",
       "    }\n",
       "\n",
       "    .dataframe tbody tr th {\n",
       "        vertical-align: top;\n",
       "    }\n",
       "\n",
       "    .dataframe thead th {\n",
       "        text-align: right;\n",
       "    }\n",
       "</style>\n",
       "<table border=\"1\" class=\"dataframe\">\n",
       "  <thead>\n",
       "    <tr style=\"text-align: right;\">\n",
       "      <th></th>\n",
       "      <th>tegema</th>\n",
       "      <th>saama</th>\n",
       "      <th>tundma</th>\n",
       "      <th>andma</th>\n",
       "      <th>sõlmima</th>\n",
       "      <th>teadma</th>\n",
       "      <th>maksma</th>\n",
       "      <th>pidama</th>\n",
       "      <th>võtma</th>\n",
       "      <th>pöörama</th>\n",
       "      <th>...</th>\n",
       "      <th>mountima</th>\n",
       "      <th>uvitama</th>\n",
       "      <th>nattima</th>\n",
       "      <th>sailitama</th>\n",
       "      <th>võrdlustama</th>\n",
       "      <th>nendevastuma</th>\n",
       "      <th>postima</th>\n",
       "      <th>väärindama</th>\n",
       "      <th>hapustama</th>\n",
       "      <th>inhibeerima</th>\n",
       "    </tr>\n",
       "  </thead>\n",
       "  <tbody>\n",
       "    <tr>\n",
       "      <th>see</th>\n",
       "      <td>69534</td>\n",
       "      <td>9208</td>\n",
       "      <td>2789</td>\n",
       "      <td>6079</td>\n",
       "      <td>288</td>\n",
       "      <td>13465</td>\n",
       "      <td>2402</td>\n",
       "      <td>12953</td>\n",
       "      <td>12901</td>\n",
       "      <td>273</td>\n",
       "      <td>...</td>\n",
       "      <td>0</td>\n",
       "      <td>0</td>\n",
       "      <td>3</td>\n",
       "      <td>0</td>\n",
       "      <td>0</td>\n",
       "      <td>0</td>\n",
       "      <td>0</td>\n",
       "      <td>0</td>\n",
       "      <td>0</td>\n",
       "      <td>0</td>\n",
       "    </tr>\n",
       "    <tr>\n",
       "      <th>mis</th>\n",
       "      <td>46616</td>\n",
       "      <td>7582</td>\n",
       "      <td>3492</td>\n",
       "      <td>7881</td>\n",
       "      <td>834</td>\n",
       "      <td>5235</td>\n",
       "      <td>3286</td>\n",
       "      <td>8315</td>\n",
       "      <td>8511</td>\n",
       "      <td>116</td>\n",
       "      <td>...</td>\n",
       "      <td>0</td>\n",
       "      <td>0</td>\n",
       "      <td>0</td>\n",
       "      <td>0</td>\n",
       "      <td>0</td>\n",
       "      <td>0</td>\n",
       "      <td>0</td>\n",
       "      <td>0</td>\n",
       "      <td>0</td>\n",
       "      <td>0</td>\n",
       "    </tr>\n",
       "    <tr>\n",
       "      <th>tema</th>\n",
       "      <td>3881</td>\n",
       "      <td>2438</td>\n",
       "      <td>3037</td>\n",
       "      <td>1798</td>\n",
       "      <td>82</td>\n",
       "      <td>1208</td>\n",
       "      <td>285</td>\n",
       "      <td>4119</td>\n",
       "      <td>5879</td>\n",
       "      <td>98</td>\n",
       "      <td>...</td>\n",
       "      <td>0</td>\n",
       "      <td>0</td>\n",
       "      <td>0</td>\n",
       "      <td>0</td>\n",
       "      <td>3</td>\n",
       "      <td>0</td>\n",
       "      <td>0</td>\n",
       "      <td>0</td>\n",
       "      <td>0</td>\n",
       "      <td>0</td>\n",
       "    </tr>\n",
       "    <tr>\n",
       "      <th>ise</th>\n",
       "      <td>1552</td>\n",
       "      <td>374</td>\n",
       "      <td>20326</td>\n",
       "      <td>1257</td>\n",
       "      <td>5</td>\n",
       "      <td>216</td>\n",
       "      <td>279</td>\n",
       "      <td>6065</td>\n",
       "      <td>2645</td>\n",
       "      <td>430</td>\n",
       "      <td>...</td>\n",
       "      <td>0</td>\n",
       "      <td>0</td>\n",
       "      <td>0</td>\n",
       "      <td>0</td>\n",
       "      <td>0</td>\n",
       "      <td>0</td>\n",
       "      <td>0</td>\n",
       "      <td>0</td>\n",
       "      <td>0</td>\n",
       "      <td>0</td>\n",
       "    </tr>\n",
       "    <tr>\n",
       "      <th>miski</th>\n",
       "      <td>22786</td>\n",
       "      <td>4216</td>\n",
       "      <td>571</td>\n",
       "      <td>2191</td>\n",
       "      <td>16</td>\n",
       "      <td>9647</td>\n",
       "      <td>1595</td>\n",
       "      <td>315</td>\n",
       "      <td>6522</td>\n",
       "      <td>29</td>\n",
       "      <td>...</td>\n",
       "      <td>0</td>\n",
       "      <td>0</td>\n",
       "      <td>0</td>\n",
       "      <td>0</td>\n",
       "      <td>0</td>\n",
       "      <td>0</td>\n",
       "      <td>0</td>\n",
       "      <td>0</td>\n",
       "      <td>0</td>\n",
       "      <td>0</td>\n",
       "    </tr>\n",
       "  </tbody>\n",
       "</table>\n",
       "<p>5 rows × 3735 columns</p>\n",
       "</div>"
      ],
      "text/plain": [
       "       tegema  saama  tundma  andma  sõlmima  teadma  maksma  pidama  võtma  \\\n",
       "see     69534   9208    2789   6079      288   13465    2402   12953  12901   \n",
       "mis     46616   7582    3492   7881      834    5235    3286    8315   8511   \n",
       "tema     3881   2438    3037   1798       82    1208     285    4119   5879   \n",
       "ise      1552    374   20326   1257        5     216     279    6065   2645   \n",
       "miski   22786   4216     571   2191       16    9647    1595     315   6522   \n",
       "\n",
       "       pöörama  ...  mountima  uvitama  nattima  sailitama  võrdlustama  \\\n",
       "see        273  ...         0        0        3          0            0   \n",
       "mis        116  ...         0        0        0          0            0   \n",
       "tema        98  ...         0        0        0          0            3   \n",
       "ise        430  ...         0        0        0          0            0   \n",
       "miski       29  ...         0        0        0          0            0   \n",
       "\n",
       "       nendevastuma  postima  väärindama  hapustama  inhibeerima  \n",
       "see               0        0           0          0            0  \n",
       "mis               0        0           0          0            0  \n",
       "tema              0        0           0          0            0  \n",
       "ise               0        0           0          0            0  \n",
       "miski             0        0           0          0            0  \n",
       "\n",
       "[5 rows x 3735 columns]"
      ]
     },
     "execution_count": 3,
     "metadata": {},
     "output_type": "execute_result"
    }
   ],
   "source": [
    "data.head()"
   ]
  },
  {
   "cell_type": "markdown",
   "id": "2e8181fe",
   "metadata": {},
   "source": [
    "### Optimizing LDA"
   ]
  },
  {
   "cell_type": "code",
   "execution_count": 5,
   "id": "58273fd3",
   "metadata": {},
   "outputs": [
    {
     "name": "stdout",
     "output_type": "stream",
     "text": [
      "23:47:02.779891\n",
      "Model with 100 topics fitted and perplexity found at 23:48:32.933285.\n",
      "Model with 200 topics fitted and perplexity found at 23:50:32.859370.\n",
      "Model with 300 topics fitted and perplexity found at 23:53:04.521595.\n",
      "Model with 400 topics fitted and perplexity found at 23:56:32.802679.\n",
      "Model with 500 topics fitted and perplexity found at 0:00:35.742822.\n",
      "Model with 600 topics fitted and perplexity found at 0:05:10.013479.\n",
      "Model with 700 topics fitted and perplexity found at 0:10:18.176734.\n",
      "Model with 800 topics fitted and perplexity found at 0:17:17.351151.\n",
      "Model with 900 topics fitted and perplexity found at 0:25:19.170283.\n",
      "Model with 1000 topics fitted and perplexity found at 0:33:41.240570.\n",
      "0:33:41.240570\n",
      "0:46:38.460679\n"
     ]
    }
   ],
   "source": [
    "print(str(timedelta(seconds=time.time()+7200)).split(\", \")[1])\n",
    "start = datetime.now()\n",
    "\n",
    "models = {}\n",
    "perplexities = {}\n",
    "\n",
    "for n in range(100, 1001, 100):\n",
    "    model = LatentDirichletAllocation(n_components=n, random_state=0)\n",
    "    model.fit(data)\n",
    "    perplexity = model.perplexity(data)\n",
    "    print(f\"Model with {n} topics fitted and perplexity found at {str(timedelta(seconds=time.time()+7200)).split(', ')[1]}.\")\n",
    "    models[n] = model\n",
    "    perplexities[n] = perplexity\n",
    "            \n",
    "print(str(timedelta(seconds=time.time()+7200)).split(\", \")[1])\n",
    "print(datetime.now()-start)"
   ]
  },
  {
   "cell_type": "code",
   "execution_count": 6,
   "id": "408a34d3",
   "metadata": {},
   "outputs": [
    {
     "data": {
      "text/plain": [
       "{100: 71.03219286238806,\n",
       " 200: 62.209478688301175,\n",
       " 300: 59.57807534279889,\n",
       " 400: 57.977880730026556,\n",
       " 500: 57.09906603952504,\n",
       " 600: 56.65517192861018,\n",
       " 700: 56.47703794722879,\n",
       " 800: 56.194801614725996,\n",
       " 900: 56.13764836286705,\n",
       " 1000: 56.14997773851935}"
      ]
     },
     "execution_count": 6,
     "metadata": {},
     "output_type": "execute_result"
    }
   ],
   "source": [
    "perplexities"
   ]
  },
  {
   "cell_type": "code",
   "execution_count": 7,
   "id": "c365f329",
   "metadata": {},
   "outputs": [],
   "source": [
    "from matplotlib import pyplot as plt"
   ]
  },
  {
   "cell_type": "code",
   "execution_count": 8,
   "id": "d5dd18f9",
   "metadata": {},
   "outputs": [
    {
     "data": {
      "text/plain": [
       "Text(0, 0.5, 'Perplexity')"
      ]
     },
     "execution_count": 8,
     "metadata": {},
     "output_type": "execute_result"
    },
    {
     "data": {
      "image/png": "[encoded data removed]",
      "text/plain": [
       "<Figure size 504x504 with 1 Axes>"
      ]
     },
     "metadata": {
      "needs_background": "light"
     },
     "output_type": "display_data"
    }
   ],
   "source": [
    "plt.figure(figsize=(7, 7))\n",
    "\n",
    "plt.plot(list(range(100, 1001, 100)), perplexities.values())\n",
    "\n",
    "plt.title(\"Optimaalse teemade arvu valimine\")\n",
    "plt.xlabel(\"Teemade arv\")\n",
    "plt.ylabel(\"Perplexity\")"
   ]
  },
  {
   "cell_type": "code",
   "execution_count": 9,
   "id": "820db64a",
   "metadata": {},
   "outputs": [
    {
     "name": "stdout",
     "output_type": "stream",
     "text": [
      "0:34:57.332016\n",
      "Model with 750 topics fitted and perplexity found at 0:41:24.186522.\n",
      "Model with 850 topics fitted and perplexity found at 0:48:27.616371.\n",
      "Model with 950 topics fitted and perplexity found at 0:56:17.272071.\n",
      "0:56:17.273071\n",
      "0:21:19.941054\n"
     ]
    }
   ],
   "source": [
    "print(str(timedelta(seconds=time.time()+7200)).split(\", \")[1])\n",
    "start = datetime.now()\n",
    "\n",
    "for n in [750, 850, 950]:\n",
    "    model = LatentDirichletAllocation(n_components=n, random_state=0)\n",
    "    model.fit(data)\n",
    "    perplexity = model.perplexity(data)\n",
    "    print(f\"Model with {n} topics fitted and perplexity found at {str(timedelta(seconds=time.time()+7200)).split(', ')[1]}.\")\n",
    "    models[n] = model\n",
    "    perplexities[n] = perplexity\n",
    "    \n",
    "print(str(timedelta(seconds=time.time()+7200)).split(\", \")[1])\n",
    "print(datetime.now()-start)"
   ]
  },
  {
   "cell_type": "code",
   "execution_count": 10,
   "id": "4fdf560d",
   "metadata": {},
   "outputs": [
    {
     "data": {
      "text/plain": [
       "{100: 71.03219286238806,\n",
       " 200: 62.209478688301175,\n",
       " 300: 59.57807534279889,\n",
       " 400: 57.977880730026556,\n",
       " 500: 57.09906603952504,\n",
       " 600: 56.65517192861018,\n",
       " 700: 56.47703794722879,\n",
       " 800: 56.194801614725996,\n",
       " 900: 56.13764836286705,\n",
       " 1000: 56.14997773851935,\n",
       " 750: 56.32899749297647,\n",
       " 850: 56.1444186860542,\n",
       " 950: 56.17935938082942}"
      ]
     },
     "execution_count": 10,
     "metadata": {},
     "output_type": "execute_result"
    }
   ],
   "source": [
    "perplexities"
   ]
  },
  {
   "cell_type": "code",
   "execution_count": 11,
   "id": "6cf39666",
   "metadata": {},
   "outputs": [
    {
     "data": {
      "text/plain": [
       "Text(0, 0.5, 'Perplexity')"
      ]
     },
     "execution_count": 11,
     "metadata": {},
     "output_type": "execute_result"
    },
    {
     "data": {
      "image/png": "[encoded data removed]",
      "text/plain": [
       "<Figure size 504x504 with 1 Axes>"
      ]
     },
     "metadata": {
      "needs_background": "light"
     },
     "output_type": "display_data"
    }
   ],
   "source": [
    "plt.figure(figsize=(7, 7))\n",
    "\n",
    "keys = [100, 200, 300, 400, 500, 600, 700, 750, 800, 850, 900, 950, 1000]\n",
    "\n",
    "plt.plot(keys, [perplexities[key] for key in keys])\n",
    "\n",
    "plt.title(\"Optimaalse teemade arvu valimine\")\n",
    "plt.xlabel(\"Teemade arv\")\n",
    "plt.ylabel(\"Perplexity\")"
   ]
  }
 ],
 "metadata": {
  "kernelspec": {
   "display_name": "Python 3",
   "language": "python",
   "name": "python3"
  },
  "language_info": {
   "codemirror_mode": {
    "name": "ipython",
    "version": 3
   },
   "file_extension": ".py",
   "mimetype": "text/x-python",
   "name": "python",
   "nbconvert_exporter": "python",
   "pygments_lexer": "ipython3",
   "version": "3.6.13"
  }
 },
 "nbformat": 4,
 "nbformat_minor": 5
}
