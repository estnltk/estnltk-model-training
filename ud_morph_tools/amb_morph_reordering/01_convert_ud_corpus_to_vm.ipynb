{
 "cells": [
  {
   "cell_type": "markdown",
   "metadata": {},
   "source": [
    "## Convert Universal Dependencies' corpus to Vabamorf format "
   ]
  },
  {
   "cell_type": "markdown",
   "metadata": {},
   "source": [
    "_Prerequisite_ : download the Estonian UD corpus from here: https://github.com/UniversalDependencies/UD_Estonian-EDT (ver 2.5). Unpack into the current directory."
   ]
  },
  {
   "cell_type": "code",
   "execution_count": 1,
   "metadata": {},
   "outputs": [],
   "source": [
    "import os, os.path\n",
    "ud_corpus_dir = \"UD_Estonian-EDT-r2.5\"\n",
    "assert os.path.isdir( ud_corpus_dir )\n",
    "\n",
    "from estnltk import Text\n",
    "from estnltk.converters import text_to_json\n",
    "from est_ud_utils import load_ud_file_texts_with_corrections\n",
    "from est_ud_morph_conv import convert_ud_layer_to_reduced_morph_layer"
   ]
  },
  {
   "cell_type": "code",
   "execution_count": 2,
   "metadata": {},
   "outputs": [],
   "source": [
    "output_dir = 'UD_converted'\n",
    "if not os.path.isdir( output_dir ):\n",
    "    os.makedirs(output_dir)\n",
    "assert os.path.isdir( output_dir )"
   ]
  },
  {
   "cell_type": "code",
   "execution_count": 3,
   "metadata": {},
   "outputs": [],
   "source": [
    "# Load UD corpus' files as EstNLTK Text objects\n",
    "loaded_texts  = []\n",
    "ud_layer_name = 'ud_syntax'\n",
    "for fname in os.listdir( ud_corpus_dir ):\n",
    "    #if 'train' in fname:\n",
    "    #    continue\n",
    "    #if 'dev' in fname:\n",
    "    #    continue\n",
    "    #if 'test' in fname:\n",
    "    #    continue\n",
    "    if fname.endswith('.conllu'):\n",
    "        fpath = os.path.join( ud_corpus_dir, fname )\n",
    "        texts = load_ud_file_texts_with_corrections( fpath, ud_layer_name )\n",
    "        for text in texts:\n",
    "            text.meta['file'] = fname\n",
    "            loaded_texts.append( text )"
   ]
  },
  {
   "cell_type": "code",
   "execution_count": 4,
   "metadata": {},
   "outputs": [],
   "source": [
    "# Convert UD's morphosyntactic annotations to Vabamorf-like annotations\n",
    "for tid, text in enumerate(loaded_texts):\n",
    "    convert_ud_layer_to_reduced_morph_layer( text, 'ud_syntax', 'ud_morph_reduced', add_layer=True )\n",
    "    fname = text.meta['file'].replace('.conllu', '_'+('{:03d}'.format(tid))+'.json')\n",
    "    fpath = os.path.join(output_dir, fname)\n",
    "    text_to_json(text, file=fpath)"
   ]
  }
 ],
 "metadata": {
  "kernelspec": {
   "display_name": "Python 3 (ipykernel)",
   "language": "python",
   "name": "python3"
  },
  "language_info": {
   "codemirror_mode": {
    "name": "ipython",
    "version": 3
   },
   "file_extension": ".py",
   "mimetype": "text/x-python",
   "name": "python",
   "nbconvert_exporter": "python",
   "pygments_lexer": "ipython3",
   "version": "3.9.12"
  }
 },
 "nbformat": 4,
 "nbformat_minor": 2
}
