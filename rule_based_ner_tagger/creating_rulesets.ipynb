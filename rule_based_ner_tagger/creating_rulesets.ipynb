{
 "cells": [
  {
   "cell_type": "code",
   "execution_count": 2,
   "id": "f10bf800",
   "metadata": {},
   "outputs": [],
   "source": [
    "import pickle\n",
    "with open('entity_map.pkl', 'rb') as f:\n",
    "    entity_map = pickle.load(f)"
   ]
  },
  {
   "cell_type": "code",
   "execution_count": 3,
   "id": "2ef68b6c",
   "metadata": {},
   "outputs": [],
   "source": [
    "last_word_map = {}\n",
    "first_words_map = {}\n",
    "#create two separate mappings from the entity map: last_word_map maps the last word of the entity to the tag\n",
    "#and first_words_map maps all the words except the last to the tag\n",
    "\n",
    "for entity, tag in entity_map.items():\n",
    "    last_word_map[entity[-1]] = tag\n",
    "    if len(entity) > 1:\n",
    "        first_words_map[entity[:-1]] = tag"
   ]
  },
  {
   "cell_type": "code",
   "execution_count": 9,
   "id": "29803210",
   "metadata": {},
   "outputs": [],
   "source": [
    "from estnltk.taggers.system.rule_taggers import Ruleset, StaticExtractionRule\n",
    "\n",
    "#create a ruleset from dict\n",
    "#len_check specifies the minimum length of the string/tuple to be included in the rules\n",
    "def dict_to_ruleset(rule_dict, len_check=None, pos=None):\n",
    "    ruleset = Ruleset()\n",
    "    for k, v in rule_dict.items():\n",
    "        if len_check is not None and len(k) >= len_check:\n",
    "            if pos is not None:\n",
    "                rule = StaticExtractionRule(pattern=k,attributes={'tag':v,'pos':pos})\n",
    "                ruleset.add_rules([rule])\n",
    "            else:\n",
    "                rule = StaticExtractionRule(pattern=k,attributes={'tag':v})\n",
    "                ruleset.add_rules([rule])\n",
    "        elif len_check is None:\n",
    "            if pos is not None:\n",
    "                rule = StaticExtractionRule(pattern=k,attributes={'tag':v,'pos':pos})\n",
    "                ruleset.add_rules([rule])\n",
    "            else:\n",
    "                rule = StaticExtractionRule(pattern=k,attributes={'tag':v})\n",
    "                ruleset.add_rules([rule])\n",
    "    return ruleset"
   ]
  },
  {
   "cell_type": "code",
   "execution_count": 10,
   "id": "bc4d5fd6",
   "metadata": {},
   "outputs": [],
   "source": [
    "last_rules = dict_to_ruleset(last_word_map,len_check=3,pos='I')"
   ]
  },
  {
   "cell_type": "code",
   "execution_count": 11,
   "id": "434de1a8",
   "metadata": {},
   "outputs": [],
   "source": [
    "with open('last_ruleset.pkl', 'wb') as f:\n",
    "    pickle.dump(last_rules, f)"
   ]
  },
  {
   "cell_type": "code",
   "execution_count": 12,
   "id": "2843b709",
   "metadata": {},
   "outputs": [],
   "source": [
    "first_rules = dict_to_ruleset(first_words_map,len_check=None,pos='B')"
   ]
  },
  {
   "cell_type": "code",
   "execution_count": 13,
   "id": "40483710",
   "metadata": {},
   "outputs": [],
   "source": [
    "with open('first_ruleset.pkl', 'wb') as f:\n",
    "    pickle.dump(first_rules, f)"
   ]
  }
 ],
 "metadata": {
  "kernelspec": {
   "display_name": "Python 3",
   "language": "python",
   "name": "python3"
  },
  "language_info": {
   "codemirror_mode": {
    "name": "ipython",
    "version": 3
   },
   "file_extension": ".py",
   "mimetype": "text/x-python",
   "name": "python",
   "nbconvert_exporter": "python",
   "pygments_lexer": "ipython3",
   "version": "3.6.12"
  }
 },
 "nbformat": 4,
 "nbformat_minor": 5
}
