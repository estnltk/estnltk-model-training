{
 "cells": [
  {
   "cell_type": "code",
   "execution_count": 2,
   "id": "3981cae9",
   "metadata": {},
   "outputs": [],
   "source": [
    "from estnltk import Text\n",
    "from estnltk.storage.postgres import PostgresStorage, create_schema"
   ]
  },
  {
   "cell_type": "markdown",
   "id": "1c0e9c2b",
   "metadata": {},
   "source": [
    "Connect to postgres"
   ]
  },
  {
   "cell_type": "code",
   "execution_count": 3,
   "id": "08155c95",
   "metadata": {},
   "outputs": [
    {
     "name": "stdout",
     "output_type": "stream",
     "text": [
      "INFO:storage.py:42: connecting to host: 'localhost', port: 5433, dbname: 'ner_test', user: 'postgres'\n",
      "INFO:storage.py:58: schema: 'my_schema', temporary: False, role: 'postgres'\n"
     ]
    }
   ],
   "source": [
    "storage = PostgresStorage(host='localhost',\n",
    "                          port=5433,\n",
    "                          dbname='ner_test',\n",
    "                          user='postgres',\n",
    "                          password='dbpass',\n",
    "                          pgpass_file='~/.pgpass',\n",
    "                          schema='my_schema',\n",
    "                          role=None,\n",
    "                          temporary=False)"
   ]
  },
  {
   "cell_type": "code",
   "execution_count": 4,
   "id": "f609dfd8",
   "metadata": {},
   "outputs": [
    {
     "data": {
      "text/html": [
       "<b>PostgresStorage</b><br/>\n",
       "user=postgres password=xxx dbname=ner_test host=localhost port=5433 schema=my_schema<br/>temporary=False<br/>\n",
       "collection count: 2\n",
       "<table border=\"1\" class=\"dataframe\">\n",
       "  <thead>\n",
       "    <tr style=\"text-align: right;\">\n",
       "      <th></th>\n",
       "      <th></th>\n",
       "      <th></th>\n",
       "      <th>rows</th>\n",
       "      <th>total_size</th>\n",
       "      <th>comment</th>\n",
       "    </tr>\n",
       "    <tr>\n",
       "      <th>collection</th>\n",
       "      <th>version</th>\n",
       "      <th>relations</th>\n",
       "      <th></th>\n",
       "      <th></th>\n",
       "      <th></th>\n",
       "    </tr>\n",
       "  </thead>\n",
       "  <tbody>\n",
       "    <tr>\n",
       "      <th rowspan=\"2\" valign=\"top\">ner_texts</th>\n",
       "      <th rowspan=\"2\" valign=\"top\">2.0</th>\n",
       "      <th></th>\n",
       "      <td>0</td>\n",
       "      <td>17 MB</td>\n",
       "      <td>created by postgres on Thu Mar 24 12:57:44 2022</td>\n",
       "    </tr>\n",
       "    <tr>\n",
       "      <th>structure</th>\n",
       "      <td>0</td>\n",
       "      <td>32 kB</td>\n",
       "      <td>None</td>\n",
       "    </tr>\n",
       "    <tr>\n",
       "      <th rowspan=\"5\" valign=\"top\">rivers</th>\n",
       "      <th rowspan=\"5\" valign=\"top\">2.0</th>\n",
       "      <th></th>\n",
       "      <td>0</td>\n",
       "      <td>16 MB</td>\n",
       "      <td>created by postgres on Thu Mar 31 03:59:02 2022</td>\n",
       "    </tr>\n",
       "    <tr>\n",
       "      <th>rivers__layer</th>\n",
       "      <td>0</td>\n",
       "      <td>40 kB</td>\n",
       "      <td>created by postgres on Thu Mar 31 03:30:13 2022</td>\n",
       "    </tr>\n",
       "    <tr>\n",
       "      <th>structure</th>\n",
       "      <td>0</td>\n",
       "      <td>32 kB</td>\n",
       "      <td>None</td>\n",
       "    </tr>\n",
       "    <tr>\n",
       "      <th>tagged_countries__layer</th>\n",
       "      <td>0</td>\n",
       "      <td>168 kB</td>\n",
       "      <td>created by postgres on Thu Mar 31 04:20:15 2022</td>\n",
       "    </tr>\n",
       "    <tr>\n",
       "      <th>tagged_rivers__layer</th>\n",
       "      <td>0</td>\n",
       "      <td>152 kB</td>\n",
       "      <td>created by postgres on Thu Mar 31 04:16:02 2022</td>\n",
       "    </tr>\n",
       "  </tbody>\n",
       "</table>\n",
       " There are collections listed in the __collections table without tables in the database: ['collection']"
      ],
      "text/plain": [
       "<estnltk.storage.postgres.storage.PostgresStorage at 0x26677e80f28>"
      ]
     },
     "execution_count": 4,
     "metadata": {},
     "output_type": "execute_result"
    }
   ],
   "source": [
    "storage"
   ]
  },
  {
   "cell_type": "code",
   "execution_count": 6,
   "id": "f7389bc8",
   "metadata": {},
   "outputs": [
    {
     "name": "stdout",
     "output_type": "stream",
     "text": [
      "INFO:collection.py:92: new empty collection 'ner_texts' created\n"
     ]
    },
    {
     "data": {
      "text/html": [
       "<b>PgCollection</b><br/><b>name:</b> ner_texts<br/><b>storage:</b> PostgresStorage(user=postgres password=xxx dbname=ner_test host=localhost port=5433 schema=my_schema temporary=False)<br/><b>count objects:</b> 0<br/><b>Metadata</b><br/>This collection has no metadata.<br/><b>Layers</b><br/>unknown"
      ],
      "text/plain": [
       "<estnltk.storage.postgres.collection.PgCollection at 0x2667db8ce48>"
      ]
     },
     "execution_count": 6,
     "metadata": {},
     "output_type": "execute_result"
    }
   ],
   "source": [
    "storage['ner_texts'].create()"
   ]
  },
  {
   "cell_type": "code",
   "execution_count": 7,
   "id": "722b065f",
   "metadata": {},
   "outputs": [],
   "source": [
    "collection = storage['ner_texts']"
   ]
  },
  {
   "cell_type": "code",
   "execution_count": 8,
   "id": "050a14df",
   "metadata": {},
   "outputs": [],
   "source": [
    "storage.conn.commit()"
   ]
  },
  {
   "cell_type": "code",
   "execution_count": 9,
   "id": "8fca7976",
   "metadata": {},
   "outputs": [],
   "source": [
    "storage.conn.autocommit = False"
   ]
  },
  {
   "cell_type": "markdown",
   "id": "fa5f6d4b",
   "metadata": {},
   "source": [
    "Read in texts"
   ]
  },
  {
   "cell_type": "code",
   "execution_count": 10,
   "id": "2213b663",
   "metadata": {},
   "outputs": [],
   "source": [
    "from estnltk.corpus_processing.parse_koondkorpus import parse_tei_corpus\n",
    "\n",
    "epltexts = parse_tei_corpus(r'C:\\Users\\rasmu\\Downloads\\2001_tei\\2001_tei\\EPL_2001_01_11.tei', target=['artikkel'], encoding=\"UTF-8\")"
   ]
  },
  {
   "cell_type": "code",
   "execution_count": 11,
   "id": "374de4d2",
   "metadata": {},
   "outputs": [
    {
     "name": "stdout",
     "output_type": "stream",
     "text": [
      "INFO:collection_text_object_inserter.py:107: inserted 344 texts into the collection 'ner_texts'\n"
     ]
    }
   ],
   "source": [
    "#add texts to collection if haven't done it yet\n",
    "with collection.insert() as collection_insert:\n",
    "    for text in epltexts:\n",
    "        text.tag_layer()\n",
    "        collection_insert(text)\n",
    "storage.conn.commit()"
   ]
  },
  {
   "cell_type": "code",
   "execution_count": 12,
   "id": "dd8a1b0d",
   "metadata": {},
   "outputs": [],
   "source": [
    "from estnltk.taggers.standard.ner.ner_tagger import NerTagger\n",
    "ner_tagger = NerTagger()"
   ]
  },
  {
   "cell_type": "code",
   "execution_count": 15,
   "id": "660839bf",
   "metadata": {},
   "outputs": [
    {
     "name": "stdout",
     "output_type": "stream",
     "text": [
      "INFO:collection.py:819: detached layer 'ner' created from template\n"
     ]
    }
   ],
   "source": [
    "with storage.conn.cursor() as c:\n",
    "    storage['ner_texts'].add_layer(ner_tagger.get_layer_template())"
   ]
  },
  {
   "cell_type": "code",
   "execution_count": 23,
   "id": "2e4bb99d",
   "metadata": {},
   "outputs": [
    {
     "data": {
      "text/plain": [
       "\"n=4\\nfor i in range(n):\\n    collection = storage['ner_texts']\\n    collection.create_layer_block(tagger=ner_tagger, meta=None, block=(n, i))\\n\""
      ]
     },
     "execution_count": 23,
     "metadata": {},
     "output_type": "execute_result"
    }
   ],
   "source": [
    "n=4\n",
    "for i in range(n):\n",
    "    collection = storage['ner_texts']\n",
    "    collection.create_layer_block(tagger=ner_tagger, meta=None, block=(n, i))"
   ]
  },
  {
   "cell_type": "code",
   "execution_count": null,
   "id": "477b049e",
   "metadata": {},
   "outputs": [],
   "source": [
    "'''collection = storage['ner_texts']\n",
    "collection.create_layer_block(tagger=ner_tagger, meta=None, block=(2, 0))'''"
   ]
  },
  {
   "cell_type": "code",
   "execution_count": 24,
   "id": "f363ad08",
   "metadata": {},
   "outputs": [
    {
     "name": "stdout",
     "output_type": "stream",
     "text": [
      "INFO:storage.py:42: connecting to host: 'localhost', port: 5433, dbname: 'ner_test', user: 'postgres'\n",
      "INFO:storage.py:58: schema: 'my_schema', temporary: False, role: 'postgres'\n"
     ]
    }
   ],
   "source": [
    "'''storage_b = PostgresStorage(host='localhost',\n",
    "                          port=5433,\n",
    "                          dbname='ner_test',\n",
    "                          user='postgres',\n",
    "                          password='dbpass',\n",
    "                          pgpass_file='~/.pgpass',\n",
    "                          schema='my_schema',\n",
    "                          role=None,\n",
    "                          temporary=False)'''"
   ]
  },
  {
   "cell_type": "code",
   "execution_count": 27,
   "id": "3ecd779d",
   "metadata": {},
   "outputs": [
    {
     "name": "stdout",
     "output_type": "stream",
     "text": [
      "INFO:collection.py:857: inserting data into the 'ner' layer table block (2, 1)\n",
      "ERROR:buffered_table_insert.py:137: flush insert buffer failed\n",
      "ERROR:buffered_table_insert.py:138: number of rows in the buffer: 172\n",
      "ERROR:buffered_table_insert.py:139: estimated insert query length: 316538\n"
     ]
    },
    {
     "ename": "UniqueViolation",
     "evalue": "duplicate key value violates unique constraint \"ner_texts__ner__layer_pkey\"\nDETAIL:  Key (id)=(1) already exists.\n",
     "output_type": "error",
     "traceback": [
      "\u001b[1;31m---------------------------------------------------------------------------\u001b[0m",
      "\u001b[1;31mUniqueViolation\u001b[0m                           Traceback (most recent call last)",
      "\u001b[1;32m<ipython-input-27-58f5f7415b1a>\u001b[0m in \u001b[0;36m<module>\u001b[1;34m\u001b[0m\n\u001b[0;32m      1\u001b[0m \u001b[0mcollection_b\u001b[0m \u001b[1;33m=\u001b[0m \u001b[0mstorage_b\u001b[0m\u001b[1;33m[\u001b[0m\u001b[1;34m'ner_texts'\u001b[0m\u001b[1;33m]\u001b[0m\u001b[1;33m\u001b[0m\u001b[1;33m\u001b[0m\u001b[0m\n\u001b[1;32m----> 2\u001b[1;33m \u001b[0mcollection_b\u001b[0m\u001b[1;33m.\u001b[0m\u001b[0mcreate_layer_block\u001b[0m\u001b[1;33m(\u001b[0m\u001b[0mtagger\u001b[0m\u001b[1;33m=\u001b[0m\u001b[0mner_tagger\u001b[0m\u001b[1;33m,\u001b[0m \u001b[0mmeta\u001b[0m\u001b[1;33m=\u001b[0m\u001b[1;32mNone\u001b[0m\u001b[1;33m,\u001b[0m \u001b[0mblock\u001b[0m\u001b[1;33m=\u001b[0m\u001b[1;33m(\u001b[0m\u001b[1;36m2\u001b[0m\u001b[1;33m,\u001b[0m \u001b[1;36m1\u001b[0m\u001b[1;33m)\u001b[0m\u001b[1;33m)\u001b[0m\u001b[1;33m\u001b[0m\u001b[1;33m\u001b[0m\u001b[0m\n\u001b[0m",
      "\u001b[1;32mc:\\users\\rasmu\\onedrive\\dokumendid\\estnltk\\estnltk\\estnltk\\storage\\postgres\\collection.py\u001b[0m in \u001b[0;36mcreate_layer_block\u001b[1;34m(self, tagger, block, meta, query_length_limit, mode)\u001b[0m\n\u001b[0;32m    886\u001b[0m                     \u001b[0mextra_values\u001b[0m\u001b[1;33m.\u001b[0m\u001b[0mextend\u001b[0m\u001b[1;33m(\u001b[0m \u001b[1;33m[\u001b[0m\u001b[0mlayer\u001b[0m\u001b[1;33m.\u001b[0m\u001b[0mmeta\u001b[0m\u001b[1;33m[\u001b[0m\u001b[0mk\u001b[0m\u001b[1;33m]\u001b[0m \u001b[1;32mfor\u001b[0m \u001b[0mk\u001b[0m \u001b[1;32min\u001b[0m \u001b[0mmeta_columns\u001b[0m\u001b[1;33m]\u001b[0m \u001b[1;33m)\u001b[0m\u001b[1;33m\u001b[0m\u001b[1;33m\u001b[0m\u001b[0m\n\u001b[0;32m    887\u001b[0m \u001b[1;33m\u001b[0m\u001b[0m\n\u001b[1;32m--> 888\u001b[1;33m                 \u001b[0mbuffered_inserter\u001b[0m\u001b[1;33m.\u001b[0m\u001b[0minsert\u001b[0m\u001b[1;33m(\u001b[0m\u001b[0mlayer\u001b[0m\u001b[1;33m,\u001b[0m \u001b[0mcollection_text_id\u001b[0m\u001b[1;33m,\u001b[0m \u001b[0mkey\u001b[0m\u001b[1;33m=\u001b[0m\u001b[0mcollection_text_id\u001b[0m\u001b[1;33m,\u001b[0m \u001b[0mextra_data\u001b[0m\u001b[1;33m=\u001b[0m\u001b[0mextra_values\u001b[0m\u001b[1;33m)\u001b[0m\u001b[1;33m\u001b[0m\u001b[1;33m\u001b[0m\u001b[0m\n\u001b[0m\u001b[0;32m    889\u001b[0m \u001b[1;33m\u001b[0m\u001b[0m\n\u001b[0;32m    890\u001b[0m         \u001b[0mlogger\u001b[0m\u001b[1;33m.\u001b[0m\u001b[0minfo\u001b[0m\u001b[1;33m(\u001b[0m\u001b[1;34m'block {} of {!r} layer created'\u001b[0m\u001b[1;33m.\u001b[0m\u001b[0mformat\u001b[0m\u001b[1;33m(\u001b[0m\u001b[0mblock\u001b[0m\u001b[1;33m,\u001b[0m \u001b[0mlayer_name\u001b[0m\u001b[1;33m)\u001b[0m\u001b[1;33m)\u001b[0m\u001b[1;33m\u001b[0m\u001b[1;33m\u001b[0m\u001b[0m\n",
      "\u001b[1;32mc:\\users\\rasmu\\onedrive\\dokumendid\\estnltk\\estnltk\\estnltk\\storage\\postgres\\context_managers\\collection_detached_layer_inserter.py\u001b[0m in \u001b[0;36m__exit__\u001b[1;34m(self, type, value, traceback)\u001b[0m\n\u001b[0;32m     67\u001b[0m         \u001b[1;34m\"\"\" Closes the insertion buffer. \"\"\"\u001b[0m\u001b[1;33m\u001b[0m\u001b[1;33m\u001b[0m\u001b[0m\n\u001b[0;32m     68\u001b[0m         \u001b[1;32mif\u001b[0m \u001b[0mself\u001b[0m\u001b[1;33m.\u001b[0m\u001b[0mbuffered_inserter\u001b[0m \u001b[1;32mis\u001b[0m \u001b[1;32mnot\u001b[0m \u001b[1;32mNone\u001b[0m\u001b[1;33m:\u001b[0m\u001b[1;33m\u001b[0m\u001b[1;33m\u001b[0m\u001b[0m\n\u001b[1;32m---> 69\u001b[1;33m             \u001b[0mself\u001b[0m\u001b[1;33m.\u001b[0m\u001b[0mbuffered_inserter\u001b[0m\u001b[1;33m.\u001b[0m\u001b[0mclose\u001b[0m\u001b[1;33m(\u001b[0m\u001b[1;33m)\u001b[0m\u001b[1;33m\u001b[0m\u001b[1;33m\u001b[0m\u001b[0m\n\u001b[0m\u001b[0;32m     70\u001b[0m             \u001b[0mlogger\u001b[0m\u001b[1;33m.\u001b[0m\u001b[0minfo\u001b[0m\u001b[1;33m(\u001b[0m\u001b[1;34m'inserted {} detached {!r} layers into the collection {!r}'\u001b[0m\u001b[1;33m.\u001b[0m\u001b[0mformat\u001b[0m\u001b[1;33m(\u001b[0m\u001b[0mself\u001b[0m\u001b[1;33m.\u001b[0m\u001b[0minsert_counter\u001b[0m\u001b[1;33m,\u001b[0m \u001b[0mself\u001b[0m\u001b[1;33m.\u001b[0m\u001b[0mlayer_name\u001b[0m\u001b[1;33m,\u001b[0m \u001b[0mself\u001b[0m\u001b[1;33m.\u001b[0m\u001b[0mcollection\u001b[0m\u001b[1;33m.\u001b[0m\u001b[0mname\u001b[0m\u001b[1;33m)\u001b[0m\u001b[1;33m)\u001b[0m\u001b[1;33m\u001b[0m\u001b[1;33m\u001b[0m\u001b[0m\n\u001b[0;32m     71\u001b[0m \u001b[1;33m\u001b[0m\u001b[0m\n",
      "\u001b[1;32mc:\\users\\rasmu\\onedrive\\dokumendid\\estnltk\\estnltk\\estnltk\\storage\\postgres\\context_managers\\buffered_table_insert.py\u001b[0m in \u001b[0;36mclose\u001b[1;34m(self)\u001b[0m\n\u001b[0;32m     85\u001b[0m            after all insertions have been done.'''\n\u001b[0;32m     86\u001b[0m         \u001b[1;31m# Final flushing of the buffer\u001b[0m\u001b[1;33m\u001b[0m\u001b[1;33m\u001b[0m\u001b[1;33m\u001b[0m\u001b[0m\n\u001b[1;32m---> 87\u001b[1;33m         \u001b[0mself\u001b[0m\u001b[1;33m.\u001b[0m\u001b[0m_flush_insert_buffer\u001b[0m\u001b[1;33m(\u001b[0m\u001b[1;33m)\u001b[0m\u001b[1;33m\u001b[0m\u001b[1;33m\u001b[0m\u001b[0m\n\u001b[0m\u001b[0;32m     88\u001b[0m         \u001b[1;32mif\u001b[0m \u001b[0mself\u001b[0m\u001b[1;33m.\u001b[0m\u001b[0mcursor\u001b[0m \u001b[1;32mis\u001b[0m \u001b[1;32mnot\u001b[0m \u001b[1;32mNone\u001b[0m\u001b[1;33m:\u001b[0m\u001b[1;33m\u001b[0m\u001b[1;33m\u001b[0m\u001b[0m\n\u001b[0;32m     89\u001b[0m             \u001b[1;31m# Close the cursor\u001b[0m\u001b[1;33m\u001b[0m\u001b[1;33m\u001b[0m\u001b[1;33m\u001b[0m\u001b[0m\n",
      "\u001b[1;32mc:\\users\\rasmu\\onedrive\\dokumendid\\estnltk\\estnltk\\estnltk\\storage\\postgres\\context_managers\\buffered_table_insert.py\u001b[0m in \u001b[0;36m_flush_insert_buffer\u001b[1;34m(self)\u001b[0m\n\u001b[0;32m    132\u001b[0m                            \u001b[0mself\u001b[0m\u001b[1;33m.\u001b[0m\u001b[0mtable_identifier\u001b[0m\u001b[1;33m,\u001b[0m\u001b[1;33m\u001b[0m\u001b[1;33m\u001b[0m\u001b[0m\n\u001b[0;32m    133\u001b[0m                            \u001b[0mself\u001b[0m\u001b[1;33m.\u001b[0m\u001b[0mcolumn_identifiers\u001b[0m\u001b[1;33m,\u001b[0m\u001b[1;33m\u001b[0m\u001b[1;33m\u001b[0m\u001b[0m\n\u001b[1;32m--> 134\u001b[1;33m                            SQL(', ').join(self.buffer)))\n\u001b[0m\u001b[0;32m    135\u001b[0m             \u001b[0mself\u001b[0m\u001b[1;33m.\u001b[0m\u001b[0mcursor\u001b[0m\u001b[1;33m.\u001b[0m\u001b[0mconnection\u001b[0m\u001b[1;33m.\u001b[0m\u001b[0mcommit\u001b[0m\u001b[1;33m(\u001b[0m\u001b[1;33m)\u001b[0m\u001b[1;33m\u001b[0m\u001b[1;33m\u001b[0m\u001b[0m\n\u001b[0;32m    136\u001b[0m         \u001b[1;32mexcept\u001b[0m \u001b[0mException\u001b[0m \u001b[1;32mas\u001b[0m \u001b[0mex\u001b[0m\u001b[1;33m:\u001b[0m\u001b[1;33m\u001b[0m\u001b[1;33m\u001b[0m\u001b[0m\n",
      "\u001b[1;31mUniqueViolation\u001b[0m: duplicate key value violates unique constraint \"ner_texts__ner__layer_pkey\"\nDETAIL:  Key (id)=(1) already exists.\n"
     ]
    }
   ],
   "source": [
    "'''collection_b = storage_b['ner_texts']\n",
    "collection_b.create_layer_block(tagger=ner_tagger, meta=None, block=(2, 1))'''"
   ]
  },
  {
   "cell_type": "code",
   "execution_count": 20,
   "id": "71cc2a06",
   "metadata": {},
   "outputs": [],
   "source": [
    "collection.selected_layers = ['ner']"
   ]
  },
  {
   "cell_type": "code",
   "execution_count": 21,
   "id": "6a245669",
   "metadata": {},
   "outputs": [],
   "source": [
    "entity_map = {}\n",
    "#create a dictionary where keys are tuples of words and values are the nertags assigned to that span\n",
    "\n",
    "for text in collection:\n",
    "    for match in text.ner:\n",
    "        current = entity_map.get(tuple(match.text),[])\n",
    "        if match.nertag not in current:\n",
    "            current.append(match.nertag)\n",
    "            entity_map[tuple(match.text)] = current"
   ]
  },
  {
   "cell_type": "code",
   "execution_count": 22,
   "id": "f200a7d6",
   "metadata": {},
   "outputs": [],
   "source": [
    "import pickle \n",
    "\n",
    "#since the first part is unlikely to change later but takes a lot of time, here is a checkpoint where the entity map\n",
    "#is saved to a separate file so that editing the notebook later can start from here\n",
    "with open('entity_map.pkl', 'wb') as f:\n",
    "    pickle.dump(entity_map, f)"
   ]
  }
 ],
 "metadata": {
  "kernelspec": {
   "display_name": "Python 3",
   "language": "python",
   "name": "python3"
  },
  "language_info": {
   "codemirror_mode": {
    "name": "ipython",
    "version": 3
   },
   "file_extension": ".py",
   "mimetype": "text/x-python",
   "name": "python",
   "nbconvert_exporter": "python",
   "pygments_lexer": "ipython3",
   "version": "3.6.12"
  }
 },
 "nbformat": 4,
 "nbformat_minor": 5
}
