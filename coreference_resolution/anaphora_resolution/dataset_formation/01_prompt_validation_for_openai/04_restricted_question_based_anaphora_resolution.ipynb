{
 "cells": [
  {
   "cell_type": "markdown",
   "id": "82f53ff7-1bd0-45b2-8c82-979ab954a0b5",
   "metadata": {},
   "source": [
    "# Restricted question based resolution of anaphoras"
   ]
  },
  {
   "cell_type": "code",
   "execution_count": 1,
   "id": "dee0b923-a471-477b-a355-52db6eb6b4bf",
   "metadata": {},
   "outputs": [],
   "source": [
    "import sys\n",
    "sys.path.append(\"../\")"
   ]
  },
  {
   "cell_type": "code",
   "execution_count": 2,
   "id": "d2f1152f-e7cc-49af-a5a0-d61683e2d6f3",
   "metadata": {},
   "outputs": [],
   "source": [
    "import openai\n",
    "import configparser\n",
    "\n",
    "from llm_library.openai import configure_azure_model\n",
    "from llm_library.openai import ask_openai\n",
    "\n",
    "from pandas import read_csv\n",
    "from pandas import DataFrame\n",
    "from tqdm.auto import tqdm \n",
    "from math import isnan"
   ]
  },
  {
   "cell_type": "markdown",
   "id": "dd79f8cb-27bb-4ff6-a1b4-a56484d4f693",
   "metadata": {},
   "source": [
    "## I. Set up Azure API "
   ]
  },
  {
   "cell_type": "code",
   "execution_count": 3,
   "id": "8c72960c-e010-4522-b7ac-f59a5c9b399f",
   "metadata": {},
   "outputs": [],
   "source": [
    "config = configparser.ConfigParser()\n",
    "status = config.read('../model_configurations/azure.ini') \n",
    "assert status == ['../model_configurations/azure.ini']"
   ]
  },
  {
   "cell_type": "code",
   "execution_count": 4,
   "id": "65591455-fc44-4d80-823e-6daed42a34ed",
   "metadata": {},
   "outputs": [
    {
     "name": "stdout",
     "output_type": "stream",
     "text": [
      "Going to use model gpt-35-turbo\n",
      "Test\n",
      "Q: What is time?\n",
      "A: Time is a fundamental concept that refers to the continued progress of events, measured in terms of seconds, minutes, hours, days, months, or years\n"
     ]
    }
   ],
   "source": [
    "gpt_conf = configure_azure_model(config)\n",
    "print(f\"Going to use model {gpt_conf.model_name}\")\n",
    "print(\"Test\")\n",
    "print(\"Q: What is time?\")\n",
    "print(f\"A: {ask_openai(gpt_conf, prompt='What is time?', stop='.')}\")"
   ]
  },
  {
   "cell_type": "markdown",
   "id": "6d5785dd-35fa-4540-b03c-04eb84647a05",
   "metadata": {},
   "source": [
    "## II. Clean the input file\n",
    "\n",
    "There are markers in sewntence texts that should be removed for further analysis.   "
   ]
  },
  {
   "cell_type": "code",
   "execution_count": 5,
   "id": "d0df53f7-1a63-4c42-800f-705d3de42bbb",
   "metadata": {},
   "outputs": [
    {
     "data": {
      "text/html": [
       "<div>\n",
       "<style scoped>\n",
       "    .dataframe tbody tr th:only-of-type {\n",
       "        vertical-align: middle;\n",
       "    }\n",
       "\n",
       "    .dataframe tbody tr th {\n",
       "        vertical-align: top;\n",
       "    }\n",
       "\n",
       "    .dataframe thead th {\n",
       "        text-align: right;\n",
       "    }\n",
       "</style>\n",
       "<table border=\"1\" class=\"dataframe\">\n",
       "  <thead>\n",
       "    <tr style=\"text-align: right;\">\n",
       "      <th></th>\n",
       "      <th>index</th>\n",
       "      <th>label</th>\n",
       "      <th>pronoun</th>\n",
       "      <th>pronoun_lemma</th>\n",
       "      <th>pronoun_sentence</th>\n",
       "      <th>question</th>\n",
       "      <th>question_fix</th>\n",
       "      <th>possible_antecedents</th>\n",
       "      <th>correct_antecedent</th>\n",
       "      <th>antecendent_in_list</th>\n",
       "      <th>sentence</th>\n",
       "    </tr>\n",
       "  </thead>\n",
       "  <tbody>\n",
       "    <tr>\n",
       "      <th>0</th>\n",
       "      <td>0</td>\n",
       "      <td>1</td>\n",
       "      <td>neile</td>\n",
       "      <td>['see']</td>\n",
       "      <td>***Inimeste*** kaasamine ettevõtte tuleviku pl...</td>\n",
       "      <td>kellele tagasiside andmine ja nende arendamine ?</td>\n",
       "      <td>kellele tagasiside andmine ?</td>\n",
       "      <td>[Inimeste, kaasamine, ettevõtte, tuleviku, pla...</td>\n",
       "      <td>Inimeste</td>\n",
       "      <td>1</td>\n",
       "      <td>Inimeste kaasamine ettevõtte tuleviku planeeri...</td>\n",
       "    </tr>\n",
       "    <tr>\n",
       "      <th>1</th>\n",
       "      <td>1</td>\n",
       "      <td>1</td>\n",
       "      <td>nende</td>\n",
       "      <td>['tema']</td>\n",
       "      <td>***Inimeste*** kaasamine ettevõtte tuleviku pl...</td>\n",
       "      <td>kelle arendamine ?</td>\n",
       "      <td>NaN</td>\n",
       "      <td>[Inimeste, kaasamine, ettevõtte, tuleviku, pla...</td>\n",
       "      <td>Inimeste</td>\n",
       "      <td>1</td>\n",
       "      <td>Inimeste kaasamine ettevõtte tuleviku planeeri...</td>\n",
       "    </tr>\n",
       "    <tr>\n",
       "      <th>2</th>\n",
       "      <td>2</td>\n",
       "      <td>1</td>\n",
       "      <td>kes</td>\n",
       "      <td>['kes', 'kes']</td>\n",
       "      <td>1 ) Eesti kodaniku ***abikaasat*** ,  **kes** ...</td>\n",
       "      <td>kes taotleb elamisluba käesoleva seaduse § 12 ...</td>\n",
       "      <td>NaN</td>\n",
       "      <td>[kodaniku, abikaasat, elamisluba, seaduse, lõi...</td>\n",
       "      <td>abikaasat</td>\n",
       "      <td>1</td>\n",
       "      <td>1 ) Eesti kodaniku abikaasat ,  kes  taotleb e...</td>\n",
       "    </tr>\n",
       "    <tr>\n",
       "      <th>3</th>\n",
       "      <td>3</td>\n",
       "      <td>1</td>\n",
       "      <td>millega</td>\n",
       "      <td>['mis', 'mis']</td>\n",
       "      <td>Viimasel etapil hoidis tiirudes kõik märgid ma...</td>\n",
       "      <td>millega Eesti teenis 10 MK punkti ?</td>\n",
       "      <td>NaN</td>\n",
       "      <td>[etapil, tiirudes, märgid, kohta, punkti, Viim...</td>\n",
       "      <td>kohta</td>\n",
       "      <td>1</td>\n",
       "      <td>Viimasel etapil hoidis tiirudes kõik märgid ma...</td>\n",
       "    </tr>\n",
       "    <tr>\n",
       "      <th>4</th>\n",
       "      <td>4</td>\n",
       "      <td>1</td>\n",
       "      <td>nad</td>\n",
       "      <td>['tema']</td>\n",
       "      <td>Õnneks ***mehed*** siiski päästeti , sest  **n...</td>\n",
       "      <td>kes taipasid kiiresti telefonist SIM-kaardi ee...</td>\n",
       "      <td>NaN</td>\n",
       "      <td>[Õnneks, mehed, telefonist, SIM-kaardi, kõne, ...</td>\n",
       "      <td>mehed</td>\n",
       "      <td>1</td>\n",
       "      <td>Õnneks mehed siiski päästeti , sest  nad  taip...</td>\n",
       "    </tr>\n",
       "  </tbody>\n",
       "</table>\n",
       "</div>"
      ],
      "text/plain": [
       "   index  label  pronoun   pronoun_lemma  \\\n",
       "0      0      1    neile         ['see']   \n",
       "1      1      1    nende        ['tema']   \n",
       "2      2      1      kes  ['kes', 'kes']   \n",
       "3      3      1  millega  ['mis', 'mis']   \n",
       "4      4      1      nad        ['tema']   \n",
       "\n",
       "                                    pronoun_sentence  \\\n",
       "0  ***Inimeste*** kaasamine ettevõtte tuleviku pl...   \n",
       "1  ***Inimeste*** kaasamine ettevõtte tuleviku pl...   \n",
       "2  1 ) Eesti kodaniku ***abikaasat*** ,  **kes** ...   \n",
       "3  Viimasel etapil hoidis tiirudes kõik märgid ma...   \n",
       "4  Õnneks ***mehed*** siiski päästeti , sest  **n...   \n",
       "\n",
       "                                            question  \\\n",
       "0   kellele tagasiside andmine ja nende arendamine ?   \n",
       "1                                 kelle arendamine ?   \n",
       "2  kes taotleb elamisluba käesoleva seaduse § 12 ...   \n",
       "3                millega Eesti teenis 10 MK punkti ?   \n",
       "4  kes taipasid kiiresti telefonist SIM-kaardi ee...   \n",
       "\n",
       "                   question_fix  \\\n",
       "0  kellele tagasiside andmine ?   \n",
       "1                           NaN   \n",
       "2                           NaN   \n",
       "3                           NaN   \n",
       "4                           NaN   \n",
       "\n",
       "                                possible_antecedents correct_antecedent  \\\n",
       "0  [Inimeste, kaasamine, ettevõtte, tuleviku, pla...           Inimeste   \n",
       "1  [Inimeste, kaasamine, ettevõtte, tuleviku, pla...           Inimeste   \n",
       "2  [kodaniku, abikaasat, elamisluba, seaduse, lõi...          abikaasat   \n",
       "3  [etapil, tiirudes, märgid, kohta, punkti, Viim...              kohta   \n",
       "4  [Õnneks, mehed, telefonist, SIM-kaardi, kõne, ...              mehed   \n",
       "\n",
       "   antecendent_in_list                                           sentence  \n",
       "0                    1  Inimeste kaasamine ettevõtte tuleviku planeeri...  \n",
       "1                    1  Inimeste kaasamine ettevõtte tuleviku planeeri...  \n",
       "2                    1  1 ) Eesti kodaniku abikaasat ,  kes  taotleb e...  \n",
       "3                    1  Viimasel etapil hoidis tiirudes kõik märgid ma...  \n",
       "4                    1  Õnneks mehed siiski päästeti , sest  nad  taip...  "
      ]
     },
     "execution_count": 5,
     "metadata": {},
     "output_type": "execute_result"
    }
   ],
   "source": [
    "tbl = (read_csv('input_data/anaphora_resolution.csv')\n",
    "       .assign(possible_antecedents=lambda df: df['possible_antecedents'].map(eval))\n",
    "       .assign(sentence=lambda tbl: tbl['pronoun_sentence'].str.replace('\\*\\*\\*|\\*\\*', '', regex=True))\n",
    "       )\n",
    "assert sum(tbl['sentence'].str.find('*') != -1) == 3, 'These are validated sentences'\n",
    "tbl.head()"
   ]
  },
  {
   "cell_type": "markdown",
   "id": "7cdc3e4f-f40e-4347-8c7f-729e12dea76f",
   "metadata": {},
   "source": [
    "## III. Strictly restricted anaphore resolution with ChatGPT "
   ]
  },
  {
   "cell_type": "code",
   "execution_count": 6,
   "id": "9e8e64e1-fcf5-41c1-882e-5ddc8e584860",
   "metadata": {},
   "outputs": [],
   "source": [
    "prompt = (\n",
    "    \"Answer the following question in JSON format based on the provided list of possible answers.\\n\" \n",
    "    \"The key value should be 'answer'. The entity value should be exactly as it is written in the list.\\n\" \n",
    "    \"Sentence: ‘{sentence}'\\n\" \n",
    "    \"The question: '{question}'\\n\" \n",
    "    \"Possible answers list:\\n\\t{variants}\")"
   ]
  },
  {
   "cell_type": "markdown",
   "id": "fb97b51f-9aa5-43a3-a07b-5f1d00709fd3",
   "metadata": {},
   "source": [
    "### Constructed question"
   ]
  },
  {
   "cell_type": "code",
   "execution_count": 7,
   "id": "abb834e6-a186-4e2e-b127-a62c9660efa8",
   "metadata": {},
   "outputs": [
    {
     "data": {
      "application/vnd.jupyter.widget-view+json": {
       "model_id": "19d7321f2b4a404995a051733ca1ec71",
       "version_major": 2,
       "version_minor": 0
      },
      "text/plain": [
       "  0%|          | 0/1052 [00:00<?, ?it/s]"
      ]
     },
     "metadata": {},
     "output_type": "display_data"
    },
    {
     "name": "stdout",
     "output_type": "stream",
     "text": [
      "The response was filtered due to the prompt triggering Azure OpenAI's content management policy. Please modify your prompt and retry. To learn more about our content filtering policies please read our documentation: https://go.microsoft.com/fwlink/?linkid=2198766\n",
      "The response was filtered due to the prompt triggering Azure OpenAI's content management policy. Please modify your prompt and retry. To learn more about our content filtering policies please read our documentation: https://go.microsoft.com/fwlink/?linkid=2198766\n"
     ]
    }
   ],
   "source": [
    "columns = ['pronoun_sentence', 'question', 'possible_antecedents', 'sentence']\n",
    "result = tbl[columns].reset_index(names='index').assign(result=None)\n",
    "for i, (_, question, variants, sentence) in tqdm(tbl[columns].iterrows(), total=len(tbl)):\n",
    "    result.loc[i, 'result'] = ask_openai(gpt_conf, prompt.format(question=question, sentence=sentence, variants=variants))"
   ]
  },
  {
   "cell_type": "code",
   "execution_count": 8,
   "id": "3b50ad31-ec6e-445b-bcbb-9f3d15e996ac",
   "metadata": {},
   "outputs": [],
   "source": [
    "export_columns = ['pronoun_sentence', 'question', 'possible_antecedents', 'result']\n",
    "result[export_columns].to_csv(f\"output_data/{gpt_conf.model_name}/anaphora_resolution_strictly_restricted_answer_and_constructed_question.csv\")"
   ]
  },
  {
   "cell_type": "markdown",
   "id": "e2910007-2122-446c-8e8d-69fb3e4d5f4f",
   "metadata": {},
   "source": [
    "### Manually corrected question"
   ]
  },
  {
   "cell_type": "code",
   "execution_count": 9,
   "id": "d11d21d1-6ef7-4c86-8b1c-4e635028a163",
   "metadata": {},
   "outputs": [
    {
     "data": {
      "application/vnd.jupyter.widget-view+json": {
       "model_id": "d3a20d0510334a3fa3eb28fc0344e5bd",
       "version_major": 2,
       "version_minor": 0
      },
      "text/plain": [
       "  0%|          | 0/1052 [00:00<?, ?it/s]"
      ]
     },
     "metadata": {},
     "output_type": "display_data"
    }
   ],
   "source": [
    "columns = ['pronoun_sentence', 'question_fix', 'possible_antecedents', 'sentence']\n",
    "result = tbl[columns].reset_index(names='index').assign(result=None)\n",
    "for i, (_, question, variants, sentence) in tqdm(tbl[columns].iterrows(), total=len(tbl)):\n",
    "    if not isinstance(question, str):\n",
    "        continue\n",
    "    result.loc[i, 'result'] = ask_openai(gpt_conf, prompt.format(question=question, sentence=sentence, variants=variants))"
   ]
  },
  {
   "cell_type": "code",
   "execution_count": 10,
   "id": "0d422d81-5f92-4135-ac37-0d0c6a610279",
   "metadata": {},
   "outputs": [],
   "source": [
    "export_columns = ['pronoun_sentence', 'question_fix', 'possible_antecedents', 'result']\n",
    "result[export_columns].to_csv(f\"output_data/{gpt_conf.model_name}/anaphora_resolution_strictly_restricted_answer_and_manually_constructed_question.csv\")"
   ]
  },
  {
   "cell_type": "markdown",
   "id": "385ec3f5-e4c8-4b70-bd99-c7d8e3657602",
   "metadata": {},
   "source": [
    "## IV. Guided anaphore resolution with ChatGPT "
   ]
  },
  {
   "cell_type": "code",
   "execution_count": 11,
   "id": "09c836a1-6469-4d41-9461-5ff37ed63d6c",
   "metadata": {},
   "outputs": [],
   "source": [
    "prompt = (\n",
    "    \"Answer the following question in JSON format based on the provided list of possible answers. The key value should be 'answer'.\\n\"\n",
    "    \"If the correct entity from the question is not present in the list, then the answer should be 'MISSING_VARIANT'.\\n\" \n",
    "    \"If the correct answer is found in the list, select it exactly as it is written.\\n\"\n",
    "    \"Sentence: ‘{sentence}'\\n\" \n",
    "    \"The question: '{question}'\\n\" \n",
    "    \"Possible answers list:\\n\\t{variants}\")"
   ]
  },
  {
   "cell_type": "markdown",
   "id": "15662046-7783-4d91-a3be-7ae7832bedfc",
   "metadata": {},
   "source": [
    "### Constructed question"
   ]
  },
  {
   "cell_type": "code",
   "execution_count": 12,
   "id": "6a5c57a5-aab7-4cac-b363-2800ad4a0444",
   "metadata": {},
   "outputs": [
    {
     "data": {
      "application/vnd.jupyter.widget-view+json": {
       "model_id": "7634cd5dd2f54496b78f3442a18cda46",
       "version_major": 2,
       "version_minor": 0
      },
      "text/plain": [
       "  0%|          | 0/1052 [00:00<?, ?it/s]"
      ]
     },
     "metadata": {},
     "output_type": "display_data"
    },
    {
     "name": "stdout",
     "output_type": "stream",
     "text": [
      "The response was filtered due to the prompt triggering Azure OpenAI's content management policy. Please modify your prompt and retry. To learn more about our content filtering policies please read our documentation: https://go.microsoft.com/fwlink/?linkid=2198766\n",
      "The response was filtered due to the prompt triggering Azure OpenAI's content management policy. Please modify your prompt and retry. To learn more about our content filtering policies please read our documentation: https://go.microsoft.com/fwlink/?linkid=2198766\n"
     ]
    }
   ],
   "source": [
    "columns = ['pronoun_sentence', 'question', 'possible_antecedents', 'sentence']\n",
    "result = tbl[columns].reset_index(names='index').assign(result=None)\n",
    "for i, (_, question, variants, sentence) in tqdm(tbl[columns].iterrows(), total=len(tbl)):\n",
    "    result.loc[i, 'result'] = ask_openai(gpt_conf, prompt.format(question=question, sentence=sentence, variants=variants))"
   ]
  },
  {
   "cell_type": "code",
   "execution_count": 13,
   "id": "e0a3808d-cdd7-4709-a384-ffea838dd02e",
   "metadata": {},
   "outputs": [],
   "source": [
    "export_columns = ['pronoun_sentence', 'question', 'possible_antecedents', 'result']\n",
    "result[export_columns].to_csv(f\"output_data/{gpt_conf.model_name}/anaphora_resolution_guided_answer_and_constructed_question.csv\")"
   ]
  },
  {
   "cell_type": "markdown",
   "id": "b60b1df7-dc2e-47af-9aeb-daaadbe3858d",
   "metadata": {},
   "source": [
    "### Manually corrected question"
   ]
  },
  {
   "cell_type": "code",
   "execution_count": 14,
   "id": "b335d36d-d2f1-4ac3-a74a-6db713d68094",
   "metadata": {},
   "outputs": [
    {
     "data": {
      "application/vnd.jupyter.widget-view+json": {
       "model_id": "0994aae6503845fe92fca591e675534b",
       "version_major": 2,
       "version_minor": 0
      },
      "text/plain": [
       "  0%|          | 0/1052 [00:00<?, ?it/s]"
      ]
     },
     "metadata": {},
     "output_type": "display_data"
    }
   ],
   "source": [
    "columns = ['pronoun_sentence', 'question_fix', 'possible_antecedents', 'sentence']\n",
    "result = tbl[columns].reset_index(names='index').assign(result=None)\n",
    "for i, (_, question, variants, sentence) in tqdm(tbl[columns].iterrows(), total=len(tbl)):\n",
    "    if not isinstance(question, str):\n",
    "        continue\n",
    "    result.loc[i, 'result'] = ask_openai(gpt_conf, prompt.format(question=question, sentence=sentence, variants=variants))"
   ]
  },
  {
   "cell_type": "code",
   "execution_count": 15,
   "id": "4130607e-e902-47f3-8c62-efe1e6edc6fb",
   "metadata": {},
   "outputs": [],
   "source": [
    "export_columns = ['pronoun_sentence', 'question_fix', 'possible_antecedents', 'result']\n",
    "result[export_columns].to_csv(f\"output_data/{gpt_conf.model_name}/anaphora_resolution_guided_answer_and_manually_constructed_question.csv\")"
   ]
  }
 ],
 "metadata": {
  "kernelspec": {
   "display_name": "Python 3 (ipykernel)",
   "language": "python",
   "name": "python3"
  },
  "language_info": {
   "codemirror_mode": {
    "name": "ipython",
    "version": 3
   },
   "file_extension": ".py",
   "mimetype": "text/x-python",
   "name": "python",
   "nbconvert_exporter": "python",
   "pygments_lexer": "ipython3",
   "version": "3.9.19"
  }
 },
 "nbformat": 4,
 "nbformat_minor": 5
}
