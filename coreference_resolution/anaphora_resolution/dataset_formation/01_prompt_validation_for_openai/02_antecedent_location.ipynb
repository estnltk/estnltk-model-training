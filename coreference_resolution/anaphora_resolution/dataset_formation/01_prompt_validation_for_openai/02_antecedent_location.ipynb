{
 "cells": [
  {
   "cell_type": "markdown",
   "id": "95aa9887-5001-4c32-bc7b-ec4820972365",
   "metadata": {},
   "source": [
    "# Antecendent presence in the sentence "
   ]
  },
  {
   "cell_type": "code",
   "execution_count": 1,
   "id": "f73c07d3-c5a6-4bf4-afe0-257af7f64109",
   "metadata": {},
   "outputs": [],
   "source": [
    "import sys\n",
    "sys.path.append(\"../\")"
   ]
  },
  {
   "cell_type": "code",
   "execution_count": 2,
   "id": "92d1180d-545c-4526-8978-42a1c7c7a667",
   "metadata": {},
   "outputs": [],
   "source": [
    "import openai\n",
    "import configparser\n",
    "\n",
    "from llm_library.openai import configure_azure_model\n",
    "from llm_library.openai import ask_openai\n",
    "\n",
    "from pandas import read_csv\n",
    "from pandas import DataFrame\n",
    "from tqdm.auto import tqdm \n",
    "from math import isnan"
   ]
  },
  {
   "cell_type": "markdown",
   "id": "50d9685c-b13e-4ea5-938d-45b4d026daad",
   "metadata": {},
   "source": [
    "## I. Set up Azure API "
   ]
  },
  {
   "cell_type": "code",
   "execution_count": 3,
   "id": "26dd33c7-07cb-4144-bae5-f052f8c2fa4d",
   "metadata": {},
   "outputs": [],
   "source": [
    "config = configparser.ConfigParser()\n",
    "status = config.read('../model_configurations/azure.ini') \n",
    "assert status == ['../model_configurations/azure.ini']"
   ]
  },
  {
   "cell_type": "code",
   "execution_count": 4,
   "id": "5fcf3a95-5d61-43ab-b3a8-0d2b93a63e55",
   "metadata": {},
   "outputs": [
    {
     "name": "stdout",
     "output_type": "stream",
     "text": [
      "Going to use model gpt-35-turbo\n",
      "Test\n",
      "Q: What is time?\n",
      "A: Time is a fundamental concept in physics and philosophy that refers to the sequence of events and the ongoing, irreversible flow from past to present to future\n"
     ]
    }
   ],
   "source": [
    "gpt_conf = configure_azure_model(config)\n",
    "print(f\"Going to use model {gpt_conf.model_name}\")\n",
    "print(\"Test\")\n",
    "print(\"Q: What is time?\")\n",
    "print(f\"A: {ask_openai(gpt_conf, prompt='What is time?', stop='.')}\")"
   ]
  },
  {
   "cell_type": "markdown",
   "id": "ad9dd9d8-4fc1-48eb-8f1f-7cfd0f8a47f4",
   "metadata": {},
   "source": [
    "## II. Test whether anaphora antecedent is in the sentence with ChatGPT  "
   ]
  },
  {
   "cell_type": "code",
   "execution_count": 5,
   "id": "8cb15fc1-096b-421a-a941-27fa8ea632f5",
   "metadata": {},
   "outputs": [
    {
     "data": {
      "text/html": [
       "<div>\n",
       "<style scoped>\n",
       "    .dataframe tbody tr th:only-of-type {\n",
       "        vertical-align: middle;\n",
       "    }\n",
       "\n",
       "    .dataframe tbody tr th {\n",
       "        vertical-align: top;\n",
       "    }\n",
       "\n",
       "    .dataframe thead th {\n",
       "        text-align: right;\n",
       "    }\n",
       "</style>\n",
       "<table border=\"1\" class=\"dataframe\">\n",
       "  <thead>\n",
       "    <tr style=\"text-align: right;\">\n",
       "      <th></th>\n",
       "      <th>index</th>\n",
       "      <th>label</th>\n",
       "      <th>pronoun</th>\n",
       "      <th>pronoun_lemma</th>\n",
       "      <th>pronoun_sentence</th>\n",
       "    </tr>\n",
       "  </thead>\n",
       "  <tbody>\n",
       "    <tr>\n",
       "      <th>0</th>\n",
       "      <td>1</td>\n",
       "      <td>1</td>\n",
       "      <td>neile</td>\n",
       "      <td>['see']</td>\n",
       "      <td>Inimeste kaasamine ettevõtte tuleviku planeeri...</td>\n",
       "    </tr>\n",
       "    <tr>\n",
       "      <th>1</th>\n",
       "      <td>2</td>\n",
       "      <td>1</td>\n",
       "      <td>nende</td>\n",
       "      <td>['tema']</td>\n",
       "      <td>Inimeste kaasamine ettevõtte tuleviku planeeri...</td>\n",
       "    </tr>\n",
       "    <tr>\n",
       "      <th>2</th>\n",
       "      <td>3</td>\n",
       "      <td>2</td>\n",
       "      <td>ma</td>\n",
       "      <td>['mina']</td>\n",
       "      <td>Ei tea , kas  **ma**  lugesin seda Vindi raama...</td>\n",
       "    </tr>\n",
       "    <tr>\n",
       "      <th>3</th>\n",
       "      <td>4</td>\n",
       "      <td>2</td>\n",
       "      <td>seda</td>\n",
       "      <td>['see']</td>\n",
       "      <td>Ei tea , kas ma lugesin  **seda**  Vindi raama...</td>\n",
       "    </tr>\n",
       "    <tr>\n",
       "      <th>4</th>\n",
       "      <td>5</td>\n",
       "      <td>2</td>\n",
       "      <td>see</td>\n",
       "      <td>['see']</td>\n",
       "      <td>Ei tea , kas ma lugesin seda Vindi raamatust ,...</td>\n",
       "    </tr>\n",
       "  </tbody>\n",
       "</table>\n",
       "</div>"
      ],
      "text/plain": [
       "   index label pronoun pronoun_lemma  \\\n",
       "0      1     1   neile       ['see']   \n",
       "1      2     1   nende      ['tema']   \n",
       "2      3     2      ma      ['mina']   \n",
       "3      4     2    seda       ['see']   \n",
       "4      5     2     see       ['see']   \n",
       "\n",
       "                                    pronoun_sentence  \n",
       "0  Inimeste kaasamine ettevõtte tuleviku planeeri...  \n",
       "1  Inimeste kaasamine ettevõtte tuleviku planeeri...  \n",
       "2  Ei tea , kas  **ma**  lugesin seda Vindi raama...  \n",
       "3  Ei tea , kas ma lugesin  **seda**  Vindi raama...  \n",
       "4  Ei tea , kas ma lugesin seda Vindi raamatust ,...  "
      ]
     },
     "execution_count": 5,
     "metadata": {},
     "output_type": "execute_result"
    }
   ],
   "source": [
    "tbl = read_csv('input_data/anaphora_presence.csv')\n",
    "tbl.head()"
   ]
  },
  {
   "cell_type": "markdown",
   "id": "d35b7d6e-d627-460a-a7c3-7ee6554ae54c",
   "metadata": {},
   "source": [
    "### Presence in the sentence"
   ]
  },
  {
   "cell_type": "code",
   "execution_count": 6,
   "id": "4cca23d7-3bd9-41ec-b3dd-f0148f561140",
   "metadata": {},
   "outputs": [],
   "source": [
    "prompt = (\n",
    "    \"Is the explicit antecedent for the anaphora '{pronoun}' in this Estonian sentence:\\n'{sentence}'\\n\"\n",
    "    'Answer in JSON format with either \"yes\" ,\"no\" or \"other\" when the provided word is not an anaphora.'\n",
    ")"
   ]
  },
  {
   "cell_type": "code",
   "execution_count": 7,
   "id": "748340d1-e868-4452-88b1-ea1ae37de75e",
   "metadata": {},
   "outputs": [
    {
     "data": {
      "application/vnd.jupyter.widget-view+json": {
       "model_id": "f9de425ab7614160a514ca669eb0bf8c",
       "version_major": 2,
       "version_minor": 0
      },
      "text/plain": [
       "  0%|          | 0/4000 [00:00<?, ?it/s]"
      ]
     },
     "metadata": {},
     "output_type": "display_data"
    }
   ],
   "source": [
    "result = tbl[['pronoun', 'pronoun_sentence']].reset_index(names='index').assign(assesment=None)\n",
    "for i, (_, pronoun, sentence, _) in tqdm(result.iterrows(), total=len(tbl)):\n",
    "    full_prompt = prompt.format(sentence=sentence.replace('**', ''), pronoun=pronoun)\n",
    "    result.loc[i, 'assessment'] = ask_openai(gpt_conf, full_prompt) "
   ]
  },
  {
   "cell_type": "code",
   "execution_count": 8,
   "id": "c50652c4-9239-49a6-a38b-a20e0aba7bc9",
   "metadata": {},
   "outputs": [],
   "source": [
    "result.to_csv(f\"output_data/{gpt_conf.model_name}/anaphora_antecedent_is_in_sentence.csv\")"
   ]
  }
 ],
 "metadata": {
  "kernelspec": {
   "display_name": "Python 3 (ipykernel)",
   "language": "python",
   "name": "python3"
  },
  "language_info": {
   "codemirror_mode": {
    "name": "ipython",
    "version": 3
   },
   "file_extension": ".py",
   "mimetype": "text/x-python",
   "name": "python",
   "nbconvert_exporter": "python",
   "pygments_lexer": "ipython3",
   "version": "3.9.19"
  }
 },
 "nbformat": 4,
 "nbformat_minor": 5
}
