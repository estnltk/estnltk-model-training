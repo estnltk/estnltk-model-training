{
 "cells": [
  {
   "cell_type": "markdown",
   "id": "95aa9887-5001-4c32-bc7b-ec4820972365",
   "metadata": {},
   "source": [
    "# Unrestricted question based resolution of anaphoras   "
   ]
  },
  {
   "cell_type": "code",
   "execution_count": 1,
   "id": "f73c07d3-c5a6-4bf4-afe0-257af7f64109",
   "metadata": {},
   "outputs": [],
   "source": [
    "import sys\n",
    "sys.path.append(\"../\")"
   ]
  },
  {
   "cell_type": "code",
   "execution_count": 2,
   "id": "92d1180d-545c-4526-8978-42a1c7c7a667",
   "metadata": {},
   "outputs": [],
   "source": [
    "import openai\n",
    "import configparser\n",
    "\n",
    "from llm_library.openai import configure_azure_model\n",
    "from llm_library.openai import ask_openai\n",
    "\n",
    "from pandas import read_csv\n",
    "from pandas import DataFrame\n",
    "from tqdm.auto import tqdm \n",
    "from math import isnan"
   ]
  },
  {
   "cell_type": "markdown",
   "id": "50d9685c-b13e-4ea5-938d-45b4d026daad",
   "metadata": {},
   "source": [
    "## I. Set up Azure API "
   ]
  },
  {
   "cell_type": "code",
   "execution_count": 3,
   "id": "26dd33c7-07cb-4144-bae5-f052f8c2fa4d",
   "metadata": {},
   "outputs": [],
   "source": [
    "config = configparser.ConfigParser()\n",
    "status = config.read('../model_configurations/azure.ini') \n",
    "assert status == ['../model_configurations/azure.ini']"
   ]
  },
  {
   "cell_type": "code",
   "execution_count": 4,
   "id": "5fcf3a95-5d61-43ab-b3a8-0d2b93a63e55",
   "metadata": {},
   "outputs": [
    {
     "name": "stdout",
     "output_type": "stream",
     "text": [
      "Going to use model gpt-35-turbo\n",
      "Test\n",
      "Q: What is time?\n",
      "A: Time is a fundamental concept used to measure the sequence and duration of events\n"
     ]
    }
   ],
   "source": [
    "gpt_conf = configure_azure_model(config)\n",
    "print(f\"Going to use model {gpt_conf.model_name}\")\n",
    "print(\"Test\")\n",
    "print(\"Q: What is time?\")\n",
    "print(f\"A: {ask_openai(gpt_conf, prompt='What is time?', stop='.')}\")"
   ]
  },
  {
   "cell_type": "markdown",
   "id": "ad9dd9d8-4fc1-48eb-8f1f-7cfd0f8a47f4",
   "metadata": {},
   "source": [
    "## II. Direct anaphore resolution with ChatGPT  "
   ]
  },
  {
   "cell_type": "code",
   "execution_count": 5,
   "id": "8cb15fc1-096b-421a-a941-27fa8ea632f5",
   "metadata": {},
   "outputs": [
    {
     "data": {
      "text/html": [
       "<div>\n",
       "<style scoped>\n",
       "    .dataframe tbody tr th:only-of-type {\n",
       "        vertical-align: middle;\n",
       "    }\n",
       "\n",
       "    .dataframe tbody tr th {\n",
       "        vertical-align: top;\n",
       "    }\n",
       "\n",
       "    .dataframe thead th {\n",
       "        text-align: right;\n",
       "    }\n",
       "</style>\n",
       "<table border=\"1\" class=\"dataframe\">\n",
       "  <thead>\n",
       "    <tr style=\"text-align: right;\">\n",
       "      <th></th>\n",
       "      <th>index</th>\n",
       "      <th>label</th>\n",
       "      <th>pronoun</th>\n",
       "      <th>pronoun_lemma</th>\n",
       "      <th>pronoun_sentence</th>\n",
       "      <th>question</th>\n",
       "      <th>question_fix</th>\n",
       "    </tr>\n",
       "  </thead>\n",
       "  <tbody>\n",
       "    <tr>\n",
       "      <th>0</th>\n",
       "      <td>0</td>\n",
       "      <td>1</td>\n",
       "      <td>neile</td>\n",
       "      <td>['see']</td>\n",
       "      <td>Inimeste kaasamine ettevõtte tuleviku planeeri...</td>\n",
       "      <td>kellele tagasiside andmine ja nende arendamine ?</td>\n",
       "      <td>kellele tagasiside andmine ?</td>\n",
       "    </tr>\n",
       "    <tr>\n",
       "      <th>1</th>\n",
       "      <td>1</td>\n",
       "      <td>1</td>\n",
       "      <td>nende</td>\n",
       "      <td>['tema']</td>\n",
       "      <td>Inimeste kaasamine ettevõtte tuleviku planeeri...</td>\n",
       "      <td>kelle arendamine ?</td>\n",
       "      <td>NaN</td>\n",
       "    </tr>\n",
       "    <tr>\n",
       "      <th>2</th>\n",
       "      <td>2</td>\n",
       "      <td>1</td>\n",
       "      <td>kes</td>\n",
       "      <td>['kes', 'kes']</td>\n",
       "      <td>1 ) Eesti kodaniku abikaasat ,  **kes**  taotl...</td>\n",
       "      <td>kes taotleb elamisluba käesoleva seaduse § 12 ...</td>\n",
       "      <td>NaN</td>\n",
       "    </tr>\n",
       "    <tr>\n",
       "      <th>3</th>\n",
       "      <td>3</td>\n",
       "      <td>1</td>\n",
       "      <td>millega</td>\n",
       "      <td>['mis', 'mis']</td>\n",
       "      <td>Viimasel etapil hoidis tiirudes kõik märgid ma...</td>\n",
       "      <td>millega Eesti teenis 10 MK punkti ?</td>\n",
       "      <td>NaN</td>\n",
       "    </tr>\n",
       "    <tr>\n",
       "      <th>4</th>\n",
       "      <td>4</td>\n",
       "      <td>1</td>\n",
       "      <td>nad</td>\n",
       "      <td>['tema']</td>\n",
       "      <td>Õnneks mehed siiski päästeti , sest  **nad**  ...</td>\n",
       "      <td>kes taipasid kiiresti telefonist SIM-kaardi ee...</td>\n",
       "      <td>NaN</td>\n",
       "    </tr>\n",
       "  </tbody>\n",
       "</table>\n",
       "</div>"
      ],
      "text/plain": [
       "   index  label  pronoun   pronoun_lemma  \\\n",
       "0      0      1    neile         ['see']   \n",
       "1      1      1    nende        ['tema']   \n",
       "2      2      1      kes  ['kes', 'kes']   \n",
       "3      3      1  millega  ['mis', 'mis']   \n",
       "4      4      1      nad        ['tema']   \n",
       "\n",
       "                                    pronoun_sentence  \\\n",
       "0  Inimeste kaasamine ettevõtte tuleviku planeeri...   \n",
       "1  Inimeste kaasamine ettevõtte tuleviku planeeri...   \n",
       "2  1 ) Eesti kodaniku abikaasat ,  **kes**  taotl...   \n",
       "3  Viimasel etapil hoidis tiirudes kõik märgid ma...   \n",
       "4  Õnneks mehed siiski päästeti , sest  **nad**  ...   \n",
       "\n",
       "                                            question  \\\n",
       "0   kellele tagasiside andmine ja nende arendamine ?   \n",
       "1                                 kelle arendamine ?   \n",
       "2  kes taotleb elamisluba käesoleva seaduse § 12 ...   \n",
       "3                millega Eesti teenis 10 MK punkti ?   \n",
       "4  kes taipasid kiiresti telefonist SIM-kaardi ee...   \n",
       "\n",
       "                   question_fix  \n",
       "0  kellele tagasiside andmine ?  \n",
       "1                           NaN  \n",
       "2                           NaN  \n",
       "3                           NaN  \n",
       "4                           NaN  "
      ]
     },
     "execution_count": 5,
     "metadata": {},
     "output_type": "execute_result"
    }
   ],
   "source": [
    "tbl = read_csv('input_data/revealing_questions.csv')\n",
    "tbl.head()"
   ]
  },
  {
   "cell_type": "markdown",
   "id": "d35b7d6e-d627-460a-a7c3-7ee6554ae54c",
   "metadata": {},
   "source": [
    "###  Constructed question"
   ]
  },
  {
   "cell_type": "code",
   "execution_count": 6,
   "id": "dca3438d-1846-4aa4-b427-7e403a4873ca",
   "metadata": {},
   "outputs": [],
   "source": [
    "prompt = (\n",
    "    \"'{sentence}'\\n\"\n",
    "    'Answer the following question in JSON format.  Key value should be \"answer\" and entity value should be only one word.\\n'\n",
    "    \"'{question}'\\n\"\n",
    "    \"The entity value should be exactly as it is written in the text.\")"
   ]
  },
  {
   "cell_type": "code",
   "execution_count": 7,
   "id": "02f38b93-f1ca-426d-b9b9-e4f52a249e2a",
   "metadata": {},
   "outputs": [
    {
     "data": {
      "application/vnd.jupyter.widget-view+json": {
       "model_id": "bcea1043d5f742fd983754d363bbe9c5",
       "version_major": 2,
       "version_minor": 0
      },
      "text/plain": [
       "  0%|          | 0/1071 [00:00<?, ?it/s]"
      ]
     },
     "metadata": {},
     "output_type": "display_data"
    }
   ],
   "source": [
    "result = tbl[['pronoun_sentence', 'pronoun', 'question']].reset_index(names='index').assign(result=None)\n",
    "for i,  (_, sentence, pronoun, question, _) in tqdm(result.iterrows(), total=len(result)):\n",
    "    full_prompt = prompt.format(sentence=sentence.replace('**', ''), question=question)\n",
    "    result.loc[i, 'result'] = ask_openai(gpt_conf, full_prompt)"
   ]
  },
  {
   "cell_type": "code",
   "execution_count": 8,
   "id": "3eb0103f-dcad-4e9a-bd39-78b269c99060",
   "metadata": {},
   "outputs": [
    {
     "data": {
      "text/html": [
       "<div>\n",
       "<style scoped>\n",
       "    .dataframe tbody tr th:only-of-type {\n",
       "        vertical-align: middle;\n",
       "    }\n",
       "\n",
       "    .dataframe tbody tr th {\n",
       "        vertical-align: top;\n",
       "    }\n",
       "\n",
       "    .dataframe thead th {\n",
       "        text-align: right;\n",
       "    }\n",
       "</style>\n",
       "<table border=\"1\" class=\"dataframe\">\n",
       "  <thead>\n",
       "    <tr style=\"text-align: right;\">\n",
       "      <th></th>\n",
       "      <th>index</th>\n",
       "      <th>pronoun_sentence</th>\n",
       "      <th>pronoun</th>\n",
       "      <th>question</th>\n",
       "      <th>result</th>\n",
       "    </tr>\n",
       "  </thead>\n",
       "  <tbody>\n",
       "    <tr>\n",
       "      <th>0</th>\n",
       "      <td>0</td>\n",
       "      <td>Inimeste kaasamine ettevõtte tuleviku planeeri...</td>\n",
       "      <td>neile</td>\n",
       "      <td>kellele tagasiside andmine ja nende arendamine ?</td>\n",
       "      <td>{\"answer\": \"inimestele\"}</td>\n",
       "    </tr>\n",
       "    <tr>\n",
       "      <th>1</th>\n",
       "      <td>1</td>\n",
       "      <td>Inimeste kaasamine ettevõtte tuleviku planeeri...</td>\n",
       "      <td>nende</td>\n",
       "      <td>kelle arendamine ?</td>\n",
       "      <td>None</td>\n",
       "    </tr>\n",
       "    <tr>\n",
       "      <th>2</th>\n",
       "      <td>2</td>\n",
       "      <td>1 ) Eesti kodaniku abikaasat ,  **kes**  taotl...</td>\n",
       "      <td>kes</td>\n",
       "      <td>kes taotleb elamisluba käesoleva seaduse § 12 ...</td>\n",
       "      <td>None</td>\n",
       "    </tr>\n",
       "    <tr>\n",
       "      <th>3</th>\n",
       "      <td>3</td>\n",
       "      <td>Viimasel etapil hoidis tiirudes kõik märgid ma...</td>\n",
       "      <td>millega</td>\n",
       "      <td>millega Eesti teenis 10 MK punkti ?</td>\n",
       "      <td>None</td>\n",
       "    </tr>\n",
       "    <tr>\n",
       "      <th>4</th>\n",
       "      <td>4</td>\n",
       "      <td>Õnneks mehed siiski päästeti , sest  **nad**  ...</td>\n",
       "      <td>nad</td>\n",
       "      <td>kes taipasid kiiresti telefonist SIM-kaardi ee...</td>\n",
       "      <td>None</td>\n",
       "    </tr>\n",
       "    <tr>\n",
       "      <th>...</th>\n",
       "      <td>...</td>\n",
       "      <td>...</td>\n",
       "      <td>...</td>\n",
       "      <td>...</td>\n",
       "      <td>...</td>\n",
       "    </tr>\n",
       "    <tr>\n",
       "      <th>1066</th>\n",
       "      <td>1066</td>\n",
       "      <td>Tallinnale annetas selle Taani kuningas Valdem...</td>\n",
       "      <td>kes</td>\n",
       "      <td>kes kasutas annetuseks üht oma vapivälja ?</td>\n",
       "      <td>None</td>\n",
       "    </tr>\n",
       "    <tr>\n",
       "      <th>1067</th>\n",
       "      <td>1067</td>\n",
       "      <td>Kuid ärgem unustagem peegleid : need kolm läik...</td>\n",
       "      <td>need</td>\n",
       "      <td>mis kus teadupärast olemas on ?</td>\n",
       "      <td>None</td>\n",
       "    </tr>\n",
       "    <tr>\n",
       "      <th>1068</th>\n",
       "      <td>1068</td>\n",
       "      <td>Taustal oli ka riigis ülipopulaarne Poola päri...</td>\n",
       "      <td>kelle</td>\n",
       "      <td>kelle mõju ?</td>\n",
       "      <td>None</td>\n",
       "    </tr>\n",
       "    <tr>\n",
       "      <th>1069</th>\n",
       "      <td>1069</td>\n",
       "      <td>Sa ei viska aga pärast hoolikalt planeeritud m...</td>\n",
       "      <td>ta</td>\n",
       "      <td>kes paned oma riidekappi , mis on esimene koht...</td>\n",
       "      <td>None</td>\n",
       "    </tr>\n",
       "    <tr>\n",
       "      <th>1070</th>\n",
       "      <td>1070</td>\n",
       "      <td>Sa ei viska aga pärast hoolikalt planeeritud m...</td>\n",
       "      <td>mis</td>\n",
       "      <td>mis on esimene koht , kuhu politsei vaatab ?</td>\n",
       "      <td>None</td>\n",
       "    </tr>\n",
       "  </tbody>\n",
       "</table>\n",
       "<p>1071 rows × 5 columns</p>\n",
       "</div>"
      ],
      "text/plain": [
       "      index                                   pronoun_sentence  pronoun  \\\n",
       "0         0  Inimeste kaasamine ettevõtte tuleviku planeeri...    neile   \n",
       "1         1  Inimeste kaasamine ettevõtte tuleviku planeeri...    nende   \n",
       "2         2  1 ) Eesti kodaniku abikaasat ,  **kes**  taotl...      kes   \n",
       "3         3  Viimasel etapil hoidis tiirudes kõik märgid ma...  millega   \n",
       "4         4  Õnneks mehed siiski päästeti , sest  **nad**  ...      nad   \n",
       "...     ...                                                ...      ...   \n",
       "1066   1066  Tallinnale annetas selle Taani kuningas Valdem...      kes   \n",
       "1067   1067  Kuid ärgem unustagem peegleid : need kolm läik...     need   \n",
       "1068   1068  Taustal oli ka riigis ülipopulaarne Poola päri...    kelle   \n",
       "1069   1069  Sa ei viska aga pärast hoolikalt planeeritud m...       ta   \n",
       "1070   1070  Sa ei viska aga pärast hoolikalt planeeritud m...      mis   \n",
       "\n",
       "                                               question  \\\n",
       "0      kellele tagasiside andmine ja nende arendamine ?   \n",
       "1                                    kelle arendamine ?   \n",
       "2     kes taotleb elamisluba käesoleva seaduse § 12 ...   \n",
       "3                   millega Eesti teenis 10 MK punkti ?   \n",
       "4     kes taipasid kiiresti telefonist SIM-kaardi ee...   \n",
       "...                                                 ...   \n",
       "1066         kes kasutas annetuseks üht oma vapivälja ?   \n",
       "1067                    mis kus teadupärast olemas on ?   \n",
       "1068                                       kelle mõju ?   \n",
       "1069  kes paned oma riidekappi , mis on esimene koht...   \n",
       "1070       mis on esimene koht , kuhu politsei vaatab ?   \n",
       "\n",
       "                        result  \n",
       "0     {\"answer\": \"inimestele\"}  \n",
       "1                         None  \n",
       "2                         None  \n",
       "3                         None  \n",
       "4                         None  \n",
       "...                        ...  \n",
       "1066                      None  \n",
       "1067                      None  \n",
       "1068                      None  \n",
       "1069                      None  \n",
       "1070                      None  \n",
       "\n",
       "[1071 rows x 5 columns]"
      ]
     },
     "execution_count": 8,
     "metadata": {},
     "output_type": "execute_result"
    }
   ],
   "source": [
    "result"
   ]
  },
  {
   "cell_type": "code",
   "execution_count": 9,
   "id": "c50652c4-9239-49a6-a38b-a20e0aba7bc9",
   "metadata": {},
   "outputs": [],
   "source": [
    "result.to_csv('output_data/anaphora_resolution_with_free_answer_and_constructed_question.csv')"
   ]
  },
  {
   "cell_type": "markdown",
   "id": "94d2edd0-7f3b-4f9f-a2d4-f422cc6e4d51",
   "metadata": {},
   "source": [
    "### Manually corrected question"
   ]
  },
  {
   "cell_type": "code",
   "execution_count": 10,
   "id": "706cf91d-7b6d-4e8e-ada5-84e2302e692c",
   "metadata": {},
   "outputs": [
    {
     "data": {
      "application/vnd.jupyter.widget-view+json": {
       "model_id": "de33fd2fd4cc42f682279489e8764b46",
       "version_major": 2,
       "version_minor": 0
      },
      "text/plain": [
       "  0%|          | 0/1071 [00:00<?, ?it/s]"
      ]
     },
     "metadata": {},
     "output_type": "display_data"
    }
   ],
   "source": [
    "result = tbl[['pronoun_sentence', 'pronoun', 'question_fix']].reset_index(names='index').assign(result=None)\n",
    "for i,  (_, sentence, pronoun, question, _) in tqdm(result.iterrows(), total=len(result)):\n",
    "    if not isinstance(question, str):\n",
    "        continue\n",
    "    full_prompt = prompt.format(sentence=sentence.replace('**', ''), question=question)\n",
    "    result.loc[i, 'result'] = ask_openai(gpt_conf, full_prompt)"
   ]
  },
  {
   "cell_type": "code",
   "execution_count": 11,
   "id": "e99afc88-67fe-4158-ba20-77fc2458a7f3",
   "metadata": {},
   "outputs": [],
   "source": [
    "result.to_csv('output_data/anaphora_resolution_with_free_answer_and_manually_corrected_questions.csv')"
   ]
  }
 ],
 "metadata": {
  "kernelspec": {
   "display_name": "Python 3 (ipykernel)",
   "language": "python",
   "name": "python3"
  },
  "language_info": {
   "codemirror_mode": {
    "name": "ipython",
    "version": 3
   },
   "file_extension": ".py",
   "mimetype": "text/x-python",
   "name": "python",
   "nbconvert_exporter": "python",
   "pygments_lexer": "ipython3",
   "version": "3.9.19"
  }
 },
 "nbformat": 4,
 "nbformat_minor": 5
}
